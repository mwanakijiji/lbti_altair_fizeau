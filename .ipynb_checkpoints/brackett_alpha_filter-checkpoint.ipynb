{
 "cells": [
  {
   "cell_type": "code",
   "execution_count": null,
   "metadata": {
    "collapsed": true
   },
   "outputs": [],
   "source": [
    "# This reads in transmission data on our Brackett-alpha filter\n",
    "\n",
    "# created 2018 Oct. 25 by E.S."
   ]
  },
  {
   "cell_type": "code",
   "execution_count": 20,
   "metadata": {
    "collapsed": false
   },
   "outputs": [],
   "source": [
    "import matplotlib\n",
    "import numpy as np\n",
    "import matplotlib.pyplot as plt\n",
    "import pandas as pd\n",
    "import scipy\n",
    "from scipy.interpolate import interp1d\n",
    "from scipy import interpolate\n",
    "%matplotlib inline "
   ]
  },
  {
   "cell_type": "code",
   "execution_count": 5,
   "metadata": {
    "collapsed": false
   },
   "outputs": [],
   "source": [
    "# read in model data\n",
    "\n",
    "br_alpha_on = pd.read_csv('./other_data/br-alpha_NDC.txt', delim_whitespace=True)"
   ]
  },
  {
   "cell_type": "code",
   "execution_count": 11,
   "metadata": {
    "collapsed": true
   },
   "outputs": [],
   "source": [
    "trans_77_max = np.max(br_alpha_on['Trans_77'])\n",
    "trans_77_normzed = np.divide(br_alpha_on['Trans_77'],trans_77_max)"
   ]
  },
  {
   "cell_type": "code",
   "execution_count": 26,
   "metadata": {
    "collapsed": false
   },
   "outputs": [
    {
     "data": {
      "text/plain": [
       "array([ 4.01118518,  4.09197214])"
      ]
     },
     "execution_count": 26,
     "metadata": {},
     "output_type": "execute_result"
    }
   ],
   "source": [
    "# interpolate: at what wavelength is transmission 1/e of the maximum?\n",
    "\n",
    "yToFind = np.exp(-1)\n",
    "yreduced = trans_77_normzed - yToFind\n",
    "freduced = interpolate.UnivariateSpline(br_alpha_on['Wavelength'], yreduced, s=0)\n",
    "freduced.roots()\n",
    "\n",
    "#f2 = interp1d(br_alpha_on['Wavelength'], trans_77_normzed, kind='cubic')\n",
    "\n",
    "#equivMass_ageCeiling = f2(np.exp(-1))"
   ]
  },
  {
   "cell_type": "code",
   "execution_count": 28,
   "metadata": {
    "collapsed": false
   },
   "outputs": [
    {
     "name": "stdout",
     "output_type": "stream",
     "text": [
      "4.05157866414\n"
     ]
    }
   ],
   "source": [
    "# central wavelength\n",
    "\n",
    "print(freduced.roots()[0]+ 0.5*(freduced.roots()[1]-freduced.roots()[0]))"
   ]
  },
  {
   "cell_type": "code",
   "execution_count": 25,
   "metadata": {
    "collapsed": false
   },
   "outputs": [
    {
     "name": "stdout",
     "output_type": "stream",
     "text": [
      "Using matplotlib backend: TkAgg\n"
     ]
    },
    {
     "data": {
      "image/png": "[encoded data removed]",
      "text/plain": [
       "<Figure size 600x400 with 1 Axes>"
      ]
     },
     "metadata": {},
     "output_type": "display_data"
    }
   ],
   "source": [
    "%matplotlib auto \n",
    "plt.plot(br_alpha_on['Wavelength'], yreduced)\n",
    "plt.show()"
   ]
  },
  {
   "cell_type": "code",
   "execution_count": 10,
   "metadata": {
    "collapsed": false
   },
   "outputs": [
    {
     "data": {
      "text/plain": [
       "0.36787944117144233"
      ]
     },
     "execution_count": 10,
     "metadata": {},
     "output_type": "execute_result"
    }
   ],
   "source": [
    "np.multiply(1,np.exp(-1))"
   ]
  },
  {
   "cell_type": "code",
   "execution_count": 14,
   "metadata": {
    "collapsed": false
   },
   "outputs": [
    {
     "ename": "ValueError",
     "evalue": "x and y must have same first dimension, but have shapes (4001,) and (1,)",
     "output_type": "error",
     "traceback": [
      "\u001b[0;31m---------------------------------------------------------------------------\u001b[0m",
      "\u001b[0;31mValueError\u001b[0m                                Traceback (most recent call last)",
      "\u001b[0;32m<ipython-input-14-167d642001ea>\u001b[0m in \u001b[0;36m<module>\u001b[0;34m()\u001b[0m\n\u001b[0;32m----> 1\u001b[0;31m \u001b[0mplt\u001b[0m\u001b[0;34m.\u001b[0m\u001b[0mplot\u001b[0m\u001b[0;34m(\u001b[0m\u001b[0mbr_alpha_on\u001b[0m\u001b[0;34m[\u001b[0m\u001b[0;34m'Wavelength'\u001b[0m\u001b[0;34m]\u001b[0m\u001b[0;34m,\u001b[0m\u001b[0mf2\u001b[0m\u001b[0;34m)\u001b[0m \u001b[0;31m# transmission at cryo\u001b[0m\u001b[0;34m\u001b[0m\u001b[0m\n\u001b[0m\u001b[1;32m      2\u001b[0m \u001b[0;31m#plt.plot(br_alpha_on['Wavelength'],trans_77_normzed) # transmission at cryo\u001b[0m\u001b[0;34m\u001b[0m\u001b[0;34m\u001b[0m\u001b[0m\n\u001b[1;32m      3\u001b[0m \u001b[0mplt\u001b[0m\u001b[0;34m.\u001b[0m\u001b[0mshow\u001b[0m\u001b[0;34m(\u001b[0m\u001b[0;34m)\u001b[0m\u001b[0;34m\u001b[0m\u001b[0m\n",
      "\u001b[0;32m/Users/nyumbani/anaconda3/lib/python3.5/site-packages/matplotlib/pyplot.py\u001b[0m in \u001b[0;36mplot\u001b[0;34m(*args, **kwargs)\u001b[0m\n\u001b[1;32m   3356\u001b[0m                       mplDeprecation)\n\u001b[1;32m   3357\u001b[0m     \u001b[0;32mtry\u001b[0m\u001b[0;34m:\u001b[0m\u001b[0;34m\u001b[0m\u001b[0m\n\u001b[0;32m-> 3358\u001b[0;31m         \u001b[0mret\u001b[0m \u001b[0;34m=\u001b[0m \u001b[0max\u001b[0m\u001b[0;34m.\u001b[0m\u001b[0mplot\u001b[0m\u001b[0;34m(\u001b[0m\u001b[0;34m*\u001b[0m\u001b[0margs\u001b[0m\u001b[0;34m,\u001b[0m \u001b[0;34m**\u001b[0m\u001b[0mkwargs\u001b[0m\u001b[0;34m)\u001b[0m\u001b[0;34m\u001b[0m\u001b[0m\n\u001b[0m\u001b[1;32m   3359\u001b[0m     \u001b[0;32mfinally\u001b[0m\u001b[0;34m:\u001b[0m\u001b[0;34m\u001b[0m\u001b[0m\n\u001b[1;32m   3360\u001b[0m         \u001b[0max\u001b[0m\u001b[0;34m.\u001b[0m\u001b[0m_hold\u001b[0m \u001b[0;34m=\u001b[0m \u001b[0mwashold\u001b[0m\u001b[0;34m\u001b[0m\u001b[0m\n",
      "\u001b[0;32m/Users/nyumbani/anaconda3/lib/python3.5/site-packages/matplotlib/__init__.py\u001b[0m in \u001b[0;36minner\u001b[0;34m(ax, *args, **kwargs)\u001b[0m\n\u001b[1;32m   1853\u001b[0m                         \u001b[0;34m\"the Matplotlib list!)\"\u001b[0m \u001b[0;34m%\u001b[0m \u001b[0;34m(\u001b[0m\u001b[0mlabel_namer\u001b[0m\u001b[0;34m,\u001b[0m \u001b[0mfunc\u001b[0m\u001b[0;34m.\u001b[0m\u001b[0m__name__\u001b[0m\u001b[0;34m)\u001b[0m\u001b[0;34m,\u001b[0m\u001b[0;34m\u001b[0m\u001b[0m\n\u001b[1;32m   1854\u001b[0m                         RuntimeWarning, stacklevel=2)\n\u001b[0;32m-> 1855\u001b[0;31m             \u001b[0;32mreturn\u001b[0m \u001b[0mfunc\u001b[0m\u001b[0;34m(\u001b[0m\u001b[0max\u001b[0m\u001b[0;34m,\u001b[0m \u001b[0;34m*\u001b[0m\u001b[0margs\u001b[0m\u001b[0;34m,\u001b[0m \u001b[0;34m**\u001b[0m\u001b[0mkwargs\u001b[0m\u001b[0;34m)\u001b[0m\u001b[0;34m\u001b[0m\u001b[0m\n\u001b[0m\u001b[1;32m   1856\u001b[0m \u001b[0;34m\u001b[0m\u001b[0m\n\u001b[1;32m   1857\u001b[0m         inner.__doc__ = _add_data_doc(inner.__doc__,\n",
      "\u001b[0;32m/Users/nyumbani/anaconda3/lib/python3.5/site-packages/matplotlib/axes/_axes.py\u001b[0m in \u001b[0;36mplot\u001b[0;34m(self, *args, **kwargs)\u001b[0m\n\u001b[1;32m   1525\u001b[0m         \u001b[0mkwargs\u001b[0m \u001b[0;34m=\u001b[0m \u001b[0mcbook\u001b[0m\u001b[0;34m.\u001b[0m\u001b[0mnormalize_kwargs\u001b[0m\u001b[0;34m(\u001b[0m\u001b[0mkwargs\u001b[0m\u001b[0;34m,\u001b[0m \u001b[0m_alias_map\u001b[0m\u001b[0;34m)\u001b[0m\u001b[0;34m\u001b[0m\u001b[0m\n\u001b[1;32m   1526\u001b[0m \u001b[0;34m\u001b[0m\u001b[0m\n\u001b[0;32m-> 1527\u001b[0;31m         \u001b[0;32mfor\u001b[0m \u001b[0mline\u001b[0m \u001b[0;32min\u001b[0m \u001b[0mself\u001b[0m\u001b[0;34m.\u001b[0m\u001b[0m_get_lines\u001b[0m\u001b[0;34m(\u001b[0m\u001b[0;34m*\u001b[0m\u001b[0margs\u001b[0m\u001b[0;34m,\u001b[0m \u001b[0;34m**\u001b[0m\u001b[0mkwargs\u001b[0m\u001b[0;34m)\u001b[0m\u001b[0;34m:\u001b[0m\u001b[0;34m\u001b[0m\u001b[0m\n\u001b[0m\u001b[1;32m   1528\u001b[0m             \u001b[0mself\u001b[0m\u001b[0;34m.\u001b[0m\u001b[0madd_line\u001b[0m\u001b[0;34m(\u001b[0m\u001b[0mline\u001b[0m\u001b[0;34m)\u001b[0m\u001b[0;34m\u001b[0m\u001b[0m\n\u001b[1;32m   1529\u001b[0m             \u001b[0mlines\u001b[0m\u001b[0;34m.\u001b[0m\u001b[0mappend\u001b[0m\u001b[0;34m(\u001b[0m\u001b[0mline\u001b[0m\u001b[0;34m)\u001b[0m\u001b[0;34m\u001b[0m\u001b[0m\n",
      "\u001b[0;32m/Users/nyumbani/anaconda3/lib/python3.5/site-packages/matplotlib/axes/_base.py\u001b[0m in \u001b[0;36m_grab_next_args\u001b[0;34m(self, *args, **kwargs)\u001b[0m\n\u001b[1;32m    404\u001b[0m                 \u001b[0mthis\u001b[0m \u001b[0;34m+=\u001b[0m \u001b[0margs\u001b[0m\u001b[0;34m[\u001b[0m\u001b[0;36m0\u001b[0m\u001b[0;34m]\u001b[0m\u001b[0;34m,\u001b[0m\u001b[0;34m\u001b[0m\u001b[0m\n\u001b[1;32m    405\u001b[0m                 \u001b[0margs\u001b[0m \u001b[0;34m=\u001b[0m \u001b[0margs\u001b[0m\u001b[0;34m[\u001b[0m\u001b[0;36m1\u001b[0m\u001b[0;34m:\u001b[0m\u001b[0;34m]\u001b[0m\u001b[0;34m\u001b[0m\u001b[0m\n\u001b[0;32m--> 406\u001b[0;31m             \u001b[0;32mfor\u001b[0m \u001b[0mseg\u001b[0m \u001b[0;32min\u001b[0m \u001b[0mself\u001b[0m\u001b[0;34m.\u001b[0m\u001b[0m_plot_args\u001b[0m\u001b[0;34m(\u001b[0m\u001b[0mthis\u001b[0m\u001b[0;34m,\u001b[0m \u001b[0mkwargs\u001b[0m\u001b[0;34m)\u001b[0m\u001b[0;34m:\u001b[0m\u001b[0;34m\u001b[0m\u001b[0m\n\u001b[0m\u001b[1;32m    407\u001b[0m                 \u001b[0;32myield\u001b[0m \u001b[0mseg\u001b[0m\u001b[0;34m\u001b[0m\u001b[0m\n\u001b[1;32m    408\u001b[0m \u001b[0;34m\u001b[0m\u001b[0m\n",
      "\u001b[0;32m/Users/nyumbani/anaconda3/lib/python3.5/site-packages/matplotlib/axes/_base.py\u001b[0m in \u001b[0;36m_plot_args\u001b[0;34m(self, tup, kwargs)\u001b[0m\n\u001b[1;32m    381\u001b[0m             \u001b[0mx\u001b[0m\u001b[0;34m,\u001b[0m \u001b[0my\u001b[0m \u001b[0;34m=\u001b[0m \u001b[0mindex_of\u001b[0m\u001b[0;34m(\u001b[0m\u001b[0mtup\u001b[0m\u001b[0;34m[\u001b[0m\u001b[0;34m-\u001b[0m\u001b[0;36m1\u001b[0m\u001b[0;34m]\u001b[0m\u001b[0;34m)\u001b[0m\u001b[0;34m\u001b[0m\u001b[0m\n\u001b[1;32m    382\u001b[0m \u001b[0;34m\u001b[0m\u001b[0m\n\u001b[0;32m--> 383\u001b[0;31m         \u001b[0mx\u001b[0m\u001b[0;34m,\u001b[0m \u001b[0my\u001b[0m \u001b[0;34m=\u001b[0m \u001b[0mself\u001b[0m\u001b[0;34m.\u001b[0m\u001b[0m_xy_from_xy\u001b[0m\u001b[0;34m(\u001b[0m\u001b[0mx\u001b[0m\u001b[0;34m,\u001b[0m \u001b[0my\u001b[0m\u001b[0;34m)\u001b[0m\u001b[0;34m\u001b[0m\u001b[0m\n\u001b[0m\u001b[1;32m    384\u001b[0m \u001b[0;34m\u001b[0m\u001b[0m\n\u001b[1;32m    385\u001b[0m         \u001b[0;32mif\u001b[0m \u001b[0mself\u001b[0m\u001b[0;34m.\u001b[0m\u001b[0mcommand\u001b[0m \u001b[0;34m==\u001b[0m \u001b[0;34m'plot'\u001b[0m\u001b[0;34m:\u001b[0m\u001b[0;34m\u001b[0m\u001b[0m\n",
      "\u001b[0;32m/Users/nyumbani/anaconda3/lib/python3.5/site-packages/matplotlib/axes/_base.py\u001b[0m in \u001b[0;36m_xy_from_xy\u001b[0;34m(self, x, y)\u001b[0m\n\u001b[1;32m    240\u001b[0m         \u001b[0;32mif\u001b[0m \u001b[0mx\u001b[0m\u001b[0;34m.\u001b[0m\u001b[0mshape\u001b[0m\u001b[0;34m[\u001b[0m\u001b[0;36m0\u001b[0m\u001b[0;34m]\u001b[0m \u001b[0;34m!=\u001b[0m \u001b[0my\u001b[0m\u001b[0;34m.\u001b[0m\u001b[0mshape\u001b[0m\u001b[0;34m[\u001b[0m\u001b[0;36m0\u001b[0m\u001b[0;34m]\u001b[0m\u001b[0;34m:\u001b[0m\u001b[0;34m\u001b[0m\u001b[0m\n\u001b[1;32m    241\u001b[0m             raise ValueError(\"x and y must have same first dimension, but \"\n\u001b[0;32m--> 242\u001b[0;31m                              \"have shapes {} and {}\".format(x.shape, y.shape))\n\u001b[0m\u001b[1;32m    243\u001b[0m         \u001b[0;32mif\u001b[0m \u001b[0mx\u001b[0m\u001b[0;34m.\u001b[0m\u001b[0mndim\u001b[0m \u001b[0;34m>\u001b[0m \u001b[0;36m2\u001b[0m \u001b[0;32mor\u001b[0m \u001b[0my\u001b[0m\u001b[0;34m.\u001b[0m\u001b[0mndim\u001b[0m \u001b[0;34m>\u001b[0m \u001b[0;36m2\u001b[0m\u001b[0;34m:\u001b[0m\u001b[0;34m\u001b[0m\u001b[0m\n\u001b[1;32m    244\u001b[0m             raise ValueError(\"x and y can be no greater than 2-D, but have \"\n",
      "\u001b[0;31mValueError\u001b[0m: x and y must have same first dimension, but have shapes (4001,) and (1,)"
     ]
    },
    {
     "data": {
      "image/png": "[encoded data removed]",
      "text/plain": [
       "<Figure size 600x400 with 1 Axes>"
      ]
     },
     "metadata": {},
     "output_type": "display_data"
    }
   ],
   "source": [
    "plt.plot(br_alpha_on['Wavelength'],f2) # transmission at cryo\n",
    "#plt.plot(br_alpha_on['Wavelength'],trans_77_normzed) # transmission at cryo\n",
    "plt.show()"
   ]
  },
  {
   "cell_type": "code",
   "execution_count": 3,
   "metadata": {
    "collapsed": true
   },
   "outputs": [],
   "source": [
    "# measurements of apparent mag differences\n",
    "\n",
    "del_m_Lprime_DA = [9.27,0.01] # delta_mag between D and A in L', w/ +- uncertainty\n",
    "del_m_H_DB = [6.43,0.008]\n",
    "del_m_Ks_DB = [6.48,0.008]\n",
    "del_m_Ls_DB = [6.68,0.02]"
   ]
  },
  {
   "cell_type": "code",
   "execution_count": 4,
   "metadata": {
    "collapsed": true
   },
   "outputs": [],
   "source": [
    "# literature measurements (note some are multiple)\n",
    "\n",
    "m_J_A = 2.75 # i.e., apparent J-mag of A\n",
    "m_H_A = 2.95\n",
    "m_K_A = [2.66,2.81]\n",
    "m_V_A = [2.85,2.89]\n",
    "Mabs_V_A = -0.9 # abs mag\n",
    "\n",
    "#m_H_B = 5.83\n",
    "m_V_B = [6.5,8.5]\n",
    "\n",
    "d_delCyg = 50.6 # Hipparcos distance (pc)\n",
    "age_delCyg = 0.35 # age (Gyr)"
   ]
  },
  {
   "cell_type": "code",
   "execution_count": 5,
   "metadata": {
    "collapsed": true
   },
   "outputs": [],
   "source": [
    "# fcn to find abs mag\n",
    "\n",
    "def absMag(appMagPass, distPass):\n",
    "    \n",
    "    return appMagPass - 5*np.log10(np.divide(distPass,10.))"
   ]
  },
  {
   "cell_type": "code",
   "execution_count": 6,
   "metadata": {
    "collapsed": false
   },
   "outputs": [],
   "source": [
    "# find rows just above and just below a given magnitude\n",
    "\n",
    "def mag2mass(ageFloor,\n",
    "             magsAgeFloor,\n",
    "             massesAgeFloor,\n",
    "             ageCeiling,\n",
    "             magsAgeCeiling,\n",
    "             massesAgeCeiling,\n",
    "             magOfInterest,\n",
    "             ageSystem,\n",
    "             plotTitle):\n",
    "    \n",
    "    # INPUTS:\n",
    "    # ageFloor: the age of the model data just BELOW the age of the system of interest (Gyr)\n",
    "    # magsAgeFloor: list of magnitudes which will be used for the interpolation at the age just BELOW that of the system of interest\n",
    "    # massesAgeFloor: \" \" masses \" \"\n",
    "    # ageCeiling: the age of the model data just ABOVE the age of the system of interest (Gyr)\n",
    "    # magsAgeCeiling: list of magnitudes which will be used for the interpolation at the age just ABOVE that of the system of interest\n",
    "    # massesAgeCeiling: \" \" masses \" \"    \n",
    "    # magOfInterest: the one magnitude whose equivalent mass I want to find\n",
    "    # ageSystem: the age of the system of interest\n",
    "    # plotTitle: like it sounds\n",
    "        \n",
    "    # interpolate data for the age floor\n",
    "    f_ageFloor = interp1d(magsAgeFloor,massesAgeFloor,bounds_error=False)\n",
    "    equivMass_ageFloor = f_ageFloor(magOfInterest)\n",
    "    \n",
    "    # interpolate data for the age ceiling\n",
    "    f_ageCeiling = interp1d(magsAgeCeiling,massesAgeCeiling,bounds_error=False)\n",
    "    equivMass_ageCeiling = f_ageCeiling(magOfInterest)\n",
    "    \n",
    "    # now interpolate the masses themselves (sketchy!)\n",
    "    f_ageSystem = interp1d([ageFloor,ageCeiling],[equivMass_ageFloor,equivMass_ageCeiling],bounds_error=False)\n",
    "    equivMass_ageSystem = f_ageSystem(ageSystem)\n",
    "    \n",
    "    # plot it\n",
    "    xnew = np.linspace(np.min(magsAgeFloor),np.max(magsAgeFloor),num=100) # mags\n",
    "    ynew_ageFloor = f_ageFloor(xnew)\n",
    "    ynew_ageCeiling = f_ageCeiling(xnew)    \n",
    "    plt.plot(xnew,ynew_ageFloor,color='grey', zorder=1)\n",
    "    plt.plot(xnew,ynew_ageCeiling,color='grey', zorder=1)\n",
    "    plt.scatter(magsAgeFloor,massesAgeFloor,color='cornflowerblue', zorder=2)\n",
    "    plt.scatter(magsAgeCeiling,massesAgeCeiling,color='thistle', zorder=2)\n",
    "    #plt.scatter([magOfInterest],[equivMass_ageFloor],)\n",
    "    #plt.scatter([magOfInterest],[equivMass_ageCeiling])\n",
    "    plt.axhline(y=equivMass_ageSystem, color='k', linestyle='--', zorder=3)\n",
    "    plt.scatter([magOfInterest],[equivMass_ageSystem],color='red',s=100, zorder=4)\n",
    "    plt.fill_between(xnew, 0.013, 0.08, color='grey', alpha=0.5)\n",
    "    plt.xlim([np.min(xnew),np.max(xnew)])\n",
    "    plt.ylim([0,0.3])\n",
    "    plt.title(plotTitle)\n",
    "    plt.xlabel('M (abs mag)')\n",
    "    plt.ylabel('Mass ($M/M_{\\odot}$)')\n",
    "    plt.show()\n",
    "    \n",
    "    return [equivMass_ageFloor,equivMass_ageCeiling,equivMass_ageSystem]"
   ]
  },
  {
   "cell_type": "code",
   "execution_count": 7,
   "metadata": {
    "collapsed": true
   },
   "outputs": [],
   "source": [
    "# convert literature measurements of A into filters we used\n",
    "\n",
    "m_Lprime_A_calc = np.copy(m_K_A) # K-L'=0.00 for a B9 star\n",
    "m_H_A_calc = np.copy(m_H_A) # already measured\n",
    "m_Ks_A_calc = np.copy(m_K_A) # K-Ks=0.00, probably\n",
    "m_Ls_A_calc = np.add(m_K_A,0.02) # K-Ls=-0.02 (estimate)"
   ]
  },
  {
   "cell_type": "code",
   "execution_count": 8,
   "metadata": {
    "collapsed": true
   },
   "outputs": [],
   "source": [
    "# convert literature measurements of B into filters we used\n",
    "\n",
    "m_K_B_calc = np.subtract(m_V_B,0.82) # V-K=0.82\n",
    "m_H_B_calc = np.add(m_K_B_calc,0.04) # H-K=0.04\n",
    "m_Lprime_B_calc = np.subtract(m_K_B_calc,0.03) # K-L'=0.03\n",
    "m_Ks_B_calc = np.copy(m_K_B_calc) # K-Ks=0.00, probably\n",
    "m_Ls_B_calc = np.subtract(m_K_B_calc,0.02) # K-Ls=0.02 (estimate)"
   ]
  },
  {
   "cell_type": "code",
   "execution_count": 9,
   "metadata": {
    "collapsed": true
   },
   "outputs": [],
   "source": [
    "# find apparent mag of component D\n",
    "\n",
    "m_Lprime_D_basedOnA = np.add(m_Lprime_A_calc,del_m_Lprime_DA[0])\n",
    "\n",
    "m_H_D_basedOnB = np.add(m_H_B_calc,del_m_H_DB[0])\n",
    "m_Ks_D_basedOnB = np.add(m_Ks_B_calc,del_m_Ks_DB[0])\n",
    "m_Ls_D_basedOnB = np.add(m_Ls_B_calc,del_m_Ls_DB[0])"
   ]
  },
  {
   "cell_type": "code",
   "execution_count": 10,
   "metadata": {
    "collapsed": false
   },
   "outputs": [
    {
     "name": "stdout",
     "output_type": "stream",
     "text": [
      "[ 11.93  12.08]\n",
      "[ 12.15  14.15]\n",
      "[ 12.16  14.16]\n",
      "[ 12.34  14.34]\n"
     ]
    }
   ],
   "source": [
    "print(m_Lprime_D_basedOnA)\n",
    "print(m_H_D_basedOnB)\n",
    "print(m_Ks_D_basedOnB)\n",
    "print(m_Ls_D_basedOnB)"
   ]
  },
  {
   "cell_type": "code",
   "execution_count": 11,
   "metadata": {
    "collapsed": true
   },
   "outputs": [],
   "source": [
    "# find abs mag of D\n",
    "\n",
    "Mabs_Lprime_D = absMag(m_Lprime_D_basedOnA, d_delCyg)\n",
    "Mabs_H_D = absMag(m_H_D_basedOnB, d_delCyg)\n",
    "Mabs_Ks_D = absMag(m_Ks_D_basedOnB, d_delCyg)\n",
    "Mabs_Ls_D = absMag(m_Ls_D_basedOnB, d_delCyg)"
   ]
  },
  {
   "cell_type": "code",
   "execution_count": 12,
   "metadata": {
    "collapsed": false
   },
   "outputs": [
    {
     "name": "stdout",
     "output_type": "stream",
     "text": [
      "[ 8.40924742  8.55924742]\n",
      "[  8.62924742  10.62924742]\n",
      "[  8.63924742  10.63924742]\n",
      "[  8.81924742  10.81924742]\n"
     ]
    }
   ],
   "source": [
    "print(Mabs_Lprime_D)\n",
    "print(Mabs_H_D)\n",
    "print(Mabs_Ks_D)\n",
    "print(Mabs_Ls_D)"
   ]
  },
  {
   "cell_type": "code",
   "execution_count": 37,
   "metadata": {
    "collapsed": false
   },
   "outputs": [
    {
     "data": {
      "text/plain": [
       "[array(0.12285505263085139),\n",
       " array(0.12664320590362577),\n",
       " array(0.12474912926723858)]"
      ]
     },
     "execution_count": 37,
     "metadata": {},
     "output_type": "execute_result"
    }
   ],
   "source": [
    "# find masses from del_mag L' from A (Ames models)\n",
    "\n",
    "mag2mass(0.3, \n",
    "         ames_300Myr['Lp'], \n",
    "         ames_300Myr['M/Ms'], \n",
    "         0.4, \n",
    "         ames_400Myr['Lp'], \n",
    "         ames_400Myr['M/Ms'], \n",
    "         Mabs_Lprime_D[0],\n",
    "         0.35,\n",
    "        'Companion D mass\\n(based on Ls + component A + Ames models)\\nred = age-interpolated mass of D; grey shading = BDs; cornflowerblue = 300 Myr; thistle = 400 Myr')"
   ]
  },
  {
   "cell_type": "code",
   "execution_count": 15,
   "metadata": {
    "collapsed": false
   },
   "outputs": [
    {
     "data": {
      "text/plain": [
       "[array(0.06363482619216397),\n",
       " array(0.07138644194542414),\n",
       " array(0.06751063406879405)]"
      ]
     },
     "execution_count": 15,
     "metadata": {},
     "output_type": "execute_result"
    }
   ],
   "source": [
    "# find masses from del_mag H from B (Ames models)\n",
    "\n",
    "mag2mass(0.3, \n",
    "         ames_300Myr['H'], \n",
    "         ames_300Myr['M/Ms'], \n",
    "         0.4, \n",
    "         ames_400Myr['H'], \n",
    "         ames_400Myr['M/Ms'], \n",
    "         Mabs_H_D[0],\n",
    "         0.35,\n",
    "        'Companion D mass\\n(based on H + component B (mV=--) + Ames models)\\nred = age-interpolated mass of D; grey shading = BDs; cornflowerblue = 300 Myr; thistle = 400 Myr')"
   ]
  },
  {
   "cell_type": "code",
   "execution_count": 28,
   "metadata": {
    "collapsed": false
   },
   "outputs": [
    {
     "data": {
      "text/plain": [
       "[array(0.05355408017370751),\n",
       " array(0.06108031072096283),\n",
       " array(0.05731719544733517)]"
      ]
     },
     "execution_count": 28,
     "metadata": {},
     "output_type": "execute_result"
    }
   ],
   "source": [
    "# find masses from del_mag Ks from B (Ames models)\n",
    "\n",
    "mag2mass(0.3, \n",
    "         ames_300Myr['Ks'], \n",
    "         ames_300Myr['M/Ms'], \n",
    "         0.4, \n",
    "         ames_400Myr['Ks'], \n",
    "         ames_400Myr['M/Ms'], \n",
    "         Mabs_Ks_D[1],\n",
    "         0.35,\n",
    "        'Companion D mass\\n(based on Ks + component B (mV=8.5) + Ames models)\\nred = age-interpolated mass of D; grey shading = BDs; cornflowerblue = 300 Myr; thistle = 400 Myr')"
   ]
  },
  {
   "cell_type": "code",
   "execution_count": 26,
   "metadata": {
    "collapsed": false
   },
   "outputs": [
    {
     "data": {
      "text/plain": [
       "array([  8.63924742,  10.63924742])"
      ]
     },
     "execution_count": 26,
     "metadata": {},
     "output_type": "execute_result"
    }
   ],
   "source": [
    "Mabs_Ks_D"
   ]
  },
  {
   "cell_type": "code",
   "execution_count": 30,
   "metadata": {
    "collapsed": false
   },
   "outputs": [
    {
     "data": {
      "text/plain": [
       "[array(0.07629703651243729), array(nan), array(nan)]"
      ]
     },
     "execution_count": 30,
     "metadata": {},
     "output_type": "execute_result"
    }
   ],
   "source": [
    "# find masses from del_mag L' from A (COND models)\n",
    "\n",
    "mag2mass(0.12, \n",
    "         cond03_120Myr['Mll'], \n",
    "         cond03_120Myr['M/Ms'], \n",
    "         0.5, \n",
    "         cond03_500Myr['Mll'], \n",
    "         cond03_500Myr['M/Ms'], \n",
    "         Mabs_Lprime_D[1],\n",
    "         0.35,\n",
    "        'Companion D mass\\n(based on Lprime + component A + COND models)\\nred = age-interpolated mass of D; grey shading = BDs; cornflowerblue = 120 Myr; thistle = 500 Myr')"
   ]
  },
  {
   "cell_type": "code",
   "execution_count": 32,
   "metadata": {
    "collapsed": false
   },
   "outputs": [
    {
     "data": {
      "text/plain": [
       "[array(0.04174524200382686),\n",
       " array(0.0765188146049749),\n",
       " array(0.06279240436767962)]"
      ]
     },
     "execution_count": 32,
     "metadata": {},
     "output_type": "execute_result"
    }
   ],
   "source": [
    "# find masses from del_mag H from B (COND models)\n",
    "\n",
    "mag2mass(0.12, \n",
    "         cond03_120Myr['Mh'], \n",
    "         cond03_120Myr['M/Ms'], \n",
    "         0.5, \n",
    "         cond03_500Myr['Mh'], \n",
    "         cond03_500Myr['M/Ms'], \n",
    "         Mabs_H_D[1],\n",
    "         0.35,\n",
    "        'Companion D mass\\n(based on H + component B (mV=--) + COND models)\\nred = age-interpolated mass of D; grey shading = BDs; cornflowerblue = 120 Myr; thistle = 500 Myr')"
   ]
  },
  {
   "cell_type": "code",
   "execution_count": 25,
   "metadata": {
    "collapsed": false
   },
   "outputs": [
    {
     "data": {
      "text/plain": [
       "[array(0.036892890703883054),\n",
       " array(0.06981505168397992),\n",
       " array(0.056819461823415365)]"
      ]
     },
     "execution_count": 25,
     "metadata": {},
     "output_type": "execute_result"
    }
   ],
   "source": [
    "# find masses from del_mag K/Ks from B (COND models)\n",
    "\n",
    "mag2mass(0.12, \n",
    "         cond03_120Myr['Mk'], \n",
    "         cond03_120Myr['M/Ms'], \n",
    "         0.5, \n",
    "         cond03_500Myr['Mk'], \n",
    "         cond03_500Myr['M/Ms'], \n",
    "         Mabs_Ks_D[0],\n",
    "         0.35,\n",
    "        'Companion D mass\\n(based on Ks + component B (mV=--) + COND models)\\nred = age-interpolated mass of D; grey shading = BDs; cornflowerblue = 120 Myr; thistle = 500 Myr')"
   ]
  }
 ],
 "metadata": {
  "kernelspec": {
   "display_name": "Python 3",
   "language": "python",
   "name": "python3"
  },
  "language_info": {
   "codemirror_mode": {
    "name": "ipython",
    "version": 3
   },
   "file_extension": ".py",
   "mimetype": "text/x-python",
   "name": "python",
   "nbconvert_exporter": "python",
   "pygments_lexer": "ipython3",
   "version": "3.5.4"
  }
 },
 "nbformat": 4,
 "nbformat_minor": 0
}
