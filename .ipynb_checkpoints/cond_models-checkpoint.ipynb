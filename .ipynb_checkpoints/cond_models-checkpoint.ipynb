{
 "cells": [
  {
   "cell_type": "code",
   "execution_count": null,
   "metadata": {
    "collapsed": true
   },
   "outputs": [],
   "source": [
    "# This reads in a table of COND models for \n",
    "\n",
    "# created 2017 Oct 31 by E.S."
   ]
  },
  {
   "cell_type": "code",
   "execution_count": null,
   "metadata": {
    "collapsed": true
   },
   "outputs": [],
   "source": [
    "# A = primary star (delta Cyg itself)\n",
    "# B = secondary\n",
    "# D = low-mass companion of interest"
   ]
  },
  {
   "cell_type": "code",
   "execution_count": 1,
   "metadata": {
    "collapsed": false
   },
   "outputs": [],
   "source": [
    "import matplotlib\n",
    "import numpy as np\n",
    "import matplotlib.pyplot as plt\n",
    "import pandas as pd\n",
    "import scipy\n",
    "from scipy.interpolate import interp1d"
   ]
  },
  {
   "cell_type": "code",
   "execution_count": 2,
   "metadata": {
    "collapsed": true
   },
   "outputs": [],
   "source": [
    "# read in model data\n",
    "\n",
    "cond03_120Myr = pd.read_csv('cond03_120Myr.dat', delim_whitespace=True)\n",
    "cond03_500Myr = pd.read_csv('cond03_500Myr.dat', delim_whitespace=True)\n",
    "ames_300Myr = pd.read_csv('ames_300Myr.dat', delim_whitespace=True)\n",
    "ames_400Myr = pd.read_csv('ames_400Myr.dat', delim_whitespace=True)"
   ]
  },
  {
   "cell_type": "code",
   "execution_count": 3,
   "metadata": {
    "collapsed": true
   },
   "outputs": [],
   "source": [
    "# measurements of apparent mag differences\n",
    "\n",
    "del_m_Lprime_DA = [9.27,0.01] # delta_mag between D and A in L', w/ +- uncertainty\n",
    "del_m_H_DB = [6.43,0.008]\n",
    "del_m_Ks_DB = [6.48,0.008]\n",
    "del_m_Ls_DB = [6.68,0.02]"
   ]
  },
  {
   "cell_type": "code",
   "execution_count": 4,
   "metadata": {
    "collapsed": true
   },
   "outputs": [],
   "source": [
    "# literature measurements (note some are multiple)\n",
    "\n",
    "m_J_A = 2.75 # i.e., apparent J-mag of A\n",
    "m_H_A = 2.95\n",
    "m_K_A = [2.66,2.81]\n",
    "m_V_A = [2.85,2.89]\n",
    "Mabs_V_A = -0.9 # abs mag\n",
    "\n",
    "#m_H_B = 5.83\n",
    "m_V_B = [6.5,8.5]\n",
    "\n",
    "d_delCyg = 50.6 # Hipparcos distance (pc)\n",
    "age_delCyg = 0.35 # age (Gyr)"
   ]
  },
  {
   "cell_type": "code",
   "execution_count": 5,
   "metadata": {
    "collapsed": true
   },
   "outputs": [],
   "source": [
    "# fcn to find abs mag\n",
    "\n",
    "def absMag(appMagPass, distPass):\n",
    "    \n",
    "    return appMagPass - 5*np.log10(np.divide(distPass,10.))"
   ]
  },
  {
   "cell_type": "code",
   "execution_count": 6,
   "metadata": {
    "collapsed": false
   },
   "outputs": [],
   "source": [
    "# find rows just above and just below a given magnitude\n",
    "\n",
    "def mag2mass(ageFloor,\n",
    "             magsAgeFloor,\n",
    "             massesAgeFloor,\n",
    "             ageCeiling,\n",
    "             magsAgeCeiling,\n",
    "             massesAgeCeiling,\n",
    "             magOfInterest,\n",
    "             ageSystem,\n",
    "             plotTitle):\n",
    "    \n",
    "    # INPUTS:\n",
    "    # ageFloor: the age of the model data just BELOW the age of the system of interest (Gyr)\n",
    "    # magsAgeFloor: list of magnitudes which will be used for the interpolation at the age just BELOW that of the system of interest\n",
    "    # massesAgeFloor: \" \" masses \" \"\n",
    "    # ageCeiling: the age of the model data just ABOVE the age of the system of interest (Gyr)\n",
    "    # magsAgeCeiling: list of magnitudes which will be used for the interpolation at the age just ABOVE that of the system of interest\n",
    "    # massesAgeCeiling: \" \" masses \" \"    \n",
    "    # magOfInterest: the one magnitude whose equivalent mass I want to find\n",
    "    # ageSystem: the age of the system of interest\n",
    "    # plotTitle: like it sounds\n",
    "        \n",
    "    # interpolate data for the age floor\n",
    "    f_ageFloor = interp1d(magsAgeFloor,massesAgeFloor,bounds_error=False)\n",
    "    equivMass_ageFloor = f_ageFloor(magOfInterest)\n",
    "    \n",
    "    # interpolate data for the age ceiling\n",
    "    f_ageCeiling = interp1d(magsAgeCeiling,massesAgeCeiling,bounds_error=False)\n",
    "    equivMass_ageCeiling = f_ageCeiling(magOfInterest)\n",
    "    \n",
    "    # now interpolate the masses themselves (sketchy!)\n",
    "    f_ageSystem = interp1d([ageFloor,ageCeiling],[equivMass_ageFloor,equivMass_ageCeiling],bounds_error=False)\n",
    "    equivMass_ageSystem = f_ageSystem(ageSystem)\n",
    "    \n",
    "    # plot it\n",
    "    xnew = np.linspace(np.min(magsAgeFloor),np.max(magsAgeFloor),num=100) # mags\n",
    "    ynew_ageFloor = f_ageFloor(xnew)\n",
    "    ynew_ageCeiling = f_ageCeiling(xnew)    \n",
    "    plt.plot(xnew,ynew_ageFloor,color='grey', zorder=1)\n",
    "    plt.plot(xnew,ynew_ageCeiling,color='grey', zorder=1)\n",
    "    plt.scatter(magsAgeFloor,massesAgeFloor,color='cornflowerblue', zorder=2)\n",
    "    plt.scatter(magsAgeCeiling,massesAgeCeiling,color='thistle', zorder=2)\n",
    "    #plt.scatter([magOfInterest],[equivMass_ageFloor],)\n",
    "    #plt.scatter([magOfInterest],[equivMass_ageCeiling])\n",
    "    plt.axhline(y=equivMass_ageSystem, color='k', linestyle='--', zorder=3)\n",
    "    plt.scatter([magOfInterest],[equivMass_ageSystem],color='red',s=100, zorder=4)\n",
    "    plt.fill_between(xnew, 0.013, 0.08, color='grey', alpha=0.5)\n",
    "    plt.xlim([np.min(xnew),np.max(xnew)])\n",
    "    plt.ylim([0,0.3])\n",
    "    plt.title(plotTitle)\n",
    "    plt.xlabel('M (abs mag)')\n",
    "    plt.ylabel('Mass ($M/M_{\\odot}$)')\n",
    "    plt.show()\n",
    "    \n",
    "    return [equivMass_ageFloor,equivMass_ageCeiling,equivMass_ageSystem]"
   ]
  },
  {
   "cell_type": "code",
   "execution_count": 7,
   "metadata": {
    "collapsed": true
   },
   "outputs": [],
   "source": [
    "# convert literature measurements of A into filters we used\n",
    "\n",
    "m_Lprime_A_calc = np.copy(m_K_A) # K-L'=0.00 for a B9 star\n",
    "m_H_A_calc = np.copy(m_H_A) # already measured\n",
    "m_Ks_A_calc = np.copy(m_K_A) # K-Ks=0.00, probably\n",
    "m_Ls_A_calc = np.add(m_K_A,0.02) # K-Ls=-0.02 (estimate)"
   ]
  },
  {
   "cell_type": "code",
   "execution_count": 8,
   "metadata": {
    "collapsed": true
   },
   "outputs": [],
   "source": [
    "# convert literature measurements of B into filters we used\n",
    "\n",
    "m_K_B_calc = np.subtract(m_V_B,0.82) # V-K=0.82\n",
    "m_H_B_calc = np.add(m_K_B_calc,0.04) # H-K=0.04\n",
    "m_Lprime_B_calc = np.subtract(m_K_B_calc,0.03) # K-L'=0.03\n",
    "m_Ks_B_calc = np.copy(m_K_B_calc) # K-Ks=0.00, probably\n",
    "m_Ls_B_calc = np.subtract(m_K_B_calc,0.02) # K-Ls=0.02 (estimate)"
   ]
  },
  {
   "cell_type": "code",
   "execution_count": 9,
   "metadata": {
    "collapsed": true
   },
   "outputs": [],
   "source": [
    "# find apparent mag of component D\n",
    "\n",
    "m_Lprime_D_basedOnA = np.add(m_Lprime_A_calc,del_m_Lprime_DA[0])\n",
    "\n",
    "m_H_D_basedOnB = np.add(m_H_B_calc,del_m_H_DB[0])\n",
    "m_Ks_D_basedOnB = np.add(m_Ks_B_calc,del_m_Ks_DB[0])\n",
    "m_Ls_D_basedOnB = np.add(m_Ls_B_calc,del_m_Ls_DB[0])"
   ]
  },
  {
   "cell_type": "code",
   "execution_count": 10,
   "metadata": {
    "collapsed": false
   },
   "outputs": [
    {
     "name": "stdout",
     "output_type": "stream",
     "text": [
      "[ 11.93  12.08]\n",
      "[ 12.15  14.15]\n",
      "[ 12.16  14.16]\n",
      "[ 12.34  14.34]\n"
     ]
    }
   ],
   "source": [
    "print(m_Lprime_D_basedOnA)\n",
    "print(m_H_D_basedOnB)\n",
    "print(m_Ks_D_basedOnB)\n",
    "print(m_Ls_D_basedOnB)"
   ]
  },
  {
   "cell_type": "code",
   "execution_count": 11,
   "metadata": {
    "collapsed": true
   },
   "outputs": [],
   "source": [
    "# find abs mag of D\n",
    "\n",
    "Mabs_Lprime_D = absMag(m_Lprime_D_basedOnA, d_delCyg)\n",
    "Mabs_H_D = absMag(m_H_D_basedOnB, d_delCyg)\n",
    "Mabs_Ks_D = absMag(m_Ks_D_basedOnB, d_delCyg)\n",
    "Mabs_Ls_D = absMag(m_Ls_D_basedOnB, d_delCyg)"
   ]
  },
  {
   "cell_type": "code",
   "execution_count": 12,
   "metadata": {
    "collapsed": false
   },
   "outputs": [
    {
     "name": "stdout",
     "output_type": "stream",
     "text": [
      "[ 8.40924742  8.55924742]\n",
      "[  8.62924742  10.62924742]\n",
      "[  8.63924742  10.63924742]\n",
      "[  8.81924742  10.81924742]\n"
     ]
    }
   ],
   "source": [
    "print(Mabs_Lprime_D)\n",
    "print(Mabs_H_D)\n",
    "print(Mabs_Ks_D)\n",
    "print(Mabs_Ls_D)"
   ]
  },
  {
   "cell_type": "code",
   "execution_count": 37,
   "metadata": {
    "collapsed": false
   },
   "outputs": [
    {
     "data": {
      "text/plain": [
       "[array(0.12285505263085139),\n",
       " array(0.12664320590362577),\n",
       " array(0.12474912926723858)]"
      ]
     },
     "execution_count": 37,
     "metadata": {},
     "output_type": "execute_result"
    }
   ],
   "source": [
    "# find masses from del_mag L' from A (Ames models)\n",
    "\n",
    "mag2mass(0.3, \n",
    "         ames_300Myr['Lp'], \n",
    "         ames_300Myr['M/Ms'], \n",
    "         0.4, \n",
    "         ames_400Myr['Lp'], \n",
    "         ames_400Myr['M/Ms'], \n",
    "         Mabs_Lprime_D[0],\n",
    "         0.35,\n",
    "        'Companion D mass\\n(based on Ls + component A + Ames models)\\nred = age-interpolated mass of D; grey shading = BDs; cornflowerblue = 300 Myr; thistle = 400 Myr')"
   ]
  },
  {
   "cell_type": "code",
   "execution_count": 15,
   "metadata": {
    "collapsed": false
   },
   "outputs": [
    {
     "data": {
      "text/plain": [
       "[array(0.06363482619216397),\n",
       " array(0.07138644194542414),\n",
       " array(0.06751063406879405)]"
      ]
     },
     "execution_count": 15,
     "metadata": {},
     "output_type": "execute_result"
    }
   ],
   "source": [
    "# find masses from del_mag H from B (Ames models)\n",
    "\n",
    "mag2mass(0.3, \n",
    "         ames_300Myr['H'], \n",
    "         ames_300Myr['M/Ms'], \n",
    "         0.4, \n",
    "         ames_400Myr['H'], \n",
    "         ames_400Myr['M/Ms'], \n",
    "         Mabs_H_D[0],\n",
    "         0.35,\n",
    "        'Companion D mass\\n(based on H + component B (mV=--) + Ames models)\\nred = age-interpolated mass of D; grey shading = BDs; cornflowerblue = 300 Myr; thistle = 400 Myr')"
   ]
  },
  {
   "cell_type": "code",
   "execution_count": 28,
   "metadata": {
    "collapsed": false
   },
   "outputs": [
    {
     "data": {
      "text/plain": [
       "[array(0.05355408017370751),\n",
       " array(0.06108031072096283),\n",
       " array(0.05731719544733517)]"
      ]
     },
     "execution_count": 28,
     "metadata": {},
     "output_type": "execute_result"
    }
   ],
   "source": [
    "# find masses from del_mag Ks from B (Ames models)\n",
    "\n",
    "mag2mass(0.3, \n",
    "         ames_300Myr['Ks'], \n",
    "         ames_300Myr['M/Ms'], \n",
    "         0.4, \n",
    "         ames_400Myr['Ks'], \n",
    "         ames_400Myr['M/Ms'], \n",
    "         Mabs_Ks_D[1],\n",
    "         0.35,\n",
    "        'Companion D mass\\n(based on Ks + component B (mV=8.5) + Ames models)\\nred = age-interpolated mass of D; grey shading = BDs; cornflowerblue = 300 Myr; thistle = 400 Myr')"
   ]
  },
  {
   "cell_type": "code",
   "execution_count": 26,
   "metadata": {
    "collapsed": false
   },
   "outputs": [
    {
     "data": {
      "text/plain": [
       "array([  8.63924742,  10.63924742])"
      ]
     },
     "execution_count": 26,
     "metadata": {},
     "output_type": "execute_result"
    }
   ],
   "source": [
    "Mabs_Ks_D"
   ]
  },
  {
   "cell_type": "code",
   "execution_count": 30,
   "metadata": {
    "collapsed": false
   },
   "outputs": [
    {
     "data": {
      "text/plain": [
       "[array(0.07629703651243729), array(nan), array(nan)]"
      ]
     },
     "execution_count": 30,
     "metadata": {},
     "output_type": "execute_result"
    }
   ],
   "source": [
    "# find masses from del_mag L' from A (COND models)\n",
    "\n",
    "mag2mass(0.12, \n",
    "         cond03_120Myr['Mll'], \n",
    "         cond03_120Myr['M/Ms'], \n",
    "         0.5, \n",
    "         cond03_500Myr['Mll'], \n",
    "         cond03_500Myr['M/Ms'], \n",
    "         Mabs_Lprime_D[1],\n",
    "         0.35,\n",
    "        'Companion D mass\\n(based on Lprime + component A + COND models)\\nred = age-interpolated mass of D; grey shading = BDs; cornflowerblue = 120 Myr; thistle = 500 Myr')"
   ]
  },
  {
   "cell_type": "code",
   "execution_count": 32,
   "metadata": {
    "collapsed": false
   },
   "outputs": [
    {
     "data": {
      "text/plain": [
       "[array(0.04174524200382686),\n",
       " array(0.0765188146049749),\n",
       " array(0.06279240436767962)]"
      ]
     },
     "execution_count": 32,
     "metadata": {},
     "output_type": "execute_result"
    }
   ],
   "source": [
    "# find masses from del_mag H from B (COND models)\n",
    "\n",
    "mag2mass(0.12, \n",
    "         cond03_120Myr['Mh'], \n",
    "         cond03_120Myr['M/Ms'], \n",
    "         0.5, \n",
    "         cond03_500Myr['Mh'], \n",
    "         cond03_500Myr['M/Ms'], \n",
    "         Mabs_H_D[1],\n",
    "         0.35,\n",
    "        'Companion D mass\\n(based on H + component B (mV=--) + COND models)\\nred = age-interpolated mass of D; grey shading = BDs; cornflowerblue = 120 Myr; thistle = 500 Myr')"
   ]
  },
  {
   "cell_type": "code",
   "execution_count": 25,
   "metadata": {
    "collapsed": false
   },
   "outputs": [
    {
     "data": {
      "text/plain": [
       "[array(0.036892890703883054),\n",
       " array(0.06981505168397992),\n",
       " array(0.056819461823415365)]"
      ]
     },
     "execution_count": 25,
     "metadata": {},
     "output_type": "execute_result"
    }
   ],
   "source": [
    "# find masses from del_mag K/Ks from B (COND models)\n",
    "\n",
    "mag2mass(0.12, \n",
    "         cond03_120Myr['Mk'], \n",
    "         cond03_120Myr['M/Ms'], \n",
    "         0.5, \n",
    "         cond03_500Myr['Mk'], \n",
    "         cond03_500Myr['M/Ms'], \n",
    "         Mabs_Ks_D[0],\n",
    "         0.35,\n",
    "        'Companion D mass\\n(based on Ks + component B (mV=--) + COND models)\\nred = age-interpolated mass of D; grey shading = BDs; cornflowerblue = 120 Myr; thistle = 500 Myr')"
   ]
  }
 ],
 "metadata": {
  "kernelspec": {
   "display_name": "Python 3",
   "language": "python",
   "name": "python3"
  },
  "language_info": {
   "codemirror_mode": {
    "name": "ipython",
    "version": 3
   },
   "file_extension": ".py",
   "mimetype": "text/x-python",
   "name": "python",
   "nbconvert_exporter": "python",
   "pygments_lexer": "ipython3",
   "version": "3.5.4"
  }
 },
 "nbformat": 4,
 "nbformat_minor": 0
}
