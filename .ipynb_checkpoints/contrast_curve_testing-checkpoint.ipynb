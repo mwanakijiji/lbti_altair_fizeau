{
 "cells": [
  {
   "cell_type": "code",
   "execution_count": null,
   "metadata": {
    "collapsed": true
   },
   "outputs": [],
   "source": [
    "# This tests the methodology of reading in a csv file of companion detection data\n",
    "# and produces a 1D contrast curve\n",
    "\n",
    "# Created 2019 May 6 by E.S."
   ]
  },
  {
   "cell_type": "code",
   "execution_count": 1,
   "metadata": {
    "collapsed": true
   },
   "outputs": [],
   "source": [
    "import numpy as np\n",
    "import pandas as pd"
   ]
  },
  {
   "cell_type": "code",
   "execution_count": 2,
   "metadata": {
    "collapsed": true
   },
   "outputs": [],
   "source": [
    "file_name = \"test_csv_file.csv\""
   ]
  },
  {
   "cell_type": "code",
   "execution_count": 3,
   "metadata": {
    "collapsed": true
   },
   "outputs": [],
   "source": [
    "info_file = pd.read_csv(file_name)"
   ]
  },
  {
   "cell_type": "code",
   "execution_count": null,
   "metadata": {
    "collapsed": true
   },
   "outputs": [],
   "source": [
    "# For groups of rows defined by \n",
    "#      A.) a common value of rad_asec\n",
    "#      B.) a common value of ampl_linear_norm\n",
    "# 1. find median value of S/N for each group\n",
    "# 2. select lowest value of ampl_linear_norm which provides a minimum X S/N"
   ]
  },
  {
   "cell_type": "code",
   "execution_count": 14,
   "metadata": {
    "collapsed": false
   },
   "outputs": [],
   "source": [
    "# group by radius and ampl_linear_norm\n",
    "\n",
    "info_file_grouped_rad_ampl = info_file.groupby([\"rad_asec\", \"ampl_linear_norm\"], \n",
    "                                            axis=0, \n",
    "                                            as_index=False).median()"
   ]
  },
  {
   "cell_type": "code",
   "execution_count": 53,
   "metadata": {
    "collapsed": false
   },
   "outputs": [
    {
     "name": "stdout",
     "output_type": "stream",
     "text": [
      "   ampl_linear_norm  rad_asec\n",
      "0               NaN       NaN\n",
      "1               NaN       NaN\n",
      "   rad_asec  ampl_linear_norm  Unnamed: 0  angle_deg        noise      s2n  \\\n",
      "0       0.3               0.9         0.0       60.0  7041.697528  3.18424   \n",
      "\n",
      "         signal  \n",
      "0  21262.218055  \n",
      "0.3\n",
      "0.9\n",
      "------------\n",
      "   rad_asec  ampl_linear_norm  Unnamed: 0  angle_deg        noise       s2n  \\\n",
      "0       0.3               0.9         0.0       60.0  7041.697528  3.184240   \n",
      "1       0.3               1.0         0.0       60.0  7295.982475  3.238479   \n",
      "2       NaN               NaN         NaN        NaN          NaN       NaN   \n",
      "3       NaN               NaN         NaN        NaN          NaN       NaN   \n",
      "\n",
      "         signal  \n",
      "0  21262.218055  \n",
      "1  23577.016784  \n",
      "2           NaN  \n",
      "3           NaN  \n",
      "-\n",
      "   rad_asec  ampl_linear_norm  Unnamed: 0  angle_deg        noise       s2n  \\\n",
      "0       0.3               0.9         0.0       60.0  7041.697528  3.184240   \n",
      "1       0.3               1.0         0.0       60.0  7295.982475  3.238479   \n",
      "\n",
      "         signal  \n",
      "0  21262.218055  \n",
      "1  23577.016784  \n",
      "-\n",
      "   rad_asec  ampl_linear_norm  Unnamed: 0  angle_deg        noise      s2n  \\\n",
      "0       0.3               0.9         0.0       60.0  7041.697528  3.18424   \n",
      "\n",
      "         signal  \n",
      "0  21262.218055  \n",
      "   rad_asec  ampl_linear_norm  Unnamed: 0  angle_deg        noise       s2n  \\\n",
      "3       0.4               1.0         0.0       60.0  7193.419796  2.408814   \n",
      "\n",
      "         signal  \n",
      "3  16645.569348  \n",
      "0.4\n",
      "1.0\n",
      "------------\n",
      "   rad_asec  ampl_linear_norm  Unnamed: 0  angle_deg        noise       s2n  \\\n",
      "0       NaN               NaN         NaN        NaN          NaN       NaN   \n",
      "1       NaN               NaN         NaN        NaN          NaN       NaN   \n",
      "2       0.4               0.9         0.0       60.0  6472.393538  2.659942   \n",
      "3       0.4               1.0         0.0       60.0  7193.419796  2.408814   \n",
      "\n",
      "         signal  \n",
      "0           NaN  \n",
      "1           NaN  \n",
      "2  20840.028797  \n",
      "3  16645.569348  \n",
      "-\n",
      "   rad_asec  ampl_linear_norm  Unnamed: 0  angle_deg        noise       s2n  \\\n",
      "2       0.4               0.9         0.0       60.0  6472.393538  2.659942   \n",
      "3       0.4               1.0         0.0       60.0  7193.419796  2.408814   \n",
      "\n",
      "         signal  \n",
      "2  20840.028797  \n",
      "3  16645.569348  \n",
      "-\n",
      "   rad_asec  ampl_linear_norm  Unnamed: 0  angle_deg        noise       s2n  \\\n",
      "3       0.4               1.0         0.0       60.0  7193.419796  2.408814   \n",
      "\n",
      "         signal  \n",
      "3  16645.569348  \n"
     ]
    }
   ],
   "source": [
    "# for each radius, find ampl_linear_norm with S/N > threshold_s2n\n",
    "\n",
    "threshold_s2n = 2\n",
    "\n",
    "# unique radius values\n",
    "unique_rad_vals = info_file_grouped_rad_ampl[\"rad_asec\"].unique()\n",
    "\n",
    "# initialize array for contrast curve\n",
    "contrast_curve = {\"rad_asec\": np.nan*np.ones(len(unique_rad_vals)),\n",
    "                  \"ampl_linear_norm\": np.nan*np.ones(len(unique_rad_vals))}\n",
    "contrast_curve_pd = pd.DataFrame(contrast_curve)\n",
    "\n",
    "print(contrast_curve_pd)\n",
    "\n",
    "# loop over unique radius values\n",
    "for t in range(0,len(unique_rad_vals)):\n",
    "    \n",
    "    # subset of data with the right radius from the host star\n",
    "    data_right_rad = info_file_grouped_rad_ampl.where(\\\n",
    "                                                        info_file_grouped_rad_ampl[\"rad_asec\"] == unique_rad_vals[t]\\\n",
    "                                                       )\n",
    "    # sub-subset of data with at least the minimum S/N\n",
    "    data_right_s2n_presort = data_right_rad.where(\\\n",
    "                                         data_right_rad[\"s2n\"] >= threshold_s2n\\\n",
    "                                         ).dropna()\n",
    "    \n",
    "    # the row of data with the minimum S/N above the minimum threshold    \n",
    "    data_right_s2n_postsort = data_right_s2n_presort.where(\\\n",
    "                                                           data_right_s2n_presort[\"s2n\"] == data_right_s2n_presort[\"s2n\"].min()\\\n",
    "                                                          ).dropna()\n",
    "    '''\n",
    "    print(data_right_s2n_postsort)\n",
    "    print(data_right_s2n_postsort[\"rad_asec\"].values[0])\n",
    "    print(data_right_s2n_postsort[\"ampl_linear_norm\"].values[0])\n",
    "    '''\n",
    "    \n",
    "    # append companion radius and amplitude values\n",
    "    contrast_curve_pd.at[t,\"rad_asec\"] = data_right_s2n_postsort[\"rad_asec\"].values[0]\n",
    "    contrast_curve_pd.at[t,\"ampl_linear_norm\"] = data_right_s2n_postsort[\"ampl_linear_norm\"].values[0]\n",
    "    \n",
    "    '''\n",
    "    print(\"------------\")\n",
    "    print(data_right_rad)\n",
    "    print(\"-\")\n",
    "    print(data_right_s2n_presort)\n",
    "    print(\"-\")\n",
    "    print(data_right_s2n_postsort)\n",
    "    '''"
   ]
  },
  {
   "cell_type": "code",
   "execution_count": 57,
   "metadata": {
    "collapsed": false
   },
   "outputs": [],
   "source": [
    "# write out to csv\n",
    "contrast_curve_pd.to_csv(\"contrast_test.csv\", sep = \",\", columns = [\"rad_asec\",\"ampl_linear_norm\"])"
   ]
  }
 ],
 "metadata": {
  "kernelspec": {
   "display_name": "Python 3",
   "language": "python",
   "name": "python3"
  },
  "language_info": {
   "codemirror_mode": {
    "name": "ipython",
    "version": 3
   },
   "file_extension": ".py",
   "mimetype": "text/x-python",
   "name": "python",
   "nbconvert_exporter": "python",
   "pygments_lexer": "ipython3",
   "version": "3.5.4"
  }
 },
 "nbformat": 4,
 "nbformat_minor": 0
}
