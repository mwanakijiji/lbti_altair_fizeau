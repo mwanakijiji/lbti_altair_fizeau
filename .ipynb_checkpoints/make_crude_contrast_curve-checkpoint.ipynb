{
 "cells": [
  {
   "cell_type": "code",
   "execution_count": null,
   "metadata": {
    "collapsed": true
   },
   "outputs": [],
   "source": [
    "# This reads in a csv which includes noise levels in an ADI frame, and then uses\n",
    "# those levels of noise and a given host star amplitude to make a crude contrast \n",
    "# curve. (Note that there are no fake companions involved.)\n",
    "\n",
    "# Created 2019 July 11 by E.S."
   ]
  },
  {
   "cell_type": "code",
   "execution_count": 1,
   "metadata": {
    "collapsed": true
   },
   "outputs": [],
   "source": [
    "import pandas as pd\n",
    "import matplotlib.pyplot as plt"
   ]
  },
  {
   "cell_type": "code",
   "execution_count": null,
   "metadata": {
    "collapsed": true
   },
   "outputs": [],
   "source": [
    "# read in the csv\n",
    "\n",
    "noise_data = pd.read_csv(\"\")"
   ]
  },
  {
   "cell_type": "code",
   "execution_count": null,
   "metadata": {
    "collapsed": true
   },
   "outputs": [],
   "source": [
    "# set the host star's amplitude\n",
    "\n",
    "host_ampl = 6.0e4"
   ]
  },
  {
   "cell_type": "code",
   "execution_count": null,
   "metadata": {
    "collapsed": true
   },
   "outputs": [],
   "source": [
    "# determine what would be a 'five-sigma' signal at each radius\n",
    "\n",
    "noise_data[\"five_sig_ampl\"] = np.multiply(5.,TBD)"
   ]
  },
  {
   "cell_type": "code",
   "execution_count": null,
   "metadata": {
    "collapsed": true
   },
   "outputs": [],
   "source": [
    "# find the 5-sigma contrast by dividing the 5-sigma signal by the host star amplitude\n",
    "\n",
    "noise_data[\"five_sig_contrast\"] = np.divide(noise_data[\"five_sig_ampl\"],host_ampl)"
   ]
  },
  {
   "cell_type": "code",
   "execution_count": null,
   "metadata": {
    "collapsed": true
   },
   "outputs": [],
   "source": [
    "# convert to mags\n",
    "\n",
    "noise_data[\"contrast_mags\"] = -2.5*np.log10(np.divide(TBD,TBD))"
   ]
  }
 ],
 "metadata": {
  "kernelspec": {
   "display_name": "Python 3",
   "language": "python",
   "name": "python3"
  },
  "language_info": {
   "codemirror_mode": {
    "name": "ipython",
    "version": 3
   },
   "file_extension": ".py",
   "mimetype": "text/x-python",
   "name": "python",
   "nbconvert_exporter": "python",
   "pygments_lexer": "ipython3",
   "version": "3.5.4"
  }
 },
 "nbformat": 4,
 "nbformat_minor": 0
}
