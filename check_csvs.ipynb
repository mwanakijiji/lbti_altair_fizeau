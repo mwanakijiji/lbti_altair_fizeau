{
 "cells": [
  {
   "cell_type": "code",
   "execution_count": null,
   "metadata": {},
   "outputs": [],
   "source": [
    "# Checking csvs"
   ]
  },
  {
   "cell_type": "code",
   "execution_count": 5,
   "metadata": {},
   "outputs": [],
   "source": [
    "import pandas as pd\n",
    "import matplotlib.pyplot as plt"
   ]
  },
  {
   "cell_type": "code",
   "execution_count": 2,
   "metadata": {},
   "outputs": [],
   "source": [
    "file_name = \"./ks_data_run_test01_20200910/test01_20200910_0E.csv\""
   ]
  },
  {
   "cell_type": "code",
   "execution_count": 3,
   "metadata": {},
   "outputs": [],
   "source": [
    "df = pd.read_csv(file_name)"
   ]
  },
  {
   "cell_type": "code",
   "execution_count": 4,
   "metadata": {},
   "outputs": [
    {
     "data": {
      "text/plain": [
       "Index(['Unnamed: 0', 'dist_asec', 'comp_ampl', 'id_strip_w_planet',\n",
       "       'id_opposite_to_half_w_planet',\n",
       "       'D_strip_w_planets_rel_to_same_half_strip_wo_planet',\n",
       "       'D_strip_w_planets_rel_to_other_half_same_strip_with_planet',\n",
       "       'D_strip_w_planets_rel_to_strip_0', 'D_strip_w_planets_rel_to_strip_1',\n",
       "       'D_strip_w_planets_rel_to_strip_2', 'D_strip_w_planets_rel_to_strip_3',\n",
       "       'D_strip_w_planets_rel_to_strip_4',\n",
       "       'val_crit_strip_w_planets_rel_to_strip_0',\n",
       "       'val_crit_strip_w_planets_rel_to_strip_1',\n",
       "       'val_crit_strip_w_planets_rel_to_strip_2',\n",
       "       'val_crit_strip_w_planets_rel_to_strip_3',\n",
       "       'val_crit_strip_w_planets_rel_to_strip_4'],\n",
       "      dtype='object')"
      ]
     },
     "execution_count": 4,
     "metadata": {},
     "output_type": "execute_result"
    }
   ],
   "source": [
    "df.keys()"
   ]
  },
  {
   "cell_type": "code",
   "execution_count": 7,
   "metadata": {},
   "outputs": [
    {
     "data": {
      "image/png": "[encoded data removed]",
      "text/plain": [
       "<Figure size 432x288 with 1 Axes>"
      ]
     },
     "metadata": {
      "needs_background": "light"
     },
     "output_type": "display_data"
    }
   ],
   "source": [
    "plt.plot(df[\"comp_ampl\"])\n",
    "plt.show()"
   ]
  },
  {
   "cell_type": "code",
   "execution_count": 19,
   "metadata": {},
   "outputs": [
    {
     "data": {
      "text/plain": [
       "0     0.2716\n",
       "1     0.2716\n",
       "2     0.2716\n",
       "3     0.2716\n",
       "4     0.2716\n",
       "       ...  \n",
       "73    0.2716\n",
       "74    0.2716\n",
       "75    0.2716\n",
       "76    0.2716\n",
       "77    0.2716\n",
       "Name: val_crit_strip_w_planets_rel_to_strip_4, Length: 78, dtype: float64"
      ]
     },
     "execution_count": 19,
     "metadata": {},
     "output_type": "execute_result"
    }
   ],
   "source": [
    "df[\"val_crit_strip_w_planets_rel_to_strip_4\"]"
   ]
  },
  {
   "cell_type": "code",
   "execution_count": null,
   "metadata": {},
   "outputs": [],
   "source": []
  }
 ],
 "metadata": {
  "kernelspec": {
   "display_name": "Python 3",
   "language": "python",
   "name": "python3"
  },
  "language_info": {
   "codemirror_mode": {
    "name": "ipython",
    "version": 3
   },
   "file_extension": ".py",
   "mimetype": "text/x-python",
   "name": "python",
   "nbconvert_exporter": "python",
   "pygments_lexer": "ipython3",
   "version": "3.6.6"
  }
 },
 "nbformat": 4,
 "nbformat_minor": 2
}
