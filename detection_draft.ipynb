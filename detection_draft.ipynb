{
 "cells": [
  {
   "cell_type": "code",
   "execution_count": 123,
   "metadata": {
    "collapsed": true
   },
   "outputs": [],
   "source": [
    "# This injects fake planets by (and without using PynPoint)\n",
    "# 1.  Determining a mask over the host star PSF where nonlinearity/saturation may be an issue\n",
    "# 2.  Fitting a first PCA basis to the masked host star PSF (using UN-saturated frames as the basis set)\n",
    "# 3.  Reconstructing the ideal, unsaturated host star PSF for making fake planets\n",
    "# 4.  Injecting it with a variety of amplitudes/angles around the host star\n",
    "# 5.  Fitting a second PCA basis to the NON-masked host star PSF (using saturated frames as the basis set)\n",
    "# 6.  Reconstructing the saturated host star PSF for host star subtraction\n",
    "# 7.  Subtracting the host star PSF\n",
    "# 8.  Doing ADI\n",
    "\n",
    "# created 2019 Jan. 11 by E.S."
   ]
  },
  {
   "cell_type": "markdown",
   "metadata": {},
   "source": [
    "## SECTION TO INITIALIZE"
   ]
  },
  {
   "cell_type": "code",
   "execution_count": 1,
   "metadata": {
    "collapsed": false
   },
   "outputs": [],
   "source": [
    "import urllib\n",
    "import numpy as np\n",
    "import matplotlib.pyplot as plt\n",
    "import scipy\n",
    "from scipy import ndimage, signal\n",
    "import sklearn\n",
    "from sklearn.decomposition import PCA as RandomizedPCA\n",
    "import time\n",
    "from matplotlib.colors import LogNorm\n",
    "import pandas as pd\n",
    "from regions import PixCoord, CircleSkyRegion, CirclePixelRegion, PolygonPixelRegion"
   ]
  },
  {
   "cell_type": "code",
   "execution_count": 2,
   "metadata": {
    "collapsed": true
   },
   "outputs": [],
   "source": [
    "import os\n",
    "import numpy.ma as ma\n",
    "from astropy.io import fits\n",
    "from astropy.modeling import models, fitting"
   ]
  },
  {
   "cell_type": "code",
   "execution_count": 3,
   "metadata": {
    "collapsed": true
   },
   "outputs": [],
   "source": [
    "# stem \n",
    "\n",
    "stem_base = ('/home/../../media/unasemaje/Elements/lbti_data_reduction/180507_fizeau_altair/')\n",
    "stem_retrieve = (stem_base+'05_centered/') # use frames which have already been centered and are well-behaved, for now\n",
    "stem_place = (stem_base+'testing/')"
   ]
  },
  {
   "cell_type": "code",
   "execution_count": 4,
   "metadata": {
    "collapsed": true
   },
   "outputs": [],
   "source": [
    "# First part reads in a stack of images from which\n",
    "# 1. host star has been subtracted\n",
    "# 2. images have been de-rotated\n",
    "# 3. a fake planet may or may not be present\n",
    "\n",
    "# So the task here is to \n",
    "# 1. median the stack\n",
    "# 2. convolve the median to smooth it\n",
    "\n",
    "# ... and, if there is a \n",
    "\n",
    "# -> /fake_planet flag: (i.e., we're determining sensitivity)\n",
    "# 1. given the fake planet location, find its amplitude\n",
    "# 2. find the stdev of the noise ring \n",
    "# 3. count number of other false positives of amplitude >=Nsigma\n",
    "# 4. calculate false positive fraction (FPF)\n",
    "\n",
    "# -> /true_data flag: (i.e., we're looking for true candidates)\n",
    "# 1. do a 2d cross-correlation of the ring with the unsaturated,\n",
    "#     reconstructed host star PSF (see scipy.signal.correlate2d)\n",
    "# 2. find where the correlation is maximum\n",
    "# 3. find the max around that location in the image\n",
    "# 4. mask that location and find the stdev of the rest of the ring\n",
    "# 5. if S/N >= Nsigma, flag it!"
   ]
  },
  {
   "cell_type": "code",
   "execution_count": 5,
   "metadata": {
    "collapsed": true
   },
   "outputs": [],
   "source": [
    "## ## GENERATE LIST OF FILES IN THE FAKE PLANET / HOST SUBTRACTED DIRECTORY"
   ]
  },
  {
   "cell_type": "code",
   "execution_count": 6,
   "metadata": {
    "collapsed": false
   },
   "outputs": [
    {
     "data": {
      "text/plain": [
       "\"\\nsig_y = 9.46 # lambda/D, in pix\\nsig_x = 3.44 # lambda/B, in pix\\n\\nsmoothed_w_fake_planet = scipy.ndimage.filters.gaussian_filter(star_subted, \\n                                                 sigma = np.multiply(0.1,[sig_y, sig_x]), \\n                                                 order=0, \\n                                                 output=None, \\n                                                 mode='reflect', \\n                                                 cval=0.0, \\n                                                 truncate=4.0)\\n\\nsmoothed_wo_fake_planet = scipy.ndimage.filters.gaussian_filter(star_subted_wo_fake_planet, \\n                                                 sigma = np.multiply(0.1,[sig_y, sig_x]), \\n                                                 order=0, \\n                                                 output=None, \\n                                                 mode='reflect', \\n                                                 cval=0.0, \\n                                                 truncate=4.0)\\n\""
      ]
     },
     "execution_count": 6,
     "metadata": {},
     "output_type": "execute_result"
    }
   ],
   "source": [
    "# Smooth the image, so that the rms calculation will consider PSF-to-PSF variations\n",
    "# This is the Gaussian smoothing option\n",
    "'''\n",
    "sig_y = 9.46 # lambda/D, in pix\n",
    "sig_x = 3.44 # lambda/B, in pix\n",
    "\n",
    "smoothed_w_fake_planet = scipy.ndimage.filters.gaussian_filter(star_subted, \n",
    "                                                 sigma = np.multiply(0.1,[sig_y, sig_x]), \n",
    "                                                 order=0, \n",
    "                                                 output=None, \n",
    "                                                 mode='reflect', \n",
    "                                                 cval=0.0, \n",
    "                                                 truncate=4.0)\n",
    "\n",
    "smoothed_wo_fake_planet = scipy.ndimage.filters.gaussian_filter(star_subted_wo_fake_planet, \n",
    "                                                 sigma = np.multiply(0.1,[sig_y, sig_x]), \n",
    "                                                 order=0, \n",
    "                                                 output=None, \n",
    "                                                 mode='reflect', \n",
    "                                                 cval=0.0, \n",
    "                                                 truncate=4.0)\n",
    "'''"
   ]
  },
  {
   "cell_type": "code",
   "execution_count": 7,
   "metadata": {
    "collapsed": false
   },
   "outputs": [],
   "source": [
    "# read in a test star image\n",
    "\n",
    "sciImg, header = fits.getdata(\"lm_180507_009030.fits\", header=True)"
   ]
  },
  {
   "cell_type": "code",
   "execution_count": 8,
   "metadata": {
    "collapsed": true
   },
   "outputs": [],
   "source": [
    "# read in a test star-subtracted image\n",
    "\n",
    "star_subted_cube, header = fits.getdata(\"junk_stack_frames_04259to11000.fits\", header=True)\n",
    "star_subted = np.copy(star_subted_cube[0,:,:])\n",
    "del star_subted_cube"
   ]
  },
  {
   "cell_type": "code",
   "execution_count": 9,
   "metadata": {
    "collapsed": false
   },
   "outputs": [
    {
     "data": {
      "image/png": "[encoded data removed]",
      "text/plain": [
       "<Figure size 432x288 with 1 Axes>"
      ]
     },
     "metadata": {
      "needs_background": "light"
     },
     "output_type": "display_data"
    }
   ],
   "source": [
    "plt.imshow(star_subted)\n",
    "plt.show()"
   ]
  },
  {
   "cell_type": "markdown",
   "metadata": {},
   "source": [
    "# Determine location of possible companion, w/o prior knowledge\n",
    "# (i.e., /true_data flag)"
   ]
  },
  {
   "cell_type": "code",
   "execution_count": 10,
   "metadata": {
    "collapsed": true
   },
   "outputs": [],
   "source": [
    "# make a fake image of a companion\n",
    "\n",
    "fake_sci = np.roll(sciImg, 30, axis=0)\n",
    "fake_sci = np.roll(fake_sci, 10, axis=1)"
   ]
  },
  {
   "cell_type": "code",
   "execution_count": 11,
   "metadata": {
    "collapsed": false
   },
   "outputs": [
    {
     "name": "stdout",
     "output_type": "stream",
     "text": [
      "[101]\n",
      "[84]\n"
     ]
    }
   ],
   "source": [
    "# where is the companion in the first place?\n",
    "# (note that it will be off a bit at phase != 0)\n",
    "\n",
    "rows_sci, cols_sci = np.where(fake_sci == np.max(fake_sci))\n",
    "print(rows_sci)\n",
    "print(cols_sci)"
   ]
  },
  {
   "cell_type": "code",
   "execution_count": 12,
   "metadata": {
    "collapsed": false
   },
   "outputs": [
    {
     "data": {
      "image/png": "[encoded data removed]",
      "text/plain": [
       "<Figure size 432x288 with 1 Axes>"
      ]
     },
     "metadata": {
      "needs_background": "light"
     },
     "output_type": "display_data"
    }
   ],
   "source": [
    "plt.imshow(fake_sci, origin=\"lower\")\n",
    "plt.scatter(cols_sci, rows_sci, color=\"red\")\n",
    "plt.show()"
   ]
  },
  {
   "cell_type": "code",
   "execution_count": 13,
   "metadata": {
    "collapsed": false
   },
   "outputs": [],
   "source": [
    "# find where fake companion is by correlating with centered PSF\n",
    "\n",
    "fake_corr = scipy.signal.correlate2d(fake_sci, sciImg, mode=\"same\")"
   ]
  },
  {
   "cell_type": "code",
   "execution_count": 14,
   "metadata": {
    "collapsed": false
   },
   "outputs": [],
   "source": [
    "# where is the location of the companion/maximum?\n",
    "\n",
    "loc_vec = np.where(fake_corr == np.max(fake_corr))"
   ]
  },
  {
   "cell_type": "code",
   "execution_count": 15,
   "metadata": {
    "collapsed": false
   },
   "outputs": [
    {
     "data": {
      "text/plain": [
       "(array([100]), array([80]))"
      ]
     },
     "execution_count": 15,
     "metadata": {},
     "output_type": "execute_result"
    }
   ],
   "source": [
    "loc_vec"
   ]
  },
  {
   "cell_type": "code",
   "execution_count": 16,
   "metadata": {
    "collapsed": false
   },
   "outputs": [],
   "source": [
    "# convert to DataFrame\n",
    "\n",
    "apparent_comp_vec = pd.DataFrame({\"y_pix_coord\": loc_vec[0], \"x_pix_coord\": loc_vec[1]})"
   ]
  },
  {
   "cell_type": "code",
   "execution_count": 17,
   "metadata": {
    "collapsed": false
   },
   "outputs": [
    {
     "data": {
      "text/html": [
       "<div>\n",
       "<style scoped>\n",
       "    .dataframe tbody tr th:only-of-type {\n",
       "        vertical-align: middle;\n",
       "    }\n",
       "\n",
       "    .dataframe tbody tr th {\n",
       "        vertical-align: top;\n",
       "    }\n",
       "\n",
       "    .dataframe thead th {\n",
       "        text-align: right;\n",
       "    }\n",
       "</style>\n",
       "<table border=\"1\" class=\"dataframe\">\n",
       "  <thead>\n",
       "    <tr style=\"text-align: right;\">\n",
       "      <th></th>\n",
       "      <th>x_pix_coord</th>\n",
       "      <th>y_pix_coord</th>\n",
       "    </tr>\n",
       "  </thead>\n",
       "  <tbody>\n",
       "    <tr>\n",
       "      <th>0</th>\n",
       "      <td>80</td>\n",
       "      <td>100</td>\n",
       "    </tr>\n",
       "  </tbody>\n",
       "</table>\n",
       "</div>"
      ],
      "text/plain": [
       "   x_pix_coord  y_pix_coord\n",
       "0           80          100"
      ]
     },
     "execution_count": 17,
     "metadata": {},
     "output_type": "execute_result"
    }
   ],
   "source": [
    "apparent_comp_vec"
   ]
  },
  {
   "cell_type": "code",
   "execution_count": 18,
   "metadata": {
    "collapsed": false
   },
   "outputs": [
    {
     "data": {
      "image/png": "[encoded data removed]",
      "text/plain": [
       "<Figure size 432x288 with 1 Axes>"
      ]
     },
     "metadata": {
      "needs_background": "light"
     },
     "output_type": "display_data"
    }
   ],
   "source": [
    "plt.imshow(fake_corr, origin=\"lower\")\n",
    "plt.scatter(apparent_comp_vec[\"x_pix_coord\"], apparent_comp_vec[\"y_pix_coord\"], color=\"red\")\n",
    "plt.show()"
   ]
  },
  {
   "cell_type": "markdown",
   "metadata": {},
   "source": [
    "# Place an aperture over the apparent companion and isolate the noise ring"
   ]
  },
  {
   "cell_type": "code",
   "execution_count": 19,
   "metadata": {
    "collapsed": false
   },
   "outputs": [
    {
     "data": {
      "text/plain": [
       "\"\\nsmoothed_wo_fake_planet2 = ndimage.filters.convolve(star_subted_wo_fake_planet, \\n                                                   weights, \\n                                                   output=None, \\n                                                   mode='reflect', \\n                                                   cval=0.0, \\n                                                   origin=0)\\n\""
      ]
     },
     "execution_count": 19,
     "metadata": {},
     "output_type": "execute_result"
    }
   ],
   "source": [
    "# Smooth the image, so that the rms calculation will consider PSF-to-PSF variations\n",
    "# This is the LBT PSF smoothing option\n",
    "\n",
    "weights = np.divide(sciImg,np.sum(sciImg)) # normalize the host star PSF\n",
    "\n",
    "smoothed_w_fake_planet = ndimage.filters.convolve(star_subted, \n",
    "                                    weights, \n",
    "                                    output=None, \n",
    "                                    mode='reflect', \n",
    "                                    cval=0.0, \n",
    "                                    origin=0)\n",
    "\n",
    "'''\n",
    "smoothed_wo_fake_planet2 = ndimage.filters.convolve(star_subted_wo_fake_planet, \n",
    "                                                   weights, \n",
    "                                                   output=None, \n",
    "                                                   mode='reflect', \n",
    "                                                   cval=0.0, \n",
    "                                                   origin=0)\n",
    "'''"
   ]
  },
  {
   "cell_type": "markdown",
   "metadata": {},
   "source": [
    "# Blind search for a companion, signal level"
   ]
  },
  {
   "cell_type": "code",
   "execution_count": 90,
   "metadata": {
    "collapsed": false
   },
   "outputs": [],
   "source": [
    "# define circular mask function\n",
    "\n",
    "def circ_mask(input_array, mask_center, mask_radius, invert=False):\n",
    "    '''\n",
    "    Make a circular mask somewhere in the input image (1=good, nan=bad)\n",
    "    \n",
    "    INPUTS:\n",
    "    input_array: the array to mask\n",
    "    mask_center: the center of the mask, in (y,x) input_array coords\n",
    "    mask_radius: radius of the mask, in pixels\n",
    "    invert: if False, area INSIDE mask region is masked; if True, area OUTSIDE\n",
    "    \n",
    "    OUTPUTS:\n",
    "    mask_array: boolean array (1 and nan) of the same size as the input image\n",
    "    '''\n",
    "    \n",
    "    mask_array = np.ones(np.shape(input_array))\n",
    "    \n",
    "    y_len = np.arange(np.shape(input_array)[0])\n",
    "    x_len = np.arange(np.shape(input_array)[1])\n",
    "    \n",
    "    xx, yy = np.meshgrid(x_len, y_len)\n",
    "    \n",
    "    if invert:\n",
    "        circ_indices = np.where(np.sqrt(np.power(xx-mask_center[1],2) + \n",
    "                                           np.power(yy-mask_center[0],2)) > mask_radius)\n",
    "    else:\n",
    "        circ_indices = np.where(np.sqrt(np.power(xx-mask_center[1],2) + \n",
    "                                           np.power(yy-mask_center[0],2)) < mask_radius)\n",
    "\n",
    "    mask_array[circ_indices] = np.nan\n",
    "    \n",
    "    return mask_array"
   ]
  },
  {
   "cell_type": "code",
   "execution_count": 99,
   "metadata": {
    "collapsed": false
   },
   "outputs": [],
   "source": [
    "pos_num = 0\n",
    "\n",
    "# define region where fake planet is supposed to be: a circle near (y,x) of injection\n",
    "\n",
    "comp_rad = 10 # radius of aperture around planet candidate\n",
    "\n",
    "# N.b. for a 100x100 image, the physical center is at Python coordinate (49.5,49.5)\n",
    "# i.e., in between pixels 49 and 50 in both dimensions (Python convention),\n",
    "# or at coordinate (50.5,50.5) in DS9 convention\n",
    "## ## check this by displacing, flipping, and subtracting to detect asymmetry\n",
    "x_cen = 0.5*np.shape(smoothed_w_fake_planet)[0]-0.5\n",
    "y_cen = 0.5*np.shape(smoothed_w_fake_planet)[1]-0.5\n",
    "\n",
    "# calculate outer noise annulus radius\n",
    "fake_psf_outer_edge_rad = np.add(np.sqrt(np.power(apparent_comp_vec[\"x_pix_coord\"][pos_num]-x_cen,2) + \n",
    "                                  np.power(apparent_comp_vec[\"y_pix_coord\"][pos_num]-y_cen,2)), \n",
    "                                  comp_rad)\n",
    "\n",
    "# calculate inner noise annulus radius\n",
    "fake_psf_inner_edge_rad = np.subtract(np.sqrt(np.power(apparent_comp_vec[\"x_pix_coord\"][pos_num]-x_cen,2) + \n",
    "                                  np.power(apparent_comp_vec[\"y_pix_coord\"][pos_num]-y_cen,2)), \n",
    "                                  comp_rad)\n",
    "\n",
    "# invert-mask the companion\n",
    "comp_mask_inv = circ_mask(input_array = smoothed_w_fake_planet, \n",
    "                      mask_center = [apparent_comp_vec[\"y_pix_coord\"][pos_num],\n",
    "                                     apparent_comp_vec[\"x_pix_coord\"][pos_num]], \n",
    "                      mask_radius = comp_rad, \n",
    "                      invert=True)\n",
    "\n",
    "# invert-mask the noise ring \n",
    "noise_mask_outer_inv = circ_mask(input_array = smoothed_w_fake_planet, \n",
    "                             mask_center = [y_cen,x_cen], \n",
    "                             mask_radius = fake_psf_outer_edge_rad, \n",
    "                             invert=True)\n",
    "noise_mask_inner = circ_mask(input_array = smoothed_w_fake_planet, \n",
    "                             mask_center = [y_cen,x_cen], \n",
    "                             mask_radius = fake_psf_inner_edge_rad, \n",
    "                             invert=False)\n",
    "comp_mask = circ_mask(input_array = smoothed_w_fake_planet, \n",
    "                      mask_center = [apparent_comp_vec[\"y_pix_coord\"][pos_num],\n",
    "                                     apparent_comp_vec[\"x_pix_coord\"][pos_num]], \n",
    "                      mask_radius = comp_rad, \n",
    "                      invert=False)\n",
    "\n",
    "# mask involving the noise ring and without the companion\n",
    "net_noise_mask = np.add(np.add(noise_mask_inner,noise_mask_outer_inv),comp_mask)"
   ]
  },
  {
   "cell_type": "code",
   "execution_count": 105,
   "metadata": {
    "collapsed": false
   },
   "outputs": [
    {
     "name": "stdout",
     "output_type": "stream",
     "text": [
      "Signal:\n",
      "97.08212280273438\n",
      "Noise:\n",
      "171.25274990135517\n"
     ]
    }
   ],
   "source": [
    "# find S/N\n",
    "\n",
    "noise_smoothed = np.multiply(smoothed_w_fake_planet,net_noise_mask)\n",
    "comp_ampl = np.multiply(smoothed_w_fake_planet,comp_mask_inv)\n",
    "\n",
    "print(\"Signal:\")\n",
    "print(np.nanmax(comp_ampl))\n",
    "print(\"Noise:\")\n",
    "print(np.nanstd(noise_smoothed))"
   ]
  },
  {
   "cell_type": "code",
   "execution_count": 102,
   "metadata": {
    "collapsed": false
   },
   "outputs": [
    {
     "data": {
      "image/png": "[encoded data removed]",
      "text/plain": [
       "<Figure size 432x288 with 1 Axes>"
      ]
     },
     "metadata": {
      "needs_background": "light"
     },
     "output_type": "display_data"
    }
   ],
   "source": [
    "plt.imshow(noise_smoothed, origin=\"lower\")\n",
    "plt.show()"
   ]
  },
  {
   "cell_type": "code",
   "execution_count": 104,
   "metadata": {
    "collapsed": false
   },
   "outputs": [
    {
     "data": {
      "image/png": "[encoded data removed]",
      "text/plain": [
       "<Figure size 432x288 with 1 Axes>"
      ]
     },
     "metadata": {
      "needs_background": "light"
     },
     "output_type": "display_data"
    }
   ],
   "source": [
    "plt.imshow(comp_ampl, origin=\"lower\")\n",
    "plt.show()"
   ]
  },
  {
   "cell_type": "code",
   "execution_count": 42,
   "metadata": {
    "collapsed": false
   },
   "outputs": [
    {
     "name": "stdout",
     "output_type": "stream",
     "text": [
      "lm_180507_009000_nPCA164.fits\n"
     ]
    },
    {
     "data": {
      "image/png": "[encoded data removed]",
      "text/plain": [
       "<Figure size 432x288 with 1 Axes>"
      ]
     },
     "metadata": {
      "needs_background": "light"
     },
     "output_type": "display_data"
    }
   ],
   "source": [
    "framenum = 9000\n",
    "\n",
    "#### BELOW FOR FOR LOOP\n",
    "# fit 2D Gaussian\n",
    "img_string = 'lm_180507_'+str(\"{:0>6d}\".format(framenum))+'_nPCA164.fits'\n",
    "    \n",
    "# if file exists\n",
    "if os.path.isfile(stem_retrieve+img_string):\n",
    "        \n",
    "    # read in image\n",
    "    sciImg, header = fits.getdata(stem_retrieve+img_string,0,header=True)\n",
    "        \n",
    "    print(img_string)\n",
    "        \n",
    "    sciImg_masked = np.copy(sciImg)\n",
    "    mask_threshold = 35000 # pixel counts above this will be masked (refine this later based on linearity data)\n",
    "    sciImg_masked[sciImg_masked > mask_threshold] = np.nan\n",
    "        \n",
    "    #plt.hist(np.ravel(sciImg), bins=1000)\n",
    "    #plt.xlim([0,5000])\n",
    "        \n",
    "    plt.imshow(sciImg_masked)\n",
    "    plt.show()\n",
    "    \n",
    "    # find the PCA spectrum \n",
    "    "
   ]
  }
 ],
 "metadata": {
  "kernelspec": {
   "display_name": "Python 3",
   "language": "python",
   "name": "python3"
  },
  "language_info": {
   "codemirror_mode": {
    "name": "ipython",
    "version": 3
   },
   "file_extension": ".py",
   "mimetype": "text/x-python",
   "name": "python",
   "nbconvert_exporter": "python",
   "pygments_lexer": "ipython3",
   "version": "3.5.4"
  }
 },
 "nbformat": 4,
 "nbformat_minor": 2
}
