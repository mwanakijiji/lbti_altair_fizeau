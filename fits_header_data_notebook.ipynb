{
 "cells": [
  {
   "cell_type": "code",
   "execution_count": 1,
   "metadata": {
    "collapsed": true
   },
   "outputs": [],
   "source": [
    "# This scrapes data from FITS headers taken with the LBTI instrument\n",
    "# (Python 3.5)\n",
    "\n",
    "# Created by E.S., 2018 October"
   ]
  },
  {
   "cell_type": "code",
   "execution_count": 2,
   "metadata": {
    "collapsed": true
   },
   "outputs": [],
   "source": [
    "## For a demo of how this notebook works, download the fake FITS files in the directory\n",
    "## YOURUSERNAME@lbti-cdata:/mnt/iscsi/lmircam/L0/fake_fits\n",
    "## to a local directory /fake_fits/ which sits within the directory this notebook is in.\n",
    "## Then proceed through the following steps. Edit this notebook as you wish once you are \n",
    "## ready to run it on your own data."
   ]
  },
  {
   "cell_type": "code",
   "execution_count": 1,
   "metadata": {},
   "outputs": [],
   "source": [
    "import matplotlib\n",
    "import matplotlib.pyplot as plt\n",
    "import numpy as np\n",
    "import pandas as pd\n",
    "from astropy.io import fits\n",
    "import sys\n",
    "import glob, os\n",
    "%matplotlib inline"
   ]
  },
  {
   "cell_type": "code",
   "execution_count": 2,
   "metadata": {},
   "outputs": [],
   "source": [
    "## PRIMARY USER INPUTS HERE\n",
    "\n",
    "dirTreeStem = './fake_fits/' # local directory containing FITS files\n",
    "csv_meta_data_table = 'meta_data_table.csv' # csv table which will contain FITS header information\n",
    "block_diagram = 'block_diagram.pdf' # name of diagram of FITS header quantities\n",
    "#nightstring = '180507' # YYMMDD of observation (UT time)"
   ]
  },
  {
   "cell_type": "code",
   "execution_count": 3,
   "metadata": {},
   "outputs": [],
   "source": [
    "# change current working directory\n",
    "\n",
    "os.chdir(dirTreeStem)"
   ]
  },
  {
   "cell_type": "code",
   "execution_count": 4,
   "metadata": {},
   "outputs": [
    {
     "name": "stdout",
     "output_type": "stream",
     "text": [
      "Reading in header info from frame lm_180507_009016.fits...\n",
      "Reading in header info from frame lm_180507_009012.fits...\n",
      "Reading in header info from frame lm_180507_009000.fits...\n",
      "Reading in header info from frame lm_180507_009001.fits...\n",
      "Reading in header info from frame lm_180507_009018.fits...\n",
      "Reading in header info from frame lm_180507_009002.fits...\n",
      "Reading in header info from frame lm_180507_009003.fits...\n",
      "Reading in header info from frame lm_180507_009006.fits...\n",
      "Reading in header info from frame lm_180507_009010.fits...\n",
      "Reading in header info from frame lm_180507_009008.fits...\n",
      "Reading in header info from frame lm_180507_009013.fits...\n",
      "Reading in header info from frame lm_180507_009005.fits...\n",
      "Reading in header info from frame lm_180507_009004.fits...\n",
      "Reading in header info from frame lm_180507_009019.fits...\n",
      "Reading in header info from frame lm_180507_009014.fits...\n",
      "Reading in header info from frame lm_180507_009015.fits...\n",
      "Reading in header info from frame lm_180507_009009.fits...\n",
      "Reading in header info from frame lm_180507_009011.fits...\n",
      "Reading in header info from frame lm_180507_009007.fits...\n",
      "Reading in header info from frame lm_180507_009017.fits...\n"
     ]
    }
   ],
   "source": [
    "# read in files and extract meta-data from the FITS header fields\n",
    "\n",
    "counter = 0\n",
    "for f in glob.glob('*.fits'): # loop over FITS file names in the directory\n",
    "    counter += 1 # count loops\n",
    "    #print('\\r', 'Reading in header info from frame '+str(f)+'...', end='')\n",
    "    print('Reading in header info from frame '+str(f)+'...')\n",
    "    sys.stdout.flush()\n",
    "    \n",
    "    image, header = fits.getdata(f,0,header=True)\n",
    "\n",
    "    # initialize dictionary with empty lists for each key, if this is first loop iteration\n",
    "    if (counter==1):\n",
    "        data_ascii = {}\n",
    "        for k in header:\n",
    "            data_ascii[k] = [] \n",
    "        data_ascii['NODPOS'] = [] # manually add in header keys that don't appear in all frames\n",
    "        data_ascii['DATAFLAG'] = []\n",
    "        data_ascii['BADROWS'] = []\n",
    "        data_ascii['FRAMENUM'] = []\n",
    "        \n",
    "    # append data from frames   \n",
    "    for l in data_ascii:\n",
    "        if l in header:\n",
    "            data_ascii[l].append(header[l])\n",
    "        else:\n",
    "            if (l!='FRAMENUM'):\n",
    "                data_ascii[l].append(np.nan) # if a flag doesn't appear in the header\n",
    "            else:\n",
    "                split_underscore = f.split(\"_\") # to get frame number\n",
    "                split_final = split_underscore[2].split(\".\")\n",
    "                data_ascii[l].append(split_final[0])"
   ]
  },
  {
   "cell_type": "code",
   "execution_count": 5,
   "metadata": {},
   "outputs": [],
   "source": [
    "# convert to pandas dataframe\n",
    "\n",
    "df_init = pd.DataFrame()\n",
    "data_ascii_df = df_init.from_dict(data_ascii, orient='columns')"
   ]
  },
  {
   "cell_type": "code",
   "execution_count": 6,
   "metadata": {},
   "outputs": [],
   "source": [
    "# write to file for reference\n",
    "\n",
    "data_ascii_df.to_csv(csv_meta_data_table)"
   ]
  },
  {
   "cell_type": "code",
   "execution_count": 7,
   "metadata": {},
   "outputs": [],
   "source": [
    "# read in the file again as a pandas dataframe \n",
    "\n",
    "df = pd.read_csv(csv_meta_data_table) # read\n",
    "\n",
    "df.sort_values([\"FRAMENUM\"], inplace=True) # sort table by frame number (a few are out of order)\n",
    "df = df.reset_index(drop=True) # reset indices and don't keep the old ones"
   ]
  },
  {
   "cell_type": "markdown",
   "metadata": {},
   "source": [
    "# Display method 1: print frames/keys of interest "
   ]
  },
  {
   "cell_type": "code",
   "execution_count": 8,
   "metadata": {},
   "outputs": [
    {
     "name": "stdout",
     "output_type": "stream",
     "text": [
      "Unnamed: 0\n",
      "ACTEXP\n",
      "AGE_STOP\n",
      "BADROWS\n",
      "BAYXCUR\n",
      "BAYXREQ\n",
      "BAYYCUR\n",
      "BAYYREQ\n",
      "BITPIX\n",
      "COMMENT\n",
      "CTLRTEMP\n",
      "DATAFLAG\n",
      "DATE-OBS\n",
      "DETECTOR\n",
      "DETTEMP\n",
      "DET_OP\n",
      "DIMMFLUX\n",
      "EXPMODE\n",
      "EXPTIME\n",
      "FILENAME\n",
      "FLAG\n",
      "FPCAZM\n",
      "FPCAZS\n",
      "FPCELM\n",
      "FPCELS\n",
      "FPCPISTM\n",
      "FPCPISTS\n",
      "FRAME\n",
      "FRAMENUM\n",
      "GAIN\n",
      "GROUP\n",
      "IL_HORIZ\n",
      "INSTRUME\n",
      "ITIME\n",
      "KTCREMOV\n",
      "LBTTEMP\n",
      "LBT_AIRM\n",
      "LBT_ALT\n",
      "LBT_AZ\n",
      "LBT_DEC\n",
      "LBT_LST\n",
      "LBT_LXOS\n",
      "LBT_LYOS\n",
      "LBT_PARA\n",
      "LBT_RA\n",
      "LBT_RXOS\n",
      "LBT_RYOS\n",
      "LBT_UTC\n",
      "LCMODES\n",
      "LGAIN\n",
      "LLOOPON\n",
      "LMIRFW25\n",
      "LMIR_FW1\n",
      "LMIR_FW2\n",
      "LMIR_FW3\n",
      "LMIR_FW4\n",
      "LOFFSETX\n",
      "LOFFSETY\n",
      "LOFFSETZ\n",
      "LSLNULL\n",
      "LSTATUS\n",
      "LTTMODUL\n",
      "LWCCDBIN\n",
      "LWCCDFRQ\n",
      "LWIND1S\n",
      "MAGWHEEL\n",
      "NAXIS\n",
      "NAXIS1\n",
      "NAXIS2\n",
      "NCBMDVT\n",
      "NCOADDS\n",
      "NDROPS\n",
      "NGROUPS\n",
      "NIC_NAC\n",
      "NIL_NDFW\n",
      "NIL_OPW\n",
      "NIL_PRW\n",
      "NLDCRC\n",
      "NLMGTLT\n",
      "NLNCNC\n",
      "NLPPLTLT\n",
      "NLWNTRNS\n",
      "NMCLFSS\n",
      "NMCMSLD\n",
      "NOCHAVG\n",
      "NODPOS\n",
      "NOMICFW1\n",
      "NOMICFW2\n",
      "NOMICLAM\n",
      "NOMIC_PW\n",
      "NOUTPUTS\n",
      "NRAMPS\n",
      "NREADS\n",
      "NRESETS\n",
      "OBJNAME\n",
      "PCB1X\n",
      "PCB1Y\n",
      "PCBRAD\n",
      "PCCLOSED\n",
      "PCFJMPS\n",
      "PCJD\n",
      "PCLAMB1\n",
      "PCLAMB2\n",
      "PCLOOPHZ\n",
      "PCMSNR1\n",
      "PCMSNR2\n",
      "PCPHMCS1\n",
      "PCPHMCS2\n",
      "PCPHMEN1\n",
      "PCPHMEN2\n",
      "PCPHMSN1\n",
      "PCPHMSN2\n",
      "PCPHSTD1\n",
      "PCPHSTD2\n",
      "PCPLDG\n",
      "PCPLIG\n",
      "PCPLPG\n",
      "PCPLSP01\n",
      "PCPLSP1\n",
      "PCSSPER\n",
      "PCTIPSP\n",
      "PCTLTSP\n",
      "PID\n",
      "PIL_VERT\n",
      "PIXELCLK\n",
      "PRAMPRES\n",
      "RAMP\n",
      "RAMPTIM\n",
      "RCMODES\n",
      "RDRSTFRM\n",
      "READ\n",
      "RESETSCM\n",
      "RGAIN\n",
      "RLOOPON\n",
      "ROFFSETX\n",
      "ROFFSETY\n",
      "ROFFSETZ\n",
      "RSLNULL\n",
      "RSTATUS\n",
      "RTTMODUL\n",
      "RWCCDBIN\n",
      "RWCCDFRQ\n",
      "RWIND1S\n",
      "SEEING\n",
      "SIMPLE\n",
      "SMTTAU\n",
      "SPCTRANS\n",
      "SUBSECH\n",
      "SUBSECNM\n",
      "SUBSECW\n",
      "SUBSECX1\n",
      "SUBSECX2\n",
      "SUBSECY1\n",
      "SUBSECY2\n",
      "SYSSWVER\n",
      "TIME-END\n",
      "TIME-OBS\n",
      "USEREXP\n",
      "WARMCOLD\n",
      "WINDDIR\n",
      "WINDSPD\n",
      "XLINES\n",
      "XPIXELS\n",
      "XSTART\n",
      "XSTOP\n",
      "YSTART\n",
      "YSTOP\n",
      "_APERWHL\n"
     ]
    }
   ],
   "source": [
    "# print all FITS header keywords\n",
    "\n",
    "for i in range(0,len(df.keys())):\n",
    "    print(df.keys()[i])"
   ]
  },
  {
   "cell_type": "code",
   "execution_count": 9,
   "metadata": {},
   "outputs": [
    {
     "name": "stdout",
     "output_type": "stream",
     "text": [
      "FRAMENUM: 9000| FW3: Open| ACTEXP: 145976| RA:  19:50:47.009| DEC:   8:52:05.969\n",
      "FRAMENUM: 9001| FW3: Open| ACTEXP: 145976| RA:  19:50:47.009| DEC:   8:52:05.969\n",
      "FRAMENUM: 9002| FW3: Open| ACTEXP: 145976| RA:  19:50:47.009| DEC:   8:52:05.972\n",
      "FRAMENUM: 9003| FW3: Open| ACTEXP: 145976| RA:  19:50:47.008| DEC:   8:52:05.967\n",
      "FRAMENUM: 9004| FW3: Open| ACTEXP: 145976| RA:  19:50:47.010| DEC:   8:52:05.972\n",
      "FRAMENUM: 9005| FW3: Open| ACTEXP: 145976| RA:  19:50:47.010| DEC:   8:52:05.972\n",
      "FRAMENUM: 9006| FW3: Open| ACTEXP: 145976| RA:  19:50:47.009| DEC:   8:52:05.982\n",
      "FRAMENUM: 9007| FW3: Lgrism6AR| ACTEXP: 145976| RA:  19:50:47.009| DEC:   8:52:05.970\n",
      "FRAMENUM: 9008| FW3: Lgrism6AR| ACTEXP: 145976| RA:  19:50:47.009| DEC:   8:52:05.970\n",
      "FRAMENUM: 9009| FW3: Open| ACTEXP: 145976| RA:  19:50:47.010| DEC:   8:52:05.969\n",
      "FRAMENUM: 9010| FW3: Open| ACTEXP: 145976| RA:  19:50:47.009| DEC:   8:52:05.976\n",
      "FRAMENUM: 9011| FW3: Open| ACTEXP: 145976| RA:  19:50:47.009| DEC:   8:52:05.972\n",
      "FRAMENUM: 9012| FW3: Open| ACTEXP: 145976| RA:  19:50:47.009| DEC:   8:52:05.972\n",
      "FRAMENUM: 9013| FW3: Open| ACTEXP: 145976| RA:  19:50:47.008| DEC:   8:52:05.977\n",
      "FRAMENUM: 9014| FW3: Open| ACTEXP: 145976| RA:  19:50:47.010| DEC:   8:52:05.974\n",
      "FRAMENUM: 9015| FW3: Open| ACTEXP: 145976| RA:  19:50:47.010| DEC:   8:52:05.974\n",
      "FRAMENUM: 9016| FW3: Open| ACTEXP: 145976| RA:  19:50:47.009| DEC:   8:52:05.967\n",
      "FRAMENUM: 9017| FW3: Open| ACTEXP: 145976| RA:  19:50:47.009| DEC:   8:52:05.977\n",
      "FRAMENUM: 9018| FW3: Open| ACTEXP: 145976| RA:  19:50:47.009| DEC:   8:52:05.974\n",
      "FRAMENUM: 9019| FW3: Open| ACTEXP: 145976| RA:  19:50:47.009| DEC:   8:52:05.974\n"
     ]
    }
   ],
   "source": [
    "# print rows of selected info\n",
    "\n",
    "for t in range(0,20):\n",
    "    print('FRAMENUM: '+str(df['FRAMENUM'][t])+\n",
    "          '| FW3: '+str(df['LMIR_FW3'][t])+\n",
    "          '| ACTEXP: '+str(df['ACTEXP'][t])+\n",
    "          '| RA: '+str(df['LBT_RA'][t])+\n",
    "          '| DEC: '+str(df['LBT_DEC'][t]))"
   ]
  },
  {
   "cell_type": "markdown",
   "metadata": {},
   "source": [
    "# Display method 2: put quantities from the whole \n",
    "# data set into a block diagram"
   ]
  },
  {
   "cell_type": "code",
   "execution_count": 10,
   "metadata": {},
   "outputs": [
    {
     "data": {
      "image/png": "[encoded data removed]",
      "text/plain": [
       "<Figure size 2880x1008 with 1 Axes>"
      ]
     },
     "metadata": {},
     "output_type": "display_data"
    }
   ],
   "source": [
    "fig, ax = plt.subplots()\n",
    "fig.set_size_inches(40,14)\n",
    "\n",
    "\n",
    "# LMIR FW2\n",
    "ax.fill_between(df[\"FRAMENUM\"], 2, 3, where=df[\"LMIR_FW2\"]==\"ND1.0-T10\", \\\n",
    "                facecolor='blue', label='FW2 = ND1.0-T10', alpha=0.5)\n",
    "ax.fill_between(df[\"FRAMENUM\"], 2, 3, where=df[\"LMIR_FW2\"]==\"ND2.0-T1\", \\\n",
    "                facecolor='blue', label='FW2 = ND2.0-T1', alpha=0.2)\n",
    "ax.annotate('LMIR_FW2', xy=(9000, 2.5), size=20, xycoords='data')\n",
    "\n",
    "\n",
    "# LMIR FW2.5\n",
    "ax.fill_between(df[\"FRAMENUM\"], 3, 4, where=df[\"LMIRFW25\"]==\"Lspec2.8-4.0\", \\\n",
    "                facecolor='green', label='FW2.5 = Lspec2.8-4.0', alpha=0.5)\n",
    "ax.fill_between(df[\"FRAMENUM\"], 3, 4, where=df[\"LMIRFW25\"]==\"Open\", \\\n",
    "                facecolor='green', label='FW2.5 = Open', alpha=0.2)\n",
    "ax.annotate('LMIRFW25', xy=(9000, 3.5), size=20, xycoords='data')\n",
    "\n",
    "\n",
    "# LMIR FW3\n",
    "ax.fill_between(df[\"FRAMENUM\"], 4, 5, where=df[\"LMIR_FW3\"]==\"Lgrism6AR\", \\\n",
    "                facecolor='orange', label='FW3 = Lgrism6AR', alpha=0.5)\n",
    "ax.fill_between(df[\"FRAMENUM\"], 4, 5, where=df[\"LMIR_FW3\"]==\"Open\", \\\n",
    "                facecolor='orange', label='FW3 = Open', alpha=0.2)\n",
    "ax.annotate('LMIR_FW3', xy=(9000, 4.5), size=20, xycoords='data')\n",
    "\n",
    "\n",
    "# LMIR FW4\n",
    "ax.fill_between(df[\"FRAMENUM\"], 5, 6, where=df[\"LMIR_FW4\"]==\"Br-Alpha-On\", \\\n",
    "                facecolor='cyan', label='FW4 = Br-Alpha-On', alpha=1)\n",
    "ax.fill_between(df[\"FRAMENUM\"], 5, 6, where=df[\"LMIR_FW4\"]==\"Open\", \\\n",
    "                facecolor='cyan', label='FW4 = Open', alpha=0.2)\n",
    "ax.fill_between(df[\"FRAMENUM\"], 5, 6, where=df[\"LMIR_FW4\"]==\"Std-L\", \\\n",
    "                facecolor='grey', label='FW4 = Std-L', alpha=0.6)\n",
    "ax.fill_between(df[\"FRAMENUM\"], 5, 6, where=df[\"LMIR_FW4\"]==\"Blank\", \\\n",
    "                facecolor='black', label='FW4 = Blank', alpha=0.6)\n",
    "ax.annotate('LMIRFW_4', xy=(9000, 5.5), size=20, xycoords='data')\n",
    "\n",
    "\n",
    "# Integration time\n",
    "ax.fill_between(df[\"FRAMENUM\"], 6, 7, where=df[\"ACTEXP\"]==145976, \\\n",
    "                facecolor='darkgreen', label='ACTEXP = 0.145976 sec', alpha=0.5)\n",
    "ax.fill_between(df[\"FRAMENUM\"], 6, 7, where=df[\"ACTEXP\"]==1021832, \\\n",
    "                facecolor='darkgreen', label='ACTEXP = 1.021832 sec', alpha=0.2)\n",
    "ax.fill_between(df[\"FRAMENUM\"], 6, 7, where=df[\"ACTEXP\"]==1167808, \\\n",
    "                facecolor='darkgreen', label='ACTEXP = 1.167808 sec', alpha=1)\n",
    "ax.annotate('ACTEXP', xy=(9000, 6.5), size=20, xycoords='data')\n",
    "\n",
    "\n",
    "# Phase controlled?\n",
    "ax.fill_between(df[\"FRAMENUM\"], 7, 8, where=df[\"PCCLOSED\"]==1, \\\n",
    "                facecolor='black', label='PCCLOSED = True', alpha=0.2)\n",
    "ax.annotate('PCCLOSED', xy=(9000, 7.5), size=20, xycoords='data')\n",
    "\n",
    "# SX AO loop\n",
    "ax.fill_between(df[\"FRAMENUM\"], 8, 9, where=df[\"LLOOPON\"]==1, \\\n",
    "                facecolor='peru', label='L/R AOLOOP = True', alpha=1)\n",
    "ax.annotate('LLOOPON', xy=(9000, 8.5), size=20, xycoords='data')\n",
    "\n",
    "# SX AO loop\n",
    "ax.fill_between(df[\"FRAMENUM\"], 9, 10, where=df[\"RLOOPON\"]==1, \\\n",
    "                facecolor='peru', alpha=1)\n",
    "ax.annotate('RLOOPON', xy=(9000, 9.5), size=20, xycoords='data')\n",
    "\n",
    "ax.legend(loc='upper right', bbox_to_anchor=(1., 1))\n",
    "\n",
    "plt.xlim([9000,9020])\n",
    "plt.suptitle(\"Data set frame blocks\")\n",
    "plt.xlabel(\"frame number\")\n",
    "plt.tight_layout()\n",
    "\n",
    "# save figure\n",
    "#plt.savefig(block_diagram, bbox_inches='tight')\n",
    "\n",
    "# ... or just show figure\n",
    "plt.show()"
   ]
  },
  {
   "cell_type": "markdown",
   "metadata": {},
   "source": [
    "# Display method 3: old-fashioned plotting"
   ]
  },
  {
   "cell_type": "code",
   "execution_count": 11,
   "metadata": {},
   "outputs": [],
   "source": [
    "# for plotting\n",
    "\n",
    "infoOfInterest = df[np.logical_and((df['FRAMENUM'] >= 4249), (df['FRAMENUM'] <= 11381) )] # all altair frames\n",
    "\n",
    "#infoOfInterest = df[np.logical_and((df['FRAMENUM'] >= 8000), (df['FRAMENUM'] <= 8300) )]\n",
    "\n",
    "ut_time = pd.to_datetime(infoOfInterest['LBT_UTC'], format='%H:%M:%S.%f', utc=True)\n",
    "ut_time_dec = pd.Series([val.time() for val in ut_time])"
   ]
  },
  {
   "cell_type": "code",
   "execution_count": 14,
   "metadata": {},
   "outputs": [
    {
     "data": {
      "image/png": "[encoded data removed]",
      "text/plain": [
       "<Figure size 432x288 with 1 Axes>"
      ]
     },
     "metadata": {},
     "output_type": "display_data"
    }
   ],
   "source": [
    "# PA\n",
    "\n",
    "plt.plot(ut_time_dec,infoOfInterest['LBT_PARA'], linestyle='None', marker='o')\n",
    "plt.xlabel('UT 2018 May 07 (hr)')\n",
    "plt.ylabel('PA (deg)')\n",
    "plt.show()"
   ]
  },
  {
   "cell_type": "code",
   "execution_count": 15,
   "metadata": {},
   "outputs": [
    {
     "data": {
      "image/png": "[encoded data removed]",
      "text/plain": [
       "<Figure size 432x288 with 1 Axes>"
      ]
     },
     "metadata": {},
     "output_type": "display_data"
    }
   ],
   "source": [
    "# Seeing\n",
    "\n",
    "plt.plot(ut_time_dec,infoOfInterest['SEEING'], linestyle='None', marker='o', markersize=1)\n",
    "plt.xlabel('UT 2018 May 07 (hr)')\n",
    "plt.ylabel('Seeing (asec)')\n",
    "plt.show()"
   ]
  },
  {
   "cell_type": "code",
   "execution_count": null,
   "metadata": {},
   "outputs": [],
   "source": []
  }
 ],
 "metadata": {
  "kernelspec": {
   "display_name": "Python 3",
   "language": "python",
   "name": "python3"
  },
  "language_info": {
   "codemirror_mode": {
    "name": "ipython",
    "version": 3
   },
   "file_extension": ".py",
   "mimetype": "text/x-python",
   "name": "python",
   "nbconvert_exporter": "python",
   "pygments_lexer": "ipython3",
   "version": "3.5.5"
  }
 },
 "nbformat": 4,
 "nbformat_minor": 1
}
