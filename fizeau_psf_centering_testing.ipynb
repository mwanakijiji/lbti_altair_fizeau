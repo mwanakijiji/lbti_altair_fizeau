{
 "cells": [
  {
   "cell_type": "code",
   "execution_count": 1,
   "metadata": {
    "collapsed": true
   },
   "outputs": [],
   "source": [
    "# This is for testing Altair Fizeau PSF centering algorithms\n",
    "\n",
    "# created 2018 Nov. 2 by E.S."
   ]
  },
  {
   "cell_type": "markdown",
   "metadata": {},
   "source": [
    "## SECTION TO INITIALIZE"
   ]
  },
  {
   "cell_type": "code",
   "execution_count": 1,
   "metadata": {},
   "outputs": [],
   "source": [
    "# import stuff\n",
    "\n",
    "import urllib\n",
    "import numpy as np\n",
    "import matplotlib.pyplot as plt\n",
    "\n",
    "import PynPoint\n",
    "\n",
    "from PynPoint import Pypeline\n",
    "from PynPoint.IOmodules.Hdf5Reading import Hdf5ReadingModule\n",
    "from PynPoint.IOmodules.FitsWriting import FitsWritingModule\n",
    "from PynPoint.IOmodules.FitsReading import FitsReadingModule\n",
    "from PynPoint.IOmodules.TextReading import ParangReadingModule\n",
    "from PynPoint.ProcessingModules import PSFpreparationModule, \\\n",
    "                                       PcaPsfSubtractionModule, \\\n",
    "                                       ContrastCurveModule, \\\n",
    "                                       FluxAndPosition, \\\n",
    "                                    StackingAndSubsampling\n",
    "from PynPoint.ProcessingModules.StarAlignment import StarCenteringModule\n",
    "from PynPoint.ProcessingModules.StackingAndSubsampling import DerotateAndStackModule\n",
    "from PynPoint.ProcessingModules.FluxAndPosition import FakePlanetModule\n",
    "#from PynPoint.Util import AnalysisTools"
   ]
  },
  {
   "cell_type": "code",
   "execution_count": 2,
   "metadata": {},
   "outputs": [
    {
     "name": "stdout",
     "output_type": "stream",
     "text": [
      "Initiating PynPoint... [DONE]\n"
     ]
    }
   ],
   "source": [
    "# define workspaces and initialize Pypeline\n",
    "\n",
    "working_place = \"./pynpoint_experimentation_altair/working_place/\"\n",
    "input_place = \"./pynpoint_experimentation_altair/input_place/\"\n",
    "output_place = \"./pynpoint_experimentation_altair/output_place/\"\n",
    "\n",
    "pipeline = Pypeline(working_place_in=working_place,\n",
    "                    input_place_in=input_place,\n",
    "                    output_place_in=output_place)\n",
    "\n",
    "# now a *.ini file has been generated (this includes the PIXSCALE), if no pre-existing one was there"
   ]
  },
  {
   "cell_type": "code",
   "execution_count": 3,
   "metadata": {
    "collapsed": true
   },
   "outputs": [],
   "source": [
    "## IF THE *INI FILE WAS NEWLY GENERATED, EDIT THE *INI FILE TO SET\n",
    "## PIXSCALE = 0.0107"
   ]
  },
  {
   "cell_type": "markdown",
   "metadata": {},
   "source": [
    "# TEST USING PYNPOINT INFRASTRUCTURE"
   ]
  },
  {
   "cell_type": "markdown",
   "metadata": {},
   "source": [
    "## SECTION TO READ IN DATA"
   ]
  },
  {
   "cell_type": "code",
   "execution_count": 3,
   "metadata": {
    "collapsed": true
   },
   "outputs": [],
   "source": [
    "# read in science FITS files \n",
    "# (should have PARANG=0 in all headers, so as to keep the PSF in the same original orientation on the array; \n",
    "# we need to wait to correct for PARANG later)\n",
    "\n",
    "read_science = FitsReadingModule(name_in=\"read_science\",\n",
    "                                 input_dir=None,\n",
    "                                 image_tag=\"science\",\n",
    "                                 check=True)\n",
    "\n",
    "pipeline.add_module(read_science)"
   ]
  },
  {
   "cell_type": "code",
   "execution_count": 4,
   "metadata": {},
   "outputs": [
    {
     "name": "stdout",
     "output_type": "stream",
     "text": [
      "Plate scale for /config/ is 0.0107\n"
     ]
    }
   ],
   "source": [
    "# confirm PIXSCALE change\n",
    "\n",
    "pixscale_config = pipeline.get_attribute(\"config\", \"PIXSCALE\")\n",
    "print(\"Plate scale for /config/ is \"+str(pixscale_config))\n",
    "#pixscale_sci = pipeline.get_attribute(\"science\", \"PIXSCALE\")\n",
    "#print(\"Plate scale for /science/ is \"+str(pixscale_sci))"
   ]
  },
  {
   "cell_type": "code",
   "execution_count": 5,
   "metadata": {},
   "outputs": [],
   "source": [
    "# read in PSF reference FITS files (i.e., unsaturated frames)\n",
    "# (these do not have any PARANG in the header, but it probably doesn't matter)\n",
    "\n",
    "read_ref_psf = FitsReadingModule(name_in=\"read_ref_psf\",\n",
    "                                 input_dir=input_place+'ref_psf/',\n",
    "                                 image_tag=\"ref_psf\",\n",
    "                                 check=True)\n",
    "\n",
    "pipeline.add_module(read_ref_psf)"
   ]
  },
  {
   "cell_type": "markdown",
   "metadata": {
    "collapsed": true
   },
   "source": [
    "## SECTION 0: NO CENTERING OF PSFS; JUST PUT INTO A CUBE"
   ]
  },
  {
   "cell_type": "code",
   "execution_count": 7,
   "metadata": {},
   "outputs": [
    {
     "name": "stdout",
     "output_type": "stream",
     "text": [
      "Validating Pypeline... [DONE]\n"
     ]
    },
    {
     "name": "stderr",
     "output_type": "stream",
     "text": [
      "/home/unasemaje/anaconda3/envs/py27/lib/python2.7/site-packages/PynPoint/IOmodules/FitsReading.py:172: UserWarning: Static attribute DIT (=ESO DET DIT) not found in the FITS header.\n",
      "  % (item[0], fitskey))\n",
      "/home/unasemaje/anaconda3/envs/py27/lib/python2.7/site-packages/PynPoint/IOmodules/FitsReading.py:172: UserWarning: Static attribute LATITUDE (=ESO TEL GEOLAT) not found in the FITS header.\n",
      "  % (item[0], fitskey))\n",
      "/home/unasemaje/anaconda3/envs/py27/lib/python2.7/site-packages/PynPoint/IOmodules/FitsReading.py:172: UserWarning: Static attribute LONGITUDE (=ESO TEL GEOLON) not found in the FITS header.\n",
      "  % (item[0], fitskey))\n",
      "/home/unasemaje/anaconda3/envs/py27/lib/python2.7/site-packages/PynPoint/IOmodules/FitsReading.py:207: UserWarning: Non-static attribute EXP_NO (=ESO DET EXP NO) not found in the FITS header.\n",
      "  \"header.\" % (item[0], fitskey))\n",
      "/home/unasemaje/anaconda3/envs/py27/lib/python2.7/site-packages/PynPoint/IOmodules/FitsReading.py:207: UserWarning: Non-static attribute NDIT (=ESO DET NDIT) not found in the FITS header.\n",
      "  \"header.\" % (item[0], fitskey))\n",
      "/home/unasemaje/anaconda3/envs/py27/lib/python2.7/site-packages/PynPoint/IOmodules/FitsReading.py:207: UserWarning: Non-static attribute PARANG_START (=ESO ADA POSANG) not found in the FITS header.\n",
      "  \"header.\" % (item[0], fitskey))\n",
      "/home/unasemaje/anaconda3/envs/py27/lib/python2.7/site-packages/PynPoint/IOmodules/FitsReading.py:207: UserWarning: Non-static attribute PARANG_END (=ESO ADA POSANG END) not found in the FITS header.\n",
      "  \"header.\" % (item[0], fitskey))\n",
      "/home/unasemaje/anaconda3/envs/py27/lib/python2.7/site-packages/PynPoint/IOmodules/FitsReading.py:207: UserWarning: Non-static attribute DITHER_X (=ESO SEQ CUMOFFSETX) not found in the FITS header.\n",
      "  \"header.\" % (item[0], fitskey))\n",
      "/home/unasemaje/anaconda3/envs/py27/lib/python2.7/site-packages/PynPoint/IOmodules/FitsReading.py:207: UserWarning: Non-static attribute DITHER_Y (=ESO SEQ CUMOFFSETY) not found in the FITS header.\n",
      "  \"header.\" % (item[0], fitskey))\n",
      "/home/unasemaje/anaconda3/envs/py27/lib/python2.7/site-packages/PynPoint/IOmodules/FitsReading.py:207: UserWarning: Non-static attribute PUPIL (=ESO ADA PUPILPOS) not found in the FITS header.\n",
      "  \"header.\" % (item[0], fitskey))\n",
      "/home/unasemaje/anaconda3/envs/py27/lib/python2.7/site-packages/PynPoint/IOmodules/FitsReading.py:207: UserWarning: Non-static attribute RA (=RA) not found in the FITS header.\n",
      "  \"header.\" % (item[0], fitskey))\n",
      "/home/unasemaje/anaconda3/envs/py27/lib/python2.7/site-packages/PynPoint/IOmodules/FitsReading.py:207: UserWarning: Non-static attribute DEC (=DEC) not found in the FITS header.\n",
      "  \"header.\" % (item[0], fitskey))\n"
     ]
    },
    {
     "name": "stdout",
     "output_type": "stream",
     "text": [
      "Running FitsReadingModule... [DONE]\n"
     ]
    },
    {
     "name": "stderr",
     "output_type": "stream",
     "text": [
      "/home/unasemaje/anaconda3/envs/py27/lib/python2.7/site-packages/PynPoint/IOmodules/FitsReading.py:172: UserWarning: Static attribute INSTRUMENT (=INSTRUME) not found in the FITS header.\n",
      "  % (item[0], fitskey))\n",
      "/home/unasemaje/anaconda3/envs/py27/lib/python2.7/site-packages/PynPoint/IOmodules/FitsReading.py:207: UserWarning: Non-static attribute DATE (=DATE-OBS) not found in the FITS header.\n",
      "  \"header.\" % (item[0], fitskey))\n"
     ]
    },
    {
     "name": "stdout",
     "output_type": "stream",
     "text": [
      "Running FitsReadingModule... [DONE]\n",
      "Running FitsWritingModule... [DONE]\n"
     ]
    }
   ],
   "source": [
    "# write cube of non-centered frames\n",
    "\n",
    "write_noCentering_PAcorrected = FitsWritingModule(file_name=\"altair_unsat_psfs_PAcorrected_noCentering.fits\",\n",
    "                              name_in=\"write_noCentering_PAcorrected\",\n",
    "                              output_dir=output_place,\n",
    "                              data_tag=\"ref_psf\")\n",
    "                              \n",
    "pipeline.add_module(write_noCentering_PAcorrected)\n",
    "\n",
    "\n",
    "pipeline.run()"
   ]
  },
  {
   "cell_type": "markdown",
   "metadata": {
    "collapsed": true
   },
   "source": [
    "## SECTION 1: CENTER UNSATURATED PSFS"
   ]
  },
  {
   "cell_type": "code",
   "execution_count": 6,
   "metadata": {},
   "outputs": [
    {
     "name": "stdout",
     "output_type": "stream",
     "text": [
      "Validating Pypeline... [DONE]\n"
     ]
    },
    {
     "name": "stderr",
     "output_type": "stream",
     "text": [
      "/home/unasemaje/anaconda3/envs/py27/lib/python2.7/site-packages/PynPoint/IOmodules/FitsReading.py:172: UserWarning: Static attribute INSTRUMENT (=INSTRUME) not found in the FITS header.\n",
      "  % (item[0], fitskey))\n",
      "/home/unasemaje/anaconda3/envs/py27/lib/python2.7/site-packages/PynPoint/IOmodules/FitsReading.py:172: UserWarning: Static attribute DIT (=ESO DET DIT) not found in the FITS header.\n",
      "  % (item[0], fitskey))\n",
      "/home/unasemaje/anaconda3/envs/py27/lib/python2.7/site-packages/PynPoint/IOmodules/FitsReading.py:172: UserWarning: Static attribute LATITUDE (=ESO TEL GEOLAT) not found in the FITS header.\n",
      "  % (item[0], fitskey))\n",
      "/home/unasemaje/anaconda3/envs/py27/lib/python2.7/site-packages/PynPoint/IOmodules/FitsReading.py:172: UserWarning: Static attribute LONGITUDE (=ESO TEL GEOLON) not found in the FITS header.\n",
      "  % (item[0], fitskey))\n",
      "/home/unasemaje/anaconda3/envs/py27/lib/python2.7/site-packages/PynPoint/IOmodules/FitsReading.py:207: UserWarning: Non-static attribute EXP_NO (=ESO DET EXP NO) not found in the FITS header.\n",
      "  \"header.\" % (item[0], fitskey))\n",
      "/home/unasemaje/anaconda3/envs/py27/lib/python2.7/site-packages/PynPoint/IOmodules/FitsReading.py:207: UserWarning: Non-static attribute NDIT (=ESO DET NDIT) not found in the FITS header.\n",
      "  \"header.\" % (item[0], fitskey))\n",
      "/home/unasemaje/anaconda3/envs/py27/lib/python2.7/site-packages/PynPoint/IOmodules/FitsReading.py:207: UserWarning: Non-static attribute DATE (=DATE-OBS) not found in the FITS header.\n",
      "  \"header.\" % (item[0], fitskey))\n",
      "/home/unasemaje/anaconda3/envs/py27/lib/python2.7/site-packages/PynPoint/IOmodules/FitsReading.py:207: UserWarning: Non-static attribute PARANG_START (=ESO ADA POSANG) not found in the FITS header.\n",
      "  \"header.\" % (item[0], fitskey))\n",
      "/home/unasemaje/anaconda3/envs/py27/lib/python2.7/site-packages/PynPoint/IOmodules/FitsReading.py:207: UserWarning: Non-static attribute PARANG_END (=ESO ADA POSANG END) not found in the FITS header.\n",
      "  \"header.\" % (item[0], fitskey))\n",
      "/home/unasemaje/anaconda3/envs/py27/lib/python2.7/site-packages/PynPoint/IOmodules/FitsReading.py:207: UserWarning: Non-static attribute DITHER_X (=ESO SEQ CUMOFFSETX) not found in the FITS header.\n",
      "  \"header.\" % (item[0], fitskey))\n",
      "/home/unasemaje/anaconda3/envs/py27/lib/python2.7/site-packages/PynPoint/IOmodules/FitsReading.py:207: UserWarning: Non-static attribute DITHER_Y (=ESO SEQ CUMOFFSETY) not found in the FITS header.\n",
      "  \"header.\" % (item[0], fitskey))\n",
      "/home/unasemaje/anaconda3/envs/py27/lib/python2.7/site-packages/PynPoint/IOmodules/FitsReading.py:207: UserWarning: Non-static attribute PUPIL (=ESO ADA PUPILPOS) not found in the FITS header.\n",
      "  \"header.\" % (item[0], fitskey))\n",
      "/home/unasemaje/anaconda3/envs/py27/lib/python2.7/site-packages/PynPoint/IOmodules/FitsReading.py:207: UserWarning: Non-static attribute RA (=RA) not found in the FITS header.\n",
      "  \"header.\" % (item[0], fitskey))\n",
      "/home/unasemaje/anaconda3/envs/py27/lib/python2.7/site-packages/PynPoint/IOmodules/FitsReading.py:207: UserWarning: Non-static attribute DEC (=DEC) not found in the FITS header.\n",
      "  \"header.\" % (item[0], fitskey))\n"
     ]
    },
    {
     "name": "stdout",
     "output_type": "stream",
     "text": [
      "Running FitsReadingModule... [DONE]\n"
     ]
    },
    {
     "name": "stderr",
     "output_type": "stream",
     "text": [
      "/home/unasemaje/anaconda3/envs/py27/lib/python2.7/site-packages/scipy/optimize/minpack.py:794: OptimizeWarning: Covariance of the parameters could not be estimated\n",
      "  category=OptimizeWarning)\n"
     ]
    },
    {
     "name": "stdout",
     "output_type": "stream",
     "text": [
      "Running StarCenteringModule... [DONE]\n",
      "2D Gaussian fit could not converge on 4 image(s). [WARNING]\n"
     ]
    },
    {
     "name": "stderr",
     "output_type": "stream",
     "text": [
      "/home/unasemaje/anaconda3/envs/py27/lib/python2.7/site-packages/PynPoint/Core/DataIO.py:445: UserWarning: No attribute found - requested: PARANG.\n",
      "  warnings.warn(\"No attribute found - requested: %s.\" % name)\n"
     ]
    },
    {
     "ename": "TypeError",
     "evalue": "'NoneType' object has no attribute '__getitem__'",
     "output_type": "error",
     "traceback": [
      "\u001b[1;31m---------------------------------------------------------------------------\u001b[0m",
      "\u001b[1;31mTypeError\u001b[0m                                 Traceback (most recent call last)",
      "\u001b[1;32m<ipython-input-6-19e2722f1e08>\u001b[0m in \u001b[0;36m<module>\u001b[1;34m()\u001b[0m\n\u001b[0;32m     42\u001b[0m \u001b[1;33m\u001b[0m\u001b[0m\n\u001b[0;32m     43\u001b[0m \u001b[1;33m\u001b[0m\u001b[0m\n\u001b[1;32m---> 44\u001b[1;33m \u001b[0mpipeline\u001b[0m\u001b[1;33m.\u001b[0m\u001b[0mrun\u001b[0m\u001b[1;33m(\u001b[0m\u001b[1;33m)\u001b[0m\u001b[1;33m\u001b[0m\u001b[0m\n\u001b[0m",
      "\u001b[1;32m/home/unasemaje/anaconda3/envs/py27/lib/python2.7/site-packages/PynPoint/Core/Pypeline.pyc\u001b[0m in \u001b[0;36mrun\u001b[1;34m(self)\u001b[0m\n\u001b[0;32m    358\u001b[0m \u001b[1;33m\u001b[0m\u001b[0m\n\u001b[0;32m    359\u001b[0m         \u001b[1;32mfor\u001b[0m \u001b[0mkey\u001b[0m \u001b[1;32min\u001b[0m \u001b[0mself\u001b[0m\u001b[1;33m.\u001b[0m\u001b[0m_m_modules\u001b[0m\u001b[1;33m:\u001b[0m\u001b[1;33m\u001b[0m\u001b[0m\n\u001b[1;32m--> 360\u001b[1;33m             \u001b[0mself\u001b[0m\u001b[1;33m.\u001b[0m\u001b[0m_m_modules\u001b[0m\u001b[1;33m[\u001b[0m\u001b[0mkey\u001b[0m\u001b[1;33m]\u001b[0m\u001b[1;33m.\u001b[0m\u001b[0mrun\u001b[0m\u001b[1;33m(\u001b[0m\u001b[1;33m)\u001b[0m\u001b[1;33m\u001b[0m\u001b[0m\n\u001b[0m\u001b[0;32m    361\u001b[0m \u001b[1;33m\u001b[0m\u001b[0m\n\u001b[0;32m    362\u001b[0m     \u001b[1;32mdef\u001b[0m \u001b[0mrun_module\u001b[0m\u001b[1;33m(\u001b[0m\u001b[0mself\u001b[0m\u001b[1;33m,\u001b[0m \u001b[0mname\u001b[0m\u001b[1;33m)\u001b[0m\u001b[1;33m:\u001b[0m\u001b[1;33m\u001b[0m\u001b[0m\n",
      "\u001b[1;32m/home/unasemaje/anaconda3/envs/py27/lib/python2.7/site-packages/PynPoint/ProcessingModules/StackingAndSubsampling.pyc\u001b[0m in \u001b[0;36mrun\u001b[1;34m(self)\u001b[0m\n\u001b[0;32m    315\u001b[0m \u001b[1;33m\u001b[0m\u001b[0m\n\u001b[0;32m    316\u001b[0m             \u001b[1;32mif\u001b[0m \u001b[0mself\u001b[0m\u001b[1;33m.\u001b[0m\u001b[0mm_derotate\u001b[0m\u001b[1;33m:\u001b[0m\u001b[1;33m\u001b[0m\u001b[0m\n\u001b[1;32m--> 317\u001b[1;33m                 \u001b[0mangles\u001b[0m \u001b[1;33m=\u001b[0m \u001b[1;33m-\u001b[0m\u001b[0mparang\u001b[0m\u001b[1;33m[\u001b[0m\u001b[0mframes\u001b[0m\u001b[1;33m[\u001b[0m\u001b[0mi\u001b[0m\u001b[1;33m]\u001b[0m\u001b[1;33m:\u001b[0m\u001b[0mframes\u001b[0m\u001b[1;33m[\u001b[0m\u001b[0mi\u001b[0m\u001b[1;33m+\u001b[0m\u001b[1;36m1\u001b[0m\u001b[1;33m]\u001b[0m\u001b[1;33m]\u001b[0m\u001b[1;33m+\u001b[0m\u001b[0mself\u001b[0m\u001b[1;33m.\u001b[0m\u001b[0mm_extra_rot\u001b[0m\u001b[1;33m\u001b[0m\u001b[0m\n\u001b[0m\u001b[0;32m    318\u001b[0m                 \u001b[0mimages\u001b[0m \u001b[1;33m=\u001b[0m \u001b[0mrotate_images\u001b[0m\u001b[1;33m(\u001b[0m\u001b[0mimages\u001b[0m\u001b[1;33m,\u001b[0m \u001b[0mangles\u001b[0m\u001b[1;33m)\u001b[0m\u001b[1;33m\u001b[0m\u001b[0m\n\u001b[0;32m    319\u001b[0m \u001b[1;33m\u001b[0m\u001b[0m\n",
      "\u001b[1;31mTypeError\u001b[0m: 'NoneType' object has no attribute '__getitem__'"
     ]
    }
   ],
   "source": [
    "# Try StarCenteringModule\n",
    "'''\n",
    "try_StarCenteringModule = StarCenteringModule(name_in='try_StarCenteringModule', \n",
    "                                              image_in_tag='ref_psf', \n",
    "                                              image_out_tag='ref_psf_StarCenteringModule', \n",
    "                                              mask_out_tag=None, \n",
    "                                              fit_out_tag='center_fit', \n",
    "                                              method='full', \n",
    "                                              interpolation='spline', \n",
    "                                              radius=0.16, \n",
    "                                              sign='positive')\n",
    "\n",
    "pipeline.add_module(try_StarCenteringModule)\n",
    "\n",
    "\n",
    "# write cube of centered frames (no PA correction)\n",
    "write_StarCenteringModule_noPAchange = FitsWritingModule(file_name=\"altair_unsat_psfs_noPAchange_StarCenteringModule.fits\",\n",
    "                              name_in=\"write_StarCenteringModule_noPAchange\",\n",
    "                              output_dir=output_place,\n",
    "                              data_tag=\"ref_psf_StarCenteringModule\")\n",
    "                              \n",
    "pipeline.add_module(write_StarCenteringModule_noPAchange)\n",
    "'''\n",
    "\n",
    "# derotate based on PA\n",
    "derotate_frames = StackingAndSubsampling.DerotateAndStackModule(name_in='derotate_frames', \n",
    "                                         image_in_tag='ref_psf_StarCenteringModule', \n",
    "                                         image_out_tag='ref_psf_StarCenteringModule_derotated', \n",
    "                                         derotate=True, \n",
    "                                         stack=None, \n",
    "                                         extra_rot=0.0)\n",
    "\n",
    "pipeline.add_module(derotate_frames)\n",
    "\n",
    "# write cube of centered frames (with PA correction; for unsaturated PSFs, there's no PA info applicable)\n",
    "'''\n",
    "write_StarCenteringModule_PAcorrected = FitsWritingModule(file_name=\"altair_unsat_psfs_PAcorrected_StarCenteringModule.fits\",\n",
    "                              name_in=\"write_StarCenteringModule_PAcorrected\",\n",
    "                              output_dir=output_place,\n",
    "                              data_tag=\"ref_psf_StarCenteringModule_derotated\")\n",
    "                              \n",
    "pipeline.add_module(write_StarCenteringModule_PAcorrected)\n",
    "'''\n",
    "\n",
    "pipeline.run()"
   ]
  },
  {
   "cell_type": "code",
   "execution_count": 3,
   "metadata": {},
   "outputs": [
    {
     "name": "stdout",
     "output_type": "stream",
     "text": [
      "Validating Pypeline... [DONE]\n",
      "Running Hdf5ReadingModule... [DONE]\n"
     ]
    }
   ],
   "source": [
    "# read in HDF5 file and plot some stuff\n",
    "\n",
    "hdf5_reading = PynPoint.IOmodules.Hdf5Reading.Hdf5ReadingModule(name_in='hdf5_reading', \n",
    "                                                 input_filename=\"PynPoint_database.hdf5\", \n",
    "                                                 input_dir=working_place, \n",
    "                                                 tag_dictionary=None)\n",
    "\n",
    "pipeline.add_module(hdf5_reading)\n",
    "\n",
    "pipeline.run()"
   ]
  },
  {
   "cell_type": "code",
   "execution_count": 4,
   "metadata": {},
   "outputs": [],
   "source": [
    "centering_results = pipeline.get_data(\"center_fit\")"
   ]
  },
  {
   "cell_type": "code",
   "execution_count": 5,
   "metadata": {},
   "outputs": [
    {
     "data": {
      "text/plain": [
       "(487, 12)"
      ]
     },
     "execution_count": 5,
     "metadata": {},
     "output_type": "execute_result"
    }
   ],
   "source": [
    "np.shape(centering_results)"
   ]
  },
  {
   "cell_type": "code",
   "execution_count": 19,
   "metadata": {},
   "outputs": [
    {
     "data": {
      "image/png": "[encoded data removed]",
      "text/plain": [
       "<matplotlib.figure.Figure at 0x9a3f766c>"
      ]
     },
     "metadata": {},
     "output_type": "display_data"
    }
   ],
   "source": [
    "%matplotlib inline\n",
    "plt.plot(centering_results[100:150,0])\n",
    "#plt.ylim([-1,1])\n",
    "plt.show()"
   ]
  },
  {
   "cell_type": "markdown",
   "metadata": {},
   "source": [
    "# TEST USING VANESSA'S CENTERING METHOD (TBD)"
   ]
  },
  {
   "cell_type": "code",
   "execution_count": 7,
   "metadata": {
    "collapsed": true
   },
   "outputs": [],
   "source": [
    "from lmircam_tools import overlap_psfs"
   ]
  },
  {
   "cell_type": "code",
   "execution_count": null,
   "metadata": {
    "collapsed": true
   },
   "outputs": [],
   "source": [
    "# read in images individually, determine center, then shift the image with sub-pixel precision"
   ]
  },
  {
   "cell_type": "code",
   "execution_count": 8,
   "metadata": {},
   "outputs": [
    {
     "ename": "NameError",
     "evalue": "name 'image' is not defined",
     "output_type": "error",
     "traceback": [
      "\u001b[1;31m---------------------------------------------------------------------------\u001b[0m",
      "\u001b[1;31mNameError\u001b[0m                                 Traceback (most recent call last)",
      "\u001b[1;32m<ipython-input-8-8ab5660f8306>\u001b[0m in \u001b[0;36m<module>\u001b[1;34m()\u001b[0m\n\u001b[1;32m----> 1\u001b[1;33m \u001b[0mpsf_loc\u001b[0m \u001b[1;33m=\u001b[0m \u001b[0moverlap_psfs\u001b[0m\u001b[1;33m.\u001b[0m\u001b[0mfind_airy_psf\u001b[0m\u001b[1;33m(\u001b[0m\u001b[0mimage\u001b[0m\u001b[1;33m)\u001b[0m\u001b[1;33m\u001b[0m\u001b[0m\n\u001b[0m",
      "\u001b[1;31mNameError\u001b[0m: name 'image' is not defined"
     ]
    }
   ],
   "source": [
    "psf_loc = overlap_psfs.find_airy_psf(image)"
   ]
  },
  {
   "cell_type": "markdown",
   "metadata": {},
   "source": [
    "# TEST USING CROSS-CORRELATION OF SYNTHETIC PSF (TBD)"
   ]
  }
 ],
 "metadata": {
  "kernelspec": {
   "display_name": "Python 3",
   "language": "python",
   "name": "python3"
  },
  "language_info": {
   "codemirror_mode": {
    "name": "ipython",
    "version": 3
   },
   "file_extension": ".py",
   "mimetype": "text/x-python",
   "name": "python",
   "nbconvert_exporter": "python",
   "pygments_lexer": "ipython3",
   "version": "3.5.6"
  }
 },
 "nbformat": 4,
 "nbformat_minor": 2
}
