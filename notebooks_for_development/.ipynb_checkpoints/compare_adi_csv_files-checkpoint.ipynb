{
 "cells": [
  {
   "cell_type": "code",
   "execution_count": 1,
   "metadata": {},
   "outputs": [],
   "source": [
    "# This reads in csv files with signal and noise data, as out out\n",
    "# by the Altair pipeline, and compares them (for bug-checking)\n",
    "\n",
    "# Created 2019 November 5 by E.S."
   ]
  },
  {
   "cell_type": "code",
   "execution_count": 1,
   "metadata": {},
   "outputs": [],
   "source": [
    "from astropy.io import fits\n",
    "import matplotlib.pyplot as plt\n",
    "import numpy as np\n",
    "import pandas as pd"
   ]
  },
  {
   "cell_type": "code",
   "execution_count": 11,
   "metadata": {},
   "outputs": [],
   "source": [
    "# some constants for plotting\n",
    "\n",
    "lambda_over_D = np.divide(4.05E-6,8.25)*206265.\n",
    "lambda_over_Bcc = np.divide(4.05E-6,14.4)*206265."
   ]
  },
  {
   "cell_type": "code",
   "execution_count": 2,
   "metadata": {},
   "outputs": [],
   "source": [
    "no_planets_string = (\"/Users/nyumbani/Downloads/pipeline_10_signal_to_noise/\"+\n",
    "                     \"cubes/test_no_planets_191108/test_no_planets_csv_file.csv\")\n",
    "with_planets_string = (\"/Users/nyumbani/Downloads/pipeline_10_signal_to_noise/\"+\n",
    "                       \"cubes/test_with_planets_191108/test_with_planets_csv_file.csv\")"
   ]
  },
  {
   "cell_type": "code",
   "execution_count": 3,
   "metadata": {},
   "outputs": [],
   "source": [
    "df_no_planets = pd.read_csv(no_planets_string)\n",
    "df_with_planets = pd.read_csv(with_planets_string)"
   ]
  },
  {
   "cell_type": "code",
   "execution_count": 4,
   "metadata": {},
   "outputs": [],
   "source": [
    "host_ampl = df_no_planets[\"host_ampl\"]"
   ]
  },
  {
   "cell_type": "code",
   "execution_count": 30,
   "metadata": {},
   "outputs": [],
   "source": [
    "# sort by radius\n",
    "\n",
    "df_no_planets = df_no_planets.sort_values(by=\"rad_asec\").reset_index()\n",
    "df_with_planets = df_with_planets.sort_values(by=\"rad_asec\").reset_index()"
   ]
  },
  {
   "cell_type": "code",
   "execution_count": 31,
   "metadata": {},
   "outputs": [
    {
     "data": {
      "text/html": [
       "<div>\n",
       "<style scoped>\n",
       "    .dataframe tbody tr th:only-of-type {\n",
       "        vertical-align: middle;\n",
       "    }\n",
       "\n",
       "    .dataframe tbody tr th {\n",
       "        vertical-align: top;\n",
       "    }\n",
       "\n",
       "    .dataframe thead th {\n",
       "        text-align: right;\n",
       "    }\n",
       "</style>\n",
       "<table border=\"1\" class=\"dataframe\">\n",
       "  <thead>\n",
       "    <tr style=\"text-align: right;\">\n",
       "      <th></th>\n",
       "      <th>index</th>\n",
       "      <th>Unnamed: 0</th>\n",
       "      <th>angle_deg</th>\n",
       "      <th>rad_asec</th>\n",
       "      <th>ampl_linear_norm</th>\n",
       "      <th>host_ampl</th>\n",
       "      <th>signal</th>\n",
       "      <th>noise</th>\n",
       "      <th>s2n</th>\n",
       "    </tr>\n",
       "  </thead>\n",
       "  <tbody>\n",
       "    <tr>\n",
       "      <th>0</th>\n",
       "      <td>5</td>\n",
       "      <td>0</td>\n",
       "      <td>0.0</td>\n",
       "      <td>0.05</td>\n",
       "      <td>0.001</td>\n",
       "      <td>1.165688e+09</td>\n",
       "      <td>5.534643e+06</td>\n",
       "      <td>318712.027316</td>\n",
       "      <td>17.365656</td>\n",
       "    </tr>\n",
       "    <tr>\n",
       "      <th>1</th>\n",
       "      <td>2</td>\n",
       "      <td>0</td>\n",
       "      <td>0.0</td>\n",
       "      <td>0.10</td>\n",
       "      <td>0.001</td>\n",
       "      <td>1.165688e+09</td>\n",
       "      <td>4.834646e+06</td>\n",
       "      <td>859652.889286</td>\n",
       "      <td>5.623951</td>\n",
       "    </tr>\n",
       "    <tr>\n",
       "      <th>2</th>\n",
       "      <td>6</td>\n",
       "      <td>0</td>\n",
       "      <td>0.0</td>\n",
       "      <td>0.20</td>\n",
       "      <td>0.001</td>\n",
       "      <td>1.165688e+09</td>\n",
       "      <td>2.280172e+06</td>\n",
       "      <td>673178.849548</td>\n",
       "      <td>3.387171</td>\n",
       "    </tr>\n",
       "    <tr>\n",
       "      <th>3</th>\n",
       "      <td>1</td>\n",
       "      <td>0</td>\n",
       "      <td>0.0</td>\n",
       "      <td>0.25</td>\n",
       "      <td>0.001</td>\n",
       "      <td>1.165688e+09</td>\n",
       "      <td>1.366247e+06</td>\n",
       "      <td>195529.685267</td>\n",
       "      <td>6.987413</td>\n",
       "    </tr>\n",
       "    <tr>\n",
       "      <th>4</th>\n",
       "      <td>4</td>\n",
       "      <td>0</td>\n",
       "      <td>0.0</td>\n",
       "      <td>0.30</td>\n",
       "      <td>0.001</td>\n",
       "      <td>1.165688e+09</td>\n",
       "      <td>7.226843e+05</td>\n",
       "      <td>70062.539411</td>\n",
       "      <td>10.314846</td>\n",
       "    </tr>\n",
       "    <tr>\n",
       "      <th>5</th>\n",
       "      <td>3</td>\n",
       "      <td>0</td>\n",
       "      <td>0.0</td>\n",
       "      <td>0.35</td>\n",
       "      <td>0.001</td>\n",
       "      <td>1.165688e+09</td>\n",
       "      <td>5.122853e+05</td>\n",
       "      <td>72503.949666</td>\n",
       "      <td>7.065620</td>\n",
       "    </tr>\n",
       "    <tr>\n",
       "      <th>6</th>\n",
       "      <td>0</td>\n",
       "      <td>0</td>\n",
       "      <td>0.0</td>\n",
       "      <td>0.40</td>\n",
       "      <td>0.001</td>\n",
       "      <td>1.165688e+09</td>\n",
       "      <td>5.038699e+05</td>\n",
       "      <td>68206.031754</td>\n",
       "      <td>7.387469</td>\n",
       "    </tr>\n",
       "  </tbody>\n",
       "</table>\n",
       "</div>"
      ],
      "text/plain": [
       "   index  Unnamed: 0  angle_deg  rad_asec  ampl_linear_norm     host_ampl  \\\n",
       "0      5           0        0.0      0.05             0.001  1.165688e+09   \n",
       "1      2           0        0.0      0.10             0.001  1.165688e+09   \n",
       "2      6           0        0.0      0.20             0.001  1.165688e+09   \n",
       "3      1           0        0.0      0.25             0.001  1.165688e+09   \n",
       "4      4           0        0.0      0.30             0.001  1.165688e+09   \n",
       "5      3           0        0.0      0.35             0.001  1.165688e+09   \n",
       "6      0           0        0.0      0.40             0.001  1.165688e+09   \n",
       "\n",
       "         signal          noise        s2n  \n",
       "0  5.534643e+06  318712.027316  17.365656  \n",
       "1  4.834646e+06  859652.889286   5.623951  \n",
       "2  2.280172e+06  673178.849548   3.387171  \n",
       "3  1.366247e+06  195529.685267   6.987413  \n",
       "4  7.226843e+05   70062.539411  10.314846  \n",
       "5  5.122853e+05   72503.949666   7.065620  \n",
       "6  5.038699e+05   68206.031754   7.387469  "
      ]
     },
     "execution_count": 31,
     "metadata": {},
     "output_type": "execute_result"
    }
   ],
   "source": [
    "df_with_planets"
   ]
  },
  {
   "cell_type": "code",
   "execution_count": 32,
   "metadata": {},
   "outputs": [
    {
     "data": {
      "text/html": [
       "<div>\n",
       "<style scoped>\n",
       "    .dataframe tbody tr th:only-of-type {\n",
       "        vertical-align: middle;\n",
       "    }\n",
       "\n",
       "    .dataframe tbody tr th {\n",
       "        vertical-align: top;\n",
       "    }\n",
       "\n",
       "    .dataframe thead th {\n",
       "        text-align: right;\n",
       "    }\n",
       "</style>\n",
       "<table border=\"1\" class=\"dataframe\">\n",
       "  <thead>\n",
       "    <tr style=\"text-align: right;\">\n",
       "      <th></th>\n",
       "      <th>index</th>\n",
       "      <th>Unnamed: 0</th>\n",
       "      <th>angle_deg</th>\n",
       "      <th>rad_asec</th>\n",
       "      <th>ampl_linear_norm</th>\n",
       "      <th>host_ampl</th>\n",
       "      <th>signal</th>\n",
       "      <th>noise</th>\n",
       "      <th>s2n</th>\n",
       "    </tr>\n",
       "  </thead>\n",
       "  <tbody>\n",
       "    <tr>\n",
       "      <th>0</th>\n",
       "      <td>5</td>\n",
       "      <td>0</td>\n",
       "      <td>0.0</td>\n",
       "      <td>0.05</td>\n",
       "      <td>0.001</td>\n",
       "      <td>1.165688e+09</td>\n",
       "      <td>5.178841e+06</td>\n",
       "      <td>300857.558491</td>\n",
       "      <td>17.213599</td>\n",
       "    </tr>\n",
       "    <tr>\n",
       "      <th>1</th>\n",
       "      <td>0</td>\n",
       "      <td>0</td>\n",
       "      <td>0.0</td>\n",
       "      <td>0.10</td>\n",
       "      <td>0.001</td>\n",
       "      <td>1.165688e+09</td>\n",
       "      <td>4.556315e+06</td>\n",
       "      <td>826573.682174</td>\n",
       "      <td>5.512291</td>\n",
       "    </tr>\n",
       "    <tr>\n",
       "      <th>2</th>\n",
       "      <td>2</td>\n",
       "      <td>0</td>\n",
       "      <td>0.0</td>\n",
       "      <td>0.20</td>\n",
       "      <td>0.001</td>\n",
       "      <td>1.165688e+09</td>\n",
       "      <td>1.707543e+06</td>\n",
       "      <td>659080.849692</td>\n",
       "      <td>2.590794</td>\n",
       "    </tr>\n",
       "    <tr>\n",
       "      <th>3</th>\n",
       "      <td>3</td>\n",
       "      <td>0</td>\n",
       "      <td>0.0</td>\n",
       "      <td>0.25</td>\n",
       "      <td>0.001</td>\n",
       "      <td>1.165688e+09</td>\n",
       "      <td>6.058389e+05</td>\n",
       "      <td>154008.544893</td>\n",
       "      <td>3.933800</td>\n",
       "    </tr>\n",
       "    <tr>\n",
       "      <th>4</th>\n",
       "      <td>6</td>\n",
       "      <td>0</td>\n",
       "      <td>0.0</td>\n",
       "      <td>0.30</td>\n",
       "      <td>0.001</td>\n",
       "      <td>1.165688e+09</td>\n",
       "      <td>1.791598e+05</td>\n",
       "      <td>23087.748428</td>\n",
       "      <td>7.759952</td>\n",
       "    </tr>\n",
       "    <tr>\n",
       "      <th>5</th>\n",
       "      <td>1</td>\n",
       "      <td>0</td>\n",
       "      <td>0.0</td>\n",
       "      <td>0.35</td>\n",
       "      <td>0.001</td>\n",
       "      <td>1.165688e+09</td>\n",
       "      <td>3.902098e+04</td>\n",
       "      <td>8899.542810</td>\n",
       "      <td>4.384605</td>\n",
       "    </tr>\n",
       "    <tr>\n",
       "      <th>6</th>\n",
       "      <td>4</td>\n",
       "      <td>0</td>\n",
       "      <td>0.0</td>\n",
       "      <td>0.40</td>\n",
       "      <td>0.001</td>\n",
       "      <td>1.165688e+09</td>\n",
       "      <td>7.620514e+03</td>\n",
       "      <td>6619.425975</td>\n",
       "      <td>1.151235</td>\n",
       "    </tr>\n",
       "  </tbody>\n",
       "</table>\n",
       "</div>"
      ],
      "text/plain": [
       "   index  Unnamed: 0  angle_deg  rad_asec  ampl_linear_norm     host_ampl  \\\n",
       "0      5           0        0.0      0.05             0.001  1.165688e+09   \n",
       "1      0           0        0.0      0.10             0.001  1.165688e+09   \n",
       "2      2           0        0.0      0.20             0.001  1.165688e+09   \n",
       "3      3           0        0.0      0.25             0.001  1.165688e+09   \n",
       "4      6           0        0.0      0.30             0.001  1.165688e+09   \n",
       "5      1           0        0.0      0.35             0.001  1.165688e+09   \n",
       "6      4           0        0.0      0.40             0.001  1.165688e+09   \n",
       "\n",
       "         signal          noise        s2n  \n",
       "0  5.178841e+06  300857.558491  17.213599  \n",
       "1  4.556315e+06  826573.682174   5.512291  \n",
       "2  1.707543e+06  659080.849692   2.590794  \n",
       "3  6.058389e+05  154008.544893   3.933800  \n",
       "4  1.791598e+05   23087.748428   7.759952  \n",
       "5  3.902098e+04    8899.542810   4.384605  \n",
       "6  7.620514e+03    6619.425975   1.151235  "
      ]
     },
     "execution_count": 32,
     "metadata": {},
     "output_type": "execute_result"
    }
   ],
   "source": [
    "df_no_planets"
   ]
  },
  {
   "cell_type": "code",
   "execution_count": 37,
   "metadata": {},
   "outputs": [
    {
     "data": {
      "image/png": "[encoded data removed]",
      "text/plain": [
       "<Figure size 432x288 with 1 Axes>"
      ]
     },
     "metadata": {
      "needs_background": "light"
     },
     "output_type": "display_data"
    }
   ],
   "source": [
    "plt.scatter(df_no_planets[\"rad_asec\"],df_no_planets[\"noise\"],label=\"no planets\")\n",
    "plt.scatter(df_with_planets[\"rad_asec\"],df_with_planets[\"noise\"],label=\"with planets\")\n",
    "plt.axvline(x=lambda_over_D, linestyle=\"--\", color=\"k\")\n",
    "plt.axvline(x=lambda_over_Bcc, linestyle=\"--\", color=\"k\")\n",
    "plt.xlabel(\"Radius (asec)\")\n",
    "plt.ylabel(\"Counts (std of noise ring)\")\n",
    "plt.legend()\n",
    "plt.title(\"Noise\")\n",
    "#plt.savefig(\"noise_191109.pdf\")\n",
    "plt.show()"
   ]
  },
  {
   "cell_type": "code",
   "execution_count": 38,
   "metadata": {},
   "outputs": [
    {
     "data": {
      "image/png": "[encoded data removed]",
      "text/plain": [
       "<Figure size 432x288 with 1 Axes>"
      ]
     },
     "metadata": {
      "needs_background": "light"
     },
     "output_type": "display_data"
    }
   ],
   "source": [
    "plt.scatter(df_no_planets[\"rad_asec\"],df_no_planets[\"signal\"],label=\"no planets\")\n",
    "plt.scatter(df_with_planets[\"rad_asec\"],df_with_planets[\"signal\"],label=\"with planets\")\n",
    "\n",
    "# plot expected signal, given the noise in no-planet frames and amplitude of the fake\n",
    "plt.scatter(df_no_planets[\"rad_asec\"],np.add(df_no_planets[\"signal\"],0.001*host_ampl),\n",
    "            label=\"(injected signal + \\nno-planet noise pedestal)\")\n",
    "plt.axvline(x=lambda_over_D, linestyle=\"--\", color=\"k\")\n",
    "plt.axvline(x=lambda_over_Bcc, linestyle=\"--\", color=\"k\")\n",
    "plt.xlabel(\"Radius (asec)\")\n",
    "plt.ylabel(\"Counts (max value inside \\nplanet aperture)\")\n",
    "plt.legend()\n",
    "plt.title(\"Signal\")\n",
    "#plt.savefig(\"signal_191109.pdf\")\n",
    "plt.show()"
   ]
  },
  {
   "cell_type": "code",
   "execution_count": 39,
   "metadata": {},
   "outputs": [
    {
     "data": {
      "image/png": "[encoded data removed]",
      "text/plain": [
       "<Figure size 432x288 with 1 Axes>"
      ]
     },
     "metadata": {
      "needs_background": "light"
     },
     "output_type": "display_data"
    }
   ],
   "source": [
    "plt.clf()\n",
    "\n",
    "signal_with_minus_signal_without = np.subtract(df_with_planets[\"signal\"],\n",
    "                                               df_no_planets[\"signal\"])\n",
    "\n",
    "signal_expected_above_noise = np.subtract(np.add(df_no_planets[\"signal\"],0.001*host_ampl),\n",
    "                                          df_no_planets[\"signal\"])\n",
    "\n",
    "throughput = np.divide(signal_with_minus_signal_without,signal_expected_above_noise)\n",
    "\n",
    "# plot expected signal, given the noise in no-planet frames and amplitude of the fake\n",
    "plt.scatter(df_no_planets[\"rad_asec\"],throughput)\n",
    "plt.axvline(x=lambda_over_D, linestyle=\"--\", color=\"k\")\n",
    "plt.axvline(x=lambda_over_Bcc, linestyle=\"--\", color=\"k\")\n",
    "plt.xlabel(\"Radius (asec)\")\n",
    "plt.ylabel(\"Counts\")\n",
    "plt.legend()\n",
    "plt.title(\"Throughput\")\n",
    "#plt.savefig(\"throughput_191109.pdf\")\n",
    "plt.show()"
   ]
  },
  {
   "cell_type": "code",
   "execution_count": 40,
   "metadata": {},
   "outputs": [
    {
     "data": {
      "image/png": "[encoded data removed]",
      "text/plain": [
       "<Figure size 432x288 with 1 Axes>"
      ]
     },
     "metadata": {
      "needs_background": "light"
     },
     "output_type": "display_data"
    }
   ],
   "source": [
    "plt.scatter(df_no_planets[\"rad_asec\"],df_no_planets[\"s2n\"],label=\"no planets\")\n",
    "plt.scatter(df_with_planets[\"rad_asec\"],df_with_planets[\"s2n\"],label=\"with planets\")\n",
    "plt.axvline(x=lambda_over_D, linestyle=\"--\", color=\"k\")\n",
    "plt.axvline(x=lambda_over_Bcc, linestyle=\"--\", color=\"k\")\n",
    "plt.axhline(y=5, linestyle=\"--\", color=\"k\")\n",
    "plt.xlabel(\"Radius (asec)\")\n",
    "plt.ylabel(\"S/N\")\n",
    "plt.legend()\n",
    "plt.title(\"S/N\")\n",
    "#plt.savefig(\"sn_191109.pdf\")\n",
    "plt.show()"
   ]
  },
  {
   "cell_type": "code",
   "execution_count": null,
   "metadata": {},
   "outputs": [],
   "source": []
  }
 ],
 "metadata": {
  "kernelspec": {
   "display_name": "Python 3",
   "language": "python",
   "name": "python3"
  },
  "language_info": {
   "codemirror_mode": {
    "name": "ipython",
    "version": 3
   },
   "file_extension": ".py",
   "mimetype": "text/x-python",
   "name": "python",
   "nbconvert_exporter": "python",
   "pygments_lexer": "ipython3",
   "version": "3.6.6"
  }
 },
 "nbformat": 4,
 "nbformat_minor": 1
}
