{
 "cells": [
  {
   "cell_type": "code",
   "execution_count": null,
   "metadata": {},
   "outputs": [],
   "source": [
    "# This is for figuring out a criterion for deciding whether a Fizeau PSF is of sufficient \n",
    "# quality to put it into a PCA cube. The residuals are actually the mean, median, and sum of \n",
    "# the absolute value of the residuals between a best-fit 2D Gaussian and the PSF\n",
    "\n",
    "# Created 2019 Aug 21 by E.S."
   ]
  },
  {
   "cell_type": "code",
   "execution_count": 5,
   "metadata": {},
   "outputs": [],
   "source": [
    "import pandas as pd\n",
    "import matplotlib.pyplot as plt\n",
    "\n",
    "%matplotlib qt"
   ]
  },
  {
   "cell_type": "code",
   "execution_count": 2,
   "metadata": {},
   "outputs": [],
   "source": [
    "df = pd.read_csv(\"test_residual_info.csv\")"
   ]
  },
  {
   "cell_type": "code",
   "execution_count": 11,
   "metadata": {},
   "outputs": [],
   "source": [
    "f, (ax1, ax2, ax3) = plt.subplots(3, 1, sharex=True)\n",
    "\n",
    "ax1.scatter(df[\"frame_num\"], df[\"resd_avg\"], s=4, label=\"resd_avg\")\n",
    "ax1.scatter(df[\"frame_num\"], df[\"resd_med\"], s=4, label=\"resd_med\")\n",
    "ax1.legend()\n",
    "\n",
    "ax2.scatter(df[\"frame_num\"], df[\"resd_int\"], s=4, label=\"resd_int\")\n",
    "ax2.legend()\n",
    "\n",
    "ax3.scatter(df[\"frame_num\"], df[\"x_gauss\"], s=4, label=\"x_gauss\")\n",
    "ax3.scatter(df[\"frame_num\"], df[\"y_gauss\"], s=4, label=\"y_gauss\")\n",
    "ax3.legend()\n",
    "\n",
    "plt.show()"
   ]
  },
  {
   "cell_type": "code",
   "execution_count": null,
   "metadata": {},
   "outputs": [],
   "source": []
  }
 ],
 "metadata": {
  "kernelspec": {
   "display_name": "Python 3",
   "language": "python",
   "name": "python3"
  },
  "language_info": {
   "codemirror_mode": {
    "name": "ipython",
    "version": 3
   },
   "file_extension": ".py",
   "mimetype": "text/x-python",
   "name": "python",
   "nbconvert_exporter": "python",
   "pygments_lexer": "ipython3",
   "version": "3.6.6"
  }
 },
 "nbformat": 4,
 "nbformat_minor": 2
}
