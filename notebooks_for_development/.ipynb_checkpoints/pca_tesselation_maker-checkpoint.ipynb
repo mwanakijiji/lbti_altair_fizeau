{
 "cells": [
  {
   "cell_type": "code",
   "execution_count": 1,
   "metadata": {},
   "outputs": [],
   "source": [
    "# This makes tesselation patterns for PCA decompositions\n",
    "\n",
    "# created 2019 Oct 26 by E.S."
   ]
  },
  {
   "cell_type": "code",
   "execution_count": 11,
   "metadata": {},
   "outputs": [],
   "source": [
    "import numpy as np\n",
    "import numpy.ma as ma\n",
    "import matplotlib.pyplot as plt\n",
    "import scipy\n",
    "import pandas as pd\n",
    "from scipy import ndimage\n",
    "from astropy.io import fits\n",
    "from matplotlib.colors import LogNorm\n",
    "import matplotlib.colors as colors\n",
    "import matplotlib.cm as cmx\n",
    "\n",
    "%matplotlib inline\n",
    "#%matplotlib qt"
   ]
  },
  {
   "cell_type": "code",
   "execution_count": 12,
   "metadata": {},
   "outputs": [],
   "source": [
    "lmir_PS = 0.0107 # LMIR plate scale (asec per pixel)"
   ]
  },
  {
   "cell_type": "code",
   "execution_count": 13,
   "metadata": {},
   "outputs": [],
   "source": [
    "# Airy ring positions in lambda/D\n",
    "\n",
    "first_dark = 1.220\n",
    "second_dark = 2.233\n",
    "third_dark = 3.238\n",
    "fourth_dark = 4.241\n",
    "fifth_dark = 5.243\n",
    "\n",
    "first_bright = 1.635\n",
    "second_bright = 2.679\n",
    "third_bright = 3.69\n",
    "fourth_bright = 4.71\n",
    "fifth_bright = 5.71"
   ]
  },
  {
   "cell_type": "code",
   "execution_count": 16,
   "metadata": {},
   "outputs": [],
   "source": [
    "lambda_over_D_pix = np.divide(4.05e-6,8.25)*(206264.8/lmir_PS)"
   ]
  },
  {
   "cell_type": "code",
   "execution_count": 18,
   "metadata": {},
   "outputs": [],
   "source": [
    "# Airy ring positions in pix\n",
    "\n",
    "first_dark_pix = np.multiply(1.220,lambda_over_D_pix)\n",
    "second_dark_pix = np.multiply(2.233,lambda_over_D_pix)\n",
    "third_dark_pix = np.multiply(3.238,lambda_over_D_pix)\n",
    "fourth_dark_pix = np.multiply(4.241,lambda_over_D_pix)\n",
    "fifth_dark_pix = np.multiply(5.243,lambda_over_D_pix)\n",
    "\n",
    "first_bright_pix = np.multiply(1.635,lambda_over_D_pix)\n",
    "second_bright_pix = np.multiply(2.679,lambda_over_D_pix)\n",
    "third_bright_pix = np.multiply(3.69,lambda_over_D_pix)\n",
    "fourth_bright_pix = np.multiply(4.71,lambda_over_D_pix)\n",
    "fifth_bright_pix = np.multiply(5.71,lambda_over_D_pix)"
   ]
  },
  {
   "cell_type": "code",
   "execution_count": 24,
   "metadata": {},
   "outputs": [],
   "source": [
    "# circular mask\n",
    "\n",
    "def create_circular_mask(image, center=None, radius=None):\n",
    "\n",
    "    h, w = np.shape(image)\n",
    "    \n",
    "    if center is None: # use the middle of the image\n",
    "        center = [int(w/2), int(h/2)]\n",
    "    if radius is None: # use the smallest distance between the center and image walls\n",
    "        radius = min(center[0], center[1], w-center[0], h-center[1])\n",
    "\n",
    "    Y, X = np.ogrid[:h, :w]\n",
    "    dist_from_center = np.sqrt((X - center[0])**2 + (Y-center[1])**2)\n",
    "\n",
    "    mask = dist_from_center <= radius\n",
    "    return mask"
   ]
  },
  {
   "cell_type": "code",
   "execution_count": 25,
   "metadata": {},
   "outputs": [],
   "source": [
    "# initialize a grid\n",
    "\n",
    "x = np.arange(0, 100)\n",
    "y = np.arange(0, 100)\n",
    "xv, yv = np.meshgrid(x, y)"
   ]
  },
  {
   "cell_type": "code",
   "execution_count": 26,
   "metadata": {},
   "outputs": [],
   "source": [
    "dummy_frame = np.ones((100,100))"
   ]
  },
  {
   "cell_type": "code",
   "execution_count": 27,
   "metadata": {},
   "outputs": [
    {
     "data": {
      "image/png": "[encoded data removed]",
      "text/plain": [
       "<Figure size 432x288 with 2 Axes>"
      ]
     },
     "metadata": {
      "needs_background": "light"
     },
     "output_type": "display_data"
    }
   ],
   "source": [
    "# make simple circle\n",
    "\n",
    "# initialize a grid\n",
    "x = np.arange(0, 100)\n",
    "y = np.arange(0, 100)\n",
    "xv, yv = np.meshgrid(x, y)\n",
    "\n",
    "mask_circle = create_circular_mask(dummy_frame, radius = 28)\n",
    "\n",
    "# turn to integers\n",
    "plt.imshow(mask_circle.astype(int), origin=\"lower\")\n",
    "plt.colorbar()\n",
    "plt.show()\n",
    "\n",
    "# write FITS\n",
    "hdu = fits.PrimaryHDU(mask_circle.astype(int))\n",
    "hdul = fits.HDUList([hdu])\n",
    "#hdul.writeto('mask_100x100_rad028.fits', overwrite=True)"
   ]
  },
  {
   "cell_type": "code",
   "execution_count": 27,
   "metadata": {},
   "outputs": [
    {
     "data": {
      "image/png": "[encoded data removed]",
      "text/plain": [
       "<Figure size 432x288 with 2 Axes>"
      ]
     },
     "metadata": {
      "needs_background": "light"
     },
     "output_type": "display_data"
    }
   ],
   "source": [
    "# mfda\n",
    "\n",
    "# initialize a grid\n",
    "x = np.arange(0, 100)\n",
    "y = np.arange(0, 100)\n",
    "xv, yv = np.meshgrid(x, y)\n",
    "\n",
    "mask_circle = create_circular_mask(dummy_frame, radius = first_bright_pix)\n",
    "\n",
    "# turn to integers\n",
    "plt.imshow(mask_circle.astype(int), origin=\"lower\")\n",
    "plt.colorbar()\n",
    "plt.show()\n",
    "\n",
    "# write FITS\n",
    "hdu = fits.PrimaryHDU(mask_circle.astype(int))\n",
    "hdul = fits.HDUList([hdu])\n",
    "#hdul.writeto('mask_100x100_rad028.fits', overwrite=True)"
   ]
  },
  {
   "cell_type": "code",
   "execution_count": 35,
   "metadata": {},
   "outputs": [
    {
     "data": {
      "text/plain": [
       "OrderedDict()"
      ]
     },
     "execution_count": 35,
     "metadata": {},
     "output_type": "execute_result"
    }
   ],
   "source": [
    "# quad4 mask definition\n",
    "slices = 4\n",
    "this_cube = np.zeros((slices,100,100))\n",
    "\n",
    "this_slice = np.zeros((100,100))\n",
    "this_slice[50:,50:] = 1\n",
    "this_cube[0,:,:] = this_slice\n",
    "\n",
    "this_slice = np.zeros((100,100))\n",
    "this_slice[50:,:50] = 1\n",
    "this_cube[1,:,:] = this_slice\n",
    "\n",
    "this_slice = np.zeros((100,100))\n",
    "this_slice[:50,:50] = 1\n",
    "this_cube[2,:,:] = this_slice\n",
    "\n",
    "this_slice = np.zeros((100,100))\n",
    "this_slice[:50,50:] = 1\n",
    "this_cube[3,:,:] = this_slice\n",
    "\n",
    "#hdu = fits.PrimaryHDU(this_cube.astype(int))\n",
    "#hdul = fits.HDUList([hdu])\n",
    "#hdul.writeto('mask_100x100_4quad.fits', overwrite=True)"
   ]
  },
  {
   "cell_type": "code",
   "execution_count": 88,
   "metadata": {},
   "outputs": [],
   "source": [
    "# 100 squares mask definition\n",
    "slices = 100\n",
    "this_cube = np.zeros((slices,100,100))\n",
    "\n",
    "slice_num = 0\n",
    "\n",
    "# y\n",
    "for i in range(0,10):\n",
    "    # x\n",
    "    for j in range(0,10):\n",
    "        this_slice = np.zeros((100,100))\n",
    "        this_slice[10*i:10*(i+1),10*j:10*(j+1)] = 1\n",
    "        this_cube[slice_num,:,:] = this_slice\n",
    "        slice_num += 1\n",
    "\n",
    "hdu = fits.PrimaryHDU(this_cube.astype(int))\n",
    "hdul = fits.HDUList([hdu])\n",
    "hdul.writeto('mask_10x10_100squares.fits', overwrite=True)"
   ]
  },
  {
   "cell_type": "code",
   "execution_count": 7,
   "metadata": {},
   "outputs": [],
   "source": [
    "# simple whole-frame 100x100 mask definition\n",
    "\n",
    "# note this has two redundant slices, because otherwise the dimensions get messed up\n",
    "this_slice = np.ones((2,100,100))\n",
    "\n",
    "hdu = fits.PrimaryHDU(this_slice.astype(int))\n",
    "hdul = fits.HDUList([hdu])\n",
    "hdul.writeto('mask_100x100pix_whole_frame.fits', overwrite=True)"
   ]
  },
  {
   "cell_type": "code",
   "execution_count": 102,
   "metadata": {},
   "outputs": [],
   "source": [
    "# quad4_circ mask definition\n",
    "# 1= good; 0= bad\n",
    "\n",
    "slices = 8\n",
    "this_cube = np.zeros((slices,100,100))\n",
    "dummy_frame = np.ones((100,100))\n",
    "\n",
    "# define quadrants across slices first\n",
    "this_slice = np.zeros((100,100))\n",
    "this_slice[50:,50:] = 1\n",
    "this_cube[0,:,:] = this_slice\n",
    "this_cube[4,:,:] = this_slice\n",
    "\n",
    "this_slice = np.zeros((100,100))\n",
    "this_slice[50:,:50] = 1\n",
    "this_cube[1,:,:] = this_slice\n",
    "this_cube[5,:,:] = this_slice\n",
    "\n",
    "this_slice = np.zeros((100,100))\n",
    "this_slice[:50,:50] = 1\n",
    "this_cube[2,:,:] = this_slice\n",
    "this_cube[6,:,:] = this_slice\n",
    "\n",
    "this_slice = np.zeros((100,100))\n",
    "this_slice[:50,50:] = 1\n",
    "this_cube[3,:,:] = this_slice\n",
    "this_cube[7,:,:] = this_slice\n",
    "\n",
    "# now, multiply the first set of slices by a circular mask\n",
    "mask_circle = create_circular_mask(dummy_frame, radius = 22)\n",
    "this_cube[0:4,:,:] = np.multiply(this_cube[0:4,:,:],mask_circle)\n",
    "\n",
    "# and multiply the second set of slices by the inverse circular mask\n",
    "this_cube[4:,:,:] = np.multiply(this_cube[4:,:,:],np.abs(np.subtract(mask_circle,1)))\n",
    "\n",
    "# write out\n",
    "hdu = fits.PrimaryHDU(this_cube.astype(int))\n",
    "hdul = fits.HDUList([hdu])\n",
    "hdul.writeto('mask_quad4_circ.fits', overwrite=True)"
   ]
  },
  {
   "cell_type": "code",
   "execution_count": 122,
   "metadata": {},
   "outputs": [],
   "source": [
    "# quad4_circ_ring mask definition\n",
    "# 1= good; 0= bad\n",
    "\n",
    "slices = 12\n",
    "this_cube = np.zeros((slices,100,100))\n",
    "dummy_frame = np.ones((100,100))\n",
    "\n",
    "# define quadrants across slices first\n",
    "this_slice = np.zeros((100,100))\n",
    "this_slice[50:,50:] = 1\n",
    "this_cube[0,:,:] = this_slice\n",
    "this_cube[4,:,:] = this_slice\n",
    "this_cube[8,:,:] = this_slice\n",
    "\n",
    "this_slice = np.zeros((100,100))\n",
    "this_slice[50:,:50] = 1\n",
    "this_cube[1,:,:] = this_slice\n",
    "this_cube[5,:,:] = this_slice\n",
    "this_cube[9,:,:] = this_slice\n",
    "\n",
    "this_slice = np.zeros((100,100))\n",
    "this_slice[:50,:50] = 1\n",
    "this_cube[2,:,:] = this_slice\n",
    "this_cube[6,:,:] = this_slice\n",
    "this_cube[10,:,:] = this_slice\n",
    "\n",
    "this_slice = np.zeros((100,100))\n",
    "this_slice[:50,50:] = 1\n",
    "this_cube[3,:,:] = this_slice\n",
    "this_cube[7,:,:] = this_slice\n",
    "this_cube[11,:,:] = this_slice\n",
    "\n",
    "# now, multiply the first set of slices by a circular mask\n",
    "mask_circle_inner = create_circular_mask(dummy_frame, radius = 12)\n",
    "mask_circle_outer = create_circular_mask(dummy_frame, radius = 30)\n",
    "this_cube[0:4,:,:] = np.multiply(this_cube[0:4,:,:],mask_circle_inner)\n",
    "\n",
    "# and multiply the third set of slices by the outer circular mask and subtract the first\n",
    "this_cube[8:12,:,:] = np.multiply(this_cube[8:12,:,:],np.abs(np.subtract(mask_circle_outer,1)))\n",
    "\n",
    "# and multiply the second set of slices by the outer circular mask and subtract the first\n",
    "dummy_slices = np.subtract(this_cube[4:8,:,:],this_cube[0:4,:,:])\n",
    "this_cube[4:8,:,:] = np.subtract(dummy_slices,this_cube[8:12,:,:])\n",
    "\n",
    "\n",
    "# write out\n",
    "'''\n",
    "hdu = fits.PrimaryHDU(this_cube.astype(int))\n",
    "hdul = fits.HDUList([hdu])\n",
    "hdul.writeto('mask_quad4_circ_ring.fits', overwrite=True)\n",
    "'''"
   ]
  },
  {
   "cell_type": "code",
   "execution_count": 20,
   "metadata": {},
   "outputs": [],
   "source": [
    "# make 'ring' masks \n",
    "\n",
    "sciImg1, header = fits.getdata(\"mask_100x100_rad028.fits\",0,header=True)\n",
    "sciImg2, header = fits.getdata(\"mask_100x100_rad021.fits\",0,header=True)\n",
    "sciImg3, header = fits.getdata(\"mask_100x100_rad011.fits\",0,header=True)"
   ]
  },
  {
   "cell_type": "code",
   "execution_count": 28,
   "metadata": {},
   "outputs": [],
   "source": [
    "ring_21_to_28 = np.subtract(sciImg1,sciImg2)\n",
    "ring_11_to_21 = np.subtract(sciImg2,sciImg3)\n",
    "rad_gtr_28 = np.subtract(np.ones(np.shape(sciImg1)),sciImg1)"
   ]
  },
  {
   "cell_type": "code",
   "execution_count": 29,
   "metadata": {},
   "outputs": [
    {
     "data": {
      "image/png": "[encoded data removed]",
      "text/plain": [
       "<Figure size 432x288 with 1 Axes>"
      ]
     },
     "metadata": {
      "needs_background": "light"
     },
     "output_type": "display_data"
    }
   ],
   "source": [
    "plt.imshow(rad_gtr_28)\n",
    "plt.show()"
   ]
  },
  {
   "cell_type": "code",
   "execution_count": 26,
   "metadata": {},
   "outputs": [],
   "source": [
    "hdu = fits.PrimaryHDU(ring_11_to_21)\n",
    "hdul = fits.HDUList([hdu])\n",
    "hdul.writeto('mask_100x100_ring_11_to_21.fits', overwrite=True)"
   ]
  },
  {
   "cell_type": "code",
   "execution_count": 27,
   "metadata": {},
   "outputs": [],
   "source": [
    "hdu = fits.PrimaryHDU(ring_21_to_28)\n",
    "hdul = fits.HDUList([hdu])\n",
    "hdul.writeto('mask_100x100_ring_21_to_28.fits', overwrite=True)"
   ]
  },
  {
   "cell_type": "code",
   "execution_count": 30,
   "metadata": {},
   "outputs": [],
   "source": [
    "hdu = fits.PrimaryHDU(rad_gtr_28)\n",
    "hdul = fits.HDUList([hdu])\n",
    "hdul.writeto('mask_100x100_rad_gtr_28.fits', overwrite=True)"
   ]
  },
  {
   "cell_type": "markdown",
   "metadata": {},
   "source": [
    "# Test to make sure there is no overlap between regions, or \n",
    "# regions not included"
   ]
  },
  {
   "cell_type": "code",
   "execution_count": 123,
   "metadata": {},
   "outputs": [
    {
     "name": "stdout",
     "output_type": "stream",
     "text": [
      "These numbers should both be 1:\n",
      "1.0\n",
      "1.0\n",
      "And here's a plot:\n"
     ]
    },
    {
     "data": {
      "image/png": "[encoded data removed]",
      "text/plain": [
       "<Figure size 432x288 with 1 Axes>"
      ]
     },
     "metadata": {
      "needs_background": "light"
     },
     "output_type": "display_data"
    }
   ],
   "source": [
    "summed_masks = np.nansum(this_cube, axis=0)\n",
    "\n",
    "print(\"These numbers should both be 1:\")\n",
    "print(np.min(summed_masks))\n",
    "print(np.max(summed_masks))\n",
    "\n",
    "print(\"And here's a plot:\")\n",
    "plt.imshow(summed_masks)\n",
    "plt.show()"
   ]
  },
  {
   "cell_type": "markdown",
   "metadata": {},
   "source": [
    "# Make plots of the tesselations"
   ]
  },
  {
   "cell_type": "code",
   "execution_count": 8,
   "metadata": {},
   "outputs": [],
   "source": [
    "def get_cmap(N):\n",
    "    ''' Returns a function that maps each index in 0, 1, ...\n",
    "        N-1 to a distinct RGB color.'''\n",
    "    color_norm  = colors.Normalize(vmin=0, vmax=N-1)\n",
    "    scalar_map = cmx.ScalarMappable(norm=color_norm, cmap='hsv')\n",
    "    #scalar_map = cmx.ScalarMappable(norm=color_norm, cmap='gist_stern')\n",
    "    def map_index_to_rgb_color(index):\n",
    "        return scalar_map.to_rgba(index)\n",
    "    return map_index_to_rgb_color"
   ]
  },
  {
   "cell_type": "code",
   "execution_count": 9,
   "metadata": {},
   "outputs": [],
   "source": [
    "from collections import OrderedDict\n",
    "cmaps = OrderedDict()\n",
    "\n",
    "cmaps['Sequential'] = [\n",
    "            'Greys', 'Purples', 'Blues', 'Greens', 'Oranges', 'Reds',\n",
    "            'YlOrBr', 'YlOrRd', 'OrRd', 'PuRd', 'RdPu', 'BuPu',\n",
    "            'GnBu', 'PuBu', 'YlGnBu', 'PuBuGn', 'BuGn', 'YlGn']"
   ]
  },
  {
   "cell_type": "code",
   "execution_count": 121,
   "metadata": {},
   "outputs": [
    {
     "data": {
      "image/png": "[encoded data removed]",
      "text/plain": [
       "<Figure size 432x288 with 2 Axes>"
      ]
     },
     "metadata": {
      "needs_background": "light"
     },
     "output_type": "display_data"
    },
    {
     "data": {
      "image/png": "[encoded data removed]",
      "text/plain": [
       "<Figure size 432x288 with 2 Axes>"
      ]
     },
     "metadata": {
      "needs_background": "light"
     },
     "output_type": "display_data"
    },
    {
     "data": {
      "image/png": "[encoded data removed]",
      "text/plain": [
       "<Figure size 432x288 with 2 Axes>"
      ]
     },
     "metadata": {
      "needs_background": "light"
     },
     "output_type": "display_data"
    },
    {
     "data": {
      "image/png": "[encoded data removed]",
      "text/plain": [
       "<Figure size 432x288 with 2 Axes>"
      ]
     },
     "metadata": {
      "needs_background": "light"
     },
     "output_type": "display_data"
    },
    {
     "data": {
      "image/png": "[encoded data removed]",
      "text/plain": [
       "<Figure size 432x288 with 2 Axes>"
      ]
     },
     "metadata": {
      "needs_background": "light"
     },
     "output_type": "display_data"
    },
    {
     "data": {
      "image/png": "[encoded data removed]",
      "text/plain": [
       "<Figure size 432x288 with 2 Axes>"
      ]
     },
     "metadata": {
      "needs_background": "light"
     },
     "output_type": "display_data"
    },
    {
     "data": {
      "image/png": "[encoded data removed]",
      "text/plain": [
       "<Figure size 432x288 with 2 Axes>"
      ]
     },
     "metadata": {
      "needs_background": "light"
     },
     "output_type": "display_data"
    },
    {
     "data": {
      "image/png": "[encoded data removed]",
      "text/plain": [
       "<Figure size 432x288 with 2 Axes>"
      ]
     },
     "metadata": {
      "needs_background": "light"
     },
     "output_type": "display_data"
    },
    {
     "data": {
      "image/png": "[encoded data removed]",
      "text/plain": [
       "<Figure size 432x288 with 2 Axes>"
      ]
     },
     "metadata": {
      "needs_background": "light"
     },
     "output_type": "display_data"
    },
    {
     "data": {
      "image/png": "[encoded data removed]",
      "text/plain": [
       "<Figure size 432x288 with 2 Axes>"
      ]
     },
     "metadata": {
      "needs_background": "light"
     },
     "output_type": "display_data"
    },
    {
     "data": {
      "image/png": "[encoded data removed]",
      "text/plain": [
       "<Figure size 432x288 with 2 Axes>"
      ]
     },
     "metadata": {
      "needs_background": "light"
     },
     "output_type": "display_data"
    },
    {
     "data": {
      "image/png": "[encoded data removed]",
      "text/plain": [
       "<Figure size 432x288 with 2 Axes>"
      ]
     },
     "metadata": {
      "needs_background": "light"
     },
     "output_type": "display_data"
    }
   ],
   "source": [
    "for t in range(0,len(this_cube)):\n",
    "    plt.imshow(this_cube[t,:,:])\n",
    "    plt.colorbar()\n",
    "    plt.show()"
   ]
  },
  {
   "cell_type": "code",
   "execution_count": 127,
   "metadata": {},
   "outputs": [
    {
     "data": {
      "image/png": "[encoded data removed]",
      "text/plain": [
       "<Figure size 432x288 with 1 Axes>"
      ]
     },
     "metadata": {
      "needs_background": "light"
     },
     "output_type": "display_data"
    }
   ],
   "source": [
    "import matplotlib\n",
    "\n",
    "for plot_num in range(0,slices):\n",
    "    this_plot = this_cube[plot_num,:,:]\n",
    "    this_plot[this_plot == 0] = np.nan # this to a\n",
    "    plt.imshow(this_plot,\n",
    "               cmap = cmaps['Sequential'][np.mod(plot_num,7)], \n",
    "               alpha = 1, vmin=0, vmax=1.2,\n",
    "               origin = \"lower\")#np.random.random())\n",
    "    #plt.colorbar() # for some reason, colorbar necessary to render plot\n",
    "plt.title(\"mask_quad4_circ_ring.fits\")\n",
    "plt.tight_layout()\n",
    "#plt.show()\n",
    "plt.savefig(\"junk1.pdf\")"
   ]
  }
 ],
 "metadata": {
  "kernelspec": {
   "display_name": "Python 3",
   "language": "python",
   "name": "python3"
  },
  "language_info": {
   "codemirror_mode": {
    "name": "ipython",
    "version": 3
   },
   "file_extension": ".py",
   "mimetype": "text/x-python",
   "name": "python",
   "nbconvert_exporter": "python",
   "pygments_lexer": "ipython3",
   "version": "3.6.6"
  }
 },
 "nbformat": 4,
 "nbformat_minor": 1
}
