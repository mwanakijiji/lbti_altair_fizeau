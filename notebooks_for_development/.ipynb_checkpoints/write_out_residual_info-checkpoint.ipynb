{
 "cells": [
  {
   "cell_type": "code",
   "execution_count": null,
   "metadata": {},
   "outputs": [],
   "source": [
    "# This reads in PSF-centered frames, and transfers the info regarding residuals\n",
    "# between the PSF and a Gaussian fit to a text file. The intent is for the larger \n",
    "# pipeline to read in the table so as to decide whether to include the frames in\n",
    "# the PCA cube\n",
    "\n",
    "# Created 2019 Aug 20 by E.S."
   ]
  },
  {
   "cell_type": "code",
   "execution_count": 1,
   "metadata": {},
   "outputs": [],
   "source": [
    "import glob\n",
    "import pandas as pd\n",
    "import matplotlib.pyplot as plt\n",
    "from astropy.io import fits"
   ]
  },
  {
   "cell_type": "code",
   "execution_count": 2,
   "metadata": {},
   "outputs": [],
   "source": [
    "stem = \"/Users/nyumbani/Downloads/\""
   ]
  },
  {
   "cell_type": "code",
   "execution_count": 3,
   "metadata": {},
   "outputs": [],
   "source": [
    "file_list = glob.glob(stem + \"centering_best_fit_gaussian*fits\")"
   ]
  },
  {
   "cell_type": "code",
   "execution_count": 14,
   "metadata": {},
   "outputs": [],
   "source": [
    "## initialize dataframe\n",
    "# frame_num: the LMIR frame number\n",
    "# resd_avg: the average absolute value of residuals\n",
    "# resd_med: the median \" \" \" \n",
    "# resd_int: the integrated (i.e., summed) \" \" \"\n",
    "df = pd.DataFrame(columns=[\"frame_num\", \"resd_avg\", \"resd_med\", \"resd_int\"])\n",
    "\n",
    "# populate dataframe\n",
    "for q in range(0,len(file_list)):\n",
    "\n",
    "    sciImg, header = fits.getdata(file_list[q],0,header=True)\n",
    "    \n",
    "    # record frame number and residual values\n",
    "    frame_num = int(file_list[q].split(\".\")[-2].split(\"_\")[-1])\n",
    "    \n",
    "    df = df.append({\"frame_num\": frame_num, \n",
    "               \"resd_avg\": header[\"RESD_AVG\"], \n",
    "               \"resd_med\": header[\"RESD_MED\"],\n",
    "               \"resd_int\": header[\"RESD_INT\"]}, ignore_index=True)"
   ]
  }
 ],
 "metadata": {
  "kernelspec": {
   "display_name": "Python 3",
   "language": "python",
   "name": "python3"
  },
  "language_info": {
   "codemirror_mode": {
    "name": "ipython",
    "version": 3
   },
   "file_extension": ".py",
   "mimetype": "text/x-python",
   "name": "python",
   "nbconvert_exporter": "python",
   "pygments_lexer": "ipython3",
   "version": "3.6.6"
  }
 },
 "nbformat": 4,
 "nbformat_minor": 2
}
