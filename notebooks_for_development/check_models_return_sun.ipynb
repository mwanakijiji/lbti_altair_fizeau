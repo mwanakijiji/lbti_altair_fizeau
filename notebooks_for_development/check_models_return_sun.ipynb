{
 "cells": [
  {
   "cell_type": "code",
   "execution_count": null,
   "metadata": {},
   "outputs": [],
   "source": [
    "# This rescales flux expected from the Sun at 4.05 um, so that \n",
    "# I can check if my interpolated models are giving the right masses\n",
    "\n",
    "# Created 2020 July 13 by E.S."
   ]
  },
  {
   "cell_type": "code",
   "execution_count": 14,
   "metadata": {},
   "outputs": [],
   "source": [
    "import pandas as pd\n",
    "import numpy as np\n",
    "import matplotlib.pyplot as plt"
   ]
  },
  {
   "cell_type": "code",
   "execution_count": 15,
   "metadata": {},
   "outputs": [],
   "source": [
    "df_nircam = pd.read_csv(\"data/JWST_NIRCam.F405N.dat\",delim_whitespace=True)\n",
    "df_nircam[\"um\"] = np.divide(df_nircam[\"angstr\"],10000)"
   ]
  },
  {
   "cell_type": "code",
   "execution_count": 18,
   "metadata": {},
   "outputs": [],
   "source": [
    "df_lmir = pd.read_csv(\"data/br-alpha_NDC.txt\",delim_whitespace=True)"
   ]
  },
  {
   "cell_type": "code",
   "execution_count": 20,
   "metadata": {},
   "outputs": [
    {
     "data": {
      "image/png": "[encoded data removed]",
      "text/plain": [
       "<Figure size 432x288 with 1 Axes>"
      ]
     },
     "metadata": {
      "needs_background": "light"
     },
     "output_type": "display_data"
    }
   ],
   "source": [
    "plt.plot(df_nircam[\"um\"],df_nircam[\"trans\"],label=\"NIRCAM\")\n",
    "plt.plot(df_lmir[\"Wavelength\"],df_lmir[\"Trans_77\"],label=\"LMIR\")\n",
    "plt.xlim([3.8,4.2])\n",
    "plt.legend()\n",
    "plt.show()"
   ]
  },
  {
   "cell_type": "code",
   "execution_count": 23,
   "metadata": {},
   "outputs": [],
   "source": [
    "# find wavelength spacings\n",
    "\n",
    "spacing_nircam = np.subtract(df_nircam[\"um\"],np.roll(df_nircam[\"um\"],1))\n",
    "spacing_lmir = np.subtract(df_lmir[\"Wavelength\"],np.roll(df_lmir[\"Wavelength\"],1))"
   ]
  },
  {
   "cell_type": "code",
   "execution_count": 28,
   "metadata": {},
   "outputs": [],
   "source": [
    "# integrate under curves\n",
    "\n",
    "nircam_integrate = np.sum(np.multiply(df_nircam[\"trans\"],spacing_nircam))\n",
    "lmir_integrate = np.sum(np.multiply(df_lmir[\"Trans_77\"],spacing_lmir))"
   ]
  },
  {
   "cell_type": "code",
   "execution_count": 27,
   "metadata": {},
   "outputs": [
    {
     "data": {
      "text/plain": [
       "0.019217560287370032"
      ]
     },
     "execution_count": 27,
     "metadata": {},
     "output_type": "execute_result"
    }
   ],
   "source": [
    "nircam_integrate"
   ]
  },
  {
   "cell_type": "code",
   "execution_count": 29,
   "metadata": {},
   "outputs": [
    {
     "data": {
      "text/plain": [
       "0.05697114000000003"
      ]
     },
     "execution_count": 29,
     "metadata": {},
     "output_type": "execute_result"
    }
   ],
   "source": [
    "lmir_integrate"
   ]
  },
  {
   "cell_type": "code",
   "execution_count": 30,
   "metadata": {},
   "outputs": [],
   "source": [
    "# the flux difference I would expect \n",
    "\n",
    "flux_ratio = np.divide(lmir_integrate,nircam_integrate)\n",
    "print(flux_ratio)"
   ]
  },
  {
   "cell_type": "code",
   "execution_count": 33,
   "metadata": {},
   "outputs": [
    {
     "name": "stdout",
     "output_type": "stream",
     "text": [
      "-1.1798916441637566\n"
     ]
    }
   ],
   "source": [
    "# the magnitude difference I would expect\n",
    "\n",
    "mag_diff = -2.5*np.log10(flux_ratio)\n",
    "print(mag_diff)"
   ]
  },
  {
   "cell_type": "code",
   "execution_count": 34,
   "metadata": {},
   "outputs": [
    {
     "name": "stdout",
     "output_type": "stream",
     "text": [
      "2.0601083558362436\n"
     ]
    }
   ],
   "source": [
    "# the abs mag of the Sun I would expect through LMIR Br-alpha filter\n",
    "# (abs mag of Sun in Nircam filter from Wilmer 2018, Table 3)\n",
    "# NIRCAM_F405N 3.24\n",
    "\n",
    "M_sun_nircam = 3.24\n",
    "M_sun_lmir = M_sun_nircam + mag_diff\n",
    "\n",
    "print(M_sun_lmir)"
   ]
  },
  {
   "cell_type": "code",
   "execution_count": null,
   "metadata": {},
   "outputs": [],
   "source": []
  }
 ],
 "metadata": {
  "kernelspec": {
   "display_name": "Python 3",
   "language": "python",
   "name": "python3"
  },
  "language_info": {
   "codemirror_mode": {
    "name": "ipython",
    "version": 3
   },
   "file_extension": ".py",
   "mimetype": "text/x-python",
   "name": "python",
   "nbconvert_exporter": "python",
   "pygments_lexer": "ipython3",
   "version": "3.6.6"
  }
 },
 "nbformat": 4,
 "nbformat_minor": 2
}
