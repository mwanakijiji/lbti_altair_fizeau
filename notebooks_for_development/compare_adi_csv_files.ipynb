{
 "cells": [
  {
   "cell_type": "code",
   "execution_count": 1,
   "metadata": {},
   "outputs": [],
   "source": [
    "# This reads in csv files with signal and noise data, as out out\n",
    "# by the Altair pipeline, and compares them (for bug-checking)\n",
    "\n",
    "# Created 2019 November 5 by E.S."
   ]
  },
  {
   "cell_type": "code",
   "execution_count": 1,
   "metadata": {},
   "outputs": [],
   "source": [
    "from astropy.io import fits\n",
    "import matplotlib.pyplot as plt\n",
    "import numpy as np\n",
    "import pandas as pd"
   ]
  },
  {
   "cell_type": "code",
   "execution_count": 2,
   "metadata": {},
   "outputs": [],
   "source": [
    "# some constants for plotting\n",
    "\n",
    "lambda_over_D = np.divide(4.05E-6,8.25)*206265.\n",
    "lambda_over_Bcc = np.divide(4.05E-6,14.4)*206265."
   ]
  },
  {
   "cell_type": "code",
   "execution_count": 3,
   "metadata": {},
   "outputs": [],
   "source": [
    "no_planets_string = (\"/Users/nyumbani/Downloads/pipeline_10_signal_to_noise/\"+\n",
    "                     \"cubes/test_no_planets_191109_no_smoothing/\"+\n",
    "                     \"test_no_planets_191109_no_smoothing_csv_file.csv\")\n",
    "#with_planets_string = (\"/Users/nyumbani/Downloads/pipeline_10_signal_to_noise/\"+\n",
    "#                       \"cubes/test_with_planets_191108/test_with_planets_csv_file.csv\")\n",
    "with_planets_string = (\"/Users/nyumbani/Downloads/pipeline_10_signal_to_noise/\"+\n",
    "                       \"cubes/test_with_planets_191109_no_smoothing/\"+\n",
    "                       \"test_191109_with_planets_no_smoothing_csv_file.csv\")"
   ]
  },
  {
   "cell_type": "code",
   "execution_count": 4,
   "metadata": {},
   "outputs": [],
   "source": [
    "df_no_planets = pd.read_csv(no_planets_string)\n",
    "df_with_planets = pd.read_csv(with_planets_string)"
   ]
  },
  {
   "cell_type": "code",
   "execution_count": 5,
   "metadata": {},
   "outputs": [],
   "source": [
    "#host_ampl = df_no_planets[\"host_ampl\"]\n",
    "host_ampl = 4.4497252e+09 # kludge if the image has not been smoothed"
   ]
  },
  {
   "cell_type": "code",
   "execution_count": 6,
   "metadata": {},
   "outputs": [],
   "source": [
    "# sort by radius\n",
    "\n",
    "df_no_planets = df_no_planets.sort_values(by=\"rad_asec\").reset_index()\n",
    "df_with_planets = df_with_planets.sort_values(by=\"rad_asec\").reset_index()"
   ]
  },
  {
   "cell_type": "code",
   "execution_count": 7,
   "metadata": {},
   "outputs": [
    {
     "data": {
      "text/html": [
       "<div>\n",
       "<style scoped>\n",
       "    .dataframe tbody tr th:only-of-type {\n",
       "        vertical-align: middle;\n",
       "    }\n",
       "\n",
       "    .dataframe tbody tr th {\n",
       "        vertical-align: top;\n",
       "    }\n",
       "\n",
       "    .dataframe thead th {\n",
       "        text-align: right;\n",
       "    }\n",
       "</style>\n",
       "<table border=\"1\" class=\"dataframe\">\n",
       "  <thead>\n",
       "    <tr style=\"text-align: right;\">\n",
       "      <th></th>\n",
       "      <th>index</th>\n",
       "      <th>Unnamed: 0</th>\n",
       "      <th>angle_deg</th>\n",
       "      <th>rad_asec</th>\n",
       "      <th>ampl_linear_norm</th>\n",
       "      <th>host_ampl</th>\n",
       "      <th>signal</th>\n",
       "      <th>noise</th>\n",
       "      <th>s2n</th>\n",
       "    </tr>\n",
       "  </thead>\n",
       "  <tbody>\n",
       "    <tr>\n",
       "      <th>0</th>\n",
       "      <td>1</td>\n",
       "      <td>0</td>\n",
       "      <td>0.0</td>\n",
       "      <td>0.05</td>\n",
       "      <td>0.001</td>\n",
       "      <td>1.165688e+09</td>\n",
       "      <td>1.135344e+08</td>\n",
       "      <td>4.028336e+07</td>\n",
       "      <td>2.818394</td>\n",
       "    </tr>\n",
       "    <tr>\n",
       "      <th>1</th>\n",
       "      <td>5</td>\n",
       "      <td>0</td>\n",
       "      <td>0.0</td>\n",
       "      <td>0.10</td>\n",
       "      <td>0.001</td>\n",
       "      <td>1.165688e+09</td>\n",
       "      <td>7.709142e+07</td>\n",
       "      <td>9.380391e+06</td>\n",
       "      <td>8.218360</td>\n",
       "    </tr>\n",
       "    <tr>\n",
       "      <th>2</th>\n",
       "      <td>0</td>\n",
       "      <td>0</td>\n",
       "      <td>0.0</td>\n",
       "      <td>0.20</td>\n",
       "      <td>0.001</td>\n",
       "      <td>1.165688e+09</td>\n",
       "      <td>4.444240e+06</td>\n",
       "      <td>4.698145e+05</td>\n",
       "      <td>9.459565</td>\n",
       "    </tr>\n",
       "    <tr>\n",
       "      <th>3</th>\n",
       "      <td>6</td>\n",
       "      <td>0</td>\n",
       "      <td>0.0</td>\n",
       "      <td>0.25</td>\n",
       "      <td>0.001</td>\n",
       "      <td>1.165688e+09</td>\n",
       "      <td>3.900070e+06</td>\n",
       "      <td>3.140328e+05</td>\n",
       "      <td>12.419306</td>\n",
       "    </tr>\n",
       "    <tr>\n",
       "      <th>4</th>\n",
       "      <td>4</td>\n",
       "      <td>0</td>\n",
       "      <td>0.0</td>\n",
       "      <td>0.30</td>\n",
       "      <td>0.001</td>\n",
       "      <td>1.165688e+09</td>\n",
       "      <td>2.812640e+06</td>\n",
       "      <td>1.851422e+05</td>\n",
       "      <td>15.191787</td>\n",
       "    </tr>\n",
       "    <tr>\n",
       "      <th>5</th>\n",
       "      <td>2</td>\n",
       "      <td>0</td>\n",
       "      <td>0.0</td>\n",
       "      <td>0.35</td>\n",
       "      <td>0.001</td>\n",
       "      <td>1.165688e+09</td>\n",
       "      <td>2.894022e+06</td>\n",
       "      <td>2.110178e+05</td>\n",
       "      <td>13.714586</td>\n",
       "    </tr>\n",
       "    <tr>\n",
       "      <th>6</th>\n",
       "      <td>3</td>\n",
       "      <td>0</td>\n",
       "      <td>0.0</td>\n",
       "      <td>0.40</td>\n",
       "      <td>0.001</td>\n",
       "      <td>1.165688e+09</td>\n",
       "      <td>2.594054e+06</td>\n",
       "      <td>1.700946e+05</td>\n",
       "      <td>15.250653</td>\n",
       "    </tr>\n",
       "  </tbody>\n",
       "</table>\n",
       "</div>"
      ],
      "text/plain": [
       "   index  Unnamed: 0  angle_deg  rad_asec  ampl_linear_norm     host_ampl  \\\n",
       "0      1           0        0.0      0.05             0.001  1.165688e+09   \n",
       "1      5           0        0.0      0.10             0.001  1.165688e+09   \n",
       "2      0           0        0.0      0.20             0.001  1.165688e+09   \n",
       "3      6           0        0.0      0.25             0.001  1.165688e+09   \n",
       "4      4           0        0.0      0.30             0.001  1.165688e+09   \n",
       "5      2           0        0.0      0.35             0.001  1.165688e+09   \n",
       "6      3           0        0.0      0.40             0.001  1.165688e+09   \n",
       "\n",
       "         signal         noise        s2n  \n",
       "0  1.135344e+08  4.028336e+07   2.818394  \n",
       "1  7.709142e+07  9.380391e+06   8.218360  \n",
       "2  4.444240e+06  4.698145e+05   9.459565  \n",
       "3  3.900070e+06  3.140328e+05  12.419306  \n",
       "4  2.812640e+06  1.851422e+05  15.191787  \n",
       "5  2.894022e+06  2.110178e+05  13.714586  \n",
       "6  2.594054e+06  1.700946e+05  15.250653  "
      ]
     },
     "execution_count": 7,
     "metadata": {},
     "output_type": "execute_result"
    }
   ],
   "source": [
    "df_with_planets"
   ]
  },
  {
   "cell_type": "code",
   "execution_count": 8,
   "metadata": {},
   "outputs": [
    {
     "data": {
      "text/html": [
       "<div>\n",
       "<style scoped>\n",
       "    .dataframe tbody tr th:only-of-type {\n",
       "        vertical-align: middle;\n",
       "    }\n",
       "\n",
       "    .dataframe tbody tr th {\n",
       "        vertical-align: top;\n",
       "    }\n",
       "\n",
       "    .dataframe thead th {\n",
       "        text-align: right;\n",
       "    }\n",
       "</style>\n",
       "<table border=\"1\" class=\"dataframe\">\n",
       "  <thead>\n",
       "    <tr style=\"text-align: right;\">\n",
       "      <th></th>\n",
       "      <th>index</th>\n",
       "      <th>Unnamed: 0</th>\n",
       "      <th>angle_deg</th>\n",
       "      <th>rad_asec</th>\n",
       "      <th>ampl_linear_norm</th>\n",
       "      <th>host_ampl</th>\n",
       "      <th>signal</th>\n",
       "      <th>noise</th>\n",
       "      <th>s2n</th>\n",
       "    </tr>\n",
       "  </thead>\n",
       "  <tbody>\n",
       "    <tr>\n",
       "      <th>0</th>\n",
       "      <td>1</td>\n",
       "      <td>0</td>\n",
       "      <td>0.0</td>\n",
       "      <td>0.05</td>\n",
       "      <td>0.001</td>\n",
       "      <td>1.165688e+09</td>\n",
       "      <td>1.128691e+08</td>\n",
       "      <td>4.029824e+07</td>\n",
       "      <td>2.800845</td>\n",
       "    </tr>\n",
       "    <tr>\n",
       "      <th>1</th>\n",
       "      <td>2</td>\n",
       "      <td>0</td>\n",
       "      <td>0.0</td>\n",
       "      <td>0.10</td>\n",
       "      <td>0.001</td>\n",
       "      <td>1.165688e+09</td>\n",
       "      <td>7.686184e+07</td>\n",
       "      <td>9.386587e+06</td>\n",
       "      <td>8.188475</td>\n",
       "    </tr>\n",
       "    <tr>\n",
       "      <th>2</th>\n",
       "      <td>5</td>\n",
       "      <td>0</td>\n",
       "      <td>0.0</td>\n",
       "      <td>0.20</td>\n",
       "      <td>0.001</td>\n",
       "      <td>1.165688e+09</td>\n",
       "      <td>2.880789e+06</td>\n",
       "      <td>3.846399e+05</td>\n",
       "      <td>7.489573</td>\n",
       "    </tr>\n",
       "    <tr>\n",
       "      <th>3</th>\n",
       "      <td>6</td>\n",
       "      <td>0</td>\n",
       "      <td>0.0</td>\n",
       "      <td>0.25</td>\n",
       "      <td>0.001</td>\n",
       "      <td>1.165688e+09</td>\n",
       "      <td>4.085801e+05</td>\n",
       "      <td>1.726921e+05</td>\n",
       "      <td>2.365946</td>\n",
       "    </tr>\n",
       "    <tr>\n",
       "      <th>4</th>\n",
       "      <td>0</td>\n",
       "      <td>0</td>\n",
       "      <td>0.0</td>\n",
       "      <td>0.30</td>\n",
       "      <td>0.001</td>\n",
       "      <td>1.165688e+09</td>\n",
       "      <td>2.561020e+05</td>\n",
       "      <td>6.890201e+04</td>\n",
       "      <td>3.716902</td>\n",
       "    </tr>\n",
       "    <tr>\n",
       "      <th>5</th>\n",
       "      <td>4</td>\n",
       "      <td>0</td>\n",
       "      <td>0.0</td>\n",
       "      <td>0.35</td>\n",
       "      <td>0.001</td>\n",
       "      <td>1.165688e+09</td>\n",
       "      <td>5.691450e+04</td>\n",
       "      <td>4.868086e+04</td>\n",
       "      <td>1.169135</td>\n",
       "    </tr>\n",
       "    <tr>\n",
       "      <th>6</th>\n",
       "      <td>3</td>\n",
       "      <td>0</td>\n",
       "      <td>0.0</td>\n",
       "      <td>0.40</td>\n",
       "      <td>0.001</td>\n",
       "      <td>1.165688e+09</td>\n",
       "      <td>5.251195e+04</td>\n",
       "      <td>2.133822e+04</td>\n",
       "      <td>2.460934</td>\n",
       "    </tr>\n",
       "  </tbody>\n",
       "</table>\n",
       "</div>"
      ],
      "text/plain": [
       "   index  Unnamed: 0  angle_deg  rad_asec  ampl_linear_norm     host_ampl  \\\n",
       "0      1           0        0.0      0.05             0.001  1.165688e+09   \n",
       "1      2           0        0.0      0.10             0.001  1.165688e+09   \n",
       "2      5           0        0.0      0.20             0.001  1.165688e+09   \n",
       "3      6           0        0.0      0.25             0.001  1.165688e+09   \n",
       "4      0           0        0.0      0.30             0.001  1.165688e+09   \n",
       "5      4           0        0.0      0.35             0.001  1.165688e+09   \n",
       "6      3           0        0.0      0.40             0.001  1.165688e+09   \n",
       "\n",
       "         signal         noise       s2n  \n",
       "0  1.128691e+08  4.029824e+07  2.800845  \n",
       "1  7.686184e+07  9.386587e+06  8.188475  \n",
       "2  2.880789e+06  3.846399e+05  7.489573  \n",
       "3  4.085801e+05  1.726921e+05  2.365946  \n",
       "4  2.561020e+05  6.890201e+04  3.716902  \n",
       "5  5.691450e+04  4.868086e+04  1.169135  \n",
       "6  5.251195e+04  2.133822e+04  2.460934  "
      ]
     },
     "execution_count": 8,
     "metadata": {},
     "output_type": "execute_result"
    }
   ],
   "source": [
    "df_no_planets"
   ]
  },
  {
   "cell_type": "code",
   "execution_count": 14,
   "metadata": {},
   "outputs": [
    {
     "data": {
      "image/png": "[encoded data removed]",
      "text/plain": [
       "<Figure size 432x288 with 1 Axes>"
      ]
     },
     "metadata": {
      "needs_background": "light"
     },
     "output_type": "display_data"
    }
   ],
   "source": [
    "plt.scatter(df_no_planets[\"rad_asec\"],df_no_planets[\"noise\"],label=\"no planets\")\n",
    "plt.scatter(df_with_planets[\"rad_asec\"],df_with_planets[\"noise\"],label=\"with planets\")\n",
    "plt.axvline(x=lambda_over_D, linestyle=\"--\", color=\"k\")\n",
    "plt.axvline(x=lambda_over_Bcc, linestyle=\"--\", color=\"k\")\n",
    "plt.xlabel(\"Radius (asec)\")\n",
    "plt.ylabel(\"Counts (std of noise ring)\")\n",
    "plt.legend()\n",
    "plt.title(\"Noise\")\n",
    "#plt.savefig(\"noise__191109.pdf\")\n",
    "plt.show()"
   ]
  },
  {
   "cell_type": "code",
   "execution_count": 15,
   "metadata": {},
   "outputs": [
    {
     "data": {
      "image/png": "[encoded data removed]",
      "text/plain": [
       "<Figure size 432x288 with 1 Axes>"
      ]
     },
     "metadata": {
      "needs_background": "light"
     },
     "output_type": "display_data"
    }
   ],
   "source": [
    "plt.scatter(df_no_planets[\"rad_asec\"],df_no_planets[\"signal\"],label=\"no planets\")\n",
    "plt.scatter(df_with_planets[\"rad_asec\"],df_with_planets[\"signal\"],label=\"with planets\")\n",
    "\n",
    "# plot expected signal, given the noise in no-planet frames and amplitude of the fake\n",
    "plt.scatter(df_no_planets[\"rad_asec\"],np.add(df_no_planets[\"signal\"],0.001*host_ampl),\n",
    "            label=\"(injected signal + \\nno-planet noise pedestal)\")\n",
    "plt.axvline(x=lambda_over_D, linestyle=\"--\", color=\"k\")\n",
    "plt.axvline(x=lambda_over_Bcc, linestyle=\"--\", color=\"k\")\n",
    "plt.xlabel(\"Radius (asec)\")\n",
    "plt.ylabel(\"Counts (max value inside \\nplanet aperture)\")\n",
    "plt.ylim(np.multiply(1e8,[0,0.2]))\n",
    "plt.legend()\n",
    "plt.title(\"Signal\")\n",
    "#plt.savefig(\"signal_191109.pdf\")\n",
    "plt.show()"
   ]
  },
  {
   "cell_type": "code",
   "execution_count": 12,
   "metadata": {},
   "outputs": [
    {
     "data": {
      "image/png": "[encoded data removed]",
      "text/plain": [
       "<Figure size 432x288 with 1 Axes>"
      ]
     },
     "metadata": {
      "needs_background": "light"
     },
     "output_type": "display_data"
    }
   ],
   "source": [
    "plt.clf()\n",
    "\n",
    "signal_with_minus_signal_without = np.subtract(df_with_planets[\"signal\"],\n",
    "                                               df_no_planets[\"signal\"])\n",
    "\n",
    "signal_expected_above_noise = np.subtract(np.add(df_no_planets[\"signal\"],0.001*host_ampl),\n",
    "                                          df_no_planets[\"signal\"])\n",
    "\n",
    "throughput = np.divide(signal_with_minus_signal_without,signal_expected_above_noise)\n",
    "\n",
    "# plot expected signal, given the noise in no-planet frames and amplitude of the fake\n",
    "plt.scatter(df_no_planets[\"rad_asec\"],throughput)\n",
    "plt.axvline(x=lambda_over_D, linestyle=\"--\", color=\"k\")\n",
    "plt.axvline(x=lambda_over_Bcc, linestyle=\"--\", color=\"k\")\n",
    "plt.xlabel(\"Radius (asec)\")\n",
    "plt.ylabel(\"Counts\")\n",
    "plt.legend()\n",
    "plt.title(\"Throughput (no smoothing)\")\n",
    "#plt.savefig(\"throughput_191109.pdf\")\n",
    "#plt.show()"
   ]
  },
  {
   "cell_type": "code",
   "execution_count": 13,
   "metadata": {},
   "outputs": [
    {
     "data": {
      "image/png": "[encoded data removed]",
      "text/plain": [
       "<Figure size 432x288 with 1 Axes>"
      ]
     },
     "metadata": {
      "needs_background": "light"
     },
     "output_type": "display_data"
    }
   ],
   "source": [
    "plt.clf()\n",
    "\n",
    "signal_with_minus_signal_without = np.subtract(df_with_planets[\"signal\"],\n",
    "                                               df_no_planets[\"signal\"])\n",
    "\n",
    "signal_expected_above_noise = np.subtract(np.add(df_no_planets[\"signal\"],0.001*host_ampl),\n",
    "                                          df_no_planets[\"signal\"])\n",
    "\n",
    "throughput = np.divide(signal_with_minus_signal_without,signal_expected_above_noise)\n",
    "\n",
    "# plot expected signal, given the noise in no-planet frames and amplitude of the fake\n",
    "plt.scatter(df_no_planets[\"rad_asec\"],throughput)\n",
    "plt.axvline(x=lambda_over_D, linestyle=\"--\", color=\"k\")\n",
    "plt.axvline(x=lambda_over_Bcc, linestyle=\"--\", color=\"k\")\n",
    "plt.xlabel(\"Radius (asec)\")\n",
    "plt.ylabel(\"Counts\")\n",
    "plt.legend()\n",
    "plt.title(\"Throughput\")\n",
    "plt.savefig(\"throughput_191109_no_smoothing.pdf\")\n",
    "#plt.show()"
   ]
  },
  {
   "cell_type": "code",
   "execution_count": 41,
   "metadata": {},
   "outputs": [
    {
     "data": {
      "image/png": "[encoded data removed]",
      "text/plain": [
       "<Figure size 432x288 with 1 Axes>"
      ]
     },
     "metadata": {
      "needs_background": "light"
     },
     "output_type": "display_data"
    }
   ],
   "source": [
    "plt.scatter(df_no_planets[\"rad_asec\"],df_no_planets[\"s2n\"],label=\"no planets\")\n",
    "plt.scatter(df_with_planets[\"rad_asec\"],df_with_planets[\"s2n\"],label=\"with planets\")\n",
    "plt.axvline(x=lambda_over_D, linestyle=\"--\", color=\"k\")\n",
    "plt.axvline(x=lambda_over_Bcc, linestyle=\"--\", color=\"k\")\n",
    "plt.axhline(y=5, linestyle=\"--\", color=\"k\")\n",
    "plt.axhline(y=10, linestyle=\"--\", color=\"k\")\n",
    "plt.xlabel(\"Radius (asec)\")\n",
    "plt.ylabel(\"S/N\")\n",
    "plt.legend()\n",
    "plt.title(\"S/N\")\n",
    "#plt.savefig(\"sn_191109.pdf\")\n",
    "plt.show()"
   ]
  },
  {
   "cell_type": "code",
   "execution_count": null,
   "metadata": {},
   "outputs": [],
   "source": [
    "# check for consistency with notebook make_crude_contrast_curve.ipynb\n",
    "\n",
    "# logic to convert S/N values from one notebook to magnitude of a 5sigma detection:\n",
    "#   1. For an N S/N detection, find A = 5*(abs_ampl_fake/N). This is the fake companion \n",
    "#      amplitude needed for a 5sigma detection.\n",
    "#   2. Find contrast corresponding to 5sigma: C = A/H, where H is host star amplitude.\n",
    "#   3. Convert to mags"
   ]
  },
  {
   "cell_type": "code",
   "execution_count": 50,
   "metadata": {},
   "outputs": [],
   "source": [
    "# frames with no planets\n",
    "\n",
    "# Step 1 (this is actually the same as 5*noise)\n",
    "df_no_planets[\"A_for_5sig\"] = 5*np.divide(df_no_planets[\"signal\"],df_no_planets[\"s2n\"])\n",
    "\n",
    "# Step 2\n",
    "df_no_planets[\"C\"] = np.divide(df_no_planets[\"A_for_5sig\"],host_ampl)\n",
    "\n",
    "# Step 3\n",
    "df_no_planets[\"5sig_mag\"] = -2.5*np.log10(df_no_planets[\"C\"])"
   ]
  },
  {
   "cell_type": "code",
   "execution_count": 56,
   "metadata": {},
   "outputs": [],
   "source": [
    "# frames with planets (method 1)\n",
    "\n",
    "# Step 1 (this is actually the same as 5*noise)\n",
    "df_with_planets[\"A_for_5sig\"] = 5*np.divide(df_with_planets[\"signal\"],df_with_planets[\"s2n\"])\n",
    "\n",
    "# Step 2\n",
    "df_with_planets[\"C\"] = np.divide(df_with_planets[\"A_for_5sig\"],host_ampl)\n",
    "\n",
    "# Step 3\n",
    "df_with_planets[\"5sig_mag\"] = -2.5*np.log10(df_with_planets[\"C\"])"
   ]
  },
  {
   "cell_type": "code",
   "execution_count": 63,
   "metadata": {},
   "outputs": [],
   "source": [
    "# frames with planets (method 2)\n",
    "\n",
    "# Step 1 (this is actually the same as 5*noise)\n",
    "df_with_planets[\"A_for_5sig\"] = 5*df_with_planets[\"noise\"]\n",
    "\n",
    "# Step 2\n",
    "df_with_planets[\"C\"] = np.divide(df_with_planets[\"A_for_5sig\"],host_ampl)\n",
    "\n",
    "# Step 3\n",
    "df_with_planets[\"5sig_mag\"] = -2.5*np.log10(df_with_planets[\"C\"])"
   ]
  },
  {
   "cell_type": "code",
   "execution_count": 59,
   "metadata": {},
   "outputs": [
    {
     "data": {
      "text/html": [
       "<div>\n",
       "<style scoped>\n",
       "    .dataframe tbody tr th:only-of-type {\n",
       "        vertical-align: middle;\n",
       "    }\n",
       "\n",
       "    .dataframe tbody tr th {\n",
       "        vertical-align: top;\n",
       "    }\n",
       "\n",
       "    .dataframe thead th {\n",
       "        text-align: right;\n",
       "    }\n",
       "</style>\n",
       "<table border=\"1\" class=\"dataframe\">\n",
       "  <thead>\n",
       "    <tr style=\"text-align: right;\">\n",
       "      <th></th>\n",
       "      <th>index</th>\n",
       "      <th>Unnamed: 0</th>\n",
       "      <th>angle_deg</th>\n",
       "      <th>rad_asec</th>\n",
       "      <th>ampl_linear_norm</th>\n",
       "      <th>host_ampl</th>\n",
       "      <th>signal</th>\n",
       "      <th>noise</th>\n",
       "      <th>s2n</th>\n",
       "      <th>A_for_5sig</th>\n",
       "      <th>C</th>\n",
       "      <th>5sig_mag</th>\n",
       "    </tr>\n",
       "  </thead>\n",
       "  <tbody>\n",
       "    <tr>\n",
       "      <th>0</th>\n",
       "      <td>5</td>\n",
       "      <td>0</td>\n",
       "      <td>0.0</td>\n",
       "      <td>0.05</td>\n",
       "      <td>0.001</td>\n",
       "      <td>1.165688e+09</td>\n",
       "      <td>5.178841e+06</td>\n",
       "      <td>300857.558491</td>\n",
       "      <td>17.213599</td>\n",
       "      <td>1.504288e+06</td>\n",
       "      <td>0.001290</td>\n",
       "      <td>7.223128</td>\n",
       "    </tr>\n",
       "    <tr>\n",
       "      <th>1</th>\n",
       "      <td>0</td>\n",
       "      <td>0</td>\n",
       "      <td>0.0</td>\n",
       "      <td>0.10</td>\n",
       "      <td>0.001</td>\n",
       "      <td>1.165688e+09</td>\n",
       "      <td>4.556315e+06</td>\n",
       "      <td>826573.682174</td>\n",
       "      <td>5.512291</td>\n",
       "      <td>4.132868e+06</td>\n",
       "      <td>0.003545</td>\n",
       "      <td>6.125827</td>\n",
       "    </tr>\n",
       "    <tr>\n",
       "      <th>2</th>\n",
       "      <td>2</td>\n",
       "      <td>0</td>\n",
       "      <td>0.0</td>\n",
       "      <td>0.20</td>\n",
       "      <td>0.001</td>\n",
       "      <td>1.165688e+09</td>\n",
       "      <td>1.707543e+06</td>\n",
       "      <td>659080.849692</td>\n",
       "      <td>2.590794</td>\n",
       "      <td>3.295404e+06</td>\n",
       "      <td>0.002827</td>\n",
       "      <td>6.371684</td>\n",
       "    </tr>\n",
       "    <tr>\n",
       "      <th>3</th>\n",
       "      <td>3</td>\n",
       "      <td>0</td>\n",
       "      <td>0.0</td>\n",
       "      <td>0.25</td>\n",
       "      <td>0.001</td>\n",
       "      <td>1.165688e+09</td>\n",
       "      <td>6.058389e+05</td>\n",
       "      <td>154008.544893</td>\n",
       "      <td>3.933800</td>\n",
       "      <td>7.700427e+05</td>\n",
       "      <td>0.000661</td>\n",
       "      <td>7.950169</td>\n",
       "    </tr>\n",
       "    <tr>\n",
       "      <th>4</th>\n",
       "      <td>6</td>\n",
       "      <td>0</td>\n",
       "      <td>0.0</td>\n",
       "      <td>0.30</td>\n",
       "      <td>0.001</td>\n",
       "      <td>1.165688e+09</td>\n",
       "      <td>1.791598e+05</td>\n",
       "      <td>23087.748428</td>\n",
       "      <td>7.759952</td>\n",
       "      <td>1.154387e+05</td>\n",
       "      <td>0.000099</td>\n",
       "      <td>10.010577</td>\n",
       "    </tr>\n",
       "    <tr>\n",
       "      <th>5</th>\n",
       "      <td>1</td>\n",
       "      <td>0</td>\n",
       "      <td>0.0</td>\n",
       "      <td>0.35</td>\n",
       "      <td>0.001</td>\n",
       "      <td>1.165688e+09</td>\n",
       "      <td>3.902098e+04</td>\n",
       "      <td>8899.542810</td>\n",
       "      <td>4.384605</td>\n",
       "      <td>4.449771e+04</td>\n",
       "      <td>0.000038</td>\n",
       "      <td>11.045611</td>\n",
       "    </tr>\n",
       "    <tr>\n",
       "      <th>6</th>\n",
       "      <td>4</td>\n",
       "      <td>0</td>\n",
       "      <td>0.0</td>\n",
       "      <td>0.40</td>\n",
       "      <td>0.001</td>\n",
       "      <td>1.165688e+09</td>\n",
       "      <td>7.620514e+03</td>\n",
       "      <td>6619.425975</td>\n",
       "      <td>1.151235</td>\n",
       "      <td>3.309713e+04</td>\n",
       "      <td>0.000028</td>\n",
       "      <td>11.366980</td>\n",
       "    </tr>\n",
       "  </tbody>\n",
       "</table>\n",
       "</div>"
      ],
      "text/plain": [
       "   index  Unnamed: 0  angle_deg  rad_asec  ampl_linear_norm     host_ampl  \\\n",
       "0      5           0        0.0      0.05             0.001  1.165688e+09   \n",
       "1      0           0        0.0      0.10             0.001  1.165688e+09   \n",
       "2      2           0        0.0      0.20             0.001  1.165688e+09   \n",
       "3      3           0        0.0      0.25             0.001  1.165688e+09   \n",
       "4      6           0        0.0      0.30             0.001  1.165688e+09   \n",
       "5      1           0        0.0      0.35             0.001  1.165688e+09   \n",
       "6      4           0        0.0      0.40             0.001  1.165688e+09   \n",
       "\n",
       "         signal          noise        s2n    A_for_5sig         C   5sig_mag  \n",
       "0  5.178841e+06  300857.558491  17.213599  1.504288e+06  0.001290   7.223128  \n",
       "1  4.556315e+06  826573.682174   5.512291  4.132868e+06  0.003545   6.125827  \n",
       "2  1.707543e+06  659080.849692   2.590794  3.295404e+06  0.002827   6.371684  \n",
       "3  6.058389e+05  154008.544893   3.933800  7.700427e+05  0.000661   7.950169  \n",
       "4  1.791598e+05   23087.748428   7.759952  1.154387e+05  0.000099  10.010577  \n",
       "5  3.902098e+04    8899.542810   4.384605  4.449771e+04  0.000038  11.045611  \n",
       "6  7.620514e+03    6619.425975   1.151235  3.309713e+04  0.000028  11.366980  "
      ]
     },
     "execution_count": 59,
     "metadata": {},
     "output_type": "execute_result"
    }
   ],
   "source": [
    "df_no_planets"
   ]
  },
  {
   "cell_type": "code",
   "execution_count": 60,
   "metadata": {},
   "outputs": [
    {
     "data": {
      "text/html": [
       "<div>\n",
       "<style scoped>\n",
       "    .dataframe tbody tr th:only-of-type {\n",
       "        vertical-align: middle;\n",
       "    }\n",
       "\n",
       "    .dataframe tbody tr th {\n",
       "        vertical-align: top;\n",
       "    }\n",
       "\n",
       "    .dataframe thead th {\n",
       "        text-align: right;\n",
       "    }\n",
       "</style>\n",
       "<table border=\"1\" class=\"dataframe\">\n",
       "  <thead>\n",
       "    <tr style=\"text-align: right;\">\n",
       "      <th></th>\n",
       "      <th>index</th>\n",
       "      <th>Unnamed: 0</th>\n",
       "      <th>angle_deg</th>\n",
       "      <th>rad_asec</th>\n",
       "      <th>ampl_linear_norm</th>\n",
       "      <th>host_ampl</th>\n",
       "      <th>signal</th>\n",
       "      <th>noise</th>\n",
       "      <th>s2n</th>\n",
       "      <th>A_for_5sig</th>\n",
       "      <th>C</th>\n",
       "      <th>5sig_mag</th>\n",
       "    </tr>\n",
       "  </thead>\n",
       "  <tbody>\n",
       "    <tr>\n",
       "      <th>0</th>\n",
       "      <td>5</td>\n",
       "      <td>0</td>\n",
       "      <td>0.0</td>\n",
       "      <td>0.05</td>\n",
       "      <td>0.001</td>\n",
       "      <td>1.165688e+09</td>\n",
       "      <td>5.534643e+06</td>\n",
       "      <td>318712.027316</td>\n",
       "      <td>17.365656</td>\n",
       "      <td>1.593560e+06</td>\n",
       "      <td>0.001367</td>\n",
       "      <td>7.160534</td>\n",
       "    </tr>\n",
       "    <tr>\n",
       "      <th>1</th>\n",
       "      <td>2</td>\n",
       "      <td>0</td>\n",
       "      <td>0.0</td>\n",
       "      <td>0.10</td>\n",
       "      <td>0.001</td>\n",
       "      <td>1.165688e+09</td>\n",
       "      <td>4.834646e+06</td>\n",
       "      <td>859652.889286</td>\n",
       "      <td>5.623951</td>\n",
       "      <td>4.298264e+06</td>\n",
       "      <td>0.003687</td>\n",
       "      <td>6.083223</td>\n",
       "    </tr>\n",
       "    <tr>\n",
       "      <th>2</th>\n",
       "      <td>6</td>\n",
       "      <td>0</td>\n",
       "      <td>0.0</td>\n",
       "      <td>0.20</td>\n",
       "      <td>0.001</td>\n",
       "      <td>1.165688e+09</td>\n",
       "      <td>2.280172e+06</td>\n",
       "      <td>673178.849548</td>\n",
       "      <td>3.387171</td>\n",
       "      <td>3.365894e+06</td>\n",
       "      <td>0.002887</td>\n",
       "      <td>6.348704</td>\n",
       "    </tr>\n",
       "    <tr>\n",
       "      <th>3</th>\n",
       "      <td>1</td>\n",
       "      <td>0</td>\n",
       "      <td>0.0</td>\n",
       "      <td>0.25</td>\n",
       "      <td>0.001</td>\n",
       "      <td>1.165688e+09</td>\n",
       "      <td>1.366247e+06</td>\n",
       "      <td>195529.685267</td>\n",
       "      <td>6.987413</td>\n",
       "      <td>9.776484e+05</td>\n",
       "      <td>0.000839</td>\n",
       "      <td>7.690999</td>\n",
       "    </tr>\n",
       "    <tr>\n",
       "      <th>4</th>\n",
       "      <td>4</td>\n",
       "      <td>0</td>\n",
       "      <td>0.0</td>\n",
       "      <td>0.30</td>\n",
       "      <td>0.001</td>\n",
       "      <td>1.165688e+09</td>\n",
       "      <td>7.226843e+05</td>\n",
       "      <td>70062.539411</td>\n",
       "      <td>10.314846</td>\n",
       "      <td>3.503127e+05</td>\n",
       "      <td>0.000301</td>\n",
       "      <td>8.805316</td>\n",
       "    </tr>\n",
       "    <tr>\n",
       "      <th>5</th>\n",
       "      <td>3</td>\n",
       "      <td>0</td>\n",
       "      <td>0.0</td>\n",
       "      <td>0.35</td>\n",
       "      <td>0.001</td>\n",
       "      <td>1.165688e+09</td>\n",
       "      <td>5.122853e+05</td>\n",
       "      <td>72503.949666</td>\n",
       "      <td>7.065620</td>\n",
       "      <td>3.625197e+05</td>\n",
       "      <td>0.000311</td>\n",
       "      <td>8.768126</td>\n",
       "    </tr>\n",
       "    <tr>\n",
       "      <th>6</th>\n",
       "      <td>0</td>\n",
       "      <td>0</td>\n",
       "      <td>0.0</td>\n",
       "      <td>0.40</td>\n",
       "      <td>0.001</td>\n",
       "      <td>1.165688e+09</td>\n",
       "      <td>5.038699e+05</td>\n",
       "      <td>68206.031754</td>\n",
       "      <td>7.387469</td>\n",
       "      <td>3.410302e+05</td>\n",
       "      <td>0.000293</td>\n",
       "      <td>8.834474</td>\n",
       "    </tr>\n",
       "  </tbody>\n",
       "</table>\n",
       "</div>"
      ],
      "text/plain": [
       "   index  Unnamed: 0  angle_deg  rad_asec  ampl_linear_norm     host_ampl  \\\n",
       "0      5           0        0.0      0.05             0.001  1.165688e+09   \n",
       "1      2           0        0.0      0.10             0.001  1.165688e+09   \n",
       "2      6           0        0.0      0.20             0.001  1.165688e+09   \n",
       "3      1           0        0.0      0.25             0.001  1.165688e+09   \n",
       "4      4           0        0.0      0.30             0.001  1.165688e+09   \n",
       "5      3           0        0.0      0.35             0.001  1.165688e+09   \n",
       "6      0           0        0.0      0.40             0.001  1.165688e+09   \n",
       "\n",
       "         signal          noise        s2n    A_for_5sig         C  5sig_mag  \n",
       "0  5.534643e+06  318712.027316  17.365656  1.593560e+06  0.001367  7.160534  \n",
       "1  4.834646e+06  859652.889286   5.623951  4.298264e+06  0.003687  6.083223  \n",
       "2  2.280172e+06  673178.849548   3.387171  3.365894e+06  0.002887  6.348704  \n",
       "3  1.366247e+06  195529.685267   6.987413  9.776484e+05  0.000839  7.690999  \n",
       "4  7.226843e+05   70062.539411  10.314846  3.503127e+05  0.000301  8.805316  \n",
       "5  5.122853e+05   72503.949666   7.065620  3.625197e+05  0.000311  8.768126  \n",
       "6  5.038699e+05   68206.031754   7.387469  3.410302e+05  0.000293  8.834474  "
      ]
     },
     "execution_count": 60,
     "metadata": {},
     "output_type": "execute_result"
    }
   ],
   "source": [
    "df_with_planets"
   ]
  },
  {
   "cell_type": "code",
   "execution_count": 58,
   "metadata": {},
   "outputs": [
    {
     "data": {
      "image/png": "[encoded data removed]",
      "text/plain": [
       "<Figure size 432x288 with 1 Axes>"
      ]
     },
     "metadata": {
      "needs_background": "light"
     },
     "output_type": "display_data"
    }
   ],
   "source": [
    "plt.scatter(df_no_planets[\"rad_asec\"],df_no_planets[\"5sig_mag\"])\n",
    "plt.xlabel(\"Radius (asec)\")\n",
    "plt.ylabel(\"5-sig contrast (mag, Br-alpha)\")\n",
    "plt.gca().invert_yaxis()\n",
    "plt.show()\n",
    "#plt.savefig(\"contrast_curve_compare_adi_csv_files_with_planets.pdf\")"
   ]
  },
  {
   "cell_type": "code",
   "execution_count": 62,
   "metadata": {},
   "outputs": [
    {
     "data": {
      "image/png": "[encoded data removed]",
      "text/plain": [
       "<Figure size 432x288 with 1 Axes>"
      ]
     },
     "metadata": {
      "needs_background": "light"
     },
     "output_type": "display_data"
    }
   ],
   "source": [
    "plt.scatter(df_with_planets[\"rad_asec\"],df_with_planets[\"5sig_mag\"])\n",
    "plt.xlabel(\"Radius (asec)\")\n",
    "plt.ylabel(\"5-sig contrast (mag, Br-alpha)\")\n",
    "plt.gca().invert_yaxis()\n",
    "plt.show()\n",
    "#plt.savefig(\"contrast_curve_compare_adi_csv_files_with_planets.pdf\")"
   ]
  },
  {
   "cell_type": "code",
   "execution_count": 64,
   "metadata": {},
   "outputs": [
    {
     "data": {
      "image/png": "[encoded data removed]",
      "text/plain": [
       "<Figure size 432x288 with 1 Axes>"
      ]
     },
     "metadata": {
      "needs_background": "light"
     },
     "output_type": "display_data"
    }
   ],
   "source": [
    "plt.scatter(df_with_planets[\"rad_asec\"],df_with_planets[\"5sig_mag\"])\n",
    "plt.xlabel(\"Radius (asec)\")\n",
    "plt.ylabel(\"5-sig contrast (mag, Br-alpha)\")\n",
    "plt.gca().invert_yaxis()\n",
    "plt.show()\n",
    "#plt.savefig(\"contrast_curve_compare_adi_csv_files_with_planets.pdf\")"
   ]
  },
  {
   "cell_type": "code",
   "execution_count": null,
   "metadata": {},
   "outputs": [],
   "source": []
  }
 ],
 "metadata": {
  "kernelspec": {
   "display_name": "Python 3",
   "language": "python",
   "name": "python3"
  },
  "language_info": {
   "codemirror_mode": {
    "name": "ipython",
    "version": 3
   },
   "file_extension": ".py",
   "mimetype": "text/x-python",
   "name": "python",
   "nbconvert_exporter": "python",
   "pygments_lexer": "ipython3",
   "version": "3.6.6"
  }
 },
 "nbformat": 4,
 "nbformat_minor": 1
}
