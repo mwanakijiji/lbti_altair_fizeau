{
 "cells": [
  {
   "cell_type": "code",
   "execution_count": null,
   "metadata": {},
   "outputs": [],
   "source": [
    "# Draft code for making a 1D contrast curve for my Altair data, for R>lambda/D\n",
    "\n",
    "# Created 2019 Nov. 25 by E.S."
   ]
  },
  {
   "cell_type": "code",
   "execution_count": 1,
   "metadata": {},
   "outputs": [],
   "source": [
    "import pandas as pd\n",
    "import numpy as np\n",
    "import matplotlib.pyplot as plt\n",
    "from astropy.io import fits\n",
    "\n",
    "%matplotlib qt"
   ]
  },
  {
   "cell_type": "code",
   "execution_count": 2,
   "metadata": {},
   "outputs": [],
   "source": [
    "def radial_data(data,annulus_width=1,working_mask=None,x=None,y=None,rmax=None):\n",
    "    \"\"\"\n",
    "    From https://people.ucsc.edu/~ianc/python/_modules/radial_data.html\n",
    "    \n",
    "    r = radial_data(data,annulus_width,working_mask,x,y)\n",
    "    \n",
    "    A function to reduce an image to a radial cross-section.\n",
    "    \n",
    "    :INPUT:\n",
    "      data   - whatever data you are radially averaging.  Data is\n",
    "              binned into a series of annuli of width 'annulus_width'\n",
    "              pixels.\n",
    "\n",
    "      annulus_width - width of each annulus.  Default is 1.\n",
    "\n",
    "      working_mask - array of same size as 'data', with zeros at\n",
    "                        whichever 'data' points you don't want included\n",
    "                        in the radial data computations.\n",
    "\n",
    "      x,y - coordinate system in which the data exists (used to set\n",
    "               the center of the data).  By default, these are set to\n",
    "               integer meshgrids\n",
    "\n",
    "      rmax -- maximum radial value over which to compute statistics\n",
    "    \n",
    "    :OUTPUT:\n",
    "        r - a data structure containing the following\n",
    "                   statistics, computed across each annulus:\n",
    "\n",
    "          .r      - the radial coordinate used (outer edge of annulus)\n",
    "\n",
    "          .mean   - mean of the data in the annulus\n",
    "\n",
    "          .sum    - the sum of all enclosed values at the given radius\n",
    "\n",
    "          .std    - standard deviation of the data in the annulus\n",
    "\n",
    "          .median - median value in the annulus\n",
    "\n",
    "          .max    - maximum value in the annulus\n",
    "\n",
    "          .min    - minimum value in the annulus\n",
    "\n",
    "          .numel  - number of elements in the annulus\n",
    "\n",
    "    :EXAMPLE:        \n",
    "      ::\n",
    "        \n",
    "        import numpy as np\n",
    "        import pylab as py\n",
    "        import radial_data as rad\n",
    "\n",
    "        # Create coordinate grid\n",
    "        npix = 50.\n",
    "        x = np.arange(npix) - npix/2.\n",
    "        xx, yy = np.meshgrid(x, x)\n",
    "        r = np.sqrt(xx**2 + yy**2)\n",
    "        fake_psf = np.exp(-(r/5.)**2)\n",
    "        noise = 0.1 * np.random.normal(0, 1, r.size).reshape(r.shape)\n",
    "        simulation = fake_psf + noise\n",
    "\n",
    "        rad_stats = rad.radial_data(simulation, x=xx, y=yy)\n",
    "\n",
    "        py.figure()\n",
    "        py.plot(rad_stats.r, rad_stats.mean / rad_stats.std)\n",
    "        py.xlabel('Radial coordinate')\n",
    "        py.ylabel('Signal to Noise')\n",
    "    \"\"\"\n",
    "    \n",
    "# 2012-02-25 20:40 IJMC: Empty bins now have numel=0, not nan.\n",
    "# 2012-02-04 17:41 IJMC: Added \"SUM\" flag\n",
    "# 2010-11-19 16:36 IJC: Updated documentation for Sphinx\n",
    "# 2010-03-10 19:22 IJC: Ported to python from Matlab\n",
    "# 2005/12/19 Added 'working_region' option (IJC)\n",
    "# 2005/12/15 Switched order of outputs (IJC)\n",
    "# 2005/12/12 IJC: Removed decifact, changed name, wrote comments.\n",
    "# 2005/11/04 by Ian Crossfield at the Jet Propulsion Laboratory\n",
    " \n",
    "    import numpy as ny\n",
    "\n",
    "    class radialDat:\n",
    "        \"\"\"Empty object container.\n",
    "        \"\"\"\n",
    "        def __init__(self): \n",
    "            self.mean = None\n",
    "            self.std = None\n",
    "            self.median = None\n",
    "            self.numel = None\n",
    "            self.max = None\n",
    "            self.min = None\n",
    "            self.r = None\n",
    "\n",
    "    #---------------------\n",
    "    # Set up input parameters\n",
    "    #---------------------\n",
    "    data = ny.array(data)\n",
    "    \n",
    "    if working_mask==None:\n",
    "        working_mask = ny.ones(data.shape,bool)\n",
    "    \n",
    "    npix, npiy = data.shape\n",
    "    \n",
    "    '''\n",
    "    REMOVED 2020 MAR 15 --E.S.\n",
    "    if x==None or y==None:\n",
    "        x1 = ny.arange(-npix/2.,npix/2.)\n",
    "        y1 = ny.arange(-npiy/2.,npiy/2.)\n",
    "        x,y = ny.meshgrid(y1,x1)\n",
    "    '''\n",
    "\n",
    "    r = abs(x+1j*y)\n",
    "\n",
    "    if rmax==None:\n",
    "        rmax = r[working_mask].max()\n",
    "\n",
    "    #---------------------\n",
    "    # Prepare the data container\n",
    "    #---------------------\n",
    "    dr = ny.abs([x[0,0] - x[0,1]]) * annulus_width\n",
    "    radial = ny.arange(rmax/dr)*dr + dr/2.\n",
    "    nrad = len(radial)\n",
    "    radialdata = radialDat()\n",
    "    radialdata.mean = ny.zeros(nrad)\n",
    "    radialdata.sum = ny.zeros(nrad)\n",
    "    radialdata.std = ny.zeros(nrad)\n",
    "    radialdata.median = ny.zeros(nrad)\n",
    "    radialdata.numel = ny.zeros(nrad, dtype=int)\n",
    "    radialdata.max = ny.zeros(nrad)\n",
    "    radialdata.min = ny.zeros(nrad)\n",
    "    radialdata.r = radial\n",
    "    \n",
    "    #---------------------\n",
    "    # Loop through the bins\n",
    "    #---------------------\n",
    "    for irad in range(nrad): #= 1:numel(radial)\n",
    "        minrad = irad*dr\n",
    "        maxrad = minrad + dr\n",
    "        thisindex = (r>=minrad) * (r<maxrad) * working_mask\n",
    "        #import pylab as py\n",
    "        #pdb.set_trace()\n",
    "        if not thisindex.ravel().any():\n",
    "            radialdata.mean[irad] = ny.nan\n",
    "            radialdata.sum[irad] = ny.nan\n",
    "            radialdata.std[irad]  = ny.nan\n",
    "            radialdata.median[irad] = ny.nan\n",
    "            radialdata.numel[irad] = 0\n",
    "            radialdata.max[irad] = ny.nan\n",
    "            radialdata.min[irad] = ny.nan\n",
    "        else:\n",
    "            radialdata.mean[irad] = data[thisindex].mean()\n",
    "            radialdata.sum[irad] = data[r<maxrad].sum()\n",
    "            radialdata.std[irad]  = data[thisindex].std()\n",
    "            radialdata.median[irad] = ny.median(data[thisindex])\n",
    "            radialdata.numel[irad] = data[thisindex].size\n",
    "            radialdata.max[irad] = data[thisindex].max()\n",
    "            radialdata.min[irad] = data[thisindex].min()\n",
    "    \n",
    "    #---------------------\n",
    "    # Return with data\n",
    "    #---------------------\n",
    "    \n",
    "    return radialdata"
   ]
  },
  {
   "cell_type": "code",
   "execution_count": 3,
   "metadata": {},
   "outputs": [],
   "source": [
    "# host star amplitude (from cube median; not convolved with a smoothing kernel)\n",
    "\n",
    "ampl_host = 53738\n",
    "fwhm_pix = 1.028*9.46 # 1.028*lambda/D"
   ]
  },
  {
   "cell_type": "code",
   "execution_count": 4,
   "metadata": {},
   "outputs": [],
   "source": [
    "# read in ADI frame\n",
    "\n",
    "adi_frame, header = fits.getdata(\"data/adi_frame_0.0_0.1_1e-10_1e-10_20200313_adi_frame_using_all_frames.fits\",\n",
    "                                 0,header=True)"
   ]
  },
  {
   "cell_type": "code",
   "execution_count": 5,
   "metadata": {},
   "outputs": [],
   "source": [
    "# make coordinate grid\n",
    "# (note the need to set middle of image to zero)\n",
    "\n",
    "x_range = np.arange(np.shape(adi_frame)[0]) - 0.5*np.shape(adi_frame)[0]\n",
    "y_range = np.arange(np.shape(adi_frame)[1]) - 0.5*np.shape(adi_frame)[1]\n",
    "xx, yy = np.meshgrid(x_range, y_range)"
   ]
  },
  {
   "cell_type": "code",
   "execution_count": 6,
   "metadata": {},
   "outputs": [
    {
     "name": "stderr",
     "output_type": "stream",
     "text": [
      "/Users/nyumbani/anaconda3/envs/py366/lib/python3.6/site-packages/numpy/lib/function_base.py:3250: RuntimeWarning: Invalid value encountered in median\n",
      "  r = func(a, **kwargs)\n",
      "/Users/nyumbani/anaconda3/envs/py366/lib/python3.6/site-packages/numpy/core/_methods.py:28: RuntimeWarning: invalid value encountered in reduce\n",
      "  return umr_maximum(a, axis, None, out, keepdims, initial)\n",
      "/Users/nyumbani/anaconda3/envs/py366/lib/python3.6/site-packages/numpy/core/_methods.py:32: RuntimeWarning: invalid value encountered in reduce\n",
      "  return umr_minimum(a, axis, None, out, keepdims, initial)\n"
     ]
    }
   ],
   "source": [
    "# calculate radial data\n",
    "\n",
    "# width here is in pix\n",
    "rad_stats_width01 = radial_data(adi_frame, annulus_width=1, x=xx, y=yy)"
   ]
  },
  {
   "cell_type": "code",
   "execution_count": 7,
   "metadata": {},
   "outputs": [
    {
     "name": "stderr",
     "output_type": "stream",
     "text": [
      "/Users/nyumbani/anaconda3/envs/py366/lib/python3.6/site-packages/numpy/lib/function_base.py:3250: RuntimeWarning: Invalid value encountered in median\n",
      "  r = func(a, **kwargs)\n",
      "/Users/nyumbani/anaconda3/envs/py366/lib/python3.6/site-packages/numpy/core/_methods.py:28: RuntimeWarning: invalid value encountered in reduce\n",
      "  return umr_maximum(a, axis, None, out, keepdims, initial)\n",
      "/Users/nyumbani/anaconda3/envs/py366/lib/python3.6/site-packages/numpy/core/_methods.py:32: RuntimeWarning: invalid value encountered in reduce\n",
      "  return umr_minimum(a, axis, None, out, keepdims, initial)\n"
     ]
    }
   ],
   "source": [
    "# calculate radial data\n",
    "\n",
    "#import radial_data as rad\n",
    "rad_stats_width10 = radial_data(adi_frame, annulus_width=10, x=xx, y=yy)"
   ]
  },
  {
   "cell_type": "code",
   "execution_count": 8,
   "metadata": {},
   "outputs": [
    {
     "name": "stderr",
     "output_type": "stream",
     "text": [
      "/Users/nyumbani/anaconda3/envs/py366/lib/python3.6/site-packages/numpy/lib/function_base.py:3250: RuntimeWarning: Invalid value encountered in median\n",
      "  r = func(a, **kwargs)\n",
      "/Users/nyumbani/anaconda3/envs/py366/lib/python3.6/site-packages/numpy/core/_methods.py:28: RuntimeWarning: invalid value encountered in reduce\n",
      "  return umr_maximum(a, axis, None, out, keepdims, initial)\n",
      "/Users/nyumbani/anaconda3/envs/py366/lib/python3.6/site-packages/numpy/core/_methods.py:32: RuntimeWarning: invalid value encountered in reduce\n",
      "  return umr_minimum(a, axis, None, out, keepdims, initial)\n"
     ]
    }
   ],
   "source": [
    "# calculate radial data\n",
    "\n",
    "#import radial_data as rad\n",
    "rad_stats_widthFWHM = radial_data(adi_frame, annulus_width=fwhm_pix, x=xx, y=yy)"
   ]
  },
  {
   "cell_type": "code",
   "execution_count": 11,
   "metadata": {},
   "outputs": [],
   "source": [
    "# calculate contrasts first\n",
    "linear_5sig_contrast_width01 = np.divide(5.*rad_stats_width01.std,ampl_host)\n",
    "linear_5sig_contrast_width10 = np.divide(5.*rad_stats_width10.std,ampl_host)\n",
    "linear_5sig_contrast_widthFWHM = np.divide(5.*rad_stats_widthFWHM.std,ampl_host)"
   ]
  },
  {
   "cell_type": "code",
   "execution_count": 12,
   "metadata": {},
   "outputs": [
    {
     "name": "stderr",
     "output_type": "stream",
     "text": [
      "/Users/nyumbani/anaconda3/envs/py366/lib/python3.6/site-packages/ipykernel_launcher.py:2: RuntimeWarning: divide by zero encountered in log10\n",
      "  \n"
     ]
    }
   ],
   "source": [
    "# convert linear contrast to del_mags\n",
    "del_mags_contrast_width01 = -2.5*np.log10(linear_5sig_contrast_width01)\n",
    "del_mags_contrast_width10 = -2.5*np.log10(linear_5sig_contrast_width10)\n",
    "del_mags_contrast_widthFWHM = -2.5*np.log10(linear_5sig_contrast_widthFWHM)"
   ]
  },
  {
   "cell_type": "code",
   "execution_count": 21,
   "metadata": {},
   "outputs": [],
   "source": [
    "# plot means\n",
    "\n",
    "plt.clf()\n",
    "plt.plot(np.multiply(rad_stats_width01.r,0.0107), rad_stats_width01.mean, marker=\"o\", label=\"Annulus width 1 pix\")\n",
    "plt.plot(np.multiply(rad_stats_width10.r,0.0107), rad_stats_width10.mean, marker=\"o\", label=\"Annulus width 10 pix\")\n",
    "plt.plot(np.multiply(rad_stats_widthFWHM.r,0.0107), rad_stats_widthFWHM.mean, marker=\"o\", label=\"Annulus width FWHM=9.7 pix\")\n",
    "plt.axvline(x=np.multiply(15.5,0.0107), linestyle=\":\", color=\"k\")\n",
    "plt.legend()\n",
    "plt.title(\"Mean values of residuals\")\n",
    "plt.xlabel(\"Radius (asec)\")\n",
    "plt.ylabel(\"Mean val\")\n",
    "plt.show()\n",
    "#plt.savefig(\"junk.pdf\")"
   ]
  },
  {
   "cell_type": "code",
   "execution_count": 22,
   "metadata": {},
   "outputs": [],
   "source": [
    "# plot stdev\n",
    "\n",
    "plt.clf()\n",
    "plt.plot(np.multiply(rad_stats_width01.r,0.0107), rad_stats_width01.std, marker=\"o\", label=\"Annulus width 1 pix\")\n",
    "plt.plot(np.multiply(rad_stats_width10.r,0.0107), rad_stats_width10.std, marker=\"o\", label=\"Annulus width 10 pix\")\n",
    "plt.plot(np.multiply(rad_stats_widthFWHM.r,0.0107), rad_stats_widthFWHM.std, marker=\"o\", label=\"Annulus width FWHM=9.7 pix\")\n",
    "plt.axvline(x=np.multiply(15.5,0.0107), linestyle=\":\", color=\"k\")\n",
    "plt.legend()\n",
    "plt.title(\"Stdev of residuals\")\n",
    "plt.xlabel(\"Radius (asec)\")\n",
    "plt.ylabel(\"Stdev\")\n",
    "plt.show()\n",
    "#plt.savefig(\"junk.pdf\")"
   ]
  },
  {
   "cell_type": "code",
   "execution_count": 15,
   "metadata": {},
   "outputs": [],
   "source": [
    "# plot 5*stdev/ampl_host (linear)\n",
    "\n",
    "plt.clf()\n",
    "plt.plot(np.multiply(rad_stats_width01.r,0.0107), linear_5sig_contrast_width01, marker=\"o\", label=\"Annulus width 1 pix\")\n",
    "plt.plot(np.multiply(rad_stats_width10.r,0.0107), linear_5sig_contrast_width10, marker=\"o\", label=\"Annulus width 10 pix\")\n",
    "plt.plot(np.multiply(rad_stats_widthFWHM.r,0.0107), linear_5sig_contrast_widthFWHM, marker=\"o\", label=\"Annulus width FWHM=9.7 pix\")\n",
    "plt.axvline(x=np.multiply(15.5,0.0107), linestyle=\":\", color=\"k\")\n",
    "plt.legend()\n",
    "plt.title(\"Classical contrast curve (linear)\")\n",
    "plt.xlabel(\"Radius (asec)\")\n",
    "plt.ylabel(\"5*noise/ampl_host\")\n",
    "plt.show()\n",
    "#plt.savefig(\"junk.pdf\")"
   ]
  },
  {
   "cell_type": "code",
   "execution_count": 14,
   "metadata": {},
   "outputs": [
    {
     "name": "stderr",
     "output_type": "stream",
     "text": [
      "/Users/nyumbani/anaconda3/envs/py366/lib/python3.6/site-packages/ipykernel_launcher.py:5: RuntimeWarning: divide by zero encountered in log10\n",
      "  \"\"\"\n"
     ]
    }
   ],
   "source": [
    "# plot 5*stdev/ampl_host (del_mag)\n",
    "\n",
    "plt.clf()\n",
    "plt.plot(np.multiply(rad_stats_width01.r,0.0107), del_mags_contrast_width01, marker=\"o\", label=\"Annulus width 1 pix\")\n",
    "plt.plot(np.multiply(rad_stats_width10.r,0.0107), del_mags_contrast_width10, marker=\"o\", label=\"Annulus width 10 pix\")\n",
    "plt.plot(np.multiply(rad_stats_widthFWHM.r,0.0107), del_mags_contrast_widthFWHM, marker=\"o\", label=\"Annulus width FWHM=9.7 pix\")\n",
    "plt.axvline(x=np.multiply(15.5,0.0107), linestyle=\":\", color=\"k\")\n",
    "plt.legend()\n",
    "plt.title(\"Classical contrast curve ($\\Delta$m)\")\n",
    "plt.xlabel(\"Radius (asec)\")\n",
    "plt.ylabel(\"$\\Delta$m (based on 5*noise/ampl_host)\")\n",
    "plt.gca().invert_yaxis()\n",
    "plt.show()\n",
    "#plt.savefig(\"junk.pdf\")"
   ]
  },
  {
   "cell_type": "code",
   "execution_count": 13,
   "metadata": {},
   "outputs": [],
   "source": [
    "# write out contrast curve to csv\n",
    "\n",
    "contrast_data_df = pd.DataFrame(data=del_mags_contrast_widthFWHM, index=None, columns=[\"del_mag_widthFWHM\"])\n",
    "contrast_data_df[\"radius_pix\"] = rad_stats_widthFWHM.r\n",
    "contrast_data_df[\"asec\"] = np.multiply(rad_stats_widthFWHM.r,0.0107)\n",
    "#contrast_data_df[\"AU\"] = np.multiply(contrast_data_df[\"asec\"],5.13)\n",
    "contrast_data_df[\"contrast_lim\"] = linear_5sig_contrast_widthFWHM\n",
    "\n",
    "contrast_data_df.to_csv(\"junk.csv\")"
   ]
  },
  {
   "cell_type": "code",
   "execution_count": null,
   "metadata": {},
   "outputs": [],
   "source": []
  }
 ],
 "metadata": {
  "kernelspec": {
   "display_name": "Python 3",
   "language": "python",
   "name": "python3"
  },
  "language_info": {
   "codemirror_mode": {
    "name": "ipython",
    "version": 3
   },
   "file_extension": ".py",
   "mimetype": "text/x-python",
   "name": "python",
   "nbconvert_exporter": "python",
   "pygments_lexer": "ipython3",
   "version": "3.6.6"
  }
 },
 "nbformat": 4,
 "nbformat_minor": 2
}
