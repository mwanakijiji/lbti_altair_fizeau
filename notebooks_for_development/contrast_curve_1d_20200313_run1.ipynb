{
 "cells": [
  {
   "cell_type": "code",
   "execution_count": null,
   "metadata": {},
   "outputs": [],
   "source": [
    "# Draft code for making a 1D contrast curve for my Altair data, for R>lambda/D\n",
    "\n",
    "# Created 2019 Nov. 25 by E.S."
   ]
  },
  {
   "cell_type": "code",
   "execution_count": 35,
   "metadata": {},
   "outputs": [],
   "source": [
    "import pandas as pd\n",
    "import numpy as np\n",
    "import matplotlib.pyplot as plt\n",
    "from astropy.io import fits\n",
    "\n",
    "%matplotlib qt"
   ]
  },
  {
   "cell_type": "code",
   "execution_count": 36,
   "metadata": {},
   "outputs": [],
   "source": [
    "def radial_data(data,annulus_width=1,working_mask=None,x=None,y=None,rmax=None):\n",
    "    \"\"\"\n",
    "    From https://people.ucsc.edu/~ianc/python/_modules/radial_data.html\n",
    "    \n",
    "    r = radial_data(data,annulus_width,working_mask,x,y)\n",
    "    \n",
    "    A function to reduce an image to a radial cross-section.\n",
    "    \n",
    "    :INPUT:\n",
    "      data   - whatever data you are radially averaging.  Data is\n",
    "              binned into a series of annuli of width 'annulus_width'\n",
    "              pixels.\n",
    "\n",
    "      annulus_width - width of each annulus.  Default is 1.\n",
    "\n",
    "      working_mask - array of same size as 'data', with zeros at\n",
    "                        whichever 'data' points you don't want included\n",
    "                        in the radial data computations.\n",
    "\n",
    "      x,y - coordinate system in which the data exists (used to set\n",
    "               the center of the data).  By default, these are set to\n",
    "               integer meshgrids\n",
    "\n",
    "      rmax -- maximum radial value over which to compute statistics\n",
    "    \n",
    "    :OUTPUT:\n",
    "        r - a data structure containing the following\n",
    "                   statistics, computed across each annulus:\n",
    "\n",
    "          .r      - the radial coordinate used (outer edge of annulus)\n",
    "\n",
    "          .mean   - mean of the data in the annulus\n",
    "\n",
    "          .sum    - the sum of all enclosed values at the given radius\n",
    "\n",
    "          .std    - standard deviation of the data in the annulus\n",
    "\n",
    "          .median - median value in the annulus\n",
    "\n",
    "          .max    - maximum value in the annulus\n",
    "\n",
    "          .min    - minimum value in the annulus\n",
    "\n",
    "          .numel  - number of elements in the annulus\n",
    "\n",
    "    :EXAMPLE:        \n",
    "      ::\n",
    "        \n",
    "        import numpy as np\n",
    "        import pylab as py\n",
    "        import radial_data as rad\n",
    "\n",
    "        # Create coordinate grid\n",
    "        npix = 50.\n",
    "        x = np.arange(npix) - npix/2.\n",
    "        xx, yy = np.meshgrid(x, x)\n",
    "        r = np.sqrt(xx**2 + yy**2)\n",
    "        fake_psf = np.exp(-(r/5.)**2)\n",
    "        noise = 0.1 * np.random.normal(0, 1, r.size).reshape(r.shape)\n",
    "        simulation = fake_psf + noise\n",
    "\n",
    "        rad_stats = rad.radial_data(simulation, x=xx, y=yy)\n",
    "\n",
    "        py.figure()\n",
    "        py.plot(rad_stats.r, rad_stats.mean / rad_stats.std)\n",
    "        py.xlabel('Radial coordinate')\n",
    "        py.ylabel('Signal to Noise')\n",
    "    \"\"\"\n",
    "    \n",
    "# 2012-02-25 20:40 IJMC: Empty bins now have numel=0, not nan.\n",
    "# 2012-02-04 17:41 IJMC: Added \"SUM\" flag\n",
    "# 2010-11-19 16:36 IJC: Updated documentation for Sphinx\n",
    "# 2010-03-10 19:22 IJC: Ported to python from Matlab\n",
    "# 2005/12/19 Added 'working_region' option (IJC)\n",
    "# 2005/12/15 Switched order of outputs (IJC)\n",
    "# 2005/12/12 IJC: Removed decifact, changed name, wrote comments.\n",
    "# 2005/11/04 by Ian Crossfield at the Jet Propulsion Laboratory\n",
    " \n",
    "    import numpy as ny\n",
    "\n",
    "    class radialDat:\n",
    "        \"\"\"Empty object container.\n",
    "        \"\"\"\n",
    "        def __init__(self): \n",
    "            self.mean = None\n",
    "            self.std = None\n",
    "            self.median = None\n",
    "            self.numel = None\n",
    "            self.max = None\n",
    "            self.min = None\n",
    "            self.r = None\n",
    "\n",
    "    #---------------------\n",
    "    # Set up input parameters\n",
    "    #---------------------\n",
    "    data = ny.array(data)\n",
    "    \n",
    "    if working_mask==None:\n",
    "        working_mask = ny.ones(data.shape,bool)\n",
    "    \n",
    "    npix, npiy = data.shape\n",
    "    \n",
    "    '''\n",
    "    REMOVED 2020 MAR 15 --E.S.\n",
    "    if x==None or y==None:\n",
    "        x1 = ny.arange(-npix/2.,npix/2.)\n",
    "        y1 = ny.arange(-npiy/2.,npiy/2.)\n",
    "        x,y = ny.meshgrid(y1,x1)\n",
    "    '''\n",
    "\n",
    "    r = abs(x+1j*y)\n",
    "\n",
    "    if rmax==None:\n",
    "        rmax = r[working_mask].max()\n",
    "\n",
    "    #---------------------\n",
    "    # Prepare the data container\n",
    "    #---------------------\n",
    "    dr = ny.abs([x[0,0] - x[0,1]]) * annulus_width\n",
    "    radial = ny.arange(rmax/dr)*dr + dr/2.\n",
    "    nrad = len(radial)\n",
    "    radialdata = radialDat()\n",
    "    radialdata.mean = ny.zeros(nrad)\n",
    "    radialdata.sum = ny.zeros(nrad)\n",
    "    radialdata.std = ny.zeros(nrad)\n",
    "    radialdata.median = ny.zeros(nrad)\n",
    "    radialdata.numel = ny.zeros(nrad, dtype=int)\n",
    "    radialdata.max = ny.zeros(nrad)\n",
    "    radialdata.min = ny.zeros(nrad)\n",
    "    radialdata.r = radial\n",
    "    \n",
    "    #---------------------\n",
    "    # Loop through the bins\n",
    "    #---------------------\n",
    "    for irad in range(nrad): #= 1:numel(radial)\n",
    "        minrad = irad*dr\n",
    "        maxrad = minrad + dr\n",
    "        thisindex = (r>=minrad) * (r<maxrad) * working_mask\n",
    "        #import pylab as py\n",
    "        #pdb.set_trace()\n",
    "        if not thisindex.ravel().any():\n",
    "            radialdata.mean[irad] = ny.nan\n",
    "            radialdata.sum[irad] = ny.nan\n",
    "            radialdata.std[irad]  = ny.nan\n",
    "            radialdata.median[irad] = ny.nan\n",
    "            radialdata.numel[irad] = 0\n",
    "            radialdata.max[irad] = ny.nan\n",
    "            radialdata.min[irad] = ny.nan\n",
    "        else:\n",
    "            radialdata.mean[irad] = data[thisindex].mean()\n",
    "            radialdata.sum[irad] = data[r<maxrad].sum()\n",
    "            radialdata.std[irad]  = data[thisindex].std()\n",
    "            radialdata.median[irad] = ny.median(data[thisindex])\n",
    "            radialdata.numel[irad] = data[thisindex].size\n",
    "            radialdata.max[irad] = data[thisindex].max()\n",
    "            radialdata.min[irad] = data[thisindex].min()\n",
    "    \n",
    "    #---------------------\n",
    "    # Return with data\n",
    "    #---------------------\n",
    "    \n",
    "    return radialdata"
   ]
  },
  {
   "cell_type": "code",
   "execution_count": 44,
   "metadata": {},
   "outputs": [],
   "source": [
    "# host star amplitude (from cube median, not convolved with a smoothing kernel)\n",
    "\n",
    "ampl_host = 53738"
   ]
  },
  {
   "cell_type": "code",
   "execution_count": 37,
   "metadata": {},
   "outputs": [],
   "source": [
    "# read in ADI frame\n",
    "\n",
    "adi_frame, header = fits.getdata(\"data/adi_frame_0.0_0.1_1e-10_1e-10_20200313_adi_frame_using_all_frames.fits\",\n",
    "                                 0,header=True)"
   ]
  },
  {
   "cell_type": "code",
   "execution_count": 38,
   "metadata": {},
   "outputs": [],
   "source": [
    "# make coordinate grid\n",
    "# (note the need to set middle of image to zero)\n",
    "\n",
    "x_range = np.arange(np.shape(adi_frame)[0]) - 0.5*np.shape(adi_frame)[0]\n",
    "y_range = np.arange(np.shape(adi_frame)[1]) - 0.5*np.shape(adi_frame)[1]\n",
    "xx, yy = np.meshgrid(x_range, y_range)"
   ]
  },
  {
   "cell_type": "code",
   "execution_count": 39,
   "metadata": {},
   "outputs": [
    {
     "name": "stderr",
     "output_type": "stream",
     "text": [
      "/Users/nyumbani/anaconda3/envs/py366/lib/python3.6/site-packages/numpy/lib/function_base.py:3250: RuntimeWarning: Invalid value encountered in median\n",
      "  r = func(a, **kwargs)\n",
      "/Users/nyumbani/anaconda3/envs/py366/lib/python3.6/site-packages/numpy/core/_methods.py:28: RuntimeWarning: invalid value encountered in reduce\n",
      "  return umr_maximum(a, axis, None, out, keepdims, initial)\n",
      "/Users/nyumbani/anaconda3/envs/py366/lib/python3.6/site-packages/numpy/core/_methods.py:32: RuntimeWarning: invalid value encountered in reduce\n",
      "  return umr_minimum(a, axis, None, out, keepdims, initial)\n"
     ]
    }
   ],
   "source": [
    "# calculate radial data\n",
    "\n",
    "#import radial_data as rad\n",
    "rad_stats = radial_data(adi_frame, x=xx, y=yy)"
   ]
  },
  {
   "cell_type": "code",
   "execution_count": 47,
   "metadata": {},
   "outputs": [
    {
     "name": "stderr",
     "output_type": "stream",
     "text": [
      "/Users/nyumbani/anaconda3/envs/py366/lib/python3.6/site-packages/numpy/lib/function_base.py:3250: RuntimeWarning: Invalid value encountered in median\n",
      "  r = func(a, **kwargs)\n",
      "/Users/nyumbani/anaconda3/envs/py366/lib/python3.6/site-packages/numpy/core/_methods.py:28: RuntimeWarning: invalid value encountered in reduce\n",
      "  return umr_maximum(a, axis, None, out, keepdims, initial)\n",
      "/Users/nyumbani/anaconda3/envs/py366/lib/python3.6/site-packages/numpy/core/_methods.py:32: RuntimeWarning: invalid value encountered in reduce\n",
      "  return umr_minimum(a, axis, None, out, keepdims, initial)\n"
     ]
    }
   ],
   "source": [
    "# calculate radial data\n",
    "\n",
    "#import radial_data as rad\n",
    "rad_stats_width10 = radial_data(adi_frame, annulus_width=10, x=xx, y=yy)"
   ]
  },
  {
   "cell_type": "code",
   "execution_count": 51,
   "metadata": {},
   "outputs": [
    {
     "data": {
      "text/plain": [
       "array([89.7135163 , 32.54329244,  4.48777022,  2.86556988,  1.81943812,\n",
       "        1.59066059,  1.15469829,  1.2505958 ,  0.99588377,  0.94238891,\n",
       "        0.95923743,  1.16505851,  1.34868559,  1.34884488,  1.31927027,\n",
       "        1.21447515,  1.1512986 ,  1.2844887 ,  1.30767482,         nan,\n",
       "               nan,         nan,         nan,         nan,         nan,\n",
       "               nan,         nan,         nan,         nan])"
      ]
     },
     "execution_count": 51,
     "metadata": {},
     "output_type": "execute_result"
    }
   ],
   "source": [
    "rad_stats_width10.std"
   ]
  },
  {
   "cell_type": "code",
   "execution_count": 15,
   "metadata": {},
   "outputs": [
    {
     "data": {
      "image/png": "[encoded data removed]",
      "text/plain": [
       "<Figure size 432x288 with 1 Axes>"
      ]
     },
     "metadata": {
      "needs_background": "light"
     },
     "output_type": "display_data"
    }
   ],
   "source": [
    "plt.imshow(adi_frame, origin=\"lower\")\n",
    "plt.show()"
   ]
  },
  {
   "cell_type": "code",
   "execution_count": 42,
   "metadata": {},
   "outputs": [],
   "source": [
    "# plot means\n",
    "\n",
    "plt.clf()\n",
    "plt.plot(np.multiply(rad_stats.r,0.0107), rad_stats.mean, marker=\"o\")\n",
    "plt.axvline(x=np.multiply(15.5,0.0107), linestyle=\":\", color=\"k\")\n",
    "plt.title(\"Mean values of residuals\")\n",
    "plt.xlabel(\"Radius (asec)\")\n",
    "plt.ylabel(\"Mean val\")\n",
    "plt.show()\n",
    "#plt.savefig(\"junk.pdf\")"
   ]
  },
  {
   "cell_type": "code",
   "execution_count": 43,
   "metadata": {},
   "outputs": [],
   "source": [
    "# plot stdev\n",
    "\n",
    "plt.clf()\n",
    "plt.plot(np.multiply(rad_stats.r,0.0107), rad_stats.std, marker=\"o\")\n",
    "plt.axvline(x=np.multiply(15.5,0.0107), linestyle=\":\", color=\"k\")\n",
    "plt.title(\"Stdev of residuals\")\n",
    "plt.xlabel(\"Radius (asec)\")\n",
    "plt.ylabel(\"Stdev\")\n",
    "plt.show()\n",
    "#plt.savefig(\"junk.pdf\")"
   ]
  },
  {
   "cell_type": "code",
   "execution_count": 45,
   "metadata": {},
   "outputs": [],
   "source": [
    "# ampl_host\n",
    "\n",
    "# plot 5*stdev/ampl_host\n",
    "\n",
    "plt.clf()\n",
    "plt.plot(np.multiply(rad_stats.r,0.0107), linear_5sig_contrast, marker=\"o\")\n",
    "plt.axvline(x=np.multiply(15.5,0.0107), linestyle=\":\", color=\"k\")\n",
    "plt.title(\"Classical contrast curve, annulus width 1 (in counts, linear)\")\n",
    "plt.xlabel(\"Radius (asec)\")\n",
    "plt.ylabel(\"5*noise/ampl_host\")\n",
    "plt.show()\n",
    "#plt.savefig(\"junk.pdf\")"
   ]
  },
  {
   "cell_type": "code",
   "execution_count": 56,
   "metadata": {},
   "outputs": [
    {
     "name": "stderr",
     "output_type": "stream",
     "text": [
      "/Users/nyumbani/anaconda3/envs/py366/lib/python3.6/site-packages/ipykernel_launcher.py:5: RuntimeWarning: divide by zero encountered in log10\n",
      "  \"\"\"\n"
     ]
    }
   ],
   "source": [
    "# calculate contrasts\n",
    "\n",
    "linear_5sig_contrast_width01 = np.divide(5.*rad_stats.std,ampl_host)\n",
    "# convert contrast to mags\n",
    "del_mags_contrast_width01 = -2.5*np.log10(linear_5sig_contrast_width01)\n",
    "\n",
    "linear_5sig_contrast_width10 = np.divide(5.*rad_stats_width10.std,ampl_host)\n",
    "# convert contrast to mags\n",
    "del_mags_contrast_width10 = -2.5*np.log10(linear_5sig_contrast_width10)"
   ]
  },
  {
   "cell_type": "code",
   "execution_count": 59,
   "metadata": {},
   "outputs": [
    {
     "data": {
      "text/plain": [
       "array([        inf,  5.24116577,  4.9377372 ,  5.51877131,  4.86915975,\n",
       "        4.89705129,  5.24624341,  5.05801352,  5.86569157,  5.85788691,\n",
       "        6.14896585,  5.71869107,  5.87536068,  6.38571141,  6.3870921 ,\n",
       "        6.86777271,  7.91724989,  8.10220367,  7.96507499,  7.83216778,\n",
       "        7.99781616,  8.25206721,  8.34896627,  8.43094618,  8.35740781,\n",
       "        8.50105082,  8.76755752,  8.90686945,  8.92352366,  8.8829825 ,\n",
       "        8.74361446,  8.6956007 ,  8.66300567,  8.76261667,  8.87174403,\n",
       "        9.10162356,  9.33643454,  9.54012298,  9.39989813,  9.2376179 ,\n",
       "        9.26179967,  9.20809627,  9.42316583,  9.49353381,  9.48135043,\n",
       "        9.43337184,  9.54856596,  9.67466207,  9.54558499,  9.50911524,\n",
       "        9.60415344,  9.68788464,  9.58979375,  9.61713863,  9.54596741,\n",
       "        9.71302597,  9.96748714,  9.99371895,  9.92855716,  9.93650526,\n",
       "        9.92467851,  9.99462277,  9.92466956,  9.84568552,  9.92947772,\n",
       "        9.83352683,  9.89102152, 10.0025342 , 10.05549108, 10.08166156,\n",
       "        9.92828733, 10.00673801, 10.01259547,  9.99782366,  9.94975808,\n",
       "        9.96118772, 10.10208845, 10.14577016, 10.22867823, 10.09343767,\n",
       "       10.17070868, 10.12550483, 10.12508267, 10.10363872, 10.11204395,\n",
       "       10.05180411, 10.17630157, 10.18750243, 10.16390732, 10.16039862,\n",
       "       10.15475246, 10.13202868, 10.14759338, 10.18850322, 10.23337814,\n",
       "       10.18863551, 10.22810731, 10.1989785 , 10.22498318, 10.17083918,\n",
       "       10.07490011, 10.09400534, 10.10963096, 10.14266306, 10.15751526,\n",
       "       10.1480893 , 10.16422368, 10.22481747, 10.17989952, 10.14708171,\n",
       "       10.09775   , 10.02586521, 10.07438582, 10.08716241, 10.00530642,\n",
       "       10.00647742,  9.88818761,  9.80857891,  9.76338109,  9.69682371,\n",
       "        9.68333693,  9.71715016,  9.74110036,  9.82348191,  9.81588157,\n",
       "        9.79490267,  9.78531448,  9.78283926,  9.78933615,  9.6597751 ,\n",
       "        9.64768327,  9.77002129,  9.77350135,  9.76834908,  9.76948089,\n",
       "        9.74689544,  9.78874495,  9.77686038,  9.73947314,  9.78312533,\n",
       "        9.71760287,  9.77655148,  9.75037009,  9.72728879,  9.74726696,\n",
       "        9.77848326,  9.81269848,  9.80702009,  9.84139293,  9.83657221,\n",
       "        9.8264032 ,  9.91832381,  9.8737105 ,  9.88931464,  9.86754496,\n",
       "        9.80341662,  9.85579494,  9.88112818,  9.88159945,  9.88634067,\n",
       "        9.92257554,  9.89367039,  9.89678558,  9.91697942,  9.93274972,\n",
       "        9.92523064,  9.952887  ,  9.95246161,  9.94046362,  9.93963802,\n",
       "        9.9026225 ,  9.82231984,  9.79895423,  9.85275735,  9.79718536,\n",
       "        9.81505975,  9.78480775,  9.79023634,  9.75336577,  9.77588091,\n",
       "        9.76091517,  9.78571914,  9.83913083,  9.78668225,  9.80007336,\n",
       "        9.78656368,  9.78375242,  9.80942542,  9.75297067,  9.77543585,\n",
       "        9.83715843,  9.85572936,  9.86094464,  9.86652083,         nan,\n",
       "               nan,         nan,         nan,         nan,         nan,\n",
       "               nan,         nan,         nan,         nan,         nan,\n",
       "               nan,         nan,         nan,         nan,         nan,\n",
       "               nan,         nan,         nan,         nan,         nan,\n",
       "               nan,         nan,         nan,         nan,         nan,\n",
       "               nan,         nan,         nan,         nan,         nan,\n",
       "               nan,         nan,         nan,         nan,         nan,\n",
       "               nan,         nan,         nan,         nan,         nan,\n",
       "               nan,         nan,         nan,         nan,         nan,\n",
       "               nan,         nan,         nan,         nan,         nan,\n",
       "               nan,         nan,         nan,         nan,         nan,\n",
       "               nan,         nan,         nan,         nan,         nan,\n",
       "               nan,         nan,         nan,         nan,         nan,\n",
       "               nan,         nan,         nan,         nan,         nan,\n",
       "               nan,         nan,         nan,         nan,         nan,\n",
       "               nan,         nan,         nan,         nan,         nan,\n",
       "               nan,         nan,         nan,         nan,         nan,\n",
       "               nan,         nan,         nan,         nan,         nan,\n",
       "               nan,         nan,         nan])"
      ]
     },
     "execution_count": 59,
     "metadata": {},
     "output_type": "execute_result"
    }
   ],
   "source": [
    "# write out 5*stdev/ampl_host to csv\n",
    "\n"
   ]
  },
  {
   "cell_type": "code",
   "execution_count": 52,
   "metadata": {},
   "outputs": [],
   "source": [
    "# plot curve: \n",
    "# - annulus width 10\n",
    "# - linear\n",
    "\n",
    "# plot 5*stdev/ampl_host\n",
    "\n",
    "plt.clf()\n",
    "plt.plot(np.multiply(rad_stats_width10.r,0.0107), np.divide(5.*rad_stats_width10.std,ampl_host), marker=\"o\")\n",
    "plt.axvline(x=np.multiply(15.5,0.0107), linestyle=\":\", color=\"k\")\n",
    "plt.title(\"Classical contrast curve, annulus width 10\")\n",
    "plt.xlabel(\"Radius (asec)\")\n",
    "plt.ylabel(\"5*noise/ampl_host\")\n",
    "plt.show()\n",
    "#plt.savefig(\"junk.pdf\")"
   ]
  },
  {
   "cell_type": "code",
   "execution_count": 61,
   "metadata": {},
   "outputs": [],
   "source": [
    "# plot curve: \n",
    "# - annulus width 10\n",
    "# - del_mag\n",
    "\n",
    "# plot 5*stdev/ampl_host\n",
    "\n",
    "plt.clf()\n",
    "plt.plot(np.multiply(rad_stats_width10.r,0.0107), del_mags_contrast_width10, marker=\"o\")\n",
    "plt.axvline(x=np.multiply(15.5,0.0107), linestyle=\":\", color=\"k\")\n",
    "plt.title(\"Classical contrast curve, annulus width 10\")\n",
    "plt.xlabel(\"Radius (asec)\")\n",
    "plt.ylabel(\"del_mag\")\n",
    "plt.gca().invert_yaxis()\n",
    "plt.show()\n",
    "#plt.savefig(\"junk.pdf\")"
   ]
  },
  {
   "cell_type": "code",
   "execution_count": 52,
   "metadata": {},
   "outputs": [],
   "source": [
    "# ampl_host\n",
    "\n",
    "# plot 5*stdev/ampl_host\n",
    "\n",
    "plt.clf()\n",
    "plt.plot(np.multiply(rad_stats_width10.r,0.0107), del_mags_contrast, marker=\"o\")\n",
    "plt.axvline(x=np.multiply(15.5,0.0107), linestyle=\":\", color=\"k\")\n",
    "plt.title(\"Classical contrast curve, annulus width 10\")\n",
    "plt.xlabel(\"Radius (asec)\")\n",
    "plt.ylabel(\"5*noise/ampl_host\")\n",
    "plt.show()\n",
    "#plt.savefig(\"junk.pdf\")"
   ]
  },
  {
   "cell_type": "code",
   "execution_count": null,
   "metadata": {},
   "outputs": [],
   "source": [
    "# write out 5*stdev/ampl_host to csv\n",
    "\n"
   ]
  }
 ],
 "metadata": {
  "kernelspec": {
   "display_name": "Python 3",
   "language": "python",
   "name": "python3"
  },
  "language_info": {
   "codemirror_mode": {
    "name": "ipython",
    "version": 3
   },
   "file_extension": ".py",
   "mimetype": "text/x-python",
   "name": "python",
   "nbconvert_exporter": "python",
   "pygments_lexer": "ipython3",
   "version": "3.6.6"
  }
 },
 "nbformat": 4,
 "nbformat_minor": 2
}
