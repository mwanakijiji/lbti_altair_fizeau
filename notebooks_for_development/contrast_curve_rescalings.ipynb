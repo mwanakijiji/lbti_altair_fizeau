{
 "cells": [
  {
   "cell_type": "code",
   "execution_count": null,
   "metadata": {},
   "outputs": [],
   "source": [
    "# These are bits of code which will be used to rescale contrast\n",
    "# curves for comparison\n",
    "\n",
    "# Created Sept. 10, 2020 by E.S."
   ]
  },
  {
   "cell_type": "code",
   "execution_count": 2,
   "metadata": {},
   "outputs": [],
   "source": [
    "import numpy as np\n",
    "import matplotlib.pyplot as plt"
   ]
  },
  {
   "cell_type": "markdown",
   "metadata": {},
   "source": [
    "# Flux"
   ]
  },
  {
   "cell_type": "markdown",
   "metadata": {},
   "source": [
    "#### Under the ideal Poisson assumption, \n",
    "\n",
    "$\\left(\\frac{S}{N}\\right)_{0} \\propto\\frac{F_{P}}{\\sqrt{F_{S}}}$\n",
    "\n",
    "#### If flux increases by 10x, it becomes \n",
    "\n",
    "$\\frac{10F_{P}}{\\sqrt{10F_{S}}}=\\sqrt{10}\\left( \\frac{S}{N} \\right)_{0}=\\sqrt{10}\\frac{F_{P}}{\\sqrt{F_{S}}}$\n",
    "\n",
    "#### Call the original contrast curve \\Delta_{m)_{0}. The negative offset to get a scaled contrast curve \\Delta_{m)_{1} is\n",
    "\n",
    "$-\\alpha=(\\Delta m)_{1}-(\\Delta m)_{0}$\n",
    "$=-2.5log_{10}\\left( \\frac{\\sqrt{10}F_{P}/\\sqrt{F_{S}}}{F_{P}/\\sqrt{F_{S}} } \\right)$\n",
    "\n",
    "$=-2.5log_{10}(\\sqrt{10})=-1.25$"
   ]
  },
  {
   "cell_type": "code",
   "execution_count": 11,
   "metadata": {},
   "outputs": [
    {
     "name": "stdout",
     "output_type": "stream",
     "text": [
      "alpha_flux (i.e., offset to add to original contrast curve):\n",
      "1.25\n"
     ]
    }
   ],
   "source": [
    "neg_alpha_flux = -2.5*np.log10(np.sqrt(10))\n",
    "\n",
    "print(\"alpha_flux (i.e., offset to add to original contrast curve):\")\n",
    "print(-neg_alpha_flux)"
   ]
  },
  {
   "cell_type": "markdown",
   "metadata": {},
   "source": [
    "# Collecting area"
   ]
  },
  {
   "cell_type": "markdown",
   "metadata": {},
   "source": [
    "#### This actually scales the contrast curve to less-sensitive regimes because \n",
    "#### we go from 2 to 1 LBT sub-aperture; i.e., flux changes by 0.5x:"
   ]
  },
  {
   "cell_type": "code",
   "execution_count": 13,
   "metadata": {},
   "outputs": [
    {
     "name": "stdout",
     "output_type": "stream",
     "text": [
      "alpha_area:\n",
      "-0.37628749457997646\n"
     ]
    }
   ],
   "source": [
    "neg_alpha_area = -2.5*np.log10(np.sqrt(0.5))\n",
    "\n",
    "print(\"alpha_area:\")\n",
    "print(-neg_alpha_area)"
   ]
  },
  {
   "cell_type": "markdown",
   "metadata": {},
   "source": [
    "# Number of equivalent nights"
   ]
  },
  {
   "cell_type": "code",
   "execution_count": 16,
   "metadata": {},
   "outputs": [],
   "source": [
    "t_int_leech = 2873 # LEECH integration time (sec; see Table 4 in Stone+ 2018)\n",
    "t_int_fiz = 445 # Fizeau integration time (sec; and only valid <1 asec)"
   ]
  },
  {
   "cell_type": "code",
   "execution_count": 17,
   "metadata": {},
   "outputs": [],
   "source": [
    "# number of nights to reach the same integration time\n",
    "\n",
    "N_night = np.divide(t_int_leech,t_int_fiz)"
   ]
  },
  {
   "cell_type": "code",
   "execution_count": 18,
   "metadata": {},
   "outputs": [
    {
     "data": {
      "text/plain": [
       "6.456179775280899"
      ]
     },
     "execution_count": 18,
     "metadata": {},
     "output_type": "execute_result"
    }
   ],
   "source": [
    "N_night"
   ]
  },
  {
   "cell_type": "code",
   "execution_count": 19,
   "metadata": {},
   "outputs": [
    {
     "name": "stdout",
     "output_type": "stream",
     "text": [
      "alpha_nights:\n",
      "1.0124695187637698\n"
     ]
    }
   ],
   "source": [
    "neg_alpha_nights = -2.5*np.log10(np.sqrt(N_night))\n",
    "\n",
    "print(\"alpha_nights:\")\n",
    "print(-neg_alpha_nights)"
   ]
  },
  {
   "cell_type": "markdown",
   "metadata": {},
   "source": [
    "# Equivalent rotation"
   ]
  },
  {
   "cell_type": "code",
   "execution_count": 21,
   "metadata": {},
   "outputs": [],
   "source": [
    "rot_leech = 83 # LEECH rotation (degrees)\n",
    "rot_fiz = 32.6 # Fizeau rotation (degrees)"
   ]
  },
  {
   "cell_type": "code",
   "execution_count": 22,
   "metadata": {},
   "outputs": [
    {
     "name": "stdout",
     "output_type": "stream",
     "text": [
      "alpha_rotation:\n",
      "0.5073256153851686\n"
     ]
    }
   ],
   "source": [
    "neg_alpha_rotation = -2.5*np.log10(np.sqrt(np.divide(rot_leech,rot_fiz)))\n",
    "\n",
    "print(\"alpha_rotation:\")\n",
    "print(-neg_alpha_rotation)"
   ]
  },
  {
   "cell_type": "code",
   "execution_count": null,
   "metadata": {},
   "outputs": [],
   "source": []
  }
 ],
 "metadata": {
  "kernelspec": {
   "display_name": "Python 3",
   "language": "python",
   "name": "python3"
  },
  "language_info": {
   "codemirror_mode": {
    "name": "ipython",
    "version": 3
   },
   "file_extension": ".py",
   "mimetype": "text/x-python",
   "name": "python",
   "nbconvert_exporter": "python",
   "pygments_lexer": "ipython3",
   "version": "3.6.6"
  }
 },
 "nbformat": 4,
 "nbformat_minor": 2
}
