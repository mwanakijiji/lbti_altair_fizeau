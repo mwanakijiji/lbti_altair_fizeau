{
 "cells": [
  {
   "cell_type": "code",
   "execution_count": null,
   "metadata": {},
   "outputs": [],
   "source": [
    "# This calculate the absolute magnitude of Altair, so as to determine \n",
    "# absolute magnitudes of fake companions for making a contrast curve\n",
    "\n",
    "# Created 2020 Feb. 27 by E.S.\n",
    "\n",
    "# For the math, see research notebook fizeau_altair.tex on date 2020 Feb. 27"
   ]
  },
  {
   "cell_type": "code",
   "execution_count": 20,
   "metadata": {},
   "outputs": [],
   "source": [
    "import pandas as pd\n",
    "import numpy as np\n",
    "import matplotlib.pyplot as plt\n",
    "import scipy\n",
    "\n",
    "%matplotlib qt"
   ]
  },
  {
   "cell_type": "markdown",
   "metadata": {},
   "source": [
    "### Set some constants"
   ]
  },
  {
   "cell_type": "code",
   "execution_count": 3,
   "metadata": {},
   "outputs": [],
   "source": [
    "# distance of Altair\n",
    "d_altair_pc = 5.13 # units pc (and plus/minus 0.015 pc)\n",
    "\n",
    "# angular and physical radius of Altair\n",
    "solar_radii_per_altair_radii = 1.65 # units of solar radii (ref: Table 1 in Monnier+ 2007)\n",
    "\n",
    "m_per_au = 1.4959787066e11 # units meters\n",
    "m_per_solar_radius = 6.95508e8 # units meters\n",
    "au_per_pc = np.divide(360*60*60,2*np.pi) # units AU/pc\n",
    "\n",
    "# distance of Altair in Altair radii (this should be about 1.4e8 altair radii)\n",
    "d_altair_altair_radii = d_altair_pc*au_per_pc*np.divide(1.,m_per_solar_radius)*m_per_au*np.divide(1.,solar_radii_per_altair_radii)\n",
    "\n",
    "# zero point on the Vega scale, specific to Paranal-NACO NB405 filter, from SVO filter service\n",
    "# http://svo2.cab.inta-csic.es/theory/fps/index.php?id=Paranal/NACO.NB405&&mode=browse&gname=Paranal&gname2=NACO#filter\n",
    "zp_vega = 3.885e-12 # units erg /cm2 /sec /angstrom\n",
    "\n",
    "##################################################################################################\n",
    "# Surface flux of a model spectrum, based on a Kurucz model, courtesy SVO\n",
    "# I tried to approximate parameters of Altair, which are \n",
    "# Teff=7550 K, logg=4.13, [Fe/H]=-0.24 \\citep{erspamer2003automated}\n",
    "\n",
    "## output from SVO:\n",
    "# Kurucz ODFNEW /NOVER models\n",
    "# teff = 7750 K (value for the effective temperature for the model. Temperatures are given in K)\n",
    "# logg = 4.00 log(cm/s2) (value for Log(G) for the model.)\n",
    "# meta = -0.5  (value for the Metallicity for the model.)\n",
    "# lh = 1.25  (l/Hp where l is the  mixing length of the convective element and Hp is the pressure scale height)\n",
    "# vtur = 2.0 km/s (Microturbulence velocity)\n",
    "#\n",
    "#                Filter #  Wavelength in Angstrom       #  Flux in erg/cm2/s/A\n",
    "####################### #########################       ######################\n",
    "#     Paranal/NACO.NB405           40555.445140895                 49610.952868\n",
    "\n",
    "### ### IS THIS EVEN NEEDED? WE HAVE TO INTEGRATE OVER THE RESPONSE\n",
    "model_flux_nb405 = 49610.952868 # units erg /cm2 /sec /angstrom \n",
    "# (note this is just a constant, implying spectrum is locally constant, which is fair given the narrowband filter)"
   ]
  },
  {
   "cell_type": "markdown",
   "metadata": {},
   "source": [
    "### Read in filter curve"
   ]
  },
  {
   "cell_type": "code",
   "execution_count": 4,
   "metadata": {},
   "outputs": [],
   "source": [
    "# NB405 filter\n",
    "\n",
    "nb405_transmission = pd.read_csv(\"data/Paranal_NACO.NB405.dat.txt\", \n",
    "                                 names=[\"wavel_angs\", \"transmission\"], delim_whitespace=True)"
   ]
  },
  {
   "cell_type": "code",
   "execution_count": 4,
   "metadata": {},
   "outputs": [
    {
     "data": {
      "image/png": "[encoded data removed]",
      "text/plain": [
       "<Figure size 432x288 with 1 Axes>"
      ]
     },
     "metadata": {
      "needs_background": "light"
     },
     "output_type": "display_data"
    }
   ],
   "source": [
    "# plot filter\n",
    "\n",
    "plt.clf()\n",
    "plt.scatter(nb405_transmission[\"wavel_angs\"],nb405_transmission[\"transmission\"])\n",
    "plt.title(\"Paranal_NACO.NB405.dat.txt\")\n",
    "plt.xlabel(\"Wavelength ($\\AA$)\")\n",
    "plt.ylabel(\"Transmission\")\n",
    "plt.show()"
   ]
  },
  {
   "cell_type": "markdown",
   "metadata": {},
   "source": [
    "### Read in model spectrum"
   ]
  },
  {
   "cell_type": "code",
   "execution_count": 5,
   "metadata": {},
   "outputs": [],
   "source": [
    "# Kurucz ODFNEW /NOVER models\n",
    "# teff = 7750 K (value for the effective temperature for the model. Temperatures are given in K)\n",
    "# logg = 4.00 log(cm/s2) (value for Log(G) for the model.)\n",
    "# meta = 0  (value for the Metallicity for the model.)\n",
    "# lh = 1.25  (l/Hp where l is the  mixing length of the convective element and Hp is the pressure scale height)\n",
    "# vtur = 2.0 km/s (Microturbulence velocity)\n",
    "#\n",
    "# column 1: WAVELENGTH (ANGSTROM), Wavelength in Angstrom\n",
    "# column 2: FLUX (ERG/CM2/S/A), Flux in erg/cm2/s/A\n",
    "\n",
    "model_spectrum = pd.read_csv(\"data/model_spec_teff_7750_logg_4_feh_0.txt\",\n",
    "                             names=[\"wavel_angs\", \"flux\"], skiprows=9, delim_whitespace=True)"
   ]
  },
  {
   "cell_type": "code",
   "execution_count": 6,
   "metadata": {},
   "outputs": [
    {
     "data": {
      "image/png": "[encoded data removed]",
      "text/plain": [
       "<Figure size 432x288 with 1 Axes>"
      ]
     },
     "metadata": {
      "needs_background": "light"
     },
     "output_type": "display_data"
    }
   ],
   "source": [
    "# plot spectrum\n",
    "\n",
    "plt.clf()\n",
    "plt.scatter(model_spectrum[\"wavel_angs\"],model_spectrum[\"flux\"])\n",
    "plt.title(\"Model spectrum in the region around the filter bandpass\")\n",
    "plt.xlabel(\"Wavelength ($\\AA$)\")\n",
    "plt.ylabel(\"Surface flux (erg/cm2/s/$\\AA$)\")\n",
    "plt.ylim([0,1e5])\n",
    "plt.xlim([38000,42000])\n",
    "plt.show()"
   ]
  },
  {
   "cell_type": "markdown",
   "metadata": {},
   "source": [
    "### The equation for relative magnitude of a star we want to solve is\n",
    "### $m_{ \\textrm{star}} = -2.5 \\textrm{log}_{10} \\left\\{ \\frac{\\int d\\lambda R_{\\lambda}(\\lambda) f_{\\lambda}^{(0, star)}(\\lambda) / \\int d\\lambda R_{\\lambda}(\\lambda) }{\\textrm{zp}(f_{\\lambda}^{(0, Vega)})}  \\right\\}$"
   ]
  },
  {
   "cell_type": "markdown",
   "metadata": {},
   "source": [
    "### Step 1: Calculate inverse-square law scaling factor to convert surface flux $f_{\\lambda}^{(surf, star)}(\\lambda)$ to flux at top of Earth's atmosphere:\n",
    "### $f_{\\lambda}^{(0, star)}(\\lambda) = \\left( \\frac{R_{star}}{D} \\right)^{2} f_{\\lambda}^{(surf, star)}(\\lambda) $\n",
    "### where the scaling factor is $\\left( \\frac{R_{star}}{D} \\right)^{2}$"
   ]
  },
  {
   "cell_type": "code",
   "execution_count": 6,
   "metadata": {},
   "outputs": [],
   "source": [
    "scale_factor = np.power(np.divide(1.,d_altair_altair_radii),2.)\n",
    "\n",
    "#f0_star = scale_factor*model_flux_nb405 # units erg /cm2 /sec /angstrom"
   ]
  },
  {
   "cell_type": "markdown",
   "metadata": {},
   "source": [
    "### Integration of star flux and filter response: \n",
    "### $\\int d\\lambda R_{\\lambda}(\\lambda) f_{\\lambda}^{(0, star)}(\\lambda) = \\left( \\frac{R_{star}}{D} \\right)^{2}\\int d\\lambda R_{\\lambda}(\\lambda) f_{\\lambda}^{(surf, star)}(\\lambda) $"
   ]
  },
  {
   "cell_type": "raw",
   "metadata": {},
   "source": [
    "### call these\n",
    "### integral_2 = scale_factor * integral_1 = scale_factor * int{integrand_1}"
   ]
  },
  {
   "cell_type": "code",
   "execution_count": 7,
   "metadata": {},
   "outputs": [],
   "source": [
    "# To do the integration over two functions represented by input arrays, use the abcissa\n",
    "# of the filter transmission $R$ to make an interpolated form of $f$ pinned to the same \n",
    "# ordinate. Then multiply the two arrays together and integrate over that.\n",
    "\n",
    "model_surf_flux_filter_abcissa = np.interp(nb405_transmission[\"wavel_angs\"].values, \n",
    "                                             model_spectrum[\"wavel_angs\"].values,\n",
    "                                             model_spectrum[\"flux\"].values)"
   ]
  },
  {
   "cell_type": "code",
   "execution_count": 8,
   "metadata": {},
   "outputs": [],
   "source": [
    "# now multiply the surface flux by the filter transmission to obtain the integrand\n",
    "\n",
    "integrand_1 = np.multiply(nb405_transmission[\"transmission\"],model_surf_flux_filter_abcissa)"
   ]
  },
  {
   "cell_type": "code",
   "execution_count": 10,
   "metadata": {},
   "outputs": [
    {
     "data": {
      "image/png": "[encoded data removed]",
      "text/plain": [
       "<Figure size 432x288 with 1 Axes>"
      ]
     },
     "metadata": {
      "needs_background": "light"
     },
     "output_type": "display_data"
    }
   ],
   "source": [
    "# plot everything so far\n",
    "\n",
    "plt.clf()\n",
    "plt.scatter(nb405_transmission[\"wavel_angs\"],model_surf_flux_filter_abcissa,label=\"Model spectrum\")\n",
    "plt.scatter(nb405_transmission[\"wavel_angs\"],55000*nb405_transmission[\"transmission\"],label=\"Filter response * 55000\")\n",
    "plt.scatter(nb405_transmission[\"wavel_angs\"],integrand_1,label=\"spectrum*filter\")\n",
    "plt.legend()\n",
    "plt.xlabel(\"Wavel ($\\AA$)\")\n",
    "#plt.ylabel(\"Surf flux or 55000*transmission\")\n",
    "plt.show()"
   ]
  },
  {
   "cell_type": "code",
   "execution_count": 9,
   "metadata": {},
   "outputs": [],
   "source": [
    "# integrate \n",
    "\n",
    "integral_1 = np.trapz(integrand_1,x=nb405_transmission[\"wavel_angs\"])"
   ]
  },
  {
   "cell_type": "code",
   "execution_count": 10,
   "metadata": {},
   "outputs": [],
   "source": [
    "# multiply by inverse square law scaling factor\n",
    "\n",
    "integral_2 = scale_factor*integral_1 # units erg /cm2 /sec /angstrom"
   ]
  },
  {
   "cell_type": "markdown",
   "metadata": {},
   "source": [
    "### The normalization constant: \n",
    "### $\\int d\\lambda R_{\\lambda}(\\lambda) $"
   ]
  },
  {
   "cell_type": "raw",
   "metadata": {},
   "source": [
    "### call this\n",
    "### integral_3"
   ]
  },
  {
   "cell_type": "code",
   "execution_count": 11,
   "metadata": {},
   "outputs": [],
   "source": [
    "integral_3 = np.trapz(nb405_transmission[\"transmission\"],x=nb405_transmission[\"wavel_angs\"])"
   ]
  },
  {
   "cell_type": "markdown",
   "metadata": {},
   "source": [
    "### Put everything together to get an apparent magnitude. Reiterating, we want\n",
    "### $m_{ \\textrm{star}} = -2.5 \\textrm{log}_{10} \\left\\{ \\frac{\\int d\\lambda R_{\\lambda}(\\lambda) f_{\\lambda}^{(0, star)}(\\lambda) / \\int d\\lambda R_{\\lambda}(\\lambda) }{\\textrm{zp}(f_{\\lambda}^{(0, Vega)})}  \\right\\}$"
   ]
  },
  {
   "cell_type": "code",
   "execution_count": 12,
   "metadata": {},
   "outputs": [],
   "source": [
    "### call these\n",
    "### m_rel_star = -2.5 * np.log10( np.divide(integral_2 / integral_3), zp_vega)"
   ]
  },
  {
   "cell_type": "code",
   "execution_count": 13,
   "metadata": {},
   "outputs": [],
   "source": [
    "m_rel_star = -2.5 * np.log10( np.divide( np.divide(integral_2,integral_3), zp_vega) )"
   ]
  },
  {
   "cell_type": "markdown",
   "metadata": {},
   "source": [
    "### Get absolute magnitude via the distance modulus:\n",
    "### $M_{\\textrm{star}}=m_{\\textrm{star}}-5\\textrm{log}_{10}\\left( \\frac{d}{10 \\textrm{pc}} \\right)$"
   ]
  },
  {
   "cell_type": "raw",
   "metadata": {},
   "source": [
    "### call these\n",
    "### M_abs_star = m_rel_star - 5*np.log10(np.divide(d_altair_pc,10.))"
   ]
  },
  {
   "cell_type": "code",
   "execution_count": 14,
   "metadata": {},
   "outputs": [],
   "source": [
    "M_abs_star = m_rel_star - 5*np.log10(np.divide(d_altair_pc,10.))"
   ]
  },
  {
   "cell_type": "code",
   "execution_count": 15,
   "metadata": {},
   "outputs": [
    {
     "data": {
      "text/plain": [
       "1.8729857760567394"
      ]
     },
     "execution_count": 15,
     "metadata": {},
     "output_type": "execute_result"
    }
   ],
   "source": [
    "M_abs_star"
   ]
  },
  {
   "cell_type": "markdown",
   "metadata": {},
   "source": [
    "### Consider atmospheric transmission effects"
   ]
  },
  {
   "cell_type": "code",
   "execution_count": 16,
   "metadata": {},
   "outputs": [],
   "source": [
    "# For considering airmass and PWV transmission effects, here are plots of transmission\n",
    "\n",
    "# source: https://atran.arc.nasa.gov/cgi-bin/atran/atran.cgi\n",
    "\n",
    "# INPUT PARAMS for atran.plt.12172.dat:\n",
    "'''\n",
    "Altitude    :    10567.0000    \n",
    " Water Vapor :    11.0000000    \n",
    " Num layers  :            2\n",
    " Zenith Angle:    30.0000000    \n",
    " Obs Lat     :    30.0000000    \n",
    " Minimum Wave:    3.98000002    \n",
    " Maximum Wave:    4.13000011   \n",
    "'''\n",
    "\n",
    "trans_df = pd.read_csv(\"data/atran.plt.12172.dat\", usecols=[1,2], \n",
    "                       names=[\"wavel_um\",\"transmission\"], delim_whitespace=True)"
   ]
  },
  {
   "cell_type": "code",
   "execution_count": 17,
   "metadata": {},
   "outputs": [],
   "source": [
    "# Read in blackbodies in the general range of relevant temperatures of planets\n",
    "# (see research journal, 2020 Mar. 4)\n",
    "\n",
    "bb_00200K = pd.read_csv(\"data/bb00200.dat.txt\",\n",
    "                                 names=[\"wavel_angs\", \"flux\"], skiprows=6, delim_whitespace=True)\n",
    "bb_00400K = pd.read_csv(\"data/bb00400.dat.txt\",\n",
    "                                 names=[\"wavel_angs\", \"flux\"], skiprows=6, delim_whitespace=True)\n",
    "bb_00650K = pd.read_csv(\"data/bb00650.dat.txt\",\n",
    "                                 names=[\"wavel_angs\", \"flux\"], skiprows=6, delim_whitespace=True)\n",
    "bb_02800K = pd.read_csv(\"data/bb02800.dat.txt\",\n",
    "                                 names=[\"wavel_angs\", \"flux\"], skiprows=6, delim_whitespace=True)"
   ]
  },
  {
   "cell_type": "code",
   "execution_count": 23,
   "metadata": {},
   "outputs": [
    {
     "data": {
      "text/plain": [
       "0       0.000000\n",
       "1       0.000000\n",
       "2       0.000000\n",
       "3       0.000000\n",
       "4       0.000000\n",
       "          ...   \n",
       "1009    0.078717\n",
       "1010    0.075674\n",
       "1011    0.072748\n",
       "1012    0.069936\n",
       "1013    0.067231\n",
       "Name: flux, Length: 1014, dtype: float64"
      ]
     },
     "execution_count": 23,
     "metadata": {},
     "output_type": "execute_result"
    }
   ],
   "source": [
    "np.divide(bb_00200K[\"flux\"],np.max(bb_00200K[\"flux\"]))*55000"
   ]
  },
  {
   "cell_type": "code",
   "execution_count": 21,
   "metadata": {},
   "outputs": [],
   "source": [
    "# plot everything for comparison: stellar spectrum, planet spectra, filter \n",
    "# and atmospheric transmission\n",
    "\n",
    "plt.clf()\n",
    "plt.scatter(trans_df[\"wavel_um\"],55000*trans_df[\"transmission\"],s=2,label=\"55000* Atm. trans.\")\n",
    "plt.plot((1e-4)*model_spectrum[\"wavel_angs\"],model_spectrum[\"flux\"],color=\"orange\",label=\"Model Altair spectrum\")\n",
    "plt.plot((1e-4)*bb_00200K[\"wavel_angs\"],np.divide(bb_00200K[\"flux\"],np.max(bb_00200K[\"flux\"]))*55000,\n",
    "         label=\"BB, T=200K\")\n",
    "plt.plot((1e-4)*bb_00400K[\"wavel_angs\"],np.divide(bb_00400K[\"flux\"],np.max(bb_00400K[\"flux\"]))*55000,\n",
    "         label=\"BB, T=400K\")\n",
    "plt.plot((1e-4)*bb_00650K[\"wavel_angs\"],np.divide(bb_00650K[\"flux\"],np.max(bb_00650K[\"flux\"]))*55000,\n",
    "         label=\"BB, T=650K\")\n",
    "plt.plot((1e-4)*bb_02800K[\"wavel_angs\"],np.divide(bb_02800K[\"flux\"],np.max(bb_02800K[\"flux\"]))*55000,\n",
    "         label=\"BB, T=2800K\")\n",
    "plt.scatter((1e-4)*nb405_transmission[\"wavel_angs\"],55000*nb405_transmission[\"transmission\"],s=2,\n",
    "            label=\"55000*NB405 trans.\")\n",
    "plt.title(\"Comparison of filter profile, stellar spectrum, and atmospheric transmission\\n\"+\n",
    "          \"Altitude: 10567 ft; Obs Lat: 30 deg; Water Vapor: 11 um; Zenith angle: 30 deg\")\n",
    "plt.xlabel(\"Wavelength (um)\")\n",
    "plt.ylabel(\"Transmission\")\n",
    "plt.xlim([np.min(trans_df[\"wavel_um\"]),np.max(trans_df[\"wavel_um\"])])\n",
    "plt.ylim([0,6e4])\n",
    "plt.legend()\n",
    "plt.show()"
   ]
  },
  {
   "cell_type": "code",
   "execution_count": 36,
   "metadata": {},
   "outputs": [
    {
     "data": {
      "text/plain": [
       "1874730.0"
      ]
     },
     "execution_count": 36,
     "metadata": {},
     "output_type": "execute_result"
    }
   ],
   "source": [
    "np.median(model_spectrum[\"flux\"])"
   ]
  },
  {
   "cell_type": "code",
   "execution_count": 38,
   "metadata": {},
   "outputs": [
    {
     "data": {
      "text/plain": [
       "4.12999439"
      ]
     },
     "execution_count": 38,
     "metadata": {},
     "output_type": "execute_result"
    }
   ],
   "source": [
    "np.max(trans_df[\"wavel_um\"])"
   ]
  },
  {
   "cell_type": "code",
   "execution_count": 40,
   "metadata": {},
   "outputs": [],
   "source": [
    "plt.plot((1e-4)*model_spectrum[\"wavel_angs\"],model_spectrum[\"flux\"])\n",
    "plt.show()"
   ]
  },
  {
   "cell_type": "code",
   "execution_count": 1,
   "metadata": {},
   "outputs": [
    {
     "ename": "NameError",
     "evalue": "name 'plt' is not defined",
     "output_type": "error",
     "traceback": [
      "\u001b[0;31m---------------------------------------------------------------------------\u001b[0m",
      "\u001b[0;31mNameError\u001b[0m                                 Traceback (most recent call last)",
      "\u001b[0;32m<ipython-input-1-da240ce16f3a>\u001b[0m in \u001b[0;36m<module>\u001b[0;34m()\u001b[0m\n\u001b[1;32m      1\u001b[0m \u001b[0;31m# plot BBs only\u001b[0m\u001b[0;34m\u001b[0m\u001b[0;34m\u001b[0m\u001b[0m\n\u001b[1;32m      2\u001b[0m \u001b[0;34m\u001b[0m\u001b[0m\n\u001b[0;32m----> 3\u001b[0;31m \u001b[0mplt\u001b[0m\u001b[0;34m.\u001b[0m\u001b[0mclf\u001b[0m\u001b[0;34m(\u001b[0m\u001b[0;34m)\u001b[0m\u001b[0;34m\u001b[0m\u001b[0m\n\u001b[0m\u001b[1;32m      4\u001b[0m \u001b[0mplt\u001b[0m\u001b[0;34m.\u001b[0m\u001b[0mplot\u001b[0m\u001b[0;34m(\u001b[0m\u001b[0;34m(\u001b[0m\u001b[0;36m1e-4\u001b[0m\u001b[0;34m)\u001b[0m\u001b[0;34m*\u001b[0m\u001b[0mbb_00200K\u001b[0m\u001b[0;34m[\u001b[0m\u001b[0;34m\"wavel_angs\"\u001b[0m\u001b[0;34m]\u001b[0m\u001b[0;34m,\u001b[0m\u001b[0mnp\u001b[0m\u001b[0;34m.\u001b[0m\u001b[0mdivide\u001b[0m\u001b[0;34m(\u001b[0m\u001b[0mbb_00200K\u001b[0m\u001b[0;34m[\u001b[0m\u001b[0;34m\"flux\"\u001b[0m\u001b[0;34m]\u001b[0m\u001b[0;34m,\u001b[0m\u001b[0mnp\u001b[0m\u001b[0;34m.\u001b[0m\u001b[0mmax\u001b[0m\u001b[0;34m(\u001b[0m\u001b[0mbb_00200K\u001b[0m\u001b[0;34m[\u001b[0m\u001b[0;34m\"flux\"\u001b[0m\u001b[0;34m]\u001b[0m\u001b[0;34m)\u001b[0m\u001b[0;34m)\u001b[0m\u001b[0;34m,\u001b[0m\u001b[0mlabel\u001b[0m\u001b[0;34m=\u001b[0m\u001b[0;34m\"BB, 200K\"\u001b[0m\u001b[0;34m)\u001b[0m\u001b[0;34m\u001b[0m\u001b[0m\n\u001b[1;32m      5\u001b[0m \u001b[0mplt\u001b[0m\u001b[0;34m.\u001b[0m\u001b[0mplot\u001b[0m\u001b[0;34m(\u001b[0m\u001b[0;34m(\u001b[0m\u001b[0;36m1e-4\u001b[0m\u001b[0;34m)\u001b[0m\u001b[0;34m*\u001b[0m\u001b[0mbb_00400K\u001b[0m\u001b[0;34m[\u001b[0m\u001b[0;34m\"wavel_angs\"\u001b[0m\u001b[0;34m]\u001b[0m\u001b[0;34m,\u001b[0m\u001b[0mnp\u001b[0m\u001b[0;34m.\u001b[0m\u001b[0mdivide\u001b[0m\u001b[0;34m(\u001b[0m\u001b[0mbb_00400K\u001b[0m\u001b[0;34m[\u001b[0m\u001b[0;34m\"flux\"\u001b[0m\u001b[0;34m]\u001b[0m\u001b[0;34m,\u001b[0m\u001b[0mnp\u001b[0m\u001b[0;34m.\u001b[0m\u001b[0mmax\u001b[0m\u001b[0;34m(\u001b[0m\u001b[0mbb_00400K\u001b[0m\u001b[0;34m[\u001b[0m\u001b[0;34m\"flux\"\u001b[0m\u001b[0;34m]\u001b[0m\u001b[0;34m)\u001b[0m\u001b[0;34m)\u001b[0m\u001b[0;34m,\u001b[0m\u001b[0mlabel\u001b[0m\u001b[0;34m=\u001b[0m\u001b[0;34m\"BB, 400K\"\u001b[0m\u001b[0;34m)\u001b[0m\u001b[0;34m\u001b[0m\u001b[0m\n",
      "\u001b[0;31mNameError\u001b[0m: name 'plt' is not defined"
     ]
    }
   ],
   "source": [
    "# plot BBs only\n",
    "\n",
    "plt.clf()\n",
    "plt.plot((1e-4)*bb_00200K[\"wavel_angs\"],np.divide(bb_00200K[\"flux\"],np.max(bb_00200K[\"flux\"])),label=\"BB, 200K\")\n",
    "plt.plot((1e-4)*bb_00400K[\"wavel_angs\"],np.divide(bb_00400K[\"flux\"],np.max(bb_00400K[\"flux\"])),label=\"BB, 400K\")\n",
    "plt.plot((1e-4)*bb_00650K[\"wavel_angs\"],np.divide(bb_00650K[\"flux\"],np.max(bb_00650K[\"flux\"])),label=\"BB, 650K\")\n",
    "plt.plot((1e-4)*bb_02800K[\"wavel_angs\"],np.divide(bb_02800K[\"flux\"],np.max(bb_02800K[\"flux\"])),label=\"BB, 2800K\")\n",
    "plt.axvline(x=4.02, linestyle=\":\")\n",
    "plt.axvline(x=4.08, linestyle=\":\")\n",
    "plt.xlim([0,40])\n",
    "plt.xlabel(\"Wavelength (um)\")\n",
    "plt.ylabel(\"Emission\")\n",
    "plt.title(\"Normalized BB emission based on re-emitted redistributed incident energy\")\n",
    "plt.legend()\n",
    "plt.show()"
   ]
  },
  {
   "cell_type": "code",
   "execution_count": 28,
   "metadata": {},
   "outputs": [],
   "source": [
    "plt.clf()\n",
    "plt.plot((1e-4)*bb_00200K[\"wavel_angs\"],bb_00200K[\"flux\"],label=\"BB, 200K\")\n",
    "plt.plot((1e-4)*bb_00400K[\"wavel_angs\"],bb_00400K[\"flux\"],label=\"BB, 400K\")\n",
    "plt.plot((1e-4)*bb_00650K[\"wavel_angs\"],bb_00650K[\"flux\"],label=\"BB, 650K\")\n",
    "plt.axvline(x=4.02, linestyle=\":\")\n",
    "plt.axvline(x=4.08, linestyle=\":\")\n",
    "plt.xlim([0,40])\n",
    "plt.xlabel(\"Wavelength (um)\")\n",
    "plt.ylabel(\"Emission\")\n",
    "plt.title(\"Normalized BB emission based on re-emitted redistributed incident energy\")\n",
    "plt.legend()\n",
    "plt.show()"
   ]
  },
  {
   "cell_type": "code",
   "execution_count": null,
   "metadata": {},
   "outputs": [],
   "source": []
  }
 ],
 "metadata": {
  "kernelspec": {
   "display_name": "Python 3",
   "language": "python",
   "name": "python3"
  },
  "language_info": {
   "codemirror_mode": {
    "name": "ipython",
    "version": 3
   },
   "file_extension": ".py",
   "mimetype": "text/x-python",
   "name": "python",
   "nbconvert_exporter": "python",
   "pygments_lexer": "ipython3",
   "version": "3.6.6"
  }
 },
 "nbformat": 4,
 "nbformat_minor": 2
}
