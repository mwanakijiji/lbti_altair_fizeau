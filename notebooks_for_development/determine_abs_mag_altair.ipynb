{
 "cells": [
  {
   "cell_type": "code",
   "execution_count": null,
   "metadata": {},
   "outputs": [],
   "source": [
    "# This calculate the absolute magnitude of Altair, so as to determine \n",
    "# absolute magnitudes of fake companions for making a contrast curve\n",
    "\n",
    "# Created 2020 Feb. 27 by E.S.\n",
    "\n",
    "# For the math, see research notebook fizeau_altair.tex on date 2020 Feb. 27"
   ]
  },
  {
   "cell_type": "code",
   "execution_count": 1,
   "metadata": {},
   "outputs": [],
   "source": [
    "import pandas as pd\n",
    "import numpy as np"
   ]
  },
  {
   "cell_type": "markdown",
   "metadata": {},
   "source": [
    "### Set some constants"
   ]
  },
  {
   "cell_type": "code",
   "execution_count": 2,
   "metadata": {},
   "outputs": [],
   "source": [
    "# distance of Altair\n",
    "d_altair_pc = 5.13 # units pc (and plus/minus 0.015 pc)\n",
    "\n",
    "# angular and physical radius of Altair\n",
    "solar_radii_per_altair_radii = 1.65 # units of solar radii (ref: Table 1 in Monnier+ 2007)\n",
    "\n",
    "m_per_au = 1.4959787066e11 # units meters\n",
    "m_per_solar_radius = 6.95508e8 # units meters\n",
    "au_per_pc = np.divide(360*60*60,2*np.pi) # units AU/pc\n",
    "\n",
    "# distance of Altair in Altair radii (this should be about 1.4e8 altair radii)\n",
    "d_altair_altair_radii = d_altair_pc*au_per_pc*np.divide(1.,m_per_solar_radius)*m_per_au*np.divide(1.,solar_radii_per_altair_radii)\n",
    "\n",
    "# zero point on the Vega scale, specific to Paranal-NACO NB405 filter, from SVO filter service\n",
    "# http://svo2.cab.inta-csic.es/theory/fps/index.php?id=Paranal/NACO.NB405&&mode=browse&gname=Paranal&gname2=NACO#filter\n",
    "zp_vega = 3.885e-12 # units erg /cm2 /sec /angstrom\n",
    "\n",
    "##################################################################################################\n",
    "# Surface flux of a model spectrum, based on a Kurucz model, courtesy SVO\n",
    "# I tried to approximate parameters of Altair, which are \n",
    "# Teff=7550 K, logg=4.13, [Fe/H]=-0.24 \\citep{erspamer2003automated}\n",
    "\n",
    "## output from SVO:\n",
    "# Kurucz ODFNEW /NOVER models\n",
    "# teff = 7750 K (value for the effective temperature for the model. Temperatures are given in K)\n",
    "# logg = 4.00 log(cm/s2) (value for Log(G) for the model.)\n",
    "# meta = -0.5  (value for the Metallicity for the model.)\n",
    "# lh = 1.25  (l/Hp where l is the  mixing length of the convective element and Hp is the pressure scale height)\n",
    "# vtur = 2.0 km/s (Microturbulence velocity)\n",
    "#\n",
    "#                Filter #  Wavelength in Angstrom       #  Flux in erg/cm2/s/A\n",
    "####################### #########################       ######################\n",
    "#     Paranal/NACO.NB405           40555.445140895                 49610.952868\n",
    "\n",
    "### ### IS THIS EVEN NEEDED? WE HAVE TO INTEGRATE OVER THE RESPONSE\n",
    "model_flux_nb405 = 49610.952868 # units erg /cm2 /sec /angstrom \n",
    "# (note this is just a constant, implying spectrum is locally constant, which is fair given the narrowband filter)"
   ]
  },
  {
   "cell_type": "markdown",
   "metadata": {},
   "source": [
    "### Read in filter curve"
   ]
  },
  {
   "cell_type": "code",
   "execution_count": null,
   "metadata": {},
   "outputs": [],
   "source": [
    "# NB405 filter\n",
    "\n",
    "## ## read in here"
   ]
  },
  {
   "cell_type": "markdown",
   "metadata": {},
   "source": [
    "### Read in model spectrum"
   ]
  },
  {
   "cell_type": "code",
   "execution_count": null,
   "metadata": {},
   "outputs": [],
   "source": [
    "# spectrum corresponding to BLAH BLAH BLAH"
   ]
  },
  {
   "cell_type": "code",
   "execution_count": 21,
   "metadata": {},
   "outputs": [
    {
     "data": {
      "text/plain": [
       "137937336.65802908"
      ]
     },
     "execution_count": 21,
     "metadata": {},
     "output_type": "execute_result"
    }
   ],
   "source": [
    "d_altair_altair_radii"
   ]
  },
  {
   "cell_type": "code",
   "execution_count": 19,
   "metadata": {},
   "outputs": [
    {
     "data": {
      "text/plain": [
       "206264.80624709636"
      ]
     },
     "execution_count": 19,
     "metadata": {},
     "output_type": "execute_result"
    }
   ],
   "source": [
    "au_per_pc"
   ]
  },
  {
   "cell_type": "code",
   "execution_count": 9,
   "metadata": {},
   "outputs": [
    {
     "data": {
      "text/plain": [
       "1.8206421438740747"
      ]
     },
     "execution_count": 9,
     "metadata": {},
     "output_type": "execute_result"
    }
   ],
   "source": [
    "rad_altair_sun"
   ]
  },
  {
   "cell_type": "code",
   "execution_count": null,
   "metadata": {},
   "outputs": [],
   "source": [
    "# read in NB405 filter curve\n",
    "\n",
    "pd.read_csv()"
   ]
  },
  {
   "cell_type": "markdown",
   "metadata": {},
   "source": [
    "### Get flux of star at top of Earth's atmosphere by scaling surface flux with the inverse-square law:\n",
    "### $f_{\\lambda}^{(0, star)}(\\lambda) = \\left( \\frac{R_{star}}{D} \\right)^{2} f_{\\lambda}^{(surf, star)}(\\lambda) $"
   ]
  },
  {
   "cell_type": "code",
   "execution_count": 3,
   "metadata": {},
   "outputs": [],
   "source": [
    "scale_factor = np.power(np.divide(1.,d_altair_altair_radii),2.)\n",
    "\n",
    "f0_star = scale_factor*model_flux_nb405 # units erg /cm2 /sec /angstrom"
   ]
  },
  {
   "cell_type": "code",
   "execution_count": 4,
   "metadata": {},
   "outputs": [
    {
     "data": {
      "text/plain": [
       "5.2557697086904734e-17"
      ]
     },
     "execution_count": 4,
     "metadata": {},
     "output_type": "execute_result"
    }
   ],
   "source": [
    "scale_factor"
   ]
  },
  {
   "cell_type": "markdown",
   "metadata": {},
   "source": [
    "### Integration of star flux and filter response: \n",
    "### $\\int d\\lambda R_{\\lambda}(\\lambda) f_{\\lambda}^{(0, star)}(\\lambda)$"
   ]
  },
  {
   "cell_type": "code",
   "execution_count": null,
   "metadata": {},
   "outputs": [],
   "source": []
  },
  {
   "cell_type": "markdown",
   "metadata": {},
   "source": [
    "### The normalization constant: \n",
    "### $\\int d\\lambda R_{\\lambda}(\\lambda) $"
   ]
  },
  {
   "cell_type": "code",
   "execution_count": null,
   "metadata": {},
   "outputs": [],
   "source": []
  },
  {
   "cell_type": "markdown",
   "metadata": {},
   "source": [
    "### Put everything together to get an apparent magnitude: \n",
    "### $m_{ \\textrm{star}} = -2.5 \\textrm{log}_{10} \\left\\{ \\frac{\\int d\\lambda R_{\\lambda}(\\lambda) f_{\\lambda}^{(0, star)}(\\lambda) / \\int d\\lambda R_{\\lambda}(\\lambda) }{\\textrm{zp}(f_{\\lambda}^{(0, Vega)})}  \\right\\}$"
   ]
  },
  {
   "cell_type": "code",
   "execution_count": null,
   "metadata": {},
   "outputs": [],
   "source": []
  },
  {
   "cell_type": "markdown",
   "metadata": {},
   "source": [
    "### Get absolute magnitude via the distance modulus:\n",
    "### $M_{\\textrm{star}}=m_{\\textrm{star}}-5\\textrm{log}_{10}\\left( \\frac{d}{10 \\textrm{pc}} \\right)$"
   ]
  },
  {
   "cell_type": "code",
   "execution_count": null,
   "metadata": {},
   "outputs": [],
   "source": []
  },
  {
   "cell_type": "code",
   "execution_count": null,
   "metadata": {},
   "outputs": [],
   "source": [
    "### I don't know that it's necessary to include airmass and PWV transmission effects,\n",
    "### since the observed amplitude of companions (real or fake) will just be relative \n",
    "### to Altair. But for kicks, here are plots of transmission\n",
    "\n"
   ]
  }
 ],
 "metadata": {
  "kernelspec": {
   "display_name": "Python 3",
   "language": "python",
   "name": "python3"
  },
  "language_info": {
   "codemirror_mode": {
    "name": "ipython",
    "version": 3
   },
   "file_extension": ".py",
   "mimetype": "text/x-python",
   "name": "python",
   "nbconvert_exporter": "python",
   "pygments_lexer": "ipython3",
   "version": "3.6.6"
  }
 },
 "nbformat": 4,
 "nbformat_minor": 2
}
