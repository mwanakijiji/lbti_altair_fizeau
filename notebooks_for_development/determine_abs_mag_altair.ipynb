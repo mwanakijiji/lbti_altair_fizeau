{
 "cells": [
  {
   "cell_type": "code",
   "execution_count": null,
   "metadata": {},
   "outputs": [],
   "source": [
    "# This calculate the absolute magnitude of Altair, so as to determine \n",
    "# absolute magnitudes of fake companions for making a contrast curve\n",
    "\n",
    "# Created 2020 Feb. 27 by E.S.\n",
    "\n",
    "# For the math, see research notebook fizeau_altair.tex on date 2020 Feb. 27"
   ]
  },
  {
   "cell_type": "code",
   "execution_count": 22,
   "metadata": {},
   "outputs": [],
   "source": [
    "import pandas as pd\n",
    "import numpy as np\n",
    "import matplotlib.pyplot as plt\n",
    "import pysynphot as S\n",
    "import scipy\n",
    "import os\n",
    "\n",
    "%matplotlib qt"
   ]
  },
  {
   "cell_type": "markdown",
   "metadata": {
    "heading_collapsed": true
   },
   "source": [
    "## Initialization"
   ]
  },
  {
   "cell_type": "markdown",
   "metadata": {},
   "source": [
    "# Determine Altair absolute magnitude"
   ]
  },
  {
   "cell_type": "markdown",
   "metadata": {},
   "source": [
    "### Set some constants"
   ]
  },
  {
   "cell_type": "code",
   "execution_count": 23,
   "metadata": {},
   "outputs": [],
   "source": [
    "# distance of Altair\n",
    "d_altair_pc = 5.13 # units pc (and plus/minus 0.015 pc)\n",
    "\n",
    "# angular and physical radius of Altair\n",
    "solar_radii_per_altair_radii = 1.65 # units of solar radii (ref: Table 1 in Monnier+ 2007)\n",
    "\n",
    "m_per_au = 1.4959787066e11 # units meters\n",
    "m_per_solar_radius = 6.95508e8 # units meters\n",
    "au_per_pc = np.divide(360*60*60,2*np.pi) # units AU/pc\n",
    "\n",
    "# distance of Altair in Altair radii (this should be about 1.4e8 altair radii)\n",
    "d_altair_altair_radii = d_altair_pc*au_per_pc*np.divide(1.,m_per_solar_radius)*m_per_au*np.divide(1.,solar_radii_per_altair_radii)\n",
    "\n",
    "# zero point on the Vega scale, specific to Paranal-NACO NB405 filter, from SVO filter service\n",
    "# http://svo2.cab.inta-csic.es/theory/fps/index.php?id=Paranal/NACO.NB405&&mode=browse&gname=Paranal&gname2=NACO#filter\n",
    "zp_vega = 3.885e-12 # units erg /cm2 /sec /angstrom\n",
    "\n",
    "##################################################################################################\n",
    "# Surface flux of a model spectrum, based on a Kurucz model, courtesy SVO\n",
    "# I tried to approximate parameters of Altair, which are \n",
    "# Teff=7550 K, logg=4.13, [Fe/H]=-0.24 \\citep{erspamer2003automated}\n",
    "\n",
    "## output from SVO:\n",
    "# Kurucz ODFNEW /NOVER models\n",
    "# teff = 7750 K (value for the effective temperature for the model. Temperatures are given in K)\n",
    "# logg = 4.00 log(cm/s2) (value for Log(G) for the model.)\n",
    "# meta = -0.5  (value for the Metallicity for the model.)\n",
    "# lh = 1.25  (l/Hp where l is the  mixing length of the convective element and Hp is the pressure scale height)\n",
    "# vtur = 2.0 km/s (Microturbulence velocity)\n",
    "#\n",
    "#                Filter #  Wavelength in Angstrom       #  Flux in erg/cm2/s/A\n",
    "####################### #########################       ######################\n",
    "#     Paranal/NACO.NB405           40555.445140895                 49610.952868\n",
    "\n",
    "### ### IS THIS EVEN NEEDED? WE HAVE TO INTEGRATE OVER THE RESPONSE\n",
    "model_flux_nb405 = 49610.952868 # units erg /cm2 /sec /angstrom \n",
    "# (note this is just a constant, implying spectrum is locally constant, which is fair given the narrowband filter)"
   ]
  },
  {
   "cell_type": "markdown",
   "metadata": {
    "heading_collapsed": true
   },
   "source": [
    "### Read in filter curve"
   ]
  },
  {
   "cell_type": "code",
   "execution_count": 24,
   "metadata": {
    "hidden": true
   },
   "outputs": [],
   "source": [
    "# NB405 filter\n",
    "\n",
    "nb405_transmission = pd.read_csv(\"data/Paranal_NACO.NB405.dat.txt\", \n",
    "                                 names=[\"wavel_angs\", \"transmission\"], delim_whitespace=True)"
   ]
  },
  {
   "cell_type": "code",
   "execution_count": 25,
   "metadata": {
    "hidden": true
   },
   "outputs": [],
   "source": [
    "# plot filter\n",
    "\n",
    "plt.clf()\n",
    "plt.scatter(nb405_transmission[\"wavel_angs\"],nb405_transmission[\"transmission\"])\n",
    "plt.title(\"Paranal_NACO.NB405.dat.txt\")\n",
    "plt.xlabel(\"Wavelength ($\\AA$)\")\n",
    "plt.ylabel(\"Transmission\")\n",
    "plt.show()"
   ]
  },
  {
   "cell_type": "markdown",
   "metadata": {},
   "source": [
    "### Read in model spectra (of a host star and Vega)"
   ]
  },
  {
   "cell_type": "code",
   "execution_count": 26,
   "metadata": {},
   "outputs": [],
   "source": [
    "# Kurucz ODFNEW /NOVER models\n",
    "# teff = 7750 K (value for the effective temperature for the model. Temperatures are given in K)\n",
    "# logg = 4.00 log(cm/s2) (value for Log(G) for the model.)\n",
    "# meta = 0  (value for the Metallicity for the model.)\n",
    "# lh = 1.25  (l/Hp where l is the  mixing length of the convective element and Hp is the pressure scale height)\n",
    "# vtur = 2.0 km/s (Microturbulence velocity)\n",
    "#\n",
    "# column 1: WAVELENGTH (ANGSTROM), Wavelength in Angstrom\n",
    "# column 2: FLUX (ERG/CM2/S/A), Flux in erg/cm2/s/A\n",
    "\n",
    "model_spectrum = pd.read_csv(\"data/model_spec_teff_7750_logg_4_feh_0.txt\",\n",
    "                             names=[\"wavel_angs\", \"flux\"], skiprows=9, delim_whitespace=True)"
   ]
  },
  {
   "cell_type": "code",
   "execution_count": 47,
   "metadata": {},
   "outputs": [],
   "source": [
    "# plot spectrum\n",
    "\n",
    "plt.clf()\n",
    "plt.scatter(model_spectrum[\"wavel_angs\"],model_spectrum[\"flux\"])\n",
    "plt.title(\"Model spectrum in the region around the filter bandpass\")\n",
    "plt.xlabel(\"Wavelength ($\\AA$)\")\n",
    "plt.ylabel(\"Surface flux (erg/cm2/s/$\\AA$)\")\n",
    "plt.ylim([0,1e5])\n",
    "plt.xlim([38000,42000])\n",
    "plt.show()"
   ]
  },
  {
   "cell_type": "code",
   "execution_count": 48,
   "metadata": {},
   "outputs": [
    {
     "name": "stdout",
     "output_type": "stream",
     "text": [
      "Vega flux units are\n",
      "flam\n"
     ]
    }
   ],
   "source": [
    "# Vega spectrum is imported from pysynphot\n",
    "# refs: \n",
    "# https://pysynphot.readthedocs.io\n",
    "# https://www.stsci.edu/itt/review/synphot_2007/AppA_Catalogsa2.html\n",
    "\n",
    "print(\"Vega flux units are\")\n",
    "print(S.Vega.fluxunits.name)\n",
    "\n",
    "# flam = erg s−1 cm−2 \\AA−1 (which is what I want! and at this amplitude it must be the flux at Earth)"
   ]
  },
  {
   "cell_type": "code",
   "execution_count": 49,
   "metadata": {},
   "outputs": [
    {
     "ename": "NameError",
     "evalue": "name 'os' is not defined",
     "output_type": "error",
     "traceback": [
      "\u001b[0;31m---------------------------------------------------------------------------\u001b[0m",
      "\u001b[0;31mNameError\u001b[0m                                 Traceback (most recent call last)",
      "\u001b[0;32m<ipython-input-49-bb37da7a4b0c>\u001b[0m in \u001b[0;36m<module>\u001b[0;34m()\u001b[0m\n\u001b[1;32m      6\u001b[0m \u001b[0mplt\u001b[0m\u001b[0;34m.\u001b[0m\u001b[0mxlabel\u001b[0m\u001b[0;34m(\u001b[0m\u001b[0mS\u001b[0m\u001b[0;34m.\u001b[0m\u001b[0mVega\u001b[0m\u001b[0;34m.\u001b[0m\u001b[0mwaveunits\u001b[0m\u001b[0;34m)\u001b[0m\u001b[0;34m\u001b[0m\u001b[0m\n\u001b[1;32m      7\u001b[0m \u001b[0mplt\u001b[0m\u001b[0;34m.\u001b[0m\u001b[0mylabel\u001b[0m\u001b[0;34m(\u001b[0m\u001b[0mS\u001b[0m\u001b[0;34m.\u001b[0m\u001b[0mVega\u001b[0m\u001b[0;34m.\u001b[0m\u001b[0mfluxunits\u001b[0m\u001b[0;34m)\u001b[0m\u001b[0;34m\u001b[0m\u001b[0m\n\u001b[0;32m----> 8\u001b[0;31m \u001b[0mplt\u001b[0m\u001b[0;34m.\u001b[0m\u001b[0mtitle\u001b[0m\u001b[0;34m(\u001b[0m\u001b[0mos\u001b[0m\u001b[0;34m.\u001b[0m\u001b[0mpath\u001b[0m\u001b[0;34m.\u001b[0m\u001b[0mbasename\u001b[0m\u001b[0;34m(\u001b[0m\u001b[0mS\u001b[0m\u001b[0;34m.\u001b[0m\u001b[0mVega\u001b[0m\u001b[0;34m.\u001b[0m\u001b[0mname\u001b[0m\u001b[0;34m)\u001b[0m \u001b[0;34m+\u001b[0m \u001b[0;34m\"\\nand filter transmission\"\u001b[0m\u001b[0;34m)\u001b[0m\u001b[0;34m\u001b[0m\u001b[0m\n\u001b[0m\u001b[1;32m      9\u001b[0m \u001b[0mplt\u001b[0m\u001b[0;34m.\u001b[0m\u001b[0mshow\u001b[0m\u001b[0;34m(\u001b[0m\u001b[0;34m)\u001b[0m\u001b[0;34m\u001b[0m\u001b[0m\n",
      "\u001b[0;31mNameError\u001b[0m: name 'os' is not defined"
     ]
    }
   ],
   "source": [
    "plt.clf()\n",
    "plt.plot(S.Vega.wave, S.Vega.flux)\n",
    "plt.scatter(nb405_transmission[\"wavel_angs\"],np.max(S.Vega.flux)*nb405_transmission[\"transmission\"],s=2,\n",
    "            label=\"NB405 trans.\")\n",
    "plt.xlim(0, 50000)\n",
    "plt.xlabel(S.Vega.waveunits)\n",
    "plt.ylabel(S.Vega.fluxunits)\n",
    "plt.title(os.path.basename(S.Vega.name) + \"\\nand filter transmission\")\n",
    "plt.show()"
   ]
  },
  {
   "cell_type": "markdown",
   "metadata": {},
   "source": [
    "## Figure out what we want"
   ]
  },
  {
   "cell_type": "markdown",
   "metadata": {},
   "source": [
    "### The equation for absolute magnitude (on the Vega scale) of a star we want to solve is\n",
    "### $M_{ \\textrm{star}} = m_{ \\textrm{star}}  - 5\\textrm{log}_{10}\\left( \\frac{\\textrm{d}}{\\textrm{10 pc}} \\right)$"
   ]
  },
  {
   "cell_type": "markdown",
   "metadata": {},
   "source": [
    "## Energy-counting case"
   ]
  },
  {
   "cell_type": "markdown",
   "metadata": {},
   "source": [
    "### For the energy-counting case, we use the zero point from SVO:\n",
    "### $m_{ \\textrm{star,E}} = -2.5 \\textrm{log}_{10} \\left\\{ \\frac{\\int d\\lambda R_{\\lambda}(\\lambda) f_{\\lambda,star}^{(0)}(\\lambda)}{\\int d\\lambda R_{\\lambda}(\\lambda) }\\right\\} + 2.5 \\textrm{log}_{10} \\left\\{ \\textrm{zp}_{E}(f_{\\lambda,Vega}^{(0)}) \\right\\}= -2.5 \\textrm{log}_{10} \\left\\{ \\frac{\\int d\\lambda R_{\\lambda}(\\lambda) f_{\\lambda,star}^{(0)}(\\lambda) / \\int d\\lambda R_{\\lambda}(\\lambda) }{\\textrm{zp}_{E}(f_{\\lambda, Vega}^{(0)})}  \\right\\}$\n",
    "### The $(0)$ indicates 'at the top of Earth's atmosphere' and the zero point is defined on SVO page as\n",
    "### $\\textrm{zp}_{E}(f_{\\lambda,Vega}^{(0)})\\equiv \\frac{ \\int d\\lambda R(\\lambda)f_{\\lambda,Vega}^{(0)}(\\lambda)}{\\int d\\lambda R(\\lambda)}$\n",
    "### To find the expected flux of the star at the top of the Earth's atmosphere, use a synthetic spectrum (we are in the Rayleigh-Jeans regime for an Altair-like spectrum anyway) and scale it for distance:\n",
    "### $f_{\\lambda, star}^{(0)}(\\lambda) = \\left( \\frac{R_{star}}{D} \\right)^{2} f_{\\lambda,star}^{(surf)}(\\lambda) $\n",
    "### Putting all the pieces together in terms of fundamental measurables, we want to calculate\n",
    "### $M_{ \\textrm{star}} = -2.5 \\textrm{log}_{10} \\left\\{ \\left( \\frac{R_{star}}{D} \\right)^{2}\\frac{\\int d\\lambda R_{\\lambda}(\\lambda) f_{\\lambda,star}^{(surf)}(\\lambda) / \\int d\\lambda R_{\\lambda}(\\lambda) }{\\textrm{zp}(f_{\\lambda, Vega}^{(0)})}  \\right\\}   - 5\\textrm{log}_{10}\\left( \\frac{\\textrm{d}}{\\textrm{10 pc}} \\right)$\n",
    "### or in code variables,\n",
    "### $M_{ \\textrm{star}} = -2.5 \\textrm{log}_{10} \\left\\{ \\textrm{piece_A}\\frac{\\textrm{piece_B} / \\textrm{piece_C} }{\\textrm{zp_vega}} \\right\\}   - 5\\textrm{log}_{10}\\left( \\textrm{piece_D} \\right)$\n"
   ]
  },
  {
   "cell_type": "markdown",
   "metadata": {},
   "source": [
    "## Photon-counting case"
   ]
  },
  {
   "cell_type": "markdown",
   "metadata": {},
   "source": [
    "### For the photon-counting case, we have to calculate our own zero point (and let's leave off the $(\\lambda)$ arguments to compactify the notation:\n",
    "### $m_{ \\textrm{star,P}} = -2.5 \\textrm{log}_{10} \\left\\{ \\frac{\\int d\\lambda R_{\\lambda} \\lambda f_{\\lambda,star}^{(0)}}{\\int d\\lambda R_{\\lambda} \\lambda  }\\right\\} + 2.5 \\textrm{log}_{10} \\left\\{ \\textrm{zp}_{P}(f_{\\lambda,Vega}^{(0)}) \\right\\}$\n",
    "### $m_{ \\textrm{star,P}} = -2.5 \\textrm{log}_{10} \\left\\{ \\frac{\\int d\\lambda R_{\\lambda} \\lambda f_{\\lambda,star}^{(0)}}{\\int d\\lambda R_{\\lambda} \\lambda  }\\right\\} + 2.5 \\textrm{log}_{10} \\left\\{ \\frac{ \\int d\\lambda R_{\\lambda} \\lambda f_{\\lambda,Vega}^{(0)}(\\lambda)}{\\int d\\lambda R_{\\lambda} \\lambda} \\right\\}$\n",
    "### $m_{ \\textrm{star,P}} = -2.5 \\textrm{log}_{10} \\left\\{ \\frac{\\int d\\lambda R_{\\lambda} \\lambda f_{\\lambda,star}^{(0)}}{\\int d\\lambda R_{\\lambda} \\lambda f_{\\lambda,Vega}^{(0)} } \\right\\}$\n",
    "### $m_{ \\textrm{star,P}} = -2.5 \\textrm{log}_{10} \\left\\{ \\left( \\frac{R_{star}}{D} \\right)^{2} \\frac{\\int d\\lambda R_{\\lambda} \\lambda f_{\\lambda,star}^{(surf)}}{\\int d\\lambda R_{\\lambda} \\lambda f_{\\lambda,Vega}^{(0)} } \\right\\}$\n",
    "### Finally,\n",
    "### $M_{ \\textrm{star}} = -2.5 \\textrm{log}_{10} \\left\\{ \\left( \\frac{R_{star}}{D} \\right)^{2} \\frac{\\int d\\lambda R_{\\lambda} \\lambda f_{\\lambda,star}^{(surf)}}{\\int d\\lambda R_{\\lambda} \\lambda f_{\\lambda,Vega}^{(0)} } \\right\\}   - 5\\textrm{log}_{10}\\left( \\frac{\\textrm{d}}{\\textrm{10 pc}} \\right)$\n",
    "### or in code variables,\n",
    "### $M_{ \\textrm{star}} = -2.5 \\textrm{log}_{10} \\left\\{ \\textrm{piece_A}\\frac{\\textrm{piece_B_lambda}}{\\textrm{piece_V_lambda}} \\right\\}   - 5\\textrm{log}_{10}\\left( \\textrm{piece_D} \\right)$"
   ]
  },
  {
   "cell_type": "markdown",
   "metadata": {},
   "source": [
    "## Calculate the pieces"
   ]
  },
  {
   "cell_type": "markdown",
   "metadata": {},
   "source": [
    "### $\\textrm{piece_A}$: Calculate inverse-square law scaling factor to convert surface flux $f_{\\lambda}^{(surf, star)}(\\lambda)$ to flux at top of Earth's atmosphere:\n",
    "### $\\textrm{piece_A} \\equiv \\left( \\frac{R_{star}}{D} \\right)^{2} $"
   ]
  },
  {
   "cell_type": "code",
   "execution_count": 6,
   "metadata": {},
   "outputs": [],
   "source": [
    "piece_A = np.power(np.divide(1.,d_altair_altair_radii),2.)"
   ]
  },
  {
   "cell_type": "markdown",
   "metadata": {},
   "source": [
    "### $\\textrm{piece_B}$: Integration of star flux and filter response: \n",
    "### $\\textrm{piece_B} \\equiv \\int d\\lambda R_{\\lambda}(\\lambda) f_{\\lambda,star}^{(surf)}(\\lambda) $"
   ]
  },
  {
   "cell_type": "markdown",
   "metadata": {},
   "source": [
    "### $\\textrm{piece_B_lambda}$: Counterpart of $\\textrm{piece_B}$ for photon-counting detector: \n",
    "### $\\textrm{piece_B_lambda} \\equiv \\int d\\lambda R_{\\lambda}(\\lambda) f_{\\lambda,star}^{(surf)}(\\lambda) \\lambda $"
   ]
  },
  {
   "cell_type": "code",
   "execution_count": 11,
   "metadata": {},
   "outputs": [],
   "source": [
    "# To do the integration over two functions represented by input arrays, use the abcissa\n",
    "# of the filter transmission $R$ to make an interpolated form of $f$ pinned to the same \n",
    "# ordinate. Then multiply the two arrays together and integrate over that.\n",
    "\n",
    "model_surf_flux_filter_abcissa = np.interp(nb405_transmission[\"wavel_angs\"].values, \n",
    "                                             model_spectrum[\"wavel_angs\"].values,\n",
    "                                             model_spectrum[\"flux\"].values)"
   ]
  },
  {
   "cell_type": "code",
   "execution_count": 12,
   "metadata": {},
   "outputs": [],
   "source": [
    "# now multiply the surface flux by the filter transmission to obtain the integrand\n",
    "\n",
    "integrand_piece_B = np.multiply(nb405_transmission[\"transmission\"],model_surf_flux_filter_abcissa)\n",
    "integrand_piece_B_lambda = np.multiply(nb405_transmission[\"wavel_angs\"].values,\n",
    "                                       np.multiply(nb405_transmission[\"transmission\"],model_surf_flux_filter_abcissa))"
   ]
  },
  {
   "cell_type": "code",
   "execution_count": 13,
   "metadata": {},
   "outputs": [],
   "source": [
    "# integrate \n",
    "\n",
    "piece_B = np.trapz(integrand_piece_B,x=nb405_transmission[\"wavel_angs\"])\n",
    "piece_B_lambda = np.trapz(integrand_piece_B_lambda,x=nb405_transmission[\"wavel_angs\"])"
   ]
  },
  {
   "cell_type": "code",
   "execution_count": 34,
   "metadata": {},
   "outputs": [],
   "source": [
    "# plot everything so far\n",
    "\n",
    "plt.clf()\n",
    "plt.scatter(nb405_transmission[\"wavel_angs\"],\n",
    "            np.divide(model_surf_flux_filter_abcissa,np.max(model_surf_flux_filter_abcissa)),\n",
    "            label=\"Model spectrum f\")\n",
    "plt.scatter(nb405_transmission[\"wavel_angs\"],\n",
    "            np.divide(nb405_transmission[\"transmission\"],np.max(nb405_transmission[\"transmission\"])),\n",
    "            label=\"Filter response R\")\n",
    "plt.scatter(nb405_transmission[\"wavel_angs\"],\n",
    "            np.divide(integrand_piece_B,np.max(integrand_piece_B)),\n",
    "            label=\"R*f\")\n",
    "plt.scatter(nb405_transmission[\"wavel_angs\"],\n",
    "            np.divide(integrand_piece_B_lambda,np.max(integrand_piece_B_lambda)),\n",
    "            label=\"R*f*lambda\")\n",
    "plt.legend()\n",
    "plt.xlabel(\"Wavel ($\\AA$)\")\n",
    "plt.ylabel(\"Normalized quantities\")\n",
    "plt.show()"
   ]
  },
  {
   "cell_type": "markdown",
   "metadata": {},
   "source": [
    "### $\\textrm{piece_V_lambda}$: Integration for photon-counting detector over Vega spectrum: \n",
    "### $\\textrm{piece_V_lambda} \\equiv \\int d\\lambda R_{\\lambda} \\lambda f_{\\lambda,Vega}^{(0)} $"
   ]
  },
  {
   "cell_type": "code",
   "execution_count": 73,
   "metadata": {},
   "outputs": [],
   "source": [
    "# interpolate to put Vega flux on same abcissa\n",
    "vega_earth_flux_filter_abcissa = np.interp(nb405_transmission[\"wavel_angs\"].values,\n",
    "                                           S.Vega.wave, \n",
    "                                           S.Vega.flux)\n",
    "\n",
    "integrand_piece_vega = np.multiply(nb405_transmission[\"transmission\"],vega_earth_flux_filter_abcissa)\n",
    "\n",
    "# multiply the model Vega surface flux by the filter transmission to obtain the integrand\n",
    "integrand_piece_vega_extra_lambd = np.multiply(integrand_piece_vega,nb405_transmission[\"wavel_angs\"])\n",
    "\n",
    "# integrate\n",
    "piece_V_lambda = np.trapz(integrand_piece_vega_extra_lambd,x=nb405_transmission[\"wavel_angs\"])"
   ]
  },
  {
   "cell_type": "markdown",
   "metadata": {},
   "source": [
    "### $\\textrm{piece_C}$: The normalization constant: \n",
    "### $\\textrm{piece_C} \\equiv \\int d\\lambda R_{\\lambda}(\\lambda) $\n",
    "### $\\textrm{piece_C_lambda}$: The normalization constant for photon-counters: \n",
    "### $\\textrm{piece_C_lambda} \\equiv \\int d\\lambda R_{\\lambda}(\\lambda) \\lambda $"
   ]
  },
  {
   "cell_type": "code",
   "execution_count": 15,
   "metadata": {},
   "outputs": [],
   "source": [
    "# integrate the filter transmission\n",
    "\n",
    "piece_C = np.trapz(nb405_transmission[\"transmission\"],x=nb405_transmission[\"wavel_angs\"])\n",
    "piece_C_lambda = np.trapz(np.multiply(nb405_transmission[\"transmission\"],nb405_transmission[\"wavel_angs\"]),\n",
    "                          x=nb405_transmission[\"wavel_angs\"])"
   ]
  },
  {
   "cell_type": "markdown",
   "metadata": {},
   "source": [
    "### $\\textrm{piece_D}$: Multiples of 10 pc: \n",
    "### $\\textrm{piece_D} \\equiv \\frac{\\textrm{5.13 pc}}{\\textrm{10 pc}} $"
   ]
  },
  {
   "cell_type": "code",
   "execution_count": 42,
   "metadata": {},
   "outputs": [],
   "source": [
    "piece_D = np.divide(5.13,10)"
   ]
  },
  {
   "cell_type": "markdown",
   "metadata": {},
   "source": [
    "### Also check the zero point given by SVO:\n",
    "\n",
    "### $\\textrm{zp_vega} \\equiv \\frac{\\int d\\lambda R_{\\lambda} f_{Vega}^{(0)}}{\\int d\\lambda R_{\\lambda}} \\equiv \\frac{\\textrm{piece_vega}}{\\textrm{piece_C}} $\n",
    "\n",
    "### SVO value is 3.885e-12\t(erg/cm2/s/A)"
   ]
  },
  {
   "cell_type": "code",
   "execution_count": 65,
   "metadata": {},
   "outputs": [
    {
     "name": "stdout",
     "output_type": "stream",
     "text": [
      "zp_vega_svo_defined_calc:\n",
      "3.86068523708853e-12\n"
     ]
    }
   ],
   "source": [
    "## as SVO defines it\n",
    "\n",
    "# interpolate to put Vega flux on same abcissa\n",
    "vega_earth_flux_filter_abcissa = np.interp(nb405_transmission[\"wavel_angs\"].values,\n",
    "                                           S.Vega.wave, \n",
    "                                           S.Vega.flux)\n",
    "\n",
    "# now multiply the surface flux by the filter transmission to obtain the integrand\n",
    "integrand_piece_vega = np.multiply(nb405_transmission[\"transmission\"],vega_earth_flux_filter_abcissa)\n",
    "\n",
    "# integrate \n",
    "piece_vega = np.trapz(integrand_piece_vega,x=nb405_transmission[\"wavel_angs\"])\n",
    "\n",
    "zp_vega_svo_defined_calc = np.divide(piece_vega,piece_C)\n",
    "print(\"zp_vega_svo_defined_calc:\")\n",
    "print(zp_vega_svo_defined_calc)"
   ]
  },
  {
   "cell_type": "markdown",
   "metadata": {
    "heading_collapsed": true
   },
   "source": [
    "### check value using other definition, with lambda inside integrand (which seems to appear in other Vega zero points):\n",
    "\n",
    "### $\\textrm{zp_vega_extra_lambd} \\equiv \\frac{\\int d\\lambda R_{\\lambda} \\lambda f_{Vega}^{(0)}}{\\int d\\lambda R_{\\lambda} \\lambda } \\equiv \\frac{\\textrm{piece_vega_extra_lambd}}{\\textrm{piece_C_extra_lambd}} $"
   ]
  },
  {
   "cell_type": "code",
   "execution_count": 66,
   "metadata": {
    "hidden": true
   },
   "outputs": [
    {
     "name": "stdout",
     "output_type": "stream",
     "text": [
      "zp_vega_extra_lambda_calc:\n",
      "3.860446341435048e-12\n"
     ]
    }
   ],
   "source": [
    "# now multiply the surface flux by the filter transmission to obtain the integrand\n",
    "integrand_piece_vega_extra_lambd = np.multiply(integrand_piece_vega,nb405_transmission[\"wavel_angs\"])\n",
    "\n",
    "# integrate to get numerator\n",
    "piece_vega_extra_lambd = np.trapz(integrand_piece_vega_extra_lambd,x=nb405_transmission[\"wavel_angs\"])\n",
    "\n",
    "# integrand of denominator\n",
    "integrand_piece_C_extra_lambd = np.multiply(nb405_transmission[\"transmission\"],nb405_transmission[\"wavel_angs\"])\n",
    "  \n",
    "# integrate to get denominator\n",
    "piece_C_extra_lambd = np.trapz(integrand_piece_C_extra_lambd,x=nb405_transmission[\"wavel_angs\"])\n",
    "\n",
    "zp_vega_extra_lambda_calc = np.divide(piece_vega_extra_lambd,piece_C_extra_lambd)\n",
    "print(\"zp_vega_extra_lambda_calc:\")\n",
    "print(zp_vega_extra_lambda_calc)"
   ]
  },
  {
   "cell_type": "markdown",
   "metadata": {},
   "source": [
    "### ... so the zero points are virtually the same."
   ]
  },
  {
   "cell_type": "markdown",
   "metadata": {},
   "source": [
    "### Put everything together to get an apparent magnitude. Reiterating, we want\n",
    "### $M_{ \\textrm{star}} = -2.5 \\textrm{log}_{10} \\left\\{ \\left( \\frac{R_{star}}{D} \\right)^{2} \\frac{\\int d\\lambda R_{\\lambda} \\lambda f_{\\lambda,star}^{(surf)}}{\\int d\\lambda R_{\\lambda} \\lambda f_{\\lambda,Vega}^{(0)} } \\right\\}   - 5\\textrm{log}_{10}\\left( \\frac{\\textrm{d}}{\\textrm{10 pc}} \\right)$\n",
    "### or in code variables,\n",
    "### $M_{ \\textrm{star,P}} = -2.5 \\textrm{log}_{10} \\left\\{ \\textrm{piece_A}\\frac{\\textrm{piece_B_lambda}}{\\textrm{piece_V_lambda}} \\right\\}   - 5\\textrm{log}_{10}\\left( \\textrm{piece_D} \\right)$\n",
    "### Check with the alternate way of calculating it:\n",
    "### $M_{ \\textrm{star}} = -2.5 \\textrm{log}_{10} \\left\\{ \\left( \\frac{R_{star}}{D} \\right)^{2} \\frac{\\int d\\lambda R_{\\lambda} \\lambda f_{\\lambda,star}^{(surf)}}{\\int d\\lambda R_{\\lambda} \\lambda } \\right\\} + 2.5 \\textrm{log}_{10} \\left\\{\\frac{\\int d\\lambda R_{\\lambda} \\lambda f_{\\lambda,Vega}^{(0)}}{\\int d\\lambda R_{\\lambda} \\lambda}\\right\\} - 5\\textrm{log}_{10}\\left( \\frac{\\textrm{d}}{\\textrm{10 pc}} \\right) $ \n",
    "### $M_{ \\textrm{star}} = -2.5 \\textrm{log}_{10} \\left\\{ \\left( \\frac{R_{star}}{D} \\right)^{2} \\frac{\\int d\\lambda R_{\\lambda} \\lambda f_{\\lambda,star}^{(surf)}}{\\int d\\lambda R_{\\lambda} \\lambda } \\right\\} + 2.5 \\textrm{log}_{10} \\left\\{ \\textrm{zp}_{P} \\right\\} - 5\\textrm{log}_{10}\\left( \\frac{\\textrm{d}}{\\textrm{10 pc}} \\right) $ \n",
    "### or in code variables,\n",
    "### $M_{ \\textrm{star,P}} = -2.5 \\textrm{log}_{10} \\left\\{ \\textrm{piece_A}\\frac{\\textrm{piece_B_lambda}}{\\textrm{piece_C_lambda}} \\right\\} + 2.5 \\textrm{log}_{10} \\left\\{ \\textrm{zp_vega_extra_lambda_calc} \\right\\}  - 5\\textrm{log}_{10}\\left( \\textrm{piece_D} \\right)$"
   ]
  },
  {
   "cell_type": "markdown",
   "metadata": {},
   "source": [
    "## Put pieces together for finding M_star for a photon-detector"
   ]
  },
  {
   "cell_type": "code",
   "execution_count": 56,
   "metadata": {},
   "outputs": [
    {
     "name": "stdout",
     "output_type": "stream",
     "text": [
      "piece_A:\n",
      "5.2557697086904734e-17\n"
     ]
    }
   ],
   "source": [
    "print(\"piece_A:\")\n",
    "print(piece_A)"
   ]
  },
  {
   "cell_type": "code",
   "execution_count": 57,
   "metadata": {},
   "outputs": [
    {
     "name": "stdout",
     "output_type": "stream",
     "text": [
      "piece_B_lambda:\n",
      "1113352769472.48\n"
     ]
    }
   ],
   "source": [
    "print(\"piece_B_lambda:\")\n",
    "print(piece_B_lambda)"
   ]
  },
  {
   "cell_type": "code",
   "execution_count": 62,
   "metadata": {},
   "outputs": [
    {
     "name": "stdout",
     "output_type": "stream",
     "text": [
      "piece_C_lambda:\n",
      "22250464.0\n"
     ]
    }
   ],
   "source": [
    "print(\"piece_C_lambda:\")\n",
    "print(piece_C_lambda)"
   ]
  },
  {
   "cell_type": "code",
   "execution_count": 58,
   "metadata": {},
   "outputs": [
    {
     "name": "stdout",
     "output_type": "stream",
     "text": [
      "piece_V_lambda:\n",
      "3.4837388026002274\n"
     ]
    }
   ],
   "source": [
    "print(\"piece_V_lambda:\")\n",
    "print(piece_V_lambda)"
   ]
  },
  {
   "cell_type": "code",
   "execution_count": 59,
   "metadata": {},
   "outputs": [
    {
     "name": "stdout",
     "output_type": "stream",
     "text": [
      "piece_D:\n",
      "0.513\n"
     ]
    }
   ],
   "source": [
    "print(\"piece_D:\")\n",
    "print(piece_D)"
   ]
  },
  {
   "cell_type": "code",
   "execution_count": 67,
   "metadata": {},
   "outputs": [
    {
     "name": "stdout",
     "output_type": "stream",
     "text": [
      "zp_vega_extra_lambda_calc\n",
      "3.860446341435048e-12\n"
     ]
    }
   ],
   "source": [
    "print(\"zp_vega_extra_lambda_calc\")\n",
    "print(zp_vega_extra_lambda_calc)"
   ]
  },
  {
   "cell_type": "markdown",
   "metadata": {},
   "source": [
    "### Final answers"
   ]
  },
  {
   "cell_type": "code",
   "execution_count": 74,
   "metadata": {},
   "outputs": [],
   "source": [
    "# for a photon detector\n",
    "M_star_photon = -2.5*np.log10(piece_A*np.divide(piece_B_lambda,piece_V_lambda))-5*np.log10(piece_D)"
   ]
  },
  {
   "cell_type": "code",
   "execution_count": 75,
   "metadata": {},
   "outputs": [
    {
     "name": "stdout",
     "output_type": "stream",
     "text": [
      "M_star:\n",
      "1.8661818518785354\n"
     ]
    }
   ],
   "source": [
    "print(\"M_star for a photon detector:\")\n",
    "print(M_star_photon)"
   ]
  },
  {
   "cell_type": "code",
   "execution_count": 76,
   "metadata": {},
   "outputs": [],
   "source": [
    "# for an energy detector\n",
    "M_star_energy = -2.5*np.log10(piece_A*np.divide(piece_B/piece_C,zp_vega))-5*np.log10(piece_D)"
   ]
  },
  {
   "cell_type": "code",
   "execution_count": 77,
   "metadata": {},
   "outputs": [
    {
     "name": "stdout",
     "output_type": "stream",
     "text": [
      "M_star for an energy detector:\n",
      "1.8729857760567394\n"
     ]
    }
   ],
   "source": [
    "print(\"M_star for an energy detector:\")\n",
    "print(M_star_energy)"
   ]
  },
  {
   "cell_type": "markdown",
   "metadata": {},
   "source": [
    "### Note 2MASS measured $m_{K}=0.0102$.\n",
    "### Then, $M_{K}=m_{K}-5\\textrm{log}_{10}\\left(\\frac{\\textrm{5.13 pc}}{\\textrm{10 pc}}\\right) = 1.55$\n",
    "### ... and J. Stone measured the equivalent of $M_{L'}=1.66$."
   ]
  },
  {
   "cell_type": "code",
   "execution_count": null,
   "metadata": {},
   "outputs": [],
   "source": []
  }
 ],
 "metadata": {
  "kernelspec": {
   "display_name": "Python 3",
   "language": "python",
   "name": "python3"
  },
  "language_info": {
   "codemirror_mode": {
    "name": "ipython",
    "version": 3
   },
   "file_extension": ".py",
   "mimetype": "text/x-python",
   "name": "python",
   "nbconvert_exporter": "python",
   "pygments_lexer": "ipython3",
   "version": "3.6.6"
  }
 },
 "nbformat": 4,
 "nbformat_minor": 2
}
