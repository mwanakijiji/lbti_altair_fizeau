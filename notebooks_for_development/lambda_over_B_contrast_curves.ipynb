{
 "cells": [
  {
   "cell_type": "code",
   "execution_count": 1,
   "metadata": {},
   "outputs": [],
   "source": [
    "# This is to develop the code the generate contrast curves\n",
    "# in the lambda/B regime from the KS analysis done on the \n",
    "# ADI frames\n",
    "\n",
    "# Created 2020 May 28 by E.S."
   ]
  },
  {
   "cell_type": "code",
   "execution_count": 8,
   "metadata": {},
   "outputs": [],
   "source": [
    "import numpy as np\n",
    "import pandas as pd\n",
    "import matplotlib.pyplot as plt"
   ]
  },
  {
   "cell_type": "code",
   "execution_count": 9,
   "metadata": {},
   "outputs": [],
   "source": [
    "df = pd.read_csv(\"data/test_lambda_over_b_1.csv\")"
   ]
  },
  {
   "cell_type": "code",
   "execution_count": 10,
   "metadata": {},
   "outputs": [
    {
     "data": {
      "text/plain": [
       "Index(['Unnamed: 0', 'dist_asec', 'comp_ampl',\n",
       "       'D_xsec_strip_w_planets_rel_to_strip_0',\n",
       "       'D_xsec_strip_w_planets_rel_to_strip_1',\n",
       "       'D_xsec_strip_w_planets_rel_to_strip_2',\n",
       "       'D_xsec_strip_w_planets_rel_to_strip_3',\n",
       "       'D_xsec_strip_w_planets_rel_to_strip_4',\n",
       "       'val_xsec_crit_strip_w_planets_rel_to_strip_0',\n",
       "       'val_xsec_crit_strip_w_planets_rel_to_strip_1',\n",
       "       'val_xsec_crit_strip_w_planets_rel_to_strip_2',\n",
       "       'val_xsec_crit_strip_w_planets_rel_to_strip_3',\n",
       "       'val_xsec_crit_strip_w_planets_rel_to_strip_4'],\n",
       "      dtype='object')"
      ]
     },
     "execution_count": 10,
     "metadata": {},
     "output_type": "execute_result"
    }
   ],
   "source": [
    "df.keys()"
   ]
  },
  {
   "cell_type": "code",
   "execution_count": 6,
   "metadata": {},
   "outputs": [
    {
     "data": {
      "image/png": "[encoded data removed]",
      "text/plain": [
       "<Figure size 432x288 with 1 Axes>"
      ]
     },
     "metadata": {
      "needs_background": "light"
     },
     "output_type": "display_data"
    }
   ],
   "source": [
    "# print out a plot, so that the user can see level of completion \n",
    "# represented by the files available\n",
    "\n",
    "plt.clf()\n",
    "plt.scatter(df[\"dist_asec\"],df[\"comp_ampl\"])\n",
    "plt.show()"
   ]
  },
  {
   "cell_type": "code",
   "execution_count": 11,
   "metadata": {},
   "outputs": [],
   "source": [
    "X_asec, Y_ampl = np.meshgrid(df[\"dist_asec\"],df[\"comp_ampl\"])\n",
    "\n",
    "CS = ax.contour(X_asec, Y_ampl, Z)"
   ]
  },
  {
   "cell_type": "code",
   "execution_count": 12,
   "metadata": {},
   "outputs": [
    {
     "data": {
      "text/plain": [
       "array([[0.01040896, 0.04163584, 0.07286272, ..., 0.33308672, 0.4163584 ,\n",
       "        0.520448  ],\n",
       "       [0.01040896, 0.04163584, 0.07286272, ..., 0.33308672, 0.4163584 ,\n",
       "        0.520448  ],\n",
       "       [0.01040896, 0.04163584, 0.07286272, ..., 0.33308672, 0.4163584 ,\n",
       "        0.520448  ],\n",
       "       ...,\n",
       "       [0.01040896, 0.04163584, 0.07286272, ..., 0.33308672, 0.4163584 ,\n",
       "        0.520448  ],\n",
       "       [0.01040896, 0.04163584, 0.07286272, ..., 0.33308672, 0.4163584 ,\n",
       "        0.520448  ],\n",
       "       [0.01040896, 0.04163584, 0.07286272, ..., 0.33308672, 0.4163584 ,\n",
       "        0.520448  ]])"
      ]
     },
     "execution_count": 12,
     "metadata": {},
     "output_type": "execute_result"
    }
   ],
   "source": [
    "X_asec"
   ]
  },
  {
   "cell_type": "code",
   "execution_count": null,
   "metadata": {},
   "outputs": [],
   "source": [
    "plt.clf()\n",
    "plt.contourf(X, Y, Z)"
   ]
  },
  {
   "cell_type": "code",
   "execution_count": 18,
   "metadata": {},
   "outputs": [],
   "source": [
    "contour_data = df[[\"dist_asec\",\"comp_ampl\",\"D_xsec_strip_w_planets_rel_to_strip_1\"]]"
   ]
  },
  {
   "cell_type": "code",
   "execution_count": 19,
   "metadata": {},
   "outputs": [
    {
     "data": {
      "text/html": [
       "<div>\n",
       "<style scoped>\n",
       "    .dataframe tbody tr th:only-of-type {\n",
       "        vertical-align: middle;\n",
       "    }\n",
       "\n",
       "    .dataframe tbody tr th {\n",
       "        vertical-align: top;\n",
       "    }\n",
       "\n",
       "    .dataframe thead th {\n",
       "        text-align: right;\n",
       "    }\n",
       "</style>\n",
       "<table border=\"1\" class=\"dataframe\">\n",
       "  <thead>\n",
       "    <tr style=\"text-align: right;\">\n",
       "      <th></th>\n",
       "      <th>dist_asec</th>\n",
       "      <th>comp_ampl</th>\n",
       "      <th>D_xsec_strip_w_planets_rel_to_strip_1</th>\n",
       "    </tr>\n",
       "  </thead>\n",
       "  <tbody>\n",
       "    <tr>\n",
       "      <th>0</th>\n",
       "      <td>0.010409</td>\n",
       "      <td>0.01</td>\n",
       "      <td>0.047170</td>\n",
       "    </tr>\n",
       "    <tr>\n",
       "      <th>1</th>\n",
       "      <td>0.041636</td>\n",
       "      <td>0.01</td>\n",
       "      <td>0.066038</td>\n",
       "    </tr>\n",
       "    <tr>\n",
       "      <th>2</th>\n",
       "      <td>0.072863</td>\n",
       "      <td>0.01</td>\n",
       "      <td>0.056604</td>\n",
       "    </tr>\n",
       "    <tr>\n",
       "      <th>3</th>\n",
       "      <td>0.104090</td>\n",
       "      <td>0.01</td>\n",
       "      <td>0.066038</td>\n",
       "    </tr>\n",
       "    <tr>\n",
       "      <th>4</th>\n",
       "      <td>0.135316</td>\n",
       "      <td>0.01</td>\n",
       "      <td>0.103774</td>\n",
       "    </tr>\n",
       "    <tr>\n",
       "      <th>...</th>\n",
       "      <td>...</td>\n",
       "      <td>...</td>\n",
       "      <td>...</td>\n",
       "    </tr>\n",
       "    <tr>\n",
       "      <th>151</th>\n",
       "      <td>0.270633</td>\n",
       "      <td>0.30</td>\n",
       "      <td>0.179245</td>\n",
       "    </tr>\n",
       "    <tr>\n",
       "      <th>152</th>\n",
       "      <td>0.301860</td>\n",
       "      <td>0.30</td>\n",
       "      <td>0.188679</td>\n",
       "    </tr>\n",
       "    <tr>\n",
       "      <th>153</th>\n",
       "      <td>0.333087</td>\n",
       "      <td>0.30</td>\n",
       "      <td>0.207547</td>\n",
       "    </tr>\n",
       "    <tr>\n",
       "      <th>154</th>\n",
       "      <td>0.416358</td>\n",
       "      <td>0.30</td>\n",
       "      <td>0.188679</td>\n",
       "    </tr>\n",
       "    <tr>\n",
       "      <th>155</th>\n",
       "      <td>0.520448</td>\n",
       "      <td>0.30</td>\n",
       "      <td>0.226415</td>\n",
       "    </tr>\n",
       "  </tbody>\n",
       "</table>\n",
       "<p>156 rows × 3 columns</p>\n",
       "</div>"
      ],
      "text/plain": [
       "     dist_asec  comp_ampl  D_xsec_strip_w_planets_rel_to_strip_1\n",
       "0     0.010409       0.01                               0.047170\n",
       "1     0.041636       0.01                               0.066038\n",
       "2     0.072863       0.01                               0.056604\n",
       "3     0.104090       0.01                               0.066038\n",
       "4     0.135316       0.01                               0.103774\n",
       "..         ...        ...                                    ...\n",
       "151   0.270633       0.30                               0.179245\n",
       "152   0.301860       0.30                               0.188679\n",
       "153   0.333087       0.30                               0.207547\n",
       "154   0.416358       0.30                               0.188679\n",
       "155   0.520448       0.30                               0.226415\n",
       "\n",
       "[156 rows x 3 columns]"
      ]
     },
     "execution_count": 19,
     "metadata": {},
     "output_type": "execute_result"
    }
   ],
   "source": [
    "contour_data"
   ]
  },
  {
   "cell_type": "code",
   "execution_count": 55,
   "metadata": {},
   "outputs": [
    {
     "data": {
      "image/png": "[encoded data removed]",
      "text/plain": [
       "<Figure size 432x288 with 1 Axes>"
      ]
     },
     "metadata": {
      "needs_background": "light"
     },
     "output_type": "display_data"
    }
   ],
   "source": [
    "# make a new DataFrame from a subset of the data\n",
    "# contour_data = df[[\"dist_asec\",\"comp_ampl\",\"D_xsec_strip_w_planets_rel_to_strip_1\"]]\n",
    "contour_data = df\n",
    "\n",
    "#x = df[\"dist_asec\"]\n",
    "#y = df[\"comp_ampl\"]\n",
    "#z = df[\"D_xsec_strip_w_planets_rel_to_strip_1\"]\n",
    "\n",
    "Z = contour_data.pivot_table(index='dist_asec', \n",
    "                             columns='comp_ampl', \n",
    "                             values='D_xsec_strip_w_planets_rel_to_strip_1').T.values\n",
    "\n",
    "X_unique = np.sort(contour_data.dist_asec.unique())\n",
    "Y_unique = np.sort(contour_data.comp_ampl.unique())\n",
    "X, Y = np.meshgrid(X_unique, Y_unique)\n",
    "\n",
    "# plot\n",
    "fig = plt.figure()\n",
    "ax = fig.add_subplot(111)\n",
    "\n",
    "# underplot scatter plot of sampled points\n",
    "sp = ax.scatter(contour_data[\"dist_asec\"],contour_data[\"comp_ampl\"], s=1)\n",
    "\n",
    "# plot a contour plot\n",
    "cp1 = ax.contour(X, Y, Z)\n",
    "\n",
    "# overplot the critical line\n",
    "df_levels = df.drop_duplicates(subset=\"val_xsec_crit_strip_w_planets_rel_to_strip_1\", \n",
    "                               keep='first', \n",
    "                               inplace=False)\n",
    "levels = df_levels[\"val_xsec_crit_strip_w_planets_rel_to_strip_1\"].values\n",
    "cp2 = ax.contour(X, Y, Z, levels = levels)\n",
    "\n",
    "ax.set_xlabel(\"dist_asec\")\n",
    "ax.set_ylabel(\"companion_ampl\")\n",
    "\n",
    "#plt.savefig(\"junk_comp_w_4.pdf\")"
   ]
  },
  {
   "cell_type": "code",
   "execution_count": 44,
   "metadata": {},
   "outputs": [
    {
     "data": {
      "image/png": "[encoded data removed]",
      "text/plain": [
       "<Figure size 432x288 with 1 Axes>"
      ]
     },
     "metadata": {
      "needs_background": "light"
     },
     "output_type": "display_data"
    }
   ],
   "source": [
    "plt.scatter(contour_data[\"dist_asec\"],contour_data[\"D_xsec_strip_w_planets_rel_to_strip_1\"])\n",
    "plt.axhline(y=df[\"val_xsec_crit_strip_w_planets_rel_to_strip_1\"][0])\n",
    "plt.show()"
   ]
  },
  {
   "cell_type": "code",
   "execution_count": null,
   "metadata": {},
   "outputs": [],
   "source": [
    "## Now do the same comparison with the other strips that did not have\n",
    "## the planets injected in them"
   ]
  },
  {
   "cell_type": "code",
   "execution_count": null,
   "metadata": {},
   "outputs": [],
   "source": [
    "## Take the median across the slices"
   ]
  },
  {
   "cell_type": "code",
   "execution_count": null,
   "metadata": {},
   "outputs": [],
   "source": [
    "## Interpolate to find companion amplitudes at the critical KS value-- that's the contrast curve!"
   ]
  }
 ],
 "metadata": {
  "kernelspec": {
   "display_name": "Python 3",
   "language": "python",
   "name": "python3"
  },
  "language_info": {
   "codemirror_mode": {
    "name": "ipython",
    "version": 3
   },
   "file_extension": ".py",
   "mimetype": "text/x-python",
   "name": "python",
   "nbconvert_exporter": "python",
   "pygments_lexer": "ipython3",
   "version": "3.6.6"
  }
 },
 "nbformat": 4,
 "nbformat_minor": 2
}
