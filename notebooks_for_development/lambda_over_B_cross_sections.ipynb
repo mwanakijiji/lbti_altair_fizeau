{
 "cells": [
  {
   "cell_type": "code",
   "execution_count": 1,
   "metadata": {
    "collapsed": true
   },
   "outputs": [],
   "source": [
    "# This takes host-star-subtracted frames and plots histograms of the residuals\n",
    "\n",
    "# created 2019 Oct. 5 by E.S."
   ]
  },
  {
   "cell_type": "code",
   "execution_count": 3,
   "metadata": {},
   "outputs": [],
   "source": [
    "import urllib\n",
    "import numpy as np\n",
    "import glob\n",
    "import os\n",
    "from scipy import ndimage, misc\n",
    "from astropy.io import fits\n",
    "import matplotlib.pyplot as plt\n",
    "\n",
    "% matplotlib inline"
   ]
  },
  {
   "cell_type": "code",
   "execution_count": 56,
   "metadata": {},
   "outputs": [],
   "source": [
    "file_name_array = list(glob.glob(\"/Users/nyumbani/Downloads/20200504_results_jog_3186001/\" + \\\n",
    "                                 \"tmp/spalding/180507_fizeau_altair/pipeline_10_signal_to_noise/cubes\"+ \"/*.fits\"))"
   ]
  },
  {
   "cell_type": "code",
   "execution_count": 70,
   "metadata": {},
   "outputs": [],
   "source": [
    "# read in \n",
    "\n",
    "for file_num in range(0,len(file_name_array)):\n",
    "    \n",
    "    # find planet location in asec\n",
    "    planet_loc_asec = float(file_name_array[file_num].split(\"_\")[-3])\n",
    "    # convert to pixels (as measured from center)\n",
    "    planet_loc_pix = np.divide(planet_loc_asec,0.0107)\n",
    "    #print(planet_loc_pix)\n",
    "\n",
    "    edge_size_shave = 150 # shave off the edges\n",
    "    img, header = fits.getdata(file_name_array[file_num],0,header=True)\n",
    "    img_rotated = ndimage.rotate(img[0,edge_size_shave:int(np.shape(img)[1]-edge_size_shave),edge_size_shave:int(np.shape(img)[2]-edge_size_shave)], 39.68, reshape=False)\n",
    "\n",
    "    f, (ax1, ax2) = plt.subplots(2, 1, gridspec_kw={'height_ratios': [1, 1]}, figsize=(6, 30))\n",
    "    #fig = plt.figure(figsize=(8, 6))\n",
    "\n",
    "    ax1.plot(np.sum(img_rotated,axis=0))\n",
    "    ax1.axvline(x=0.5*np.shape(img_rotated)[0]-planet_loc_pix, linestyle=\":\", color=\"k\", linewidth=4, alpha=0.4)\n",
    "    ax1.set_title('summation')\n",
    "    ax1.set_ylim([-80000,22000])\n",
    "    \n",
    "    subplot1 = ax2.imshow(img_rotated, origin=\"lower\", aspect=\"auto\", vmin=-5000, vmax=5000)\n",
    "    ax2.axvline(x=0.5*np.shape(img_rotated)[0]-planet_loc_pix, linestyle=\":\", color=\"k\", linewidth=4, alpha=0.4)\n",
    "    #plt.colorbar(subplot1)\n",
    "    \n",
    "    f.suptitle(os.path.basename(file_name_array[file_num]))\n",
    "    #plt.tight_layout()\n",
    "    plt.savefig(os.path.basename(file_name_array[file_num])+\".png\")\n",
    "    plt.close()\n",
    "    #plt.show()"
   ]
  },
  {
   "cell_type": "code",
   "execution_count": null,
   "metadata": {},
   "outputs": [],
   "source": []
  }
 ],
 "metadata": {
  "kernelspec": {
   "display_name": "Python 3",
   "language": "python",
   "name": "python3"
  },
  "language_info": {
   "codemirror_mode": {
    "name": "ipython",
    "version": 3
   },
   "file_extension": ".py",
   "mimetype": "text/x-python",
   "name": "python",
   "nbconvert_exporter": "python",
   "pygments_lexer": "ipython3",
   "version": "3.6.6"
  }
 },
 "nbformat": 4,
 "nbformat_minor": 2
}
