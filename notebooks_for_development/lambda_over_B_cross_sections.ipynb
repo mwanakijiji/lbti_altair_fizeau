{
 "cells": [
  {
   "cell_type": "code",
   "execution_count": 1,
   "metadata": {
    "collapsed": true
   },
   "outputs": [],
   "source": [
    "# This takes host-star-subtracted frames and plots histograms of the residuals\n",
    "\n",
    "# created 2019 Oct. 5 by E.S."
   ]
  },
  {
   "cell_type": "code",
   "execution_count": 24,
   "metadata": {},
   "outputs": [],
   "source": [
    "import urllib\n",
    "import numpy as np\n",
    "import glob\n",
    "import os\n",
    "from scipy import ndimage, misc\n",
    "from astropy.io import fits\n",
    "import matplotlib.pyplot as plt\n",
    "\n",
    "#% matplotlib inline\n",
    "% matplotlib qt"
   ]
  },
  {
   "cell_type": "code",
   "execution_count": 38,
   "metadata": {},
   "outputs": [],
   "source": [
    "stem = \"/Users/nyumbani/Downloads/\""
   ]
  },
  {
   "cell_type": "code",
   "execution_count": 37,
   "metadata": {},
   "outputs": [],
   "source": [
    "def shave_and_rotate(img, angle):\n",
    "    \n",
    "    edge_size_shave = 150 # shave off the edges\n",
    "    \n",
    "    # shave off edges symmetrically\n",
    "    img_shaved = img[edge_size_shave:int(np.shape(img)[0]-edge_size_shave),\n",
    "                     edge_size_shave:int(np.shape(img)[1]-edge_size_shave)]\n",
    "    \n",
    "    img_shaved_rotated = ndimage.rotate(img_shaved, angle, reshape=False)\n",
    "\n",
    "    return img_shaved_rotated"
   ]
  },
  {
   "cell_type": "code",
   "execution_count": 34,
   "metadata": {},
   "outputs": [],
   "source": [
    "# read in frames with fake planets injected\n",
    "\n",
    "file_name_array = list(glob.glob(stem+\"job_3203135/adi_frame_*.fits\"))\n",
    "\n",
    "file_name_array_recentered = list(glob.glob(stem+\"job_3210855/adi_frame_*.fits\"))"
   ]
  },
  {
   "cell_type": "code",
   "execution_count": 35,
   "metadata": {},
   "outputs": [],
   "source": [
    "# read in frames of the other strips (but with no planet)\n",
    "\n",
    "strip_0_of_4, header = fits.getdata(stem+\"job_3204745/adi_frame_129.68_0.01040896_0.0_0.0.fits\",0,header=True)\n",
    "strip_1_of_4, header = fits.getdata(stem+\"job_3204751/adi_frame_129.68_0.01040896_0.0_0.0.fits\",0,header=True)\n",
    "strip_2_of_4, header = fits.getdata(stem+\"job_3204753/adi_frame_129.68_0.01040896_0.0_0.0.fits\",0,header=True)\n",
    "strip_3_of_4, header = fits.getdata(stem+\"job_3204756/adi_frame_129.68_0.01040896_0.0_0.0.fits\",0,header=True)\n",
    "strip_4_of_4, header = fits.getdata(stem+\"job_3204759/adi_frame_129.68_0.01040896_0.0_0.0.fits\",0,header=True)"
   ]
  },
  {
   "cell_type": "code",
   "execution_count": 36,
   "metadata": {},
   "outputs": [
    {
     "name": "stdout",
     "output_type": "stream",
     "text": [
      "(406, 406)\n",
      "(106, 106)\n",
      "(406, 406)\n",
      "(106, 106)\n",
      "(406, 406)\n",
      "(106, 106)\n",
      "(406, 406)\n",
      "(106, 106)\n",
      "(406, 406)\n",
      "(106, 106)\n"
     ]
    }
   ],
   "source": [
    "# do simple processing of the strips\n",
    "\n",
    "rotated_strip_0 = shave_and_rotate(strip_0_of_4,angle=39.68)\n",
    "rotated_strip_1 = shave_and_rotate(strip_1_of_4,angle=19.218)\n",
    "rotated_strip_2 = shave_and_rotate(strip_2_of_4,angle=13.43)\n",
    "rotated_strip_3 = shave_and_rotate(strip_3_of_4,angle=6.63)\n",
    "rotated_strip_4 = shave_and_rotate(strip_4_of_4,angle=-0.04)"
   ]
  },
  {
   "cell_type": "code",
   "execution_count": 26,
   "metadata": {},
   "outputs": [
    {
     "data": {
      "text/plain": [
       "'\\nplt.clf()\\nplt.imshow(rotated_strip_1, origin=\"lower\")\\nplt.show()\\n\\nplt.clf()\\nplt.imshow(rotated_strip_2, origin=\"lower\")\\nplt.show()\\n\\nplt.clf()\\nplt.imshow(rotated_strip_3, origin=\"lower\")\\nplt.show()\\n\\nplt.clf()\\nplt.imshow(rotated_strip_4, origin=\"lower\")\\nplt.show()\\n'"
      ]
     },
     "execution_count": 26,
     "metadata": {},
     "output_type": "execute_result"
    }
   ],
   "source": [
    "# show the stips without planets\n",
    "\n",
    "plt.clf()\n",
    "plt.imshow(rotated_strip_0, origin=\"lower\")\n",
    "plt.colorbar()\n",
    "plt.show()\n",
    "\n",
    "'''\n",
    "plt.clf()\n",
    "plt.imshow(rotated_strip_1, origin=\"lower\")\n",
    "plt.show()\n",
    "\n",
    "plt.clf()\n",
    "plt.imshow(rotated_strip_2, origin=\"lower\")\n",
    "plt.show()\n",
    "\n",
    "plt.clf()\n",
    "plt.imshow(rotated_strip_3, origin=\"lower\")\n",
    "plt.show()\n",
    "\n",
    "plt.clf()\n",
    "plt.imshow(rotated_strip_4, origin=\"lower\")\n",
    "plt.show()\n",
    "'''"
   ]
  },
  {
   "cell_type": "code",
   "execution_count": 8,
   "metadata": {},
   "outputs": [],
   "source": [
    "# make dictionaries of marginalizations and cross-sections of strips without any planets\n",
    "\n",
    "marginalization_dict = {}\n",
    "cross_sec_dict = {}\n",
    "\n",
    "marginalization_dict[\"strip_0\"] = np.sum(rotated_strip_0,axis=0)\n",
    "marginalization_dict[\"strip_1\"] = np.sum(rotated_strip_1,axis=0)\n",
    "marginalization_dict[\"strip_2\"] = np.sum(rotated_strip_2,axis=0)\n",
    "marginalization_dict[\"strip_3\"] = np.sum(rotated_strip_3,axis=0)\n",
    "marginalization_dict[\"strip_4\"] = np.sum(rotated_strip_4,axis=0)\n",
    "\n",
    "cross_sec_dict[\"strip_0\"] = rotated_strip_1[int(0.5*np.shape(rotated_strip_0)[0]),:]\n",
    "cross_sec_dict[\"strip_1\"] = rotated_strip_1[int(0.5*np.shape(rotated_strip_1)[0]),:]\n",
    "cross_sec_dict[\"strip_2\"] = rotated_strip_2[int(0.5*np.shape(rotated_strip_2)[0]),:]\n",
    "cross_sec_dict[\"strip_3\"] = rotated_strip_3[int(0.5*np.shape(rotated_strip_3)[0]),:]\n",
    "cross_sec_dict[\"strip_4\"] = rotated_strip_4[int(0.5*np.shape(rotated_strip_4)[0]),:]"
   ]
  },
  {
   "cell_type": "code",
   "execution_count": 12,
   "metadata": {},
   "outputs": [
    {
     "name": "stdout",
     "output_type": "stream",
     "text": [
      "Saved adi_frame_129.68_0.5204479999999999_0.01_0.01.fits.png\n",
      "Saved adi_frame_129.68_0.031226879999999995_0.01_0.01.fits.png\n",
      "Saved adi_frame_129.68_0.02081792_0.01_0.01.fits.png\n",
      "Saved adi_frame_129.68_0.031226879999999995_0.1_0.1.fits.png\n",
      "Saved adi_frame_129.68_0.04163584_0.01_0.01.fits.png\n",
      "Saved adi_frame_129.68_0.01040896_0.01_0.01.fits.png\n",
      "Saved adi_frame_129.68_0.10408959999999999_0.01_0.01.fits.png\n",
      "Saved adi_frame_129.68_0.31226879999999996_0.01_0.01.fits.png\n",
      "Saved adi_frame_129.68_0.41635839999999996_0.01_0.01.fits.png\n",
      "Saved adi_frame_129.68_0.02081792_0.1_0.1.fits.png\n",
      "Saved adi_frame_129.68_0.20817919999999998_0.1_0.1.fits.png\n",
      "Saved adi_frame_129.68_0.20817919999999998_0.01_0.01.fits.png\n",
      "Saved adi_frame_129.68_0.41635839999999996_0.1_0.1.fits.png\n",
      "Saved adi_frame_129.68_0.06245375999999999_0.1_0.1.fits.png\n",
      "Saved adi_frame_129.68_0.5204479999999999_0.1_0.1.fits.png\n",
      "Saved adi_frame_129.68_0.31226879999999996_0.1_0.1.fits.png\n",
      "Saved adi_frame_129.68_0.04163584_0.1_0.1.fits.png\n",
      "Saved adi_frame_129.68_0.01040896_0.1_0.1.fits.png\n",
      "Saved adi_frame_129.68_0.10408959999999999_0.1_0.1.fits.png\n",
      "Saved adi_frame_129.68_0.06245375999999999_0.01_0.01.fits.png\n"
     ]
    }
   ],
   "source": [
    "# make plots\n",
    "\n",
    "file_name_array_choice = file_name_array #_recentered\n",
    "plot_file_name_prefix = \"\"#\"recentered_\"\n",
    "\n",
    "for file_num in range(0,len(file_name_array_choice)):\n",
    "    \n",
    "    # find planet location in asec\n",
    "    planet_loc_asec = float(file_name_array_choice[file_num].split(\"_\")[-3])\n",
    "    # convert to pixels (as measured from center)\n",
    "    planet_loc_pix = np.divide(planet_loc_asec,0.0107)\n",
    "    #print(planet_loc_pix)\n",
    "\n",
    "    img, header = fits.getdata(file_name_array_choice[file_num],0,header=True)\n",
    "    img_rotated = shave_and_rotate(img,angle=39.68)\n",
    "\n",
    "    f, ((ax1, ax2, ax3), (ax4, ax5, ax6)) = plt.subplots(2, 3, figsize=(24, 16))\n",
    "    #fig = plt.figure(figsize=(8, 6))\n",
    "    \n",
    "    # 2D color plot\n",
    "    subplot1 = ax1.imshow(img_rotated, origin=\"lower\", aspect=\"auto\", vmin=-5000, vmax=5000)\n",
    "    ax1.axvline(x=0.5*np.shape(img_rotated)[0]-planet_loc_pix, linestyle=\":\", color=\"k\", linewidth=4, alpha=0.4)\n",
    "    #plt.colorbar(subplot1)\n",
    "\n",
    "    # marginalization over y\n",
    "    marg_this_one = np.sum(img_rotated,axis=0)\n",
    "    ax2.plot(marginalization_dict[\"strip_0\"], linestyle=\":\", color=\"k\", alpha=0.2)\n",
    "    ax2.plot(marginalization_dict[\"strip_1\"], linestyle=\":\", color=\"k\", alpha=0.2)\n",
    "    ax2.plot(marginalization_dict[\"strip_2\"], linestyle=\":\", color=\"k\", alpha=0.2)\n",
    "    ax2.plot(marginalization_dict[\"strip_3\"], linestyle=\":\", color=\"k\", alpha=0.2)\n",
    "    ax2.plot(marginalization_dict[\"strip_4\"], linestyle=\":\", color=\"k\", alpha=0.2)\n",
    "    ax2.plot(marg_this_one)\n",
    "    ax2.axvline(x=0.5*np.shape(img_rotated)[0]-planet_loc_pix, linestyle=\":\", color=\"k\", linewidth=4, alpha=0.4)\n",
    "    ax2.set_title('summation')\n",
    "    ax2.set_ylim([-10000,70000])\n",
    "    \n",
    "    # cross-section along x\n",
    "    cross_sec_this_one = img_rotated[int(0.5*np.shape(img_rotated)[0]),:]\n",
    "    ax3.plot(cross_sec_dict[\"strip_0\"], linestyle=\":\", color=\"k\", alpha=0.2)\n",
    "    ax3.plot(cross_sec_dict[\"strip_1\"], linestyle=\":\", color=\"k\", alpha=0.2)\n",
    "    ax3.plot(cross_sec_dict[\"strip_2\"], linestyle=\":\", color=\"k\", alpha=0.2)\n",
    "    ax3.plot(cross_sec_dict[\"strip_3\"], linestyle=\":\", color=\"k\", alpha=0.2)\n",
    "    ax3.plot(cross_sec_dict[\"strip_4\"], linestyle=\":\", color=\"k\", alpha=0.2)\n",
    "    ax3.plot(cross_sec_this_one)\n",
    "    ax3.axvline(x=0.5*np.shape(img_rotated)[0]-planet_loc_pix, linestyle=\":\", color=\"k\", linewidth=4, alpha=0.4)\n",
    "    ax3.set_title('cross-sec')\n",
    "    ax3.set_ylim([-3000,6000])\n",
    "    \n",
    "    # leave a blank in bottom-left, where 'ax4' would be\n",
    "    \n",
    "    # plot difference in marginalizations between different strips\n",
    "    ax5.plot(np.subtract(marg_this_one,marginalization_dict[\"strip_0\"]), label=\"diff with strip 0 (itself without planet)\")\n",
    "    ax5.plot(np.subtract(marg_this_one,marginalization_dict[\"strip_1\"]), label=\"diff with strip 1\")\n",
    "    ax5.plot(np.subtract(marg_this_one,marginalization_dict[\"strip_2\"]), label=\"diff with strip 2\")\n",
    "    ax5.plot(np.subtract(marg_this_one,marginalization_dict[\"strip_3\"]), label=\"diff with strip 3\")\n",
    "    ax5.plot(np.subtract(marg_this_one,marginalization_dict[\"strip_4\"]), label=\"diff with strip 4\")\n",
    "    ax5.legend()\n",
    "    #ax5.set_ylim([-2000,7000]) # for 0.01 companions\n",
    "    ax5.set_ylim([-10000,70000]) # for 0.1 companions\n",
    "    ax5.set_title(\"diff in marginalizations\")\n",
    "    \n",
    "    # plot difference in cross-sections between different strips\n",
    "    ax6.plot(np.subtract(cross_sec_this_one,cross_sec_dict[\"strip_0\"]), label=\"diff with strip 0 (itself without planet)\")\n",
    "    ax6.plot(np.subtract(cross_sec_this_one,cross_sec_dict[\"strip_1\"]), label=\"diff with strip 1\")\n",
    "    ax6.plot(np.subtract(cross_sec_this_one,cross_sec_dict[\"strip_2\"]), label=\"diff with strip 2\")\n",
    "    ax6.plot(np.subtract(cross_sec_this_one,cross_sec_dict[\"strip_3\"]), label=\"diff with strip 3\")\n",
    "    ax6.plot(np.subtract(cross_sec_this_one,cross_sec_dict[\"strip_4\"]), label=\"diff with strip 4\")\n",
    "    ax6.legend()\n",
    "    #ax6.set_ylim([-400,700]) # for 0.01 companions\n",
    "    ax6.set_ylim([-3000,6000]) # for 0.1 companions\n",
    "    ax6.set_title(\"diff in cross secs\")\n",
    "    \n",
    "    new_filename = plot_file_name_prefix + os.path.basename(file_name_array_choice[file_num])+\".png\"\n",
    "    f.suptitle(plot_file_name_prefix + os.path.basename(file_name_array_choice[file_num]))\n",
    "    #plt.tight_layout()\n",
    "    plt.savefig(new_filename, dpi=150)\n",
    "    plt.close()\n",
    "    #plt.show()\n",
    "    \n",
    "    print(\"Saved \" + new_filename)"
   ]
  },
  {
   "cell_type": "code",
   "execution_count": null,
   "metadata": {},
   "outputs": [],
   "source": []
  }
 ],
 "metadata": {
  "kernelspec": {
   "display_name": "Python 3",
   "language": "python",
   "name": "python3"
  },
  "language_info": {
   "codemirror_mode": {
    "name": "ipython",
    "version": 3
   },
   "file_extension": ".py",
   "mimetype": "text/x-python",
   "name": "python",
   "nbconvert_exporter": "python",
   "pygments_lexer": "ipython3",
   "version": "3.6.6"
  }
 },
 "nbformat": 4,
 "nbformat_minor": 2
}
