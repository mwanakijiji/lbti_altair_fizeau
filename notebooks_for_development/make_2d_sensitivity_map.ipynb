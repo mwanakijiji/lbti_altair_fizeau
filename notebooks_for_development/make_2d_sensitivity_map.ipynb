{
 "cells": [
  {
   "cell_type": "code",
   "execution_count": null,
   "metadata": {},
   "outputs": [],
   "source": [
    "# This is for reading in S/N files and making 2D sensitivity maps\n",
    "\n",
    "# Created 2019 Oct 29 by E.S."
   ]
  },
  {
   "cell_type": "code",
   "execution_count": 1,
   "metadata": {},
   "outputs": [],
   "source": [
    "import pandas as pd\n",
    "import numpy as np\n",
    "import matplotlib.pyplot as plt\n",
    "from scipy.interpolate import griddata"
   ]
  },
  {
   "cell_type": "code",
   "execution_count": 2,
   "metadata": {},
   "outputs": [],
   "source": [
    "# LMIR plate scale\n",
    "\n",
    "ps_LMIR = 0.0107 # asec/pix"
   ]
  },
  {
   "cell_type": "code",
   "execution_count": 3,
   "metadata": {},
   "outputs": [],
   "source": [
    "noise_data = pd.read_csv(\n",
    "    \"data/test_csv_file_all_iterations_afternoon_of_20191124_number01.csv\")"
   ]
  },
  {
   "cell_type": "code",
   "execution_count": 4,
   "metadata": {},
   "outputs": [],
   "source": [
    "# initialize an array of NaNs for mapping 2D data onto it\n",
    "# note this needs to be oversampled relative to the science frames\n",
    "\n",
    "### read in a test science array here to determine size\n",
    "\n",
    "oversample_factor = 10 # oversample by this much\n",
    "\n",
    "# effective plate scale on the display area\n",
    "pseudo_ps_LMIR = np.divide(ps_LMIR,oversample_factor)\n",
    "\n",
    "# make the array with an odd number of pixels to have a center\n",
    "dummy_array_0 = np.nan*np.ones((1001,1001))"
   ]
  },
  {
   "cell_type": "code",
   "execution_count": 157,
   "metadata": {},
   "outputs": [],
   "source": [
    "noise_data[\"angle_deg\"] = np.array([23,145,220,310])"
   ]
  },
  {
   "cell_type": "code",
   "execution_count": 143,
   "metadata": {},
   "outputs": [
    {
     "data": {
      "text/html": [
       "<div>\n",
       "<style scoped>\n",
       "    .dataframe tbody tr th:only-of-type {\n",
       "        vertical-align: middle;\n",
       "    }\n",
       "\n",
       "    .dataframe tbody tr th {\n",
       "        vertical-align: top;\n",
       "    }\n",
       "\n",
       "    .dataframe thead th {\n",
       "        text-align: right;\n",
       "    }\n",
       "</style>\n",
       "<table border=\"1\" class=\"dataframe\">\n",
       "  <thead>\n",
       "    <tr style=\"text-align: right;\">\n",
       "      <th></th>\n",
       "      <th>Unnamed: 0</th>\n",
       "      <th>angle_deg</th>\n",
       "      <th>rad_asec</th>\n",
       "      <th>ampl_linear_norm</th>\n",
       "      <th>host_ampl</th>\n",
       "      <th>signal</th>\n",
       "      <th>noise</th>\n",
       "      <th>s2n</th>\n",
       "    </tr>\n",
       "  </thead>\n",
       "  <tbody>\n",
       "    <tr>\n",
       "      <th>0</th>\n",
       "      <td>0</td>\n",
       "      <td>23</td>\n",
       "      <td>0.3</td>\n",
       "      <td>0.001</td>\n",
       "      <td>1.165688e+09</td>\n",
       "      <td>627462.905498</td>\n",
       "      <td>185829.854581</td>\n",
       "      <td>3.376545</td>\n",
       "    </tr>\n",
       "    <tr>\n",
       "      <th>1</th>\n",
       "      <td>0</td>\n",
       "      <td>145</td>\n",
       "      <td>0.4</td>\n",
       "      <td>0.001</td>\n",
       "      <td>1.165688e+09</td>\n",
       "      <td>427661.149783</td>\n",
       "      <td>176554.267659</td>\n",
       "      <td>2.422265</td>\n",
       "    </tr>\n",
       "    <tr>\n",
       "      <th>2</th>\n",
       "      <td>0</td>\n",
       "      <td>220</td>\n",
       "      <td>0.2</td>\n",
       "      <td>0.001</td>\n",
       "      <td>1.165688e+09</td>\n",
       "      <td>79059.513041</td>\n",
       "      <td>109357.399583</td>\n",
       "      <td>0.722946</td>\n",
       "    </tr>\n",
       "    <tr>\n",
       "      <th>3</th>\n",
       "      <td>0</td>\n",
       "      <td>310</td>\n",
       "      <td>0.1</td>\n",
       "      <td>0.001</td>\n",
       "      <td>1.165688e+09</td>\n",
       "      <td>-15790.156782</td>\n",
       "      <td>52091.201292</td>\n",
       "      <td>-0.303125</td>\n",
       "    </tr>\n",
       "  </tbody>\n",
       "</table>\n",
       "</div>"
      ],
      "text/plain": [
       "   Unnamed: 0  angle_deg  rad_asec  ampl_linear_norm     host_ampl  \\\n",
       "0           0         23       0.3             0.001  1.165688e+09   \n",
       "1           0        145       0.4             0.001  1.165688e+09   \n",
       "2           0        220       0.2             0.001  1.165688e+09   \n",
       "3           0        310       0.1             0.001  1.165688e+09   \n",
       "\n",
       "          signal          noise       s2n  \n",
       "0  627462.905498  185829.854581  3.376545  \n",
       "1  427661.149783  176554.267659  2.422265  \n",
       "2   79059.513041  109357.399583  0.722946  \n",
       "3  -15790.156782   52091.201292 -0.303125  "
      ]
     },
     "execution_count": 143,
     "metadata": {},
     "output_type": "execute_result"
    }
   ],
   "source": [
    "noise_data"
   ]
  },
  {
   "cell_type": "code",
   "execution_count": 144,
   "metadata": {},
   "outputs": [
    {
     "data": {
      "text/plain": [
       "'\\nnoise_data2 = pd.DataFrame()\\nnoise_data2[\"angle_deg\"] = 360.*np.random.random(size=50)\\nnoise_data2[\"rad_asec\"] = 0.45*np.random.random(size=50)\\nnoise_data2[\"signal\"] = np.random.random(size=50)\\n'"
      ]
     },
     "execution_count": 144,
     "metadata": {},
     "output_type": "execute_result"
    }
   ],
   "source": [
    "# fake data\n",
    "\n",
    "'''\n",
    "noise_data2 = pd.DataFrame()\n",
    "noise_data2[\"angle_deg\"] = 360.*np.random.random(size=50)\n",
    "noise_data2[\"rad_asec\"] = 0.45*np.random.random(size=50)\n",
    "noise_data2[\"signal\"] = np.random.random(size=50)\n",
    "'''"
   ]
  },
  {
   "cell_type": "code",
   "execution_count": 5,
   "metadata": {},
   "outputs": [],
   "source": [
    "# function to convert radial data to xy, where target is in south\n",
    "# (north is up (i.e., +y), degrees are E of N (i.e., CCW of +y axis))\n",
    "\n",
    "def convert_rad_xy(canvas_array, PS, rho_asec, theta_deg):\n",
    "    '''\n",
    "    INPUTS:\n",
    "    canvas_array: the array will will plot data on (and which you\n",
    "        probably want to be oversampled)\n",
    "    PS: effective plate scale for the display area (i.e., asec/pixel)\n",
    "    rho: array of radii (in asec)\n",
    "    theta_deg: array of angles E of N (in degrees)\n",
    "    '''\n",
    "    \n",
    "    # find the center of the dummy array; this will be the pivot point\n",
    "    array_center = (int(0.5*np.shape(dummy_array_0)[0]),\n",
    "                    int(0.5*np.shape(dummy_array_0)[1]))\n",
    "    \n",
    "    # find x, y offsets from center in units of display pixels\n",
    "    offset_from_center_x = -np.divide(rho_asec,PS)*np.sin(np.multiply(theta_deg,np.pi/180.))\n",
    "    offset_from_center_y = np.divide(rho_asec,PS)*np.cos(np.multiply(theta_deg,np.pi/180.))\n",
    "    \n",
    "    # find absolute coordinates\n",
    "    y_absolute = np.add(array_center[0],offset_from_center_y)\n",
    "    x_absolute = np.add(array_center[1],offset_from_center_x)\n",
    "    \n",
    "    return y_absolute, x_absolute"
   ]
  },
  {
   "cell_type": "code",
   "execution_count": 6,
   "metadata": {},
   "outputs": [],
   "source": [
    "y_scatter, x_scatter = convert_rad_xy(dummy_array_0, \n",
    "                              PS=pseudo_ps_LMIR, \n",
    "                              rho_asec=noise_data[\"rad_asec\"], \n",
    "                              theta_deg=noise_data[\"angle_deg\"])"
   ]
  },
  {
   "cell_type": "markdown",
   "metadata": {},
   "source": [
    "# Make a scatter plot of points with variable coloration"
   ]
  },
  {
   "cell_type": "code",
   "execution_count": 7,
   "metadata": {},
   "outputs": [
    {
     "data": {
      "image/png": "[encoded data removed]",
      "text/plain": [
       "<Figure size 432x288 with 1 Axes>"
      ]
     },
     "metadata": {
      "needs_background": "light"
     },
     "output_type": "display_data"
    }
   ],
   "source": [
    "plt.scatter(x_scatter, y_scatter, c = noise_data[\"signal\"])\n",
    "#plt.scatter(500,500)\n",
    "plt.ylim([0,np.shape(dummy_array_0)[0]])\n",
    "plt.xlim([0,np.shape(dummy_array_0)[1]])\n",
    "plt.annotate(\"N\", xy=(790,410), xytext=(790,410))\n",
    "plt.annotate(\"E\", xy=(580,190), xytext=(580,190))\n",
    "plt.plot([800,800],[200,400], color=\"k\") # compass rose\n",
    "plt.plot([800,600],[200,200], color=\"k\") # compass rose\n",
    "plt.gca().set_aspect('equal', adjustable='box')\n",
    "plt.show()"
   ]
  },
  {
   "cell_type": "markdown",
   "metadata": {},
   "source": [
    "# Make a contour plot where regions between points are interpolated"
   ]
  },
  {
   "cell_type": "code",
   "execution_count": 8,
   "metadata": {},
   "outputs": [],
   "source": [
    "# make meshgrid\n",
    "\n",
    "x_mgrid_range = np.arange(0,np.shape(dummy_array_0)[1])\n",
    "y_mgrid_range = np.arange(0,np.shape(dummy_array_0)[0])\n",
    "xx, yy = np.meshgrid(x_mgrid_range, y_mgrid_range, sparse=False)"
   ]
  },
  {
   "cell_type": "code",
   "execution_count": 9,
   "metadata": {},
   "outputs": [],
   "source": [
    "# interpolate between the empirical points\n",
    "\n",
    "grid_z0 = griddata(points=np.transpose([x_scatter,y_scatter]), \n",
    "                   values=noise_data[\"signal\"].values, \n",
    "                   xi=(xx, yy), \n",
    "                   method='nearest')"
   ]
  },
  {
   "cell_type": "code",
   "execution_count": 11,
   "metadata": {},
   "outputs": [
    {
     "data": {
      "image/png": "[encoded data removed]",
      "text/plain": [
       "<Figure size 432x288 with 1 Axes>"
      ]
     },
     "metadata": {
      "needs_background": "light"
     },
     "output_type": "display_data"
    }
   ],
   "source": [
    "# 2D plot\n",
    "plt.clf()\n",
    "plt.imshow(grid_z0, origin=\"lower\")\n",
    "\n",
    "# compass rose\n",
    "plt.annotate(\"N\", xy=(790,410), xytext=(790,410))\n",
    "plt.annotate(\"E\", xy=(580,190), xytext=(580,190))\n",
    "plt.plot([800,800],[200,400], color=\"k\")\n",
    "plt.plot([800,600],[200,200], color=\"k\")\n",
    "\n",
    "# overplot points\n",
    "plt.scatter(x_scatter, y_scatter, s = 60, \n",
    "            c = noise_data[\"signal\"], edgecolors=\"w\")\n",
    "\n",
    "# restrict dimensions\n",
    "plt.ylim([0,np.shape(dummy_array_0)[0]])\n",
    "plt.xlim([0,np.shape(dummy_array_0)[1]])\n",
    "plt.gca().set_aspect('equal', adjustable='box')\n",
    "\n",
    "#plt.savefig(\"junk_2d_first_contrast_curve.pdf\")\n",
    "plt.show()"
   ]
  },
  {
   "cell_type": "code",
   "execution_count": null,
   "metadata": {},
   "outputs": [],
   "source": []
  }
 ],
 "metadata": {
  "kernelspec": {
   "display_name": "Python 3",
   "language": "python",
   "name": "python3"
  },
  "language_info": {
   "codemirror_mode": {
    "name": "ipython",
    "version": 3
   },
   "file_extension": ".py",
   "mimetype": "text/x-python",
   "name": "python",
   "nbconvert_exporter": "python",
   "pygments_lexer": "ipython3",
   "version": "3.6.6"
  }
 },
 "nbformat": 4,
 "nbformat_minor": 2
}
