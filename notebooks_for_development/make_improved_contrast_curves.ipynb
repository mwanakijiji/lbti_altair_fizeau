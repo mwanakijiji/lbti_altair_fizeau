{
 "cells": [
  {
   "cell_type": "code",
   "execution_count": null,
   "metadata": {},
   "outputs": [],
   "source": [
    "# This takes amplitudes of fake companions empirically found to be 5-sigma above the noise,\n",
    "# and calculates a correction term by which the input 5-sigma curve has to be multiplied.\n",
    "\n",
    "# Created 2020 Mar 19 by E.S."
   ]
  },
  {
   "cell_type": "code",
   "execution_count": null,
   "metadata": {},
   "outputs": [],
   "source": [
    "# INPUT: list of \n",
    "# 1.) Angular distance from host star (asec)\n",
    "# 2.) Linearly-scaled contrast (i.e., ratio of amplitudes between a fake planet and the host star;\n",
    "#       0.01 means '0.01 of host star amplitude'). These contrasts are those at which a fake planet\n",
    "#       has an amplitude such that the signal-to-noise is 5\n",
    "\n",
    "# OUTPUT: list of\n",
    "# 1.) Angular distance from host star (asec)\n",
    "# 2.) Multiplicative factor"
   ]
  },
  {
   "cell_type": "code",
   "execution_count": null,
   "metadata": {},
   "outputs": [],
   "source": [
    "# Ref: Research journal, 2020 Mar 21"
   ]
  },
  {
   "cell_type": "code",
   "execution_count": 1,
   "metadata": {},
   "outputs": [],
   "source": [
    "import math\n",
    "import numpy as np\n",
    "import pandas as pd\n",
    "import matplotlib.pyplot as plt\n",
    "from scipy.stats import t\n",
    "\n",
    "import matplotlib.pyplot as plt"
   ]
  },
  {
   "cell_type": "code",
   "execution_count": 2,
   "metadata": {},
   "outputs": [],
   "source": [
    "# read in the empirical 5-sigma linearly-scaled contrast, without correction\n",
    "# the input curve, as is, represents the relative amplitude at which TPF=0.5, and nothing else\n",
    "\n",
    "original_contrast_curve = pd.read_csv(\"data/fake_contrast_curve.csv\")"
   ]
  },
  {
   "cell_type": "code",
   "execution_count": 44,
   "metadata": {},
   "outputs": [
    {
     "data": {
      "text/html": [
       "<div>\n",
       "<style scoped>\n",
       "    .dataframe tbody tr th:only-of-type {\n",
       "        vertical-align: middle;\n",
       "    }\n",
       "\n",
       "    .dataframe tbody tr th {\n",
       "        vertical-align: top;\n",
       "    }\n",
       "\n",
       "    .dataframe thead th {\n",
       "        text-align: right;\n",
       "    }\n",
       "</style>\n",
       "<table border=\"1\" class=\"dataframe\">\n",
       "  <thead>\n",
       "    <tr style=\"text-align: right;\">\n",
       "      <th></th>\n",
       "      <th>rad_asec</th>\n",
       "      <th>contrast_lin</th>\n",
       "    </tr>\n",
       "  </thead>\n",
       "  <tbody>\n",
       "    <tr>\n",
       "      <th>0</th>\n",
       "      <td>0.2</td>\n",
       "      <td>0.01000</td>\n",
       "    </tr>\n",
       "    <tr>\n",
       "      <th>1</th>\n",
       "      <td>0.4</td>\n",
       "      <td>0.00800</td>\n",
       "    </tr>\n",
       "    <tr>\n",
       "      <th>2</th>\n",
       "      <td>0.6</td>\n",
       "      <td>0.00400</td>\n",
       "    </tr>\n",
       "    <tr>\n",
       "      <th>3</th>\n",
       "      <td>0.8</td>\n",
       "      <td>0.00350</td>\n",
       "    </tr>\n",
       "    <tr>\n",
       "      <th>4</th>\n",
       "      <td>1.0</td>\n",
       "      <td>0.00090</td>\n",
       "    </tr>\n",
       "    <tr>\n",
       "      <th>5</th>\n",
       "      <td>1.2</td>\n",
       "      <td>0.00020</td>\n",
       "    </tr>\n",
       "    <tr>\n",
       "      <th>6</th>\n",
       "      <td>1.4</td>\n",
       "      <td>0.00018</td>\n",
       "    </tr>\n",
       "    <tr>\n",
       "      <th>7</th>\n",
       "      <td>1.6</td>\n",
       "      <td>0.00016</td>\n",
       "    </tr>\n",
       "    <tr>\n",
       "      <th>8</th>\n",
       "      <td>1.8</td>\n",
       "      <td>0.00014</td>\n",
       "    </tr>\n",
       "  </tbody>\n",
       "</table>\n",
       "</div>"
      ],
      "text/plain": [
       "   rad_asec  contrast_lin\n",
       "0       0.2       0.01000\n",
       "1       0.4       0.00800\n",
       "2       0.6       0.00400\n",
       "3       0.8       0.00350\n",
       "4       1.0       0.00090\n",
       "5       1.2       0.00020\n",
       "6       1.4       0.00018\n",
       "7       1.6       0.00016\n",
       "8       1.8       0.00014"
      ]
     },
     "execution_count": 44,
     "metadata": {},
     "output_type": "execute_result"
    }
   ],
   "source": [
    "original_contrast_curve"
   ]
  },
  {
   "cell_type": "code",
   "execution_count": 4,
   "metadata": {},
   "outputs": [],
   "source": [
    "# Set some initial constants\n",
    "\n",
    "# Note that radii are all in units of FWHM unless explicity\n",
    "# stated otherwise"
   ]
  },
  {
   "cell_type": "markdown",
   "metadata": {},
   "source": [
    "#### $N_{FP}^{(tot)}=0.01$\n",
    "#### $R_{max}=20$"
   ]
  },
  {
   "cell_type": "code",
   "execution_count": 5,
   "metadata": {},
   "outputs": [],
   "source": [
    "N_FP_tot = 0.01\n",
    "R_max = 20"
   ]
  },
  {
   "cell_type": "code",
   "execution_count": 6,
   "metadata": {},
   "outputs": [],
   "source": [
    "# Then at each radius we have a constant number of false positives"
   ]
  },
  {
   "cell_type": "markdown",
   "metadata": {},
   "source": [
    "#### $N_{FP,r}=N_{FP}^{(tot)}/R_{max}$"
   ]
  },
  {
   "cell_type": "code",
   "execution_count": 7,
   "metadata": {},
   "outputs": [],
   "source": [
    "N_FP_r = np.divide(N_FP_tot,R_max)"
   ]
  },
  {
   "cell_type": "code",
   "execution_count": 8,
   "metadata": {},
   "outputs": [
    {
     "name": "stdout",
     "output_type": "stream",
     "text": [
      "N_FP_r:\n",
      "0.0005\n"
     ]
    }
   ],
   "source": [
    "print(\"N_FP_r:\")\n",
    "print(N_FP_r)"
   ]
  },
  {
   "cell_type": "code",
   "execution_count": 9,
   "metadata": {},
   "outputs": [],
   "source": [
    "# And thus the FPF is a function of radius:"
   ]
  },
  {
   "cell_type": "markdown",
   "metadata": {},
   "source": [
    "#### $FPF(r)=\\frac{N_{FP,r}}{2\\pi r}$"
   ]
  },
  {
   "cell_type": "code",
   "execution_count": 10,
   "metadata": {},
   "outputs": [],
   "source": [
    "def FPF_r(N_FP_r_pass,N_fwhm_pass):\n",
    "    '''\n",
    "    INPUTS:\n",
    "    N_FP_r_pass: number of false positives at each radius\n",
    "    #r_fwhm: radius in units of FWHM\n",
    "    N_fwhm_pass: number of FWHM that can fit in an annulus at that radius\n",
    "    \n",
    "    RETURNS:\n",
    "    FPF at that radius\n",
    "    '''\n",
    "    \n",
    "    #return np.divide(N_FP_r_pass,2*np.pi*r_fwhm_pass)\n",
    "    return np.divide(N_FP_r_pass,N_fwhm_pass)"
   ]
  },
  {
   "cell_type": "code",
   "execution_count": 12,
   "metadata": {},
   "outputs": [],
   "source": [
    "# Under the hypothesis H0, the FPF(r) over t-distributed x=F/(s*sqrt(1+(1/n))) where \n",
    "# F is the photometry corresponding to a corrected contrast curve\n",
    "# s is the empirically-found stdev"
   ]
  },
  {
   "cell_type": "markdown",
   "metadata": {},
   "source": [
    "#### $FPF(r)=\\int_{\\tau}^{\\infty}p_{t}(x,n_{2}-1)dx |_{r}$"
   ]
  },
  {
   "cell_type": "code",
   "execution_count": 13,
   "metadata": {},
   "outputs": [],
   "source": [
    "# This means that tau is where the CDF is 1-FPF (DOFs implied):"
   ]
  },
  {
   "cell_type": "markdown",
   "metadata": {},
   "source": [
    "#### $CDF(\\tau)=1-FPF(r)$"
   ]
  },
  {
   "cell_type": "code",
   "execution_count": 14,
   "metadata": {},
   "outputs": [],
   "source": [
    "# To find tau, invert the CDF:"
   ]
  },
  {
   "cell_type": "code",
   "execution_count": null,
   "metadata": {},
   "outputs": [],
   "source": [
    "# $\\frac{\\tau(r)}{\\bar{s}(r)}=C_{st}^{-1}(1-FPF(r)|n-1)$"
   ]
  },
  {
   "cell_type": "code",
   "execution_count": null,
   "metadata": {},
   "outputs": [],
   "source": [
    "#### $\\frac{\\tau(r)}{\\bar{s}(r)}=C_{st}^{-1}(1-FPF(r)|n-1)$"
   ]
  },
  {
   "cell_type": "code",
   "execution_count": 16,
   "metadata": {},
   "outputs": [
    {
     "name": "stdout",
     "output_type": "stream",
     "text": [
      "PPF where FPF=0.5:\n",
      "6.80574793290978e-17\n",
      "PPF where FPF=0.1:\n",
      "-1.3721836411102861\n",
      "Check with CDF (should be 0.1):\n",
      "0.10000000000000742\n"
     ]
    }
   ],
   "source": [
    "# Example CDF inversion:\n",
    "\n",
    "# generate a t-distribution with 10 DOFs\n",
    "df = 10\n",
    "mean, var, skew, kurt = t.stats(df, moments='mvsk')\n",
    "\n",
    "# print the tau/s-bar where the FPF=0.5 (should be zero!)\n",
    "print(\"PPF where FPF=0.5:\")\n",
    "print(t.ppf(0.5, df))\n",
    "\n",
    "# print the tau/s-bar where the FPF=0.1 (should be negative!)\n",
    "# and check it with the cdf\n",
    "print(\"PPF where FPF=0.1:\")\n",
    "tau_0pt1 = t.ppf(0.1, df)\n",
    "print(tau_0pt1)\n",
    "print(\"Check with CDF (should be 0.1):\")\n",
    "print(t.cdf(tau_0pt1, df))"
   ]
  },
  {
   "cell_type": "code",
   "execution_count": 17,
   "metadata": {},
   "outputs": [],
   "source": [
    "# Now, under the hypothesis H1, consider a fixed TPF."
   ]
  },
  {
   "cell_type": "markdown",
   "metadata": {},
   "source": [
    "#### $TPF(r) = \\int_{\\mu_{c}-\\tau}^{\\infty}p_{t}(x,n_{2}-1)dx |_{r}$"
   ]
  },
  {
   "cell_type": "code",
   "execution_count": 18,
   "metadata": {},
   "outputs": [],
   "source": [
    "# Inverting, rearranging, and substituting in the expression for the inverted CDF, we have"
   ]
  },
  {
   "cell_type": "markdown",
   "metadata": {},
   "source": [
    "#### $\\frac{\\mu_{c}(r)}{\\bar{s}(r)} = C_{st}^{-1}(1-FPF(r)|n-1) + C_{st}^{-1}(TPF|n-1)$"
   ]
  },
  {
   "cell_type": "code",
   "execution_count": 19,
   "metadata": {},
   "outputs": [],
   "source": [
    "# The fake injected planets are of amplitude N*sbar,\n",
    "# so just divide those amplitudes by N (which is probably 5).\n",
    "\n",
    "# The contrast level 'corrected' for small angles is then "
   ]
  },
  {
   "cell_type": "markdown",
   "metadata": {},
   "source": [
    "#### $\\mu_{c}(r) = \\bar{s}(r)\\left[C_{st}^{-1}(1-FPF(r)|n-1) + C_{st}^{-1}(TPF|n-1)\\right]$"
   ]
  },
  {
   "cell_type": "code",
   "execution_count": 20,
   "metadata": {},
   "outputs": [],
   "source": [
    "# Make a function out of this:"
   ]
  },
  {
   "cell_type": "code",
   "execution_count": 52,
   "metadata": {},
   "outputs": [],
   "source": [
    "def mu_c_5sig(sbar_and_r_asec_pass,TPF_pass=0.95):\n",
    "    '''\n",
    "    INPUTS:\n",
    "    sbar_and_r_asec_pass: pandas dataframe with\n",
    "        [\"contrast_lin\"]: linear empirical contrast, or the 's-bar' (implied TPF=0.5 but says nothing else)\n",
    "        [\"rad_asec\"]: radius from host star in arcsec\n",
    "    TPF_pass: the fixed true positive fraction (default 0.95)\n",
    "    \n",
    "    OUTPUTS:\n",
    "    correction_factor: the factor by which to multiply the input 1-sigma contrast curve\n",
    "    corrected_curve: the actual corrected '5-sigma' curve, found by using the correction factor\n",
    "    '''\n",
    "\n",
    "    # initialize a dataframe\n",
    "    df_corrxn = sbar_and_r_asec_pass.copy(deep=True)\n",
    "    df_corrxn[\"mu_c_r_5sig\"] = np.nan\n",
    "    df_corrxn[\"corrxn_factor\"] = np.nan\n",
    "    df_corrxn[\"FPF_r\"] = np.nan\n",
    "    # some info in the style of Table 1 in Mawet+ 2014 ApJ 792\n",
    "    df_corrxn[\"mu_c_minus_tau\"] = np.nan \n",
    "    df_corrxn[\"tau_5_sigma\"] = np.nan \n",
    "    df_corrxn[\"tau_3_sigma\"] = np.nan \n",
    "    \n",
    "    # find the radii in units of lambda/D FWHM\n",
    "    # (note FWHM=1.028*lambda/D=(1.028)*(9.463pix)=9.728 pix)\n",
    "    df_corrxn[\"rad_fwhm\"] = np.divide(np.divide(df_corrxn[\"rad_asec\"],0.0107),9.728)\n",
    "    print(df_corrxn)\n",
    "    \n",
    "    # for each radius, regenerate a noise parent population\n",
    "    for rad_num in range(0,len(df_corrxn[\"rad_fwhm\"])):\n",
    "    \n",
    "        # generate a t-distribution at that radius with DOF_r=rad_fwhm_r-2 because the \n",
    "        # point where the fake planet is located is removed, and 1 is subtracted from\n",
    "        # those which remain\n",
    "        \n",
    "        # number of whole-number FWHM that can fit in an annulus at that radius\n",
    "        # (it needs to be the whole-number floor because of how the Altair \n",
    "        # pipeline samples the noise)\n",
    "        N_FWHM_fit = math.floor(np.multiply(2*np.pi,df_corrxn[\"rad_fwhm\"][rad_num]))\n",
    "        dof = N_FWHM_fit-2 # degrees of freedom\n",
    "        \n",
    "        # generate a t-distribution for that radius\n",
    "        mean, var, skew, kurt = t.stats(dof, moments='mvsk')\n",
    "    \n",
    "        # calculate the FPF at that radius\n",
    "        FPF_this_r = FPF_r(N_FP_r_pass=N_FP_r,\n",
    "                           N_fwhm_pass=N_FWHM_fit)\n",
    "    \n",
    "        # calculate the first and second Cst^-1 terms in the square brackets\n",
    "        ppf_1st = t.ppf(1-FPF_this_r, dof)\n",
    "        ppf_2nd = t.ppf(TPF_pass, dof)\n",
    "    \n",
    "        # find the correction factor\n",
    "        corrxn_factor = (ppf_1st+ppf_2nd)\n",
    "    \n",
    "        # and multiply everything with 5*s-bar to get a corrected '5-sigma' curve\n",
    "        # (note the input contrast_lin is being divided by 5 since the input is '5-sigma')\n",
    "        print(df_corrxn.keys())\n",
    "        mu_c_r_5sig = 5.*np.multiply(np.divide(df_corrxn[\"contrast_lin\"].iloc[rad_num],5.),corrxn_factor)        \n",
    "        df_corrxn.at[rad_num,\"mu_c_r_5sig\"] = mu_c_r_5sig\n",
    "        df_corrxn.at[rad_num,\"corrxn_factor\"] = corrxn_factor\n",
    "        df_corrxn.at[rad_num,\"FPF_r\"] = FPF_this_r\n",
    "        #df_corrxn[\"mu_c_r_5sig\"][rad_num] = mu_c_r_5sig\n",
    "        #df_corrxn[\"corrxn_factor\"][rad_num] = corrxn_factor\n",
    "\n",
    "    # just to make things clearer\n",
    "    df_corrxn = df_corrxn.rename(columns={\"contrast_lin\": \"original_contrast_lim\"}) \n",
    "    \n",
    "    # return the completed dataframe\n",
    "    return df_corrxn"
   ]
  },
  {
   "cell_type": "code",
   "execution_count": 53,
   "metadata": {},
   "outputs": [],
   "source": [
    "# test with some plots\n",
    "# (note the input contrast curve has to be divided by 5 first)"
   ]
  },
  {
   "cell_type": "code",
   "execution_count": 57,
   "metadata": {},
   "outputs": [
    {
     "name": "stdout",
     "output_type": "stream",
     "text": [
      "   rad_asec  contrast_lin  mu_c_r_5sig  corrxn_factor   rad_fwhm\n",
      "0       0.2       0.01000          NaN            NaN   1.921422\n",
      "1       0.4       0.00800          NaN            NaN   3.842843\n",
      "2       0.6       0.00400          NaN            NaN   5.764265\n",
      "3       0.8       0.00350          NaN            NaN   7.685686\n",
      "4       1.0       0.00090          NaN            NaN   9.607108\n",
      "5       1.2       0.00020          NaN            NaN  11.528529\n",
      "6       1.4       0.00018          NaN            NaN  13.449951\n",
      "7       1.6       0.00016          NaN            NaN  15.371372\n",
      "8       1.8       0.00014          NaN            NaN  17.292794\n",
      "Index(['rad_asec', 'contrast_lin', 'mu_c_r_5sig', 'corrxn_factor', 'rad_fwhm'], dtype='object')\n",
      "Index(['rad_asec', 'contrast_lin', 'mu_c_r_5sig', 'corrxn_factor', 'rad_fwhm'], dtype='object')\n",
      "Index(['rad_asec', 'contrast_lin', 'mu_c_r_5sig', 'corrxn_factor', 'rad_fwhm'], dtype='object')\n",
      "Index(['rad_asec', 'contrast_lin', 'mu_c_r_5sig', 'corrxn_factor', 'rad_fwhm'], dtype='object')\n",
      "Index(['rad_asec', 'contrast_lin', 'mu_c_r_5sig', 'corrxn_factor', 'rad_fwhm'], dtype='object')\n",
      "Index(['rad_asec', 'contrast_lin', 'mu_c_r_5sig', 'corrxn_factor', 'rad_fwhm'], dtype='object')\n",
      "Index(['rad_asec', 'contrast_lin', 'mu_c_r_5sig', 'corrxn_factor', 'rad_fwhm'], dtype='object')\n",
      "Index(['rad_asec', 'contrast_lin', 'mu_c_r_5sig', 'corrxn_factor', 'rad_fwhm'], dtype='object')\n",
      "Index(['rad_asec', 'contrast_lin', 'mu_c_r_5sig', 'corrxn_factor', 'rad_fwhm'], dtype='object')\n"
     ]
    }
   ],
   "source": [
    "test_df = mu_c_5sig(sbar_and_r_asec_pass=original_contrast_curve,\n",
    "                    TPF_pass=0.95)"
   ]
  },
  {
   "cell_type": "code",
   "execution_count": 58,
   "metadata": {},
   "outputs": [
    {
     "data": {
      "text/html": [
       "<div>\n",
       "<style scoped>\n",
       "    .dataframe tbody tr th:only-of-type {\n",
       "        vertical-align: middle;\n",
       "    }\n",
       "\n",
       "    .dataframe tbody tr th {\n",
       "        vertical-align: top;\n",
       "    }\n",
       "\n",
       "    .dataframe thead th {\n",
       "        text-align: right;\n",
       "    }\n",
       "</style>\n",
       "<table border=\"1\" class=\"dataframe\">\n",
       "  <thead>\n",
       "    <tr style=\"text-align: right;\">\n",
       "      <th></th>\n",
       "      <th>rad_asec</th>\n",
       "      <th>original_contrast_lim</th>\n",
       "      <th>mu_c_r_5sig</th>\n",
       "      <th>corrxn_factor</th>\n",
       "      <th>rad_fwhm</th>\n",
       "    </tr>\n",
       "  </thead>\n",
       "  <tbody>\n",
       "    <tr>\n",
       "      <th>0</th>\n",
       "      <td>0.2</td>\n",
       "      <td>0.01000</td>\n",
       "      <td>0.081642</td>\n",
       "      <td>8.164180</td>\n",
       "      <td>1.921422</td>\n",
       "    </tr>\n",
       "    <tr>\n",
       "      <th>1</th>\n",
       "      <td>0.4</td>\n",
       "      <td>0.00800</td>\n",
       "      <td>0.054513</td>\n",
       "      <td>6.814161</td>\n",
       "      <td>3.842843</td>\n",
       "    </tr>\n",
       "    <tr>\n",
       "      <th>2</th>\n",
       "      <td>0.6</td>\n",
       "      <td>0.00400</td>\n",
       "      <td>0.026118</td>\n",
       "      <td>6.529586</td>\n",
       "      <td>5.764265</td>\n",
       "    </tr>\n",
       "    <tr>\n",
       "      <th>3</th>\n",
       "      <td>0.8</td>\n",
       "      <td>0.00350</td>\n",
       "      <td>0.022470</td>\n",
       "      <td>6.419875</td>\n",
       "      <td>7.685686</td>\n",
       "    </tr>\n",
       "    <tr>\n",
       "      <th>4</th>\n",
       "      <td>1.0</td>\n",
       "      <td>0.00090</td>\n",
       "      <td>0.005731</td>\n",
       "      <td>6.367987</td>\n",
       "      <td>9.607108</td>\n",
       "    </tr>\n",
       "    <tr>\n",
       "      <th>5</th>\n",
       "      <td>1.2</td>\n",
       "      <td>0.00020</td>\n",
       "      <td>0.001268</td>\n",
       "      <td>6.341354</td>\n",
       "      <td>11.528529</td>\n",
       "    </tr>\n",
       "    <tr>\n",
       "      <th>6</th>\n",
       "      <td>1.4</td>\n",
       "      <td>0.00018</td>\n",
       "      <td>0.001139</td>\n",
       "      <td>6.327575</td>\n",
       "      <td>13.449951</td>\n",
       "    </tr>\n",
       "    <tr>\n",
       "      <th>7</th>\n",
       "      <td>1.6</td>\n",
       "      <td>0.00016</td>\n",
       "      <td>0.001011</td>\n",
       "      <td>6.320996</td>\n",
       "      <td>15.371372</td>\n",
       "    </tr>\n",
       "    <tr>\n",
       "      <th>8</th>\n",
       "      <td>1.8</td>\n",
       "      <td>0.00014</td>\n",
       "      <td>0.000885</td>\n",
       "      <td>6.318718</td>\n",
       "      <td>17.292794</td>\n",
       "    </tr>\n",
       "  </tbody>\n",
       "</table>\n",
       "</div>"
      ],
      "text/plain": [
       "   rad_asec  original_contrast_lim  mu_c_r_5sig  corrxn_factor   rad_fwhm\n",
       "0       0.2                0.01000     0.081642       8.164180   1.921422\n",
       "1       0.4                0.00800     0.054513       6.814161   3.842843\n",
       "2       0.6                0.00400     0.026118       6.529586   5.764265\n",
       "3       0.8                0.00350     0.022470       6.419875   7.685686\n",
       "4       1.0                0.00090     0.005731       6.367987   9.607108\n",
       "5       1.2                0.00020     0.001268       6.341354  11.528529\n",
       "6       1.4                0.00018     0.001139       6.327575  13.449951\n",
       "7       1.6                0.00016     0.001011       6.320996  15.371372\n",
       "8       1.8                0.00014     0.000885       6.318718  17.292794"
      ]
     },
     "execution_count": 58,
     "metadata": {},
     "output_type": "execute_result"
    }
   ],
   "source": [
    "test_df"
   ]
  },
  {
   "cell_type": "code",
   "execution_count": 59,
   "metadata": {},
   "outputs": [
    {
     "data": {
      "image/png": "[encoded data removed]",
      "text/plain": [
       "<Figure size 864x864 with 2 Axes>"
      ]
     },
     "metadata": {
      "needs_background": "light"
     },
     "output_type": "display_data"
    }
   ],
   "source": [
    "fig, ax = plt.subplots(nrows=2, ncols=1, figsize=(12,12))\n",
    "\n",
    "ax[0].plot(test_df[\"rad_asec\"], test_df[\"original_contrast_lim\"],'r-', lw=5, alpha=0.6, label=\"Original contrast curve\")\n",
    "ax[0].plot(test_df[\"rad_asec\"], test_df[\"mu_c_r_5sig\"],'b-', lw=5, alpha=0.6, label=\"Corrected contrast curve\")\n",
    "ax[1].set_ylabel(\"Contrast curves\")\n",
    "ax[0].legend()\n",
    "\n",
    "ax[1].plot(test_df[\"rad_asec\"], test_df[\"corrxn_factor\"],'g-', lw=5, alpha=0.6, label=\"Correction factor\")\n",
    "ax[1].set_ylabel(\"Correction factor\")\n",
    "ax[1].set_xlabel(\"Radius (asec)\")\n",
    "ax[1].legend()\n",
    "\n",
    "fig.savefig(\"junk.pdf\")"
   ]
  },
  {
   "cell_type": "code",
   "execution_count": null,
   "metadata": {},
   "outputs": [],
   "source": []
  }
 ],
 "metadata": {
  "kernelspec": {
   "display_name": "Python 3",
   "language": "python",
   "name": "python3"
  },
  "language_info": {
   "codemirror_mode": {
    "name": "ipython",
    "version": 3
   },
   "file_extension": ".py",
   "mimetype": "text/x-python",
   "name": "python",
   "nbconvert_exporter": "python",
   "pygments_lexer": "ipython3",
   "version": "3.6.6"
  }
 },
 "nbformat": 4,
 "nbformat_minor": 2
}
