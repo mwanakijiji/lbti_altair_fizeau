{
 "cells": [
  {
   "cell_type": "code",
   "execution_count": null,
   "metadata": {},
   "outputs": [],
   "source": [
    "# This takes amplitudes of fake companions made to be 5-sigma above the noise,\n",
    "# where sigma is the stdev of the smoothed noise annulus at that radius from the host star\n",
    "\n",
    "# Created 2020 Mar 19 by E.S."
   ]
  },
  {
   "cell_type": "code",
   "execution_count": null,
   "metadata": {},
   "outputs": [],
   "source": [
    "# INPUT: list of \n",
    "# 1.) Angular distance from host star (asec)\n",
    "# 2.) Linearly-scaled contrast (i.e., ratio of amplitudes between a fake planet and the host star;\n",
    "#       0.01 means '0.01 of host star amplitude'). These contrasts are those at which a fake planet\n",
    "#       has an amplitude such that the signal-to-noise is 5\n",
    "\n",
    "# OUTPUT: list of\n",
    "# 1.) Angular distance from host star (asec)\n",
    "# 2.) Threshold "
   ]
  },
  {
   "cell_type": "code",
   "execution_count": null,
   "metadata": {},
   "outputs": [],
   "source": [
    "# Ref: Research journal, 2020 Mar 21"
   ]
  },
  {
   "cell_type": "code",
   "execution_count": 1,
   "metadata": {},
   "outputs": [],
   "source": [
    "import numpy as np\n",
    "import pandas as pd\n",
    "import matplotlib.pyplot as plt"
   ]
  },
  {
   "cell_type": "code",
   "execution_count": 2,
   "metadata": {},
   "outputs": [],
   "source": [
    "original_contrast_curve = pd.read_csv(\"data/fake_contrast_curve.csv\")"
   ]
  },
  {
   "cell_type": "code",
   "execution_count": 3,
   "metadata": {},
   "outputs": [],
   "source": [
    "# Set some initial constants\n",
    "\n",
    "# Note that radii are all in units of FWHM unless explicity\n",
    "# stated otherwise"
   ]
  },
  {
   "cell_type": "markdown",
   "metadata": {},
   "source": [
    "#### $N_{FP}^{(tot)}=0.01$\n",
    "#### $R_{max}=20$"
   ]
  },
  {
   "cell_type": "code",
   "execution_count": 4,
   "metadata": {},
   "outputs": [],
   "source": [
    "# Then we have a constant "
   ]
  },
  {
   "cell_type": "markdown",
   "metadata": {},
   "source": [
    "#### $N_{FP}=N_{FP}^{(tot)}/R_{max}$"
   ]
  },
  {
   "cell_type": "code",
   "execution_count": null,
   "metadata": {},
   "outputs": [],
   "source": [
    "# And thus the FPF is a function of radius:"
   ]
  },
  {
   "cell_type": "markdown",
   "metadata": {},
   "source": [
    "#### $FPF(r)=\\frac{N_{FP}}{2\\pi r}$"
   ]
  },
  {
   "cell_type": "code",
   "execution_count": null,
   "metadata": {},
   "outputs": [],
   "source": [
    "# Under the hypothesis H0, the FPF(r) is"
   ]
  },
  {
   "cell_type": "markdown",
   "metadata": {},
   "source": [
    "#### $FPF(r)=\\int_{\\tau}^{\\infty}p_{t}(x,n_{2}-1)dx |_{r}$"
   ]
  },
  {
   "cell_type": "code",
   "execution_count": null,
   "metadata": {},
   "outputs": [],
   "source": [
    "# To find $\\tau$, invert the t-distribution"
   ]
  },
  {
   "cell_type": "markdown",
   "metadata": {},
   "source": [
    "#### $\\frac{\\tau(r)}{\\bar{s}(r)}=C_{st}^{-1}(1-FPF(r)|n-1)$"
   ]
  },
  {
   "cell_type": "code",
   "execution_count": null,
   "metadata": {},
   "outputs": [],
   "source": [
    "# Now, under the hypothesis H1, consider a fixed $TPF$."
   ]
  },
  {
   "cell_type": "markdown",
   "metadata": {},
   "source": [
    "#### $TPF(r) = \\int_{\\mu_{c}-\\tau}^{\\infty}p_{t}(x,n_{2}-1)dx |_{r}$"
   ]
  },
  {
   "cell_type": "code",
   "execution_count": null,
   "metadata": {},
   "outputs": [],
   "source": [
    "# Inverting, rearranging, and substituting, we have"
   ]
  },
  {
   "cell_type": "markdown",
   "metadata": {},
   "source": [
    "#### $\\frac{\\mu_{c}(r)}{\\bar{s}(r)} = C_{st}^{-1}(1-FPF(r)|n-1) + C_{st}^{-1}(TPF|n-1)$"
   ]
  },
  {
   "cell_type": "code",
   "execution_count": null,
   "metadata": {},
   "outputs": [],
   "source": [
    "# The fake injected planets are of amplitude N*sbar,\n",
    "# so just divide those amplitudes by N (which is probably 5).\n",
    "\n",
    "# The contrast level 'corrected' for small angles is then "
   ]
  },
  {
   "cell_type": "markdown",
   "metadata": {},
   "source": [
    "#### $\\mu_{c}(r) = \\bar{s}(r)\\left[C_{st}^{-1}(1-FPF(r)|n-1) + C_{st}^{-1}(TPF|n-1)\\right]$"
   ]
  },
  {
   "cell_type": "code",
   "execution_count": null,
   "metadata": {},
   "outputs": [],
   "source": []
  }
 ],
 "metadata": {
  "kernelspec": {
   "display_name": "Python 3",
   "language": "python",
   "name": "python3"
  },
  "language_info": {
   "codemirror_mode": {
    "name": "ipython",
    "version": 3
   },
   "file_extension": ".py",
   "mimetype": "text/x-python",
   "name": "python",
   "nbconvert_exporter": "python",
   "pygments_lexer": "ipython3",
   "version": "3.6.6"
  }
 },
 "nbformat": 4,
 "nbformat_minor": 2
}
