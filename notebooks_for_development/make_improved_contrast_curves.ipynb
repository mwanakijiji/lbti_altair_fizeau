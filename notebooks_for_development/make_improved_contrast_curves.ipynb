{
 "cells": [
  {
   "cell_type": "code",
   "execution_count": null,
   "metadata": {},
   "outputs": [],
   "source": [
    "# This takes amplitudes of fake companions empirically found to be 5-sigma above the noise,\n",
    "# and calculates a correction term by which the input 5-sigma curve has to be multiplied.\n",
    "\n",
    "# Created 2020 Mar 19 by E.S."
   ]
  },
  {
   "cell_type": "code",
   "execution_count": null,
   "metadata": {},
   "outputs": [],
   "source": [
    "# INPUT: list of \n",
    "# 1.) Angular distance from host star (asec)\n",
    "# 2.) Linearly-scaled contrast (i.e., ratio of amplitudes between a fake planet and the host star;\n",
    "#       0.01 means '0.01 of host star amplitude'). These contrasts are those at which a fake planet\n",
    "#       has an amplitude such that the signal-to-noise is 5\n",
    "\n",
    "# OUTPUT: list of\n",
    "# 1.) Angular distance from host star (asec)\n",
    "# 2.) Multiplicative factor"
   ]
  },
  {
   "cell_type": "code",
   "execution_count": null,
   "metadata": {},
   "outputs": [],
   "source": [
    "# Ref: Research journal, 2020 Mar 21"
   ]
  },
  {
   "cell_type": "code",
   "execution_count": 1,
   "metadata": {},
   "outputs": [],
   "source": [
    "import numpy as np\n",
    "import pandas as pd\n",
    "import matplotlib.pyplot as plt\n",
    "from scipy.stats import t\n",
    "\n",
    "import matplotlib.pyplot as plt"
   ]
  },
  {
   "cell_type": "code",
   "execution_count": 32,
   "metadata": {},
   "outputs": [],
   "source": [
    "original_contrast_curve = pd.read_csv(\"data/fake_contrast_curve.csv\")"
   ]
  },
  {
   "cell_type": "code",
   "execution_count": 11,
   "metadata": {},
   "outputs": [],
   "source": [
    "# Set some initial constants\n",
    "\n",
    "# Note that radii are all in units of FWHM unless explicity\n",
    "# stated otherwise"
   ]
  },
  {
   "cell_type": "markdown",
   "metadata": {},
   "source": [
    "#### $N_{FP}^{(tot)}=0.01$\n",
    "#### $R_{max}=20$"
   ]
  },
  {
   "cell_type": "code",
   "execution_count": 4,
   "metadata": {},
   "outputs": [],
   "source": [
    "N_FP_tot = 0.01\n",
    "R_max = 20"
   ]
  },
  {
   "cell_type": "code",
   "execution_count": 5,
   "metadata": {},
   "outputs": [],
   "source": [
    "# Then at each radius we have a constant number of false positives"
   ]
  },
  {
   "cell_type": "markdown",
   "metadata": {},
   "source": [
    "#### $N_{FP}=N_{FP}^{(tot)}/R_{max}$"
   ]
  },
  {
   "cell_type": "code",
   "execution_count": 6,
   "metadata": {},
   "outputs": [],
   "source": [
    "N_FP = np.divide(N_FP_tot,R_max)"
   ]
  },
  {
   "cell_type": "code",
   "execution_count": 7,
   "metadata": {},
   "outputs": [],
   "source": [
    "# And thus the FPF is a function of radius:"
   ]
  },
  {
   "cell_type": "markdown",
   "metadata": {},
   "source": [
    "#### $FPF(r)=\\frac{N_{FP}}{2\\pi r}$"
   ]
  },
  {
   "cell_type": "code",
   "execution_count": 8,
   "metadata": {},
   "outputs": [],
   "source": [
    "def FPF_r(r):\n",
    "    \n",
    "    return np.divide(N_FP,2*np.pi*r)"
   ]
  },
  {
   "cell_type": "code",
   "execution_count": 9,
   "metadata": {},
   "outputs": [],
   "source": [
    "# Under the hypothesis H0, the FPF(r) is"
   ]
  },
  {
   "cell_type": "markdown",
   "metadata": {},
   "source": [
    "#### $FPF(r)=\\int_{\\tau}^{\\infty}p_{t}(x,n_{2}-1)dx |_{r}$"
   ]
  },
  {
   "cell_type": "code",
   "execution_count": 10,
   "metadata": {},
   "outputs": [],
   "source": [
    "# This means that tau is where the CDF is 1-FPF (DOFs implied):"
   ]
  },
  {
   "cell_type": "markdown",
   "metadata": {},
   "source": [
    "#### $CDF(\\tau)=1-FPF(r)$"
   ]
  },
  {
   "cell_type": "code",
   "execution_count": 18,
   "metadata": {},
   "outputs": [],
   "source": [
    "# To find tau, invert the CDF:"
   ]
  },
  {
   "cell_type": "markdown",
   "metadata": {},
   "source": [
    "#### $\\frac{\\tau(r)}{\\bar{s}(r)}=C_{st}^{-1}(1-FPF(r)|n-1)$"
   ]
  },
  {
   "cell_type": "code",
   "execution_count": 30,
   "metadata": {},
   "outputs": [
    {
     "name": "stdout",
     "output_type": "stream",
     "text": [
      "PPF where FPF=0.5:\n",
      "6.80574793290978e-17\n",
      "PPF where FPF=0.1:\n",
      "-1.3721836411102861\n",
      "Check with CDF:\n",
      "0.10000000000000742\n"
     ]
    }
   ],
   "source": [
    "# Example CDF inversion:\n",
    "\n",
    "# generate a t-distribution with 10 DOFs\n",
    "df = 10\n",
    "mean, var, skew, kurt = t.stats(df, moments='mvsk')\n",
    "\n",
    "# print the tau/s-bar where the FPF=0.5 (should be zero!)\n",
    "print(\"PPF where FPF=0.5:\")\n",
    "print(t.ppf(0.5, df))\n",
    "\n",
    "# print the tau/s-bar where the FPF=0.1 (should be negative!)\n",
    "# and check it with the cdf\n",
    "print(\"PPF where FPF=0.1:\")\n",
    "tau_0pt1 = t.ppf(0.1, df)\n",
    "print(tau_0pt1)\n",
    "print(\"Check with CDF:\")\n",
    "print(t.cdf(tau_0pt1, df))"
   ]
  },
  {
   "cell_type": "code",
   "execution_count": null,
   "metadata": {},
   "outputs": [],
   "source": [
    "# Now, under the hypothesis H1, consider a fixed TPF."
   ]
  },
  {
   "cell_type": "markdown",
   "metadata": {},
   "source": [
    "#### $TPF(r) = \\int_{\\mu_{c}-\\tau}^{\\infty}p_{t}(x,n_{2}-1)dx |_{r}$"
   ]
  },
  {
   "cell_type": "code",
   "execution_count": null,
   "metadata": {},
   "outputs": [],
   "source": [
    "# Inverting, rearranging, and substituting in the expression for the inverted CDF, we have"
   ]
  },
  {
   "cell_type": "markdown",
   "metadata": {},
   "source": [
    "#### $\\frac{\\mu_{c}(r)}{\\bar{s}(r)} = C_{st}^{-1}(1-FPF(r)|n-1) + C_{st}^{-1}(TPF|n-1)$"
   ]
  },
  {
   "cell_type": "code",
   "execution_count": null,
   "metadata": {},
   "outputs": [],
   "source": [
    "# The fake injected planets are of amplitude N*sbar,\n",
    "# so just divide those amplitudes by N (which is probably 5).\n",
    "\n",
    "# The contrast level 'corrected' for small angles is then "
   ]
  },
  {
   "cell_type": "markdown",
   "metadata": {},
   "source": [
    "#### $\\mu_{c}(r) = \\bar{s}(r)\\left[C_{st}^{-1}(1-FPF(r)|n-1) + C_{st}^{-1}(TPF|n-1)\\right]$"
   ]
  },
  {
   "cell_type": "code",
   "execution_count": null,
   "metadata": {},
   "outputs": [],
   "source": [
    "# Make a function out of this:"
   ]
  },
  {
   "cell_type": "code",
   "execution_count": 36,
   "metadata": {},
   "outputs": [],
   "source": [
    "def mu_c_5sig(n_pass,sbar_pass,r_pass,TPF_pass):\n",
    "    '''\n",
    "    INPUTS:\n",
    "    n_pass: number of points (DOF = n_pass - 1)\n",
    "    sbar_pass: the empirical fake planet amplitude equivalent to '1-sigma' (note the '1')\n",
    "    r_pass: the radius in FWHM units (which is used to calculate FPF(r))\n",
    "    TPF_pass: the fixed true positive fraction\n",
    "    \n",
    "    OUTPUTS:\n",
    "    correction_factor: the factor by which to multiply the input 1-sigma contrast curve\n",
    "    corrected_curve: the actual corrected '5-sigma' curve, found by using the correction factor\n",
    "    '''\n",
    "    \n",
    "    # generate a t-distribution with DOF=n-1\n",
    "    df = n_pass-1\n",
    "    mean, var, skew, kurt = t.stats(df, moments='mvsk')\n",
    "    \n",
    "    # calculate the FPF\n",
    "    FPF_this_r = FPF_r(r_pass)\n",
    "    \n",
    "    # calculate the first and second Cst^-1 terms in the square brackets\n",
    "    ppf_1st = t.ppf(1-FPF_this_r, df)\n",
    "    ppf_2nd = t.ppf(TPF_pass, df)\n",
    "    \n",
    "    # find the correction factor\n",
    "    corrxn_factor = (ppf_1st+ppf_2nd)\n",
    "    \n",
    "    # and multiply everything with 5*s-bar to get a corrected '5-sigma' curve\n",
    "    mu_c_r_5sig = 5.*np.multiply(sbar_pass,corrxn_factor)\n",
    "    \n",
    "    # initialize a dataframe\n",
    "    dict_corrxn = {\"rad_asec\": r_pass, \n",
    "                   \"corrxn_factor\": corrxn_factor, \n",
    "                   \"original_contrast_lim\": original_contrast_curve[\"contrast_lim\"],\n",
    "                   \"mu_c_r_5sig\": mu_c_r_5sig}\n",
    "    df_corrxn = pd.DataFrame(dict_corrxn)\n",
    "    \n",
    "    return df_corrxn"
   ]
  },
  {
   "cell_type": "code",
   "execution_count": 37,
   "metadata": {},
   "outputs": [],
   "source": [
    "# test with some plots"
   ]
  },
  {
   "cell_type": "code",
   "execution_count": 38,
   "metadata": {},
   "outputs": [],
   "source": [
    "test_df = mu_c_5sig(n_pass=10,\n",
    "                    sbar_pass=original_contrast_curve[\"contrast_lim\"],\n",
    "                    r_pass=original_contrast_curve[\"asec\"],\n",
    "                    TPF_pass=0.95)"
   ]
  },
  {
   "cell_type": "code",
   "execution_count": 39,
   "metadata": {},
   "outputs": [
    {
     "data": {
      "text/html": [
       "<div>\n",
       "<style scoped>\n",
       "    .dataframe tbody tr th:only-of-type {\n",
       "        vertical-align: middle;\n",
       "    }\n",
       "\n",
       "    .dataframe tbody tr th {\n",
       "        vertical-align: top;\n",
       "    }\n",
       "\n",
       "    .dataframe thead th {\n",
       "        text-align: right;\n",
       "    }\n",
       "</style>\n",
       "<table border=\"1\" class=\"dataframe\">\n",
       "  <thead>\n",
       "    <tr style=\"text-align: right;\">\n",
       "      <th></th>\n",
       "      <th>asec</th>\n",
       "      <th>contrast_lim</th>\n",
       "    </tr>\n",
       "  </thead>\n",
       "  <tbody>\n",
       "    <tr>\n",
       "      <th>0</th>\n",
       "      <td>0.2</td>\n",
       "      <td>0.01000</td>\n",
       "    </tr>\n",
       "    <tr>\n",
       "      <th>1</th>\n",
       "      <td>0.4</td>\n",
       "      <td>0.00800</td>\n",
       "    </tr>\n",
       "    <tr>\n",
       "      <th>2</th>\n",
       "      <td>0.6</td>\n",
       "      <td>0.00400</td>\n",
       "    </tr>\n",
       "    <tr>\n",
       "      <th>3</th>\n",
       "      <td>0.8</td>\n",
       "      <td>0.00350</td>\n",
       "    </tr>\n",
       "    <tr>\n",
       "      <th>4</th>\n",
       "      <td>1.0</td>\n",
       "      <td>0.00090</td>\n",
       "    </tr>\n",
       "    <tr>\n",
       "      <th>5</th>\n",
       "      <td>1.2</td>\n",
       "      <td>0.00020</td>\n",
       "    </tr>\n",
       "    <tr>\n",
       "      <th>6</th>\n",
       "      <td>1.4</td>\n",
       "      <td>0.00018</td>\n",
       "    </tr>\n",
       "    <tr>\n",
       "      <th>7</th>\n",
       "      <td>1.6</td>\n",
       "      <td>0.00016</td>\n",
       "    </tr>\n",
       "    <tr>\n",
       "      <th>8</th>\n",
       "      <td>1.8</td>\n",
       "      <td>0.00014</td>\n",
       "    </tr>\n",
       "  </tbody>\n",
       "</table>\n",
       "</div>"
      ],
      "text/plain": [
       "   asec  contrast_lim\n",
       "0   0.2       0.01000\n",
       "1   0.4       0.00800\n",
       "2   0.6       0.00400\n",
       "3   0.8       0.00350\n",
       "4   1.0       0.00090\n",
       "5   1.2       0.00020\n",
       "6   1.4       0.00018\n",
       "7   1.6       0.00016\n",
       "8   1.8       0.00014"
      ]
     },
     "execution_count": 39,
     "metadata": {},
     "output_type": "execute_result"
    }
   ],
   "source": [
    "original_contrast_curve"
   ]
  },
  {
   "cell_type": "code",
   "execution_count": 40,
   "metadata": {},
   "outputs": [
    {
     "data": {
      "text/html": [
       "<div>\n",
       "<style scoped>\n",
       "    .dataframe tbody tr th:only-of-type {\n",
       "        vertical-align: middle;\n",
       "    }\n",
       "\n",
       "    .dataframe tbody tr th {\n",
       "        vertical-align: top;\n",
       "    }\n",
       "\n",
       "    .dataframe thead th {\n",
       "        text-align: right;\n",
       "    }\n",
       "</style>\n",
       "<table border=\"1\" class=\"dataframe\">\n",
       "  <thead>\n",
       "    <tr style=\"text-align: right;\">\n",
       "      <th></th>\n",
       "      <th>rad_asec</th>\n",
       "      <th>corrxn_factor</th>\n",
       "      <th>original_contrast_lim</th>\n",
       "      <th>mu_c_r_5sig</th>\n",
       "    </tr>\n",
       "  </thead>\n",
       "  <tbody>\n",
       "    <tr>\n",
       "      <th>0</th>\n",
       "      <td>0.2</td>\n",
       "      <td>6.779005</td>\n",
       "      <td>0.01000</td>\n",
       "      <td>0.338950</td>\n",
       "    </tr>\n",
       "    <tr>\n",
       "      <th>1</th>\n",
       "      <td>0.4</td>\n",
       "      <td>7.298009</td>\n",
       "      <td>0.00800</td>\n",
       "      <td>0.291920</td>\n",
       "    </tr>\n",
       "    <tr>\n",
       "      <th>2</th>\n",
       "      <td>0.6</td>\n",
       "      <td>7.615535</td>\n",
       "      <td>0.00400</td>\n",
       "      <td>0.152311</td>\n",
       "    </tr>\n",
       "    <tr>\n",
       "      <th>3</th>\n",
       "      <td>0.8</td>\n",
       "      <td>7.847569</td>\n",
       "      <td>0.00350</td>\n",
       "      <td>0.137332</td>\n",
       "    </tr>\n",
       "    <tr>\n",
       "      <th>4</th>\n",
       "      <td>1.0</td>\n",
       "      <td>8.031599</td>\n",
       "      <td>0.00090</td>\n",
       "      <td>0.036142</td>\n",
       "    </tr>\n",
       "    <tr>\n",
       "      <th>5</th>\n",
       "      <td>1.2</td>\n",
       "      <td>8.184685</td>\n",
       "      <td>0.00020</td>\n",
       "      <td>0.008185</td>\n",
       "    </tr>\n",
       "    <tr>\n",
       "      <th>6</th>\n",
       "      <td>1.4</td>\n",
       "      <td>8.316083</td>\n",
       "      <td>0.00018</td>\n",
       "      <td>0.007484</td>\n",
       "    </tr>\n",
       "    <tr>\n",
       "      <th>7</th>\n",
       "      <td>1.6</td>\n",
       "      <td>8.431395</td>\n",
       "      <td>0.00016</td>\n",
       "      <td>0.006745</td>\n",
       "    </tr>\n",
       "    <tr>\n",
       "      <th>8</th>\n",
       "      <td>1.8</td>\n",
       "      <td>8.534279</td>\n",
       "      <td>0.00014</td>\n",
       "      <td>0.005974</td>\n",
       "    </tr>\n",
       "  </tbody>\n",
       "</table>\n",
       "</div>"
      ],
      "text/plain": [
       "   rad_asec  corrxn_factor  original_contrast_lim  mu_c_r_5sig\n",
       "0       0.2       6.779005                0.01000     0.338950\n",
       "1       0.4       7.298009                0.00800     0.291920\n",
       "2       0.6       7.615535                0.00400     0.152311\n",
       "3       0.8       7.847569                0.00350     0.137332\n",
       "4       1.0       8.031599                0.00090     0.036142\n",
       "5       1.2       8.184685                0.00020     0.008185\n",
       "6       1.4       8.316083                0.00018     0.007484\n",
       "7       1.6       8.431395                0.00016     0.006745\n",
       "8       1.8       8.534279                0.00014     0.005974"
      ]
     },
     "execution_count": 40,
     "metadata": {},
     "output_type": "execute_result"
    }
   ],
   "source": [
    "test_df"
   ]
  },
  {
   "cell_type": "code",
   "execution_count": 48,
   "metadata": {},
   "outputs": [
    {
     "data": {
      "text/plain": [
       "<matplotlib.legend.Legend at 0x1a21ad2e80>"
      ]
     },
     "execution_count": 48,
     "metadata": {},
     "output_type": "execute_result"
    },
    {
     "data": {
      "image/png": "[encoded data removed]",
      "text/plain": [
       "<Figure size 864x864 with 2 Axes>"
      ]
     },
     "metadata": {
      "needs_background": "light"
     },
     "output_type": "display_data"
    }
   ],
   "source": [
    "fig, ax = plt.subplots(nrows=2, ncols=1, figsize=(12,12))\n",
    "\n",
    "ax[0].plot(test_df[\"rad_asec\"], test_df[\"original_contrast_lim\"],'r-', lw=5, alpha=0.6, label=\"Original contrast curve\")\n",
    "ax[0].plot(test_df[\"rad_asec\"], test_df[\"mu_c_r_5sig\"],'b-', lw=5, alpha=0.6, label=\"Corrected contrast curve\")\n",
    "ax[1].set_ylabel(\"Contrast curves\")\n",
    "ax[0].legend()\n",
    "\n",
    "ax[1].plot(test_df[\"rad_asec\"], test_df[\"corrxn_factor\"],'g-', lw=5, alpha=0.6, label=\"Correction factor\")\n",
    "ax[1].set_ylabel(\"Correction factor\")\n",
    "ax[1].set_xlabel(\"Radius (asec)\")\n",
    "ax[1].legend()"
   ]
  },
  {
   "cell_type": "code",
   "execution_count": null,
   "metadata": {},
   "outputs": [],
   "source": []
  }
 ],
 "metadata": {
  "kernelspec": {
   "display_name": "Python 3",
   "language": "python",
   "name": "python3"
  },
  "language_info": {
   "codemirror_mode": {
    "name": "ipython",
    "version": 3
   },
   "file_extension": ".py",
   "mimetype": "text/x-python",
   "name": "python",
   "nbconvert_exporter": "python",
   "pygments_lexer": "ipython3",
   "version": "3.6.6"
  }
 },
 "nbformat": 4,
 "nbformat_minor": 2
}
