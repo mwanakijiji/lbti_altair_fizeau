{
 "cells": [
  {
   "cell_type": "code",
   "execution_count": null,
   "metadata": {
    "collapsed": true
   },
   "outputs": [],
   "source": [
    "# This does PCA background subtraction of the AC Her data"
   ]
  },
  {
   "cell_type": "code",
   "execution_count": 1,
   "metadata": {},
   "outputs": [],
   "source": [
    "from modules import *\n",
    "import numpy as np\n",
    "import matplotlib.pyplot as plt\n",
    "import scipy\n",
    "from astropy.io import fits\n",
    "import pandas as pd\n",
    "from datetime import datetime\n",
    "import os\n",
    "import sklearn\n",
    "from sklearn.decomposition import PCA\n",
    "from sklearn.decomposition import RandomizedPCA\n",
    "import time\n",
    "%matplotlib inline\n",
    "#%matplotlib qt"
   ]
  },
  {
   "cell_type": "code",
   "execution_count": 2,
   "metadata": {
    "collapsed": true
   },
   "outputs": [],
   "source": [
    "# stem \n",
    "\n",
    "stem = ('/home/../../media/unasemaje/Elements/lbti_data_reduction/180507_fizeau_altair/01_fix_pixed/second_attempt/')"
   ]
  },
  {
   "cell_type": "markdown",
   "metadata": {},
   "source": [
    "# FCN: MAKE PCA BASIS FROM TRAINING SET \n",
    "# OF BACKGROUND FRAMES"
   ]
  },
  {
   "cell_type": "code",
   "execution_count": 3,
   "metadata": {},
   "outputs": [],
   "source": [
    "def make_pca_basis_cube_from_readouts(stem,startFrame,endFrame,quadChoice,indivChannel=False):\n",
    "    '''\n",
    "    INPUTS\n",
    "    stem: filename stem for data\n",
    "    startFrame: the first frame of the training set\n",
    "    endFrame: the last frame of the training set\n",
    "    quadchoice: the quadrant of the array we are interested in making a background for\n",
    "    indivChannel: do you want to append PCA components that involve individual channel pedestals?\n",
    "    \n",
    "    OUTPUTS\n",
    "    (none; FITS files are written out)\n",
    "    '''\n",
    "\n",
    "    # loop through each training set image and add it to a cube (endFrame is inclusive)\n",
    "    print('Putting training frames into cube...')\n",
    "    test_cube = np.nan*np.ones((endFrame-startFrame+1,511,2048), dtype = np.int64)\n",
    "    \n",
    "    mask_weird = make_first_pass_mask(quadChoice) # make the right mask\n",
    "    \n",
    "    for framenum in range(startFrame,endFrame+1): #endFrame+1): # 83, 67108\n",
    "            \n",
    "        # classically background-subtracted frames\n",
    "        ##img_string = stem+'../02_background_subted/02a_subtraction_of_nod_off_median/'+'lm_180524_'+str(\"{:0>6d}\".format(framenum))+'_02_02a.fits'\n",
    "\n",
    "        # raw data (except that readout glitch correction has been done)\n",
    "        img_string = stem+'lm_180507_'+str(\"{:0>6d}\".format(framenum))+'.fits'\n",
    "    \n",
    "        # if FITS file exists in the first place\n",
    "        if ((np.mod(framenum,1) == 0) & os.path.isfile(img_string)): \n",
    "            \n",
    "            # read in image\n",
    "            sciImg, header = fits.getdata(img_string,0,header=True)\n",
    "        \n",
    "            # mask weird parts of the readouts\n",
    "            sciImg = np.multiply(sciImg,mask_weird)\n",
    "        \n",
    "            # add to cube\n",
    "            test_cube[framenum-startFrame,:,:] = sciImg\n",
    "            \n",
    "        else:\n",
    "            \n",
    "            print('Hang on-- frame '+img_string+' not found!')\n",
    "    \n",
    "    # mask the raw training set\n",
    "    test_cube = np.multiply(test_cube,mask_weird)\n",
    "    \n",
    "    # at this point, test_cube holds the (masked) background frames to be used as a training set\n",
    "            \n",
    "    # find the 2D median across all background arrays, and subtract it from each individual background array\n",
    "    median_2d_bckgrd = np.nanmedian(test_cube, axis=0)    \n",
    "    for t in range(0,endFrame-startFrame+1):\n",
    "        test_cube[t,:,:] = np.subtract(test_cube[t,:,:],median_2d_bckgrd)         \n",
    "\n",
    "    # at this point, test_cube holds the background frames which are dark- and 2D median-subtracted \n",
    "\n",
    "    # subtract the median from each individual background array (after it has been masked)\n",
    "    for t in range(0,endFrame-startFrame+1):\n",
    "        masked_slice = np.multiply(test_cube[t,:,:],mask_weird) # removes weird detector regions\n",
    "        const_median = np.nanmedian(masked_slice)\n",
    "        test_cube[t,:,:] = np.subtract(test_cube[t,:,:],const_median)   \n",
    "        \n",
    "    # at this point, test_cube holds the background frames which have had each frame's median value subtracted\n",
    "        \n",
    "    # remove a channel median from each channel in the science frame, since the  \n",
    "    # channel pedestals will get taken out by the PCA components which are appended to the PCA\n",
    "    # cube further below\n",
    "    if indivChannel:\n",
    "        print('Removing channel pedestals...')\n",
    "        for slicenum in range(0,endFrame-startFrame+1): # loop over each slice\n",
    "            for chNum in range(0,64): # loop over each channel in that slice\n",
    "                test_cube[slicenum,:,chNum*64:(chNum+1)*64] = np.subtract(test_cube[slicenum,:,chNum*64:(chNum+1)*64],np.nanmedian(test_cube[slicenum,:,chNum*64:(chNum+1)*64]))\n",
    "    \n",
    "    # flatten each individual frame into a 1D array\n",
    "    print('Flattening the training cube...')\n",
    "    test_cube_1_1ds = np.reshape(test_cube,(np.shape(test_cube)[0],np.shape(test_cube)[1]*np.shape(test_cube)[2])) \n",
    "        \n",
    "    ## carefully remove nans before doing PCA\n",
    "    \n",
    "    # indices of finite elements over a single flattened frame\n",
    "    idx = np.isfinite(test_cube_1_1ds[0,:])\n",
    "        \n",
    "    # reconstitute only the finite elements together in another PCA cube of 1D slices\n",
    "    training_set_1ds_noNaN = np.nan*np.ones((len(test_cube_1_1ds[:,0]),np.sum(idx))) # initialize array with slices the length of number of finite elements\n",
    "    for t in range(0,len(test_cube_1_1ds[:,0])): # for each PCA component, populate the arrays without nans with the finite elements\n",
    "        training_set_1ds_noNaN[t,:] = test_cube_1_1ds[t,idx]\n",
    "    \n",
    "    # do PCA on the flattened `cube' with no NaNs\n",
    "    print('Doing PCA...')\n",
    "    n_PCA = 12 # basis components\n",
    "    #pca = PCA(n_components=n_PCA, svd_solver='randomized') # initialize object\n",
    "    pca = RandomizedPCA(n_PCA) # for Python 2.7 \n",
    "    test_pca = pca.fit(training_set_1ds_noNaN) # calculate PCA basis set\n",
    "    del training_set_1ds_noNaN # clear memory\n",
    "    \n",
    "    # reinsert the NaN values into each 1D slice of the PCA basis set\n",
    "    print('Putting PCA components into cube...')\n",
    "    pca_comp_cube = np.nan*np.ones((n_PCA,511,2048), dtype = np.float32) # initialize a cube of 2D slices\n",
    "    for slicenum in range(0,n_PCA): # for each PCA component, populate the arrays without nans with the finite elements\n",
    "        pca_masked_1dslice_noNaN = np.nan*np.ones((len(test_cube_1_1ds[0,:]))) # initialize a new 1d frame long enough to contain all pixels\n",
    "        pca_masked_1dslice_noNaN[idx] = pca.components_[slicenum] # put the finite elements into the right positions\n",
    "        pca_comp_cube[slicenum,:,:] = pca_masked_1dslice_noNaN.reshape(511,2048).astype(np.float32) # put into the 2D cube\n",
    "\n",
    "    # if I also want PCA slices for representing individual channel pedestal variations,\n",
    "    # append slices representing each channel with ones\n",
    "    extra_file_string = ''\n",
    "    if indivChannel:\n",
    "        \n",
    "        # ... these slices that encode individual channel variations\n",
    "        channels_alone = channels_PCA_cube()\n",
    "        pca_comp_cube = np.concatenate((channels_alone,pca_comp_cube), axis=0)\n",
    "        extra_file_string = '_w_channel_comps' # to add to filenames\n",
    "    \n",
    "    # save cube\n",
    "    print('Saving PCA cube...')\n",
    "    t = time.time()\n",
    "    hdu = fits.PrimaryHDU(pca_comp_cube.astype(np.float32))\n",
    "    del pca_comp_cube # clear memory\n",
    "    hdul = fits.HDUList([hdu])\n",
    "    \n",
    "    \n",
    "    hdul.writeto(stem+'/pca_cubes/background_PCA_hunzikerStyle_seqStart_'\n",
    "                 +str(\"{:0>6d}\".format(startFrame))+'_seqStop_'+str(\"{:0>6d}\".format(endFrame))+extra_file_string+'.fits', \n",
    "                    overwrite=True)\n",
    "    \n",
    "    elapsed = time.time() - t\n",
    "    print(elapsed)\n",
    "    print('PCA cube saved as '+str(\"{:0>6d}\".format(startFrame))+'_seqStop_'+str(\"{:0>6d}\".format(endFrame))+extra_file_string+'.fits')\n",
    "    print('---')\n",
    "    "
   ]
  },
  {
   "cell_type": "code",
   "execution_count": null,
   "metadata": {
    "collapsed": true
   },
   "outputs": [],
   "source": [
    "import ipdb; ipdb.set_trace()"
   ]
  },
  {
   "cell_type": "code",
   "execution_count": 5,
   "metadata": {},
   "outputs": [
    {
     "name": "stdout",
     "output_type": "stream",
     "text": [
      "Putting training frames into cube...\n"
     ]
    },
    {
     "name": "stderr",
     "output_type": "stream",
     "text": [
      "/home/unasemaje/anaconda3/envs/py27/lib/python2.7/site-packages/numpy/lib/nanfunctions.py:739: RuntimeWarning: All-NaN slice encountered\n",
      "  warnings.warn(\"All-NaN slice encountered\", RuntimeWarning)\n"
     ]
    },
    {
     "name": "stdout",
     "output_type": "stream",
     "text": [
      "Removing channel pedestals...\n"
     ]
    },
    {
     "name": "stderr",
     "output_type": "stream",
     "text": [
      "/home/unasemaje/anaconda3/envs/py27/lib/python2.7/site-packages/numpy/lib/nanfunctions.py:689: RuntimeWarning: All-NaN slice encountered\n",
      "  warnings.warn(\"All-NaN slice encountered\", RuntimeWarning)\n",
      "/home/unasemaje/anaconda3/envs/py27/lib/python2.7/site-packages/numpy/lib/nanfunctions.py:675: RuntimeWarning: Mean of empty slice\n",
      "  warnings.warn(\"Mean of empty slice\", RuntimeWarning)\n"
     ]
    },
    {
     "name": "stdout",
     "output_type": "stream",
     "text": [
      "Flattening the training cube...\n",
      "Doing PCA...\n",
      "Putting PCA components into cube...\n",
      "Saving PCA cube...\n",
      "266.82661891\n",
      "PCA cube saved as 005200_seqStop_005212_w_channel_comps.fits\n",
      "---\n"
     ]
    }
   ],
   "source": [
    "# these are in sections, because of memory limitations\n",
    "make_pca_basis_cube_from_readouts(stem, 5200, 5299, 3, indivChannel=True)"
   ]
  },
  {
   "cell_type": "code",
   "execution_count": null,
   "metadata": {
    "collapsed": true
   },
   "outputs": [],
   "source": []
  }
 ],
 "metadata": {
  "kernelspec": {
   "display_name": "Python 2",
   "language": "python",
   "name": "python2"
  },
  "language_info": {
   "codemirror_mode": {
    "name": "ipython",
    "version": 2
   },
   "file_extension": ".py",
   "mimetype": "text/x-python",
   "name": "python",
   "nbconvert_exporter": "python",
   "pygments_lexer": "ipython2",
   "version": "2.7.15"
  }
 },
 "nbformat": 4,
 "nbformat_minor": 1
}
