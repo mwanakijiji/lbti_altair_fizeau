{
 "cells": [
  {
   "cell_type": "code",
   "execution_count": 1,
   "metadata": {
    "collapsed": true
   },
   "outputs": [],
   "source": [
    "# This takes host-star-subtracted frames and plots histograms of the residuals\n",
    "\n",
    "# created 2019 Oct. 5 by E.S."
   ]
  },
  {
   "cell_type": "code",
   "execution_count": 2,
   "metadata": {},
   "outputs": [],
   "source": [
    "import urllib\n",
    "import numpy as np\n",
    "from astropy.io import fits\n",
    "import matplotlib.pyplot as plt"
   ]
  },
  {
   "cell_type": "code",
   "execution_count": 11,
   "metadata": {},
   "outputs": [],
   "source": [
    "# read in \n",
    "\n",
    "img_string0 = \"adi_frame_0.0_0.0_0.0_30elems_old_way.fits\"\n",
    "img_string1 = \"adi_frame_0.0_0.0_0.0_classical_ADI.fits\"\n",
    "img_string2 = \"adi_frame_0.0_0.0_0.0_quad4_mask.fits\"\n",
    "img_string3 = \"adi_frame_0.0_0.0_0.0_quad4_circ_mask.fits\"\n",
    "img_string4 = \"adi_frame_0.0_0.0_0.0_100squares_mask.fits\"\n",
    "img_string5 = \"adi_frame_0.0_0.0_0.0_quad4_circ_ring_mask.fits\"\n",
    "img_string6 = \"adi_frame_0.0_0.0_0.0_full_frame.fits\"\n",
    "img_string7 = \"new_tess_adi_frame_0.0_0.0_0.0.fits\"\n",
    "img_string8 = \"adi_frame_0.0_0.0_0.0_quad4_mask_20191026.fits\"\n",
    "img_string9 = \"adi_frame_0.0_0.0_0.0_quad4_circ_mask_20191026.fits\"\n",
    "img_string10 = \"adi_frame_0.0_0.0_0.0_quad4_circ_ring_mask_20191026.fits\"\n",
    "\n",
    "sciImg0, header = fits.getdata(img_string0,0,header=True)\n",
    "sciImg1, header = fits.getdata(img_string1,0,header=True)\n",
    "sciImg2, header = fits.getdata(img_string2,0,header=True)\n",
    "sciImg3, header = fits.getdata(img_string3,0,header=True)\n",
    "sciImg4, header = fits.getdata(img_string4,0,header=True)\n",
    "sciImg5, header = fits.getdata(img_string5,0,header=True)\n",
    "sciImg6, header = fits.getdata(img_string6,0,header=True)\n",
    "sciImg7, header = fits.getdata(img_string7,0,header=True)\n",
    "sciImg8, header = fits.getdata(img_string8,0,header=True)\n",
    "sciImg9, header = fits.getdata(img_string9,0,header=True)\n",
    "sciImg10, header = fits.getdata(img_string10,0,header=True)"
   ]
  },
  {
   "cell_type": "code",
   "execution_count": 12,
   "metadata": {},
   "outputs": [
    {
     "data": {
      "text/plain": [
       "'\\nbin_edges = 0.25e7*np.linspace(-1,1,num=1000)#edgecolor=\\'black\\', linewidth=1.2\\n\\nplt.hist(sciImg2[np.isfinite(sciImg2)].flatten(), bins=bin_edges, label = \"quad4_mask\")\\nplt.hist(sciImg3[np.isfinite(sciImg3)].flatten(), bins=bin_edges, label = \"quad4_circ_mask\")\\nplt.hist(sciImg5[np.isfinite(sciImg5)].flatten(), bins=bin_edges, label = \"quad4_circ_ring_mask\")\\nplt.hist(sciImg1[np.isfinite(sciImg1)].flatten(), bins=bin_edges, label = \"classical ADI\")\\nplt.hist(sciImg4[np.isfinite(sciImg4)].flatten(), bins=bin_edges, label = \"100squares_mask\")\\nplt.hist(sciImg0[np.isfinite(sciImg0)].flatten(), bins=bin_edges, label = \"full frame PCA\")\\n\\nplt.yscale(\\'log\\', nonposy=\\'clip\\')\\nplt.legend()\\n\\n#plt.xlim([-1e7,1e7])\\nplt.savefig(\"residual_hist.pdf\")\\n#plt.show()\\n'"
      ]
     },
     "execution_count": 12,
     "metadata": {},
     "output_type": "execute_result"
    },
    {
     "data": {
      "text/plain": [
       "<Figure size 432x288 with 0 Axes>"
      ]
     },
     "metadata": {},
     "output_type": "display_data"
    }
   ],
   "source": [
    "# plot and make histogram of counts\n",
    "'''\n",
    "plt.imshow(sciImg0, origin=\"lower\")\n",
    "plt.title(\"Old way (full frame PCA)\\nstd = \" + str(np.nanstd(sciImg0)))\n",
    "plt.colorbar()\n",
    "#plt.savefig(\"sciImg0.png\")\n",
    "plt.show()\n",
    "plt.clf()\n",
    "\n",
    "plt.imshow(sciImg1, origin=\"lower\")\n",
    "plt.title(\"classical ADI\\nstd = \" + str(np.nanstd(sciImg1)))\n",
    "plt.colorbar()\n",
    "#plt.savefig(\"sciImg1.png\")\n",
    "plt.show()\n",
    "plt.clf()\n",
    "\n",
    "plt.imshow(sciImg2, origin=\"lower\")\n",
    "plt.title(\"quad4_mask\\nstd = \" + str(np.nanstd(sciImg2)))\n",
    "plt.colorbar()\n",
    "#plt.savefig(\"sciImg2.png\")\n",
    "plt.show()\n",
    "plt.clf()\n",
    "\n",
    "plt.imshow(sciImg3, origin=\"lower\")\n",
    "plt.title(\"quad4_circ_mask\\nstd = \" + str(np.nanstd(sciImg3)))\n",
    "plt.colorbar()\n",
    "#plt.savefig(\"sciImg3.png\")\n",
    "plt.show()\n",
    "plt.clf()\n",
    "\n",
    "plt.imshow(sciImg4, origin=\"lower\")\n",
    "plt.title(\"100squares_mask\\nstd = \" + str(np.nanstd(sciImg4)))\n",
    "plt.colorbar()\n",
    "#plt.savefig(\"sciImg4.png\")\n",
    "plt.show()\n",
    "plt.clf()\n",
    "\n",
    "plt.imshow(sciImg5, origin=\"lower\")\n",
    "plt.title(\"quad4_circ_ring_mask\\nstd = \" + str(np.nanstd(sciImg5)))\n",
    "plt.colorbar()\n",
    "plt.savefig(\"sciImg5.png\")\n",
    "#plt.show()\n",
    "plt.clf()\n",
    "\n",
    "plt.imshow(sciImg6, origin=\"lower\")\n",
    "plt.title(\"full_frame_mask\\nstd = \" + str(np.nanstd(sciImg6)))\n",
    "plt.colorbar()\n",
    "plt.savefig(\"sciImg6.png\")\n",
    "#plt.show()\n",
    "plt.clf()\n",
    "\n",
    "plt.imshow(sciImg7, origin=\"lower\")\n",
    "plt.title(\"new_tess_adi_frame_0.0_0.0_0.0\\nstd = \" + str(np.nanstd(sciImg7)))\n",
    "plt.colorbar()\n",
    "plt.savefig(\"sciImg7.png\")\n",
    "#plt.show()\n",
    "plt.clf()\n",
    "\n",
    "plt.imshow(sciImg8, origin=\"lower\")\n",
    "plt.title(\"adi_frame_0.0_0.0_0.0_quad4_mask_20191026\\nstd = \" + str(np.nanstd(sciImg8)))\n",
    "plt.colorbar()\n",
    "plt.savefig(\"sciImg8.png\")\n",
    "#plt.show()\n",
    "plt.clf()\n",
    "\n",
    "plt.imshow(sciImg9, origin=\"lower\")\n",
    "plt.title(\"adi_frame_0.0_0.0_0.0_quad4_circ_mask_20191026\\nstd = \" + str(np.nanstd(sciImg9)))\n",
    "plt.colorbar()\n",
    "plt.savefig(\"sciImg9.png\")\n",
    "#plt.show()\n",
    "plt.clf()\n",
    "\n",
    "'''\n",
    "\n",
    "plt.imshow(sciImg10, origin=\"lower\")\n",
    "plt.title(\"adi_frame_0.0_0.0_0.0_quad4_circ_ring_mask_20191026\\nstd = \" + str(np.nanstd(sciImg10)))\n",
    "plt.colorbar()\n",
    "plt.savefig(\"sciImg10.png\")\n",
    "#plt.show()\n",
    "plt.clf()\n",
    "'''\n",
    "bin_edges = 0.25e7*np.linspace(-1,1,num=1000)#edgecolor='black', linewidth=1.2\n",
    "\n",
    "plt.hist(sciImg2[np.isfinite(sciImg2)].flatten(), bins=bin_edges, label = \"quad4_mask\")\n",
    "plt.hist(sciImg3[np.isfinite(sciImg3)].flatten(), bins=bin_edges, label = \"quad4_circ_mask\")\n",
    "plt.hist(sciImg5[np.isfinite(sciImg5)].flatten(), bins=bin_edges, label = \"quad4_circ_ring_mask\")\n",
    "plt.hist(sciImg1[np.isfinite(sciImg1)].flatten(), bins=bin_edges, label = \"classical ADI\")\n",
    "plt.hist(sciImg4[np.isfinite(sciImg4)].flatten(), bins=bin_edges, label = \"100squares_mask\")\n",
    "plt.hist(sciImg0[np.isfinite(sciImg0)].flatten(), bins=bin_edges, label = \"full frame PCA\")\n",
    "\n",
    "plt.yscale('log', nonposy='clip')\n",
    "plt.legend()\n",
    "\n",
    "#plt.xlim([-1e7,1e7])\n",
    "plt.savefig(\"residual_hist.pdf\")\n",
    "#plt.show()\n",
    "'''"
   ]
  },
  {
   "cell_type": "code",
   "execution_count": 15,
   "metadata": {},
   "outputs": [
    {
     "data": {
      "text/plain": [
       "array([nan, nan, nan, ..., nan, nan, nan])"
      ]
     },
     "execution_count": 15,
     "metadata": {},
     "output_type": "execute_result"
    }
   ],
   "source": [
    "sciImg1.flatten()"
   ]
  },
  {
   "cell_type": "code",
   "execution_count": null,
   "metadata": {},
   "outputs": [],
   "source": []
  }
 ],
 "metadata": {
  "kernelspec": {
   "display_name": "Python 3",
   "language": "python",
   "name": "python3"
  },
  "language_info": {
   "codemirror_mode": {
    "name": "ipython",
    "version": 3
   },
   "file_extension": ".py",
   "mimetype": "text/x-python",
   "name": "python",
   "nbconvert_exporter": "python",
   "pygments_lexer": "ipython3",
   "version": "3.6.6"
  }
 },
 "nbformat": 4,
 "nbformat_minor": 2
}
