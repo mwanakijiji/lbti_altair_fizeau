{
 "cells": [
  {
   "cell_type": "code",
   "execution_count": 1,
   "metadata": {
    "collapsed": true
   },
   "outputs": [],
   "source": [
    "# This takes some well-behaved Altair Fizeau frames, derotates them, and takes the median\n",
    "\n",
    "# created 2018 Oct. 14 by E.S."
   ]
  },
  {
   "cell_type": "code",
   "execution_count": 1,
   "metadata": {
    "collapsed": false
   },
   "outputs": [],
   "source": [
    "import urllib\n",
    "import numpy as np\n",
    "import matplotlib.pyplot as plt\n",
    "\n",
    "import PynPoint\n",
    "\n",
    "from PynPoint import Pypeline\n",
    "from PynPoint.IOmodules.FitsReading import FitsReadingModule\n",
    "from PynPoint.IOmodules.FitsWriting import FitsWritingModule\n",
    "from PynPoint.IOmodules.TextReading import ParangReadingModule\n",
    "'''\n",
    "from PynPoint.Util.Multiprocessing import LineProcessingCapsule, \\\n",
    "                                          PcaMultiprocessingCapsule\n",
    "'''\n",
    "from PynPoint.ProcessingModules import PSFpreparationModule, \\\n",
    "                                       PcaPsfSubtractionModule, \\\n",
    "                                       ImageResizing, \\\n",
    "                                       ContrastCurveModule, \\\n",
    "                                       StackingAndSubsampling"
   ]
  },
  {
   "cell_type": "code",
   "execution_count": 2,
   "metadata": {
    "collapsed": false
   },
   "outputs": [
    {
     "name": "stdout",
     "output_type": "stream",
     "text": [
      "Initiating PynPoint... [DONE]\n"
     ]
    }
   ],
   "source": [
    "working_place = \"./pynpoint_experimentation_altair/working_place/\"\n",
    "input_place = \"./pynpoint_experimentation_altair/input_place/escrow/\"\n",
    "output_place = \"./pynpoint_experimentation_altair/output_place/\"\n",
    "\n",
    "#url = urllib.URLopener()\n",
    "#url.retrieve(\"https://people.phys.ethz.ch/~stolkert/BetaPic_NACO_Mp.hdf5\",\n",
    "#             input_place+\"BetaPic_NACO_Mp.hdf5\")\n",
    "\n",
    "pipeline = Pypeline(working_place_in=working_place,\n",
    "                    input_place_in=input_place,\n",
    "                    output_place_in=output_place)\n",
    "\n",
    "# now a *.ini file has been generated (this includes the PIXSCALE), if no pre-existing one was there"
   ]
  },
  {
   "cell_type": "code",
   "execution_count": 3,
   "metadata": {
    "collapsed": true
   },
   "outputs": [],
   "source": [
    "# read in science FITS files\n",
    "\n",
    "read_science = FitsReadingModule(name_in=\"read_science\",\n",
    "                                 input_dir=None,\n",
    "                                 image_tag=\"science\",\n",
    "                                 check=True)\n",
    "\n",
    "pipeline.add_module(read_science)"
   ]
  },
  {
   "cell_type": "code",
   "execution_count": 4,
   "metadata": {
    "collapsed": false
   },
   "outputs": [],
   "source": [
    "# derotate frames and take median across them\n",
    "\n",
    "derotate_frames = StackingAndSubsampling.DerotateAndStackModule(name_in='derotate_stack', \n",
    "                                         image_in_tag='science', \n",
    "                                         image_out_tag='science_derotated', \n",
    "                                         derotate=True, \n",
    "                                         stack=None, \n",
    "                                         extra_rot=0.0)\n",
    "\n",
    "pipeline.add_module(derotate_frames)"
   ]
  },
  {
   "cell_type": "code",
   "execution_count": 5,
   "metadata": {
    "collapsed": false
   },
   "outputs": [],
   "source": [
    "# write out\n",
    "\n",
    "write_test = FitsWritingModule(file_name=\"junk_derotated_cube.fits\",\n",
    "                              name_in=\"write_test\",\n",
    "                              output_dir=output_place,\n",
    "                              data_tag=\"science_derotated\")\n",
    "\n",
    "pipeline.add_module(write_test)"
   ]
  },
  {
   "cell_type": "code",
   "execution_count": 6,
   "metadata": {
    "collapsed": false
   },
   "outputs": [
    {
     "name": "stdout",
     "output_type": "stream",
     "text": [
      "Validating Pypeline... [DONE]\n"
     ]
    },
    {
     "name": "stderr",
     "output_type": "stream",
     "text": [
      "/home/unasemaje/anaconda3/envs/py27/lib/python2.7/site-packages/PynPoint/IOmodules/FitsReading.py:172: UserWarning: Static attribute DIT (=ESO DET DIT) not found in the FITS header.\n",
      "  % (item[0], fitskey))\n",
      "/home/unasemaje/anaconda3/envs/py27/lib/python2.7/site-packages/PynPoint/IOmodules/FitsReading.py:172: UserWarning: Static attribute LATITUDE (=ESO TEL GEOLAT) not found in the FITS header.\n",
      "  % (item[0], fitskey))\n",
      "/home/unasemaje/anaconda3/envs/py27/lib/python2.7/site-packages/PynPoint/IOmodules/FitsReading.py:172: UserWarning: Static attribute LONGITUDE (=ESO TEL GEOLON) not found in the FITS header.\n",
      "  % (item[0], fitskey))\n",
      "/home/unasemaje/anaconda3/envs/py27/lib/python2.7/site-packages/PynPoint/IOmodules/FitsReading.py:207: UserWarning: Non-static attribute EXP_NO (=ESO DET EXP NO) not found in the FITS header.\n",
      "  \"header.\" % (item[0], fitskey))\n",
      "/home/unasemaje/anaconda3/envs/py27/lib/python2.7/site-packages/PynPoint/IOmodules/FitsReading.py:207: UserWarning: Non-static attribute NDIT (=ESO DET NDIT) not found in the FITS header.\n",
      "  \"header.\" % (item[0], fitskey))\n",
      "/home/unasemaje/anaconda3/envs/py27/lib/python2.7/site-packages/PynPoint/IOmodules/FitsReading.py:207: UserWarning: Non-static attribute PARANG_START (=ESO ADA POSANG) not found in the FITS header.\n",
      "  \"header.\" % (item[0], fitskey))\n",
      "/home/unasemaje/anaconda3/envs/py27/lib/python2.7/site-packages/PynPoint/IOmodules/FitsReading.py:207: UserWarning: Non-static attribute PARANG_END (=ESO ADA POSANG END) not found in the FITS header.\n",
      "  \"header.\" % (item[0], fitskey))\n",
      "/home/unasemaje/anaconda3/envs/py27/lib/python2.7/site-packages/PynPoint/IOmodules/FitsReading.py:207: UserWarning: Non-static attribute DITHER_X (=ESO SEQ CUMOFFSETX) not found in the FITS header.\n",
      "  \"header.\" % (item[0], fitskey))\n",
      "/home/unasemaje/anaconda3/envs/py27/lib/python2.7/site-packages/PynPoint/IOmodules/FitsReading.py:207: UserWarning: Non-static attribute DITHER_Y (=ESO SEQ CUMOFFSETY) not found in the FITS header.\n",
      "  \"header.\" % (item[0], fitskey))\n",
      "/home/unasemaje/anaconda3/envs/py27/lib/python2.7/site-packages/PynPoint/IOmodules/FitsReading.py:207: UserWarning: Non-static attribute PUPIL (=ESO ADA PUPILPOS) not found in the FITS header.\n",
      "  \"header.\" % (item[0], fitskey))\n",
      "/home/unasemaje/anaconda3/envs/py27/lib/python2.7/site-packages/PynPoint/IOmodules/FitsReading.py:207: UserWarning: Non-static attribute RA (=RA) not found in the FITS header.\n",
      "  \"header.\" % (item[0], fitskey))\n",
      "/home/unasemaje/anaconda3/envs/py27/lib/python2.7/site-packages/PynPoint/IOmodules/FitsReading.py:207: UserWarning: Non-static attribute DEC (=DEC) not found in the FITS header.\n",
      "  \"header.\" % (item[0], fitskey))\n"
     ]
    },
    {
     "name": "stdout",
     "output_type": "stream",
     "text": [
      "Running FitsReadingModule... [DONE]\n",
      "Running DerotateAndStackModule... [DONE]\n",
      "Running FitsWritingModule... [DONE]\n"
     ]
    }
   ],
   "source": [
    "# run pipeline\n",
    "\n",
    "pipeline.run()"
   ]
  },
  {
   "cell_type": "code",
   "execution_count": 7,
   "metadata": {
    "collapsed": true
   },
   "outputs": [],
   "source": [
    "residuals = pipeline.get_data(\"residuals\")\n",
    "pixscale = pipeline.get_attribute(\"science\", \"PIXSCALE\")\n",
    "contrastdata = pipeline.get_attribute(\"contrast_landscape\")\n",
    "\n",
    "size = pixscale*np.size(residuals, 1)/2."
   ]
  },
  {
   "cell_type": "code",
   "execution_count": 8,
   "metadata": {
    "collapsed": true
   },
   "outputs": [],
   "source": [
    "plt.imshow(residuals[0, ], origin='lower', extent=[size, -size, -size, size])\n",
    "plt.title(\"Altair test\")\n",
    "plt.xlabel('R.A. offset [arcsec]', fontsize=12)\n",
    "plt.ylabel('Dec. offset [arcsec]', fontsize=12)\n",
    "plt.colorbar()\n",
    "#plt.show()\n",
    "plt.savefig(output_place+\"residuals.png\")"
   ]
  },
  {
   "cell_type": "code",
   "execution_count": null,
   "metadata": {
    "collapsed": true
   },
   "outputs": [],
   "source": []
  }
 ],
 "metadata": {
  "kernelspec": {
   "display_name": "Python 2",
   "language": "python",
   "name": "python2"
  },
  "language_info": {
   "codemirror_mode": {
    "name": "ipython",
    "version": 2
   },
   "file_extension": ".py",
   "mimetype": "text/x-python",
   "name": "python",
   "nbconvert_exporter": "python",
   "pygments_lexer": "ipython2",
   "version": "2.7.11"
  }
 },
 "nbformat": 4,
 "nbformat_minor": 2
}
