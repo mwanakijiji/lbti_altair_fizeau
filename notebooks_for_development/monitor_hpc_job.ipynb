{
 "cells": [
  {
   "cell_type": "code",
   "execution_count": null,
   "metadata": {},
   "outputs": [],
   "source": [
    "# This script is to be run on Ocelote login so as to monitor the status of an hpc job\n",
    "\n",
    "# Created 2020 March 27"
   ]
  },
  {
   "cell_type": "code",
   "execution_count": null,
   "metadata": {},
   "outputs": [],
   "source": [
    "## ABANDONED FOR THE MOMENT, AT LEAST"
   ]
  },
  {
   "cell_type": "code",
   "execution_count": 2,
   "metadata": {},
   "outputs": [],
   "source": [
    "import threading\n",
    "import subprocess\n",
    "import time\n",
    "\n",
    "def printit(jobnum):\n",
    "    start_wall_time_open = subprocess.Popen([\"date\",\"+%s\"], stdout=subprocess.PIPE)\n",
    "    start_wall_time = int(start_wall_time_open.communicate()[0])\n",
    "    current_wall_time = start_wall_time\n",
    "\n",
    "    while (current_wall_time < start_wall_time + 2*5):\n",
    "\n",
    "        # get cpu usage\n",
    "        cpupercent_open = subprocess.Popen([\"qstat\",\"-f\",str(jobnum)+\".head1\", \"|\", \"grep\", \"cpupercent\"],\n",
    "                                           stdout=subprocess.PIPE)\n",
    "        cpupercent_string = cpupercent_open.communicate()[0]\n",
    "        print cpupercent_string\n",
    "        cpupercent = cpupercent_string.split(\" \")[-1]\n",
    "        print cpupercent\n",
    "        '''\n",
    "        # append date, date in sec, and cpu usage\n",
    "        append_open = subprocess.Popen([\"echo\",\"stdout=subprocess.PIPE)\n",
    "        '''\n",
    "        # pause for N sec\n",
    "        time.sleep(1)\n",
    "\n",
    "printit(32)"
   ]
  },
  {
   "cell_type": "code",
   "execution_count": null,
   "metadata": {},
   "outputs": [],
   "source": []
  }
 ],
 "metadata": {
  "kernelspec": {
   "display_name": "Python 3",
   "language": "python",
   "name": "python3"
  },
  "language_info": {
   "codemirror_mode": {
    "name": "ipython",
    "version": 3
   },
   "file_extension": ".py",
   "mimetype": "text/x-python",
   "name": "python",
   "nbconvert_exporter": "python",
   "pygments_lexer": "ipython3",
   "version": "3.6.6"
  }
 },
 "nbformat": 4,
 "nbformat_minor": 2
}
