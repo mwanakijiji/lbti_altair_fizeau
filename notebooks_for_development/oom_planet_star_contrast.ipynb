{
 "cells": [
  {
   "cell_type": "code",
   "execution_count": 1,
   "metadata": {},
   "outputs": [],
   "source": [
    "# This calculates order-of-magnitude-accurate planet/star contrasts in\n",
    "# thermal equilibrium\n",
    "\n",
    "# Created 2021 Aug. 24 by E.S."
   ]
  },
  {
   "cell_type": "code",
   "execution_count": 1,
   "metadata": {},
   "outputs": [],
   "source": [
    "import numpy as np"
   ]
  },
  {
   "cell_type": "code",
   "execution_count": 2,
   "metadata": {},
   "outputs": [],
   "source": [
    "from astropy.constants import k_B, h, c\n",
    "from astropy import units as u"
   ]
  },
  {
   "cell_type": "code",
   "execution_count": 30,
   "metadata": {},
   "outputs": [],
   "source": [
    "lambda_obs = 4.05e-6 * u.meter # wavelength of observation (m)\n",
    "R_p = 1. * u.Rjup # radius of planet (R_J)\n",
    "R_star = 9.96 * 1.65 * u.Rjup # radius of star (R_J); (1.65 R_sol) * (9.96 R_J/R_sol)\n",
    "Teff_star = 6850 * u.K # effective temp of star\n",
    "a_orbit = 2. * u.au# semimajor axis\n",
    "\n",
    "f_prime = 0.25 # 1/4: uniform redistribution; 2/3: instant re-emission\n",
    "A_B = 0.3 # Bond albedo"
   ]
  },
  {
   "cell_type": "code",
   "execution_count": 31,
   "metadata": {},
   "outputs": [],
   "source": [
    "def planet_temp(Teff_star_pass,R_star_pass,f_prime_pass,A_B_pass,a_pass):\n",
    "    # finds equilibrium temperature of planet\n",
    "    # Eqn. 3.9 in Seager, split into\n",
    "    # part1 * part2\n",
    "    \n",
    "    # note extra conversion to m to avoid mixed units\n",
    "    part1 = Teff_star_pass*np.sqrt(np.divide(R_star_pass.to(u.m),a_pass.to(u.m)))\n",
    "    part2 = np.power(f_prime_pass*(1.-A_B_pass),0.25)\n",
    "    \n",
    "    Teq_p_pass = part1*part2\n",
    "    \n",
    "    return Teq_p_pass"
   ]
  },
  {
   "cell_type": "code",
   "execution_count": 32,
   "metadata": {},
   "outputs": [],
   "source": [
    "def contrast(wavel_pass,Teff_star_pass,Teq_p_pass,R_star_pass,R_p_pass):\n",
    "    # finds planet/star contrast in thermal equilibrium\n",
    "    # Eqn. 3.41 in Seager, split into\n",
    "    # [part1/part2] * (part3)\n",
    "    \n",
    "    nu = np.divide(c,lambda_obs)\n",
    "    \n",
    "    part1 = np.exp(np.divide(h*nu,k_B*Teff_star))-1\n",
    "    part2 = np.exp(np.divide(h*nu,k_B*Teq_p_pass))-1\n",
    "    part3 = np.divide(np.power(R_p,2),np.power(R_star,2))\n",
    "    \n",
    "    contrast_val = np.divide(part1,part2)*part3\n",
    "    \n",
    "    return contrast_val"
   ]
  },
  {
   "cell_type": "code",
   "execution_count": 33,
   "metadata": {},
   "outputs": [],
   "source": [
    "T_eq_found = planet_temp(Teff_star_pass=Teff_star,\n",
    "                        R_star_pass=R_star,\n",
    "                        f_prime_pass=f_prime,\n",
    "                        A_B_pass=A_B,\n",
    "                        a_pass=a_orbit)"
   ]
  },
  {
   "cell_type": "code",
   "execution_count": 34,
   "metadata": {},
   "outputs": [],
   "source": [
    "contrast_found = contrast(wavel_pass=lambda_obs,\n",
    "                Teff_star_pass=Teff_star,\n",
    "                Teq_p_pass=T_eq_found,\n",
    "                R_star_pass=R_star,\n",
    "                R_p_pass=R_p)"
   ]
  },
  {
   "cell_type": "code",
   "execution_count": 35,
   "metadata": {},
   "outputs": [
    {
     "data": {
      "text/latex": [
       "$6.9777027 \\times 10^{-9} \\; \\mathrm{}$"
      ],
      "text/plain": [
       "<Quantity 6.97770266e-09>"
      ]
     },
     "execution_count": 35,
     "metadata": {},
     "output_type": "execute_result"
    }
   ],
   "source": [
    "print(\"Found contrast: \")\n",
    "print(contrast_found)"
   ]
  }
 ],
 "metadata": {
  "kernelspec": {
   "display_name": "Python 3",
   "language": "python",
   "name": "python3"
  },
  "language_info": {
   "codemirror_mode": {
    "name": "ipython",
    "version": 3
   },
   "file_extension": ".py",
   "mimetype": "text/x-python",
   "name": "python",
   "nbconvert_exporter": "python",
   "pygments_lexer": "ipython3",
   "version": "3.6.10"
  }
 },
 "nbformat": 4,
 "nbformat_minor": 4
}
