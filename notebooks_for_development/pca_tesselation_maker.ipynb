{
 "cells": [
  {
   "cell_type": "code",
   "execution_count": 1,
   "metadata": {},
   "outputs": [],
   "source": [
    "# This makes tesselation patterns for PCA decompositions\n",
    "\n",
    "# created 2019 Oct 26 by E.S."
   ]
  },
  {
   "cell_type": "code",
   "execution_count": 31,
   "metadata": {},
   "outputs": [],
   "source": [
    "import numpy as np\n",
    "import numpy.ma as ma\n",
    "import matplotlib.pyplot as plt\n",
    "import scipy\n",
    "import pandas as pd\n",
    "from scipy import ndimage\n",
    "from astropy.io import fits\n",
    "from matplotlib.colors import LogNorm\n",
    "import matplotlib.colors as colors\n",
    "import matplotlib.cm as cmx\n",
    "\n",
    "#%matplotlib inline\n",
    "%matplotlib qt"
   ]
  },
  {
   "cell_type": "code",
   "execution_count": 2,
   "metadata": {},
   "outputs": [],
   "source": [
    "lmir_PS = 0.0107 # LMIR plate scale (asec per pixel)"
   ]
  },
  {
   "cell_type": "code",
   "execution_count": 3,
   "metadata": {},
   "outputs": [],
   "source": [
    "# Airy ring positions in lambda/D\n",
    "\n",
    "first_dark = 1.220\n",
    "second_dark = 2.233\n",
    "third_dark = 3.238\n",
    "fourth_dark = 4.241\n",
    "fifth_dark = 5.243\n",
    "\n",
    "first_bright = 1.635\n",
    "second_bright = 2.679\n",
    "third_bright = 3.69\n",
    "fourth_bright = 4.71\n",
    "fifth_bright = 5.71"
   ]
  },
  {
   "cell_type": "code",
   "execution_count": 4,
   "metadata": {},
   "outputs": [],
   "source": [
    "lambda_over_D_pix = np.divide(4.05e-6,8.25)*(206264.8/lmir_PS)"
   ]
  },
  {
   "cell_type": "code",
   "execution_count": 5,
   "metadata": {},
   "outputs": [],
   "source": [
    "# Airy ring positions in pix\n",
    "\n",
    "first_dark_pix = np.multiply(1.220,lambda_over_D_pix)\n",
    "second_dark_pix = np.multiply(2.233,lambda_over_D_pix)\n",
    "third_dark_pix = np.multiply(3.238,lambda_over_D_pix)\n",
    "fourth_dark_pix = np.multiply(4.241,lambda_over_D_pix)\n",
    "fifth_dark_pix = np.multiply(5.243,lambda_over_D_pix)\n",
    "\n",
    "first_bright_pix = np.multiply(1.635,lambda_over_D_pix)\n",
    "second_bright_pix = np.multiply(2.679,lambda_over_D_pix)\n",
    "third_bright_pix = np.multiply(3.69,lambda_over_D_pix)\n",
    "fourth_bright_pix = np.multiply(4.71,lambda_over_D_pix)\n",
    "fifth_bright_pix = np.multiply(5.71,lambda_over_D_pix)"
   ]
  },
  {
   "cell_type": "code",
   "execution_count": 18,
   "metadata": {},
   "outputs": [
    {
     "data": {
      "text/plain": [
       "11.545220920985555"
      ]
     },
     "execution_count": 18,
     "metadata": {},
     "output_type": "execute_result"
    }
   ],
   "source": [
    "first_dark_pix"
   ]
  },
  {
   "cell_type": "code",
   "execution_count": 13,
   "metadata": {},
   "outputs": [
    {
     "data": {
      "text/plain": [
       "30.642151919796092"
      ]
     },
     "execution_count": 13,
     "metadata": {},
     "output_type": "execute_result"
    }
   ],
   "source": [
    "third_dark_pix"
   ]
  },
  {
   "cell_type": "code",
   "execution_count": 12,
   "metadata": {},
   "outputs": [
    {
     "data": {
      "text/plain": [
       "40.13383764418011"
      ]
     },
     "execution_count": 12,
     "metadata": {},
     "output_type": "execute_result"
    }
   ],
   "source": [
    "fourth_dark_pix"
   ]
  },
  {
   "cell_type": "code",
   "execution_count": 11,
   "metadata": {},
   "outputs": [
    {
     "data": {
      "text/plain": [
       "49.61606007272727"
      ]
     },
     "execution_count": 11,
     "metadata": {},
     "output_type": "execute_result"
    }
   ],
   "source": [
    "fifth_dark_pix"
   ]
  },
  {
   "cell_type": "code",
   "execution_count": 14,
   "metadata": {},
   "outputs": [],
   "source": [
    "# circular mask\n",
    "\n",
    "def create_circular_mask(image, center=None, radius=None):\n",
    "\n",
    "    h, w = np.shape(image)\n",
    "    \n",
    "    if center is None: # use the middle of the image\n",
    "        center = [int(w/2), int(h/2)]\n",
    "    if radius is None: # use the smallest distance between the center and image walls\n",
    "        radius = min(center[0], center[1], w-center[0], h-center[1])\n",
    "\n",
    "    Y, X = np.ogrid[:h, :w]\n",
    "    dist_from_center = np.sqrt((X - center[0])**2 + (Y-center[1])**2)\n",
    "\n",
    "    mask = dist_from_center <= radius\n",
    "    return mask"
   ]
  },
  {
   "cell_type": "code",
   "execution_count": 6,
   "metadata": {},
   "outputs": [],
   "source": [
    "# initialize a grid\n",
    "\n",
    "x = np.arange(0, 406)\n",
    "y = np.arange(0, 406)\n",
    "xv, yv = np.meshgrid(x, y)"
   ]
  },
  {
   "cell_type": "code",
   "execution_count": 7,
   "metadata": {},
   "outputs": [],
   "source": [
    "dummy_frame = np.ones((406,406))"
   ]
  },
  {
   "cell_type": "code",
   "execution_count": 17,
   "metadata": {},
   "outputs": [
    {
     "data": {
      "image/png": "[encoded data removed]",
      "text/plain": [
       "<Figure size 432x288 with 2 Axes>"
      ]
     },
     "metadata": {
      "needs_background": "light"
     },
     "output_type": "display_data"
    }
   ],
   "source": [
    "# make simple circle\n",
    "\n",
    "# initialize a grid\n",
    "x = np.arange(0, 406)\n",
    "y = np.arange(0, 406)\n",
    "xv, yv = np.meshgrid(x, y)\n",
    "\n",
    "mask_circle = create_circular_mask(dummy_frame, radius = 28)\n",
    "\n",
    "# turn to integers\n",
    "plt.imshow(mask_circle.astype(int), origin=\"lower\")\n",
    "plt.colorbar()\n",
    "plt.show()\n",
    "\n",
    "# write FITS\n",
    "hdu = fits.PrimaryHDU(mask_circle.astype(int))\n",
    "hdul = fits.HDUList([hdu])\n",
    "#hdul.writeto('mask_100x100_rad028.fits', overwrite=True)"
   ]
  },
  {
   "cell_type": "code",
   "execution_count": 63,
   "metadata": {},
   "outputs": [
    {
     "data": {
      "image/png": "[encoded data removed]",
      "text/plain": [
       "<Figure size 432x288 with 2 Axes>"
      ]
     },
     "metadata": {
      "needs_background": "light"
     },
     "output_type": "display_data"
    }
   ],
   "source": [
    "# more circles\n",
    "\n",
    "# initialize a grid\n",
    "x = np.arange(0, 406)\n",
    "y = np.arange(0, 406)\n",
    "xv, yv = np.meshgrid(x, y)\n",
    "\n",
    "mask_circle = create_circular_mask(dummy_frame, radius = 45)\n",
    "\n",
    "# turn to integers\n",
    "plt.imshow(mask_circle.astype(int), origin=\"lower\")\n",
    "plt.colorbar()\n",
    "plt.show()\n",
    "\n",
    "# write as array\n",
    "mask_circle_045 = np.copy(mask_circle.astype(int))\n",
    "\n",
    "# write FITS\n",
    "#hdu = fits.PrimaryHDU(mask_circle.astype(int))\n",
    "#hdul = fits.HDUList([hdu])\n",
    "#hdul.writeto('mask_100x100_rad_fourth_bright_pix.fits', overwrite=True)"
   ]
  },
  {
   "cell_type": "code",
   "execution_count": 40,
   "metadata": {},
   "outputs": [
    {
     "data": {
      "text/plain": [
       "array([[False, False, False, ..., False, False, False],\n",
       "       [False, False, False, ..., False, False, False],\n",
       "       [False, False, False, ..., False, False, False],\n",
       "       ...,\n",
       "       [False, False, False, ..., False, False, False],\n",
       "       [False, False, False, ..., False, False, False],\n",
       "       [False, False, False, ..., False, False, False]])"
      ]
     },
     "execution_count": 40,
     "metadata": {},
     "output_type": "execute_result"
    }
   ],
   "source": [
    "mask_circle_195"
   ]
  },
  {
   "cell_type": "code",
   "execution_count": 118,
   "metadata": {},
   "outputs": [],
   "source": [
    "ring_185_to_195 = np.subtract(mask_circle_195,mask_circle_185)\n",
    "ring_175_to_185 = np.subtract(mask_circle_185,mask_circle_175)\n",
    "ring_165_to_175 = np.subtract(mask_circle_175,mask_circle_165)\n",
    "ring_155_to_165 = np.subtract(mask_circle_165,mask_circle_155)\n",
    "ring_145_to_155 = np.subtract(mask_circle_155,mask_circle_145)\n",
    "ring_135_to_145 = np.subtract(mask_circle_145,mask_circle_135)\n",
    "ring_125_to_135 = np.subtract(mask_circle_135,mask_circle_125)\n",
    "ring_115_to_125 = np.subtract(mask_circle_125,mask_circle_115)\n",
    "ring_105_to_115 = np.subtract(mask_circle_115,mask_circle_105)\n",
    "ring_095_to_105 = np.subtract(mask_circle_105,mask_circle_095)\n",
    "ring_085_to_095 = np.subtract(mask_circle_095,mask_circle_085)\n",
    "ring_075_to_085 = np.subtract(mask_circle_085,mask_circle_075)\n",
    "ring_065_to_075 = np.subtract(mask_circle_075,mask_circle_065)\n",
    "ring_055_to_065 = np.subtract(mask_circle_065,mask_circle_055)\n",
    "ring_045_to_055 = np.subtract(mask_circle_055,mask_circle_045)\n",
    "ring_045_to_055[idx[0],idx[1]] = 1# add-on of stray pixels\n",
    "square_406x406 = np.subtract(np.ones((406,406)),mask_circle_195)"
   ]
  },
  {
   "cell_type": "code",
   "execution_count": 119,
   "metadata": {},
   "outputs": [],
   "source": [
    "cube_rings = np.nan*np.ones((64,406,406))"
   ]
  },
  {
   "cell_type": "code",
   "execution_count": 120,
   "metadata": {},
   "outputs": [],
   "source": [
    "# put 4 sets (for 4 quadrants of ring images into the cube)\n",
    "\n",
    "cube_rings[0,:,:] = ring_045_to_055\n",
    "cube_rings[1,:,:] = ring_055_to_065\n",
    "cube_rings[2,:,:] = ring_065_to_075\n",
    "cube_rings[3,:,:] = ring_075_to_085\n",
    "cube_rings[4,:,:] = ring_085_to_095\n",
    "cube_rings[5,:,:] = ring_095_to_105\n",
    "cube_rings[6,:,:] = ring_105_to_115\n",
    "cube_rings[7,:,:] = ring_115_to_125\n",
    "cube_rings[8,:,:] = ring_125_to_135\n",
    "cube_rings[9,:,:] = ring_135_to_145\n",
    "cube_rings[10,:,:] = ring_145_to_155\n",
    "cube_rings[11,:,:] = ring_155_to_165\n",
    "cube_rings[12,:,:] = ring_165_to_175\n",
    "cube_rings[13,:,:] = ring_175_to_185\n",
    "cube_rings[14,:,:] = ring_185_to_195\n",
    "cube_rings[15,:,:] = square_406x406\n",
    "\n",
    "cube_rings[16,:,:] = ring_045_to_055\n",
    "cube_rings[17,:,:] = ring_055_to_065\n",
    "cube_rings[18,:,:] = ring_065_to_075\n",
    "cube_rings[19,:,:] = ring_075_to_085\n",
    "cube_rings[20,:,:] = ring_085_to_095\n",
    "cube_rings[21,:,:] = ring_095_to_105\n",
    "cube_rings[22,:,:] = ring_105_to_115\n",
    "cube_rings[23,:,:] = ring_115_to_125\n",
    "cube_rings[24,:,:] = ring_125_to_135\n",
    "cube_rings[25,:,:] = ring_135_to_145\n",
    "cube_rings[26,:,:] = ring_145_to_155\n",
    "cube_rings[27,:,:] = ring_155_to_165\n",
    "cube_rings[28,:,:] = ring_165_to_175\n",
    "cube_rings[29,:,:] = ring_175_to_185\n",
    "cube_rings[30,:,:] = ring_185_to_195\n",
    "cube_rings[31,:,:] = square_406x406\n",
    "\n",
    "cube_rings[32,:,:] = ring_045_to_055\n",
    "cube_rings[33,:,:] = ring_055_to_065\n",
    "cube_rings[34,:,:] = ring_065_to_075\n",
    "cube_rings[35,:,:] = ring_075_to_085\n",
    "cube_rings[36,:,:] = ring_085_to_095\n",
    "cube_rings[37,:,:] = ring_095_to_105\n",
    "cube_rings[38,:,:] = ring_105_to_115\n",
    "cube_rings[39,:,:] = ring_115_to_125\n",
    "cube_rings[40,:,:] = ring_125_to_135\n",
    "cube_rings[41,:,:] = ring_135_to_145\n",
    "cube_rings[42,:,:] = ring_145_to_155\n",
    "cube_rings[43,:,:] = ring_155_to_165\n",
    "cube_rings[44,:,:] = ring_165_to_175\n",
    "cube_rings[45,:,:] = ring_175_to_185\n",
    "cube_rings[46,:,:] = ring_185_to_195\n",
    "cube_rings[47,:,:] = square_406x406\n",
    "\n",
    "cube_rings[48,:,:] = ring_045_to_055\n",
    "cube_rings[49,:,:] = ring_055_to_065\n",
    "cube_rings[50,:,:] = ring_065_to_075\n",
    "cube_rings[51,:,:] = ring_075_to_085\n",
    "cube_rings[52,:,:] = ring_085_to_095\n",
    "cube_rings[53,:,:] = ring_095_to_105\n",
    "cube_rings[54,:,:] = ring_105_to_115\n",
    "cube_rings[55,:,:] = ring_115_to_125\n",
    "cube_rings[56,:,:] = ring_125_to_135\n",
    "cube_rings[57,:,:] = ring_135_to_145\n",
    "cube_rings[58,:,:] = ring_145_to_155\n",
    "cube_rings[59,:,:] = ring_155_to_165\n",
    "cube_rings[60,:,:] = ring_165_to_175\n",
    "cube_rings[61,:,:] = ring_175_to_185\n",
    "cube_rings[62,:,:] = ring_185_to_195\n",
    "cube_rings[63,:,:] = square_406x406"
   ]
  },
  {
   "cell_type": "code",
   "execution_count": 121,
   "metadata": {},
   "outputs": [],
   "source": [
    "# quadrant 1\n",
    "cube_rings[0:16,:203,:] = 0\n",
    "cube_rings[0:16,:,:203] = 0\n",
    "\n",
    "idx\n",
    "\n",
    "# quadrant 2\n",
    "cube_rings[48:,:203,:] = 0\n",
    "cube_rings[48:,:,203:] = 0\n",
    "\n",
    "# quadrant 3\n",
    "cube_rings[32:48,203:,:] = 0\n",
    "cube_rings[32:48,:,203:] = 0\n",
    "\n",
    "# quadrant 4\n",
    "cube_rings[16:32,203:,:] = 0\n",
    "cube_rings[16:32,:,:203] = 0"
   ]
  },
  {
   "cell_type": "code",
   "execution_count": 85,
   "metadata": {},
   "outputs": [],
   "source": [
    "# turn zeros to nans\n",
    "\n",
    "cube_rings[cube_rings == 0.] = np.nan"
   ]
  },
  {
   "cell_type": "code",
   "execution_count": 122,
   "metadata": {},
   "outputs": [],
   "source": [
    "# write\n",
    "\n",
    "hdu = fits.PrimaryHDU(cube_rings.astype(int))\n",
    "hdul = fits.HDUList([hdu])\n",
    "#hdul.writeto('junk_mask_406x406_rings_4quad_complete.fits', overwrite=True)"
   ]
  },
  {
   "cell_type": "code",
   "execution_count": 35,
   "metadata": {},
   "outputs": [
    {
     "data": {
      "text/plain": [
       "OrderedDict()"
      ]
     },
     "execution_count": 35,
     "metadata": {},
     "output_type": "execute_result"
    }
   ],
   "source": [
    "# quad4 mask definition\n",
    "slices = 4\n",
    "this_cube = np.zeros((slices,100,100))\n",
    "\n",
    "this_slice = np.zeros((100,100))\n",
    "this_slice[50:,50:] = 1\n",
    "this_cube[0,:,:] = this_slice\n",
    "\n",
    "this_slice = np.zeros((100,100))\n",
    "this_slice[50:,:50] = 1\n",
    "this_cube[1,:,:] = this_slice\n",
    "\n",
    "this_slice = np.zeros((100,100))\n",
    "this_slice[:50,:50] = 1\n",
    "this_cube[2,:,:] = this_slice\n",
    "\n",
    "this_slice = np.zeros((100,100))\n",
    "this_slice[:50,50:] = 1\n",
    "this_cube[3,:,:] = this_slice\n",
    "\n",
    "#hdu = fits.PrimaryHDU(this_cube.astype(int))\n",
    "#hdul = fits.HDUList([hdu])\n",
    "#hdul.writeto('mask_100x100_4quad.fits', overwrite=True)"
   ]
  },
  {
   "cell_type": "code",
   "execution_count": 88,
   "metadata": {},
   "outputs": [],
   "source": [
    "# 100 squares mask definition\n",
    "slices = 100\n",
    "this_cube = np.zeros((slices,100,100))\n",
    "\n",
    "slice_num = 0\n",
    "\n",
    "# y\n",
    "for i in range(0,10):\n",
    "    # x\n",
    "    for j in range(0,10):\n",
    "        this_slice = np.zeros((100,100))\n",
    "        this_slice[10*i:10*(i+1),10*j:10*(j+1)] = 1\n",
    "        this_cube[slice_num,:,:] = this_slice\n",
    "        slice_num += 1\n",
    "\n",
    "hdu = fits.PrimaryHDU(this_cube.astype(int))\n",
    "hdul = fits.HDUList([hdu])\n",
    "hdul.writeto('mask_10x10_100squares.fits', overwrite=True)"
   ]
  },
  {
   "cell_type": "code",
   "execution_count": 7,
   "metadata": {},
   "outputs": [],
   "source": [
    "# simple whole-frame 100x100 mask definition\n",
    "\n",
    "# note this has two redundant slices, because otherwise the dimensions get messed up\n",
    "this_slice = np.ones((2,100,100))\n",
    "\n",
    "hdu = fits.PrimaryHDU(this_slice.astype(int))\n",
    "hdul = fits.HDUList([hdu])\n",
    "hdul.writeto('mask_100x100pix_whole_frame.fits', overwrite=True)"
   ]
  },
  {
   "cell_type": "code",
   "execution_count": 10,
   "metadata": {},
   "outputs": [],
   "source": [
    "# center_strip_lamb_over_B mask definition\n",
    "# 1= good; 0= bad\n",
    "\n",
    "slices = 2\n",
    "this_cube = np.zeros((slices,406,406))\n",
    "dummy_frame = np.zeros((406,406))\n",
    "\n",
    "# define central strip\n",
    "this_slice1 = np.copy(dummy_frame)\n",
    "this_slice1[198:208,149:257] = 1\n",
    "this_cube[0,:,:] = this_slice1\n",
    "\n",
    "# now the region outside the strip\n",
    "this_slice2 = np.subtract(dummy_frame,this_slice1)\n",
    "this_cube[1,:,:] = this_slice2\n",
    "\n",
    "# write out\n",
    "hdu = fits.PrimaryHDU(this_cube.astype(int))\n",
    "hdul = fits.HDUList([hdu])\n",
    "hdul.writeto('center_strip_lamb_over_B.fits', overwrite=True)"
   ]
  },
  {
   "cell_type": "code",
   "execution_count": 102,
   "metadata": {},
   "outputs": [],
   "source": [
    "# quad4_circ mask definition\n",
    "# 1= good; 0= bad\n",
    "\n",
    "slices = 8\n",
    "this_cube = np.zeros((slices,100,100))\n",
    "dummy_frame = np.ones((100,100))\n",
    "\n",
    "# define quadrants across slices first\n",
    "this_slice = np.zeros((100,100))\n",
    "this_slice[50:,50:] = 1\n",
    "this_cube[0,:,:] = this_slice\n",
    "this_cube[4,:,:] = this_slice\n",
    "\n",
    "this_slice = np.zeros((100,100))\n",
    "this_slice[50:,:50] = 1\n",
    "this_cube[1,:,:] = this_slice\n",
    "this_cube[5,:,:] = this_slice\n",
    "\n",
    "this_slice = np.zeros((100,100))\n",
    "this_slice[:50,:50] = 1\n",
    "this_cube[2,:,:] = this_slice\n",
    "this_cube[6,:,:] = this_slice\n",
    "\n",
    "this_slice = np.zeros((100,100))\n",
    "this_slice[:50,50:] = 1\n",
    "this_cube[3,:,:] = this_slice\n",
    "this_cube[7,:,:] = this_slice\n",
    "\n",
    "# now, multiply the first set of slices by a circular mask\n",
    "mask_circle = create_circular_mask(dummy_frame, radius = 22)\n",
    "this_cube[0:4,:,:] = np.multiply(this_cube[0:4,:,:],mask_circle)\n",
    "\n",
    "# and multiply the second set of slices by the inverse circular mask\n",
    "this_cube[4:,:,:] = np.multiply(this_cube[4:,:,:],np.abs(np.subtract(mask_circle,1)))\n",
    "\n",
    "# write out\n",
    "hdu = fits.PrimaryHDU(this_cube.astype(int))\n",
    "hdul = fits.HDUList([hdu])\n",
    "hdul.writeto('mask_quad4_circ.fits', overwrite=True)"
   ]
  },
  {
   "cell_type": "code",
   "execution_count": 122,
   "metadata": {},
   "outputs": [],
   "source": [
    "# quad4_circ_ring mask definition\n",
    "# 1= good; 0= bad\n",
    "\n",
    "slices = 12\n",
    "this_cube = np.zeros((slices,100,100))\n",
    "dummy_frame = np.ones((100,100))\n",
    "\n",
    "# define quadrants across slices first\n",
    "this_slice = np.zeros((100,100))\n",
    "this_slice[50:,50:] = 1\n",
    "this_cube[0,:,:] = this_slice\n",
    "this_cube[4,:,:] = this_slice\n",
    "this_cube[8,:,:] = this_slice\n",
    "\n",
    "this_slice = np.zeros((100,100))\n",
    "this_slice[50:,:50] = 1\n",
    "this_cube[1,:,:] = this_slice\n",
    "this_cube[5,:,:] = this_slice\n",
    "this_cube[9,:,:] = this_slice\n",
    "\n",
    "this_slice = np.zeros((100,100))\n",
    "this_slice[:50,:50] = 1\n",
    "this_cube[2,:,:] = this_slice\n",
    "this_cube[6,:,:] = this_slice\n",
    "this_cube[10,:,:] = this_slice\n",
    "\n",
    "this_slice = np.zeros((100,100))\n",
    "this_slice[:50,50:] = 1\n",
    "this_cube[3,:,:] = this_slice\n",
    "this_cube[7,:,:] = this_slice\n",
    "this_cube[11,:,:] = this_slice\n",
    "\n",
    "# now, multiply the first set of slices by a circular mask\n",
    "mask_circle_inner = create_circular_mask(dummy_frame, radius = 12)\n",
    "mask_circle_outer = create_circular_mask(dummy_frame, radius = 30)\n",
    "this_cube[0:4,:,:] = np.multiply(this_cube[0:4,:,:],mask_circle_inner)\n",
    "\n",
    "# and multiply the third set of slices by the outer circular mask and subtract the first\n",
    "this_cube[8:12,:,:] = np.multiply(this_cube[8:12,:,:],np.abs(np.subtract(mask_circle_outer,1)))\n",
    "\n",
    "# and multiply the second set of slices by the outer circular mask and subtract the first\n",
    "dummy_slices = np.subtract(this_cube[4:8,:,:],this_cube[0:4,:,:])\n",
    "this_cube[4:8,:,:] = np.subtract(dummy_slices,this_cube[8:12,:,:])\n",
    "\n",
    "\n",
    "# write out\n",
    "'''\n",
    "hdu = fits.PrimaryHDU(this_cube.astype(int))\n",
    "hdul = fits.HDUList([hdu])\n",
    "hdul.writeto('mask_quad4_circ_ring.fits', overwrite=True)\n",
    "'''"
   ]
  },
  {
   "cell_type": "code",
   "execution_count": 35,
   "metadata": {},
   "outputs": [],
   "source": [
    "# make 'ring' masks \n",
    "\n",
    "#sciImg1, header = fits.getdata(\"mask_100x100_rad028.fits\",0,header=True)\n",
    "#sciImg2, header = fits.getdata(\"mask_100x100_rad021.fits\",0,header=True)\n",
    "#sciImg3, header = fits.getdata(\"mask_100x100_rad011.fits\",0,header=True)\n",
    "sciImg_1st_bright, header = fits.getdata(\"mask_100x100_rad_first_bright_pix.fits\",0,header=True)\n",
    "sciImg_2nd_bright, header = fits.getdata(\"mask_100x100_rad_second_bright_pix.fits\",0,header=True)\n",
    "sciImg_3rd_bright, header = fits.getdata(\"mask_100x100_rad_third_bright_pix.fits\",0,header=True)\n",
    "sciImg_4th_bright, header = fits.getdata(\"mask_100x100_rad_fourth_bright_pix.fits\",0,header=True)"
   ]
  },
  {
   "cell_type": "code",
   "execution_count": 38,
   "metadata": {},
   "outputs": [],
   "source": [
    "# make rings\n",
    "\n",
    "#ring_21_to_28 = np.subtract(sciImg1,sciImg2)\n",
    "#ring_11_to_21 = np.subtract(sciImg2,sciImg3)\n",
    "#rad_gtr_28 = np.subtract(np.ones(np.shape(sciImg1)),sciImg1)\n",
    "ring_1st_to_2nd_bright = np.subtract(sciImg_2nd_bright,sciImg_1st_bright)\n",
    "ring_2nd_to_3rd_bright = np.subtract(sciImg_3rd_bright,sciImg_2nd_bright)\n",
    "ring_3rd_to_4th_bright = np.subtract(sciImg_4th_bright,sciImg_3rd_bright)\n",
    "rad_gtr_4th_bright = np.subtract(np.ones(np.shape(sciImg_2nd_bright)),sciImg_4th_bright)"
   ]
  },
  {
   "cell_type": "code",
   "execution_count": 50,
   "metadata": {},
   "outputs": [],
   "source": [
    "# ... further modifications: chop 2-to-3 ring into halves\n",
    "\n",
    "upper_ring_2nd_to_3rd_bright = np.copy(ring_2nd_to_3rd_bright)\n",
    "upper_ring_2nd_to_3rd_bright[:50,:] = 0\n",
    "\n",
    "lower_ring_2nd_to_3rd_bright = np.copy(ring_2nd_to_3rd_bright)\n",
    "lower_ring_2nd_to_3rd_bright[50:,:] = 0"
   ]
  },
  {
   "cell_type": "code",
   "execution_count": 62,
   "metadata": {},
   "outputs": [],
   "source": [
    "# ... further modifications: chop 3-to-4 ring into thirds\n",
    "\n",
    "section3_ring_3rd_to_4th_bright = np.copy(ring_3rd_to_4th_bright)\n",
    "section3_ring_3rd_to_4th_bright[35:,:] = 0\n",
    "\n",
    "section1_ring_3rd_to_4th_bright = np.copy(ring_3rd_to_4th_bright)\n",
    "section1_ring_3rd_to_4th_bright[:35,:] = 0\n",
    "section1_ring_3rd_to_4th_bright[:,:50] = 0\n",
    "\n",
    "section2_ring_3rd_to_4th_bright = np.copy(ring_3rd_to_4th_bright)\n",
    "section2_ring_3rd_to_4th_bright[:35,:] = 0\n",
    "section2_ring_3rd_to_4th_bright[:,50:] = 0"
   ]
  },
  {
   "cell_type": "code",
   "execution_count": 77,
   "metadata": {},
   "outputs": [],
   "source": [
    "# ... further modifications: chop >4 ring into quarters\n",
    "\n",
    "section1_gtr4th_bright = np.copy(rad_gtr_4th_bright)\n",
    "section1_gtr4th_bright[:50,:] = 0\n",
    "section1_gtr4th_bright[:,:50] = 0\n",
    "\n",
    "section2_gtr4th_bright = np.copy(rad_gtr_4th_bright)\n",
    "section2_gtr4th_bright[:50,:] = 0\n",
    "section2_gtr4th_bright[:,50:] = 0\n",
    "\n",
    "section3_gtr4th_bright = np.copy(rad_gtr_4th_bright)\n",
    "section3_gtr4th_bright[50:,:] = 0\n",
    "section3_gtr4th_bright[:,50:] = 0\n",
    "\n",
    "section4_gtr4th_bright = np.copy(rad_gtr_4th_bright)\n",
    "section4_gtr4th_bright[50:,:] = 0\n",
    "section4_gtr4th_bright[:,:50] = 0"
   ]
  },
  {
   "cell_type": "code",
   "execution_count": 75,
   "metadata": {},
   "outputs": [
    {
     "data": {
      "image/png": "[encoded data removed]",
      "text/plain": [
       "<Figure size 432x288 with 1 Axes>"
      ]
     },
     "metadata": {
      "needs_background": "light"
     },
     "output_type": "display_data"
    }
   ],
   "source": [
    "plt.imshow(sciImg_1st_bright, origin=\"lower\")\n",
    "plt.show()"
   ]
  },
  {
   "cell_type": "code",
   "execution_count": 76,
   "metadata": {},
   "outputs": [],
   "source": [
    "mask_cube = np.zeros((11,100,100))\n",
    "mask_cube[0,:,:] = sciImg_1st_bright\n",
    "mask_cube[1,:,:] = ring_1st_to_2nd_bright\n",
    "mask_cube[2,:,:] = upper_ring_2nd_to_3rd_bright\n",
    "mask_cube[3,:,:] = lower_ring_2nd_to_3rd_bright\n",
    "mask_cube[4,:,:] = section1_ring_3rd_to_4th_bright\n",
    "mask_cube[5,:,:] = section2_ring_3rd_to_4th_bright\n",
    "mask_cube[6,:,:] = section3_ring_3rd_to_4th_bright\n",
    "mask_cube[7,:,:] = section1_gtr4th_bright\n",
    "mask_cube[8,:,:] = section2_gtr4th_bright\n",
    "mask_cube[9,:,:] = section3_gtr4th_bright\n",
    "mask_cube[10,:,:] = section4_gtr4th_bright"
   ]
  },
  {
   "cell_type": "code",
   "execution_count": 78,
   "metadata": {},
   "outputs": [],
   "source": [
    "summed_masks = np.sum(mask_cube, axis=1)"
   ]
  },
  {
   "cell_type": "code",
   "execution_count": 82,
   "metadata": {},
   "outputs": [
    {
     "data": {
      "image/png": "[encoded data removed]",
      "text/plain": [
       "<Figure size 432x288 with 1 Axes>"
      ]
     },
     "metadata": {
      "needs_background": "light"
     },
     "output_type": "display_data"
    },
    {
     "data": {
      "image/png": "[encoded data removed]",
      "text/plain": [
       "<Figure size 432x288 with 1 Axes>"
      ]
     },
     "metadata": {
      "needs_background": "light"
     },
     "output_type": "display_data"
    },
    {
     "data": {
      "image/png": "[encoded data removed]",
      "text/plain": [
       "<Figure size 432x288 with 1 Axes>"
      ]
     },
     "metadata": {
      "needs_background": "light"
     },
     "output_type": "display_data"
    },
    {
     "data": {
      "image/png": "[encoded data removed]",
      "text/plain": [
       "<Figure size 432x288 with 1 Axes>"
      ]
     },
     "metadata": {
      "needs_background": "light"
     },
     "output_type": "display_data"
    },
    {
     "data": {
      "image/png": "[encoded data removed]",
      "text/plain": [
       "<Figure size 432x288 with 1 Axes>"
      ]
     },
     "metadata": {
      "needs_background": "light"
     },
     "output_type": "display_data"
    },
    {
     "data": {
      "image/png": "[encoded data removed]",
      "text/plain": [
       "<Figure size 432x288 with 1 Axes>"
      ]
     },
     "metadata": {
      "needs_background": "light"
     },
     "output_type": "display_data"
    },
    {
     "data": {
      "image/png": "[encoded data removed]",
      "text/plain": [
       "<Figure size 432x288 with 1 Axes>"
      ]
     },
     "metadata": {
      "needs_background": "light"
     },
     "output_type": "display_data"
    },
    {
     "data": {
      "image/png": "[encoded data removed]",
      "text/plain": [
       "<Figure size 432x288 with 1 Axes>"
      ]
     },
     "metadata": {
      "needs_background": "light"
     },
     "output_type": "display_data"
    },
    {
     "data": {
      "image/png": "[encoded data removed]",
      "text/plain": [
       "<Figure size 432x288 with 1 Axes>"
      ]
     },
     "metadata": {
      "needs_background": "light"
     },
     "output_type": "display_data"
    },
    {
     "data": {
      "image/png": "[encoded data removed]",
      "text/plain": [
       "<Figure size 432x288 with 1 Axes>"
      ]
     },
     "metadata": {
      "needs_background": "light"
     },
     "output_type": "display_data"
    },
    {
     "data": {
      "image/png": "[encoded data removed]",
      "text/plain": [
       "<Figure size 432x288 with 1 Axes>"
      ]
     },
     "metadata": {
      "needs_background": "light"
     },
     "output_type": "display_data"
    },
    {
     "data": {
      "text/plain": [
       "<Figure size 432x288 with 0 Axes>"
      ]
     },
     "metadata": {},
     "output_type": "display_data"
    }
   ],
   "source": [
    "for slice_num in range(0,len(mask_cube)):\n",
    "    plt.imshow(mask_cube[slice_num,:,:], origin=\"lower\")\n",
    "    plt.show()\n",
    "    plt.clf()"
   ]
  },
  {
   "cell_type": "code",
   "execution_count": 83,
   "metadata": {},
   "outputs": [],
   "source": [
    "this_cube = mask_cube"
   ]
  },
  {
   "cell_type": "code",
   "execution_count": 87,
   "metadata": {},
   "outputs": [],
   "source": [
    "hdu = fits.PrimaryHDU(mask_cube)\n",
    "hdul = fits.HDUList([hdu])\n",
    "#hdul.writeto('tesselation_10_psfs_in_each_region.fits', overwrite=True)"
   ]
  },
  {
   "cell_type": "code",
   "execution_count": 26,
   "metadata": {},
   "outputs": [],
   "source": [
    "hdu = fits.PrimaryHDU(ring_11_to_21)\n",
    "hdul = fits.HDUList([hdu])\n",
    "hdul.writeto('mask_100x100_ring_11_to_21.fits', overwrite=True)"
   ]
  },
  {
   "cell_type": "code",
   "execution_count": 27,
   "metadata": {},
   "outputs": [],
   "source": [
    "hdu = fits.PrimaryHDU(ring_21_to_28)\n",
    "hdul = fits.HDUList([hdu])\n",
    "hdul.writeto('mask_100x100_ring_21_to_28.fits', overwrite=True)"
   ]
  },
  {
   "cell_type": "code",
   "execution_count": 30,
   "metadata": {},
   "outputs": [],
   "source": [
    "hdu = fits.PrimaryHDU(rad_gtr_28)\n",
    "hdul = fits.HDUList([hdu])\n",
    "hdul.writeto('mask_100x100_rad_gtr_28.fits', overwrite=True)"
   ]
  },
  {
   "cell_type": "markdown",
   "metadata": {},
   "source": [
    "# Test to make sure there is no overlap between regions, or \n",
    "# regions not included"
   ]
  },
  {
   "cell_type": "markdown",
   "metadata": {},
   "source": [
    "# Make plots of the tesselations"
   ]
  },
  {
   "cell_type": "code",
   "execution_count": 11,
   "metadata": {},
   "outputs": [],
   "source": [
    "def get_cmap(N):\n",
    "    ''' Returns a function that maps each index in 0, 1, ...\n",
    "        N-1 to a distinct RGB color.'''\n",
    "    color_norm  = colors.Normalize(vmin=0, vmax=N-1)\n",
    "    scalar_map = cmx.ScalarMappable(norm=color_norm, cmap='hsv')\n",
    "    #scalar_map = cmx.ScalarMappable(norm=color_norm, cmap='gist_stern')\n",
    "    def map_index_to_rgb_color(index):\n",
    "        return scalar_map.to_rgba(index)\n",
    "    return map_index_to_rgb_color"
   ]
  },
  {
   "cell_type": "code",
   "execution_count": 12,
   "metadata": {},
   "outputs": [],
   "source": [
    "from collections import OrderedDict\n",
    "cmaps = OrderedDict()\n",
    "\n",
    "cmaps['Sequential'] = [\n",
    "            'Greys', 'Purples', 'Blues', 'Greens', 'Oranges', 'Reds',\n",
    "            'YlOrBr', 'YlOrRd', 'OrRd', 'PuRd', 'RdPu', 'BuPu',\n",
    "            'GnBu', 'PuBu', 'YlGnBu', 'PuBuGn', 'BuGn', 'YlGn']"
   ]
  },
  {
   "cell_type": "code",
   "execution_count": 121,
   "metadata": {},
   "outputs": [
    {
     "data": {
      "image/png": "[encoded data removed]",
      "text/plain": [
       "<Figure size 432x288 with 2 Axes>"
      ]
     },
     "metadata": {
      "needs_background": "light"
     },
     "output_type": "display_data"
    },
    {
     "data": {
      "image/png": "[encoded data removed]",
      "text/plain": [
       "<Figure size 432x288 with 2 Axes>"
      ]
     },
     "metadata": {
      "needs_background": "light"
     },
     "output_type": "display_data"
    },
    {
     "data": {
      "image/png": "[encoded data removed]",
      "text/plain": [
       "<Figure size 432x288 with 2 Axes>"
      ]
     },
     "metadata": {
      "needs_background": "light"
     },
     "output_type": "display_data"
    },
    {
     "data": {
      "image/png": "[encoded data removed]",
      "text/plain": [
       "<Figure size 432x288 with 2 Axes>"
      ]
     },
     "metadata": {
      "needs_background": "light"
     },
     "output_type": "display_data"
    },
    {
     "data": {
      "image/png": "[encoded data removed]",
      "text/plain": [
       "<Figure size 432x288 with 2 Axes>"
      ]
     },
     "metadata": {
      "needs_background": "light"
     },
     "output_type": "display_data"
    },
    {
     "data": {
      "image/png": "[encoded data removed]",
      "text/plain": [
       "<Figure size 432x288 with 2 Axes>"
      ]
     },
     "metadata": {
      "needs_background": "light"
     },
     "output_type": "display_data"
    },
    {
     "data": {
      "image/png": "[encoded data removed]",
      "text/plain": [
       "<Figure size 432x288 with 2 Axes>"
      ]
     },
     "metadata": {
      "needs_background": "light"
     },
     "output_type": "display_data"
    },
    {
     "data": {
      "image/png": "[encoded data removed]",
      "text/plain": [
       "<Figure size 432x288 with 2 Axes>"
      ]
     },
     "metadata": {
      "needs_background": "light"
     },
     "output_type": "display_data"
    },
    {
     "data": {
      "image/png": "[encoded data removed]",
      "text/plain": [
       "<Figure size 432x288 with 2 Axes>"
      ]
     },
     "metadata": {
      "needs_background": "light"
     },
     "output_type": "display_data"
    },
    {
     "data": {
      "image/png": "[encoded data removed]",
      "text/plain": [
       "<Figure size 432x288 with 2 Axes>"
      ]
     },
     "metadata": {
      "needs_background": "light"
     },
     "output_type": "display_data"
    },
    {
     "data": {
      "image/png": "[encoded data removed]",
      "text/plain": [
       "<Figure size 432x288 with 2 Axes>"
      ]
     },
     "metadata": {
      "needs_background": "light"
     },
     "output_type": "display_data"
    },
    {
     "data": {
      "image/png": "[encoded data removed]",
      "text/plain": [
       "<Figure size 432x288 with 2 Axes>"
      ]
     },
     "metadata": {
      "needs_background": "light"
     },
     "output_type": "display_data"
    }
   ],
   "source": [
    "for t in range(0,len(this_cube)):\n",
    "    plt.imshow(this_cube[t,:,:])\n",
    "    plt.colorbar()\n",
    "    plt.show()"
   ]
  },
  {
   "cell_type": "code",
   "execution_count": 123,
   "metadata": {},
   "outputs": [],
   "source": [
    "# read in tesselation\n",
    "\n",
    "inner_info, hdr = fits.getdata(\"tesselation_10_psfs_in_each_region.fits\", 0, header=True)\n",
    "inner_info[inner_info != 1] = 0\n",
    "\n",
    "outer_info, hdr = fits.getdata(\"junk_mask_406x406_rings_4quad_complete.fits\", 0, header=True)\n",
    "\n",
    "# an add-on cube of seven layers that makes central 100x100 the same as that of the old tesselation\n",
    "cube_addon = np.zeros((7,406,406))\n",
    "cube_addon[:,153:253,153:253] = inner_info[0:7,:,:]\n",
    "\n",
    "# put some stray pixels into one of the rings\n",
    "#cube_addon[-1,idx[0],idx[1]] = 1\n",
    "\n",
    "# concatenate\n",
    "conc_cube = np.concatenate((cube_addon, outer_info), axis=0)"
   ]
  },
  {
   "cell_type": "code",
   "execution_count": 124,
   "metadata": {},
   "outputs": [],
   "source": [
    "# write FITS\n",
    "hdu = fits.PrimaryHDU(conc_cube.astype(int))\n",
    "hdul = fits.HDUList([hdu])\n",
    "#hdul.writeto('mask_406x406_rings_4quad.fits_complete.fits', overwrite=True)"
   ]
  },
  {
   "cell_type": "code",
   "execution_count": 77,
   "metadata": {},
   "outputs": [],
   "source": [
    "# ... further modifications: chop >4 ring into quarters\n",
    "\n",
    "section1_gtr4th_bright = np.copy(rad_gtr_4th_bright)\n",
    "section1_gtr4th_bright[:50,:] = 0\n",
    "section1_gtr4th_bright[:,:50] = 0\n",
    "\n",
    "section2_gtr4th_bright = np.copy(rad_gtr_4th_bright)\n",
    "section2_gtr4th_bright[:50,:] = 0\n",
    "section2_gtr4th_bright[:,50:] = 0\n",
    "\n",
    "section3_gtr4th_bright = np.copy(rad_gtr_4th_bright)\n",
    "section3_gtr4th_bright[50:,:] = 0\n",
    "section3_gtr4th_bright[:,50:] = 0\n",
    "\n",
    "section4_gtr4th_bright = np.copy(rad_gtr_4th_bright)\n",
    "section4_gtr4th_bright[50:,:] = 0\n",
    "section4_gtr4th_bright[:,:50] = 0"
   ]
  },
  {
   "cell_type": "code",
   "execution_count": 112,
   "metadata": {},
   "outputs": [],
   "source": [
    "idx = np.where(summed_masks != 1)"
   ]
  },
  {
   "cell_type": "code",
   "execution_count": 113,
   "metadata": {},
   "outputs": [
    {
     "data": {
      "text/plain": [
       "(array([158, 159, 159, 159, 159, 160, 160, 160, 160, 161, 161, 161, 161,\n",
       "        162, 162, 163, 163, 164, 164, 165, 165, 166, 166, 167, 167, 168,\n",
       "        168, 169, 169, 170, 170, 173, 173, 174, 174, 175, 175, 176, 176,\n",
       "        178, 178, 179, 179, 181, 181, 183, 183, 185, 185, 187, 187, 188,\n",
       "        188, 190, 190, 191, 191, 194, 194, 195, 195, 203, 203, 211, 211,\n",
       "        212, 212, 215, 215, 216, 216, 218, 218, 219, 219, 221, 221, 223,\n",
       "        223, 225, 225, 227, 227, 228, 228, 230, 230, 231, 231, 232, 232,\n",
       "        233, 233, 236, 236, 237, 237, 238, 238, 239, 239, 240, 240, 241,\n",
       "        241, 242, 242, 243, 243, 244, 244, 245, 245, 245, 245, 246, 246,\n",
       "        246, 246, 247, 247, 247, 247, 248]),\n",
       " array([203, 194, 195, 211, 212, 190, 191, 215, 216, 187, 188, 218, 219,\n",
       "        185, 221, 183, 223, 181, 225, 179, 227, 178, 228, 176, 230, 175,\n",
       "        231, 174, 232, 173, 233, 170, 236, 169, 237, 168, 238, 167, 239,\n",
       "        166, 240, 165, 241, 164, 242, 163, 243, 162, 244, 161, 245, 161,\n",
       "        245, 160, 246, 160, 246, 159, 247, 159, 247, 158, 248, 159, 247,\n",
       "        159, 247, 160, 246, 160, 246, 161, 245, 161, 245, 162, 244, 163,\n",
       "        243, 164, 242, 165, 241, 166, 240, 167, 239, 168, 238, 169, 237,\n",
       "        170, 236, 173, 233, 174, 232, 175, 231, 176, 230, 178, 228, 179,\n",
       "        227, 181, 225, 183, 223, 185, 221, 187, 188, 218, 219, 190, 191,\n",
       "        215, 216, 194, 195, 211, 212, 203]))"
      ]
     },
     "execution_count": 113,
     "metadata": {},
     "output_type": "execute_result"
    }
   ],
   "source": [
    "idx"
   ]
  },
  {
   "cell_type": "code",
   "execution_count": 14,
   "metadata": {},
   "outputs": [],
   "source": [
    "# read in a pre-existing mask and remove slices to make a truncated mask\n",
    "\n",
    "original_tesselation_cube, hdr = fits.getdata(\"data/mask_406x406_rings_4quad_fits_complete.fits\", 0, header=True)\n",
    "\n",
    "# delete slices\n",
    "truncated_tesselation_cube = np.delete(original_tesselation_cube, [0,22,38,54,70], axis=0)\n",
    "\n",
    "#print(type(original_tesselation_cube[0,0,0]))\n",
    "#plt.imshow(truncated_tesselation_cube[23,:,:])\n",
    "#plt.show()\n",
    "\n",
    "# write FITS\n",
    "hdu = fits.PrimaryHDU(truncated_tesselation_cube.astype(int))\n",
    "hdul = fits.HDUList([hdu])\n",
    "#hdul.writeto('mask_406x406_rings_4quad_fits_truncated.fits', overwrite=True)"
   ]
  },
  {
   "cell_type": "code",
   "execution_count": 48,
   "metadata": {},
   "outputs": [],
   "source": [
    "# read in a pre-existing mask and remove slices to make a truncated mask\n",
    "\n",
    "original_tesselation_cube, hdr = fits.getdata(\"data/mask_406x406_rings_4quad_fits_complete.fits\", 0, header=True)\n",
    "\n",
    "# delete slices\n",
    "truncated_tesselation_cube = np.delete(original_tesselation_cube, [0,22,38,54,70], axis=0)\n",
    "\n",
    "#print(type(original_tesselation_cube[0,0,0]))\n",
    "#plt.imshow(truncated_tesselation_cube[23,:,:])\n",
    "#plt.show()\n",
    "\n",
    "# write FITS\n",
    "#hdu = fits.PrimaryHDU(truncated_tesselation_cube.astype(int))\n",
    "#hdul = fits.HDUList([hdu])\n",
    "#hdul.writeto('mask_406x406_rings_4quad_fits_truncated.fits', overwrite=True)"
   ]
  },
  {
   "cell_type": "code",
   "execution_count": 6,
   "metadata": {},
   "outputs": [],
   "source": [
    "# read in a pre-existing mask\n",
    "\n",
    "original_tesselation_cube, hdr = fits.getdata(\"data/mask_406x406_rings_4quad_fits_coarse_20200404.fits\", 0, header=True)"
   ]
  },
  {
   "cell_type": "code",
   "execution_count": 15,
   "metadata": {},
   "outputs": [],
   "source": [
    "# make regions from combinations of other regions\n",
    "\n",
    "outer_1_ring_quad_I = np.sum(original_tesselation_cube[18:21,:,:], axis=0)\n",
    "outer_1_ring_quad_IV = np.sum(original_tesselation_cube[33:36,:,:], axis=0)\n",
    "outer_1_ring_quad_III = np.sum(original_tesselation_cube[48:51,:,:], axis=0)\n",
    "outer_1_ring_quad_II = np.sum(original_tesselation_cube[63:66,:,:], axis=0)\n",
    "\n",
    "outer_2_ring_quad_I = np.sum(original_tesselation_cube[15:18,:,:], axis=0)\n",
    "outer_2_ring_quad_IV = np.sum(original_tesselation_cube[30:33,:,:], axis=0)\n",
    "outer_2_ring_quad_III = np.sum(original_tesselation_cube[45:48,:,:], axis=0)\n",
    "outer_2_ring_quad_II = np.sum(original_tesselation_cube[60:63:,:], axis=0)\n",
    "\n",
    "outer_3_ring_quad_I = np.sum(original_tesselation_cube[12:15,:,:], axis=0)\n",
    "outer_3_ring_quad_IV = np.sum(original_tesselation_cube[27:30,:,:], axis=0)\n",
    "outer_3_ring_quad_III = np.sum(original_tesselation_cube[42:45,:,:], axis=0)\n",
    "outer_3_ring_quad_II = np.sum(original_tesselation_cube[57:60,:,:], axis=0)\n",
    "\n",
    "outer_4_ring_quad_I = np.sum(original_tesselation_cube[10:12,:,:], axis=0)\n",
    "outer_4_ring_quad_IV = np.sum(original_tesselation_cube[25:27,:,:], axis=0)\n",
    "outer_4_ring_quad_III = np.sum(original_tesselation_cube[40:42,:,:], axis=0)\n",
    "outer_4_ring_quad_II = np.sum(original_tesselation_cube[55:57,:,:], axis=0)\n",
    "\n",
    "outer_5_ring_quad_I = np.sum(original_tesselation_cube[8:10,:,:], axis=0)\n",
    "outer_5_ring_quad_IV = np.sum(original_tesselation_cube[23:25,:,:], axis=0)\n",
    "outer_5_ring_quad_III = np.sum(original_tesselation_cube[38:40,:,:], axis=0)\n",
    "outer_5_ring_quad_II = np.sum(original_tesselation_cube[53:55,:,:], axis=0)\n",
    "\n",
    "# replace individual slices from the merger\n",
    "new_tesselation_cube = np.copy(original_tesselation_cube)\n",
    "\n",
    "new_tesselation_cube[18,:,:] = outer_1_ring_quad_I\n",
    "new_tesselation_cube[33,:,:] = outer_1_ring_quad_IV\n",
    "new_tesselation_cube[48,:,:] = outer_1_ring_quad_III\n",
    "new_tesselation_cube[63,:,:] = outer_1_ring_quad_II\n",
    "\n",
    "new_tesselation_cube[15,:,:] = outer_2_ring_quad_I\n",
    "new_tesselation_cube[30,:,:] = outer_2_ring_quad_IV\n",
    "new_tesselation_cube[45,:,:] = outer_2_ring_quad_III\n",
    "new_tesselation_cube[60,:,:] = outer_2_ring_quad_II\n",
    "\n",
    "new_tesselation_cube[12,:,:] = outer_3_ring_quad_I\n",
    "new_tesselation_cube[27,:,:] = outer_3_ring_quad_IV\n",
    "new_tesselation_cube[42,:,:] = outer_3_ring_quad_III\n",
    "new_tesselation_cube[57,:,:] = outer_3_ring_quad_II\n",
    "\n",
    "new_tesselation_cube[10,:,:] = outer_4_ring_quad_I\n",
    "new_tesselation_cube[25,:,:] = outer_4_ring_quad_IV\n",
    "new_tesselation_cube[40,:,:] = outer_4_ring_quad_III\n",
    "new_tesselation_cube[55,:,:] = outer_4_ring_quad_II\n",
    "\n",
    "new_tesselation_cube[8,:,:] = outer_5_ring_quad_I\n",
    "new_tesselation_cube[23,:,:] = outer_5_ring_quad_IV\n",
    "new_tesselation_cube[38,:,:] = outer_5_ring_quad_III\n",
    "new_tesselation_cube[53,:,:] = outer_5_ring_quad_II\n",
    "\n",
    "# remove the other slices\n",
    "coarser_tesselation_cube = np.delete(new_tesselation_cube, \n",
    "                                     [19,20,34,35,49,50,64,65,16,17,31,32,46,47,61,62,13,14,28,29,43,44,58,59,11,26,41,56,9,24,39,54], \n",
    "                                     axis=0)\n",
    "\n",
    "# write FITS\n",
    "hdu = fits.PrimaryHDU(np.array(coarser_tesselation_cube, dtype=np.int16))\n",
    "hdul = fits.HDUList([hdu])\n",
    "#hdul.writeto('mask_406x406_rings_4quad_fits_coarse_20200404.fits', overwrite=True)"
   ]
  },
  {
   "cell_type": "code",
   "execution_count": 7,
   "metadata": {},
   "outputs": [],
   "source": [
    "# make regions from combinations of other regions\n",
    "\n",
    "outer_1_ring_quad_I = np.sum(original_tesselation_cube[11:13,:,:], axis=0)\n",
    "outer_1_ring_quad_IV = np.sum(original_tesselation_cube[18:20,:,:], axis=0)\n",
    "outer_1_ring_quad_III = np.sum(original_tesselation_cube[25:27,:,:], axis=0)\n",
    "outer_1_ring_quad_II = np.sum(original_tesselation_cube[32:34,:,:], axis=0)\n",
    "\n",
    "outer_2_ring_quad_I = np.sum(original_tesselation_cube[9:11,:,:], axis=0)\n",
    "outer_2_ring_quad_IV = np.sum(original_tesselation_cube[16:18,:,:], axis=0)\n",
    "outer_2_ring_quad_III = np.sum(original_tesselation_cube[23:25,:,:], axis=0)\n",
    "outer_2_ring_quad_II = np.sum(original_tesselation_cube[30:32:,:], axis=0)\n",
    "\n",
    "# replace individual slices from the merger\n",
    "new_tesselation_cube = np.copy(original_tesselation_cube)\n",
    "\n",
    "new_tesselation_cube[11,:,:] = outer_1_ring_quad_I\n",
    "new_tesselation_cube[18,:,:] = outer_1_ring_quad_IV\n",
    "new_tesselation_cube[25,:,:] = outer_1_ring_quad_III\n",
    "new_tesselation_cube[32,:,:] = outer_1_ring_quad_II\n",
    "\n",
    "new_tesselation_cube[9,:,:] = outer_2_ring_quad_I\n",
    "new_tesselation_cube[16,:,:] = outer_2_ring_quad_IV\n",
    "new_tesselation_cube[23,:,:] = outer_2_ring_quad_III\n",
    "new_tesselation_cube[30,:,:] = outer_2_ring_quad_II\n",
    "\n",
    "# remove the other slices\n",
    "coarser_tesselation_cube = np.delete(new_tesselation_cube, \n",
    "                                     [12,19,26,33,10,17,24,31], \n",
    "                                     axis=0)\n",
    "\n",
    "# write FITS\n",
    "hdu = fits.PrimaryHDU(np.array(coarser_tesselation_cube, dtype=np.int16))\n",
    "hdul = fits.HDUList([hdu])\n",
    "hdul.writeto('mask_406x406_rings_4quad_fits_coarse_junk.fits', overwrite=True)"
   ]
  },
  {
   "cell_type": "code",
   "execution_count": 8,
   "metadata": {},
   "outputs": [
    {
     "name": "stdout",
     "output_type": "stream",
     "text": [
      "These numbers should both be 1:\n",
      "0\n",
      "1\n",
      "And here's a plot:\n"
     ]
    },
    {
     "data": {
      "image/png": "[encoded data removed]",
      "text/plain": [
       "<Figure size 432x288 with 1 Axes>"
      ]
     },
     "metadata": {
      "needs_background": "light"
     },
     "output_type": "display_data"
    }
   ],
   "source": [
    "summed_masks = np.nansum(coarser_tesselation_cube, axis=0)\n",
    "\n",
    "print(\"These numbers should both be 1:\")\n",
    "print(np.min(summed_masks))\n",
    "print(np.max(summed_masks))\n",
    "\n",
    "print(\"And here's a plot:\")\n",
    "plt.imshow(summed_masks)\n",
    "plt.show()"
   ]
  },
  {
   "cell_type": "code",
   "execution_count": 14,
   "metadata": {},
   "outputs": [
    {
     "data": {
      "image/png": "[encoded data removed]",
      "text/plain": [
       "<Figure size 432x288 with 1 Axes>"
      ]
     },
     "metadata": {
      "needs_background": "light"
     },
     "output_type": "display_data"
    }
   ],
   "source": [
    "import matplotlib\n",
    "\n",
    "this_cube = np.copy(coarser_tesselation_cube)\n",
    "for plot_num in range(0,len(this_cube)):\n",
    "    this_plot = this_cube[plot_num,:,:].astype('float')\n",
    "    this_plot[this_plot == 0] = np.nan # this to a\n",
    "    plt.imshow(this_plot,\n",
    "               cmap = cmaps['Sequential'][np.mod(plot_num,7)], \n",
    "               alpha = 1, vmin=0, vmax=1.2,\n",
    "               origin = \"lower\")#np.random.random())\n",
    "    #plt.colorbar() # for some reason, colorbar necessary to render plot\n",
    "plt.title(\"mask_406x406_rings_4quad_fits_coarse_20200409.fits\")\n",
    "plt.tight_layout()\n",
    "#plt.show()\n",
    "plt.savefig(\"junk.pdf\")"
   ]
  },
  {
   "cell_type": "code",
   "execution_count": 4,
   "metadata": {},
   "outputs": [],
   "source": [
    "# read in a pre-existing mask and remove slices to make a truncated mask\n",
    "\n",
    "test_data_frame, hdr = fits.getdata(\"data/lm_180507_008812.fits\", 0, header=True)"
   ]
  },
  {
   "cell_type": "code",
   "execution_count": 6,
   "metadata": {},
   "outputs": [
    {
     "data": {
      "text/plain": [
       "numpy.float32"
      ]
     },
     "execution_count": 6,
     "metadata": {},
     "output_type": "execute_result"
    }
   ],
   "source": [
    "type(test_data_frame[0,0])"
   ]
  },
  {
   "cell_type": "code",
   "execution_count": 49,
   "metadata": {},
   "outputs": [
    {
     "data": {
      "text/plain": [
       "71"
      ]
     },
     "execution_count": 49,
     "metadata": {},
     "output_type": "execute_result"
    }
   ],
   "source": [
    "len(original_tesselation_cube)"
   ]
  },
  {
   "cell_type": "code",
   "execution_count": null,
   "metadata": {},
   "outputs": [],
   "source": []
  }
 ],
 "metadata": {
  "kernelspec": {
   "display_name": "Python 3",
   "language": "python",
   "name": "python3"
  },
  "language_info": {
   "codemirror_mode": {
    "name": "ipython",
    "version": 3
   },
   "file_extension": ".py",
   "mimetype": "text/x-python",
   "name": "python",
   "nbconvert_exporter": "python",
   "pygments_lexer": "ipython3",
   "version": "3.6.6"
  }
 },
 "nbformat": 4,
 "nbformat_minor": 1
}
