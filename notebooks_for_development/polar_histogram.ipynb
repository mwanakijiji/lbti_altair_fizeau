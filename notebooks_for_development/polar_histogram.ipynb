{
 "cells": [
  {
   "cell_type": "code",
   "execution_count": 9,
   "metadata": {},
   "outputs": [],
   "source": [
    "import numpy as np\n",
    "import pandas as pd\n",
    "import matplotlib\n",
    "import matplotlib.cm as cm\n",
    "from matplotlib.pyplot import figure, show, rc\n",
    "import matplotlib.pyplot as plt\n",
    "\n",
    "%matplotlib qt"
   ]
  },
  {
   "cell_type": "code",
   "execution_count": 2,
   "metadata": {},
   "outputs": [],
   "source": [
    "# fake PA data\n",
    "\n",
    "pa_df_deg = 360*np.random.random((1000))\n",
    "pa_df_rad = np.multiply(pa_df_deg,np.pi/180.)"
   ]
  },
  {
   "cell_type": "code",
   "execution_count": 3,
   "metadata": {},
   "outputs": [
    {
     "name": "stderr",
     "output_type": "stream",
     "text": [
      "/Users/nyumbani/anaconda3/envs/py366/lib/python3.6/site-packages/IPython/core/interactiveshell.py:2785: DtypeWarning: Columns (13,80,81,84,88,92,149) have mixed types.Specify dtype option on import or set low_memory=False.\n",
      "  interactivity=interactivity, compiler=compiler, result=result)\n"
     ]
    }
   ],
   "source": [
    "# true data\n",
    "\n",
    "df = pd.read_csv(\"fizeau_altair_180507_metadata.csv\")\n",
    "\n",
    "list_A_stripe_0_good_frames = pd.read_csv(\"data/good_frames_list_A_frames.txt\")\n",
    "list_D_stripe_1_good_frames = pd.read_csv(\"data/good_files_D_stripe_1_of_4.txt\")\n",
    "list_D_stripe_2_good_frames = pd.read_csv(\"data/good_files_D_stripe_2_of_4.txt\")\n",
    "list_D_stripe_3_good_frames = pd.read_csv(\"data/good_files_D_stripe_3_of_4.txt\")\n",
    "list_D_stripe_4_good_frames = pd.read_csv(\"data/good_files_D_stripe_4_of_4.txt\")"
   ]
  },
  {
   "cell_type": "code",
   "execution_count": 4,
   "metadata": {},
   "outputs": [],
   "source": [
    "# extract parallactic angles in stripe 0\n",
    "\n",
    "stripe_0_para_deg = df[\"LBT_PARA\"].where(df[\"FILENAME\"].isin(list_A_stripe_0_good_frames[\"filename\"])).dropna()\n",
    "stripe_1_para_deg = df[\"LBT_PARA\"].where(df[\"FILENAME\"].isin(list_D_stripe_1_good_frames[\"filename\"])).dropna()\n",
    "stripe_2_para_deg = df[\"LBT_PARA\"].where(df[\"FILENAME\"].isin(list_D_stripe_2_good_frames[\"filename\"])).dropna()\n",
    "stripe_3_para_deg = df[\"LBT_PARA\"].where(df[\"FILENAME\"].isin(list_D_stripe_3_good_frames[\"filename\"])).dropna()\n",
    "stripe_4_para_deg = df[\"LBT_PARA\"].where(df[\"FILENAME\"].isin(list_D_stripe_4_good_frames[\"filename\"])).dropna()\n",
    "\n",
    "# convert to rad\n",
    "\n",
    "stripe_0_para_rad = np.multiply(stripe_0_para_deg,np.pi/180.)\n",
    "stripe_1_para_rad = np.multiply(stripe_1_para_deg,np.pi/180.)\n",
    "stripe_2_para_rad = np.multiply(stripe_2_para_deg,np.pi/180.)\n",
    "stripe_3_para_rad = np.multiply(stripe_3_para_deg,np.pi/180.)\n",
    "stripe_4_para_rad = np.multiply(stripe_4_para_deg,np.pi/180.)"
   ]
  },
  {
   "cell_type": "code",
   "execution_count": 5,
   "metadata": {},
   "outputs": [
    {
     "data": {
      "text/plain": [
       "<Figure size 432x288 with 0 Axes>"
      ]
     },
     "metadata": {},
     "output_type": "display_data"
    }
   ],
   "source": [
    "# put data into histogram and extract histogram data\n",
    "\n",
    "N_bins = 200\n",
    "bin_edges_rad = np.linspace(-np.pi, np.pi, num=N_bins, endpoint=True)\n",
    "\n",
    "#counts, bins, bars = plt.hist(pa_df_rad,bins=bin_edges_rad,edgecolor='black')\n",
    "plt.clf()\n",
    "stripe_0_counts, stripe_0_bins, stripe_0_bars = plt.hist(stripe_0_para_rad,bins=bin_edges_rad,edgecolor='black')\n",
    "plt.clf()\n",
    "stripe_1_counts, stripe_1_bins, stripe_1_bars = plt.hist(stripe_1_para_rad,bins=bin_edges_rad,edgecolor='black')\n",
    "plt.clf()\n",
    "stripe_2_counts, stripe_2_bins, stripe_2_bars = plt.hist(stripe_2_para_rad,bins=bin_edges_rad,edgecolor='black')\n",
    "plt.clf()\n",
    "stripe_3_counts, stripe_3_bins, stripe_3_bars = plt.hist(stripe_3_para_rad,bins=bin_edges_rad,edgecolor='black')\n",
    "plt.clf()\n",
    "stripe_4_counts, stripe_4_bins, stripe_4_bars = plt.hist(stripe_4_para_rad,bins=bin_edges_rad,edgecolor='black')\n",
    "plt.clf()\n",
    "\n",
    "# get bin midpoints\n",
    "bin_midpts_rad = np.subtract(bin_edges_rad[1:],0.5*(bin_edges_rad[1]-bin_edges_rad[0]))"
   ]
  },
  {
   "cell_type": "code",
   "execution_count": 6,
   "metadata": {},
   "outputs": [
    {
     "data": {
      "text/plain": [
       "\"\\n# for converting to degrees to check with visual plot\\nplt.clf()\\ncounts, bins, bars = plt.hist(np.multiply(pa_df_rad,180/np.pi),\\n                                          bins=N_bins,edgecolor='black')\\n\""
      ]
     },
     "execution_count": 6,
     "metadata": {},
     "output_type": "execute_result"
    }
   ],
   "source": [
    "'''\n",
    "# for converting to degrees to check with visual plot\n",
    "plt.clf()\n",
    "counts, bins, bars = plt.hist(np.multiply(pa_df_rad,180/np.pi),\n",
    "                                          bins=N_bins,edgecolor='black')\n",
    "'''"
   ]
  },
  {
   "cell_type": "code",
   "execution_count": 36,
   "metadata": {},
   "outputs": [],
   "source": [
    "# force square figure and square axes looks better for polar, IMO\n",
    "\n",
    "plt.clf()\n",
    "fig = figure(figsize=(8,8))\n",
    "ax = fig.add_axes([0.1, 0.1, 0.8, 0.8], polar=True)\n",
    "\n",
    "'''\n",
    "# for fake data\n",
    "theta = bin_midpts_rad\n",
    "radii = counts\n",
    "width = 2*np.pi/N_bins\n",
    "bars = ax.bar(theta, radii, color=\"gray\", alpha=0.5, edgecolor='black', width=width, bottom=0.0)\n",
    "'''\n",
    "\n",
    "theta = bin_midpts_rad\n",
    "theta_long_baseline_E = np.add(theta,np.pi/2.)\n",
    "theta_long_baseline_W = np.add(theta,-np.pi/2.)\n",
    "width = 2*np.pi/N_bins\n",
    "\n",
    "# get color map\n",
    "cmap = matplotlib.cm.get_cmap('Set1')\n",
    "\n",
    "# stripe 0\n",
    "stripe_0_radii = stripe_0_counts\n",
    "stripe_0_bars_E = ax.bar(theta_long_baseline_E, stripe_0_radii, facecolor=cmap(0.1), alpha=0.5, width=width, bottom=0.0, label=\"0\")\n",
    "stripe_0_bars_W = ax.bar(theta_long_baseline_W, stripe_0_radii, facecolor=cmap(0.1), alpha=0.5, width=width, bottom=0.0)\n",
    "# stripe 1\n",
    "stripe_1_radii = stripe_1_counts\n",
    "stripe_1_bars_E = ax.bar(theta_long_baseline_E, stripe_1_radii, facecolor=cmap(0.2), alpha=0.5, width=width, bottom=0.0, label=\"1\")\n",
    "stripe_1_bars_W = ax.bar(theta_long_baseline_W, stripe_1_radii, facecolor=cmap(0.2), alpha=0.5, width=width, bottom=0.0)\n",
    "# stripe 2\n",
    "stripe_2_radii = stripe_2_counts\n",
    "stripe_2_bars_E = ax.bar(theta_long_baseline_E, stripe_2_radii, facecolor=cmap(0.9), alpha=0.5, width=width, bottom=0.0, label=\"2\")\n",
    "stripe_2_bars_W = ax.bar(theta_long_baseline_W, stripe_2_radii, facecolor=cmap(0.9), alpha=0.5, width=width, bottom=0.0)\n",
    "# stripe 3\n",
    "stripe_3_radii = stripe_3_counts\n",
    "stripe_3_bars_E = ax.bar(theta_long_baseline_E, stripe_3_radii, facecolor=cmap(0.6), alpha=0.5, width=width, bottom=0.0, label=\"3\")\n",
    "stripe_3_bars_W = ax.bar(theta_long_baseline_W, stripe_3_radii, facecolor=cmap(0.6), alpha=0.5, width=width, bottom=0.0)\n",
    "# stripe 4\n",
    "stripe_4_radii = stripe_4_counts\n",
    "stripe_4_bars_E = ax.bar(theta_long_baseline_E, stripe_4_radii, facecolor=cmap(0.8), alpha=0.5, width=width, bottom=0.0, label=\"4\")\n",
    "stripe_4_bars_W = ax.bar(theta_long_baseline_W, stripe_4_radii, facecolor=cmap(0.8), alpha=0.5, width=width, bottom=0.0)\n",
    "\n",
    "\n",
    "ax.set_theta_zero_location(\"N\")\n",
    "\n",
    "# set font size\n",
    "font = {'size'   : 12}\n",
    "matplotlib.rc('font', **font)\n",
    "\n",
    "plt.legend()\n",
    "\n",
    "show()"
   ]
  },
  {
   "cell_type": "code",
   "execution_count": 23,
   "metadata": {},
   "outputs": [],
   "source": [
    "cmap = matplotlib.cm.get_cmap('Accent')"
   ]
  },
  {
   "cell_type": "code",
   "execution_count": 31,
   "metadata": {},
   "outputs": [],
   "source": [
    "rgba = cmap(1.0)"
   ]
  },
  {
   "cell_type": "code",
   "execution_count": 30,
   "metadata": {},
   "outputs": [
    {
     "data": {
      "text/plain": [
       "(0.4, 0.4, 0.4, 1.0)"
      ]
     },
     "execution_count": 30,
     "metadata": {},
     "output_type": "execute_result"
    }
   ],
   "source": [
    "rgba"
   ]
  },
  {
   "cell_type": "code",
   "execution_count": null,
   "metadata": {},
   "outputs": [],
   "source": []
  }
 ],
 "metadata": {
  "kernelspec": {
   "display_name": "Python 3",
   "language": "python",
   "name": "python3"
  },
  "language_info": {
   "codemirror_mode": {
    "name": "ipython",
    "version": 3
   },
   "file_extension": ".py",
   "mimetype": "text/x-python",
   "name": "python",
   "nbconvert_exporter": "python",
   "pygments_lexer": "ipython3",
   "version": "3.6.6"
  }
 },
 "nbformat": 4,
 "nbformat_minor": 2
}
