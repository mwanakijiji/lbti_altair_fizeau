{
 "cells": [
  {
   "cell_type": "code",
   "execution_count": null,
   "metadata": {},
   "outputs": [],
   "source": [
    "# This reads in some randomly-selected FITS files to trace\n",
    "# profiles of PSFs for a plot in a paper\n",
    "\n",
    "# Created 2020 June 5 by E.S."
   ]
  },
  {
   "cell_type": "code",
   "execution_count": 17,
   "metadata": {},
   "outputs": [],
   "source": [
    "import glob\n",
    "import numpy as np\n",
    "import pandas as pd\n",
    "from scipy import ndimage\n",
    "import matplotlib.pyplot as plt\n",
    "from astropy.io import fits\n",
    "\n",
    "#%matplotlib inline\n",
    "%matplotlib qt"
   ]
  },
  {
   "cell_type": "code",
   "execution_count": 2,
   "metadata": {},
   "outputs": [],
   "source": [
    "# make list of all the files\n",
    "\n",
    "file_list = glob.glob(\"example_fits_files/*fits\")"
   ]
  },
  {
   "cell_type": "code",
   "execution_count": 16,
   "metadata": {},
   "outputs": [],
   "source": [
    "# read in each file, take a profile\n",
    "\n",
    "profiles_df = pd.DataFrame()\n",
    "\n",
    "for t in range(0,len(file_list)):\n",
    "\n",
    "    sciImg, header = fits.getdata(file_list[t],0,header=True)\n",
    "    \n",
    "    # take a profile in x and y\n",
    "    x_xsec = sciImg[int(0.5*np.shape(sciImg)[1]),:]\n",
    "    y_xsec = sciImg[:,int(0.5*np.shape(sciImg)[0])]\n",
    "    \n",
    "    # rotate\n",
    "    sciImg_rotated = ndimage.rotate(sciImg, angle=30, reshape=False)\n",
    "    x_xsec_rot = sciImg_rotated[int(0.5*np.shape(sciImg_rotated)[1]),:]\n",
    "    y_xsec_rot = sciImg_rotated[:,int(0.5*np.shape(sciImg_rotated)[0])]\n",
    "    \n",
    "    # now rotate and take another cross-section\n",
    "    \n",
    "    plt.plot(x_xsec, color = \"b\", alpha = 0.4)\n",
    "    plt.plot(y_xsec, color = \"b\", alpha = 0.4)\n",
    "    \n",
    "    # now plot the mirror images, so that we can cut off the left half of the plot downstream\n",
    "    plt.plot(np.flip(x_xsec), color = \"b\", alpha = 0.4)\n",
    "    plt.plot(np.flip(y_xsec), color = \"b\", alpha = 0.4)\n",
    "    \n",
    "    # do the same with rotated PSFs\n",
    "    plt.plot(x_xsec_rot, color = \"r\", alpha = 0.4)\n",
    "    plt.plot(y_xsec_rot, color = \"r\", alpha = 0.4)\n",
    "    plt.plot(np.flip(x_xsec_rot), color = \"r\", alpha = 0.4)\n",
    "    plt.plot(np.flip(y_xsec_rot), color = \"r\", alpha = 0.4)\n",
    "    \n",
    "    plt.axhline(y=55000, linestyle=\":\")\n",
    "    \n",
    "    # update profiles_df with only the right-hand side of the plotted data\n",
    "    \n",
    "\n",
    "# write out profiles\n",
    "profiles_df.to_csv(\"junk.csv\")\n",
    "\n",
    "plt.show()"
   ]
  },
  {
   "cell_type": "code",
   "execution_count": null,
   "metadata": {},
   "outputs": [],
   "source": []
  }
 ],
 "metadata": {
  "kernelspec": {
   "display_name": "Python 3",
   "language": "python",
   "name": "python3"
  },
  "language_info": {
   "codemirror_mode": {
    "name": "ipython",
    "version": 3
   },
   "file_extension": ".py",
   "mimetype": "text/x-python",
   "name": "python",
   "nbconvert_exporter": "python",
   "pygments_lexer": "ipython3",
   "version": "3.6.6"
  }
 },
 "nbformat": 4,
 "nbformat_minor": 2
}
