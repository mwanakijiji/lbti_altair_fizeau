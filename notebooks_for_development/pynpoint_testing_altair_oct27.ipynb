{
 "cells": [
  {
   "cell_type": "code",
   "execution_count": 1,
   "metadata": {
    "collapsed": true
   },
   "outputs": [],
   "source": [
    "# This makes a first contrast curve for Altair\n",
    "\n",
    "# created 2018 Sept. 20 by E.S."
   ]
  },
  {
   "cell_type": "markdown",
   "metadata": {},
   "source": [
    "## SECTION TO INITIALIZE"
   ]
  },
  {
   "cell_type": "code",
   "execution_count": 1,
   "metadata": {
    "collapsed": false
   },
   "outputs": [],
   "source": [
    "# import stuff\n",
    "\n",
    "import urllib\n",
    "import numpy as np\n",
    "import matplotlib.pyplot as plt\n",
    "\n",
    "import PynPoint\n",
    "\n",
    "from PynPoint import Pypeline\n",
    "from PynPoint.IOmodules.Hdf5Reading import Hdf5ReadingModule\n",
    "from PynPoint.IOmodules.FitsWriting import FitsWritingModule\n",
    "from PynPoint.IOmodules.FitsReading import FitsReadingModule\n",
    "from PynPoint.IOmodules.TextReading import ParangReadingModule\n",
    "from PynPoint.ProcessingModules import PSFpreparationModule, \\\n",
    "                                       PcaPsfSubtractionModule, \\\n",
    "                                       ContrastCurveModule, \\\n",
    "                                       FluxAndPosition, \\\n",
    "                                    StackingAndSubsampling\n",
    "from PynPoint.ProcessingModules.StackingAndSubsampling import DerotateAndStackModule\n",
    "from PynPoint.ProcessingModules.FluxAndPosition import FakePlanetModule\n",
    "#from PynPoint.Util import AnalysisTools"
   ]
  },
  {
   "cell_type": "code",
   "execution_count": 2,
   "metadata": {
    "collapsed": false
   },
   "outputs": [
    {
     "name": "stdout",
     "output_type": "stream",
     "text": [
      "Initiating PynPoint... [DONE]\n"
     ]
    }
   ],
   "source": [
    "# define workspaces and initialize Pypeline\n",
    "\n",
    "working_place = \"./pynpoint_experimentation_altair/working_place/oct27_working/\"\n",
    "input_place = \"./pynpoint_experimentation_altair/input_place/oct27_input/\"\n",
    "output_place = \"./pynpoint_experimentation_altair/output_place/oct27_output/\"\n",
    "\n",
    "pipeline = Pypeline(working_place_in=working_place,\n",
    "                    input_place_in=input_place,\n",
    "                    output_place_in=output_place)\n",
    "\n",
    "# now a *.ini file has been generated (this includes the PIXSCALE), if no pre-existing one was there"
   ]
  },
  {
   "cell_type": "code",
   "execution_count": 3,
   "metadata": {
    "collapsed": true
   },
   "outputs": [],
   "source": [
    "## IF THE *INI FILE WAS NEWLY GENERATED, EDIT THE *INI FILE TO SET\n",
    "## PIXSCALE = 0.0107"
   ]
  },
  {
   "cell_type": "markdown",
   "metadata": {},
   "source": [
    "## SECTION TO READ IN DATA"
   ]
  },
  {
   "cell_type": "code",
   "execution_count": 4,
   "metadata": {
    "collapsed": true
   },
   "outputs": [],
   "source": [
    "# read in science FITS files \n",
    "# (should have PARANG=0 in all headers, so as to keep the PSF in the same original orientation on the array; \n",
    "# we need to wait to correct for PARANG later)\n",
    "\n",
    "read_science = FitsReadingModule(name_in=\"read_science\",\n",
    "                                 input_dir=None,\n",
    "                                 image_tag=\"science\",\n",
    "                                 check=True)\n",
    "\n",
    "pipeline.add_module(read_science)"
   ]
  },
  {
   "cell_type": "code",
   "execution_count": 5,
   "metadata": {
    "collapsed": false
   },
   "outputs": [
    {
     "name": "stdout",
     "output_type": "stream",
     "text": [
      "Plate scale for /config/ is 0.0107\n"
     ]
    }
   ],
   "source": [
    "# confirm PIXSCALE change\n",
    "\n",
    "pixscale_config = pipeline.get_attribute(\"config\", \"PIXSCALE\")\n",
    "print(\"Plate scale for /config/ is \"+str(pixscale_config))\n",
    "#pixscale_sci = pipeline.get_attribute(\"science\", \"PIXSCALE\")\n",
    "#print(\"Plate scale for /science/ is \"+str(pixscale_sci))"
   ]
  },
  {
   "cell_type": "code",
   "execution_count": 6,
   "metadata": {
    "collapsed": false
   },
   "outputs": [],
   "source": [
    "# read in PSF reference FITS files (i.e., unsaturated frames)\n",
    "# (these do not have any PARANG in the header, but it probably doesn't matter)\n",
    "\n",
    "read_ref_psf = FitsReadingModule(name_in=\"read_ref_psf\",\n",
    "                                 input_dir=input_place+'ref_psf/',\n",
    "                                 image_tag=\"ref_psf\",\n",
    "                                 check=True)\n",
    "\n",
    "pipeline.add_module(read_ref_psf)"
   ]
  },
  {
   "cell_type": "markdown",
   "metadata": {
    "collapsed": true
   },
   "source": [
    "## SECTION TO PROCESS DATA"
   ]
  },
  {
   "cell_type": "code",
   "execution_count": 7,
   "metadata": {
    "collapsed": false
   },
   "outputs": [
    {
     "data": {
      "text/plain": [
       "'\\nparang = ParangReadingModule(\"fake_parang_vals.csv\",\\n                             name_in=\"parang\",\\n                             input_dir=input_place,\\n                             data_tag=\"science\",\\n                             overwrite=True)\\n\\npipeline.add_module(parang)\\n'"
      ]
     },
     "execution_count": 7,
     "metadata": {},
     "output_type": "execute_result"
    }
   ],
   "source": [
    "# if you want to assign parallactic angles from text file to science frames\n",
    "\n",
    "'''\n",
    "parang = ParangReadingModule(\"fake_parang_vals.csv\",\n",
    "                             name_in=\"parang\",\n",
    "                             input_dir=input_place,\n",
    "                             data_tag=\"science\",\n",
    "                             overwrite=True)\n",
    "\n",
    "pipeline.add_module(parang)\n",
    "'''"
   ]
  },
  {
   "cell_type": "code",
   "execution_count": 8,
   "metadata": {
    "collapsed": false
   },
   "outputs": [
    {
     "data": {
      "text/plain": [
       "'\\n## PIPELINE CHANNEL TEST: INJECT FAKE PLANET AND SEE IF THE PLANET PSF ITSELF GETS ROTATED\\n\\n## THERE MIGHT BE 2 WAYS OF DOING THIS: WITH FAKE_PLANET OR WITH FAKEPLANETMODULE \\n\\n# test 1: images all have set PA=0\\n\\nfake_planet_injection = FakePlanetModule(position=(0.32,0),\\n                                         magnitude=0,\\n                                         psf_scaling=2,\\n                                         interpolation=\"spline\",\\n                                         name_in=\"fake_planet_injection\",\\n                                         image_in_tag=\"science\",\\n                                         psf_in_tag=\"ref_psf\",\\n                                         image_out_tag=\"test_planet_inject\")\\n\\npipeline.add_module(fake_planet_injection)\\n\\n\\n## PIPELINE CHANNEL 1: IMAGE RESIDUALS\\n\\n# derotate and median the science images based on physical \\n# parallactic angles\\n\\nderotate_sci = DerotateAndStackModule(name_in=\"derotate_sci\",\\n                                        image_in_tag=\"test_planet_inject\",\\n                                        image_out_tag=\"derotated_test_planet_inject\",\\n                                        derotate=True,\\n                                        stack=None,\\n                                        extra_rot=0.0)\\n\\npipeline.add_module(derotate_sci)\\n\\n\\n# write out fake planet-injected images \\nwrite_fake_injection = FitsWritingModule(file_name=\"fake_injection_tests.fits\",\\n                              name_in=\"write_fake_injection\",\\n                              output_dir=output_place,\\n                              data_tag=\"test_planet_inject\")\\n\\npipeline.add_module(write_fake_injection)\\n\\n# write out derotated, PSF-subtracted images\\nwrite_all_derotated_psf_subted = FitsWritingModule(file_name=\"derotated_fake_injection_tests.fits\",\\n                                                   name_in=\"write_all_derotated_psf_subted\",\\n                                                   output_dir=output_place,\\n                                                   data_tag=\"derotated_test_planet_inject\")\\n\\npipeline.add_module(write_all_derotated_psf_subted)\\n\\n\\npipeline.run()\\n'"
      ]
     },
     "execution_count": 8,
     "metadata": {},
     "output_type": "execute_result"
    }
   ],
   "source": [
    "## TESTS\n",
    "\n",
    "'''\n",
    "## PIPELINE CHANNEL TEST: INJECT FAKE PLANET AND SEE IF THE PLANET PSF ITSELF GETS ROTATED\n",
    "\n",
    "## THERE MIGHT BE 2 WAYS OF DOING THIS: WITH FAKE_PLANET OR WITH FAKEPLANETMODULE \n",
    "\n",
    "# test 1: images all have set PA=0\n",
    "\n",
    "fake_planet_injection = FakePlanetModule(position=(0.32,0),\n",
    "                                         magnitude=0,\n",
    "                                         psf_scaling=2,\n",
    "                                         interpolation=\"spline\",\n",
    "                                         name_in=\"fake_planet_injection\",\n",
    "                                         image_in_tag=\"science\",\n",
    "                                         psf_in_tag=\"ref_psf\",\n",
    "                                         image_out_tag=\"test_planet_inject\")\n",
    "\n",
    "pipeline.add_module(fake_planet_injection)\n",
    "\n",
    "\n",
    "## PIPELINE CHANNEL 1: IMAGE RESIDUALS\n",
    "\n",
    "# derotate and median the science images based on physical \n",
    "# parallactic angles\n",
    "\n",
    "derotate_sci = DerotateAndStackModule(name_in=\"derotate_sci\",\n",
    "                                        image_in_tag=\"test_planet_inject\",\n",
    "                                        image_out_tag=\"derotated_test_planet_inject\",\n",
    "                                        derotate=True,\n",
    "                                        stack=None,\n",
    "                                        extra_rot=0.0)\n",
    "\n",
    "pipeline.add_module(derotate_sci)\n",
    "\n",
    "\n",
    "# write out fake planet-injected images \n",
    "write_fake_injection = FitsWritingModule(file_name=\"fake_injection_tests.fits\",\n",
    "                              name_in=\"write_fake_injection\",\n",
    "                              output_dir=output_place,\n",
    "                              data_tag=\"test_planet_inject\")\n",
    "\n",
    "pipeline.add_module(write_fake_injection)\n",
    "\n",
    "# write out derotated, PSF-subtracted images\n",
    "write_all_derotated_psf_subted = FitsWritingModule(file_name=\"derotated_fake_injection_tests.fits\",\n",
    "                                                   name_in=\"write_all_derotated_psf_subted\",\n",
    "                                                   output_dir=output_place,\n",
    "                                                   data_tag=\"derotated_test_planet_inject\")\n",
    "\n",
    "pipeline.add_module(write_all_derotated_psf_subted)\n",
    "\n",
    "\n",
    "pipeline.run()\n",
    "'''"
   ]
  },
  {
   "cell_type": "code",
   "execution_count": 7,
   "metadata": {
    "collapsed": false
   },
   "outputs": [],
   "source": [
    "## PIPELINE CHANNEL 1: IMAGE RESIDUALS\n",
    "\n",
    "# generate PCA basis from unsaturated frames and\n",
    "# do PCA PSF subtraction of the saturated frames\n",
    "\n",
    "pca_pca_subt = PcaPsfSubtractionModule(pca_numbers=(5, ),\n",
    "                                       name_in=\"pca\",\n",
    "                                       images_in_tag=\"science\",\n",
    "                                       reference_in_tag=\"ref_psf\",\n",
    "                                       res_mean_tag=\"mean_residuals\",\n",
    "                                       res_median_tag=\"median_residuals\",\n",
    "                                       res_arr_out_tag=\"all_resids\",\n",
    "                                       res_rot_mean_clip_tag=\"resid_rot\",\n",
    "                                       basis_out_tag=\"pca_components\",\n",
    "                                       subtract_mean=True,\n",
    "                                       verbose=True)\n",
    "\n",
    "pipeline.add_module(pca_pca_subt)\n",
    "\n",
    "# note:\n",
    "# images_in_tag: science images\n",
    "# reference_in_tag: reference images, which COULD be the science images"
   ]
  },
  {
   "cell_type": "code",
   "execution_count": 7,
   "metadata": {
    "collapsed": false
   },
   "outputs": [],
   "source": [
    "## PIPELINE CHANNEL 2: MAKE CONTRAST CURVE\n",
    "\n",
    "# make a contrast curve \n",
    "# (N.b. this does not separately require PcaPsfSubtractionModule)\n",
    "\n",
    "'''\n",
    "cent_size: mask radius\n",
    "'''\n",
    "\n",
    "# N.b. scale the reference PSF by 3.28 to match Altair's amplitude\n",
    "\n",
    "contrast_curve = ContrastCurveModule(name_in=\"contrast_curve\",\n",
    "                            image_in_tag=\"science\",\n",
    "                            psf_in_tag=\"ref_psf\",\n",
    "                            contrast_out_tag=\"contrast_landscape\",\n",
    "                            pca_out_tag=\"pca_resids\",\n",
    "                            pca_number=5,\n",
    "                            psf_scaling=3.28,\n",
    "                            separation=(0.35, 0.40, 0.05), \n",
    "                            angle=(90.0, 360.0, 360.0), \n",
    "                            magnitude=(5, 1.0),\n",
    "                            cent_size=None)\n",
    "\n",
    "pipeline.add_module(contrast_curve)"
   ]
  },
  {
   "cell_type": "code",
   "execution_count": 8,
   "metadata": {
    "collapsed": false
   },
   "outputs": [],
   "source": [
    "# write PCA resids\n",
    "\n",
    "write_pca_resids = FitsWritingModule(file_name=\"junk_pca_residuals.fits\",\n",
    "                              name_in=\"write_pca_resids\",\n",
    "                              output_dir=output_place,\n",
    "                              data_tag=\"pca_resids\")\n",
    "\n",
    "pipeline.add_module(write_pca_resids)"
   ]
  },
  {
   "cell_type": "code",
   "execution_count": 10,
   "metadata": {
    "collapsed": true
   },
   "outputs": [],
   "source": [
    "# write out PCA basis set\n",
    "\n",
    "write_pca_comp = FitsWritingModule(file_name=\"junk_pca_components.fits\",\n",
    "                              name_in=\"write_pca_comp\",\n",
    "                              output_dir=output_place,\n",
    "                              data_tag=\"pca_components\")\n",
    "\n",
    "pipeline.add_module(write_pca_comp)"
   ]
  },
  {
   "cell_type": "code",
   "execution_count": 11,
   "metadata": {
    "collapsed": true
   },
   "outputs": [],
   "source": [
    "# write out PCA-based PSF-subtracted residuals out\n",
    "\n",
    "write_mean_resids = FitsWritingModule(file_name=\"junk_mean_residuals.fits\",\n",
    "                              name_in=\"write_mean_resids\",\n",
    "                              output_dir=output_place,\n",
    "                              data_tag=\"mean_residuals\")\n",
    "\n",
    "pipeline.add_module(write_mean_resids)"
   ]
  },
  {
   "cell_type": "code",
   "execution_count": 9,
   "metadata": {
    "collapsed": false
   },
   "outputs": [],
   "source": [
    "# write out PCA-based PSF-subtracted residuals out\n",
    "\n",
    "write_median_resids = FitsWritingModule(file_name=\"junk_median_residuals.fits\",\n",
    "                              name_in=\"write_median_resids\",\n",
    "                              output_dir=output_place,\n",
    "                              data_tag=\"median_residuals\")\n",
    "\n",
    "pipeline.add_module(write_median_resids)"
   ]
  },
  {
   "cell_type": "code",
   "execution_count": 9,
   "metadata": {
    "collapsed": false
   },
   "outputs": [
    {
     "name": "stdout",
     "output_type": "stream",
     "text": [
      "Validating Pypeline... [DONE]\n"
     ]
    },
    {
     "name": "stderr",
     "output_type": "stream",
     "text": [
      "/home/unasemaje/anaconda3/envs/py27/lib/python2.7/site-packages/PynPoint/IOmodules/FitsReading.py:172: UserWarning: Static attribute DIT (=ESO DET DIT) not found in the FITS header.\n",
      "  % (item[0], fitskey))\n",
      "/home/unasemaje/anaconda3/envs/py27/lib/python2.7/site-packages/PynPoint/IOmodules/FitsReading.py:172: UserWarning: Static attribute LATITUDE (=ESO TEL GEOLAT) not found in the FITS header.\n",
      "  % (item[0], fitskey))\n",
      "/home/unasemaje/anaconda3/envs/py27/lib/python2.7/site-packages/PynPoint/IOmodules/FitsReading.py:172: UserWarning: Static attribute LONGITUDE (=ESO TEL GEOLON) not found in the FITS header.\n",
      "  % (item[0], fitskey))\n",
      "/home/unasemaje/anaconda3/envs/py27/lib/python2.7/site-packages/PynPoint/IOmodules/FitsReading.py:207: UserWarning: Non-static attribute EXP_NO (=ESO DET EXP NO) not found in the FITS header.\n",
      "  \"header.\" % (item[0], fitskey))\n",
      "/home/unasemaje/anaconda3/envs/py27/lib/python2.7/site-packages/PynPoint/IOmodules/FitsReading.py:207: UserWarning: Non-static attribute NDIT (=ESO DET NDIT) not found in the FITS header.\n",
      "  \"header.\" % (item[0], fitskey))\n",
      "/home/unasemaje/anaconda3/envs/py27/lib/python2.7/site-packages/PynPoint/IOmodules/FitsReading.py:207: UserWarning: Non-static attribute PARANG_START (=ESO ADA POSANG) not found in the FITS header.\n",
      "  \"header.\" % (item[0], fitskey))\n",
      "/home/unasemaje/anaconda3/envs/py27/lib/python2.7/site-packages/PynPoint/IOmodules/FitsReading.py:207: UserWarning: Non-static attribute PARANG_END (=ESO ADA POSANG END) not found in the FITS header.\n",
      "  \"header.\" % (item[0], fitskey))\n",
      "/home/unasemaje/anaconda3/envs/py27/lib/python2.7/site-packages/PynPoint/IOmodules/FitsReading.py:207: UserWarning: Non-static attribute DITHER_X (=ESO SEQ CUMOFFSETX) not found in the FITS header.\n",
      "  \"header.\" % (item[0], fitskey))\n",
      "/home/unasemaje/anaconda3/envs/py27/lib/python2.7/site-packages/PynPoint/IOmodules/FitsReading.py:207: UserWarning: Non-static attribute DITHER_Y (=ESO SEQ CUMOFFSETY) not found in the FITS header.\n",
      "  \"header.\" % (item[0], fitskey))\n",
      "/home/unasemaje/anaconda3/envs/py27/lib/python2.7/site-packages/PynPoint/IOmodules/FitsReading.py:207: UserWarning: Non-static attribute PUPIL (=ESO ADA PUPILPOS) not found in the FITS header.\n",
      "  \"header.\" % (item[0], fitskey))\n",
      "/home/unasemaje/anaconda3/envs/py27/lib/python2.7/site-packages/PynPoint/IOmodules/FitsReading.py:207: UserWarning: Non-static attribute RA (=RA) not found in the FITS header.\n",
      "  \"header.\" % (item[0], fitskey))\n",
      "/home/unasemaje/anaconda3/envs/py27/lib/python2.7/site-packages/PynPoint/IOmodules/FitsReading.py:207: UserWarning: Non-static attribute DEC (=DEC) not found in the FITS header.\n",
      "  \"header.\" % (item[0], fitskey))\n"
     ]
    },
    {
     "name": "stdout",
     "output_type": "stream",
     "text": [
      "Running FitsReadingModule... [DONE]\n"
     ]
    },
    {
     "name": "stderr",
     "output_type": "stream",
     "text": [
      "/home/unasemaje/anaconda3/envs/py27/lib/python2.7/site-packages/PynPoint/IOmodules/FitsReading.py:172: UserWarning: Static attribute INSTRUMENT (=INSTRUME) not found in the FITS header.\n",
      "  % (item[0], fitskey))\n",
      "/home/unasemaje/anaconda3/envs/py27/lib/python2.7/site-packages/PynPoint/IOmodules/FitsReading.py:207: UserWarning: Non-static attribute DATE (=DATE-OBS) not found in the FITS header.\n",
      "  \"header.\" % (item[0], fitskey))\n"
     ]
    },
    {
     "name": "stdout",
     "output_type": "stream",
     "text": [
      "Running FitsReadingModule... [DONE]\n",
      "Running ContrastCurveModule...\n",
      "Processing position 1 out of 2."
     ]
    },
    {
     "name": "stderr",
     "output_type": "stream",
     "text": [
      "/home/unasemaje/anaconda3/envs/py27/lib/python2.7/site-packages/PynPoint/ProcessingModules/DetectionLimits.py:164: UserWarning: The number of frames in psf_in_tag does not match with the number of frames in image_in_tag. Using the mean of psf_in_tag as PSF template.\n",
      "  warnings.warn('The number of frames in psf_in_tag does not match with the number of '\n"
     ]
    },
    {
     "name": "stdout",
     "output_type": "stream",
     "text": [
      "...."
     ]
    },
    {
     "name": "stderr",
     "output_type": "stream",
     "text": [
      "/home/unasemaje/anaconda3/envs/py27/lib/python2.7/site-packages/PynPoint/ProcessingModules/DetectionLimits.py:327: UserWarning: Magnitude decreases but false positive fraction increases. Adjusting magnitude to 4.0 and step size to 0.5\n",
      "  \"to %s\" % (list_mag[-3], mag_step/2.))\n"
     ]
    },
    {
     "name": "stdout",
     "output_type": "stream",
     "text": [
      "...."
     ]
    },
    {
     "name": "stderr",
     "output_type": "stream",
     "text": [
      "/home/unasemaje/anaconda3/envs/py27/lib/python2.7/site-packages/PynPoint/ProcessingModules/DetectionLimits.py:327: UserWarning: Magnitude decreases but false positive fraction increases. Adjusting magnitude to 3.5 and step size to 0.25\n",
      "  \"to %s\" % (list_mag[-3], mag_step/2.))\n"
     ]
    },
    {
     "name": "stdout",
     "output_type": "stream",
     "text": [
      "..."
     ]
    },
    {
     "name": "stderr",
     "output_type": "stream",
     "text": [
      "/home/unasemaje/anaconda3/envs/py27/lib/python2.7/site-packages/PynPoint/ProcessingModules/DetectionLimits.py:327: UserWarning: Magnitude decreases but false positive fraction increases. Adjusting magnitude to 3.5 and step size to 0.125\n",
      "  \"to %s\" % (list_mag[-3], mag_step/2.))\n"
     ]
    },
    {
     "name": "stdout",
     "output_type": "stream",
     "text": [
      "...."
     ]
    },
    {
     "name": "stderr",
     "output_type": "stream",
     "text": [
      "/home/unasemaje/anaconda3/envs/py27/lib/python2.7/site-packages/PynPoint/ProcessingModules/DetectionLimits.py:327: UserWarning: Magnitude decreases but false positive fraction increases. Adjusting magnitude to 3.375 and step size to 0.0625\n",
      "  \"to %s\" % (list_mag[-3], mag_step/2.))\n"
     ]
    },
    {
     "name": "stdout",
     "output_type": "stream",
     "text": [
      "...."
     ]
    },
    {
     "name": "stderr",
     "output_type": "stream",
     "text": [
      "/home/unasemaje/anaconda3/envs/py27/lib/python2.7/site-packages/PynPoint/ProcessingModules/DetectionLimits.py:327: UserWarning: Magnitude decreases but false positive fraction increases. Adjusting magnitude to 3.3125 and step size to 0.03125\n",
      "  \"to %s\" % (list_mag[-3], mag_step/2.))\n"
     ]
    },
    {
     "name": "stdout",
     "output_type": "stream",
     "text": [
      "...."
     ]
    },
    {
     "name": "stderr",
     "output_type": "stream",
     "text": [
      "/home/unasemaje/anaconda3/envs/py27/lib/python2.7/site-packages/PynPoint/ProcessingModules/DetectionLimits.py:327: UserWarning: Magnitude decreases but false positive fraction increases. Adjusting magnitude to 3.28125 and step size to 0.015625\n",
      "  \"to %s\" % (list_mag[-3], mag_step/2.))\n"
     ]
    },
    {
     "name": "stdout",
     "output_type": "stream",
     "text": [
      "...."
     ]
    },
    {
     "name": "stderr",
     "output_type": "stream",
     "text": [
      "/home/unasemaje/anaconda3/envs/py27/lib/python2.7/site-packages/PynPoint/ProcessingModules/DetectionLimits.py:327: UserWarning: Magnitude decreases but false positive fraction increases. Adjusting magnitude to 3.265625 and step size to 0.0078125\n",
      "  \"to %s\" % (list_mag[-3], mag_step/2.))\n"
     ]
    },
    {
     "name": "stdout",
     "output_type": "stream",
     "text": [
      "...."
     ]
    },
    {
     "name": "stderr",
     "output_type": "stream",
     "text": [
      "/home/unasemaje/anaconda3/envs/py27/lib/python2.7/site-packages/PynPoint/ProcessingModules/DetectionLimits.py:327: UserWarning: Magnitude decreases but false positive fraction increases. Adjusting magnitude to 3.2578125 and step size to 0.00390625\n",
      "  \"to %s\" % (list_mag[-3], mag_step/2.))\n"
     ]
    },
    {
     "name": "stdout",
     "output_type": "stream",
     "text": [
      ".."
     ]
    },
    {
     "ename": "KeyboardInterrupt",
     "evalue": "",
     "output_type": "error",
     "traceback": [
      "\u001b[1;31m---------------------------------------------------------------------------\u001b[0m",
      "\u001b[1;31mKeyboardInterrupt\u001b[0m                         Traceback (most recent call last)",
      "\u001b[1;32m<ipython-input-9-45328862925b>\u001b[0m in \u001b[0;36m<module>\u001b[1;34m()\u001b[0m\n\u001b[1;32m----> 1\u001b[1;33m \u001b[0mpipeline\u001b[0m\u001b[1;33m.\u001b[0m\u001b[0mrun\u001b[0m\u001b[1;33m(\u001b[0m\u001b[1;33m)\u001b[0m\u001b[1;33m\u001b[0m\u001b[0m\n\u001b[0m",
      "\u001b[1;32m/home/unasemaje/anaconda3/envs/py27/lib/python2.7/site-packages/PynPoint/Core/Pypeline.pyc\u001b[0m in \u001b[0;36mrun\u001b[1;34m(self)\u001b[0m\n\u001b[0;32m    358\u001b[0m \u001b[1;33m\u001b[0m\u001b[0m\n\u001b[0;32m    359\u001b[0m         \u001b[1;32mfor\u001b[0m \u001b[0mkey\u001b[0m \u001b[1;32min\u001b[0m \u001b[0mself\u001b[0m\u001b[1;33m.\u001b[0m\u001b[0m_m_modules\u001b[0m\u001b[1;33m:\u001b[0m\u001b[1;33m\u001b[0m\u001b[0m\n\u001b[1;32m--> 360\u001b[1;33m             \u001b[0mself\u001b[0m\u001b[1;33m.\u001b[0m\u001b[0m_m_modules\u001b[0m\u001b[1;33m[\u001b[0m\u001b[0mkey\u001b[0m\u001b[1;33m]\u001b[0m\u001b[1;33m.\u001b[0m\u001b[0mrun\u001b[0m\u001b[1;33m(\u001b[0m\u001b[1;33m)\u001b[0m\u001b[1;33m\u001b[0m\u001b[0m\n\u001b[0m\u001b[0;32m    361\u001b[0m \u001b[1;33m\u001b[0m\u001b[0m\n\u001b[0;32m    362\u001b[0m     \u001b[1;32mdef\u001b[0m \u001b[0mrun_module\u001b[0m\u001b[1;33m(\u001b[0m\u001b[0mself\u001b[0m\u001b[1;33m,\u001b[0m \u001b[0mname\u001b[0m\u001b[1;33m)\u001b[0m\u001b[1;33m:\u001b[0m\u001b[1;33m\u001b[0m\u001b[0m\n",
      "\u001b[1;32m/home/unasemaje/anaconda3/envs/py27/lib/python2.7/site-packages/PynPoint/ProcessingModules/DetectionLimits.pyc\u001b[0m in \u001b[0;36mrun\u001b[1;34m(self)\u001b[0m\n\u001b[0;32m    255\u001b[0m \u001b[1;33m\u001b[0m\u001b[0m\n\u001b[0;32m    256\u001b[0m                     \u001b[0mprep\u001b[0m\u001b[1;33m.\u001b[0m\u001b[0mconnect_database\u001b[0m\u001b[1;33m(\u001b[0m\u001b[0mself\u001b[0m\u001b[1;33m.\u001b[0m\u001b[0m_m_data_base\u001b[0m\u001b[1;33m)\u001b[0m\u001b[1;33m\u001b[0m\u001b[0m\n\u001b[1;32m--> 257\u001b[1;33m                     \u001b[0mprep\u001b[0m\u001b[1;33m.\u001b[0m\u001b[0mrun\u001b[0m\u001b[1;33m(\u001b[0m\u001b[1;33m)\u001b[0m\u001b[1;33m\u001b[0m\u001b[0m\n\u001b[0m\u001b[0;32m    258\u001b[0m \u001b[1;33m\u001b[0m\u001b[0m\n\u001b[0;32m    259\u001b[0m                     psf_sub = PcaPsfSubtractionModule(name_in=\"pca_contrast\",\n",
      "\u001b[1;32m/home/unasemaje/anaconda3/envs/py27/lib/python2.7/site-packages/PynPoint/ProcessingModules/PSFpreparation.pyc\u001b[0m in \u001b[0;36mrun\u001b[1;34m(self)\u001b[0m\n\u001b[0;32m    165\u001b[0m \u001b[1;33m\u001b[0m\u001b[0m\n\u001b[0;32m    166\u001b[0m         \u001b[0mself\u001b[0m\u001b[1;33m.\u001b[0m\u001b[0mm_image_out_port\u001b[0m\u001b[1;33m.\u001b[0m\u001b[0mset_all\u001b[0m\u001b[1;33m(\u001b[0m\u001b[0mim_data\u001b[0m\u001b[1;33m,\u001b[0m \u001b[0mkeep_attributes\u001b[0m\u001b[1;33m=\u001b[0m\u001b[0mTrue\u001b[0m\u001b[1;33m)\u001b[0m\u001b[1;33m\u001b[0m\u001b[0m\n\u001b[1;32m--> 167\u001b[1;33m         \u001b[0mself\u001b[0m\u001b[1;33m.\u001b[0m\u001b[0mm_image_out_port\u001b[0m\u001b[1;33m.\u001b[0m\u001b[0madd_attribute\u001b[0m\u001b[1;33m(\u001b[0m\u001b[1;34m\"norm\"\u001b[0m\u001b[1;33m,\u001b[0m \u001b[0mim_norm\u001b[0m\u001b[1;33m,\u001b[0m \u001b[0mstatic\u001b[0m\u001b[1;33m=\u001b[0m\u001b[0mFalse\u001b[0m\u001b[1;33m)\u001b[0m\u001b[1;33m\u001b[0m\u001b[0m\n\u001b[0m\u001b[0;32m    168\u001b[0m         \u001b[0mself\u001b[0m\u001b[1;33m.\u001b[0m\u001b[0mm_image_out_port\u001b[0m\u001b[1;33m.\u001b[0m\u001b[0mcopy_attributes_from_input_port\u001b[0m\u001b[1;33m(\u001b[0m\u001b[0mself\u001b[0m\u001b[1;33m.\u001b[0m\u001b[0mm_image_in_port\u001b[0m\u001b[1;33m)\u001b[0m\u001b[1;33m\u001b[0m\u001b[0m\n\u001b[0;32m    169\u001b[0m         \u001b[1;32mif\u001b[0m \u001b[0mself\u001b[0m\u001b[1;33m.\u001b[0m\u001b[0mm_resize\u001b[0m \u001b[1;32mis\u001b[0m \u001b[1;32mnot\u001b[0m \u001b[0mNone\u001b[0m\u001b[1;33m:\u001b[0m\u001b[1;33m\u001b[0m\u001b[0m\n",
      "\u001b[1;32m/home/unasemaje/anaconda3/envs/py27/lib/python2.7/site-packages/PynPoint/Core/DataIO.pyc\u001b[0m in \u001b[0;36madd_attribute\u001b[1;34m(self, name, value, static)\u001b[0m\n\u001b[0;32m    940\u001b[0m         \u001b[1;32melse\u001b[0m\u001b[1;33m:\u001b[0m\u001b[1;33m\u001b[0m\u001b[0m\n\u001b[0;32m    941\u001b[0m             self._set_all_key(tag=(\"header_\" + self._m_tag + \"/\" + name),\n\u001b[1;32m--> 942\u001b[1;33m                               data=np.asarray(value))\n\u001b[0m\u001b[0;32m    943\u001b[0m \u001b[1;33m\u001b[0m\u001b[0m\n\u001b[0;32m    944\u001b[0m     def append_attribute_data(self,\n",
      "\u001b[1;32m/home/unasemaje/anaconda3/envs/py27/lib/python2.7/site-packages/PynPoint/Core/DataIO.pyc\u001b[0m in \u001b[0;36m_set_all_key\u001b[1;34m(self, tag, data, data_dim, keep_attributes)\u001b[0m\n\u001b[0;32m    680\u001b[0m \u001b[1;33m\u001b[0m\u001b[0m\n\u001b[0;32m    681\u001b[0m         \u001b[1;31m# make new database entry\u001b[0m\u001b[1;33m\u001b[0m\u001b[1;33m\u001b[0m\u001b[0m\n\u001b[1;32m--> 682\u001b[1;33m         \u001b[0mself\u001b[0m\u001b[1;33m.\u001b[0m\u001b[0m_initialize_database\u001b[0m\u001b[1;33m(\u001b[0m\u001b[0mdata\u001b[0m\u001b[1;33m,\u001b[0m \u001b[0mtag\u001b[0m\u001b[1;33m,\u001b[0m \u001b[0mdata_dim\u001b[0m\u001b[1;33m=\u001b[0m\u001b[0mdata_dim\u001b[0m\u001b[1;33m)\u001b[0m\u001b[1;33m\u001b[0m\u001b[0m\n\u001b[0m\u001b[0;32m    683\u001b[0m \u001b[1;33m\u001b[0m\u001b[0m\n\u001b[0;32m    684\u001b[0m         \u001b[1;32mif\u001b[0m \u001b[0mkeep_attributes\u001b[0m\u001b[1;33m:\u001b[0m\u001b[1;33m\u001b[0m\u001b[0m\n",
      "\u001b[1;32m/home/unasemaje/anaconda3/envs/py27/lib/python2.7/site-packages/PynPoint/Core/DataIO.pyc\u001b[0m in \u001b[0;36m_initialize_database\u001b[1;34m(self, first_data, tag, data_dim)\u001b[0m\n\u001b[0;32m    639\u001b[0m         self._m_data_storage.m_data_bank.create_dataset(tag,\n\u001b[0;32m    640\u001b[0m                                                         \u001b[0mdata\u001b[0m\u001b[1;33m=\u001b[0m\u001b[0mfirst_data\u001b[0m\u001b[1;33m,\u001b[0m\u001b[1;33m\u001b[0m\u001b[0m\n\u001b[1;32m--> 641\u001b[1;33m                                                         maxshape=data_shape)\n\u001b[0m\u001b[0;32m    642\u001b[0m \u001b[1;33m\u001b[0m\u001b[0m\n\u001b[0;32m    643\u001b[0m     def _set_all_key(self,\n",
      "\u001b[1;32m/home/unasemaje/anaconda3/envs/py27/lib/python2.7/site-packages/h5py/_hl/group.pyc\u001b[0m in \u001b[0;36mcreate_dataset\u001b[1;34m(self, name, shape, dtype, data, **kwds)\u001b[0m\n\u001b[0;32m    103\u001b[0m         \"\"\"\n\u001b[0;32m    104\u001b[0m         \u001b[1;32mwith\u001b[0m \u001b[0mphil\u001b[0m\u001b[1;33m:\u001b[0m\u001b[1;33m\u001b[0m\u001b[0m\n\u001b[1;32m--> 105\u001b[1;33m             \u001b[0mdsid\u001b[0m \u001b[1;33m=\u001b[0m \u001b[0mdataset\u001b[0m\u001b[1;33m.\u001b[0m\u001b[0mmake_new_dset\u001b[0m\u001b[1;33m(\u001b[0m\u001b[0mself\u001b[0m\u001b[1;33m,\u001b[0m \u001b[0mshape\u001b[0m\u001b[1;33m,\u001b[0m \u001b[0mdtype\u001b[0m\u001b[1;33m,\u001b[0m \u001b[0mdata\u001b[0m\u001b[1;33m,\u001b[0m \u001b[1;33m**\u001b[0m\u001b[0mkwds\u001b[0m\u001b[1;33m)\u001b[0m\u001b[1;33m\u001b[0m\u001b[0m\n\u001b[0m\u001b[0;32m    106\u001b[0m             \u001b[0mdset\u001b[0m \u001b[1;33m=\u001b[0m \u001b[0mdataset\u001b[0m\u001b[1;33m.\u001b[0m\u001b[0mDataset\u001b[0m\u001b[1;33m(\u001b[0m\u001b[0mdsid\u001b[0m\u001b[1;33m)\u001b[0m\u001b[1;33m\u001b[0m\u001b[0m\n\u001b[0;32m    107\u001b[0m             \u001b[1;32mif\u001b[0m \u001b[0mname\u001b[0m \u001b[1;32mis\u001b[0m \u001b[1;32mnot\u001b[0m \u001b[0mNone\u001b[0m\u001b[1;33m:\u001b[0m\u001b[1;33m\u001b[0m\u001b[0m\n",
      "\u001b[1;32m/home/unasemaje/anaconda3/envs/py27/lib/python2.7/site-packages/h5py/_hl/dataset.pyc\u001b[0m in \u001b[0;36mmake_new_dset\u001b[1;34m(parent, shape, dtype, data, chunks, compression, shuffle, fletcher32, maxshape, compression_opts, fillvalue, scaleoffset, track_times)\u001b[0m\n\u001b[0;32m    130\u001b[0m \u001b[1;33m\u001b[0m\u001b[0m\n\u001b[0;32m    131\u001b[0m     \u001b[1;32mif\u001b[0m \u001b[0mdata\u001b[0m \u001b[1;32mis\u001b[0m \u001b[1;32mnot\u001b[0m \u001b[0mNone\u001b[0m\u001b[1;33m:\u001b[0m\u001b[1;33m\u001b[0m\u001b[0m\n\u001b[1;32m--> 132\u001b[1;33m         \u001b[0mdset_id\u001b[0m\u001b[1;33m.\u001b[0m\u001b[0mwrite\u001b[0m\u001b[1;33m(\u001b[0m\u001b[0mh5s\u001b[0m\u001b[1;33m.\u001b[0m\u001b[0mALL\u001b[0m\u001b[1;33m,\u001b[0m \u001b[0mh5s\u001b[0m\u001b[1;33m.\u001b[0m\u001b[0mALL\u001b[0m\u001b[1;33m,\u001b[0m \u001b[0mdata\u001b[0m\u001b[1;33m)\u001b[0m\u001b[1;33m\u001b[0m\u001b[0m\n\u001b[0m\u001b[0;32m    133\u001b[0m \u001b[1;33m\u001b[0m\u001b[0m\n\u001b[0;32m    134\u001b[0m     \u001b[1;32mreturn\u001b[0m \u001b[0mdset_id\u001b[0m\u001b[1;33m\u001b[0m\u001b[0m\n",
      "\u001b[1;31mKeyboardInterrupt\u001b[0m: "
     ]
    }
   ],
   "source": [
    "pipeline.run()"
   ]
  },
  {
   "cell_type": "code",
   "execution_count": 13,
   "metadata": {
    "collapsed": false
   },
   "outputs": [
    {
     "name": "stdout",
     "output_type": "stream",
     "text": [
      "[]\n"
     ]
    }
   ],
   "source": [
    "contrast_curve_results = pipeline.get_data(\"contrast_landscape\")\n",
    "print(contrast_curve_results)"
   ]
  },
  {
   "cell_type": "code",
   "execution_count": 12,
   "metadata": {
    "collapsed": true
   },
   "outputs": [],
   "source": [
    "#####################################################################################################################"
   ]
  },
  {
   "cell_type": "code",
   "execution_count": 13,
   "metadata": {
    "collapsed": true
   },
   "outputs": [],
   "source": [
    "# make plots\n",
    "\n",
    "f, (ax1, ax2) = plt.subplots(1, 2)\n",
    "ax1.plot(contrast_curve_results[:,0],contrast_curve_results[:,1])\n",
    "ax1.set_title('Azim. averaged contrast limit')\n",
    "ax1.set_xlabel('Radius (asec)')\n",
    "ax2.set_ylabel('del_mag')\n",
    "ax2.plot(contrast_curve_results[:,0],contrast_curve_results[:,3])\n",
    "ax2.set_title('Threshold of FPF')\n",
    "ax2.set_xlabel('Radius (asec)')\n",
    "f.savefig('test.png')"
   ]
  },
  {
   "cell_type": "code",
   "execution_count": null,
   "metadata": {
    "collapsed": true
   },
   "outputs": [],
   "source": []
  }
 ],
 "metadata": {
  "kernelspec": {
   "display_name": "Python 2",
   "language": "python",
   "name": "python2"
  },
  "language_info": {
   "codemirror_mode": {
    "name": "ipython",
    "version": 2
   },
   "file_extension": ".py",
   "mimetype": "text/x-python",
   "name": "python",
   "nbconvert_exporter": "python",
   "pygments_lexer": "ipython2",
   "version": "2.7.11"
  }
 },
 "nbformat": 4,
 "nbformat_minor": 2
}
