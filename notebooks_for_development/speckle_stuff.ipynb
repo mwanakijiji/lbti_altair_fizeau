{
 "cells": [
  {
   "cell_type": "code",
   "execution_count": 43,
   "metadata": {},
   "outputs": [],
   "source": [
    "import matplotlib.pyplot as plt\n",
    "from scipy import optimize\n",
    "import numpy as np\n",
    "\n",
    "%matplotlib qt"
   ]
  },
  {
   "cell_type": "code",
   "execution_count": 2,
   "metadata": {},
   "outputs": [],
   "source": [
    "def weight_i(Rp_pass,alpha_i):\n",
    "    '''\n",
    "    Rp: total illumination of planet in counts\n",
    "    alpha_i: total sky counts in observation i\n",
    "    '''\n",
    "    \n",
    "    return np.power(Rp_pass+alpha_i,-0.5)"
   ]
  },
  {
   "cell_type": "code",
   "execution_count": 3,
   "metadata": {},
   "outputs": [],
   "source": [
    "def sewm(weights_array_pass):\n",
    "    '''\n",
    "    sewm = \"standard error of the weighted mean\"\n",
    "    weights_array: array of weights\n",
    "    '''\n",
    "    \n",
    "    return np.divide(1.,np.sqrt(np.nansum(weights_array_pass)))"
   ]
  },
  {
   "cell_type": "code",
   "execution_count": 4,
   "metadata": {},
   "outputs": [
    {
     "data": {
      "text/plain": [
       "0.7252648712892664"
      ]
     },
     "execution_count": 4,
     "metadata": {},
     "output_type": "execute_result"
    }
   ],
   "source": [
    "np.random.rand()"
   ]
  },
  {
   "cell_type": "code",
   "execution_count": 65,
   "metadata": {},
   "outputs": [
    {
     "name": "stderr",
     "output_type": "stream",
     "text": [
      "/Users/nyumbani/anaconda3/envs/py366/lib/python3.6/site-packages/ipykernel_launcher.py:26: RuntimeWarning: divide by zero encountered in true_divide\n"
     ]
    }
   ],
   "source": [
    "# Over N nights, how does the sewm change for the same level of contrast?\n",
    "\n",
    "N = 30 # number of nights\n",
    "sewm_constant_array = np.nan*np.ones(N) # initialize, for N nights\n",
    "sewm_random_array = np.nan*np.ones(N) # initialize\n",
    "weight_constant_array = np.nan*np.ones(N) # initialize\n",
    "weight_random_array = np.nan*np.ones(N) # initialize\n",
    "inv_sqrt_array = np.nan*np.ones(N) # initialize\n",
    "Rp = 1 # planet brightness\n",
    "\n",
    "# loop over each night, re-calculating the sewm for the cumulative night \n",
    "for night_num in range(0,len(sewm_constant_array)):\n",
    "    \n",
    "    alpha_i = 5 # sky level that night (if constant)\n",
    "    Rp_i = Rp # planet that night\n",
    "\n",
    "    # for constant sky\n",
    "    weight_constant_array[night_num] = weight_i(Rp_i,alpha_i)\n",
    "    sewm_constant_array[night_num] = sewm(weight_constant_array)\n",
    "    \n",
    "    # for varying sky\n",
    "    weight_random_array[night_num] = weight_i(Rp_i,alpha_i+5*(np.random.rand()-0.5))\n",
    "    sewm_random_array[night_num] = sewm(weight_random_array)\n",
    "    \n",
    "    # 1/sqrt(N) curve\n",
    "    inv_sqrt_array[night_num] = np.divide(1.,np.sqrt(night_num))\n",
    "    \n",
    "    # scale so as to fit the other two curves\n",
    "    inv_sqrt_array_constant = np.multiply(inv_sqrt_array,np.divide(sewm_constant_array[1],inv_sqrt_array[1]))\n",
    "    inv_sqrt_array_random = np.multiply(inv_sqrt_array,np.divide(sewm_random_array[1],inv_sqrt_array[1]))"
   ]
  },
  {
   "cell_type": "code",
   "execution_count": 66,
   "metadata": {},
   "outputs": [
    {
     "data": {
      "text/plain": [
       "array([-0.29689813,  0.11150785,  0.35512165,  0.48658687, -0.39928892,\n",
       "        0.40189723, -0.09032709, -0.49007478,  0.45262821, -0.34296679])"
      ]
     },
     "execution_count": 66,
     "metadata": {},
     "output_type": "execute_result"
    }
   ],
   "source": [
    "np.random.rand(10)-0.5"
   ]
  },
  {
   "cell_type": "code",
   "execution_count": 67,
   "metadata": {},
   "outputs": [],
   "source": [
    "# best fits to square roots\n",
    "\n",
    "def sqrt_func(x, a, b):\n",
    "    return a * np.divide(1.,np.sqrt(x)) + b\n",
    "\n",
    "x_data_1 = np.arange(len(sewm_constant_array))[1:]\n",
    "y_data_1 = sewm_constant_array[1:]\n",
    "params_1, params_covariance_1 = optimize.curve_fit(sqrt_func, x_data_1, y_data_1, p0=None)\n",
    "\n",
    "x_data_2 = np.arange(len(sewm_random_array))[1:]\n",
    "y_data_2 = sewm_random_array[1:]\n",
    "params_2, params_covariance_2 = optimize.curve_fit(sqrt_func, x_data_2, y_data_2, p0=None)"
   ]
  },
  {
   "cell_type": "code",
   "execution_count": 68,
   "metadata": {},
   "outputs": [],
   "source": [
    "# plot \n",
    "\n",
    "plt.plot(np.arange(len(sewm_constant_array))[1:],sewm_constant_array[1:],\n",
    "         marker=\"o\",label=\"std error of the weighted mean (same sky)\")\n",
    "plt.plot(np.arange(len(sewm_random_array))[1:],sewm_random_array[1:],\n",
    "         marker=\"o\",label=\"std error of the weighted mean (random sky)\")\n",
    "\n",
    "plt.plot(x_data_1, sqrt_func(x_data_1,params_1[0],params_1[1]),label=\"1/sqrt(N) (scaled to same sky)\")\n",
    "plt.plot(x_data_2, sqrt_func(x_data_2,params_2[0],params_2[1]),label=\"1/sqrt(N) (scaled to random sky)\")\n",
    "\n",
    "plt.yscale('log')\n",
    "plt.xlabel(\"Number nights\")\n",
    "plt.legend()\n",
    "plt.show()"
   ]
  },
  {
   "cell_type": "code",
   "execution_count": null,
   "metadata": {},
   "outputs": [],
   "source": []
  }
 ],
 "metadata": {
  "kernelspec": {
   "display_name": "Python 3",
   "language": "python",
   "name": "python3"
  },
  "language_info": {
   "codemirror_mode": {
    "name": "ipython",
    "version": 3
   },
   "file_extension": ".py",
   "mimetype": "text/x-python",
   "name": "python",
   "nbconvert_exporter": "python",
   "pygments_lexer": "ipython3",
   "version": "3.6.6"
  }
 },
 "nbformat": 4,
 "nbformat_minor": 2
}
