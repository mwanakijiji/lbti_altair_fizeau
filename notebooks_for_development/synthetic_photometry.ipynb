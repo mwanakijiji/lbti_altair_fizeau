{
 "cells": [
  {
   "cell_type": "code",
   "execution_count": null,
   "metadata": {},
   "outputs": [],
   "source": [
    "# This takes a model spectrum, integrates it over a filter curve\n",
    "\n",
    "# Created 2020 Feb. 26 by E.S."
   ]
  },
  {
   "cell_type": "code",
   "execution_count": 13,
   "metadata": {},
   "outputs": [],
   "source": [
    "import numpy as np\n",
    "import pandas as pd\n",
    "import matplotlib.pyplot as plt\n",
    "from svo_filters import svo"
   ]
  },
  {
   "cell_type": "code",
   "execution_count": 2,
   "metadata": {},
   "outputs": [
    {
     "name": "stdout",
     "output_type": "stream",
     "text": [
      "Bandpass trimmed to 3.98778 um - 4.12422 um\n",
      "1 bins of 65 pixels each.\n"
     ]
    }
   ],
   "source": [
    "NB405 = svo.Filter('Paranal.NACO.NB405', nbins=15)"
   ]
  },
  {
   "cell_type": "code",
   "execution_count": 30,
   "metadata": {},
   "outputs": [],
   "source": [
    "H_band = svo.Filter('2MASS.H')"
   ]
  },
  {
   "cell_type": "code",
   "execution_count": 31,
   "metadata": {},
   "outputs": [
    {
     "name": "stdout",
     "output_type": "stream",
     "text": [
      "     Attributes                                                    Values                                             \n",
      "-------------------- -------------------------------------------------------------------------------------------------\n",
      "                Band H                                                                                                \n",
      "CalibrationReference http://adsabs.harvard.edu/cgi-bin/nph-bib_query?bibcode=2003AJ....126.1090C&db_key=AST           \n",
      "            Facility 2MASS                                                                                            \n",
      "FilterProfileService ivo://svo/fps                                                                                    \n",
      "              MagSys Vega                                                                                             \n",
      "           PhotCalID 2MASS/2MASS.H/Vega                                                                               \n",
      "          PhotSystem 2MASS                                                                                            \n",
      "    ProfileReference http://www.ipac.caltech.edu/2mass/releases/allsky/doc/sec6_4a.html                               \n",
      "       WavelengthUCD em.wl                                                                                            \n",
      "       ZeroPointType Pogson                                                                                           \n",
      "          ext_vector 0.327                                                                                            \n",
      "            filterID 2MASS/2MASS.H                                                                                    \n",
      "                fwhm 0.26096 um                                                                                       \n",
      "              n_bins 1                                                                                                \n",
      "                name 2MASS.H                                                                                          \n",
      "                path /Users/nyumbani/anaconda3/envs/py366/lib/python3.6/site-packages/svo_filters/data/filters/2MASS.H\n",
      "      pixels_per_bin 58                                                                                               \n",
      "                refs ['AST']                                                                                          \n",
      "         systematics 0.02                                                                                             \n",
      "         wave_center 1.64872 um                                                                                       \n",
      "            wave_eff 1.662 um                                                                                         \n",
      "            wave_max 1.8231 um                                                                                        \n",
      "           wave_mean 1.662 um                                                                                         \n",
      "            wave_min 1.47874 um                                                                                       \n",
      "           wave_peak 1.671 um                                                                                         \n",
      "           wave_phot 1.64238 um                                                                                       \n",
      "          wave_pivot 1.64949 um                                                                                       \n",
      "           width_eff 0.25094 um                                                                                       \n",
      "                  zp 1.1113698753332439e-10 erg / (Angstrom cm2 s)                                                    \n"
     ]
    }
   ],
   "source": [
    "H_band.info()"
   ]
  },
  {
   "cell_type": "code",
   "execution_count": 3,
   "metadata": {},
   "outputs": [
    {
     "name": "stdout",
     "output_type": "stream",
     "text": [
      "     Attributes                                                         Values                                                   \n",
      "-------------------- ------------------------------------------------------------------------------------------------------------\n",
      "            Comments />                                                                                                          \n",
      "            Facility Paranal                                                                                                     \n",
      "FilterProfileService ivo://svo/fps                                                                                               \n",
      "          Instrument NACO                                                                                                        \n",
      "              MagSys Vega                                                                                                        \n",
      "           PhotCalID Paranal/NACO.NB405/Vega                                                                                     \n",
      "          PhotSystem NACO                                                                                                        \n",
      "    ProfileReference http://www.eso.org/sci/facilities/paranal/instruments/naco/inst/filters.html                                \n",
      "       WavelengthUCD em.wl                                                                                                       \n",
      "       ZeroPointType Pogson                                                                                                      \n",
      "          ext_vector 0                                                                                                           \n",
      "            filterID Paranal/NACO.NB405                                                                                          \n",
      "                fwhm 0.06125 um                                                                                                  \n",
      "              n_bins 1                                                                                                           \n",
      "                name NACO.NB405                                                                                                  \n",
      "                path /Users/nyumbani/anaconda3/envs/py366/lib/python3.6/site-packages/svo_filters/data/filters/Paranal.NACO.NB405\n",
      "      pixels_per_bin 65                                                                                                          \n",
      "                refs []                                                                                                          \n",
      "         systematics 0.02                                                                                                        \n",
      "         wave_center 4.05525 um                                                                                                  \n",
      "            wave_eff 4.05554 um                                                                                                  \n",
      "            wave_max 4.12422 um                                                                                                  \n",
      "           wave_mean 4.05586 um                                                                                                  \n",
      "            wave_min 3.98778 um                                                                                                  \n",
      "           wave_peak 4.058 um                                                                                                    \n",
      "           wave_phot 4.05566 um                                                                                                  \n",
      "          wave_pivot 4.05569 um                                                                                                  \n",
      "           width_eff 0.06164 um                                                                                                  \n",
      "                  zp 3.884572649421134e-12 erg / (Angstrom cm2 s)                                                                \n"
     ]
    }
   ],
   "source": [
    "NB405.info()"
   ]
  },
  {
   "cell_type": "code",
   "execution_count": 29,
   "metadata": {},
   "outputs": [],
   "source": [
    "# Get a spectrum\n",
    "\n",
    "spec_df = pd.read_csv('data/model_spec_teff_7750_logg_4_feh_0.txt', names=[\"wavel\",\"flux\"], \n",
    "                  delim_whitespace=True, skiprows=18)\n",
    "spec_df[\"dummy_col\"] = 1 # add dummy column of 1\n",
    "spec = spec_df.rename_axis(\"ID\").values\n",
    "\n",
    "spec_junk = np.genfromtxt('data/vega.txt')"
   ]
  },
  {
   "cell_type": "code",
   "execution_count": 20,
   "metadata": {},
   "outputs": [
    {
     "data": {
      "text/plain": [
       "array([[1.81700e+02, 0.00000e+00, 1.00000e+00],\n",
       "       [1.93900e+02, 0.00000e+00, 1.00000e+00],\n",
       "       [2.05000e+02, 0.00000e+00, 1.00000e+00],\n",
       "       ...,\n",
       "       [1.20000e+06, 7.14139e-02, 1.00000e+00],\n",
       "       [1.40000e+06, 3.83533e-02, 1.00000e+00],\n",
       "       [1.60000e+06, 2.23801e-02, 1.00000e+00]])"
      ]
     },
     "execution_count": 20,
     "metadata": {},
     "output_type": "execute_result"
    }
   ],
   "source": [
    "spec"
   ]
  },
  {
   "cell_type": "code",
   "execution_count": 19,
   "metadata": {},
   "outputs": [
    {
     "data": {
      "text/plain": [
       "array([[9.00092e-02, 1.68166e-17, 1.00000e+00],\n",
       "       [9.03057e-02, 1.82567e-17, 1.00000e+00],\n",
       "       [9.06022e-02, 1.98043e-17, 1.00000e+00],\n",
       "       ...,\n",
       "       [6.49845e+00, 6.16890e-13, 1.00000e+00],\n",
       "       [6.49875e+00, 6.16725e-13, 1.00000e+00],\n",
       "       [6.49904e+00, 6.16561e-13, 1.00000e+00]])"
      ]
     },
     "execution_count": 19,
     "metadata": {},
     "output_type": "execute_result"
    }
   ],
   "source": [
    "spec_junk"
   ]
  },
  {
   "cell_type": "code",
   "execution_count": 17,
   "metadata": {},
   "outputs": [
    {
     "data": {
      "image/png": "[encoded data removed]",
      "text/plain": [
       "<Figure size 432x288 with 1 Axes>"
      ]
     },
     "metadata": {
      "needs_background": "light"
     },
     "output_type": "display_data"
    }
   ],
   "source": [
    "plt.scatter(spec_junk[:,0],spec_junk[:,2])\n",
    "plt.show()"
   ]
  },
  {
   "cell_type": "code",
   "execution_count": 23,
   "metadata": {},
   "outputs": [],
   "source": [
    "# Apply the filter\n",
    "\n",
    "filtered = NB405.apply(spec_junk, plot=True)"
   ]
  },
  {
   "cell_type": "code",
   "execution_count": 32,
   "metadata": {},
   "outputs": [],
   "source": [
    "filtered_junk = H_band.apply(spec_junk, plot=True)"
   ]
  },
  {
   "cell_type": "code",
   "execution_count": 28,
   "metadata": {},
   "outputs": [
    {
     "data": {
      "text/plain": [
       "array([3.988, 3.99 , 3.992, 3.994, 3.996, 3.998, 4.   , 4.002, 4.004,\n",
       "       4.006, 4.008, 4.01 , 4.012, 4.014, 4.016, 4.018, 4.02 , 4.022,\n",
       "       4.024, 4.026, 4.028, 4.03 , 4.04 , 4.042, 4.044, 4.046, 4.048,\n",
       "       4.05 , 4.052, 4.054, 4.056, 4.058, 4.06 , 4.062, 4.064, 4.066,\n",
       "       4.068, 4.07 , 4.072, 4.074, 4.076, 4.078, 4.08 , 4.082, 4.084,\n",
       "       4.086, 4.088, 4.09 , 4.092, 4.094, 4.096, 4.098, 4.1  , 4.102,\n",
       "       4.104, 4.106, 4.108, 4.11 , 4.112, 4.114, 4.116, 4.118, 4.12 ,\n",
       "       4.122, 4.124, 0.01 , 0.01 , 0.01 , 0.02 , 0.02 , 0.02 , 0.03 ,\n",
       "       0.03 , 0.04 , 0.05 , 0.06 , 0.07 , 0.1  , 0.14 , 0.18 , 0.26 ,\n",
       "       0.3  , 0.36 , 0.42 , 0.5  , 0.55 , 0.6  , 0.8  , 0.81 , 0.82 ,\n",
       "       0.83 , 0.85 , 0.87 , 0.87 , 0.87 , 0.87 , 0.89 , 0.88 , 0.88 ,\n",
       "       0.88 , 0.87 , 0.85 , 0.83 , 0.81 , 0.8  , 0.74 , 0.69 , 0.64 ,\n",
       "       0.6  , 0.52 , 0.44 , 0.36 , 0.31 , 0.24 , 0.2  , 0.16 , 0.13 ,\n",
       "       0.1  , 0.09 , 0.08 , 0.06 , 0.04 , 0.03 , 0.03 , 0.02 , 0.02 ,\n",
       "       0.03 , 0.02 , 0.01 , 0.01 ], dtype=float32)"
      ]
     },
     "execution_count": 28,
     "metadata": {},
     "output_type": "execute_result"
    }
   ],
   "source": [
    "NB405.rsr.flatten()"
   ]
  },
  {
   "cell_type": "code",
   "execution_count": 53,
   "metadata": {},
   "outputs": [
    {
     "data": {
      "text/plain": [
       "array([[9.00092e-02, 1.68166e-17, 1.00000e+00],\n",
       "       [9.03057e-02, 1.82567e-17, 1.00000e+00],\n",
       "       [9.06022e-02, 1.98043e-17, 1.00000e+00],\n",
       "       ...,\n",
       "       [6.49845e+00, 6.16890e-13, 1.00000e+00],\n",
       "       [6.49875e+00, 6.16725e-13, 1.00000e+00],\n",
       "       [6.49904e+00, 6.16561e-13, 1.00000e+00]])"
      ]
     },
     "execution_count": 53,
     "metadata": {},
     "output_type": "execute_result"
    }
   ],
   "source": [
    "spec"
   ]
  },
  {
   "cell_type": "code",
   "execution_count": 54,
   "metadata": {},
   "outputs": [],
   "source": [
    "spec = np.genfromtxt('data/model_spec_teff_7750_logg_4_feh_0.txt', names=[\"wavel\",\"flux\"], \n",
    "                   skip_header=10)"
   ]
  },
  {
   "cell_type": "code",
   "execution_count": 55,
   "metadata": {},
   "outputs": [
    {
     "data": {
      "text/plain": [
       "(1160,)"
      ]
     },
     "execution_count": 55,
     "metadata": {},
     "output_type": "execute_result"
    }
   ],
   "source": [
    "np.shape(spec)"
   ]
  },
  {
   "cell_type": "code",
   "execution_count": 56,
   "metadata": {},
   "outputs": [
    {
     "data": {
      "text/plain": [
       "array([(9.09e+01, 0.       ), (1.02e+02, 0.       ),\n",
       "       (1.14e+02, 0.       ), ..., (1.20e+06, 0.0714139),\n",
       "       (1.40e+06, 0.0383533), (1.60e+06, 0.0223801)],\n",
       "      dtype=[('wavel', '<f8'), ('flux', '<f8')])"
      ]
     },
     "execution_count": 56,
     "metadata": {},
     "output_type": "execute_result"
    }
   ],
   "source": [
    "spec"
   ]
  },
  {
   "cell_type": "code",
   "execution_count": 57,
   "metadata": {},
   "outputs": [],
   "source": [
    "from io import StringIO"
   ]
  },
  {
   "cell_type": "code",
   "execution_count": null,
   "metadata": {},
   "outputs": [],
   "source": [
    "spec = np.genfromtxt('data/model_spec_teff_7750_logg_4_feh_0.txt', names=[\"wavel\",\"flux\"], \n",
    "                   skip_header=10)"
   ]
  }
 ],
 "metadata": {
  "kernelspec": {
   "display_name": "Python 3",
   "language": "python",
   "name": "python3"
  },
  "language_info": {
   "codemirror_mode": {
    "name": "ipython",
    "version": 3
   },
   "file_extension": ".py",
   "mimetype": "text/x-python",
   "name": "python",
   "nbconvert_exporter": "python",
   "pygments_lexer": "ipython3",
   "version": "3.6.6"
  }
 },
 "nbformat": 4,
 "nbformat_minor": 2
}
