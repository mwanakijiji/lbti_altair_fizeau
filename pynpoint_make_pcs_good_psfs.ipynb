{
 "cells": [
  {
   "cell_type": "code",
   "execution_count": 1,
   "metadata": {
    "collapsed": true
   },
   "outputs": [],
   "source": [
    "# This makes a first contrast curve for Altair\n",
    "\n",
    "# created 2018 Sept. 20 by E.S."
   ]
  },
  {
   "cell_type": "markdown",
   "metadata": {},
   "source": [
    "## SECTION TO INITIALIZE"
   ]
  },
  {
   "cell_type": "code",
   "execution_count": 1,
   "metadata": {},
   "outputs": [],
   "source": [
    "# import stuff\n",
    "\n",
    "import urllib\n",
    "import numpy as np\n",
    "import matplotlib.pyplot as plt\n",
    "\n",
    "import PynPoint\n",
    "\n",
    "from PynPoint import Pypeline\n",
    "from PynPoint.IOmodules.Hdf5Reading import Hdf5ReadingModule\n",
    "from PynPoint.IOmodules.FitsWriting import FitsWritingModule\n",
    "from PynPoint.IOmodules.FitsReading import FitsReadingModule\n",
    "from PynPoint.IOmodules.TextReading import ParangReadingModule\n",
    "from PynPoint.ProcessingModules import PSFpreparationModule, \\\n",
    "                                       PcaPsfSubtractionModule, \\\n",
    "                                       ContrastCurveModule, \\\n",
    "                                       FluxAndPosition, \\\n",
    "                                    StackingAndSubsampling\n",
    "#from PynPoint.ProcessingModules.StackingAndSubsampling import DerotateAndStackModule\n",
    "from PynPoint.ProcessingModules.FluxAndPosition import FakePlanetModule\n",
    "#from PynPoint.Util import AnalysisTools"
   ]
  },
  {
   "cell_type": "code",
   "execution_count": 2,
   "metadata": {},
   "outputs": [
    {
     "name": "stdout",
     "output_type": "stream",
     "text": [
      "Initiating PynPoint... [DONE]\n"
     ]
    }
   ],
   "source": [
    "# define workspaces and initialize Pypeline\n",
    "\n",
    "stem = ('/home/../../media/unasemaje/Elements/lbti_data_reduction/'+\n",
    "        '180507_fizeau_altair/06_winnowed/')\n",
    "\n",
    "working_place = stem+\"/junk_test_working_place/\"\n",
    "input_place = stem\n",
    "output_place = stem+\"/junk_test_output_place/\"\n",
    "\n",
    "pipeline = Pypeline(working_place_in=working_place,\n",
    "                    input_place_in=input_place,\n",
    "                    output_place_in=output_place)\n",
    "\n",
    "# now a *.ini file has been generated (this includes the PIXSCALE), if no pre-existing one was there"
   ]
  },
  {
   "cell_type": "code",
   "execution_count": 3,
   "metadata": {},
   "outputs": [],
   "source": [
    "## IF THE *INI FILE WAS NEWLY GENERATED, EDIT THE *INI FILE TO SET\n",
    "## PIXSCALE = 0.0107"
   ]
  },
  {
   "cell_type": "markdown",
   "metadata": {},
   "source": [
    "## SECTION TO READ IN DATA"
   ]
  },
  {
   "cell_type": "code",
   "execution_count": 4,
   "metadata": {},
   "outputs": [],
   "source": [
    "# read in science FITS files \n",
    "# (should have PARANG=0 in all headers, so as to keep the PSF in the same original orientation on the array; \n",
    "# we need to wait to correct for PARANG later)\n",
    "\n",
    "read_science = FitsReadingModule(name_in=\"read_science\",\n",
    "                                 input_dir=None,\n",
    "                                 image_tag=\"science\",\n",
    "                                 check=True)\n",
    "\n",
    "pipeline.add_module(read_science)"
   ]
  },
  {
   "cell_type": "code",
   "execution_count": 5,
   "metadata": {},
   "outputs": [],
   "source": [
    "# read in PSF reference FITS files (i.e., unsaturated frames)\n",
    "# (these do not have any PARANG in the header, but it probably doesn't matter)\n",
    "\n",
    "read_ref_psf = FitsReadingModule(name_in=\"read_ref_psf\",\n",
    "                                 input_dir=input_place,\n",
    "                                 image_tag=\"ref_psf\",\n",
    "                                 check=True)\n",
    "\n",
    "pipeline.add_module(read_ref_psf)"
   ]
  },
  {
   "cell_type": "code",
   "execution_count": 6,
   "metadata": {},
   "outputs": [],
   "source": [
    "# make PCA basis set, calculate image residuals after subtracting the PCA reconstructions of the PSF\n",
    "\n",
    "pca_pca_subt = PcaPsfSubtractionModule(pca_numbers=(100, ),\n",
    "                                       name_in=\"pca\",\n",
    "                                       images_in_tag=\"science\",\n",
    "                                       reference_in_tag=\"ref_psf\",\n",
    "                                       res_mean_tag=\"mean_residuals\",\n",
    "                                       res_median_tag=\"median_residuals\",\n",
    "                                       res_arr_out_tag=\"all_resids\",\n",
    "                                       res_rot_mean_clip_tag=\"resid_rot\",\n",
    "                                       basis_out_tag=\"pca_components\",\n",
    "                                       subtract_mean=True)\n",
    "\n",
    "pipeline.add_module(pca_pca_subt)\n",
    "\n",
    "# note:\n",
    "# images_in_tag: science images\n",
    "# reference_in_tag: reference images, which COULD be the science images"
   ]
  },
  {
   "cell_type": "code",
   "execution_count": 7,
   "metadata": {},
   "outputs": [],
   "source": [
    "# write out PCA basis set\n",
    "\n",
    "write_pca_basis = FitsWritingModule(file_name=\"test_pca_basis.fits\",\n",
    "                              name_in=\"write_pca_basis\",\n",
    "                              output_dir=output_place,\n",
    "                              data_tag=\"pca_components\")\n",
    "\n",
    "pipeline.add_module(write_pca_basis)"
   ]
  },
  {
   "cell_type": "code",
   "execution_count": 8,
   "metadata": {},
   "outputs": [],
   "source": [
    "# write out PCA residuals, all\n",
    "\n",
    "write_pca_resids_all = FitsWritingModule(file_name=\"test_pca_resids_all.fits\",\n",
    "                              name_in=\"write_pca_resids_all\",\n",
    "                              output_dir=output_place,\n",
    "                              data_tag=\"all_resids\")\n",
    "\n",
    "#pipeline.add_module(write_pca_resids_all)"
   ]
  },
  {
   "cell_type": "code",
   "execution_count": 9,
   "metadata": {},
   "outputs": [],
   "source": [
    "# write out PCA residuals, median\n",
    "\n",
    "write_pca_resids_median = FitsWritingModule(file_name=\"test_pca_resids_median.fits\",\n",
    "                              name_in=\"write_pca_resids_median\",\n",
    "                              output_dir=output_place,\n",
    "                              data_tag=\"median_residuals\")\n",
    "\n",
    "pipeline.add_module(write_pca_resids_median)"
   ]
  },
  {
   "cell_type": "code",
   "execution_count": 10,
   "metadata": {},
   "outputs": [],
   "source": [
    "# write out PCA residuals, mean\n",
    "\n",
    "write_pca_resids_mean = FitsWritingModule(file_name=\"test_pca_resids_mean.fits\",\n",
    "                              name_in=\"write_pca_resids_mean\",\n",
    "                              output_dir=output_place,\n",
    "                              data_tag=\"mean_residuals\")\n",
    "\n",
    "pipeline.add_module(write_pca_resids_mean)"
   ]
  },
  {
   "cell_type": "code",
   "execution_count": 11,
   "metadata": {},
   "outputs": [
    {
     "name": "stdout",
     "output_type": "stream",
     "text": [
      "Validating Pypeline... [DONE]\n",
      "Running FitsReadingModule... 0.5% \r"
     ]
    },
    {
     "name": "stderr",
     "output_type": "stream",
     "text": [
      "/home/unasemaje/anaconda3/envs/py27/lib/python2.7/site-packages/PynPoint/IOmodules/FitsReading.py:167: UserWarning: Static attribute DIT (=ESO DET DIT) not found in the FITS header.\n",
      "  % (item, fitskey))\n",
      "/home/unasemaje/anaconda3/envs/py27/lib/python2.7/site-packages/PynPoint/IOmodules/FitsReading.py:167: UserWarning: Static attribute LONGITUDE (=ESO TEL GEOLON) not found in the FITS header.\n",
      "  % (item, fitskey))\n",
      "/home/unasemaje/anaconda3/envs/py27/lib/python2.7/site-packages/PynPoint/IOmodules/FitsReading.py:167: UserWarning: Static attribute LATITUDE (=ESO TEL GEOLAT) not found in the FITS header.\n",
      "  % (item, fitskey))\n",
      "/home/unasemaje/anaconda3/envs/py27/lib/python2.7/site-packages/PynPoint/IOmodules/FitsReading.py:197: UserWarning: Non-static attribute PUPIL (=ESO ADA PUPILPOS) not found in the FITS header.\n",
      "  \"FITS header.\" % (item, fitskey))\n",
      "/home/unasemaje/anaconda3/envs/py27/lib/python2.7/site-packages/PynPoint/IOmodules/FitsReading.py:197: UserWarning: Non-static attribute DEC (=DEC) not found in the FITS header.\n",
      "  \"FITS header.\" % (item, fitskey))\n",
      "/home/unasemaje/anaconda3/envs/py27/lib/python2.7/site-packages/PynPoint/IOmodules/FitsReading.py:197: UserWarning: Non-static attribute PARANG_END (=ESO ADA POSANG END) not found in the FITS header.\n",
      "  \"FITS header.\" % (item, fitskey))\n",
      "/home/unasemaje/anaconda3/envs/py27/lib/python2.7/site-packages/PynPoint/IOmodules/FitsReading.py:197: UserWarning: Non-static attribute PARANG_START (=ESO ADA POSANG) not found in the FITS header.\n",
      "  \"FITS header.\" % (item, fitskey))\n",
      "/home/unasemaje/anaconda3/envs/py27/lib/python2.7/site-packages/PynPoint/IOmodules/FitsReading.py:197: UserWarning: Non-static attribute DITHER_Y (=ESO SEQ CUMOFFSETY) not found in the FITS header.\n",
      "  \"FITS header.\" % (item, fitskey))\n",
      "/home/unasemaje/anaconda3/envs/py27/lib/python2.7/site-packages/PynPoint/IOmodules/FitsReading.py:197: UserWarning: Non-static attribute RA (=RA) not found in the FITS header.\n",
      "  \"FITS header.\" % (item, fitskey))\n",
      "/home/unasemaje/anaconda3/envs/py27/lib/python2.7/site-packages/PynPoint/IOmodules/FitsReading.py:197: UserWarning: Non-static attribute DITHER_X (=ESO SEQ CUMOFFSETX) not found in the FITS header.\n",
      "  \"FITS header.\" % (item, fitskey))\n",
      "/home/unasemaje/anaconda3/envs/py27/lib/python2.7/site-packages/PynPoint/IOmodules/FitsReading.py:197: UserWarning: Non-static attribute EXP_NO (=ESO DET EXP NO) not found in the FITS header.\n",
      "  \"FITS header.\" % (item, fitskey))\n",
      "/home/unasemaje/anaconda3/envs/py27/lib/python2.7/site-packages/PynPoint/IOmodules/FitsReading.py:197: UserWarning: Non-static attribute NDIT (=ESO DET NDIT) not found in the FITS header.\n",
      "  \"FITS header.\" % (item, fitskey))\n"
     ]
    },
    {
     "name": "stdout",
     "output_type": "stream",
     "text": [
      "Running FitsReadingModule... [DONE]\n",
      "Running FitsReadingModule... [DONE]\n",
      "Constructing PSF model... [DONE]\n",
      "Creating residuals... [DONE]\n",
      "Running FitsWritingModule... [DONE]\n",
      "Running FitsWritingModule... [DONE]\n",
      "Running FitsWritingModule... [DONE]\n"
     ]
    }
   ],
   "source": [
    "pipeline.run()"
   ]
  },
  {
   "cell_type": "code",
   "execution_count": null,
   "metadata": {},
   "outputs": [],
   "source": []
  }
 ],
 "metadata": {
  "kernelspec": {
   "display_name": "Python 2",
   "language": "python",
   "name": "python2"
  },
  "language_info": {
   "codemirror_mode": {
    "name": "ipython",
    "version": 2
   },
   "file_extension": ".py",
   "mimetype": "text/x-python",
   "name": "python",
   "nbconvert_exporter": "python",
   "pygments_lexer": "ipython2",
   "version": "2.7.15"
  }
 },
 "nbformat": 4,
 "nbformat_minor": 2
}
