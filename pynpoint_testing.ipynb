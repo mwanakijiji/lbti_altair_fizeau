{
 "cells": [
  {
   "cell_type": "code",
   "execution_count": 1,
   "metadata": {
    "collapsed": true
   },
   "outputs": [],
   "source": [
    "# This tests PynPoint\n",
    "\n",
    "# created 2018 Sept. 20 by E.S."
   ]
  },
  {
   "cell_type": "code",
   "execution_count": 1,
   "metadata": {
    "collapsed": true
   },
   "outputs": [],
   "source": [
    "import urllib\n",
    "import numpy as np\n",
    "import matplotlib.pyplot as plt\n",
    "\n",
    "import PynPoint\n",
    "\n",
    "from PynPoint import Pypeline\n",
    "from PynPoint.IOmodules.Hdf5Reading import Hdf5ReadingModule\n",
    "from PynPoint.ProcessingModules import PSFpreparationModule, \\\n",
    "                                       PcaPsfSubtractionModule"
   ]
  },
  {
   "cell_type": "code",
   "execution_count": 2,
   "metadata": {
    "collapsed": false
   },
   "outputs": [
    {
     "name": "stdout",
     "output_type": "stream",
     "text": [
      "Initiating PynPoint... [DONE]\n"
     ]
    }
   ],
   "source": [
    "working_place = \"./pynpoint_experimentation/working_place/\"\n",
    "input_place = \"./pynpoint_experimentation/input_place/\"\n",
    "output_place = \"./pynpoint_experimentation/output_place/\"\n",
    "\n",
    "url = urllib.URLopener()\n",
    "url.retrieve(\"https://people.phys.ethz.ch/~stolkert/BetaPic_NACO_Mp.hdf5\",\n",
    "             input_place+\"BetaPic_NACO_Mp.hdf5\")\n",
    "\n",
    "pipeline = Pypeline(working_place_in=working_place,\n",
    "                    input_place_in=input_place,\n",
    "                    output_place_in=output_place)"
   ]
  },
  {
   "cell_type": "code",
   "execution_count": 3,
   "metadata": {
    "collapsed": true
   },
   "outputs": [],
   "source": [
    "read = Hdf5ReadingModule(name_in=\"read\",\n",
    "                         input_filename=\"BetaPic_NACO_Mp.hdf5\",\n",
    "                         input_dir=None,\n",
    "                         tag_dictionary={\"stack\":\"stack\"})\n",
    "\n",
    "pipeline.add_module(read)"
   ]
  },
  {
   "cell_type": "code",
   "execution_count": 4,
   "metadata": {
    "collapsed": true
   },
   "outputs": [],
   "source": [
    "prep = PSFpreparationModule(name_in=\"prep\",\n",
    "                            image_in_tag=\"stack\",\n",
    "                            image_out_tag=\"prep\",\n",
    "                            image_mask_out_tag=None,\n",
    "                            mask_out_tag=None,\n",
    "                            norm=False,\n",
    "                            resize=None,\n",
    "                            cent_size=0.15,\n",
    "                            edge_size=1.1)\n",
    "\n",
    "pipeline.add_module(prep)"
   ]
  },
  {
   "cell_type": "code",
   "execution_count": 5,
   "metadata": {
    "collapsed": false
   },
   "outputs": [],
   "source": [
    "pca = PcaPsfSubtractionModule(pca_numbers=(20, ),\n",
    "                              name_in=\"pca\",\n",
    "                              images_in_tag=\"prep\",\n",
    "                              reference_in_tag=\"prep\",\n",
    "                              res_mean_tag=\"residuals\")\n",
    "\n",
    "pipeline.add_module(pca)"
   ]
  },
  {
   "cell_type": "code",
   "execution_count": 6,
   "metadata": {
    "collapsed": false
   },
   "outputs": [
    {
     "name": "stdout",
     "output_type": "stream",
     "text": [
      "Validating Pypeline... [DONE]\n",
      "Running Hdf5ReadingModule... [DONE]\n",
      "Running PSFpreparationModule... [DONE]\n",
      "Constructing PSF model... [DONE]\n",
      "Creating residuals... [DONE]\n"
     ]
    }
   ],
   "source": [
    "pipeline.run()"
   ]
  },
  {
   "cell_type": "code",
   "execution_count": 7,
   "metadata": {
    "collapsed": true
   },
   "outputs": [],
   "source": [
    "residuals = pipeline.get_data(\"residuals\")\n",
    "pixscale = pipeline.get_attribute(\"stack\", \"PIXSCALE\")\n",
    "\n",
    "size = pixscale*np.size(residuals, 1)/2."
   ]
  },
  {
   "cell_type": "code",
   "execution_count": 10,
   "metadata": {
    "collapsed": false
   },
   "outputs": [],
   "source": [
    "plt.imshow(residuals[0, ], origin='lower', extent=[size, -size, -size, size])\n",
    "plt.title(\"beta Pic b - NACO M' - mean residuals\")\n",
    "plt.xlabel('R.A. offset [arcsec]', fontsize=12)\n",
    "plt.ylabel('Dec. offset [arcsec]', fontsize=12)\n",
    "plt.colorbar()\n",
    "#plt.show()\n",
    "plt.savefig(output_place+\"residuals.png\")"
   ]
  },
  {
   "cell_type": "code",
   "execution_count": 13,
   "metadata": {
    "collapsed": false
   },
   "outputs": [
    {
     "data": {
      "text/plain": [
       "<PynPoint.Core.Pypeline.Pypeline at 0x9a8ae08c>"
      ]
     },
     "execution_count": 13,
     "metadata": {},
     "output_type": "execute_result"
    }
   ],
   "source": [
    "pipeline"
   ]
  },
  {
   "cell_type": "code",
   "execution_count": null,
   "metadata": {
    "collapsed": true
   },
   "outputs": [],
   "source": []
  }
 ],
 "metadata": {
  "kernelspec": {
   "display_name": "Python 2",
   "language": "python",
   "name": "python2"
  },
  "language_info": {
   "codemirror_mode": {
    "name": "ipython",
    "version": 2
   },
   "file_extension": ".py",
   "mimetype": "text/x-python",
   "name": "python",
   "nbconvert_exporter": "python",
   "pygments_lexer": "ipython2",
   "version": "2.7.11"
  }
 },
 "nbformat": 4,
 "nbformat_minor": 2
}
