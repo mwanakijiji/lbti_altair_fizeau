{
 "cells": [
  {
   "cell_type": "code",
   "execution_count": 1,
   "metadata": {
    "collapsed": true
   },
   "outputs": [],
   "source": [
    "# This makes a first contrast curve for Altair\n",
    "\n",
    "# created 2018 Sept. 20 by E.S."
   ]
  },
  {
   "cell_type": "markdown",
   "metadata": {},
   "source": [
    "## SECTION TO INITIALIZE"
   ]
  },
  {
   "cell_type": "code",
   "execution_count": 1,
   "metadata": {
    "collapsed": false
   },
   "outputs": [],
   "source": [
    "# import stuff\n",
    "\n",
    "import urllib\n",
    "import numpy as np\n",
    "import matplotlib.pyplot as plt\n",
    "\n",
    "import PynPoint\n",
    "\n",
    "from PynPoint import Pypeline\n",
    "from PynPoint.IOmodules.Hdf5Reading import Hdf5ReadingModule\n",
    "from PynPoint.IOmodules.FitsWriting import FitsWritingModule\n",
    "from PynPoint.IOmodules.FitsReading import FitsReadingModule\n",
    "from PynPoint.IOmodules.TextReading import ParangReadingModule\n",
    "from PynPoint.ProcessingModules import PSFpreparationModule, \\\n",
    "                                       PcaPsfSubtractionModule, \\\n",
    "                                       ContrastCurveModule, \\\n",
    "                                       FluxAndPosition, \\\n",
    "                                    StackingAndSubsampling\n",
    "from PynPoint.ProcessingModules.StackingAndSubsampling import DerotateAndStackModule\n",
    "from PynPoint.ProcessingModules.FluxAndPosition import FakePlanetModule\n",
    "#from PynPoint.Util import AnalysisTools"
   ]
  },
  {
   "cell_type": "code",
   "execution_count": 2,
   "metadata": {
    "collapsed": false
   },
   "outputs": [
    {
     "name": "stdout",
     "output_type": "stream",
     "text": [
      "Initiating PynPoint... [DONE]\n"
     ]
    }
   ],
   "source": [
    "# define workspaces and initialize Pypeline\n",
    "\n",
    "working_place = \"./pynpoint_experimentation_altair/working_place/\"\n",
    "input_place = \"./pynpoint_experimentation_altair/input_place/\"\n",
    "output_place = \"./pynpoint_experimentation_altair/output_place/\"\n",
    "\n",
    "pipeline = Pypeline(working_place_in=working_place,\n",
    "                    input_place_in=input_place,\n",
    "                    output_place_in=output_place)\n",
    "\n",
    "# now a *.ini file has been generated (this includes the PIXSCALE), if no pre-existing one was there"
   ]
  },
  {
   "cell_type": "code",
   "execution_count": 3,
   "metadata": {
    "collapsed": true
   },
   "outputs": [],
   "source": [
    "## IF THE *INI FILE WAS NEWLY GENERATED, EDIT THE *INI FILE TO SET\n",
    "## PIXSCALE = 0.0107"
   ]
  },
  {
   "cell_type": "markdown",
   "metadata": {},
   "source": [
    "## SECTION TO READ IN DATA"
   ]
  },
  {
   "cell_type": "code",
   "execution_count": 4,
   "metadata": {
    "collapsed": true
   },
   "outputs": [],
   "source": [
    "# read in science FITS files \n",
    "# (should have PARANG=0 in all headers, so as to keep the PSF in the same original orientation on the array; \n",
    "# we need to wait to correct for PARANG later)\n",
    "\n",
    "read_science = FitsReadingModule(name_in=\"read_science\",\n",
    "                                 input_dir=None,\n",
    "                                 image_tag=\"science\",\n",
    "                                 check=True)\n",
    "\n",
    "pipeline.add_module(read_science)"
   ]
  },
  {
   "cell_type": "code",
   "execution_count": 5,
   "metadata": {
    "collapsed": false
   },
   "outputs": [
    {
     "data": {
      "text/plain": [
       "'\\npixscale_config = pipeline.get_attribute(\"config\", \"PIXSCALE\")\\nprint(\"Plate scale for /config/ is \"+pixscale_config)\\npixscale_sci = pipeline.get_attribute(\"science\", \"PIXSCALE\")\\nprint(\"Plate scale for /science/ is \"+pixscale_sci)\\n'"
      ]
     },
     "execution_count": 5,
     "metadata": {},
     "output_type": "execute_result"
    }
   ],
   "source": [
    "# confirm PIXSCALE change\n",
    "'''\n",
    "pixscale_config = pipeline.get_attribute(\"config\", \"PIXSCALE\")\n",
    "print(\"Plate scale for /config/ is \"+pixscale_config)\n",
    "pixscale_sci = pipeline.get_attribute(\"science\", \"PIXSCALE\")\n",
    "print(\"Plate scale for /science/ is \"+pixscale_sci)\n",
    "'''"
   ]
  },
  {
   "cell_type": "code",
   "execution_count": 6,
   "metadata": {
    "collapsed": false
   },
   "outputs": [],
   "source": [
    "# read in PSF reference FITS files (i.e., unsaturated frames)\n",
    "# (these should also not have any PARANG)\n",
    "\n",
    "read_ref_psf = FitsReadingModule(name_in=\"read_ref_psf\",\n",
    "                                 input_dir=input_place+'ref_psf/',\n",
    "                                 image_tag=\"ref_psf\",\n",
    "                                 check=True)\n",
    "\n",
    "pipeline.add_module(read_ref_psf)"
   ]
  },
  {
   "cell_type": "code",
   "execution_count": 6,
   "metadata": {
    "collapsed": true
   },
   "outputs": [],
   "source": [
    "## SECTION TO PROCESS DATA"
   ]
  },
  {
   "cell_type": "code",
   "execution_count": 6,
   "metadata": {
    "collapsed": false
   },
   "outputs": [],
   "source": [
    "## PIPELINE CHANNEL 1: IMAGE RESIDUALS\n",
    "\n",
    "# generate PCA basis from unsaturated frames and\n",
    "# do PCA PSF subtraction of the saturated frames\n",
    "\n",
    "pca_pca_subt = PcaPsfSubtractionModule(pca_numbers=(100, ),\n",
    "                                       name_in=\"pca\",\n",
    "                                       images_in_tag=\"science\",\n",
    "                                       reference_in_tag=\"ref_psf\",\n",
    "                                       res_mean_tag=\"mean_residuals\",\n",
    "                                       res_median_tag=\"median_residuals\",\n",
    "                                       res_arr_out_tag=\"all_resids\",\n",
    "                                       res_rot_mean_clip_tag=\"resid_rot\",\n",
    "                                       basis_out_tag=\"pca_components\",\n",
    "                                       subtract_mean=True,\n",
    "                                       verbose=True)\n",
    "\n",
    "pipeline.add_module(pca_pca_subt)\n",
    "\n",
    "# note:\n",
    "# images_in_tag: science images\n",
    "# reference_in_tag: reference images, which COULD be the science images"
   ]
  },
  {
   "cell_type": "code",
   "execution_count": 7,
   "metadata": {
    "collapsed": true
   },
   "outputs": [],
   "source": [
    "## PIPELINE CHANNEL 1: IMAGE RESIDUALS\n",
    "\n",
    "# now assign physical, non-zero parallactic angles to science frames\n",
    "\n",
    "parang = ParangReadingModule(\"parang_vals.csv\",\n",
    "                             name_in=\"parang\",\n",
    "                             input_dir=input_place,\n",
    "                             data_tag=\"all_resids100\",\n",
    "                             overwrite=True)\n",
    "\n",
    "pipeline.add_module(parang)"
   ]
  },
  {
   "cell_type": "markdown",
   "metadata": {},
   "source": [
    "## PIPELINE CHANNEL TEST: INJECT FAKE PLANET AND SEE IF THE PLANET PSF ITSELF GETS ROTATED"
   ]
  },
  {
   "cell_type": "code",
   "execution_count": 7,
   "metadata": {
    "collapsed": false
   },
   "outputs": [
    {
     "name": "stdout",
     "output_type": "stream",
     "text": [
      "Validating Pypeline... [DONE]\n"
     ]
    },
    {
     "name": "stderr",
     "output_type": "stream",
     "text": [
      "/home/unasemaje/anaconda3/envs/py27/lib/python2.7/site-packages/PynPoint/IOmodules/FitsReading.py:172: UserWarning: Static attribute DIT (=ESO DET DIT) not found in the FITS header.\n",
      "  % (item[0], fitskey))\n",
      "/home/unasemaje/anaconda3/envs/py27/lib/python2.7/site-packages/PynPoint/IOmodules/FitsReading.py:172: UserWarning: Static attribute LATITUDE (=ESO TEL GEOLAT) not found in the FITS header.\n",
      "  % (item[0], fitskey))\n",
      "/home/unasemaje/anaconda3/envs/py27/lib/python2.7/site-packages/PynPoint/IOmodules/FitsReading.py:172: UserWarning: Static attribute LONGITUDE (=ESO TEL GEOLON) not found in the FITS header.\n",
      "  % (item[0], fitskey))\n",
      "/home/unasemaje/anaconda3/envs/py27/lib/python2.7/site-packages/PynPoint/IOmodules/FitsReading.py:207: UserWarning: Non-static attribute EXP_NO (=ESO DET EXP NO) not found in the FITS header.\n",
      "  \"header.\" % (item[0], fitskey))\n",
      "/home/unasemaje/anaconda3/envs/py27/lib/python2.7/site-packages/PynPoint/IOmodules/FitsReading.py:207: UserWarning: Non-static attribute NDIT (=ESO DET NDIT) not found in the FITS header.\n",
      "  \"header.\" % (item[0], fitskey))\n",
      "/home/unasemaje/anaconda3/envs/py27/lib/python2.7/site-packages/PynPoint/IOmodules/FitsReading.py:207: UserWarning: Non-static attribute PARANG_START (=ESO ADA POSANG) not found in the FITS header.\n",
      "  \"header.\" % (item[0], fitskey))\n",
      "/home/unasemaje/anaconda3/envs/py27/lib/python2.7/site-packages/PynPoint/IOmodules/FitsReading.py:207: UserWarning: Non-static attribute PARANG_END (=ESO ADA POSANG END) not found in the FITS header.\n",
      "  \"header.\" % (item[0], fitskey))\n",
      "/home/unasemaje/anaconda3/envs/py27/lib/python2.7/site-packages/PynPoint/IOmodules/FitsReading.py:207: UserWarning: Non-static attribute DITHER_X (=ESO SEQ CUMOFFSETX) not found in the FITS header.\n",
      "  \"header.\" % (item[0], fitskey))\n",
      "/home/unasemaje/anaconda3/envs/py27/lib/python2.7/site-packages/PynPoint/IOmodules/FitsReading.py:207: UserWarning: Non-static attribute DITHER_Y (=ESO SEQ CUMOFFSETY) not found in the FITS header.\n",
      "  \"header.\" % (item[0], fitskey))\n",
      "/home/unasemaje/anaconda3/envs/py27/lib/python2.7/site-packages/PynPoint/IOmodules/FitsReading.py:207: UserWarning: Non-static attribute PUPIL (=ESO ADA PUPILPOS) not found in the FITS header.\n",
      "  \"header.\" % (item[0], fitskey))\n",
      "/home/unasemaje/anaconda3/envs/py27/lib/python2.7/site-packages/PynPoint/IOmodules/FitsReading.py:207: UserWarning: Non-static attribute RA (=RA) not found in the FITS header.\n",
      "  \"header.\" % (item[0], fitskey))\n",
      "/home/unasemaje/anaconda3/envs/py27/lib/python2.7/site-packages/PynPoint/IOmodules/FitsReading.py:207: UserWarning: Non-static attribute DEC (=DEC) not found in the FITS header.\n",
      "  \"header.\" % (item[0], fitskey))\n"
     ]
    },
    {
     "name": "stdout",
     "output_type": "stream",
     "text": [
      "Running FitsReadingModule... [DONE]\n",
      "Running FitsReadingModule... [DONE]\n",
      "Running FakePlanetModule... [DONE]\n"
     ]
    },
    {
     "name": "stderr",
     "output_type": "stream",
     "text": [
      "/home/unasemaje/anaconda3/envs/py27/lib/python2.7/site-packages/PynPoint/IOmodules/FitsReading.py:172: UserWarning: Static attribute INSTRUMENT (=INSTRUME) not found in the FITS header.\n",
      "  % (item[0], fitskey))\n",
      "/home/unasemaje/anaconda3/envs/py27/lib/python2.7/site-packages/PynPoint/IOmodules/FitsReading.py:207: UserWarning: Non-static attribute DATE (=DATE-OBS) not found in the FITS header.\n",
      "  \"header.\" % (item[0], fitskey))\n"
     ]
    },
    {
     "name": "stdout",
     "output_type": "stream",
     "text": [
      "Running FitsWritingModule... [DONE]\n"
     ]
    }
   ],
   "source": [
    "## PIPELINE CHANNEL TEST: INJECT FAKE PLANET AND SEE IF THE PLANET PSF ITSELF GETS ROTATED\n",
    "\n",
    "## THERE MIGHT BE 2 WAYS OF DOING THIS: WITH FAKE_PLANET OR WITH FAKEPLANETMODULE \n",
    "\n",
    "# test 1: images all have set PA=0\n",
    "'''\n",
    "fake_planet_injection = AnalysisTools.fake_planet(images=\"read_science\",\n",
    "                                    psf=\"ref_psf\",\n",
    "                                    parang=\"parang\",\n",
    "                                    position=(15,0),\n",
    "                                    magnitude=0,\n",
    "                                    psf_scaling=1,\n",
    "                                    interpolation=\"spline\")\n",
    "'''\n",
    "\n",
    "fake_planet_injection = FakePlanetModule(position=(0.25,0),\n",
    "                                         magnitude=0,\n",
    "                                         psf_scaling=1,\n",
    "                                         interpolation=\"spline\",\n",
    "                                         name_in=\"fake_planet_injection\",\n",
    "                                         image_in_tag=\"science\",\n",
    "                                         psf_in_tag=\"ref_psf\",\n",
    "                                         image_out_tag=\"test_planet_inject\")\n",
    "\n",
    "pipeline.add_module(fake_planet_injection)\n",
    "\n",
    "\n",
    "# write out result\n",
    "\n",
    "write_fake_injection = FitsWritingModule(file_name=\"fake_injection_tests.fits\",\n",
    "                              name_in=\"write_fake_injection\",\n",
    "                              output_dir=output_place,\n",
    "                              data_tag=\"test_planet_inject\")\n",
    "\n",
    "pipeline.add_module(write_fake_injection)\n",
    "\n",
    "\n",
    "pipeline.run()"
   ]
  },
  {
   "cell_type": "code",
   "execution_count": null,
   "metadata": {
    "collapsed": true
   },
   "outputs": [],
   "source": []
  },
  {
   "cell_type": "markdown",
   "metadata": {},
   "source": [
    "## PIPELINE CHANNEL 1: IMAGE RESIDUALS"
   ]
  },
  {
   "cell_type": "code",
   "execution_count": 8,
   "metadata": {
    "collapsed": false
   },
   "outputs": [],
   "source": [
    "## PIPELINE CHANNEL 1: IMAGE RESIDUALS\n",
    "\n",
    "# derotate and median the science images based on physical \n",
    "# parallactic angles\n",
    "\n",
    "derotate_sci = DerotateAndStackModule(name_in=\"derotate_sci\",\n",
    "                                        image_in_tag=\"all_resids100\",\n",
    "                                        image_out_tag=\"derotated_psf_subted\",\n",
    "                                        derotate=True,\n",
    "                                        stack=\"median\",\n",
    "                                        extra_rot=0.0)\n",
    "\n",
    "pipeline.add_module(derotate_sci)"
   ]
  },
  {
   "cell_type": "code",
   "execution_count": 7,
   "metadata": {
    "collapsed": true
   },
   "outputs": [],
   "source": [
    "## PIPELINE CHANNEL 2: MAKE CONTRAST CURVE\n",
    "\n",
    "# make a contrast curve \n",
    "# (N.b. this does not separately require PcaPsfSubtractionModule)\n",
    "\n",
    "'''\n",
    "cent_size: mask radius\n",
    "'''\n",
    "\n",
    "contrast_curve = ContrastCurveModule(name_in=\"contrast_curve\",\n",
    "                            image_in_tag=\"science\",\n",
    "                            psf_in_tag=\"ref_psf\",\n",
    "                            contrast_out_tag=\"contrast_landscape\",\n",
    "                            pca_out_tag=\"pca_resids\",\n",
    "                            pca_number=20,\n",
    "                            psf_scaling=1,\n",
    "                            separation=(0.25, 0.26, 0.1), \n",
    "                            angle=(0.0, 360.0, 360.0), \n",
    "                            magnitude=(7.5, 1.0),\n",
    "                            cent_size=None)\n",
    "\n",
    "pipeline.add_module(contrast_curve)"
   ]
  },
  {
   "cell_type": "code",
   "execution_count": null,
   "metadata": {
    "collapsed": true
   },
   "outputs": [],
   "source": [
    "## SECTION TO WRITE OUT DATA"
   ]
  },
  {
   "cell_type": "code",
   "execution_count": 9,
   "metadata": {
    "collapsed": false
   },
   "outputs": [],
   "source": [
    "# write out PCA basis set\n",
    "\n",
    "write_pca_comp = FitsWritingModule(file_name=\"pca_components.fits\",\n",
    "                              name_in=\"write_pca_comp\",\n",
    "                              output_dir=output_place,\n",
    "                              data_tag=\"pca_components\")\n",
    "\n",
    "pipeline.add_module(write_pca_comp)"
   ]
  },
  {
   "cell_type": "code",
   "execution_count": 10,
   "metadata": {
    "collapsed": false
   },
   "outputs": [],
   "source": [
    "# write out PCA-based PSF-subtracted residuals out\n",
    "\n",
    "write_mean_resids = FitsWritingModule(file_name=\"junk_mean_residuals.fits\",\n",
    "                              name_in=\"write_mean_resids\",\n",
    "                              output_dir=output_place,\n",
    "                              data_tag=\"mean_residuals\")\n",
    "\n",
    "pipeline.add_module(write_mean_resids)"
   ]
  },
  {
   "cell_type": "code",
   "execution_count": 11,
   "metadata": {
    "collapsed": true
   },
   "outputs": [],
   "source": [
    "# write out PCA-based PSF-subtracted residuals out\n",
    "\n",
    "write_median_resids = FitsWritingModule(file_name=\"junk_median_residuals.fits\",\n",
    "                              name_in=\"write_median_resids\",\n",
    "                              output_dir=output_place,\n",
    "                              data_tag=\"median_residuals\")\n",
    "\n",
    "pipeline.add_module(write_median_resids)"
   ]
  },
  {
   "cell_type": "code",
   "execution_count": 12,
   "metadata": {
    "collapsed": false
   },
   "outputs": [
    {
     "data": {
      "text/plain": [
       "'\\nwrite_all_resids5 = FitsWritingModule(file_name=\"junk_all_residuals5.fits\",\\n                              name_in=\"write_all_resids5\",\\n                              output_dir=output_place,\\n                              data_tag=\"all_resids5\")\\n\\npipeline.add_module(write_all_resids5)\\n'"
      ]
     },
     "execution_count": 12,
     "metadata": {},
     "output_type": "execute_result"
    }
   ],
   "source": [
    "# write out PCA-based PSF-subtracted residuals out (is this piece working??)\n",
    "\n",
    "'''\n",
    "write_all_resids5 = FitsWritingModule(file_name=\"junk_all_residuals5.fits\",\n",
    "                              name_in=\"write_all_resids5\",\n",
    "                              output_dir=output_place,\n",
    "                              data_tag=\"all_resids5\")\n",
    "\n",
    "pipeline.add_module(write_all_resids5)\n",
    "'''"
   ]
  },
  {
   "cell_type": "code",
   "execution_count": 13,
   "metadata": {
    "collapsed": false
   },
   "outputs": [],
   "source": [
    "# write out PCA-based PSF-subtracted residuals out\n",
    "\n",
    "write_all_resids100 = FitsWritingModule(file_name=\"junk_all_residuals100.fits\",\n",
    "                              name_in=\"write_all_resids100\",\n",
    "                              output_dir=output_place,\n",
    "                              data_tag=\"all_resids100\")\n",
    "\n",
    "pipeline.add_module(write_all_resids100)"
   ]
  },
  {
   "cell_type": "code",
   "execution_count": 14,
   "metadata": {
    "collapsed": false
   },
   "outputs": [],
   "source": [
    "# write out derotated, PSF-subtracted images\n",
    "\n",
    "write_all_derotated_psf_subted = FitsWritingModule(file_name=\"junk_all_derotated_residuals.fits\",\n",
    "                                                   name_in=\"write_all_derotated_psf_subted\",\n",
    "                                                   output_dir=output_place,\n",
    "                                                   data_tag=\"derotated_psf_subted\")\n",
    "\n",
    "pipeline.add_module(write_all_derotated_psf_subted)"
   ]
  },
  {
   "cell_type": "code",
   "execution_count": 15,
   "metadata": {
    "collapsed": true
   },
   "outputs": [],
   "source": [
    "## might insert PSF Preparation here later, to upsample and normalize (but not mask! let contrast curve module do that)"
   ]
  },
  {
   "cell_type": "code",
   "execution_count": 16,
   "metadata": {
    "collapsed": false
   },
   "outputs": [
    {
     "name": "stdout",
     "output_type": "stream",
     "text": [
      "Validating Pypeline... [DONE]\n"
     ]
    },
    {
     "name": "stderr",
     "output_type": "stream",
     "text": [
      "/home/unasemaje/anaconda3/envs/py27/lib/python2.7/site-packages/PynPoint/IOmodules/FitsReading.py:172: UserWarning: Static attribute DIT (=ESO DET DIT) not found in the FITS header.\n",
      "  % (item[0], fitskey))\n",
      "/home/unasemaje/anaconda3/envs/py27/lib/python2.7/site-packages/PynPoint/IOmodules/FitsReading.py:172: UserWarning: Static attribute LATITUDE (=ESO TEL GEOLAT) not found in the FITS header.\n",
      "  % (item[0], fitskey))\n",
      "/home/unasemaje/anaconda3/envs/py27/lib/python2.7/site-packages/PynPoint/IOmodules/FitsReading.py:172: UserWarning: Static attribute LONGITUDE (=ESO TEL GEOLON) not found in the FITS header.\n",
      "  % (item[0], fitskey))\n",
      "/home/unasemaje/anaconda3/envs/py27/lib/python2.7/site-packages/PynPoint/IOmodules/FitsReading.py:207: UserWarning: Non-static attribute EXP_NO (=ESO DET EXP NO) not found in the FITS header.\n",
      "  \"header.\" % (item[0], fitskey))\n",
      "/home/unasemaje/anaconda3/envs/py27/lib/python2.7/site-packages/PynPoint/IOmodules/FitsReading.py:207: UserWarning: Non-static attribute NDIT (=ESO DET NDIT) not found in the FITS header.\n",
      "  \"header.\" % (item[0], fitskey))\n",
      "/home/unasemaje/anaconda3/envs/py27/lib/python2.7/site-packages/PynPoint/IOmodules/FitsReading.py:207: UserWarning: Non-static attribute PARANG_START (=ESO ADA POSANG) not found in the FITS header.\n",
      "  \"header.\" % (item[0], fitskey))\n",
      "/home/unasemaje/anaconda3/envs/py27/lib/python2.7/site-packages/PynPoint/IOmodules/FitsReading.py:207: UserWarning: Non-static attribute PARANG_END (=ESO ADA POSANG END) not found in the FITS header.\n",
      "  \"header.\" % (item[0], fitskey))\n",
      "/home/unasemaje/anaconda3/envs/py27/lib/python2.7/site-packages/PynPoint/IOmodules/FitsReading.py:207: UserWarning: Non-static attribute DITHER_X (=ESO SEQ CUMOFFSETX) not found in the FITS header.\n",
      "  \"header.\" % (item[0], fitskey))\n",
      "/home/unasemaje/anaconda3/envs/py27/lib/python2.7/site-packages/PynPoint/IOmodules/FitsReading.py:207: UserWarning: Non-static attribute DITHER_Y (=ESO SEQ CUMOFFSETY) not found in the FITS header.\n",
      "  \"header.\" % (item[0], fitskey))\n",
      "/home/unasemaje/anaconda3/envs/py27/lib/python2.7/site-packages/PynPoint/IOmodules/FitsReading.py:207: UserWarning: Non-static attribute PUPIL (=ESO ADA PUPILPOS) not found in the FITS header.\n",
      "  \"header.\" % (item[0], fitskey))\n",
      "/home/unasemaje/anaconda3/envs/py27/lib/python2.7/site-packages/PynPoint/IOmodules/FitsReading.py:207: UserWarning: Non-static attribute RA (=RA) not found in the FITS header.\n",
      "  \"header.\" % (item[0], fitskey))\n",
      "/home/unasemaje/anaconda3/envs/py27/lib/python2.7/site-packages/PynPoint/IOmodules/FitsReading.py:207: UserWarning: Non-static attribute DEC (=DEC) not found in the FITS header.\n",
      "  \"header.\" % (item[0], fitskey))\n"
     ]
    },
    {
     "name": "stdout",
     "output_type": "stream",
     "text": [
      "Running FitsReadingModule... [DONE]\n"
     ]
    },
    {
     "name": "stderr",
     "output_type": "stream",
     "text": [
      "/home/unasemaje/anaconda3/envs/py27/lib/python2.7/site-packages/PynPoint/IOmodules/FitsReading.py:172: UserWarning: Static attribute INSTRUMENT (=INSTRUME) not found in the FITS header.\n",
      "  % (item[0], fitskey))\n",
      "/home/unasemaje/anaconda3/envs/py27/lib/python2.7/site-packages/PynPoint/IOmodules/FitsReading.py:207: UserWarning: Non-static attribute DATE (=DATE-OBS) not found in the FITS header.\n",
      "  \"header.\" % (item[0], fitskey))\n"
     ]
    },
    {
     "name": "stdout",
     "output_type": "stream",
     "text": [
      "Running FitsReadingModule... [DONE]\n",
      "Constructing PSF model... [DONE]\n",
      "Creating residuals... [DONE]\n",
      "Running ParangReadingModule... [DONE]\n",
      "Running DerotateAndStackModule... [DONE]\n",
      "Running FitsWritingModule... [DONE]\n",
      "Running FitsWritingModule... [DONE]\n",
      "Running FitsWritingModule... [DONE]\n",
      "Running FitsWritingModule... [DONE]\n",
      "Running FitsWritingModule... [DONE]\n"
     ]
    }
   ],
   "source": [
    "pipeline.run()"
   ]
  },
  {
   "cell_type": "code",
   "execution_count": 10,
   "metadata": {
    "collapsed": false
   },
   "outputs": [
    {
     "ename": "KeyError",
     "evalue": "\"Can't open attribute (Can't locate attribute: 'parang')\"",
     "output_type": "error",
     "traceback": [
      "\u001b[1;31m---------------------------------------------------------------------------\u001b[0m",
      "\u001b[1;31mKeyError\u001b[0m                                  Traceback (most recent call last)",
      "\u001b[1;32m<ipython-input-10-65fd840bfbf0>\u001b[0m in \u001b[0;36m<module>\u001b[1;34m()\u001b[0m\n\u001b[1;32m----> 1\u001b[1;33m \u001b[0mtest\u001b[0m \u001b[1;33m=\u001b[0m \u001b[0mpipeline\u001b[0m\u001b[1;33m.\u001b[0m\u001b[0mget_attribute\u001b[0m\u001b[1;33m(\u001b[0m\u001b[1;34m\"header_all_resids100\"\u001b[0m\u001b[1;33m,\u001b[0m \u001b[1;34m\"PARANG\"\u001b[0m\u001b[1;33m)\u001b[0m\u001b[1;33m\u001b[0m\u001b[0m\n\u001b[0m",
      "\u001b[1;32m/home/unasemaje/anaconda3/envs/py27/lib/python2.7/site-packages/PynPoint/Core/Pypeline.pyc\u001b[0m in \u001b[0;36mget_attribute\u001b[1;34m(self, data_tag, attr_name, static)\u001b[0m\n\u001b[0;32m    424\u001b[0m \u001b[1;33m\u001b[0m\u001b[0m\n\u001b[0;32m    425\u001b[0m         \u001b[1;32mif\u001b[0m \u001b[0mstatic\u001b[0m\u001b[1;33m:\u001b[0m\u001b[1;33m\u001b[0m\u001b[0m\n\u001b[1;32m--> 426\u001b[1;33m             \u001b[0mattr\u001b[0m \u001b[1;33m=\u001b[0m \u001b[0mself\u001b[0m\u001b[1;33m.\u001b[0m\u001b[0mm_data_storage\u001b[0m\u001b[1;33m.\u001b[0m\u001b[0mm_data_bank\u001b[0m\u001b[1;33m[\u001b[0m\u001b[0mdata_tag\u001b[0m\u001b[1;33m]\u001b[0m\u001b[1;33m.\u001b[0m\u001b[0mattrs\u001b[0m\u001b[1;33m[\u001b[0m\u001b[0mattr_name\u001b[0m\u001b[1;33m]\u001b[0m\u001b[1;33m\u001b[0m\u001b[0m\n\u001b[0m\u001b[0;32m    427\u001b[0m \u001b[1;33m\u001b[0m\u001b[0m\n\u001b[0;32m    428\u001b[0m         \u001b[1;32melse\u001b[0m\u001b[1;33m:\u001b[0m\u001b[1;33m\u001b[0m\u001b[0m\n",
      "\u001b[1;32mh5py/_objects.pyx\u001b[0m in \u001b[0;36mh5py._objects.with_phil.wrapper (/tmp/pip-4pPAoV-build/h5py/_objects.c:2684)\u001b[1;34m()\u001b[0m\n",
      "\u001b[1;32mh5py/_objects.pyx\u001b[0m in \u001b[0;36mh5py._objects.with_phil.wrapper (/tmp/pip-4pPAoV-build/h5py/_objects.c:2642)\u001b[1;34m()\u001b[0m\n",
      "\u001b[1;32m/home/unasemaje/anaconda3/envs/py27/lib/python2.7/site-packages/h5py/_hl/attrs.pyc\u001b[0m in \u001b[0;36m__getitem__\u001b[1;34m(self, name)\u001b[0m\n\u001b[0;32m     56\u001b[0m         \"\"\" Read the value of an attribute.\n\u001b[0;32m     57\u001b[0m         \"\"\"\n\u001b[1;32m---> 58\u001b[1;33m         \u001b[0mattr\u001b[0m \u001b[1;33m=\u001b[0m \u001b[0mh5a\u001b[0m\u001b[1;33m.\u001b[0m\u001b[0mopen\u001b[0m\u001b[1;33m(\u001b[0m\u001b[0mself\u001b[0m\u001b[1;33m.\u001b[0m\u001b[0m_id\u001b[0m\u001b[1;33m,\u001b[0m \u001b[0mself\u001b[0m\u001b[1;33m.\u001b[0m\u001b[0m_e\u001b[0m\u001b[1;33m(\u001b[0m\u001b[0mname\u001b[0m\u001b[1;33m)\u001b[0m\u001b[1;33m)\u001b[0m\u001b[1;33m\u001b[0m\u001b[0m\n\u001b[0m\u001b[0;32m     59\u001b[0m \u001b[1;33m\u001b[0m\u001b[0m\n\u001b[0;32m     60\u001b[0m         \u001b[1;32mif\u001b[0m \u001b[0mattr\u001b[0m\u001b[1;33m.\u001b[0m\u001b[0mget_space\u001b[0m\u001b[1;33m(\u001b[0m\u001b[1;33m)\u001b[0m\u001b[1;33m.\u001b[0m\u001b[0mget_simple_extent_type\u001b[0m\u001b[1;33m(\u001b[0m\u001b[1;33m)\u001b[0m \u001b[1;33m==\u001b[0m \u001b[0mh5s\u001b[0m\u001b[1;33m.\u001b[0m\u001b[0mNULL\u001b[0m\u001b[1;33m:\u001b[0m\u001b[1;33m\u001b[0m\u001b[0m\n",
      "\u001b[1;32mh5py/_objects.pyx\u001b[0m in \u001b[0;36mh5py._objects.with_phil.wrapper (/tmp/pip-4pPAoV-build/h5py/_objects.c:2684)\u001b[1;34m()\u001b[0m\n",
      "\u001b[1;32mh5py/_objects.pyx\u001b[0m in \u001b[0;36mh5py._objects.with_phil.wrapper (/tmp/pip-4pPAoV-build/h5py/_objects.c:2642)\u001b[1;34m()\u001b[0m\n",
      "\u001b[1;32mh5py/h5a.pyx\u001b[0m in \u001b[0;36mh5py.h5a.open (/tmp/pip-4pPAoV-build/h5py/h5a.c:2172)\u001b[1;34m()\u001b[0m\n",
      "\u001b[1;31mKeyError\u001b[0m: \"Can't open attribute (Can't locate attribute: 'parang')\""
     ]
    }
   ],
   "source": [
    "test = pipeline.get_attribute(\"header_all_resids100\", \"PARANG\")"
   ]
  },
  {
   "cell_type": "code",
   "execution_count": 9,
   "metadata": {
    "collapsed": false
   },
   "outputs": [],
   "source": [
    "test2 = pipeline.get_data(tag=\"/header_all_resids100/PARANG\")"
   ]
  },
  {
   "cell_type": "code",
   "execution_count": 10,
   "metadata": {
    "collapsed": false
   },
   "outputs": [
    {
     "name": "stdout",
     "output_type": "stream",
     "text": [
      "[-37.722728  -37.716388  -37.710286  ...  -1.8834054  -1.8714235\n",
      "  -1.8714235]\n"
     ]
    }
   ],
   "source": [
    "print(test2)"
   ]
  },
  {
   "cell_type": "code",
   "execution_count": null,
   "metadata": {
    "collapsed": true
   },
   "outputs": [],
   "source": [
    "##########################################################################"
   ]
  },
  {
   "cell_type": "code",
   "execution_count": 10,
   "metadata": {
    "collapsed": true
   },
   "outputs": [],
   "source": [
    "contrast_curve_results = pipeline.get_data(\"contrast_landscape\")"
   ]
  },
  {
   "cell_type": "code",
   "execution_count": 11,
   "metadata": {
    "collapsed": false
   },
   "outputs": [
    {
     "data": {
      "text/plain": [
       "array([[2.50000000e-01,            nan,            nan, 1.21477003e-04]])"
      ]
     },
     "execution_count": 11,
     "metadata": {},
     "output_type": "execute_result"
    }
   ],
   "source": [
    "# contrast curve\n",
    "\n",
    "# [0]: separation\n",
    "# [1]: azimuthally averaged contrast limits\n",
    "# [2]: the azimuthal variance of the contrast limits\n",
    "# [3]: threshold of the false positive fraction associated with sigma\n",
    "\n",
    "contrast_curve_results"
   ]
  },
  {
   "cell_type": "code",
   "execution_count": null,
   "metadata": {
    "collapsed": true
   },
   "outputs": [],
   "source": [
    "# make plots\n",
    "\n",
    "f, (ax1, ax2) = plt.subplots(1, 2)\n",
    "ax1.plot(contrast_curve_results[:,0],contrast_curve_results[:,1])\n",
    "ax1.set_title('Azim. averaged contrast limit')\n",
    "ax1.set_xlabel('Radius (asec)')\n",
    "ax2.set_ylabel('del_mag')\n",
    "ax2.plot(contrast_curve_results[:,0],contrast_curve_results[:,3])\n",
    "ax2.set_title('Threshold of FPF')\n",
    "ax2.set_xlabel('Radius (asec)')\n",
    "f.savefig('test.png')"
   ]
  },
  {
   "cell_type": "code",
   "execution_count": null,
   "metadata": {
    "collapsed": true
   },
   "outputs": [],
   "source": [
    "##########################"
   ]
  },
  {
   "cell_type": "code",
   "execution_count": 5,
   "metadata": {
    "collapsed": false
   },
   "outputs": [
    {
     "data": {
      "text/plain": [
       "'\\ninject = FluxAndPosition.FakePlanetModule(position=(0.46,0),\\n                          magnitude=0,\\n                          psf_scaling=1,\\n                          name_in=\"inject\",\\n                          image_in_tag=\"stack\",\\n                          psf_in_tag=\"model_psf\",\\n                          image_out_tag=\"fake_planet_output\")\\n\\npipeline.add_module(inject)\\n'"
      ]
     },
     "execution_count": 5,
     "metadata": {},
     "output_type": "execute_result"
    }
   ],
   "source": [
    "# inject fake planets\n",
    "\n",
    "'''\n",
    "inject = FluxAndPosition.FakePlanetModule(position=(0.46,0),\n",
    "                          magnitude=0,\n",
    "                          psf_scaling=1,\n",
    "                          name_in=\"inject\",\n",
    "                          image_in_tag=\"stack\",\n",
    "                          psf_in_tag=\"model_psf\",\n",
    "                          image_out_tag=\"fake_planet_output\")\n",
    "\n",
    "pipeline.add_module(inject)\n",
    "'''"
   ]
  },
  {
   "cell_type": "code",
   "execution_count": 20,
   "metadata": {
    "collapsed": true
   },
   "outputs": [],
   "source": [
    "# prepare psf\n",
    "\n",
    "\n",
    "prep_fake_planet = PSFpreparationModule(name_in=\"prep_fake_planet\",\n",
    "                            image_in_tag=\"stack\",\n",
    "                            image_out_tag=\"prep\",\n",
    "                            image_mask_out_tag=None,\n",
    "                            mask_out_tag=None,\n",
    "                            norm=False,\n",
    "                            resize=None,\n",
    "                            cent_size=0.15,\n",
    "                            edge_size=1.1)\n",
    "\n",
    "pipeline.add_module(prep_fake_planet)"
   ]
  },
  {
   "cell_type": "code",
   "execution_count": 21,
   "metadata": {
    "collapsed": false
   },
   "outputs": [
    {
     "name": "stdout",
     "output_type": "stream",
     "text": [
      "Validating Pypeline... [DONE]\n",
      "Running Hdf5ReadingModule... [DONE]\n",
      "Running FitsReadingModule... [DONE]\n",
      "Running PSFpreparationModule... [DONE]\n"
     ]
    }
   ],
   "source": [
    "pipeline.run()\n",
    "\n",
    "# after running the pipeline, hdf5 attributes like PIXSCALE for groups\n",
    "# other than /config/ should be available"
   ]
  },
  {
   "cell_type": "code",
   "execution_count": 22,
   "metadata": {
    "collapsed": false
   },
   "outputs": [
    {
     "name": "stdout",
     "output_type": "stream",
     "text": [
      "0.0107\n",
      "0.027\n"
     ]
    }
   ],
   "source": [
    "pixscale_config = pipeline.get_attribute(\"config\", \"PIXSCALE\")\n",
    "print(pixscale_config)\n",
    "pixscale_prep = pipeline.get_attribute(\"prep\", \"PIXSCALE\")\n",
    "print(pixscale_prep)"
   ]
  },
  {
   "cell_type": "code",
   "execution_count": 7,
   "metadata": {
    "collapsed": false
   },
   "outputs": [
    {
     "name": "stdout",
     "output_type": "stream",
     "text": [
      "0.027\n"
     ]
    }
   ],
   "source": [
    "print(pixscale_config)"
   ]
  },
  {
   "cell_type": "code",
   "execution_count": 8,
   "metadata": {
    "collapsed": false
   },
   "outputs": [
    {
     "data": {
      "text/plain": [
       "'\\n# checks HDF5 file\\nwrite_prep = FitsWritingModule(file_name=\"junk_prep.fits\",\\n                              name_in=\"write_prep\",\\n                              output_dir=output_place,\\n                              data_tag=\"prep\")\\n\\n#pipeline.add_module(write_prep)\\n'"
      ]
     },
     "execution_count": 8,
     "metadata": {},
     "output_type": "execute_result"
    }
   ],
   "source": [
    "# write out prepped psf\n",
    "\n",
    "'''\n",
    "# checks HDF5 file\n",
    "write_prep = FitsWritingModule(file_name=\"junk_prep.fits\",\n",
    "                              name_in=\"write_prep\",\n",
    "                              output_dir=output_place,\n",
    "                              data_tag=\"prep\")\n",
    "\n",
    "#pipeline.add_module(write_prep)\n",
    "'''"
   ]
  },
  {
   "cell_type": "code",
   "execution_count": 7,
   "metadata": {
    "collapsed": true
   },
   "outputs": [],
   "source": [
    "# do PCA PSF subtraction\n",
    "\n",
    "'''\n",
    "pca = PcaPsfSubtractionModule(pca_numbers=(5, ),\n",
    "                              name_in=\"pca\",\n",
    "                              images_in_tag=\"fake_planet_output\",\n",
    "                              reference_in_tag=\"fake_planet_output\",\n",
    "                              res_mean_tag=\"mean_residuals\",\n",
    "                              res_median_tag=\"median_residuals\",\n",
    "                              res_arr_out_tag=\"all_resids\",\n",
    "                              res_rot_mean_clip_tag=\"resid_rot\",\n",
    "                              verbose=True)\n",
    "\n",
    "pipeline.add_module(pca)\n",
    "\n",
    "# note:\n",
    "# images_in_tag: science images\n",
    "# reference_in_tag: reference images, which COULD be the science images\n",
    "'''"
   ]
  },
  {
   "cell_type": "code",
   "execution_count": 7,
   "metadata": {
    "collapsed": true
   },
   "outputs": [],
   "source": [
    "## THIS IS TEST ONLY ## do PCA PSF subtraction\n",
    "\n",
    "'''\n",
    "pca = PcaPsfSubtractionModule(pca_numbers=(5, ),\n",
    "                              name_in=\"pca\",\n",
    "                              images_in_tag=\"read_science\",\n",
    "                              reference_in_tag=\"read_science\",\n",
    "                              res_mean_tag=\"mean_residuals\",\n",
    "                              res_median_tag=\"median_residuals\",\n",
    "                              res_arr_out_tag=\"all_resids\",\n",
    "                              res_rot_mean_clip_tag=\"resid_rot\",\n",
    "                              verbose=True)\n",
    "\n",
    "pipeline.add_module(pca)\n",
    "'''\n",
    "# note:\n",
    "# images_in_tag: science images\n",
    "# reference_in_tag: reference images, which COULD be the science images"
   ]
  },
  {
   "cell_type": "code",
   "execution_count": 8,
   "metadata": {
    "collapsed": true
   },
   "outputs": [],
   "source": [
    "# write out outputs from PCA PSF subtraction\n",
    "\n",
    "'''\n",
    "# checks HDF5 file\n",
    "read_test1 = FitsWritingModule(file_name=\"junk_mean_residuals.fits\",\n",
    "                              name_in=\"read_test1\",\n",
    "                              output_dir=output_place,\n",
    "                              data_tag=\"mean_residuals\")\n",
    "\n",
    "pipeline.add_module(read_test1)\n",
    "'''"
   ]
  },
  {
   "cell_type": "code",
   "execution_count": 9,
   "metadata": {
    "collapsed": true
   },
   "outputs": [],
   "source": [
    "# write out outputs from PCA PSF subtraction\n",
    "\n",
    "'''\n",
    "# checks HDF5 file\n",
    "read_test2 = FitsWritingModule(file_name=\"junk_median_residuals.fits\",\n",
    "                              name_in=\"read_test2\",\n",
    "                              output_dir=output_place,\n",
    "                              data_tag=\"median_residuals\")\n",
    "\n",
    "pipeline.add_module(read_test2)\n",
    "'''"
   ]
  },
  {
   "cell_type": "code",
   "execution_count": 10,
   "metadata": {
    "collapsed": true
   },
   "outputs": [],
   "source": [
    "# write out outputs from PCA PSF subtraction\n",
    "\n",
    "'''\n",
    "# checks HDF5 file\n",
    "read_test4 = FitsWritingModule(file_name=\"junk_resid_rot.fits\",\n",
    "                              name_in=\"read_test4\",\n",
    "                              output_dir=output_place,\n",
    "                              data_tag=\"resid_rot\")\n",
    "\n",
    "pipeline.add_module(read_test4)\n",
    "'''"
   ]
  },
  {
   "cell_type": "code",
   "execution_count": 6,
   "metadata": {
    "collapsed": true
   },
   "outputs": [],
   "source": [
    "# make a contrast curve\n",
    "\n",
    "'''\n",
    "cent_size: mask radius\n",
    "'''\n",
    "\n",
    "contrast_curve = ContrastCurveModule(name_in=\"contrast_curve\",\n",
    "                            image_in_tag=\"prep\",\n",
    "                            psf_in_tag=\"model_psf\",\n",
    "                            contrast_out_tag=\"contrast_landscape\",\n",
    "                            pca_out_tag=\"pca_resids\",\n",
    "                            pca_number=20,\n",
    "                            psf_scaling=1,\n",
    "                            separation=(0.1, 1.0, 0.1), \n",
    "                            angle=(0.0, 360.0, 60.0), \n",
    "                            magnitude=(7.5, 1.0),\n",
    "                            cent_size=None)\n",
    "\n",
    "pipeline.add_module(contrast_curve)"
   ]
  },
  {
   "cell_type": "code",
   "execution_count": 9,
   "metadata": {
    "collapsed": false
   },
   "outputs": [
    {
     "name": "stdout",
     "output_type": "stream",
     "text": [
      "Validating Pypeline... [DONE]\n"
     ]
    },
    {
     "ename": "AssertionError",
     "evalue": "Error: Input file does not exist. Input requested: BetaPic_NACO_Mp.hdf5",
     "output_type": "error",
     "traceback": [
      "\u001b[1;31m---------------------------------------------------------------------------\u001b[0m",
      "\u001b[1;31mAssertionError\u001b[0m                            Traceback (most recent call last)",
      "\u001b[1;32m<ipython-input-9-45328862925b>\u001b[0m in \u001b[0;36m<module>\u001b[1;34m()\u001b[0m\n\u001b[1;32m----> 1\u001b[1;33m \u001b[0mpipeline\u001b[0m\u001b[1;33m.\u001b[0m\u001b[0mrun\u001b[0m\u001b[1;33m(\u001b[0m\u001b[1;33m)\u001b[0m\u001b[1;33m\u001b[0m\u001b[0m\n\u001b[0m",
      "\u001b[1;32m/home/unasemaje/anaconda3/envs/py27/lib/python2.7/site-packages/PynPoint/Core/Pypeline.pyc\u001b[0m in \u001b[0;36mrun\u001b[1;34m(self)\u001b[0m\n\u001b[0;32m    358\u001b[0m \u001b[1;33m\u001b[0m\u001b[0m\n\u001b[0;32m    359\u001b[0m         \u001b[1;32mfor\u001b[0m \u001b[0mkey\u001b[0m \u001b[1;32min\u001b[0m \u001b[0mself\u001b[0m\u001b[1;33m.\u001b[0m\u001b[0m_m_modules\u001b[0m\u001b[1;33m:\u001b[0m\u001b[1;33m\u001b[0m\u001b[0m\n\u001b[1;32m--> 360\u001b[1;33m             \u001b[0mself\u001b[0m\u001b[1;33m.\u001b[0m\u001b[0m_m_modules\u001b[0m\u001b[1;33m[\u001b[0m\u001b[0mkey\u001b[0m\u001b[1;33m]\u001b[0m\u001b[1;33m.\u001b[0m\u001b[0mrun\u001b[0m\u001b[1;33m(\u001b[0m\u001b[1;33m)\u001b[0m\u001b[1;33m\u001b[0m\u001b[0m\n\u001b[0m\u001b[0;32m    361\u001b[0m \u001b[1;33m\u001b[0m\u001b[0m\n\u001b[0;32m    362\u001b[0m     \u001b[1;32mdef\u001b[0m \u001b[0mrun_module\u001b[0m\u001b[1;33m(\u001b[0m\u001b[0mself\u001b[0m\u001b[1;33m,\u001b[0m \u001b[0mname\u001b[0m\u001b[1;33m)\u001b[0m\u001b[1;33m:\u001b[0m\u001b[1;33m\u001b[0m\u001b[0m\n",
      "\u001b[1;32m/home/unasemaje/anaconda3/envs/py27/lib/python2.7/site-packages/PynPoint/IOmodules/Hdf5Reading.pyc\u001b[0m in \u001b[0;36mrun\u001b[1;34m(self)\u001b[0m\n\u001b[0;32m    125\u001b[0m             \u001b[1;32massert\u001b[0m\u001b[1;33m(\u001b[0m\u001b[0mos\u001b[0m\u001b[1;33m.\u001b[0m\u001b[0mpath\u001b[0m\u001b[1;33m.\u001b[0m\u001b[0misfile\u001b[0m\u001b[1;33m(\u001b[0m\u001b[1;33m(\u001b[0m\u001b[0mtmp_dir\u001b[0m \u001b[1;33m+\u001b[0m \u001b[0mstr\u001b[0m\u001b[1;33m(\u001b[0m\u001b[0mself\u001b[0m\u001b[1;33m.\u001b[0m\u001b[0mm_filename\u001b[0m\u001b[1;33m)\u001b[0m\u001b[1;33m)\u001b[0m\u001b[1;33m)\u001b[0m\u001b[1;33m)\u001b[0m\u001b[1;33m,\u001b[0m \u001b[1;34m\"Error: Input file does not \"\u001b[0m\u001b[0;31m\\\u001b[0m\u001b[1;33m\u001b[0m\u001b[0m\n\u001b[0;32m    126\u001b[0m                                                                       \u001b[1;34m\"exist. Input requested: %s\"\u001b[0m\u001b[0;31m\\\u001b[0m\u001b[1;33m\u001b[0m\u001b[0m\n\u001b[1;32m--> 127\u001b[1;33m                                                                       \u001b[1;33m%\u001b[0m \u001b[0mstr\u001b[0m\u001b[1;33m(\u001b[0m\u001b[0mself\u001b[0m\u001b[1;33m.\u001b[0m\u001b[0mm_filename\u001b[0m\u001b[1;33m)\u001b[0m\u001b[1;33m\u001b[0m\u001b[0m\n\u001b[0m\u001b[0;32m    128\u001b[0m \u001b[1;33m\u001b[0m\u001b[0m\n\u001b[0;32m    129\u001b[0m             \u001b[0mfiles\u001b[0m\u001b[1;33m.\u001b[0m\u001b[0mappend\u001b[0m\u001b[1;33m(\u001b[0m\u001b[1;33m(\u001b[0m\u001b[0mtmp_dir\u001b[0m \u001b[1;33m+\u001b[0m \u001b[0mstr\u001b[0m\u001b[1;33m(\u001b[0m\u001b[0mself\u001b[0m\u001b[1;33m.\u001b[0m\u001b[0mm_filename\u001b[0m\u001b[1;33m)\u001b[0m\u001b[1;33m)\u001b[0m\u001b[1;33m)\u001b[0m\u001b[1;33m\u001b[0m\u001b[0m\n",
      "\u001b[1;31mAssertionError\u001b[0m: Error: Input file does not exist. Input requested: BetaPic_NACO_Mp.hdf5"
     ]
    }
   ],
   "source": [
    "pipeline.run()"
   ]
  },
  {
   "cell_type": "code",
   "execution_count": 11,
   "metadata": {
    "collapsed": true
   },
   "outputs": [],
   "source": [
    "contrast_curve_results = pipeline.get_data(\"contrast_landscape\")\n",
    "#residuals = pipeline.get_data(\"residuals\")\n",
    "#pixscale = pipeline.get_attribute(\"stack\", \"PIXSCALE\")\n",
    "\n",
    "#size = pixscale*np.size(residuals, 1)/2."
   ]
  },
  {
   "cell_type": "code",
   "execution_count": 12,
   "metadata": {
    "collapsed": false
   },
   "outputs": [
    {
     "data": {
      "text/plain": [
       "array([[1.00000000e-01,            nan,            nan, 3.74521694e-03],\n",
       "       [2.00000000e-01,            nan,            nan, 2.68666801e-04],\n",
       "       [3.00000000e-01, 5.07657121e+00, 1.80844893e-01, 6.54338490e-05],\n",
       "       [4.00000000e-01, 4.73267286e+00, 8.75829719e-02, 2.33216658e-05],\n",
       "       [5.00000000e-01, 4.57947726e+00, 1.54244613e-02, 1.26831579e-05],\n",
       "       [6.00000000e-01, 6.79627759e+00, 7.58776386e-02, 8.02141316e-06],\n",
       "       [7.00000000e-01, 7.15955594e+00, 8.30756762e-02, 5.60807982e-06],\n",
       "       [8.00000000e-01, 7.48905131e+00, 4.07430502e-02, 4.03083259e-06],\n",
       "       [9.00000000e-01, 7.51861472e+00, 1.13346032e-02, 3.20495930e-06]])"
      ]
     },
     "execution_count": 12,
     "metadata": {},
     "output_type": "execute_result"
    }
   ],
   "source": [
    "# contrast curve\n",
    "\n",
    "# [0]: separation\n",
    "# [1]: azimuthally averaged contrast limits\n",
    "# [2]: the azimuthal variance of the contrast limits\n",
    "# [3]: threshold of the false positive fraction associated with sigma\n",
    "\n",
    "contrast_curve_results"
   ]
  },
  {
   "cell_type": "code",
   "execution_count": 20,
   "metadata": {
    "collapsed": true
   },
   "outputs": [],
   "source": [
    "\n",
    "\n",
    "f, (ax1, ax2) = plt.subplots(1, 2)\n",
    "ax1.plot(contrast_curve_results[:,0],contrast_curve_results[:,1])\n",
    "ax1.set_title('Azim. averaged contrast limit')\n",
    "ax1.set_xlabel('Radius (asec)')\n",
    "ax2.set_ylabel('del_mag')\n",
    "ax2.plot(contrast_curve_results[:,0],contrast_curve_results[:,3])\n",
    "ax2.set_title('Threshold of FPF')\n",
    "ax2.set_xlabel('Radius (asec)')\n",
    "f.savefig('test.png')"
   ]
  },
  {
   "cell_type": "code",
   "execution_count": 19,
   "metadata": {
    "collapsed": false
   },
   "outputs": [
    {
     "ename": "NameError",
     "evalue": "name 'residuals' is not defined",
     "output_type": "error",
     "traceback": [
      "\u001b[1;31m---------------------------------------------------------------------------\u001b[0m",
      "\u001b[1;31mNameError\u001b[0m                                 Traceback (most recent call last)",
      "\u001b[1;32m<ipython-input-19-db96eb85cc22>\u001b[0m in \u001b[0;36m<module>\u001b[1;34m()\u001b[0m\n\u001b[1;32m----> 1\u001b[1;33m \u001b[0mplt\u001b[0m\u001b[1;33m.\u001b[0m\u001b[0mimshow\u001b[0m\u001b[1;33m(\u001b[0m\u001b[0mresiduals\u001b[0m\u001b[1;33m[\u001b[0m\u001b[1;36m0\u001b[0m\u001b[1;33m,\u001b[0m \u001b[1;33m]\u001b[0m\u001b[1;33m,\u001b[0m \u001b[0morigin\u001b[0m\u001b[1;33m=\u001b[0m\u001b[1;34m'lower'\u001b[0m\u001b[1;33m,\u001b[0m \u001b[0mextent\u001b[0m\u001b[1;33m=\u001b[0m\u001b[1;33m[\u001b[0m\u001b[0msize\u001b[0m\u001b[1;33m,\u001b[0m \u001b[1;33m-\u001b[0m\u001b[0msize\u001b[0m\u001b[1;33m,\u001b[0m \u001b[1;33m-\u001b[0m\u001b[0msize\u001b[0m\u001b[1;33m,\u001b[0m \u001b[0msize\u001b[0m\u001b[1;33m]\u001b[0m\u001b[1;33m)\u001b[0m\u001b[1;33m\u001b[0m\u001b[0m\n\u001b[0m\u001b[0;32m      2\u001b[0m \u001b[0mplt\u001b[0m\u001b[1;33m.\u001b[0m\u001b[0mtitle\u001b[0m\u001b[1;33m(\u001b[0m\u001b[1;34m\"beta Pic b - NACO M' - mean residuals\"\u001b[0m\u001b[1;33m)\u001b[0m\u001b[1;33m\u001b[0m\u001b[0m\n\u001b[0;32m      3\u001b[0m \u001b[0mplt\u001b[0m\u001b[1;33m.\u001b[0m\u001b[0mxlabel\u001b[0m\u001b[1;33m(\u001b[0m\u001b[1;34m'R.A. offset [arcsec]'\u001b[0m\u001b[1;33m,\u001b[0m \u001b[0mfontsize\u001b[0m\u001b[1;33m=\u001b[0m\u001b[1;36m12\u001b[0m\u001b[1;33m)\u001b[0m\u001b[1;33m\u001b[0m\u001b[0m\n\u001b[0;32m      4\u001b[0m \u001b[0mplt\u001b[0m\u001b[1;33m.\u001b[0m\u001b[0mylabel\u001b[0m\u001b[1;33m(\u001b[0m\u001b[1;34m'Dec. offset [arcsec]'\u001b[0m\u001b[1;33m,\u001b[0m \u001b[0mfontsize\u001b[0m\u001b[1;33m=\u001b[0m\u001b[1;36m12\u001b[0m\u001b[1;33m)\u001b[0m\u001b[1;33m\u001b[0m\u001b[0m\n\u001b[0;32m      5\u001b[0m \u001b[0mplt\u001b[0m\u001b[1;33m.\u001b[0m\u001b[0mcolorbar\u001b[0m\u001b[1;33m(\u001b[0m\u001b[1;33m)\u001b[0m\u001b[1;33m\u001b[0m\u001b[0m\n",
      "\u001b[1;31mNameError\u001b[0m: name 'residuals' is not defined"
     ]
    }
   ],
   "source": [
    "plt.imshow(residuals[0, ], origin='lower', extent=[size, -size, -size, size])\n",
    "plt.title(\"beta Pic b - NACO M' - mean residuals\")\n",
    "plt.xlabel('R.A. offset [arcsec]', fontsize=12)\n",
    "plt.ylabel('Dec. offset [arcsec]', fontsize=12)\n",
    "plt.colorbar()\n",
    "#plt.show()\n",
    "plt.savefig(output_place+\"residuals.png\")"
   ]
  },
  {
   "cell_type": "code",
   "execution_count": 13,
   "metadata": {
    "collapsed": false
   },
   "outputs": [
    {
     "data": {
      "text/plain": [
       "<PynPoint.Core.Pypeline.Pypeline at 0x9a8ae08c>"
      ]
     },
     "execution_count": 13,
     "metadata": {},
     "output_type": "execute_result"
    }
   ],
   "source": [
    "pipeline"
   ]
  },
  {
   "cell_type": "code",
   "execution_count": 19,
   "metadata": {
    "collapsed": false
   },
   "outputs": [
    {
     "ename": "NameError",
     "evalue": "name 'residuals' is not defined",
     "output_type": "error",
     "traceback": [
      "\u001b[1;31m---------------------------------------------------------------------------\u001b[0m",
      "\u001b[1;31mNameError\u001b[0m                                 Traceback (most recent call last)",
      "\u001b[1;32m<ipython-input-19-2a245e89bc92>\u001b[0m in \u001b[0;36m<module>\u001b[1;34m()\u001b[0m\n\u001b[1;32m----> 1\u001b[1;33m \u001b[0mnp\u001b[0m\u001b[1;33m.\u001b[0m\u001b[0msize\u001b[0m\u001b[1;33m(\u001b[0m\u001b[0mresiduals\u001b[0m\u001b[1;33m)\u001b[0m\u001b[1;33m\u001b[0m\u001b[0m\n\u001b[0m",
      "\u001b[1;31mNameError\u001b[0m: name 'residuals' is not defined"
     ]
    }
   ],
   "source": [
    "np.size(residuals)"
   ]
  },
  {
   "cell_type": "code",
   "execution_count": 10,
   "metadata": {
    "collapsed": false
   },
   "outputs": [
    {
     "name": "stderr",
     "output_type": "stream",
     "text": [
      "/home/unasemaje/anaconda3/envs/py27/lib/python2.7/site-packages/PynPoint/Core/Pypeline.py:257: UserWarning: Processing module names need to be unique. Overwriting module 'fits_write'.\n",
      "  % module.name)\n"
     ]
    }
   ],
   "source": [
    "pipeline.add_module(writefits)"
   ]
  },
  {
   "cell_type": "code",
   "execution_count": 11,
   "metadata": {
    "collapsed": false
   },
   "outputs": [
    {
     "name": "stdout",
     "output_type": "stream",
     "text": [
      "Running FitsWritingModule... [DONE]\n"
     ]
    }
   ],
   "source": [
    "writefits.run()"
   ]
  },
  {
   "cell_type": "code",
   "execution_count": null,
   "metadata": {
    "collapsed": true
   },
   "outputs": [],
   "source": []
  }
 ],
 "metadata": {
  "kernelspec": {
   "display_name": "Python 2",
   "language": "python",
   "name": "python2"
  },
  "language_info": {
   "codemirror_mode": {
    "name": "ipython",
    "version": 2
   },
   "file_extension": ".py",
   "mimetype": "text/x-python",
   "name": "python",
   "nbconvert_exporter": "python",
   "pygments_lexer": "ipython2",
   "version": "2.7.11"
  }
 },
 "nbformat": 4,
 "nbformat_minor": 2
}
