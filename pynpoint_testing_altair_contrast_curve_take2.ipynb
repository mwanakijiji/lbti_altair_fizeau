{
 "cells": [
  {
   "cell_type": "code",
   "execution_count": 1,
   "metadata": {
    "collapsed": true
   },
   "outputs": [],
   "source": [
    "# This makes a first contrast curve for Altair\n",
    "\n",
    "# created 2018 Sept. 20 by E.S."
   ]
  },
  {
   "cell_type": "markdown",
   "metadata": {},
   "source": [
    "## SECTION TO INITIALIZE"
   ]
  },
  {
   "cell_type": "code",
   "execution_count": 1,
   "metadata": {
    "collapsed": false
   },
   "outputs": [],
   "source": [
    "# import stuff\n",
    "\n",
    "import urllib\n",
    "import numpy as np\n",
    "import matplotlib.pyplot as plt\n",
    "\n",
    "import PynPoint\n",
    "\n",
    "from PynPoint import Pypeline\n",
    "from PynPoint.IOmodules.Hdf5Reading import Hdf5ReadingModule\n",
    "from PynPoint.IOmodules.FitsWriting import FitsWritingModule\n",
    "from PynPoint.IOmodules.FitsReading import FitsReadingModule\n",
    "from PynPoint.IOmodules.TextReading import ParangReadingModule\n",
    "from PynPoint.ProcessingModules import PSFpreparationModule, \\\n",
    "                                       PcaPsfSubtractionModule, \\\n",
    "                                       ContrastCurveModule, \\\n",
    "                                       FluxAndPosition, \\\n",
    "                                    StackingAndSubsampling\n",
    "from PynPoint.ProcessingModules.StackingAndSubsampling import DerotateAndStackModule\n",
    "from PynPoint.ProcessingModules.FluxAndPosition import FakePlanetModule\n",
    "#from PynPoint.Util import AnalysisTools"
   ]
  },
  {
   "cell_type": "code",
   "execution_count": 2,
   "metadata": {
    "collapsed": false
   },
   "outputs": [
    {
     "name": "stdout",
     "output_type": "stream",
     "text": [
      "Initiating PynPoint... [DONE]\n"
     ]
    }
   ],
   "source": [
    "# define workspaces and initialize Pypeline\n",
    "\n",
    "stem = \"/home/../../media/unasemaje/Elements/lbti_data_reduction/180507_fizeau_altair/pynpoint_testing/\"\n",
    "\n",
    "working_place = stem+\"pynpoint_experimentation_altair/working_place/\"\n",
    "input_place = stem+\"/pynpoint_experimentation_altair/input_place/\"\n",
    "output_place = stem+\"/pynpoint_experimentation_altair/output_place/\"\n",
    "\n",
    "pipeline = Pypeline(working_place_in=working_place,\n",
    "                    input_place_in=input_place,\n",
    "                    output_place_in=output_place)\n",
    "\n",
    "# now a *.ini file has been generated (this includes the PIXSCALE), if no pre-existing one was there"
   ]
  },
  {
   "cell_type": "code",
   "execution_count": 3,
   "metadata": {
    "collapsed": true
   },
   "outputs": [],
   "source": [
    "## IF THE *INI FILE WAS NEWLY GENERATED, EDIT THE *INI FILE TO SET\n",
    "## PIXSCALE = 0.0107"
   ]
  },
  {
   "cell_type": "markdown",
   "metadata": {},
   "source": [
    "## SECTION TO READ IN DATA"
   ]
  },
  {
   "cell_type": "code",
   "execution_count": 4,
   "metadata": {
    "collapsed": true
   },
   "outputs": [],
   "source": [
    "# read in science FITS files \n",
    "# (should have PARANG=0 in all headers, so as to keep the PSF in the same original orientation on the array; \n",
    "# we need to wait to correct for PARANG later)\n",
    "\n",
    "read_science = FitsReadingModule(name_in=\"read_science\",\n",
    "                                 input_dir=None,\n",
    "                                 image_tag=\"science\",\n",
    "                                 check=True)\n",
    "\n",
    "pipeline.add_module(read_science)"
   ]
  },
  {
   "cell_type": "code",
   "execution_count": 5,
   "metadata": {
    "collapsed": false
   },
   "outputs": [
    {
     "name": "stdout",
     "output_type": "stream",
     "text": [
      "Plate scale for /config/ is 0.0107\n"
     ]
    }
   ],
   "source": [
    "# confirm PIXSCALE change\n",
    "\n",
    "pixscale_config = pipeline.get_attribute(\"config\", \"PIXSCALE\")\n",
    "print(\"Plate scale for /config/ is \"+str(pixscale_config))\n",
    "#pixscale_sci = pipeline.get_attribute(\"science\", \"PIXSCALE\")\n",
    "#print(\"Plate scale for /science/ is \"+str(pixscale_sci))"
   ]
  },
  {
   "cell_type": "code",
   "execution_count": 6,
   "metadata": {
    "collapsed": false
   },
   "outputs": [],
   "source": [
    "# read in PSF reference FITS files (i.e., unsaturated frames)\n",
    "# (these do not have any PARANG in the header, but it probably doesn't matter)\n",
    "\n",
    "read_ref_psf = FitsReadingModule(name_in=\"read_ref_psf\",\n",
    "                                 input_dir=input_place+'ref_psf/',\n",
    "                                 image_tag=\"ref_psf\",\n",
    "                                 check=True)\n",
    "\n",
    "pipeline.add_module(read_ref_psf)"
   ]
  },
  {
   "cell_type": "markdown",
   "metadata": {
    "collapsed": true
   },
   "source": [
    "## SECTION TO PROCESS DATA"
   ]
  },
  {
   "cell_type": "code",
   "execution_count": 8,
   "metadata": {
    "collapsed": false
   },
   "outputs": [],
   "source": [
    "## PIPELINE CHANNEL 1: IMAGE RESIDUALS\n",
    "\n",
    "# generate PCA basis from unsaturated frames and\n",
    "# do PCA PSF subtraction of the saturated frames\n",
    "\n",
    "'''\n",
    "pca_pca_subt = PcaPsfSubtractionModule(pca_numbers=(5, ),\n",
    "                                       name_in=\"pca\",\n",
    "                                       images_in_tag=\"science\",\n",
    "                                       reference_in_tag=\"ref_psf\",\n",
    "                                       res_mean_tag=\"mean_residuals\",\n",
    "                                       res_median_tag=\"median_residuals\",\n",
    "                                       res_arr_out_tag=\"all_resids\",\n",
    "                                       res_rot_mean_clip_tag=\"resid_rot\",\n",
    "                                       basis_out_tag=\"pca_components\",\n",
    "                                       subtract_mean=True,\n",
    "                                       verbose=True)\n",
    "\n",
    "pipeline.add_module(pca_pca_subt)\n",
    "'''\n",
    "\n",
    "# note:\n",
    "# images_in_tag: science images\n",
    "# reference_in_tag: reference images, which COULD be the science images"
   ]
  },
  {
   "cell_type": "code",
   "execution_count": 7,
   "metadata": {
    "collapsed": true
   },
   "outputs": [],
   "source": [
    "## PIPELINE CHANNEL 2: MAKE CONTRAST CURVE\n",
    "\n",
    "# make a contrast curve \n",
    "# (N.b. this does not separately require PcaPsfSubtractionModule)\n",
    "\n",
    "'''\n",
    "cent_size: mask radius\n",
    "'''\n",
    "\n",
    "# N.b. scale the reference PSF by 3.28 to match Altair's amplitude\n",
    "\n",
    "contrast_curve = ContrastCurveModule(name_in=\"contrast_curve\",\n",
    "                            image_in_tag=\"science\",\n",
    "                            psf_in_tag=\"ref_psf\",\n",
    "                            contrast_out_tag=\"contrast_landscape\",\n",
    "                            pca_out_tag=\"pca_resids\",\n",
    "                            pca_number=20,\n",
    "                            psf_scaling=3.28,\n",
    "                            separation=(0.05, 0.45, 0.05), \n",
    "                            angle=(0.0, 360.0, 60.0), \n",
    "                            magnitude=(7.5, 1.0),\n",
    "                            cent_size=None)\n",
    "\n",
    "pipeline.add_module(contrast_curve)"
   ]
  },
  {
   "cell_type": "code",
   "execution_count": 8,
   "metadata": {
    "collapsed": false
   },
   "outputs": [],
   "source": [
    "# write out PCA residuals\n",
    "\n",
    "write_pca_resids = FitsWritingModule(file_name=\"second_pass_pca_resids.fits\",\n",
    "                              name_in=\"write_pca_resids\",\n",
    "                              output_dir=output_place,\n",
    "                              data_tag=\"pca_resids\")\n",
    "\n",
    "pipeline.add_module(write_pca_resids)"
   ]
  },
  {
   "cell_type": "code",
   "execution_count": 9,
   "metadata": {
    "collapsed": false
   },
   "outputs": [
    {
     "name": "stdout",
     "output_type": "stream",
     "text": [
      "Validating Pypeline... [DONE]\n"
     ]
    },
    {
     "name": "stderr",
     "output_type": "stream",
     "text": [
      "/home/unasemaje/anaconda3/envs/py27/lib/python2.7/site-packages/PynPoint/IOmodules/FitsReading.py:172: UserWarning: Static attribute DIT (=ESO DET DIT) not found in the FITS header.\n",
      "  % (item[0], fitskey))\n",
      "/home/unasemaje/anaconda3/envs/py27/lib/python2.7/site-packages/PynPoint/IOmodules/FitsReading.py:172: UserWarning: Static attribute LATITUDE (=ESO TEL GEOLAT) not found in the FITS header.\n",
      "  % (item[0], fitskey))\n",
      "/home/unasemaje/anaconda3/envs/py27/lib/python2.7/site-packages/PynPoint/IOmodules/FitsReading.py:172: UserWarning: Static attribute LONGITUDE (=ESO TEL GEOLON) not found in the FITS header.\n",
      "  % (item[0], fitskey))\n",
      "/home/unasemaje/anaconda3/envs/py27/lib/python2.7/site-packages/PynPoint/IOmodules/FitsReading.py:207: UserWarning: Non-static attribute EXP_NO (=ESO DET EXP NO) not found in the FITS header.\n",
      "  \"header.\" % (item[0], fitskey))\n",
      "/home/unasemaje/anaconda3/envs/py27/lib/python2.7/site-packages/PynPoint/IOmodules/FitsReading.py:207: UserWarning: Non-static attribute NDIT (=ESO DET NDIT) not found in the FITS header.\n",
      "  \"header.\" % (item[0], fitskey))\n",
      "/home/unasemaje/anaconda3/envs/py27/lib/python2.7/site-packages/PynPoint/IOmodules/FitsReading.py:207: UserWarning: Non-static attribute PARANG_START (=ESO ADA POSANG) not found in the FITS header.\n",
      "  \"header.\" % (item[0], fitskey))\n",
      "/home/unasemaje/anaconda3/envs/py27/lib/python2.7/site-packages/PynPoint/IOmodules/FitsReading.py:207: UserWarning: Non-static attribute PARANG_END (=ESO ADA POSANG END) not found in the FITS header.\n",
      "  \"header.\" % (item[0], fitskey))\n",
      "/home/unasemaje/anaconda3/envs/py27/lib/python2.7/site-packages/PynPoint/IOmodules/FitsReading.py:207: UserWarning: Non-static attribute DITHER_X (=ESO SEQ CUMOFFSETX) not found in the FITS header.\n",
      "  \"header.\" % (item[0], fitskey))\n",
      "/home/unasemaje/anaconda3/envs/py27/lib/python2.7/site-packages/PynPoint/IOmodules/FitsReading.py:207: UserWarning: Non-static attribute DITHER_Y (=ESO SEQ CUMOFFSETY) not found in the FITS header.\n",
      "  \"header.\" % (item[0], fitskey))\n",
      "/home/unasemaje/anaconda3/envs/py27/lib/python2.7/site-packages/PynPoint/IOmodules/FitsReading.py:207: UserWarning: Non-static attribute PUPIL (=ESO ADA PUPILPOS) not found in the FITS header.\n",
      "  \"header.\" % (item[0], fitskey))\n",
      "/home/unasemaje/anaconda3/envs/py27/lib/python2.7/site-packages/PynPoint/IOmodules/FitsReading.py:207: UserWarning: Non-static attribute RA (=RA) not found in the FITS header.\n",
      "  \"header.\" % (item[0], fitskey))\n",
      "/home/unasemaje/anaconda3/envs/py27/lib/python2.7/site-packages/PynPoint/IOmodules/FitsReading.py:207: UserWarning: Non-static attribute DEC (=DEC) not found in the FITS header.\n",
      "  \"header.\" % (item[0], fitskey))\n"
     ]
    },
    {
     "name": "stdout",
     "output_type": "stream",
     "text": [
      "Running FitsReadingModule... [DONE]\n"
     ]
    },
    {
     "name": "stderr",
     "output_type": "stream",
     "text": [
      "/home/unasemaje/anaconda3/envs/py27/lib/python2.7/site-packages/PynPoint/IOmodules/FitsReading.py:172: UserWarning: Static attribute INSTRUMENT (=INSTRUME) not found in the FITS header.\n",
      "  % (item[0], fitskey))\n",
      "/home/unasemaje/anaconda3/envs/py27/lib/python2.7/site-packages/PynPoint/IOmodules/FitsReading.py:207: UserWarning: Non-static attribute DATE (=DATE-OBS) not found in the FITS header.\n",
      "  \"header.\" % (item[0], fitskey))\n"
     ]
    },
    {
     "name": "stdout",
     "output_type": "stream",
     "text": [
      "Running FitsReadingModule... [DONE]\n",
      "Running ContrastCurveModule...\n",
      "Processing position 1 out of 48."
     ]
    },
    {
     "name": "stderr",
     "output_type": "stream",
     "text": [
      "/home/unasemaje/anaconda3/envs/py27/lib/python2.7/site-packages/PynPoint/ProcessingModules/DetectionLimits.py:164: UserWarning: The number of frames in psf_in_tag does not match with the number of frames in image_in_tag. Using the mean of psf_in_tag as PSF template.\n",
      "  warnings.warn('The number of frames in psf_in_tag does not match with the number of '\n"
     ]
    },
    {
     "name": "stdout",
     "output_type": "stream",
     "text": [
      "........"
     ]
    },
    {
     "name": "stderr",
     "output_type": "stream",
     "text": [
      "/home/unasemaje/anaconda3/envs/py27/lib/python2.7/site-packages/PynPoint/ProcessingModules/DetectionLimits.py:340: UserWarning: The relative magnitude has become smaller or equal to zero. Adjusting magnitude to 7.5 and step size to 0.1.\n",
      "  warnings.warn(\"The relative magnitude has become smaller or equal to \"\n"
     ]
    },
    {
     "name": "stdout",
     "output_type": "stream",
     "text": [
      "........................................\n",
      "Processing position 2 out of 48."
     ]
    },
    {
     "name": "stderr",
     "output_type": "stream",
     "text": [
      "/home/unasemaje/anaconda3/envs/py27/lib/python2.7/site-packages/PynPoint/ProcessingModules/DetectionLimits.py:350: UserWarning: ContrastModule could not converge at the position of 0.09999999999999999 arcsec and 0.0 deg.\n",
      "  \"%s arcsec and %s deg.\" % (sep*pixscale, ang))\n"
     ]
    },
    {
     "name": "stdout",
     "output_type": "stream",
     "text": [
      "................................................\n",
      "Processing position 3 out of 48."
     ]
    },
    {
     "name": "stderr",
     "output_type": "stream",
     "text": [
      "/home/unasemaje/anaconda3/envs/py27/lib/python2.7/site-packages/PynPoint/ProcessingModules/DetectionLimits.py:350: UserWarning: ContrastModule could not converge at the position of 0.09999999999999999 arcsec and 60.0 deg.\n",
      "  \"%s arcsec and %s deg.\" % (sep*pixscale, ang))\n"
     ]
    },
    {
     "name": "stdout",
     "output_type": "stream",
     "text": [
      "................................................\n",
      "Processing position 4 out of 48."
     ]
    },
    {
     "name": "stderr",
     "output_type": "stream",
     "text": [
      "/home/unasemaje/anaconda3/envs/py27/lib/python2.7/site-packages/PynPoint/ProcessingModules/DetectionLimits.py:350: UserWarning: ContrastModule could not converge at the position of 0.09999999999999999 arcsec and 120.0 deg.\n",
      "  \"%s arcsec and %s deg.\" % (sep*pixscale, ang))\n"
     ]
    },
    {
     "name": "stdout",
     "output_type": "stream",
     "text": [
      ".............\n",
      "Processing position 5 out of 48.................................................\n",
      "Processing position 6 out of 48."
     ]
    },
    {
     "name": "stderr",
     "output_type": "stream",
     "text": [
      "/home/unasemaje/anaconda3/envs/py27/lib/python2.7/site-packages/PynPoint/ProcessingModules/DetectionLimits.py:350: UserWarning: ContrastModule could not converge at the position of 0.09999999999999999 arcsec and 240.0 deg.\n",
      "  \"%s arcsec and %s deg.\" % (sep*pixscale, ang))\n"
     ]
    },
    {
     "name": "stdout",
     "output_type": "stream",
     "text": [
      "............\n",
      "Processing position 7 out of 48........."
     ]
    },
    {
     "name": "stderr",
     "output_type": "stream",
     "text": [
      "/home/unasemaje/anaconda3/envs/py27/lib/python2.7/site-packages/PynPoint/ProcessingModules/DetectionLimits.py:327: UserWarning: Magnitude decreases but false positive fraction increases. Adjusting magnitude to 2.5 and step size to 0.5\n",
      "  \"to %s\" % (list_mag[-3], mag_step/2.))\n"
     ]
    },
    {
     "name": "stdout",
     "output_type": "stream",
     "text": [
      "...."
     ]
    },
    {
     "name": "stderr",
     "output_type": "stream",
     "text": [
      "/home/unasemaje/anaconda3/envs/py27/lib/python2.7/site-packages/PynPoint/ProcessingModules/DetectionLimits.py:327: UserWarning: Magnitude decreases but false positive fraction increases. Adjusting magnitude to 2.0 and step size to 0.25\n",
      "  \"to %s\" % (list_mag[-3], mag_step/2.))\n"
     ]
    },
    {
     "name": "stdout",
     "output_type": "stream",
     "text": [
      "..."
     ]
    },
    {
     "name": "stderr",
     "output_type": "stream",
     "text": [
      "/home/unasemaje/anaconda3/envs/py27/lib/python2.7/site-packages/PynPoint/ProcessingModules/DetectionLimits.py:327: UserWarning: Magnitude decreases but false positive fraction increases. Adjusting magnitude to 2.0 and step size to 0.125\n",
      "  \"to %s\" % (list_mag[-3], mag_step/2.))\n"
     ]
    },
    {
     "name": "stdout",
     "output_type": "stream",
     "text": [
      "...."
     ]
    },
    {
     "name": "stderr",
     "output_type": "stream",
     "text": [
      "/home/unasemaje/anaconda3/envs/py27/lib/python2.7/site-packages/PynPoint/ProcessingModules/DetectionLimits.py:327: UserWarning: Magnitude decreases but false positive fraction increases. Adjusting magnitude to 1.875 and step size to 0.0625\n",
      "  \"to %s\" % (list_mag[-3], mag_step/2.))\n"
     ]
    },
    {
     "name": "stdout",
     "output_type": "stream",
     "text": [
      "....."
     ]
    },
    {
     "name": "stderr",
     "output_type": "stream",
     "text": [
      "/home/unasemaje/anaconda3/envs/py27/lib/python2.7/site-packages/PynPoint/ProcessingModules/DetectionLimits.py:327: UserWarning: Magnitude decreases but false positive fraction increases. Adjusting magnitude to 1.75 and step size to 0.03125\n",
      "  \"to %s\" % (list_mag[-3], mag_step/2.))\n"
     ]
    },
    {
     "name": "stdout",
     "output_type": "stream",
     "text": [
      "...."
     ]
    },
    {
     "name": "stderr",
     "output_type": "stream",
     "text": [
      "/home/unasemaje/anaconda3/envs/py27/lib/python2.7/site-packages/PynPoint/ProcessingModules/DetectionLimits.py:327: UserWarning: Magnitude decreases but false positive fraction increases. Adjusting magnitude to 1.71875 and step size to 0.015625\n",
      "  \"to %s\" % (list_mag[-3], mag_step/2.))\n"
     ]
    },
    {
     "name": "stdout",
     "output_type": "stream",
     "text": [
      "..."
     ]
    },
    {
     "name": "stderr",
     "output_type": "stream",
     "text": [
      "/home/unasemaje/anaconda3/envs/py27/lib/python2.7/site-packages/PynPoint/ProcessingModules/DetectionLimits.py:327: UserWarning: Magnitude decreases but false positive fraction increases. Adjusting magnitude to 1.71875 and step size to 0.0078125\n",
      "  \"to %s\" % (list_mag[-3], mag_step/2.))\n"
     ]
    },
    {
     "name": "stdout",
     "output_type": "stream",
     "text": [
      "....."
     ]
    },
    {
     "name": "stderr",
     "output_type": "stream",
     "text": [
      "/home/unasemaje/anaconda3/envs/py27/lib/python2.7/site-packages/PynPoint/ProcessingModules/DetectionLimits.py:327: UserWarning: Magnitude decreases but false positive fraction increases. Adjusting magnitude to 1.703125 and step size to 0.00390625\n",
      "  \"to %s\" % (list_mag[-3], mag_step/2.))\n"
     ]
    },
    {
     "name": "stdout",
     "output_type": "stream",
     "text": [
      "...."
     ]
    },
    {
     "name": "stderr",
     "output_type": "stream",
     "text": [
      "/home/unasemaje/anaconda3/envs/py27/lib/python2.7/site-packages/PynPoint/ProcessingModules/DetectionLimits.py:327: UserWarning: Magnitude decreases but false positive fraction increases. Adjusting magnitude to 1.69921875 and step size to 0.001953125\n",
      "  \"to %s\" % (list_mag[-3], mag_step/2.))\n"
     ]
    },
    {
     "name": "stdout",
     "output_type": "stream",
     "text": [
      "...."
     ]
    },
    {
     "name": "stderr",
     "output_type": "stream",
     "text": [
      "/home/unasemaje/anaconda3/envs/py27/lib/python2.7/site-packages/PynPoint/ProcessingModules/DetectionLimits.py:327: UserWarning: Magnitude decreases but false positive fraction increases. Adjusting magnitude to 1.697265625 and step size to 0.0009765625\n",
      "  \"to %s\" % (list_mag[-3], mag_step/2.))\n"
     ]
    },
    {
     "name": "stdout",
     "output_type": "stream",
     "text": [
      "..."
     ]
    },
    {
     "name": "stderr",
     "output_type": "stream",
     "text": [
      "/home/unasemaje/anaconda3/envs/py27/lib/python2.7/site-packages/PynPoint/ProcessingModules/DetectionLimits.py:327: UserWarning: Magnitude decreases but false positive fraction increases. Adjusting magnitude to 1.697265625 and step size to 0.00048828125\n",
      "  \"to %s\" % (list_mag[-3], mag_step/2.))\n"
     ]
    },
    {
     "name": "stdout",
     "output_type": "stream",
     "text": [
      ".\n",
      "Processing position 8 out of 48."
     ]
    },
    {
     "name": "stderr",
     "output_type": "stream",
     "text": [
      "/home/unasemaje/anaconda3/envs/py27/lib/python2.7/site-packages/PynPoint/ProcessingModules/DetectionLimits.py:350: UserWarning: ContrastModule could not converge at the position of 0.15 arcsec and 0.0 deg.\n",
      "  \"%s arcsec and %s deg.\" % (sep*pixscale, ang))\n"
     ]
    },
    {
     "name": "stdout",
     "output_type": "stream",
     "text": [
      "......."
     ]
    },
    {
     "name": "stderr",
     "output_type": "stream",
     "text": [
      "/home/unasemaje/anaconda3/envs/py27/lib/python2.7/site-packages/PynPoint/ProcessingModules/DetectionLimits.py:327: UserWarning: Magnitude decreases but false positive fraction increases. Adjusting magnitude to 3.5 and step size to 0.5\n",
      "  \"to %s\" % (list_mag[-3], mag_step/2.))\n"
     ]
    },
    {
     "name": "stdout",
     "output_type": "stream",
     "text": [
      "...\n",
      "Processing position 9 out of 48........."
     ]
    },
    {
     "name": "stderr",
     "output_type": "stream",
     "text": [
      "/home/unasemaje/anaconda3/envs/py27/lib/python2.7/site-packages/PynPoint/ProcessingModules/DetectionLimits.py:327: UserWarning: Magnitude decreases but false positive fraction increases. Adjusting magnitude to 1.6867547123459898 and step size to 0.05\n",
      "  \"to %s\" % (list_mag[-3], mag_step/2.))\n"
     ]
    },
    {
     "name": "stdout",
     "output_type": "stream",
     "text": [
      "...."
     ]
    },
    {
     "name": "stderr",
     "output_type": "stream",
     "text": [
      "/home/unasemaje/anaconda3/envs/py27/lib/python2.7/site-packages/PynPoint/ProcessingModules/DetectionLimits.py:327: UserWarning: Magnitude decreases but false positive fraction increases. Adjusting magnitude to 1.6367547123459898 and step size to 0.025\n",
      "  \"to %s\" % (list_mag[-3], mag_step/2.))\n"
     ]
    },
    {
     "name": "stdout",
     "output_type": "stream",
     "text": [
      "...."
     ]
    },
    {
     "name": "stderr",
     "output_type": "stream",
     "text": [
      "/home/unasemaje/anaconda3/envs/py27/lib/python2.7/site-packages/PynPoint/ProcessingModules/DetectionLimits.py:327: UserWarning: Magnitude decreases but false positive fraction increases. Adjusting magnitude to 1.6117547123459899 and step size to 0.0125\n",
      "  \"to %s\" % (list_mag[-3], mag_step/2.))\n"
     ]
    },
    {
     "name": "stdout",
     "output_type": "stream",
     "text": [
      "..."
     ]
    },
    {
     "name": "stderr",
     "output_type": "stream",
     "text": [
      "/home/unasemaje/anaconda3/envs/py27/lib/python2.7/site-packages/PynPoint/ProcessingModules/DetectionLimits.py:327: UserWarning: Magnitude decreases but false positive fraction increases. Adjusting magnitude to 1.6117547123459899 and step size to 0.00625\n",
      "  \"to %s\" % (list_mag[-3], mag_step/2.))\n"
     ]
    },
    {
     "name": "stdout",
     "output_type": "stream",
     "text": [
      "....."
     ]
    },
    {
     "name": "stderr",
     "output_type": "stream",
     "text": [
      "/home/unasemaje/anaconda3/envs/py27/lib/python2.7/site-packages/PynPoint/ProcessingModules/DetectionLimits.py:327: UserWarning: Magnitude decreases but false positive fraction increases. Adjusting magnitude to 1.5992547123459897 and step size to 0.003125\n",
      "  \"to %s\" % (list_mag[-3], mag_step/2.))\n"
     ]
    },
    {
     "name": "stdout",
     "output_type": "stream",
     "text": [
      "...."
     ]
    },
    {
     "name": "stderr",
     "output_type": "stream",
     "text": [
      "/home/unasemaje/anaconda3/envs/py27/lib/python2.7/site-packages/PynPoint/ProcessingModules/DetectionLimits.py:327: UserWarning: Magnitude decreases but false positive fraction increases. Adjusting magnitude to 1.5961297123459897 and step size to 0.0015625\n",
      "  \"to %s\" % (list_mag[-3], mag_step/2.))\n"
     ]
    },
    {
     "name": "stdout",
     "output_type": "stream",
     "text": [
      "..."
     ]
    },
    {
     "name": "stderr",
     "output_type": "stream",
     "text": [
      "/home/unasemaje/anaconda3/envs/py27/lib/python2.7/site-packages/PynPoint/ProcessingModules/DetectionLimits.py:327: UserWarning: Magnitude decreases but false positive fraction increases. Adjusting magnitude to 1.5961297123459897 and step size to 0.00078125\n",
      "  \"to %s\" % (list_mag[-3], mag_step/2.))\n"
     ]
    },
    {
     "name": "stdout",
     "output_type": "stream",
     "text": [
      "...."
     ]
    },
    {
     "name": "stderr",
     "output_type": "stream",
     "text": [
      "/home/unasemaje/anaconda3/envs/py27/lib/python2.7/site-packages/PynPoint/ProcessingModules/DetectionLimits.py:327: UserWarning: Magnitude decreases but false positive fraction increases. Adjusting magnitude to 1.5953484623459897 and step size to 0.000390625\n",
      "  \"to %s\" % (list_mag[-3], mag_step/2.))\n"
     ]
    },
    {
     "name": "stdout",
     "output_type": "stream",
     "text": [
      "...."
     ]
    },
    {
     "name": "stderr",
     "output_type": "stream",
     "text": [
      "/home/unasemaje/anaconda3/envs/py27/lib/python2.7/site-packages/PynPoint/ProcessingModules/DetectionLimits.py:327: UserWarning: Magnitude decreases but false positive fraction increases. Adjusting magnitude to 1.5949578373459896 and step size to 0.0001953125\n",
      "  \"to %s\" % (list_mag[-3], mag_step/2.))\n"
     ]
    },
    {
     "name": "stdout",
     "output_type": "stream",
     "text": [
      "...."
     ]
    },
    {
     "name": "stderr",
     "output_type": "stream",
     "text": [
      "/home/unasemaje/anaconda3/envs/py27/lib/python2.7/site-packages/PynPoint/ProcessingModules/DetectionLimits.py:327: UserWarning: Magnitude decreases but false positive fraction increases. Adjusting magnitude to 1.5947625248459896 and step size to 9.765625e-05\n",
      "  \"to %s\" % (list_mag[-3], mag_step/2.))\n"
     ]
    },
    {
     "name": "stdout",
     "output_type": "stream",
     "text": [
      "....."
     ]
    },
    {
     "name": "stderr",
     "output_type": "stream",
     "text": [
      "/home/unasemaje/anaconda3/envs/py27/lib/python2.7/site-packages/PynPoint/ProcessingModules/DetectionLimits.py:327: UserWarning: Magnitude decreases but false positive fraction increases. Adjusting magnitude to 1.5945672123459897 and step size to 4.8828125e-05\n",
      "  \"to %s\" % (list_mag[-3], mag_step/2.))\n"
     ]
    },
    {
     "name": "stdout",
     "output_type": "stream",
     "text": [
      "\n",
      "Processing position 10 out of 48."
     ]
    },
    {
     "name": "stderr",
     "output_type": "stream",
     "text": [
      "/home/unasemaje/anaconda3/envs/py27/lib/python2.7/site-packages/PynPoint/ProcessingModules/DetectionLimits.py:350: UserWarning: ContrastModule could not converge at the position of 0.15 arcsec and 120.0 deg.\n",
      "  \"%s arcsec and %s deg.\" % (sep*pixscale, ang))\n"
     ]
    },
    {
     "name": "stdout",
     "output_type": "stream",
     "text": [
      "....."
     ]
    },
    {
     "name": "stderr",
     "output_type": "stream",
     "text": [
      "/home/unasemaje/anaconda3/envs/py27/lib/python2.7/site-packages/PynPoint/ProcessingModules/DetectionLimits.py:327: UserWarning: Magnitude decreases but false positive fraction increases. Adjusting magnitude to 1.98675471234599 and step size to 0.05\n",
      "  \"to %s\" % (list_mag[-3], mag_step/2.))\n"
     ]
    },
    {
     "name": "stdout",
     "output_type": "stream",
     "text": [
      "....."
     ]
    },
    {
     "name": "stderr",
     "output_type": "stream",
     "text": [
      "/home/unasemaje/anaconda3/envs/py27/lib/python2.7/site-packages/PynPoint/ProcessingModules/DetectionLimits.py:327: UserWarning: Magnitude decreases but false positive fraction increases. Adjusting magnitude to 1.88675471234599 and step size to 0.025\n",
      "  \"to %s\" % (list_mag[-3], mag_step/2.))\n"
     ]
    },
    {
     "name": "stdout",
     "output_type": "stream",
     "text": [
      "..."
     ]
    },
    {
     "name": "stderr",
     "output_type": "stream",
     "text": [
      "/home/unasemaje/anaconda3/envs/py27/lib/python2.7/site-packages/PynPoint/ProcessingModules/DetectionLimits.py:327: UserWarning: Magnitude decreases but false positive fraction increases. Adjusting magnitude to 1.88675471234599 and step size to 0.0125\n",
      "  \"to %s\" % (list_mag[-3], mag_step/2.))\n"
     ]
    },
    {
     "name": "stdout",
     "output_type": "stream",
     "text": [
      "...."
     ]
    },
    {
     "name": "stderr",
     "output_type": "stream",
     "text": [
      "/home/unasemaje/anaconda3/envs/py27/lib/python2.7/site-packages/PynPoint/ProcessingModules/DetectionLimits.py:327: UserWarning: Magnitude decreases but false positive fraction increases. Adjusting magnitude to 1.87425471234599 and step size to 0.00625\n",
      "  \"to %s\" % (list_mag[-3], mag_step/2.))\n"
     ]
    },
    {
     "name": "stdout",
     "output_type": "stream",
     "text": [
      "...."
     ]
    },
    {
     "name": "stderr",
     "output_type": "stream",
     "text": [
      "/home/unasemaje/anaconda3/envs/py27/lib/python2.7/site-packages/PynPoint/ProcessingModules/DetectionLimits.py:327: UserWarning: Magnitude decreases but false positive fraction increases. Adjusting magnitude to 1.86800471234599 and step size to 0.003125\n",
      "  \"to %s\" % (list_mag[-3], mag_step/2.))\n"
     ]
    },
    {
     "name": "stdout",
     "output_type": "stream",
     "text": [
      "....."
     ]
    },
    {
     "name": "stderr",
     "output_type": "stream",
     "text": [
      "/home/unasemaje/anaconda3/envs/py27/lib/python2.7/site-packages/PynPoint/ProcessingModules/DetectionLimits.py:327: UserWarning: Magnitude decreases but false positive fraction increases. Adjusting magnitude to 1.8617547123459899 and step size to 0.0015625\n",
      "  \"to %s\" % (list_mag[-3], mag_step/2.))\n"
     ]
    },
    {
     "name": "stdout",
     "output_type": "stream",
     "text": [
      "...."
     ]
    },
    {
     "name": "stderr",
     "output_type": "stream",
     "text": [
      "/home/unasemaje/anaconda3/envs/py27/lib/python2.7/site-packages/PynPoint/ProcessingModules/DetectionLimits.py:327: UserWarning: Magnitude decreases but false positive fraction increases. Adjusting magnitude to 1.86019221234599 and step size to 0.00078125\n",
      "  \"to %s\" % (list_mag[-3], mag_step/2.))\n"
     ]
    },
    {
     "name": "stdout",
     "output_type": "stream",
     "text": [
      "..."
     ]
    },
    {
     "name": "stderr",
     "output_type": "stream",
     "text": [
      "/home/unasemaje/anaconda3/envs/py27/lib/python2.7/site-packages/PynPoint/ProcessingModules/DetectionLimits.py:327: UserWarning: Magnitude decreases but false positive fraction increases. Adjusting magnitude to 1.86019221234599 and step size to 0.000390625\n",
      "  \"to %s\" % (list_mag[-3], mag_step/2.))\n"
     ]
    },
    {
     "name": "stdout",
     "output_type": "stream",
     "text": [
      "....."
     ]
    },
    {
     "name": "stderr",
     "output_type": "stream",
     "text": [
      "/home/unasemaje/anaconda3/envs/py27/lib/python2.7/site-packages/PynPoint/ProcessingModules/DetectionLimits.py:327: UserWarning: Magnitude decreases but false positive fraction increases. Adjusting magnitude to 1.8594109623459898 and step size to 0.0001953125\n",
      "  \"to %s\" % (list_mag[-3], mag_step/2.))\n"
     ]
    },
    {
     "name": "stdout",
     "output_type": "stream",
     "text": [
      "...."
     ]
    },
    {
     "name": "stderr",
     "output_type": "stream",
     "text": [
      "/home/unasemaje/anaconda3/envs/py27/lib/python2.7/site-packages/PynPoint/ProcessingModules/DetectionLimits.py:327: UserWarning: Magnitude decreases but false positive fraction increases. Adjusting magnitude to 1.8592156498459897 and step size to 9.765625e-05\n",
      "  \"to %s\" % (list_mag[-3], mag_step/2.))\n"
     ]
    },
    {
     "name": "stdout",
     "output_type": "stream",
     "text": [
      "...."
     ]
    },
    {
     "name": "stderr",
     "output_type": "stream",
     "text": [
      "/home/unasemaje/anaconda3/envs/py27/lib/python2.7/site-packages/PynPoint/ProcessingModules/DetectionLimits.py:327: UserWarning: Magnitude decreases but false positive fraction increases. Adjusting magnitude to 1.8591179935959898 and step size to 4.8828125e-05\n",
      "  \"to %s\" % (list_mag[-3], mag_step/2.))\n"
     ]
    },
    {
     "name": "stdout",
     "output_type": "stream",
     "text": [
      "..\n",
      "Processing position 11 out of 48."
     ]
    },
    {
     "name": "stderr",
     "output_type": "stream",
     "text": [
      "/home/unasemaje/anaconda3/envs/py27/lib/python2.7/site-packages/PynPoint/ProcessingModules/DetectionLimits.py:327: UserWarning: Magnitude decreases but false positive fraction increases. Adjusting magnitude to 1.8591179935959898 and step size to 2.44140625e-05\n",
      "  \"to %s\" % (list_mag[-3], mag_step/2.))\n",
      "/home/unasemaje/anaconda3/envs/py27/lib/python2.7/site-packages/PynPoint/ProcessingModules/DetectionLimits.py:350: UserWarning: ContrastModule could not converge at the position of 0.15 arcsec and 180.0 deg.\n",
      "  \"%s arcsec and %s deg.\" % (sep*pixscale, ang))\n"
     ]
    },
    {
     "name": "stdout",
     "output_type": "stream",
     "text": [
      "..............."
     ]
    },
    {
     "name": "stderr",
     "output_type": "stream",
     "text": [
      "/home/unasemaje/anaconda3/envs/py27/lib/python2.7/site-packages/PynPoint/ProcessingModules/DetectionLimits.py:327: UserWarning: Magnitude decreases but false positive fraction increases. Adjusting magnitude to 0.9867547123459893 and step size to 0.05\n",
      "  \"to %s\" % (list_mag[-3], mag_step/2.))\n"
     ]
    },
    {
     "name": "stdout",
     "output_type": "stream",
     "text": [
      "...."
     ]
    },
    {
     "name": "stderr",
     "output_type": "stream",
     "text": [
      "/home/unasemaje/anaconda3/envs/py27/lib/python2.7/site-packages/PynPoint/ProcessingModules/DetectionLimits.py:327: UserWarning: Magnitude decreases but false positive fraction increases. Adjusting magnitude to 0.9367547123459893 and step size to 0.025\n",
      "  \"to %s\" % (list_mag[-3], mag_step/2.))\n"
     ]
    },
    {
     "name": "stdout",
     "output_type": "stream",
     "text": [
      "...."
     ]
    },
    {
     "name": "stderr",
     "output_type": "stream",
     "text": [
      "/home/unasemaje/anaconda3/envs/py27/lib/python2.7/site-packages/PynPoint/ProcessingModules/DetectionLimits.py:327: UserWarning: Magnitude decreases but false positive fraction increases. Adjusting magnitude to 0.9117547123459893 and step size to 0.0125\n",
      "  \"to %s\" % (list_mag[-3], mag_step/2.))\n"
     ]
    },
    {
     "name": "stdout",
     "output_type": "stream",
     "text": [
      "..."
     ]
    },
    {
     "name": "stderr",
     "output_type": "stream",
     "text": [
      "/home/unasemaje/anaconda3/envs/py27/lib/python2.7/site-packages/PynPoint/ProcessingModules/DetectionLimits.py:327: UserWarning: Magnitude decreases but false positive fraction increases. Adjusting magnitude to 0.9117547123459893 and step size to 0.00625\n",
      "  \"to %s\" % (list_mag[-3], mag_step/2.))\n"
     ]
    },
    {
     "name": "stdout",
     "output_type": "stream",
     "text": [
      "....."
     ]
    },
    {
     "name": "stderr",
     "output_type": "stream",
     "text": [
      "/home/unasemaje/anaconda3/envs/py27/lib/python2.7/site-packages/PynPoint/ProcessingModules/DetectionLimits.py:327: UserWarning: Magnitude decreases but false positive fraction increases. Adjusting magnitude to 0.8992547123459893 and step size to 0.003125\n",
      "  \"to %s\" % (list_mag[-3], mag_step/2.))\n"
     ]
    },
    {
     "name": "stdout",
     "output_type": "stream",
     "text": [
      "...."
     ]
    },
    {
     "name": "stderr",
     "output_type": "stream",
     "text": [
      "/home/unasemaje/anaconda3/envs/py27/lib/python2.7/site-packages/PynPoint/ProcessingModules/DetectionLimits.py:327: UserWarning: Magnitude decreases but false positive fraction increases. Adjusting magnitude to 0.8961297123459893 and step size to 0.0015625\n",
      "  \"to %s\" % (list_mag[-3], mag_step/2.))\n"
     ]
    },
    {
     "name": "stdout",
     "output_type": "stream",
     "text": [
      "..."
     ]
    },
    {
     "name": "stderr",
     "output_type": "stream",
     "text": [
      "/home/unasemaje/anaconda3/envs/py27/lib/python2.7/site-packages/PynPoint/ProcessingModules/DetectionLimits.py:327: UserWarning: Magnitude decreases but false positive fraction increases. Adjusting magnitude to 0.8961297123459893 and step size to 0.00078125\n",
      "  \"to %s\" % (list_mag[-3], mag_step/2.))\n"
     ]
    },
    {
     "name": "stdout",
     "output_type": "stream",
     "text": [
      "...."
     ]
    },
    {
     "name": "stderr",
     "output_type": "stream",
     "text": [
      "/home/unasemaje/anaconda3/envs/py27/lib/python2.7/site-packages/PynPoint/ProcessingModules/DetectionLimits.py:327: UserWarning: Magnitude decreases but false positive fraction increases. Adjusting magnitude to 0.8953484623459893 and step size to 0.000390625\n",
      "  \"to %s\" % (list_mag[-3], mag_step/2.))\n"
     ]
    },
    {
     "name": "stdout",
     "output_type": "stream",
     "text": [
      "....."
     ]
    },
    {
     "name": "stderr",
     "output_type": "stream",
     "text": [
      "/home/unasemaje/anaconda3/envs/py27/lib/python2.7/site-packages/PynPoint/ProcessingModules/DetectionLimits.py:327: UserWarning: Magnitude decreases but false positive fraction increases. Adjusting magnitude to 0.8945672123459893 and step size to 0.0001953125\n",
      "  \"to %s\" % (list_mag[-3], mag_step/2.))\n"
     ]
    },
    {
     "name": "stdout",
     "output_type": "stream",
     "text": [
      ".\n",
      "Processing position 12 out of 48."
     ]
    },
    {
     "name": "stderr",
     "output_type": "stream",
     "text": [
      "/home/unasemaje/anaconda3/envs/py27/lib/python2.7/site-packages/PynPoint/ProcessingModules/DetectionLimits.py:350: UserWarning: ContrastModule could not converge at the position of 0.15 arcsec and 240.0 deg.\n",
      "  \"%s arcsec and %s deg.\" % (sep*pixscale, ang))\n"
     ]
    },
    {
     "name": "stdout",
     "output_type": "stream",
     "text": [
      "..\n",
      "Processing position 13 out of 48.......\n",
      "Processing position 14 out of 48..............."
     ]
    },
    {
     "name": "stderr",
     "output_type": "stream",
     "text": [
      "/home/unasemaje/anaconda3/envs/py27/lib/python2.7/site-packages/PynPoint/ProcessingModules/DetectionLimits.py:327: UserWarning: Magnitude decreases but false positive fraction increases. Adjusting magnitude to 1.8578568716969404 and step size to 0.05\n",
      "  \"to %s\" % (list_mag[-3], mag_step/2.))\n"
     ]
    },
    {
     "name": "stdout",
     "output_type": "stream",
     "text": [
      "....."
     ]
    },
    {
     "name": "stderr",
     "output_type": "stream",
     "text": [
      "/home/unasemaje/anaconda3/envs/py27/lib/python2.7/site-packages/PynPoint/ProcessingModules/DetectionLimits.py:327: UserWarning: Magnitude decreases but false positive fraction increases. Adjusting magnitude to 1.7578568716969403 and step size to 0.025\n",
      "  \"to %s\" % (list_mag[-3], mag_step/2.))\n"
     ]
    },
    {
     "name": "stdout",
     "output_type": "stream",
     "text": [
      "...."
     ]
    },
    {
     "name": "stderr",
     "output_type": "stream",
     "text": [
      "/home/unasemaje/anaconda3/envs/py27/lib/python2.7/site-packages/PynPoint/ProcessingModules/DetectionLimits.py:327: UserWarning: Magnitude decreases but false positive fraction increases. Adjusting magnitude to 1.7328568716969404 and step size to 0.0125\n",
      "  \"to %s\" % (list_mag[-3], mag_step/2.))\n"
     ]
    },
    {
     "name": "stdout",
     "output_type": "stream",
     "text": [
      "..."
     ]
    },
    {
     "name": "stderr",
     "output_type": "stream",
     "text": [
      "/home/unasemaje/anaconda3/envs/py27/lib/python2.7/site-packages/PynPoint/ProcessingModules/DetectionLimits.py:327: UserWarning: Magnitude decreases but false positive fraction increases. Adjusting magnitude to 1.7328568716969404 and step size to 0.00625\n",
      "  \"to %s\" % (list_mag[-3], mag_step/2.))\n"
     ]
    },
    {
     "name": "stdout",
     "output_type": "stream",
     "text": [
      "...."
     ]
    },
    {
     "name": "stderr",
     "output_type": "stream",
     "text": [
      "/home/unasemaje/anaconda3/envs/py27/lib/python2.7/site-packages/PynPoint/ProcessingModules/DetectionLimits.py:327: UserWarning: Magnitude decreases but false positive fraction increases. Adjusting magnitude to 1.7266068716969403 and step size to 0.003125\n",
      "  \"to %s\" % (list_mag[-3], mag_step/2.))\n"
     ]
    },
    {
     "name": "stdout",
     "output_type": "stream",
     "text": [
      "....."
     ]
    },
    {
     "name": "stderr",
     "output_type": "stream",
     "text": [
      "/home/unasemaje/anaconda3/envs/py27/lib/python2.7/site-packages/PynPoint/ProcessingModules/DetectionLimits.py:327: UserWarning: Magnitude decreases but false positive fraction increases. Adjusting magnitude to 1.7203568716969402 and step size to 0.0015625\n",
      "  \"to %s\" % (list_mag[-3], mag_step/2.))\n"
     ]
    },
    {
     "name": "stdout",
     "output_type": "stream",
     "text": [
      "..."
     ]
    },
    {
     "name": "stderr",
     "output_type": "stream",
     "text": [
      "/home/unasemaje/anaconda3/envs/py27/lib/python2.7/site-packages/PynPoint/ProcessingModules/DetectionLimits.py:327: UserWarning: Magnitude decreases but false positive fraction increases. Adjusting magnitude to 1.7203568716969402 and step size to 0.00078125\n",
      "  \"to %s\" % (list_mag[-3], mag_step/2.))\n"
     ]
    },
    {
     "name": "stdout",
     "output_type": "stream",
     "text": [
      "....."
     ]
    },
    {
     "name": "stderr",
     "output_type": "stream",
     "text": [
      "/home/unasemaje/anaconda3/envs/py27/lib/python2.7/site-packages/PynPoint/ProcessingModules/DetectionLimits.py:327: UserWarning: Magnitude decreases but false positive fraction increases. Adjusting magnitude to 1.7187943716969403 and step size to 0.000390625\n",
      "  \"to %s\" % (list_mag[-3], mag_step/2.))\n"
     ]
    },
    {
     "name": "stdout",
     "output_type": "stream",
     "text": [
      "..."
     ]
    },
    {
     "name": "stderr",
     "output_type": "stream",
     "text": [
      "/home/unasemaje/anaconda3/envs/py27/lib/python2.7/site-packages/PynPoint/ProcessingModules/DetectionLimits.py:327: UserWarning: Magnitude decreases but false positive fraction increases. Adjusting magnitude to 1.7187943716969403 and step size to 0.0001953125\n",
      "  \"to %s\" % (list_mag[-3], mag_step/2.))\n"
     ]
    },
    {
     "name": "stdout",
     "output_type": "stream",
     "text": [
      "..\n",
      "Processing position 15 out of 48."
     ]
    },
    {
     "name": "stderr",
     "output_type": "stream",
     "text": [
      "/home/unasemaje/anaconda3/envs/py27/lib/python2.7/site-packages/PynPoint/ProcessingModules/DetectionLimits.py:350: UserWarning: ContrastModule could not converge at the position of 0.19999999999999998 arcsec and 60.0 deg.\n",
      "  \"%s arcsec and %s deg.\" % (sep*pixscale, ang))\n"
     ]
    },
    {
     "name": "stdout",
     "output_type": "stream",
     "text": [
      "..............................\n",
      "Processing position 16 out of 48..........................."
     ]
    },
    {
     "name": "stderr",
     "output_type": "stream",
     "text": [
      "/home/unasemaje/anaconda3/envs/py27/lib/python2.7/site-packages/PynPoint/ProcessingModules/DetectionLimits.py:327: UserWarning: Magnitude decreases but false positive fraction increases. Adjusting magnitude to 2.123448621861486 and step size to 0.05\n",
      "  \"to %s\" % (list_mag[-3], mag_step/2.))\n"
     ]
    },
    {
     "name": "stdout",
     "output_type": "stream",
     "text": [
      "\n",
      "Processing position 17 out of 48...........\n",
      "Processing position 18 out of 48.........\n",
      "Processing position 19 out of 48...........\n",
      "Processing position 20 out of 48..............\n",
      "Processing position 21 out of 48.....................\n",
      "Processing position 22 out of 48......\n",
      "Processing position 23 out of 48.....\n",
      "Processing position 24 out of 48....\n",
      "Processing position 25 out of 48........\n",
      "Processing position 26 out of 48....................\n",
      "Processing position 27 out of 48.....\n",
      "Processing position 28 out of 48.......\n",
      "Processing position 29 out of 48.........\n",
      "Processing position 30 out of 48..\n",
      "Processing position 31 out of 48.......\n",
      "Processing position 32 out of 48....................\n",
      "Processing position 33 out of 48...\n",
      "Processing position 34 out of 48.........\n",
      "Processing position 35 out of 48........\n",
      "Processing position 36 out of 48.........\n",
      "Processing position 37 out of 48........\n",
      "Processing position 38 out of 48..........\n",
      "Processing position 39 out of 48.......\n",
      "Processing position 40 out of 48......\n",
      "Processing position 41 out of 48......\n",
      "Processing position 42 out of 48.........\n",
      "Processing position 43 out of 48......\n",
      "Processing position 44 out of 48....\n",
      "Processing position 45 out of 48.....\n",
      "Processing position 46 out of 48.......\n",
      "Processing position 47 out of 48..........\n",
      "Processing position 48 out of 48..\n",
      "Running ContrastCurveModule... [DONE]\n",
      "Running FitsWritingModule... [DONE]\n"
     ]
    }
   ],
   "source": [
    "pipeline.run()"
   ]
  },
  {
   "cell_type": "code",
   "execution_count": null,
   "metadata": {
    "collapsed": true
   },
   "outputs": [],
   "source": [
    "#####################################################################################################################"
   ]
  },
  {
   "cell_type": "code",
   "execution_count": null,
   "metadata": {
    "collapsed": true
   },
   "outputs": [],
   "source": [
    "# extract contrast curve data"
   ]
  },
  {
   "cell_type": "code",
   "execution_count": 10,
   "metadata": {
    "collapsed": false
   },
   "outputs": [
    {
     "name": "stdout",
     "output_type": "stream",
     "text": [
      "[[1.00000000e-01 1.09212109e+00 1.02641282e-01 3.74521694e-03]\n",
      " [1.50000000e-01 2.27194406e+00 7.25722515e-03 7.82638977e-04]\n",
      " [2.00000000e-01 3.36152977e+00 1.72031808e+00 2.68666801e-04]\n",
      " [2.50000000e-01 4.18260090e+00 2.93652847e-01 1.21477003e-04]\n",
      " [3.00000000e-01 5.45496897e+00 1.92776441e-01 6.54338490e-05]\n",
      " [3.50000000e-01 5.95574646e+00 1.45560487e-01 3.97498750e-05]\n",
      " [4.00000000e-01 6.09150519e+00 3.10658553e-02 2.33216658e-05]\n",
      " [4.50000000e-01 6.38083668e+00 3.10725530e-02 1.68024150e-05]]\n"
     ]
    }
   ],
   "source": [
    "contrast_curve_results = pipeline.get_data(\"contrast_landscape\")\n",
    "print(contrast_curve_results)"
   ]
  },
  {
   "cell_type": "code",
   "execution_count": 15,
   "metadata": {
    "collapsed": false
   },
   "outputs": [],
   "source": [
    "# make plots\n",
    "\n",
    "f, (ax1, ax2) = plt.subplots(1, 2)\n",
    "ax1.plot(contrast_curve_results[:,0],contrast_curve_results[:,1])\n",
    "ax1.set_title('Azim. averaged contrast limit')\n",
    "ax1.set_xlabel('Radius (asec)')\n",
    "ax1.set_ylabel('Radius (asec)')\n",
    "ax1.invert_yaxis()\n",
    "ax2.set_ylabel('del_mag')\n",
    "ax2.plot(contrast_curve_results[:,0],contrast_curve_results[:,3])\n",
    "ax2.set_title('Threshold of FPF')\n",
    "ax2.set_xlabel('Radius (asec)')\n",
    "plt.tight_layout()\n",
    "f.savefig('test.png')"
   ]
  },
  {
   "cell_type": "code",
   "execution_count": null,
   "metadata": {
    "collapsed": true
   },
   "outputs": [],
   "source": []
  }
 ],
 "metadata": {
  "kernelspec": {
   "display_name": "Python 2",
   "language": "python",
   "name": "python2"
  },
  "language_info": {
   "codemirror_mode": {
    "name": "ipython",
    "version": 2
   },
   "file_extension": ".py",
   "mimetype": "text/x-python",
   "name": "python",
   "nbconvert_exporter": "python",
   "pygments_lexer": "ipython2",
   "version": "2.7.11"
  }
 },
 "nbformat": 4,
 "nbformat_minor": 2
}
