{
 "cells": [
  {
   "cell_type": "code",
   "execution_count": 1,
   "metadata": {
    "collapsed": true
   },
   "outputs": [],
   "source": [
    "# This tests PynPoint\n",
    "\n",
    "# created 2018 Sept. 20 by E.S."
   ]
  },
  {
   "cell_type": "code",
   "execution_count": 1,
   "metadata": {
    "collapsed": true
   },
   "outputs": [],
   "source": [
    "import urllib\n",
    "import numpy as np\n",
    "import matplotlib.pyplot as plt\n",
    "\n",
    "import PynPoint\n",
    "\n",
    "from PynPoint import Pypeline\n",
    "from PynPoint.IOmodules.Hdf5Reading import Hdf5ReadingModule\n",
    "from PynPoint.IOmodules.FitsWriting import FitsWritingModule\n",
    "from PynPoint.IOmodules.FitsReading import FitsReadingModule\n",
    "from PynPoint.ProcessingModules import PSFpreparationModule, \\\n",
    "                                       PcaPsfSubtractionModule, \\\n",
    "                                       ContrastCurveModule, \\\n",
    "                                       FluxAndPosition"
   ]
  },
  {
   "cell_type": "code",
   "execution_count": 17,
   "metadata": {
    "collapsed": false
   },
   "outputs": [
    {
     "name": "stdout",
     "output_type": "stream",
     "text": [
      "Initiating PynPoint... [DONE]\n"
     ]
    }
   ],
   "source": [
    "working_place = \"./pynpoint_experimentation/working_place/\"\n",
    "input_place = \"./pynpoint_experimentation/input_place/\"\n",
    "output_place = \"./pynpoint_experimentation/output_place/\"\n",
    "\n",
    "#url = urllib.URLopener()\n",
    "#url.retrieve(\"https://people.phys.ethz.ch/~stolkert/BetaPic_NACO_Mp.hdf5\",\n",
    "#             working_place+\"BetaPic_NACO_Mp.hdf5\")\n",
    "\n",
    "pipeline = Pypeline(working_place_in=working_place,\n",
    "                    input_place_in=input_place,\n",
    "                    output_place_in=output_place)\n",
    "\n",
    "# PynPoint_config.ini should be initiated now"
   ]
  },
  {
   "cell_type": "code",
   "execution_count": 18,
   "metadata": {
    "collapsed": false
   },
   "outputs": [],
   "source": [
    "# read HDF5 file of science frames\n",
    "\n",
    "read_science = Hdf5ReadingModule(name_in=\"read_science\",\n",
    "                         input_filename=\"BetaPic_NACO_Mp.hdf5\",\n",
    "                         input_dir=None,\n",
    "                         tag_dictionary={\"stack\":\"stack\"})\n",
    "\n",
    "pipeline.add_module(read_science)"
   ]
  },
  {
   "cell_type": "code",
   "execution_count": 19,
   "metadata": {
    "collapsed": false
   },
   "outputs": [],
   "source": [
    "# read FITS file of unsaturated PSF for fake planet injection\n",
    "\n",
    "read_model_psf = FitsReadingModule(name_in=\"read_model_psf\",\n",
    "                                 input_dir=input_place+\"/fake_unsat\",\n",
    "                                 image_tag=\"model_psf\",\n",
    "                                 check=True)\n",
    "\n",
    "pipeline.add_module(read_model_psf)"
   ]
  },
  {
   "cell_type": "code",
   "execution_count": 5,
   "metadata": {
    "collapsed": false
   },
   "outputs": [
    {
     "data": {
      "text/plain": [
       "'\\ninject = FluxAndPosition.FakePlanetModule(position=(0.46,0),\\n                          magnitude=0,\\n                          psf_scaling=1,\\n                          name_in=\"inject\",\\n                          image_in_tag=\"stack\",\\n                          psf_in_tag=\"model_psf\",\\n                          image_out_tag=\"fake_planet_output\")\\n\\npipeline.add_module(inject)\\n'"
      ]
     },
     "execution_count": 5,
     "metadata": {},
     "output_type": "execute_result"
    }
   ],
   "source": [
    "# inject fake planets\n",
    "\n",
    "'''\n",
    "inject = FluxAndPosition.FakePlanetModule(position=(0.46,0),\n",
    "                          magnitude=0,\n",
    "                          psf_scaling=1,\n",
    "                          name_in=\"inject\",\n",
    "                          image_in_tag=\"stack\",\n",
    "                          psf_in_tag=\"model_psf\",\n",
    "                          image_out_tag=\"fake_planet_output\")\n",
    "\n",
    "pipeline.add_module(inject)\n",
    "'''"
   ]
  },
  {
   "cell_type": "code",
   "execution_count": 6,
   "metadata": {
    "collapsed": false
   },
   "outputs": [
    {
     "data": {
      "text/plain": [
       "'\\nwrite_inject = FitsWritingModule(file_name=\"junk_stack_fake_planet.fits\",\\n                              name_in=\"write_inject\",\\n                              output_dir=output_place,\\n                              data_tag=\"fake_planet_output\")\\n\\npipeline.add_module(write_inject)\\n'"
      ]
     },
     "execution_count": 6,
     "metadata": {},
     "output_type": "execute_result"
    }
   ],
   "source": [
    "# write out science frames with fake planet\n",
    "\n",
    "'''\n",
    "write_inject = FitsWritingModule(file_name=\"junk_stack_fake_planet.fits\",\n",
    "                              name_in=\"write_inject\",\n",
    "                              output_dir=output_place,\n",
    "                              data_tag=\"fake_planet_output\")\n",
    "\n",
    "pipeline.add_module(write_inject)\n",
    "'''"
   ]
  },
  {
   "cell_type": "code",
   "execution_count": 20,
   "metadata": {
    "collapsed": false
   },
   "outputs": [],
   "source": [
    "# prepare psf\n",
    "\n",
    "\n",
    "prep_fake_planet = PSFpreparationModule(name_in=\"prep_fake_planet\",\n",
    "                            image_in_tag=\"stack\",\n",
    "                            image_out_tag=\"prep\",\n",
    "                            image_mask_out_tag=None,\n",
    "                            mask_out_tag=None,\n",
    "                            norm=False,\n",
    "                            resize=None,\n",
    "                            cent_size=0.15,\n",
    "                            edge_size=1.1)\n",
    "\n",
    "pipeline.add_module(prep_fake_planet)"
   ]
  },
  {
   "cell_type": "code",
   "execution_count": 21,
   "metadata": {
    "collapsed": false
   },
   "outputs": [
    {
     "name": "stdout",
     "output_type": "stream",
     "text": [
      "Validating Pypeline... [DONE]\n",
      "Running Hdf5ReadingModule... [DONE]\n",
      "Running FitsReadingModule... [DONE]\n",
      "Running PSFpreparationModule... [DONE]\n"
     ]
    }
   ],
   "source": [
    "pipeline.run()\n",
    "\n",
    "# after running the pipeline, hdf5 attributes like PIXSCALE for groups\n",
    "# other than /config/ should be available"
   ]
  },
  {
   "cell_type": "code",
   "execution_count": 22,
   "metadata": {
    "collapsed": false
   },
   "outputs": [
    {
     "name": "stdout",
     "output_type": "stream",
     "text": [
      "0.0107\n",
      "0.027\n"
     ]
    }
   ],
   "source": [
    "pixscale_config = pipeline.get_attribute(\"config\", \"PIXSCALE\")\n",
    "print(pixscale_config)\n",
    "pixscale_prep = pipeline.get_attribute(\"prep\", \"PIXSCALE\")\n",
    "print(pixscale_prep)"
   ]
  },
  {
   "cell_type": "code",
   "execution_count": 7,
   "metadata": {
    "collapsed": false
   },
   "outputs": [
    {
     "name": "stdout",
     "output_type": "stream",
     "text": [
      "0.027\n"
     ]
    }
   ],
   "source": [
    "print(pixscale_config)"
   ]
  },
  {
   "cell_type": "code",
   "execution_count": 8,
   "metadata": {
    "collapsed": false
   },
   "outputs": [
    {
     "data": {
      "text/plain": [
       "'\\n# checks HDF5 file\\nwrite_prep = FitsWritingModule(file_name=\"junk_prep.fits\",\\n                              name_in=\"write_prep\",\\n                              output_dir=output_place,\\n                              data_tag=\"prep\")\\n\\n#pipeline.add_module(write_prep)\\n'"
      ]
     },
     "execution_count": 8,
     "metadata": {},
     "output_type": "execute_result"
    }
   ],
   "source": [
    "# write out prepped psf\n",
    "\n",
    "'''\n",
    "# checks HDF5 file\n",
    "write_prep = FitsWritingModule(file_name=\"junk_prep.fits\",\n",
    "                              name_in=\"write_prep\",\n",
    "                              output_dir=output_place,\n",
    "                              data_tag=\"prep\")\n",
    "\n",
    "#pipeline.add_module(write_prep)\n",
    "'''"
   ]
  },
  {
   "cell_type": "code",
   "execution_count": 7,
   "metadata": {
    "collapsed": false
   },
   "outputs": [],
   "source": [
    "# do PCA PSF subtraction\n",
    "\n",
    "'''\n",
    "pca = PcaPsfSubtractionModule(pca_numbers=(5, ),\n",
    "                              name_in=\"pca\",\n",
    "                              images_in_tag=\"fake_planet_output\",\n",
    "                              reference_in_tag=\"fake_planet_output\",\n",
    "                              res_mean_tag=\"mean_residuals\",\n",
    "                              res_median_tag=\"median_residuals\",\n",
    "                              res_arr_out_tag=\"all_resids\",\n",
    "                              res_rot_mean_clip_tag=\"resid_rot\",\n",
    "                              verbose=True)\n",
    "\n",
    "pipeline.add_module(pca)\n",
    "\n",
    "# note:\n",
    "# images_in_tag: science images\n",
    "# reference_in_tag: reference images, which COULD be the science images\n",
    "'''"
   ]
  },
  {
   "cell_type": "code",
   "execution_count": 7,
   "metadata": {
    "collapsed": false
   },
   "outputs": [],
   "source": [
    "## THIS IS TEST ONLY ## do PCA PSF subtraction\n",
    "\n",
    "'''\n",
    "pca = PcaPsfSubtractionModule(pca_numbers=(5, ),\n",
    "                              name_in=\"pca\",\n",
    "                              images_in_tag=\"read_science\",\n",
    "                              reference_in_tag=\"read_science\",\n",
    "                              res_mean_tag=\"mean_residuals\",\n",
    "                              res_median_tag=\"median_residuals\",\n",
    "                              res_arr_out_tag=\"all_resids\",\n",
    "                              res_rot_mean_clip_tag=\"resid_rot\",\n",
    "                              verbose=True)\n",
    "\n",
    "pipeline.add_module(pca)\n",
    "'''\n",
    "# note:\n",
    "# images_in_tag: science images\n",
    "# reference_in_tag: reference images, which COULD be the science images"
   ]
  },
  {
   "cell_type": "code",
   "execution_count": 8,
   "metadata": {
    "collapsed": false
   },
   "outputs": [],
   "source": [
    "# write out outputs from PCA PSF subtraction\n",
    "\n",
    "'''\n",
    "# checks HDF5 file\n",
    "read_test1 = FitsWritingModule(file_name=\"junk_mean_residuals.fits\",\n",
    "                              name_in=\"read_test1\",\n",
    "                              output_dir=output_place,\n",
    "                              data_tag=\"mean_residuals\")\n",
    "\n",
    "pipeline.add_module(read_test1)\n",
    "'''"
   ]
  },
  {
   "cell_type": "code",
   "execution_count": 9,
   "metadata": {
    "collapsed": false
   },
   "outputs": [],
   "source": [
    "# write out outputs from PCA PSF subtraction\n",
    "\n",
    "'''\n",
    "# checks HDF5 file\n",
    "read_test2 = FitsWritingModule(file_name=\"junk_median_residuals.fits\",\n",
    "                              name_in=\"read_test2\",\n",
    "                              output_dir=output_place,\n",
    "                              data_tag=\"median_residuals\")\n",
    "\n",
    "pipeline.add_module(read_test2)\n",
    "'''"
   ]
  },
  {
   "cell_type": "code",
   "execution_count": 10,
   "metadata": {
    "collapsed": false
   },
   "outputs": [],
   "source": [
    "# write out outputs from PCA PSF subtraction\n",
    "\n",
    "'''\n",
    "# checks HDF5 file\n",
    "read_test4 = FitsWritingModule(file_name=\"junk_resid_rot.fits\",\n",
    "                              name_in=\"read_test4\",\n",
    "                              output_dir=output_place,\n",
    "                              data_tag=\"resid_rot\")\n",
    "\n",
    "pipeline.add_module(read_test4)\n",
    "'''"
   ]
  },
  {
   "cell_type": "code",
   "execution_count": 6,
   "metadata": {
    "collapsed": false
   },
   "outputs": [],
   "source": [
    "# make a contrast curve\n",
    "\n",
    "'''\n",
    "cent_size: mask radius\n",
    "'''\n",
    "\n",
    "contrast_curve = ContrastCurveModule(name_in=\"contrast_curve\",\n",
    "                            image_in_tag=\"prep\",\n",
    "                            psf_in_tag=\"model_psf\",\n",
    "                            contrast_out_tag=\"contrast_landscape\",\n",
    "                            pca_out_tag=\"pca_resids\",\n",
    "                            pca_number=20,\n",
    "                            psf_scaling=1,\n",
    "                            separation=(0.1, 1.0, 0.1), \n",
    "                            angle=(0.0, 360.0, 60.0), \n",
    "                            magnitude=(7.5, 1.0),\n",
    "                            cent_size=None)\n",
    "\n",
    "pipeline.add_module(contrast_curve)"
   ]
  },
  {
   "cell_type": "code",
   "execution_count": 9,
   "metadata": {
    "collapsed": false
   },
   "outputs": [
    {
     "name": "stdout",
     "output_type": "stream",
     "text": [
      "Validating Pypeline... [DONE]\n"
     ]
    },
    {
     "ename": "AssertionError",
     "evalue": "Error: Input file does not exist. Input requested: BetaPic_NACO_Mp.hdf5",
     "output_type": "error",
     "traceback": [
      "\u001b[1;31m---------------------------------------------------------------------------\u001b[0m",
      "\u001b[1;31mAssertionError\u001b[0m                            Traceback (most recent call last)",
      "\u001b[1;32m<ipython-input-9-45328862925b>\u001b[0m in \u001b[0;36m<module>\u001b[1;34m()\u001b[0m\n\u001b[1;32m----> 1\u001b[1;33m \u001b[0mpipeline\u001b[0m\u001b[1;33m.\u001b[0m\u001b[0mrun\u001b[0m\u001b[1;33m(\u001b[0m\u001b[1;33m)\u001b[0m\u001b[1;33m\u001b[0m\u001b[0m\n\u001b[0m",
      "\u001b[1;32m/home/unasemaje/anaconda3/envs/py27/lib/python2.7/site-packages/PynPoint/Core/Pypeline.pyc\u001b[0m in \u001b[0;36mrun\u001b[1;34m(self)\u001b[0m\n\u001b[0;32m    358\u001b[0m \u001b[1;33m\u001b[0m\u001b[0m\n\u001b[0;32m    359\u001b[0m         \u001b[1;32mfor\u001b[0m \u001b[0mkey\u001b[0m \u001b[1;32min\u001b[0m \u001b[0mself\u001b[0m\u001b[1;33m.\u001b[0m\u001b[0m_m_modules\u001b[0m\u001b[1;33m:\u001b[0m\u001b[1;33m\u001b[0m\u001b[0m\n\u001b[1;32m--> 360\u001b[1;33m             \u001b[0mself\u001b[0m\u001b[1;33m.\u001b[0m\u001b[0m_m_modules\u001b[0m\u001b[1;33m[\u001b[0m\u001b[0mkey\u001b[0m\u001b[1;33m]\u001b[0m\u001b[1;33m.\u001b[0m\u001b[0mrun\u001b[0m\u001b[1;33m(\u001b[0m\u001b[1;33m)\u001b[0m\u001b[1;33m\u001b[0m\u001b[0m\n\u001b[0m\u001b[0;32m    361\u001b[0m \u001b[1;33m\u001b[0m\u001b[0m\n\u001b[0;32m    362\u001b[0m     \u001b[1;32mdef\u001b[0m \u001b[0mrun_module\u001b[0m\u001b[1;33m(\u001b[0m\u001b[0mself\u001b[0m\u001b[1;33m,\u001b[0m \u001b[0mname\u001b[0m\u001b[1;33m)\u001b[0m\u001b[1;33m:\u001b[0m\u001b[1;33m\u001b[0m\u001b[0m\n",
      "\u001b[1;32m/home/unasemaje/anaconda3/envs/py27/lib/python2.7/site-packages/PynPoint/IOmodules/Hdf5Reading.pyc\u001b[0m in \u001b[0;36mrun\u001b[1;34m(self)\u001b[0m\n\u001b[0;32m    125\u001b[0m             \u001b[1;32massert\u001b[0m\u001b[1;33m(\u001b[0m\u001b[0mos\u001b[0m\u001b[1;33m.\u001b[0m\u001b[0mpath\u001b[0m\u001b[1;33m.\u001b[0m\u001b[0misfile\u001b[0m\u001b[1;33m(\u001b[0m\u001b[1;33m(\u001b[0m\u001b[0mtmp_dir\u001b[0m \u001b[1;33m+\u001b[0m \u001b[0mstr\u001b[0m\u001b[1;33m(\u001b[0m\u001b[0mself\u001b[0m\u001b[1;33m.\u001b[0m\u001b[0mm_filename\u001b[0m\u001b[1;33m)\u001b[0m\u001b[1;33m)\u001b[0m\u001b[1;33m)\u001b[0m\u001b[1;33m)\u001b[0m\u001b[1;33m,\u001b[0m \u001b[1;34m\"Error: Input file does not \"\u001b[0m\u001b[0;31m\\\u001b[0m\u001b[1;33m\u001b[0m\u001b[0m\n\u001b[0;32m    126\u001b[0m                                                                       \u001b[1;34m\"exist. Input requested: %s\"\u001b[0m\u001b[0;31m\\\u001b[0m\u001b[1;33m\u001b[0m\u001b[0m\n\u001b[1;32m--> 127\u001b[1;33m                                                                       \u001b[1;33m%\u001b[0m \u001b[0mstr\u001b[0m\u001b[1;33m(\u001b[0m\u001b[0mself\u001b[0m\u001b[1;33m.\u001b[0m\u001b[0mm_filename\u001b[0m\u001b[1;33m)\u001b[0m\u001b[1;33m\u001b[0m\u001b[0m\n\u001b[0m\u001b[0;32m    128\u001b[0m \u001b[1;33m\u001b[0m\u001b[0m\n\u001b[0;32m    129\u001b[0m             \u001b[0mfiles\u001b[0m\u001b[1;33m.\u001b[0m\u001b[0mappend\u001b[0m\u001b[1;33m(\u001b[0m\u001b[1;33m(\u001b[0m\u001b[0mtmp_dir\u001b[0m \u001b[1;33m+\u001b[0m \u001b[0mstr\u001b[0m\u001b[1;33m(\u001b[0m\u001b[0mself\u001b[0m\u001b[1;33m.\u001b[0m\u001b[0mm_filename\u001b[0m\u001b[1;33m)\u001b[0m\u001b[1;33m)\u001b[0m\u001b[1;33m)\u001b[0m\u001b[1;33m\u001b[0m\u001b[0m\n",
      "\u001b[1;31mAssertionError\u001b[0m: Error: Input file does not exist. Input requested: BetaPic_NACO_Mp.hdf5"
     ]
    }
   ],
   "source": [
    "pipeline.run()"
   ]
  },
  {
   "cell_type": "code",
   "execution_count": 11,
   "metadata": {
    "collapsed": false
   },
   "outputs": [],
   "source": [
    "contrast_curve_results = pipeline.get_data(\"contrast_landscape\")\n",
    "#residuals = pipeline.get_data(\"residuals\")\n",
    "#pixscale = pipeline.get_attribute(\"stack\", \"PIXSCALE\")\n",
    "\n",
    "#size = pixscale*np.size(residuals, 1)/2."
   ]
  },
  {
   "cell_type": "code",
   "execution_count": 12,
   "metadata": {
    "collapsed": false
   },
   "outputs": [
    {
     "data": {
      "text/plain": [
       "array([[1.00000000e-01,            nan,            nan, 3.74521694e-03],\n",
       "       [2.00000000e-01,            nan,            nan, 2.68666801e-04],\n",
       "       [3.00000000e-01, 5.07657121e+00, 1.80844893e-01, 6.54338490e-05],\n",
       "       [4.00000000e-01, 4.73267286e+00, 8.75829719e-02, 2.33216658e-05],\n",
       "       [5.00000000e-01, 4.57947726e+00, 1.54244613e-02, 1.26831579e-05],\n",
       "       [6.00000000e-01, 6.79627759e+00, 7.58776386e-02, 8.02141316e-06],\n",
       "       [7.00000000e-01, 7.15955594e+00, 8.30756762e-02, 5.60807982e-06],\n",
       "       [8.00000000e-01, 7.48905131e+00, 4.07430502e-02, 4.03083259e-06],\n",
       "       [9.00000000e-01, 7.51861472e+00, 1.13346032e-02, 3.20495930e-06]])"
      ]
     },
     "execution_count": 12,
     "metadata": {},
     "output_type": "execute_result"
    }
   ],
   "source": [
    "# contrast curve\n",
    "\n",
    "# [0]: separation\n",
    "# [1]: azimuthally averaged contrast limits\n",
    "# [2]: the azimuthal variance of the contrast limits\n",
    "# [3]: threshold of the false positive fraction associated with sigma\n",
    "\n",
    "contrast_curve_results"
   ]
  },
  {
   "cell_type": "code",
   "execution_count": 20,
   "metadata": {
    "collapsed": false
   },
   "outputs": [],
   "source": [
    "\n",
    "\n",
    "f, (ax1, ax2) = plt.subplots(1, 2)\n",
    "ax1.plot(contrast_curve_results[:,0],contrast_curve_results[:,1])\n",
    "ax1.set_title('Azim. averaged contrast limit')\n",
    "ax1.set_xlabel('Radius (asec)')\n",
    "ax2.set_ylabel('del_mag')\n",
    "ax2.plot(contrast_curve_results[:,0],contrast_curve_results[:,3])\n",
    "ax2.set_title('Threshold of FPF')\n",
    "ax2.set_xlabel('Radius (asec)')\n",
    "f.savefig('test.png')"
   ]
  },
  {
   "cell_type": "code",
   "execution_count": 19,
   "metadata": {
    "collapsed": false
   },
   "outputs": [
    {
     "ename": "NameError",
     "evalue": "name 'residuals' is not defined",
     "output_type": "error",
     "traceback": [
      "\u001b[1;31m---------------------------------------------------------------------------\u001b[0m",
      "\u001b[1;31mNameError\u001b[0m                                 Traceback (most recent call last)",
      "\u001b[1;32m<ipython-input-19-db96eb85cc22>\u001b[0m in \u001b[0;36m<module>\u001b[1;34m()\u001b[0m\n\u001b[1;32m----> 1\u001b[1;33m \u001b[0mplt\u001b[0m\u001b[1;33m.\u001b[0m\u001b[0mimshow\u001b[0m\u001b[1;33m(\u001b[0m\u001b[0mresiduals\u001b[0m\u001b[1;33m[\u001b[0m\u001b[1;36m0\u001b[0m\u001b[1;33m,\u001b[0m \u001b[1;33m]\u001b[0m\u001b[1;33m,\u001b[0m \u001b[0morigin\u001b[0m\u001b[1;33m=\u001b[0m\u001b[1;34m'lower'\u001b[0m\u001b[1;33m,\u001b[0m \u001b[0mextent\u001b[0m\u001b[1;33m=\u001b[0m\u001b[1;33m[\u001b[0m\u001b[0msize\u001b[0m\u001b[1;33m,\u001b[0m \u001b[1;33m-\u001b[0m\u001b[0msize\u001b[0m\u001b[1;33m,\u001b[0m \u001b[1;33m-\u001b[0m\u001b[0msize\u001b[0m\u001b[1;33m,\u001b[0m \u001b[0msize\u001b[0m\u001b[1;33m]\u001b[0m\u001b[1;33m)\u001b[0m\u001b[1;33m\u001b[0m\u001b[0m\n\u001b[0m\u001b[0;32m      2\u001b[0m \u001b[0mplt\u001b[0m\u001b[1;33m.\u001b[0m\u001b[0mtitle\u001b[0m\u001b[1;33m(\u001b[0m\u001b[1;34m\"beta Pic b - NACO M' - mean residuals\"\u001b[0m\u001b[1;33m)\u001b[0m\u001b[1;33m\u001b[0m\u001b[0m\n\u001b[0;32m      3\u001b[0m \u001b[0mplt\u001b[0m\u001b[1;33m.\u001b[0m\u001b[0mxlabel\u001b[0m\u001b[1;33m(\u001b[0m\u001b[1;34m'R.A. offset [arcsec]'\u001b[0m\u001b[1;33m,\u001b[0m \u001b[0mfontsize\u001b[0m\u001b[1;33m=\u001b[0m\u001b[1;36m12\u001b[0m\u001b[1;33m)\u001b[0m\u001b[1;33m\u001b[0m\u001b[0m\n\u001b[0;32m      4\u001b[0m \u001b[0mplt\u001b[0m\u001b[1;33m.\u001b[0m\u001b[0mylabel\u001b[0m\u001b[1;33m(\u001b[0m\u001b[1;34m'Dec. offset [arcsec]'\u001b[0m\u001b[1;33m,\u001b[0m \u001b[0mfontsize\u001b[0m\u001b[1;33m=\u001b[0m\u001b[1;36m12\u001b[0m\u001b[1;33m)\u001b[0m\u001b[1;33m\u001b[0m\u001b[0m\n\u001b[0;32m      5\u001b[0m \u001b[0mplt\u001b[0m\u001b[1;33m.\u001b[0m\u001b[0mcolorbar\u001b[0m\u001b[1;33m(\u001b[0m\u001b[1;33m)\u001b[0m\u001b[1;33m\u001b[0m\u001b[0m\n",
      "\u001b[1;31mNameError\u001b[0m: name 'residuals' is not defined"
     ]
    }
   ],
   "source": [
    "plt.imshow(residuals[0, ], origin='lower', extent=[size, -size, -size, size])\n",
    "plt.title(\"beta Pic b - NACO M' - mean residuals\")\n",
    "plt.xlabel('R.A. offset [arcsec]', fontsize=12)\n",
    "plt.ylabel('Dec. offset [arcsec]', fontsize=12)\n",
    "plt.colorbar()\n",
    "#plt.show()\n",
    "plt.savefig(output_place+\"residuals.png\")"
   ]
  },
  {
   "cell_type": "code",
   "execution_count": 13,
   "metadata": {
    "collapsed": false
   },
   "outputs": [
    {
     "data": {
      "text/plain": [
       "<PynPoint.Core.Pypeline.Pypeline at 0x9a8ae08c>"
      ]
     },
     "execution_count": 13,
     "metadata": {},
     "output_type": "execute_result"
    }
   ],
   "source": [
    "pipeline"
   ]
  },
  {
   "cell_type": "code",
   "execution_count": 19,
   "metadata": {
    "collapsed": false
   },
   "outputs": [
    {
     "ename": "NameError",
     "evalue": "name 'residuals' is not defined",
     "output_type": "error",
     "traceback": [
      "\u001b[1;31m---------------------------------------------------------------------------\u001b[0m",
      "\u001b[1;31mNameError\u001b[0m                                 Traceback (most recent call last)",
      "\u001b[1;32m<ipython-input-19-2a245e89bc92>\u001b[0m in \u001b[0;36m<module>\u001b[1;34m()\u001b[0m\n\u001b[1;32m----> 1\u001b[1;33m \u001b[0mnp\u001b[0m\u001b[1;33m.\u001b[0m\u001b[0msize\u001b[0m\u001b[1;33m(\u001b[0m\u001b[0mresiduals\u001b[0m\u001b[1;33m)\u001b[0m\u001b[1;33m\u001b[0m\u001b[0m\n\u001b[0m",
      "\u001b[1;31mNameError\u001b[0m: name 'residuals' is not defined"
     ]
    }
   ],
   "source": [
    "np.size(residuals)"
   ]
  },
  {
   "cell_type": "code",
   "execution_count": 10,
   "metadata": {
    "collapsed": false
   },
   "outputs": [
    {
     "name": "stderr",
     "output_type": "stream",
     "text": [
      "/home/unasemaje/anaconda3/envs/py27/lib/python2.7/site-packages/PynPoint/Core/Pypeline.py:257: UserWarning: Processing module names need to be unique. Overwriting module 'fits_write'.\n",
      "  % module.name)\n"
     ]
    }
   ],
   "source": [
    "pipeline.add_module(writefits)"
   ]
  },
  {
   "cell_type": "code",
   "execution_count": 11,
   "metadata": {
    "collapsed": false
   },
   "outputs": [
    {
     "name": "stdout",
     "output_type": "stream",
     "text": [
      "Running FitsWritingModule... [DONE]\n"
     ]
    }
   ],
   "source": [
    "writefits.run()"
   ]
  },
  {
   "cell_type": "code",
   "execution_count": null,
   "metadata": {
    "collapsed": true
   },
   "outputs": [],
   "source": []
  }
 ],
 "metadata": {
  "kernelspec": {
   "display_name": "Python 2",
   "language": "python",
   "name": "python2"
  },
  "language_info": {
   "codemirror_mode": {
    "name": "ipython",
    "version": 2
   },
   "file_extension": ".py",
   "mimetype": "text/x-python",
   "name": "python",
   "nbconvert_exporter": "python",
   "pygments_lexer": "ipython2",
   "version": "2.7.11"
  }
 },
 "nbformat": 4,
 "nbformat_minor": 2
}
