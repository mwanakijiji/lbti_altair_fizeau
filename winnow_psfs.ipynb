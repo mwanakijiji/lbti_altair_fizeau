{
 "cells": [
  {
   "cell_type": "code",
   "execution_count": null,
   "metadata": {},
   "outputs": [],
   "source": [
    "# This reads in\n",
    "# 1. FITS header information\n",
    "# 2. FFT information about the PSF\n",
    "# ... in order to figure out whether a Fizeau PSF consists of\n",
    "# well-overlapped Airy PSFs that are stable other than phase diversity\n",
    "\n",
    "# created 2018 Nov 26 by E.S."
   ]
  },
  {
   "cell_type": "code",
   "execution_count": 1,
   "metadata": {},
   "outputs": [],
   "source": [
    "# Import stuff\n",
    "\n",
    "import os\n",
    "import numpy as np\n",
    "import matplotlib.pyplot as plt\n",
    "import scipy\n",
    "from astropy.io import fits\n",
    "import pandas as pd\n",
    "from datetime import datetime\n",
    "%matplotlib inline"
   ]
  },
  {
   "cell_type": "code",
   "execution_count": 2,
   "metadata": {},
   "outputs": [
    {
     "name": "stderr",
     "output_type": "stream",
     "text": [
      "/home/unasemaje/anaconda3/envs/py27/lib/python2.7/site-packages/IPython/core/interactiveshell.py:2714: DtypeWarning: Columns (13,80,81,84,88,92,149) have mixed types. Specify dtype option on import or set low_memory=False.\n",
      "  interactivity=interactivity, compiler=compiler, result=result)\n"
     ]
    }
   ],
   "source": [
    "# Read in the metadata file of FITS header information\n",
    "\n",
    "fits_table = pd.read_csv('fizeau_altair_180507_metadata.csv')\n",
    "\n",
    "# sort table by frame number (a few are out of order)\n",
    "fits_table.sort_values([\"FRAMENUM\"], inplace=True)\n",
    "fits_table = fits_table.reset_index(drop=True) # reset indices and don't keep the old ones"
   ]
  },
  {
   "cell_type": "code",
   "execution_count": 3,
   "metadata": {},
   "outputs": [],
   "source": [
    "# Read in the PSF FFT information\n",
    "\n",
    "fft_table = pd.read_csv('fizeau_altair_180507_psf_fft_info.csv')"
   ]
  },
  {
   "cell_type": "code",
   "execution_count": null,
   "metadata": {},
   "outputs": [],
   "source": [
    "# apply cutoffs and generate list of frame numbers that pass\n",
    "\n",
    "# FITs keys cutoffs:\n",
    "\n",
    "# [\"PCCLOSED\"]==1\n",
    "# [\"LLOOPON\"]==1\n",
    "# [\"RLOOPON\"]==1\n",
    "# [\"ACTEXP\"]==\"145976\"\n",
    "# [\"LMIR_FW1\"]==\"94800\"\n",
    "# [\"LMIR_FW2\"]==\"ND1.0-T10\"\n",
    "# [\"LMIRFW25\"]==\"Lspec2.8-4.0\" OR \"Open\" (may have to keep these filters distinct later)\n",
    "# [\"LMIR_FW3\"]==\"Lgrism6AR\"\n",
    "# [\"LMIR_FW4\"]==\"Br-Alpha-On\""
   ]
  },
  {
   "cell_type": "code",
   "execution_count": null,
   "metadata": {},
   "outputs": [],
   "source": [
    "# now, make two lists of frame numbers sieved from the previous list:\n",
    "# 1.  one of frame numbers which meet the FFT cutoff of there being\n",
    "#     enough power in the high-freq nodes (use plots I already made)\n",
    "# 2.  one of frame numbers which do NOT meet that (can I see poor Airy \n",
    "#     overlap Phil is worried about?)\n",
    "\n",
    "# (let the Fizeau PSF phase vary for now)"
   ]
  },
  {
   "cell_type": "code",
   "execution_count": null,
   "metadata": {},
   "outputs": [],
   "source": [
    "fft_table[\"\"]"
   ]
  },
  {
   "cell_type": "code",
   "execution_count": 4,
   "metadata": {},
   "outputs": [
    {
     "data": {
      "text/plain": [
       "Index([u'framenum', u'ampl_med_highFreqPerfect_L',\n",
       "       u'ampl_med_highFreqPerfect_R', u'ampl_med_lowFreqPerfect',\n",
       "       u'ampl_med_rect', u'ampl_normVec_highFreqPerfect_L_x',\n",
       "       u'ampl_normVec_highFreqPerfect_L_y',\n",
       "       u'ampl_normVec_highFreqPerfect_R_x',\n",
       "       u'ampl_normVec_highFreqPerfect_R_y', u'ampl_normVec_lowFreqPerfect_x',\n",
       "       u'ampl_normVec_lowFreqPerfect_y', u'ampl_normVec_rect_x',\n",
       "       u'ampl_normVec_rect_y', u'phase_med_highFreqPerfect_L',\n",
       "       u'phase_med_highFreqPerfect_R', u'phase_med_lowFreqPerfect',\n",
       "       u'phase_med_rect', u'phase_normVec_highFreqPerfect_L_x',\n",
       "       u'phase_normVec_highFreqPerfect_L_y',\n",
       "       u'phase_normVec_highFreqPerfect_R_x',\n",
       "       u'phase_normVec_highFreqPerfect_R_y', u'phase_normVec_lowFreqPerfect_x',\n",
       "       u'phase_normVec_lowFreqPerfect_y', u'phase_normVec_rect_x',\n",
       "       u'phase_normVec_rect_y'],\n",
       "      dtype='object')"
      ]
     },
     "execution_count": 4,
     "metadata": {},
     "output_type": "execute_result"
    }
   ],
   "source": [
    "fft_table.keys()"
   ]
  },
  {
   "cell_type": "code",
   "execution_count": 8,
   "metadata": {},
   "outputs": [
    {
     "data": {
      "image/png": "[encoded data removed]",
      "text/plain": [
       "<Figure size 432x288 with 1 Axes>"
      ]
     },
     "metadata": {
      "needs_background": "light"
     },
     "output_type": "display_data"
    }
   ],
   "source": [
    "plt.scatter(fft_table['framenum'],fft_table['ampl_normVec_lowFreqPerfect_x'])\n",
    "plt.ylim([0,1E-9])\n",
    "plt.show()"
   ]
  },
  {
   "cell_type": "code",
   "execution_count": null,
   "metadata": {},
   "outputs": [],
   "source": []
  }
 ],
 "metadata": {
  "kernelspec": {
   "display_name": "Python 2",
   "language": "python",
   "name": "python2"
  },
  "language_info": {
   "codemirror_mode": {
    "name": "ipython",
    "version": 2
   },
   "file_extension": ".py",
   "mimetype": "text/x-python",
   "name": "python",
   "nbconvert_exporter": "python",
   "pygments_lexer": "ipython2",
   "version": "2.7.15"
  }
 },
 "nbformat": 4,
 "nbformat_minor": 2
}
